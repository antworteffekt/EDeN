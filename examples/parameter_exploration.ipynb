{
 "metadata": {
  "name": "",
  "signature": "sha256:9e6b6133069af2bd9b518ebd246b030e5c366d27307931971e86f728a74efcd2"
 },
 "nbformat": 3,
 "nbformat_minor": 0,
 "worksheets": [
  {
   "cells": [
    {
     "cell_type": "code",
     "collapsed": false,
     "input": [
      "%pylab inline"
     ],
     "language": "python",
     "metadata": {},
     "outputs": [
      {
       "output_type": "stream",
       "stream": "stdout",
       "text": [
        "Populating the interactive namespace from numpy and matplotlib\n"
       ]
      }
     ],
     "prompt_number": 1
    },
    {
     "cell_type": "code",
     "collapsed": false,
     "input": [
      "from eden import graph\n",
      "from eden.util import io\n",
      "from eden.converters import gspan"
     ],
     "language": "python",
     "metadata": {},
     "outputs": [],
     "prompt_number": 2
    },
    {
     "cell_type": "code",
     "collapsed": false,
     "input": [
      "from sklearn.linear_model import SGDClassifier\n",
      "from sklearn.grid_search import RandomizedSearchCV\n",
      "from sklearn import cross_validation\n",
      "\n",
      "from scipy.stats import randint\n",
      "from scipy.stats import uniform\n",
      "\n",
      "import numpy as np\n",
      "from scipy import stats\n",
      "\n",
      "import time"
     ],
     "language": "python",
     "metadata": {},
     "outputs": [],
     "prompt_number": 3
    },
    {
     "cell_type": "code",
     "collapsed": false,
     "input": [
      "input_data_url='http://www.bioinf.uni-freiburg.de/~costa/bursi.gspan'\n",
      "input_target_url='http://www.bioinf.uni-freiburg.de/~costa/bursi.target'"
     ],
     "language": "python",
     "metadata": {},
     "outputs": [],
     "prompt_number": 4
    },
    {
     "cell_type": "code",
     "collapsed": false,
     "input": [
      "#quick parameter analysis\n",
      "y=io.load_target(input_target_url)\n",
      "print('Target size:%d' % y.shape[0])\n",
      "print('Target classes:%d' % len(set(y)))\n",
      "\n",
      "\n",
      "clf = SGDClassifier()\n",
      "\n",
      "\n",
      "results = []\n",
      "for max_radius in range(2,8):\n",
      "    for max_distance in [0,int(max_radius/2),max_radius, max_radius*2]:\n",
      "        t0 = time.clock()\n",
      " \n",
      "        vec=graph.vectorizer(r=max_radius,d=max_distance)\n",
      "        g_it=gspan.gspan_to_eden(input_data_url)\n",
      "        X=vec.transform(g_it)\n",
      "\n",
      "        scores = cross_validation.cross_val_score(clf, X, y,cv=10, scoring='roc_auc')\n",
      " \n",
      "        #results \n",
      "        perf=np.mean(scores)\n",
      "        std=np.std(scores)\n",
      "        dt=time.clock() - t0\n",
      "        err=1/(1-perf)\n",
      "        result={'perf':perf, 'std':std, 'dt':dt, 'err':err, 'r':max_radius, 'd':max_distance}\n",
      "        results.append(result)\n",
      "        print('r=%d d=%d AUCROC=%.4f (+- %.4f) runtime=%.1f sec' % (max_radius, max_distance, perf,std,dt))"
     ],
     "language": "python",
     "metadata": {},
     "outputs": [
      {
       "output_type": "stream",
       "stream": "stdout",
       "text": [
        "Target size:4337\n",
        "Target classes:2\n",
        "r=2 d=0 AUCROC=0.8833 (+- 0.0142) runtime=15.7 sec"
       ]
      },
      {
       "output_type": "stream",
       "stream": "stdout",
       "text": [
        "\n",
        "r=2 d=1 AUCROC=0.8942 (+- 0.0137) runtime=23.4 sec"
       ]
      },
      {
       "output_type": "stream",
       "stream": "stdout",
       "text": [
        "\n",
        "r=2 d=2 AUCROC=0.8963 (+- 0.0150) runtime=34.0 sec"
       ]
      },
      {
       "output_type": "stream",
       "stream": "stdout",
       "text": [
        "\n",
        "r=2 d=4 AUCROC=0.8987 (+- 0.0143) runtime=62.0 sec"
       ]
      },
      {
       "output_type": "stream",
       "stream": "stdout",
       "text": [
        "\n",
        "r=3 d=0 AUCROC=0.8991 (+- 0.0157) runtime=20.3 sec"
       ]
      },
      {
       "output_type": "stream",
       "stream": "stdout",
       "text": [
        "\n",
        "r=3 d=1 AUCROC=0.9000 (+- 0.0146) runtime=30.8 sec"
       ]
      },
      {
       "output_type": "stream",
       "stream": "stdout",
       "text": [
        "\n",
        "r=3 d=3 AUCROC=0.9071 (+- 0.0133) runtime=63.7 sec"
       ]
      },
      {
       "output_type": "stream",
       "stream": "stdout",
       "text": [
        "\n",
        "r=3 d=6 AUCROC=0.9051 (+- 0.0148) runtime=114.3 sec"
       ]
      },
      {
       "output_type": "stream",
       "stream": "stdout",
       "text": [
        "\n",
        "r=4 d=0 AUCROC=0.9021 (+- 0.0165) runtime=24.1 sec"
       ]
      },
      {
       "output_type": "stream",
       "stream": "stdout",
       "text": [
        "\n",
        "r=4 d=2 AUCROC=0.9055 (+- 0.0168) runtime=58.7 sec"
       ]
      },
      {
       "output_type": "stream",
       "stream": "stdout",
       "text": [
        "\n",
        "r=4 d=4 AUCROC=0.9076 (+- 0.0139) runtime=103.8 sec"
       ]
      },
      {
       "output_type": "stream",
       "stream": "stdout",
       "text": [
        "\n",
        "r=4 d=8 AUCROC=0.9081 (+- 0.0149) runtime=187.1 sec"
       ]
      },
      {
       "output_type": "stream",
       "stream": "stdout",
       "text": [
        "\n",
        "r=5 d=0 AUCROC=0.9051 (+- 0.0136) runtime=27.7 sec"
       ]
      },
      {
       "output_type": "stream",
       "stream": "stdout",
       "text": [
        "\n",
        "r=5 d=2 AUCROC=0.9066 (+- 0.0134) runtime=70.0 sec"
       ]
      },
      {
       "output_type": "stream",
       "stream": "stdout",
       "text": [
        "\n",
        "r=5 d=5 AUCROC=0.9084 (+- 0.0125) runtime=159.5 sec"
       ]
      },
      {
       "output_type": "stream",
       "stream": "stdout",
       "text": [
        "\n",
        "r=5 d=10 AUCROC=0.9079 (+- 0.0136) runtime=267.2 sec"
       ]
      },
      {
       "output_type": "stream",
       "stream": "stdout",
       "text": [
        "\n",
        "r=6 d=0 AUCROC=0.9065 (+- 0.0130) runtime=30.5 sec"
       ]
      },
      {
       "output_type": "stream",
       "stream": "stdout",
       "text": [
        "\n",
        "r=6 d=3 AUCROC=0.9092 (+- 0.0125) runtime=115.7 sec"
       ]
      },
      {
       "output_type": "stream",
       "stream": "stdout",
       "text": [
        "\n",
        "r=6 d=6 AUCROC=0.9104 (+- 0.0124) runtime=227.7 sec"
       ]
      },
      {
       "output_type": "stream",
       "stream": "stdout",
       "text": [
        "\n",
        "r=6 d=12 AUCROC=0.9073 (+- 0.0130) runtime=352.7 sec"
       ]
      },
      {
       "output_type": "stream",
       "stream": "stdout",
       "text": [
        "\n",
        "r=7 d=0 AUCROC=0.9052 (+- 0.0132) runtime=32.8 sec"
       ]
      },
      {
       "output_type": "stream",
       "stream": "stdout",
       "text": [
        "\n",
        "r=7 d=3 AUCROC=0.9094 (+- 0.0129) runtime=130.2 sec"
       ]
      },
      {
       "output_type": "stream",
       "stream": "stdout",
       "text": [
        "\n",
        "r=7 d=7 AUCROC=0.9110 (+- 0.0115) runtime=282.7 sec"
       ]
      },
      {
       "output_type": "stream",
       "stream": "stdout",
       "text": [
        "\n",
        "r=7 d=14 AUCROC=0.9068 (+- 0.0125) runtime=416.3 sec"
       ]
      },
      {
       "output_type": "stream",
       "stream": "stdout",
       "text": [
        "\n"
       ]
      }
     ],
     "prompt_number": 5
    },
    {
     "cell_type": "code",
     "collapsed": false,
     "input": [
      "#plot\n",
      "plt.figure(figsize=(10,10))\n",
      "plt.grid(True)\n",
      "for result in results:\n",
      "    label='r:%d d:%d \\np:%.3f'%(result['r'],result['d'],result['perf'])\n",
      "    x2=result['dt']\n",
      "    y2=result['err']\n",
      "    plt.annotate(label,xy = (x2, y2), xytext = (-20, -25), textcoords = 'offset points')   \n",
      "plt.scatter([result['dt'] for result in results],[result['err'] for result in results])\n",
      "plt.show()"
     ],
     "language": "python",
     "metadata": {},
     "outputs": [
      {
       "metadata": {},
       "output_type": "display_data",
       "png": "[encoded data removed]",
       "text": [
        "<matplotlib.figure.Figure at 0x4118d10>"
       ]
      }
     ],
     "prompt_number": 6
    },
    {
     "cell_type": "code",
     "collapsed": false,
     "input": [
      "#optimal parameter analysis\n",
      "y=io.load_target(input_target_url)\n",
      "print('Target size:%d' % y.shape[0])\n",
      "print('Target classes:%d' % len(set(y)))\n",
      "\n",
      "\n",
      "clf = SGDClassifier()\n",
      "\n",
      "\n",
      "param_dist = {\"n_iter\": randint(5, 100),\n",
      "              \"power_t\": uniform(0.1),\n",
      "              \"alpha\": uniform(1e-08,1e-03),\n",
      "              \"eta0\" : uniform(1e-03,10),\n",
      "              \"penalty\": [\"l1\", \"l2\", \"elasticnet\"],\n",
      "              \"learning_rate\": [\"invscaling\", \"constant\",\"optimal\"]}\n",
      "\n",
      "results = []\n",
      "for max_radius in range(2,8):\n",
      "    for max_distance in [0,int(max_radius/2),max_radius, max_radius*2]:\n",
      "        t0 = time.clock()\n",
      "        \n",
      "        #feature creation\n",
      "        vec=graph.vectorizer(r=max_radius,d=max_distance)\n",
      "        g_it=gspan.gspan_to_eden(input_data_url)\n",
      "        X=vec.transform(g_it)\n",
      "\n",
      " \n",
      "        #parameter optimisation\n",
      "        n_iter_search = 20\n",
      "        random_search = RandomizedSearchCV(clf,param_distributions=param_dist,n_iter=n_iter_search,cv=3,scoring='roc_auc')\n",
      "        random_search.fit(X, y)\n",
      "        optclf = SGDClassifier(**random_search.best_params_)\n",
      "        scores = cross_validation.cross_val_score(optclf, X, y,cv=10, scoring='roc_auc')\n",
      "        \n",
      "        #performance results \n",
      "        dt=time.clock() - t0\n",
      "        \n",
      "        perf=np.mean(scores)\n",
      "        std=np.std(scores)\n",
      "        err=1/(1-perf)\n",
      "        result={'perf':perf, 'std':std, 'dt':dt, 'err':err, 'r':max_radius, 'd':max_distance}\n",
      "        results.append(result)\n",
      "        print('r=%d d=%d AUCROC=%.4f (+- %.4f) runtime=%.1f sec' % (max_radius, max_distance, perf,std,dt))"
     ],
     "language": "python",
     "metadata": {},
     "outputs": [
      {
       "output_type": "stream",
       "stream": "stdout",
       "text": [
        "Target size:4337\n",
        "Target classes:2\n",
        "r=2 d=0 AUCROC=0.8954 (+- 0.0149) runtime=43.1 sec"
       ]
      },
      {
       "output_type": "stream",
       "stream": "stdout",
       "text": [
        "\n",
        "r=2 d=1 AUCROC=0.9033 (+- 0.0116) runtime=52.3 sec"
       ]
      },
      {
       "output_type": "stream",
       "stream": "stdout",
       "text": [
        "\n",
        "r=2 d=2 AUCROC=0.9044 (+- 0.0119) runtime=80.7 sec"
       ]
      },
      {
       "output_type": "stream",
       "stream": "stdout",
       "text": [
        "\n",
        "r=2 d=4 AUCROC=0.9097 (+- 0.0110) runtime=120.3 sec"
       ]
      },
      {
       "output_type": "stream",
       "stream": "stdout",
       "text": [
        "\n",
        "r=3 d=0 AUCROC=0.9127 (+- 0.0125) runtime=50.2 sec"
       ]
      },
      {
       "output_type": "stream",
       "stream": "stdout",
       "text": [
        "\n",
        "r=3 d=1 AUCROC=0.9078 (+- 0.0114) runtime=79.7 sec"
       ]
      },
      {
       "output_type": "stream",
       "stream": "stdout",
       "text": [
        "\n",
        "r=3 d=3 AUCROC=0.9141 (+- 0.0116) runtime=213.8 sec"
       ]
      },
      {
       "output_type": "stream",
       "stream": "stdout",
       "text": [
        "\n",
        "r=3 d=6 AUCROC=0.9030 (+- 0.0122) runtime=278.3 sec"
       ]
      },
      {
       "output_type": "stream",
       "stream": "stdout",
       "text": [
        "\n",
        "r=4 d=0 AUCROC=0.9149 (+- 0.0118) runtime=53.4 sec"
       ]
      },
      {
       "output_type": "stream",
       "stream": "stdout",
       "text": [
        "\n",
        "r=4 d=2 AUCROC=0.9125 (+- 0.0133) runtime=162.3 sec"
       ]
      },
      {
       "output_type": "stream",
       "stream": "stdout",
       "text": [
        "\n",
        "r=4 d=4 AUCROC=0.9148 (+- 0.0109) runtime=324.3 sec"
       ]
      },
      {
       "output_type": "stream",
       "stream": "stdout",
       "text": [
        "\n",
        "r=4 d=8 AUCROC=0.9175 (+- 0.0117) runtime=398.3 sec"
       ]
      },
      {
       "output_type": "stream",
       "stream": "stdout",
       "text": [
        "\n",
        "r=5 d=0 AUCROC=0.9108 (+- 0.0113) runtime=59.9 sec"
       ]
      },
      {
       "output_type": "stream",
       "stream": "stdout",
       "text": [
        "\n",
        "r=5 d=2 AUCROC=0.9146 (+- 0.0106) runtime=208.9 sec"
       ]
      },
      {
       "output_type": "stream",
       "stream": "stdout",
       "text": [
        "\n",
        "r=5 d=5 AUCROC=0.8933 (+- 0.0119) runtime=473.4 sec"
       ]
      },
      {
       "output_type": "stream",
       "stream": "stdout",
       "text": [
        "\n",
        "r=5 d=10 AUCROC=0.8892 (+- 0.0135) runtime=684.2 sec"
       ]
      },
      {
       "output_type": "stream",
       "stream": "stdout",
       "text": [
        "\n",
        "r=6 d=0 AUCROC=0.8772 (+- 0.0132) runtime=84.0 sec"
       ]
      },
      {
       "output_type": "stream",
       "stream": "stdout",
       "text": [
        "\n",
        "r=6 d=3 AUCROC=0.8999 (+- 0.0148) runtime=409.6 sec"
       ]
      },
      {
       "output_type": "stream",
       "stream": "stdout",
       "text": [
        "\n",
        "r=6 d=6 AUCROC=0.9155 (+- 0.0122) runtime=651.7 sec"
       ]
      },
      {
       "output_type": "stream",
       "stream": "stdout",
       "text": [
        "\n",
        "r=6 d=12 AUCROC=0.9155 (+- 0.0122) runtime=953.9 sec"
       ]
      },
      {
       "output_type": "stream",
       "stream": "stdout",
       "text": [
        "\n",
        "r=7 d=0 AUCROC=0.9086 (+- 0.0112) runtime=71.5 sec"
       ]
      },
      {
       "output_type": "stream",
       "stream": "stdout",
       "text": [
        "\n",
        "r=7 d=3 AUCROC=0.9169 (+- 0.0118) runtime=450.0 sec"
       ]
      },
      {
       "output_type": "stream",
       "stream": "stdout",
       "text": [
        "\n",
        "r=7 d=7 AUCROC=0.9172 (+- 0.0117) runtime=869.2 sec"
       ]
      },
      {
       "output_type": "stream",
       "stream": "stdout",
       "text": [
        "\n",
        "r=7 d=14 AUCROC=0.9124 (+- 0.0121) runtime=1044.8 sec"
       ]
      },
      {
       "output_type": "stream",
       "stream": "stdout",
       "text": [
        "\n"
       ]
      }
     ],
     "prompt_number": 7
    },
    {
     "cell_type": "code",
     "collapsed": false,
     "input": [
      "#plot\n",
      "plt.figure(figsize=(10,10))\n",
      "plt.grid(True)\n",
      "for result in results:\n",
      "    label='r:%d d:%d \\np:%.3f'%(result['r'],result['d'],result['perf'])\n",
      "    x2=result['dt']\n",
      "    y2=result['err']\n",
      "    plt.annotate(label,xy = (x2, y2), xytext = (-20, -25), textcoords = 'offset points')   \n",
      "plt.scatter([result['dt'] for result in results],[result['err'] for result in results])\n",
      "plt.show()"
     ],
     "language": "python",
     "metadata": {},
     "outputs": [
      {
       "metadata": {},
       "output_type": "display_data",
       "png": "[encoded data removed]",
       "text": [
        "<matplotlib.figure.Figure at 0x182d78d0>"
       ]
      }
     ],
     "prompt_number": 8
    }
   ],
   "metadata": {}
  }
 ]
}