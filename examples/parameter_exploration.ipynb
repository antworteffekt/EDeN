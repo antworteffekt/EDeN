{
 "metadata": {
  "name": "",
  "signature": "sha256:cb4ea5ce9e9548331b62b0f5855f67a27849b44bf8284614cba72d0a8321694a"
 },
 "nbformat": 3,
 "nbformat_minor": 0,
 "worksheets": [
  {
   "cells": [
    {
     "cell_type": "code",
     "collapsed": false,
     "input": [
      "%pylab inline"
     ],
     "language": "python",
     "metadata": {},
     "outputs": [
      {
       "output_type": "stream",
       "stream": "stdout",
       "text": [
        "Populating the interactive namespace from numpy and matplotlib\n"
       ]
      }
     ],
     "prompt_number": 1
    },
    {
     "cell_type": "code",
     "collapsed": false,
     "input": [
      "from eden import graph\n",
      "from eden.util import io\n",
      "from eden.converters import gspan"
     ],
     "language": "python",
     "metadata": {},
     "outputs": [],
     "prompt_number": 2
    },
    {
     "cell_type": "code",
     "collapsed": false,
     "input": [
      "from sklearn.linear_model import SGDClassifier\n",
      "from sklearn.grid_search import RandomizedSearchCV\n",
      "from sklearn import cross_validation\n",
      "\n",
      "from scipy.stats import randint\n",
      "from scipy.stats import uniform\n",
      "\n",
      "import numpy as np\n",
      "from scipy import stats\n",
      "\n",
      "import time"
     ],
     "language": "python",
     "metadata": {},
     "outputs": [],
     "prompt_number": 3
    },
    {
     "cell_type": "code",
     "collapsed": false,
     "input": [
      "input_data_url='http://www.bioinf.uni-freiburg.de/~costa/bursi.gspan'\n",
      "input_target_url='http://www.bioinf.uni-freiburg.de/~costa/bursi.target'"
     ],
     "language": "python",
     "metadata": {},
     "outputs": []
    },
    {
     "cell_type": "code",
     "collapsed": false,
     "input": [
      "#quick parameter analysis\n",
      "y=io.load_target(input_target_url)\n",
      "print('Target size:%d' % y.shape[0])\n",
      "print('Target classes:%d' % len(set(y)))\n",
      "\n",
      "\n",
      "clf = SGDClassifier()\n",
      "\n",
      "\n",
      "results = []\n",
      "for max_radius in range(2,8):\n",
      "    for max_distance in [0,int(max_radius/2),max_radius, max_radius*2]:\n",
      "        t0 = time.clock()\n",
      " \n",
      "        vec=graph.Vectorizer(r=max_radius,d=max_distance)\n",
      "        g_it=gspan.gspan_to_eden(input_data_url)\n",
      "        X=vec.transform(g_it)\n",
      "\n",
      "        scores = cross_validation.cross_val_score(clf, X, y,cv=10, scoring='roc_auc')\n",
      " \n",
      "        #results \n",
      "        perf=np.mean(scores)\n",
      "        std=np.std(scores)\n",
      "        dt=time.clock() - t0\n",
      "        err=1/(1-perf)\n",
      "        result={'perf':perf, 'std':std, 'dt':dt, 'err':err, 'r':max_radius, 'd':max_distance}\n",
      "        results.append(result)\n",
      "        print('r=%d d=%d AUCROC=%.4f (+- %.4f) runtime=%.1f sec' % (max_radius, max_distance, perf,std,dt))"
     ],
     "language": "python",
     "metadata": {},
     "outputs": [
      {
       "output_type": "stream",
       "stream": "stdout",
       "text": [
        "Target size:4337\n",
        "Target classes:2\n",
        "r=2 d=0 AUCROC=0.8833 (+- 0.0142) runtime=15.8 sec"
       ]
      },
      {
       "output_type": "stream",
       "stream": "stdout",
       "text": [
        "\n",
        "r=2 d=1 AUCROC=0.8942 (+- 0.0137) runtime=23.6 sec"
       ]
      }
     ]
    },
    {
     "cell_type": "code",
     "collapsed": false,
     "input": [
      "#plot\n",
      "plt.figure(figsize=(10,10))\n",
      "plt.grid(True)\n",
      "for result in results:\n",
      "    label='r:%d d:%d \\np:%.3f'%(result['r'],result['d'],result['perf'])\n",
      "    x2=result['dt']\n",
      "    y2=result['err']\n",
      "    plt.annotate(label,xy = (x2, y2), xytext = (-20, -25), textcoords = 'offset points')   \n",
      "plt.scatter([result['dt'] for result in results],[result['err'] for result in results])\n",
      "plt.show()"
     ],
     "language": "python",
     "metadata": {},
     "outputs": []
    },
    {
     "cell_type": "code",
     "collapsed": false,
     "input": [
      "#optimal parameter analysis\n",
      "y=io.load_target(input_target_url)\n",
      "print('Target size:%d' % y.shape[0])\n",
      "print('Target classes:%d' % len(set(y)))\n",
      "\n",
      "\n",
      "clf = SGDClassifier()\n",
      "\n",
      "\n",
      "param_dist = {\"n_iter\": randint(5, 100),\n",
      "              \"power_t\": uniform(0.1),\n",
      "              \"alpha\": uniform(1e-08,1e-03),\n",
      "              \"eta0\" : uniform(1e-03,10),\n",
      "              \"penalty\": [\"l1\", \"l2\", \"elasticnet\"],\n",
      "              \"learning_rate\": [\"invscaling\", \"constant\",\"optimal\"]}\n",
      "\n",
      "results = []\n",
      "for max_radius in range(2,8):\n",
      "    for max_distance in [0,int(max_radius/2),max_radius, max_radius*2]:\n",
      "        t0 = time.clock()\n",
      "        \n",
      "        #feature creation\n",
      "        vec=graph.Vectorizer(r=max_radius,d=max_distance)\n",
      "        g_it=gspan.gspan_to_eden(input_data_url)\n",
      "        X=vec.transform(g_it)\n",
      "\n",
      " \n",
      "        #parameter optimisation\n",
      "        n_iter_search = 20\n",
      "        random_search = RandomizedSearchCV(clf,param_distributions=param_dist,n_iter=n_iter_search,cv=3,scoring='roc_auc')\n",
      "        random_search.fit(X, y)\n",
      "        optclf = SGDClassifier(**random_search.best_params_)\n",
      "        scores = cross_validation.cross_val_score(optclf, X, y,cv=10, scoring='roc_auc')\n",
      "        \n",
      "        #performance results \n",
      "        dt=time.clock() - t0\n",
      "        \n",
      "        perf=np.mean(scores)\n",
      "        std=np.std(scores)\n",
      "        err=1/(1-perf)\n",
      "        result={'perf':perf, 'std':std, 'dt':dt, 'err':err, 'r':max_radius, 'd':max_distance}\n",
      "        results.append(result)\n",
      "        print('r=%d d=%d AUCROC=%.4f (+- %.4f) runtime=%.1f sec' % (max_radius, max_distance, perf,std,dt))"
     ],
     "language": "python",
     "metadata": {},
     "outputs": []
    },
    {
     "cell_type": "code",
     "collapsed": false,
     "input": [
      "#plot\n",
      "plt.figure(figsize=(10,10))\n",
      "plt.grid(True)\n",
      "for result in results:\n",
      "    label='r:%d d:%d \\np:%.3f'%(result['r'],result['d'],result['perf'])\n",
      "    x2=result['dt']\n",
      "    y2=result['err']\n",
      "    plt.annotate(label,xy = (x2, y2), xytext = (-20, -25), textcoords = 'offset points')   \n",
      "plt.scatter([result['dt'] for result in results],[result['err'] for result in results])\n",
      "plt.show()"
     ],
     "language": "python",
     "metadata": {},
     "outputs": []
    }
   ],
   "metadata": {}
  }
 ]
}