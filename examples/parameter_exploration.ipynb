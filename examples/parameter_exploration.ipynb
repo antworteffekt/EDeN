{
 "metadata": {
  "name": "",
  "signature": "sha256:5e2e3ef4d7e9a0c68ebec12fc9f9b62a5a4397599be2bed160bfb4dab3680db5"
 },
 "nbformat": 3,
 "nbformat_minor": 0,
 "worksheets": [
  {
   "cells": [
    {
     "cell_type": "code",
     "collapsed": false,
     "input": [
      "%pylab inline"
     ],
     "language": "python",
     "metadata": {},
     "outputs": [
      {
       "output_type": "stream",
       "stream": "stdout",
       "text": [
        "Populating the interactive namespace from numpy and matplotlib\n"
       ]
      }
     ],
     "prompt_number": 1
    },
    {
     "cell_type": "code",
     "collapsed": false,
     "input": [
      "from eden import graph\n",
      "from eden.util import eden_io\n",
      "from eden.converter.graph import gspan"
     ],
     "language": "python",
     "metadata": {},
     "outputs": [],
     "prompt_number": 2
    },
    {
     "cell_type": "code",
     "collapsed": false,
     "input": [
      "from sklearn.linear_model import SGDClassifier\n",
      "from sklearn.grid_search import RandomizedSearchCV\n",
      "from sklearn import cross_validation\n",
      "\n",
      "from scipy.stats import randint\n",
      "from scipy.stats import uniform\n",
      "\n",
      "import numpy as np\n",
      "from scipy import stats\n",
      "\n",
      "import time"
     ],
     "language": "python",
     "metadata": {},
     "outputs": [],
     "prompt_number": 3
    },
    {
     "cell_type": "code",
     "collapsed": false,
     "input": [
      "input_data_url='http://www.bioinf.uni-freiburg.de/~costa/bursi.gspan'\n",
      "input_target_url='http://www.bioinf.uni-freiburg.de/~costa/bursi.target'"
     ],
     "language": "python",
     "metadata": {},
     "outputs": [],
     "prompt_number": 4
    },
    {
     "cell_type": "code",
     "collapsed": false,
     "input": [
      "y=eden_io.load_target(input_target_url)\n",
      "print('Target size:%d' % y.shape[0])\n",
      "print('Target classes:%d' % len(set(y)))"
     ],
     "language": "python",
     "metadata": {},
     "outputs": [
      {
       "output_type": "stream",
       "stream": "stdout",
       "text": [
        "Target size:4337\n",
        "Target classes:2\n"
       ]
      }
     ],
     "prompt_number": 5
    },
    {
     "cell_type": "code",
     "collapsed": false,
     "input": [
      "%%time\n",
      "#quick parameter analysis\n",
      "clf = SGDClassifier()\n",
      "results = []\n",
      "for max_radius in range(2,8):\n",
      "    for max_distance in [0,int(max_radius/2),max_radius, max_radius*2]:\n",
      "        t0 = time.clock()\n",
      " \n",
      "        vec=graph.Vectorizer(r=max_radius,d=max_distance)\n",
      "        g_it=gspan.gspan_to_eden(input_data_url, 'url')\n",
      "        X=vec.transform(g_it, n_jobs=-1)\n",
      "\n",
      "        scores = cross_validation.cross_val_score(clf, X, y,cv=10, scoring='roc_auc', n_jobs=-1)\n",
      " \n",
      "        #results \n",
      "        perf=np.mean(scores)\n",
      "        std=np.std(scores)\n",
      "        dt=time.clock() - t0\n",
      "        err=1/(1-perf)\n",
      "        result={'perf':perf, 'std':std, 'dt':dt, 'err':err, 'r':max_radius, 'd':max_distance}\n",
      "        results.append(result)\n",
      "        print('r=%d d=%d AUCROC=%.4f (+- %.4f) runtime=%.1f sec' % (max_radius, max_distance, perf,std,dt))"
     ],
     "language": "python",
     "metadata": {},
     "outputs": [
      {
       "output_type": "stream",
       "stream": "stdout",
       "text": [
        "r=2 d=0 AUCROC=0.8834 (+- 0.0139) runtime=14.1 sec\n"
       ]
      },
      {
       "output_type": "stream",
       "stream": "stdout",
       "text": [
        "r=2 d=1 AUCROC=0.8931 (+- 0.0135) runtime=15.9 sec\n"
       ]
      },
      {
       "output_type": "stream",
       "stream": "stdout",
       "text": [
        "r=2 d=2 AUCROC=0.8972 (+- 0.0137) runtime=17.8 sec\n"
       ]
      },
      {
       "output_type": "stream",
       "stream": "stdout",
       "text": [
        "r=2 d=4 AUCROC=0.8992 (+- 0.0157) runtime=23.0 sec\n"
       ]
      },
      {
       "output_type": "stream",
       "stream": "stdout",
       "text": [
        "r=3 d=0 AUCROC=0.9000 (+- 0.0150) runtime=14.8 sec\n"
       ]
      },
      {
       "output_type": "stream",
       "stream": "stdout",
       "text": [
        "r=3 d=1 AUCROC=0.9014 (+- 0.0155) runtime=17.4 sec\n"
       ]
      },
      {
       "output_type": "stream",
       "stream": "stdout",
       "text": [
        "r=3 d=3 AUCROC=0.9050 (+- 0.0160) runtime=22.9 sec\n"
       ]
      },
      {
       "output_type": "stream",
       "stream": "stdout",
       "text": [
        "r=3 d=6 AUCROC=0.9059 (+- 0.0162) runtime=28.1 sec\n"
       ]
      },
      {
       "output_type": "stream",
       "stream": "stdout",
       "text": [
        "r=4 d=0 AUCROC=0.9027 (+- 0.0173) runtime=16.1 sec\n"
       ]
      },
      {
       "output_type": "stream",
       "stream": "stdout",
       "text": [
        "r=4 d=2 AUCROC=0.9051 (+- 0.0150) runtime=22.5 sec\n"
       ]
      },
      {
       "output_type": "stream",
       "stream": "stdout",
       "text": [
        "r=4 d=4 AUCROC=0.9085 (+- 0.0134) runtime=28.1 sec\n"
       ]
      },
      {
       "output_type": "stream",
       "stream": "stdout",
       "text": [
        "r=4 d=8 AUCROC=0.9089 (+- 0.0150) runtime=33.2 sec\n"
       ]
      },
      {
       "output_type": "stream",
       "stream": "stdout",
       "text": [
        "r=5 d=0 AUCROC=0.9063 (+- 0.0129) runtime=16.5 sec\n"
       ]
      },
      {
       "output_type": "stream",
       "stream": "stdout",
       "text": [
        "r=5 d=2 AUCROC=0.9062 (+- 0.0141) runtime=25.0 sec\n"
       ]
      },
      {
       "output_type": "stream",
       "stream": "stdout",
       "text": [
        "r=5 d=5 AUCROC=0.9092 (+- 0.0128) runtime=32.9 sec\n"
       ]
      },
      {
       "output_type": "stream",
       "stream": "stdout",
       "text": [
        "r=5 d=10 AUCROC=0.9087 (+- 0.0126) runtime=37.8 sec\n"
       ]
      },
      {
       "output_type": "stream",
       "stream": "stdout",
       "text": [
        "r=6 d=0 AUCROC=0.9058 (+- 0.0126) runtime=18.0 sec\n"
       ]
      },
      {
       "output_type": "stream",
       "stream": "stdout",
       "text": [
        "r=6 d=3 AUCROC=0.9080 (+- 0.0139) runtime=29.3 sec\n"
       ]
      },
      {
       "output_type": "stream",
       "stream": "stdout",
       "text": [
        "r=6 d=6 AUCROC=0.9088 (+- 0.0122) runtime=38.4 sec\n"
       ]
      },
      {
       "output_type": "stream",
       "stream": "stdout",
       "text": [
        "r=6 d=12 AUCROC=0.9073 (+- 0.0123) runtime=42.9 sec\n"
       ]
      },
      {
       "output_type": "stream",
       "stream": "stdout",
       "text": [
        "r=7 d=0 AUCROC=0.9058 (+- 0.0135) runtime=18.3 sec\n"
       ]
      },
      {
       "output_type": "stream",
       "stream": "stdout",
       "text": [
        "r=7 d=3 AUCROC=0.9094 (+- 0.0125) runtime=31.3 sec\n"
       ]
      },
      {
       "output_type": "stream",
       "stream": "stdout",
       "text": [
        "r=7 d=7 AUCROC=0.9092 (+- 0.0133) runtime=44.3 sec\n"
       ]
      },
      {
       "output_type": "stream",
       "stream": "stdout",
       "text": [
        "r=7 d=14 AUCROC=0.9070 (+- 0.0134) runtime=48.9 sec\n",
        "CPU times: user 9min 18s, sys: 1min 19s, total: 10min 37s\n",
        "Wall time: 16min 49s\n"
       ]
      }
     ],
     "prompt_number": 6
    },
    {
     "cell_type": "code",
     "collapsed": false,
     "input": [
      "#plot\n",
      "plt.figure(figsize=(10,10))\n",
      "plt.grid(True)\n",
      "for result in results:\n",
      "    label='r:%d d:%d \\np:%.3f'%(result['r'],result['d'],result['perf'])\n",
      "    x2=result['dt']\n",
      "    y2=result['err']\n",
      "    plt.annotate(label,xy = (x2, y2), xytext = (-20, -25), textcoords = 'offset points')   \n",
      "plt.scatter([result['dt'] for result in results],[result['err'] for result in results])\n",
      "plt.show()"
     ],
     "language": "python",
     "metadata": {},
     "outputs": [
      {
       "metadata": {},
       "output_type": "display_data",
       "png": "[encoded data removed]",
       "text": [
        "<matplotlib.figure.Figure at 0x1217728d0>"
       ]
      }
     ]
    },
    {
     "cell_type": "code",
     "collapsed": false,
     "input": [
      "#optimal parameter analysis\n",
      "clf = SGDClassifier()\n",
      "param_dist = {\"n_iter\": randint(5, 100),\n",
      "              \"power_t\": uniform(0.1),\n",
      "              \"alpha\": uniform(1e-08,1e-03),\n",
      "              \"eta0\" : uniform(1e-03,10),\n",
      "              \"penalty\": [\"l1\", \"l2\", \"elasticnet\"],\n",
      "              \"learning_rate\": [\"invscaling\", \"constant\",\"optimal\"]}\n",
      "\n",
      "results = []\n",
      "for max_radius in range(2,8):\n",
      "    for max_distance in [0,int(max_radius/2),max_radius, max_radius*2]:\n",
      "        t0 = time.clock()\n",
      "        \n",
      "        #feature creation\n",
      "        vec=graph.Vectorizer(r=max_radius,d=max_distance)\n",
      "        g_it=gspan.gspan_to_eden(input_data_url,'url')\n",
      "        X=vec.transform(g_it, n_jobs=-1)\n",
      "\n",
      " \n",
      "        #parameter optimisation\n",
      "        n_iter_search = 20\n",
      "        random_search = RandomizedSearchCV(clf,param_distributions=param_dist,n_iter=n_iter_search,cv=3,scoring='roc_auc', n_jobs=-1)\n",
      "        random_search.fit(X, y)\n",
      "        optclf = SGDClassifier(**random_search.best_params_)\n",
      "        scores = cross_validation.cross_val_score(optclf, X, y,cv=10, scoring='roc_auc')\n",
      "        \n",
      "        #performance results \n",
      "        dt=time.clock() - t0\n",
      "        \n",
      "        perf=np.mean(scores)\n",
      "        std=np.std(scores)\n",
      "        err=1/(1-perf)\n",
      "        result={'perf':perf, 'std':std, 'dt':dt, 'err':err, 'r':max_radius, 'd':max_distance}\n",
      "        results.append(result)\n",
      "        print('r=%d d=%d AUCROC=%.4f (+- %.4f) runtime=%.1f sec' % (max_radius, max_distance, perf,std,dt))"
     ],
     "language": "python",
     "metadata": {},
     "outputs": [
      {
       "output_type": "stream",
       "stream": "stdout",
       "text": [
        "r=2 d=0 AUCROC=0.8957 (+- 0.0144) runtime=18.1 sec\n"
       ]
      },
      {
       "output_type": "stream",
       "stream": "stdout",
       "text": [
        "r=2 d=1 AUCROC=0.9059 (+- 0.0122) runtime=20.5 sec\n"
       ]
      }
     ]
    },
    {
     "cell_type": "code",
     "collapsed": false,
     "input": [
      "#plot\n",
      "plt.figure(figsize=(10,10))\n",
      "plt.grid(True)\n",
      "for result in results:\n",
      "    label='r:%d d:%d \\np:%.3f'%(result['r'],result['d'],result['perf'])\n",
      "    x2=result['dt']\n",
      "    y2=result['err']\n",
      "    plt.annotate(label,xy = (x2, y2), xytext = (-20, -25), textcoords = 'offset points')   \n",
      "plt.scatter([result['dt'] for result in results],[result['err'] for result in results])\n",
      "plt.show()"
     ],
     "language": "python",
     "metadata": {},
     "outputs": []
    },
    {
     "cell_type": "code",
     "collapsed": false,
     "input": [
      "#optimal parameter analysis\n",
      "clf = SGDClassifier()\n",
      "param_dist = {\"n_iter\": randint(5, 100),\n",
      "              \"power_t\": uniform(0.1),\n",
      "              \"alpha\": uniform(1e-08,1e-03),\n",
      "              \"eta0\" : uniform(1e-03,10),\n",
      "              \"penalty\": [\"l1\", \"l2\", \"elasticnet\"],\n",
      "              \"learning_rate\": [\"invscaling\", \"constant\",\"optimal\"]}\n",
      "\n",
      "results = []\n",
      "for max_radius in range(2,8):\n",
      "    for max_distance in [0,int(max_radius/2),max_radius, max_radius*2]:\n",
      "        t0 = time.clock()\n",
      "        \n",
      "        #feature creation\n",
      "        vec=graph.Vectorizer(r=max_radius,d=max_distance)\n",
      "        g_it=gspan.gspan_to_eden(input_data_url, 'url')\n",
      "        X=vec.transform(g_it, n_jobs=-1)\n",
      "\n",
      " \n",
      "        #parameter optimisation\n",
      "        n_iter_search = 50\n",
      "        random_search = RandomizedSearchCV(clf,param_distributions=param_dist,n_iter=n_iter_search,cv=3,scoring='roc_auc', n_jobs=-1)\n",
      "        random_search.fit(X, y)\n",
      "        optclf = SGDClassifier(**random_search.best_params_)\n",
      "        scores = cross_validation.cross_val_score(optclf, X, y,cv=10, scoring='roc_auc')\n",
      "        \n",
      "        #performance results \n",
      "        dt=time.clock() - t0\n",
      "        \n",
      "        perf=np.mean(scores)\n",
      "        std=np.std(scores)\n",
      "        err=1/(1-perf)\n",
      "        result={'perf':perf, 'std':std, 'dt':dt, 'err':err, 'r':max_radius, 'd':max_distance}\n",
      "        results.append(result)\n",
      "        print('r=%d d=%d AUCROC=%.4f (+- %.4f) runtime=%.1f sec' % (max_radius, max_distance, perf,std,dt))"
     ],
     "language": "python",
     "metadata": {},
     "outputs": []
    },
    {
     "cell_type": "code",
     "collapsed": false,
     "input": [
      "#plot\n",
      "plt.figure(figsize=(10,10))\n",
      "plt.grid(True)\n",
      "for result in results:\n",
      "    label='r:%d d:%d \\np:%.3f'%(result['r'],result['d'],result['perf'])\n",
      "    x2=result['dt']\n",
      "    y2=result['err']\n",
      "    plt.annotate(label,xy = (x2, y2), xytext = (-20, -25), textcoords = 'offset points')   \n",
      "plt.scatter([result['dt'] for result in results],[result['err'] for result in results])\n",
      "plt.show()"
     ],
     "language": "python",
     "metadata": {},
     "outputs": []
    }
   ],
   "metadata": {}
  }
 ]
}