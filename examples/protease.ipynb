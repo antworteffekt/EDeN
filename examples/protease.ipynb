{
 "metadata": {
  "name": "",
  "signature": "sha256:8909501531183266dc04c992f57fd2ce2bff559d62d5bc3c255cd488bfa5c20d"
 },
 "nbformat": 3,
 "nbformat_minor": 0,
 "worksheets": [
  {
   "cells": [
    {
     "cell_type": "markdown",
     "metadata": {},
     "source": [
      "auxiliary functions"
     ]
    },
    {
     "cell_type": "code",
     "collapsed": false,
     "input": [
      "#concatenate the two data matrices into one matrix\n",
      "#and we create a target vector that identifies with +1 and -1 the instances from the first or the second RNA family\n",
      "from scipy.sparse import vstack\n",
      "import numpy as np\n",
      "\n",
      "def make_data_matrix(X1,X2):\n",
      "    #create target array\n",
      "    yp =  [1] * X1.shape[0]\n",
      "    yn = [-1] * X2.shape[0]\n",
      "    y = np.array(yp + yn)\n",
      "    #compose data matrix\n",
      "    X = vstack( [X1,X2] , format = \"csr\")\n",
      "    return X,y"
     ],
     "language": "python",
     "metadata": {},
     "outputs": [],
     "prompt_number": 2
    },
    {
     "cell_type": "code",
     "collapsed": false,
     "input": [
      "def out_of_core_predict(data, estimator = None, vectorizer = None):\n",
      "    from eden.graph import OutOfCoreListPredictor\n",
      "    estimator\n",
      "    vectorizer\n",
      "    out_of_core_predictor = OutOfCoreListPredictor( estimator = estimator, vectorizer = vectorizer )\n",
      "\n",
      "    #extract oneline fasta\n",
      "    from eden.modifier.fasta import fasta_to_fasta, remove_modifier\n",
      "    seqs = fasta_to_fasta( data, modifier = remove_modifier, remove_char = '-' )\n",
      "    from eden.modifier.fasta import fasta_to_fasta, one_line_modifier\n",
      "    fasta_seqs = fasta_to_fasta( seqs, modifier = one_line_modifier, one_line = True, one_line_separator = '\\t' )\n",
      "\n",
      "    #extract graphs\n",
      "    graphs_list, weights = pre_process( data )\n",
      "\n",
      "    #sort and store prediction-fasta pairs\n",
      "    import itertools as it \n",
      "    results = sorted([(line, prediction) for line, prediction in it.izip(fasta_seqs, out_of_core_predictor.predict(graphs_list, weights = weights))], key=lambda val: val[1] , reverse=True)\n",
      "\n",
      "    return results"
     ],
     "language": "python",
     "metadata": {},
     "outputs": [],
     "prompt_number": 3
    },
    {
     "cell_type": "code",
     "collapsed": false,
     "input": [
      "import itertools\n",
      "\n",
      "def make_iterable( data ):\n",
      "    #check if data is iterable\n",
      "    if hasattr( data, '__iter__' ):\n",
      "        iterable = data\n",
      "    else: #if not then process url or file with fasta_to_fasta\n",
      "        from eden.modifier.fasta import fasta_to_fasta\n",
      "        iterable = fasta_to_fasta( data )\n",
      "    return iterable\n",
      "\n",
      "\n",
      "def _pre_process( data, pre_processes, weights):\n",
      "    iterable = make_iterable( data )\n",
      "    graphs_list = list()\n",
      "    assert(len(weights) == len(pre_processes)),'Different lengths'\n",
      "    #NOTE: we have to duplicate the sequences iterator if we want to use different modifiers in parallel\n",
      "    iterables = itertools.tee( iterable, len(pre_processes) )\n",
      "    for pre_process_item, iterable_item in zip(pre_processes, iterables):\n",
      "        graphs_list.append( pre_process_item( iterable_item ) )\n",
      "    return (graphs_list, weights)"
     ],
     "language": "python",
     "metadata": {},
     "outputs": [],
     "prompt_number": 4
    },
    {
     "cell_type": "markdown",
     "metadata": {},
     "source": [
      "Domain specific conversion"
     ]
    },
    {
     "cell_type": "code",
     "collapsed": false,
     "input": [
      "#data sources\n",
      "posf  = 'http://share.gruenings.eu/schilling/mmp2-training-final_noMinus.fasta'\n",
      "negf  = 'http://share.gruenings.eu/schilling/human-shuffled.fasta'\n",
      "testf = 'http://share.gruenings.eu/schilling//Mmp2-CTSL-VALIDATE-final_noMinue.fasta'"
     ],
     "language": "python",
     "metadata": {},
     "outputs": [],
     "prompt_number": 5
    },
    {
     "cell_type": "code",
     "collapsed": false,
     "input": [
      "from urllib import urlretrieve\n",
      "import pickle\n",
      "urlretrieve (\"http://www.bioinf.uni-freiburg.de/~costa/BLOSUM62_5D_encoding_dict.p\", \"BLOSUM62_5D_encoding_dict.p\")\n",
      "aa_encoding_dict5D = pickle.load( open( \"BLOSUM62_5D_encoding_dict.p\", \"rb\" ) )"
     ],
     "language": "python",
     "metadata": {},
     "outputs": [],
     "prompt_number": 6
    },
    {
     "cell_type": "code",
     "collapsed": false,
     "input": [
      "#add encoding for landmarks\n",
      "landmark_encodings = {'%':[10,0,0,0,0], '#':[0,10,0,0,0], '$':[0,0,10,0,0]}\n",
      "aa_encoding_dict5D.update(landmark_encodings)"
     ],
     "language": "python",
     "metadata": {},
     "outputs": [],
     "prompt_number": 7
    },
    {
     "cell_type": "code",
     "collapsed": false,
     "input": [
      "n_jobs = 1"
     ],
     "language": "python",
     "metadata": {},
     "outputs": [],
     "prompt_number": 8
    },
    {
     "cell_type": "code",
     "collapsed": false,
     "input": [
      "def pre_process_aa_categorical( data ):\n",
      "    iterable = make_iterable( data )\n",
      "    #skip fasta entries that contain the '-' symbol\n",
      "    from eden.modifier.fasta import fasta_to_fasta, remove_modifier\n",
      "    seqs = fasta_to_fasta( iterable, modifier = remove_modifier, remove_char = '-' )\n",
      "    \n",
      "    #insert landmark in the cleavage site after pos 4, in our case this means always in the middle position\n",
      "    from eden.modifier.fasta import fasta_to_fasta, insert_landmark_modifier\n",
      "    seqs = fasta_to_fasta( seqs, modifier = insert_landmark_modifier, landmark_relative_position = 0.5, landmark_char = '%' )\n",
      "    seqs = fasta_to_fasta( seqs, modifier = insert_landmark_modifier, landmark_relative_position = 0, landmark_char = '#' )\n",
      "    seqs = fasta_to_fasta( seqs, modifier = insert_landmark_modifier, landmark_relative_position = 1, landmark_char = '$' )\n",
      "\n",
      "    #convert to graph\n",
      "    from eden.converter.fasta import fasta_to_eden\n",
      "    graphs = fasta_to_eden( seqs )\n",
      "    \n",
      "    return graphs"
     ],
     "language": "python",
     "metadata": {},
     "outputs": [],
     "prompt_number": 9
    },
    {
     "cell_type": "code",
     "collapsed": false,
     "input": [
      "def pre_process_aa_smoothed( data ):\n",
      "    iterable = make_iterable( data )\n",
      "    \n",
      "    #skip fasta entries that contain the '-' symbol\n",
      "    from eden.modifier.fasta import fasta_to_fasta, remove_modifier\n",
      "    seqs = fasta_to_fasta( iterable, modifier = remove_modifier, remove_char = '-' )\n",
      "    \n",
      "    #insert landmark in the cleavage site after pos 4, in our case this means always in the middle position\n",
      "    from eden.modifier.fasta import fasta_to_fasta, insert_landmark_modifier\n",
      "    seqs = fasta_to_fasta( seqs, modifier = insert_landmark_modifier, landmark_relative_position = 0.5, landmark_char = '%' )\n",
      "    seqs = fasta_to_fasta( seqs, modifier = insert_landmark_modifier, landmark_relative_position = 0, landmark_char = '#' )\n",
      "    seqs = fasta_to_fasta( seqs, modifier = insert_landmark_modifier, landmark_relative_position = 1, landmark_char = '$' )\n",
      "\n",
      "    #convert to graph\n",
      "    from eden.converter.fasta import fasta_to_eden\n",
      "    graphs = fasta_to_eden( seqs )\n",
      "    \n",
      "    #relabel aa with vector encoding\n",
      "    from eden.modifier.graph.vertex_attributes import translate \n",
      "    graphs = translate(graphs, label_map = aa_encoding_dict5D, default = [0,0,0,0,0])\n",
      "    \n",
      "    return graphs"
     ],
     "language": "python",
     "metadata": {},
     "outputs": [],
     "prompt_number": 10
    },
    {
     "cell_type": "code",
     "collapsed": false,
     "input": [
      "def pre_process( data ):\n",
      "    weights = [0.7, 0.3]\n",
      "    pre_processes = [pre_process_aa_categorical, pre_process_aa_smoothed]\n",
      "    return _pre_process( data, pre_processes, weights)"
     ],
     "language": "python",
     "metadata": {},
     "outputs": [],
     "prompt_number": 11
    },
    {
     "cell_type": "code",
     "collapsed": false,
     "input": [
      "#set the 'resolution' of the vectorization\n",
      "from eden.graph import ListVectorizer\n",
      "vectorizer = ListVectorizer( r = 2, d = 5, min_r = 0, discretization_size = 5, discretization_dimension = 10)"
     ],
     "language": "python",
     "metadata": {},
     "outputs": [],
     "prompt_number": 12
    },
    {
     "cell_type": "code",
     "collapsed": false,
     "input": [
      "graphs_list, weights = pre_process( posf )\n",
      "vectorizer.fit( graphs_list, n_jobs = n_jobs )"
     ],
     "language": "python",
     "metadata": {},
     "outputs": [],
     "prompt_number": 13
    },
    {
     "cell_type": "code",
     "collapsed": false,
     "input": [
      "%%time\n",
      "graphs_list, weights = pre_process( posf )\n",
      "X1 = vectorizer.transform( graphs_list, weights = weights, n_jobs = n_jobs )\n",
      "print 'Instances: %d ; Features: %d with an avg of %d features per instance' % (X1.shape[0], X1.shape[1],  X1.getnnz()/X1.shape[0])"
     ],
     "language": "python",
     "metadata": {},
     "outputs": [
      {
       "output_type": "stream",
       "stream": "stdout",
       "text": [
        "Instances: 605 ; Features: 1048577 with an avg of 1147 features per instance\n",
        "CPU times: user 1min 4s, sys: 722 ms, total: 1min 5s\n",
        "Wall time: 1min 5s\n"
       ]
      },
      {
       "output_type": "stream",
       "stream": "stderr",
       "text": [
        "/Library/Python/2.7/site-packages/sklearn/cluster/k_means_.py:798: RuntimeWarning: Got data type int64, converted to float to avoid overflows\n",
        "  X = self._check_test_data(X)\n"
       ]
      }
     ],
     "prompt_number": 14
    },
    {
     "cell_type": "code",
     "collapsed": false,
     "input": [
      "%%time\n",
      "from eden.modifier.fasta import fasta_to_fasta, shuffle_modifier\n",
      "graphs_list, weights = pre_process( fasta_to_fasta( posf, modifier = shuffle_modifier, times = 2, order = 2 ) )\n",
      "X2 = vectorizer.transform( graphs_list, weights = weights, n_jobs = n_jobs )\n",
      "print 'Instances: %d ; Features: %d with an avg of %d features per instance' % (X2.shape[0], X2.shape[1],  X2.getnnz()/X2.shape[0])"
     ],
     "language": "python",
     "metadata": {},
     "outputs": [
      {
       "output_type": "stream",
       "stream": "stdout",
       "text": [
        "Instances: 1210 ; Features: 1048577 with an avg of 1145 features per instance\n",
        "CPU times: user 2min 12s, sys: 1.88 s, total: 2min 14s\n",
        "Wall time: 2min 13s\n"
       ]
      }
     ],
     "prompt_number": 15
    },
    {
     "cell_type": "code",
     "collapsed": false,
     "input": [
      "%%time\n",
      "from eden.util import estimate_predictive_performance\n",
      "X,y = make_data_matrix(X1,X2)\n",
      "estimator = estimate_predictive_performance(X,y)"
     ],
     "language": "python",
     "metadata": {},
     "outputs": [
      {
       "output_type": "stream",
       "stream": "stdout",
       "text": [
        "Classifier:\n",
        "SGDClassifier(alpha=0.00033630027515, class_weight='auto', epsilon=0.1,\n",
        "       eta0=6.03995555775, fit_intercept=True, l1_ratio=0.15,\n",
        "       learning_rate='invscaling', loss='hinge', n_iter=38, n_jobs=-1,\n",
        "       penalty='l2', power_t=0.327710915779, random_state=None,\n",
        "       shuffle=True, verbose=0, warm_start=False)\n",
        "-------------------------------------------------------------------------\n",
        "Predictive performance:\n"
       ]
      },
      {
       "output_type": "stream",
       "stream": "stdout",
       "text": [
        "            accuracy: 0.820 +- 0.046\n"
       ]
      },
      {
       "output_type": "stream",
       "stream": "stdout",
       "text": [
        "           precision: 0.716 +- 0.053\n"
       ]
      },
      {
       "output_type": "stream",
       "stream": "stdout",
       "text": [
        "              recall: 0.757 +- 0.172\n"
       ]
      },
      {
       "output_type": "stream",
       "stream": "stdout",
       "text": [
        "                  f1: 0.727 +- 0.105\n"
       ]
      },
      {
       "output_type": "stream",
       "stream": "stdout",
       "text": [
        "   average_precision: 0.764 +- 0.104\n"
       ]
      },
      {
       "output_type": "stream",
       "stream": "stdout",
       "text": [
        "             roc_auc: 0.891 +- 0.050\n",
        "-------------------------------------------------------------------------\n",
        "CPU times: user 24.5 s, sys: 32.7 s, total: 57.2 s\n",
        "Wall time: 4min 23s\n"
       ]
      }
     ],
     "prompt_number": 16
    },
    {
     "cell_type": "code",
     "collapsed": false,
     "input": [
      "%%time\n",
      "results = out_of_core_predict(testf, estimator = estimator, vectorizer = vectorizer)"
     ],
     "language": "python",
     "metadata": {},
     "outputs": [
      {
       "output_type": "stream",
       "stream": "stdout",
       "text": [
        "CPU times: user 22.6 s, sys: 654 ms, total: 23.3 s\n",
        "Wall time: 23.4 s\n"
       ]
      }
     ],
     "prompt_number": 18
    },
    {
     "cell_type": "code",
     "collapsed": false,
     "input": [
      "from ipy_table import * \n",
      "\n",
      "mat=[('ID','Conf')]\n",
      "mat += results\n",
      "make_table(mat)\n",
      "apply_theme('basic')\n",
      "set_global_style(float_format = '%0.3f')"
     ],
     "language": "python",
     "metadata": {},
     "outputs": [
      {
       "html": [
        "<table border=\"1\" cellpadding=\"3\" cellspacing=\"0\"  style=\"border:1px solid black;border-collapse:collapse;\"><tr><td  style=\"background-color:LightGray;\"><b>ID</b></td><td  style=\"background-color:LightGray;\"><b>Conf</b></td></tr><tr><td  style=\"background-color:Ivory;\">>MMP2-validate-47\tKVSHLLGI</td><td  style=\"background-color:Ivory;\">1.588</td></tr><tr><td  style=\"background-color:AliceBlue;\">>MMP2-validate-53\tKPQNLLVD</td><td  style=\"background-color:AliceBlue;\">1.433</td></tr><tr><td  style=\"background-color:Ivory;\">>MMP2-validate-51\tVVQGLLSE</td><td  style=\"background-color:Ivory;\">1.334</td></tr><tr><td  style=\"background-color:AliceBlue;\">>MMP2-validate-28\tTVAGLAGK</td><td  style=\"background-color:AliceBlue;\">1.226</td></tr><tr><td  style=\"background-color:Ivory;\">>MMP2-validate-61\tDLANLSAA</td><td  style=\"background-color:Ivory;\">1.212</td></tr><tr><td  style=\"background-color:AliceBlue;\">>MMP2-validate-76\tQPEGMISE</td><td  style=\"background-color:AliceBlue;\">1.110</td></tr><tr><td  style=\"background-color:Ivory;\">>MMP2-validate-39\tKAAELIAN</td><td  style=\"background-color:Ivory;\">1.092</td></tr><tr><td  style=\"background-color:AliceBlue;\">>MMP2-validate-49\tKPSNLLIN</td><td  style=\"background-color:AliceBlue;\">1.075</td></tr><tr><td  style=\"background-color:Ivory;\">>MMP2-validate-95\tIPAGWMGL</td><td  style=\"background-color:Ivory;\">1.068</td></tr><tr><td  style=\"background-color:AliceBlue;\">>MMP2-validate-63\tELQNLTAA</td><td  style=\"background-color:AliceBlue;\">1.067</td></tr><tr><td  style=\"background-color:Ivory;\">>MMP2-validate-57\tQIAELQAQ</td><td  style=\"background-color:Ivory;\">1.067</td></tr><tr><td  style=\"background-color:AliceBlue;\">>CTSL-validate-51\tELAQIAGR</td><td  style=\"background-color:AliceBlue;\">1.059</td></tr><tr><td  style=\"background-color:Ivory;\">>MMP2-validate-90\tRPASVSSS</td><td  style=\"background-color:Ivory;\">1.026</td></tr><tr><td  style=\"background-color:AliceBlue;\">>MMP2-validate-14\tTIGLIHAV</td><td  style=\"background-color:AliceBlue;\">1.024</td></tr><tr><td  style=\"background-color:Ivory;\">>MMP2-validate-36\tYIANLGHG</td><td  style=\"background-color:Ivory;\">1.023</td></tr><tr><td  style=\"background-color:AliceBlue;\">>MMP2-validate-50\tAPVALLND</td><td  style=\"background-color:AliceBlue;\">1.014</td></tr><tr><td  style=\"background-color:Ivory;\">>MMP2-validate-72\tVVSGLVQF</td><td  style=\"background-color:Ivory;\">1.003</td></tr><tr><td  style=\"background-color:AliceBlue;\">>MMP2-validate-22\tQVATISAN</td><td  style=\"background-color:AliceBlue;\">0.988</td></tr><tr><td  style=\"background-color:Ivory;\">>MMP2-validate-20\tKISSIQSI</td><td  style=\"background-color:Ivory;\">0.976</td></tr><tr><td  style=\"background-color:AliceBlue;\">>MMP2-validate-11\tRCSGIASA</td><td  style=\"background-color:AliceBlue;\">0.952</td></tr><tr><td  style=\"background-color:Ivory;\">>MMP2-validate-48\tKDNHLLGT</td><td  style=\"background-color:Ivory;\">0.940</td></tr><tr><td  style=\"background-color:AliceBlue;\">>MMP2-validate-30\tSPANLAVY</td><td  style=\"background-color:AliceBlue;\">0.922</td></tr><tr><td  style=\"background-color:Ivory;\">>MMP2-validate-60\tRPEELRED</td><td  style=\"background-color:Ivory;\">0.901</td></tr><tr><td  style=\"background-color:AliceBlue;\">>MMP2-validate-71\tGFAGLVQE</td><td  style=\"background-color:AliceBlue;\">0.897</td></tr><tr><td  style=\"background-color:Ivory;\">>MMP2-validate-59\tHISQLQHE</td><td  style=\"background-color:Ivory;\">0.889</td></tr><tr><td  style=\"background-color:AliceBlue;\">>MMP2-validate-88\tVPENVLSF</td><td  style=\"background-color:AliceBlue;\">0.888</td></tr><tr><td  style=\"background-color:Ivory;\">>MMP2-validate-87\tILGGVISA</td><td  style=\"background-color:Ivory;\">0.883</td></tr><tr><td  style=\"background-color:AliceBlue;\">>MMP2-validate-25\tKPGAIVID</td><td  style=\"background-color:AliceBlue;\">0.882</td></tr><tr><td  style=\"background-color:Ivory;\">>MMP2-validate-89\tGAVAVSAA</td><td  style=\"background-color:Ivory;\">0.881</td></tr><tr><td  style=\"background-color:AliceBlue;\">>MMP2-validate-56\tYIGNLNES</td><td  style=\"background-color:AliceBlue;\">0.864</td></tr><tr><td  style=\"background-color:Ivory;\">>MMP2-validate-13\tMASNIFGP</td><td  style=\"background-color:Ivory;\">0.859</td></tr><tr><td  style=\"background-color:AliceBlue;\">>MMP2-validate-65\tHYGGLTGL</td><td  style=\"background-color:AliceBlue;\">0.852</td></tr><tr><td  style=\"background-color:Ivory;\">>MMP2-validate-15\tSPSNIILD</td><td  style=\"background-color:Ivory;\">0.834</td></tr><tr><td  style=\"background-color:AliceBlue;\">>MMP2-validate-94\tPVAGWINA</td><td  style=\"background-color:AliceBlue;\">0.785</td></tr><tr><td  style=\"background-color:Ivory;\">>MMP2-validate-66\tTPTFLTTG</td><td  style=\"background-color:Ivory;\">0.758</td></tr><tr><td  style=\"background-color:AliceBlue;\">>MMP2-validate-41\tEVENLILE</td><td  style=\"background-color:AliceBlue;\">0.747</td></tr><tr><td  style=\"background-color:Ivory;\">>MMP2-validate-62\tAASNLSGL</td><td  style=\"background-color:Ivory;\">0.744</td></tr><tr><td  style=\"background-color:AliceBlue;\">>MMP2-validate-38\tNPAMLHNI</td><td  style=\"background-color:AliceBlue;\">0.735</td></tr><tr><td  style=\"background-color:Ivory;\">>MMP2-validate-52\tAPPPLLSP</td><td  style=\"background-color:Ivory;\">0.733</td></tr><tr><td  style=\"background-color:AliceBlue;\">>MMP2-validate-92\tQIGAVVSH</td><td  style=\"background-color:AliceBlue;\">0.732</td></tr><tr><td  style=\"background-color:Ivory;\">>MMP2-validate-17\tKVLGILAM</td><td  style=\"background-color:Ivory;\">0.717</td></tr><tr><td  style=\"background-color:AliceBlue;\">>MMP2-validate-4\tRPAPAVGE</td><td  style=\"background-color:AliceBlue;\">0.706</td></tr><tr><td  style=\"background-color:Ivory;\">>MMP2-validate-43\tVIDNLIVA</td><td  style=\"background-color:Ivory;\">0.686</td></tr><tr><td  style=\"background-color:AliceBlue;\">>MMP2-validate-67\tEPGPLTVG</td><td  style=\"background-color:AliceBlue;\">0.678</td></tr><tr><td  style=\"background-color:Ivory;\">>MMP2-validate-19\tTPLSIQAH</td><td  style=\"background-color:Ivory;\">0.677</td></tr><tr><td  style=\"background-color:AliceBlue;\">>MMP2-validate-68\tHLSELVEQ</td><td  style=\"background-color:AliceBlue;\">0.655</td></tr><tr><td  style=\"background-color:Ivory;\">>MMP2-validate-29\tDASYLASE</td><td  style=\"background-color:Ivory;\">0.627</td></tr><tr><td  style=\"background-color:AliceBlue;\">>MMP2-validate-24\tCPQEIVDY</td><td  style=\"background-color:AliceBlue;\">0.614</td></tr><tr><td  style=\"background-color:Ivory;\">>MMP2-validate-69\tTPFLLVGT</td><td  style=\"background-color:Ivory;\">0.597</td></tr><tr><td  style=\"background-color:AliceBlue;\">>MMP2-validate-46\tPATPLLDY</td><td  style=\"background-color:AliceBlue;\">0.595</td></tr><tr><td  style=\"background-color:Ivory;\">>MMP2-validate-37\tPICSLHDQ</td><td  style=\"background-color:Ivory;\">0.568</td></tr><tr><td  style=\"background-color:AliceBlue;\">>MMP2-validate-7\tSPAAFINP</td><td  style=\"background-color:AliceBlue;\">0.550</td></tr><tr><td  style=\"background-color:Ivory;\">>MMP2-validate-35\tTAISLFYE</td><td  style=\"background-color:Ivory;\">0.546</td></tr><tr><td  style=\"background-color:AliceBlue;\">>MMP2-validate-18\tVADAILGN</td><td  style=\"background-color:AliceBlue;\">0.539</td></tr><tr><td  style=\"background-color:Ivory;\">>MMP2-validate-32\tRPGMLEML</td><td  style=\"background-color:Ivory;\">0.511</td></tr><tr><td  style=\"background-color:AliceBlue;\">>MMP2-validate-1\tEPAAAAAP</td><td  style=\"background-color:AliceBlue;\">0.461</td></tr><tr><td  style=\"background-color:Ivory;\">>MMP2-validate-42\tAAAALINF</td><td  style=\"background-color:Ivory;\">0.457</td></tr><tr><td  style=\"background-color:AliceBlue;\">>MMP2-validate-73\tLSQNLVVK</td><td  style=\"background-color:AliceBlue;\">0.455</td></tr><tr><td  style=\"background-color:Ivory;\">>MMP2-validate-86\tPPAPTSGM</td><td  style=\"background-color:Ivory;\">0.451</td></tr><tr><td  style=\"background-color:AliceBlue;\">>MMP2-validate-34\tLHESLFGS</td><td  style=\"background-color:AliceBlue;\">0.441</td></tr><tr><td  style=\"background-color:Ivory;\">>MMP2-validate-45\tAFDSLLAG</td><td  style=\"background-color:Ivory;\">0.439</td></tr><tr><td  style=\"background-color:AliceBlue;\">>MMP2-validate-27\tVAHALAEG</td><td  style=\"background-color:AliceBlue;\">0.430</td></tr><tr><td  style=\"background-color:Ivory;\">>MMP2-validate-55\tHTAALMLD</td><td  style=\"background-color:Ivory;\">0.408</td></tr><tr><td  style=\"background-color:AliceBlue;\">>MMP2-validate-16\tLSDNIISG</td><td  style=\"background-color:AliceBlue;\">0.394</td></tr><tr><td  style=\"background-color:Ivory;\">>MMP2-validate-2\tKPATAIGV</td><td  style=\"background-color:Ivory;\">0.387</td></tr><tr><td  style=\"background-color:AliceBlue;\">>MMP2-validate-77\tNNSTMLGA</td><td  style=\"background-color:AliceBlue;\">0.387</td></tr><tr><td  style=\"background-color:Ivory;\">>MMP2-validate-23\tTVHAITAT</td><td  style=\"background-color:Ivory;\">0.383</td></tr><tr><td  style=\"background-color:AliceBlue;\">>MMP2-validate-75\tCPQEMAAV</td><td  style=\"background-color:AliceBlue;\">0.378</td></tr><tr><td  style=\"background-color:Ivory;\">>MMP2-validate-9\tTLNSFMGL</td><td  style=\"background-color:Ivory;\">0.375</td></tr><tr><td  style=\"background-color:AliceBlue;\">>MMP2-validate-54\tIPIPLMDY</td><td  style=\"background-color:AliceBlue;\">0.374</td></tr><tr><td  style=\"background-color:Ivory;\">>MMP2-validate-5\tSSSNCVTD</td><td  style=\"background-color:Ivory;\">0.361</td></tr><tr><td  style=\"background-color:AliceBlue;\">>MMP2-validate-78\tLVAAMQHF</td><td  style=\"background-color:AliceBlue;\">0.356</td></tr><tr><td  style=\"background-color:Ivory;\">>MMP2-validate-26\tSPCCIVTS</td><td  style=\"background-color:Ivory;\">0.344</td></tr><tr><td  style=\"background-color:AliceBlue;\">>MMP2-validate-79\tVLGQMVID</td><td  style=\"background-color:AliceBlue;\">0.343</td></tr><tr><td  style=\"background-color:Ivory;\">>MMP2-validate-40\tNTQGLIFV</td><td  style=\"background-color:Ivory;\">0.341</td></tr><tr><td  style=\"background-color:AliceBlue;\">>MMP2-validate-70\tLLSPLVLE</td><td  style=\"background-color:AliceBlue;\">0.334</td></tr><tr><td  style=\"background-color:Ivory;\">>CTSL-validate-64\tKVLAMSGD</td><td  style=\"background-color:Ivory;\">0.325</td></tr><tr><td  style=\"background-color:AliceBlue;\">>MMP2-validate-12\tAFAPICNP</td><td  style=\"background-color:AliceBlue;\">0.322</td></tr><tr><td  style=\"background-color:Ivory;\">>MMP2-validate-6\tSVASEVST</td><td  style=\"background-color:Ivory;\">0.301</td></tr><tr><td  style=\"background-color:AliceBlue;\">>MMP2-validate-74\tGWGNLVYV</td><td  style=\"background-color:AliceBlue;\">0.280</td></tr><tr><td  style=\"background-color:Ivory;\">>MMP2-validate-33\tLSLGLETA</td><td  style=\"background-color:Ivory;\">0.203</td></tr><tr><td  style=\"background-color:AliceBlue;\">>MMP2-validate-31\tRQAHLCVL</td><td  style=\"background-color:AliceBlue;\">0.200</td></tr><tr><td  style=\"background-color:Ivory;\">>CTSL-validate-63\tLIMELTGG</td><td  style=\"background-color:Ivory;\">0.191</td></tr><tr><td  style=\"background-color:AliceBlue;\">>MMP2-validate-97\tAIGDYNGH</td><td  style=\"background-color:AliceBlue;\">0.170</td></tr><tr><td  style=\"background-color:Ivory;\">>CTSL-validate-55\tRMLAIYDG</td><td  style=\"background-color:Ivory;\">0.123</td></tr><tr><td  style=\"background-color:AliceBlue;\">>CTSL-validate-62\tMEATLPSP</td><td  style=\"background-color:AliceBlue;\">0.112</td></tr><tr><td  style=\"background-color:Ivory;\">>CTSL-validate-60\tKTLALIKP</td><td  style=\"background-color:Ivory;\">0.102</td></tr><tr><td  style=\"background-color:AliceBlue;\">>CTSL-validate-59\tKNVGLDIE</td><td  style=\"background-color:AliceBlue;\">0.091</td></tr><tr><td  style=\"background-color:Ivory;\">>CTSL-validate-73\tPAYFQRPE</td><td  style=\"background-color:Ivory;\">0.082</td></tr><tr><td  style=\"background-color:AliceBlue;\">>MMP2-validate-83\tTIQGQYAI</td><td  style=\"background-color:AliceBlue;\">0.061</td></tr><tr><td  style=\"background-color:Ivory;\">>CTSL-validate-20\tKIVAERPG</td><td  style=\"background-color:Ivory;\">0.030</td></tr><tr><td  style=\"background-color:AliceBlue;\">>CTSL-validate-53\tKHLEINPD</td><td  style=\"background-color:AliceBlue;\">0.015</td></tr><tr><td  style=\"background-color:Ivory;\">>MMP2-validate-10\tGHAAFTSD</td><td  style=\"background-color:Ivory;\">0.012</td></tr><tr><td  style=\"background-color:AliceBlue;\">>CTSL-validate-68\tMPVSNQKP</td><td  style=\"background-color:AliceBlue;\">-0.002</td></tr><tr><td  style=\"background-color:Ivory;\">>CTSL-validate-52\tGCITIIGG</td><td  style=\"background-color:Ivory;\">-0.009</td></tr><tr><td  style=\"background-color:AliceBlue;\">>MMP2-validate-44\tVILHLKED</td><td  style=\"background-color:AliceBlue;\">-0.011</td></tr><tr><td  style=\"background-color:Ivory;\">>CTSL-validate-109\tMIFEVLAP</td><td  style=\"background-color:Ivory;\">-0.030</td></tr><tr><td  style=\"background-color:AliceBlue;\">>MMP2-validate-21\tGTAFIQTQ</td><td  style=\"background-color:AliceBlue;\">-0.048</td></tr><tr><td  style=\"background-color:Ivory;\">>MMP2-validate-93\tGPYDVVVL</td><td  style=\"background-color:Ivory;\">-0.052</td></tr><tr><td  style=\"background-color:AliceBlue;\">>MMP2-validate-96\tLVSGWVKP</td><td  style=\"background-color:AliceBlue;\">-0.122</td></tr><tr><td  style=\"background-color:Ivory;\">>CTSL-validate-113\tLTLALIKP</td><td  style=\"background-color:Ivory;\">-0.146</td></tr><tr><td  style=\"background-color:AliceBlue;\">>MMP2-validate-58\tAQQPLQGG</td><td  style=\"background-color:AliceBlue;\">-0.157</td></tr><tr><td  style=\"background-color:Ivory;\">>CTSL-validate-14\tRFLQDYFD</td><td  style=\"background-color:Ivory;\">-0.194</td></tr><tr><td  style=\"background-color:AliceBlue;\">>CTSL-validate-44\tKLLGHEVE</td><td  style=\"background-color:AliceBlue;\">-0.198</td></tr><tr><td  style=\"background-color:Ivory;\">>MMP2-validate-91\tLVANVTNP</td><td  style=\"background-color:Ivory;\">-0.227</td></tr><tr><td  style=\"background-color:AliceBlue;\">>CTSL-validate-17\tKLFNEHIE</td><td  style=\"background-color:AliceBlue;\">-0.235</td></tr><tr><td  style=\"background-color:Ivory;\">>MMP2-validate-64\tLLFPLTAQ</td><td  style=\"background-color:Ivory;\">-0.244</td></tr><tr><td  style=\"background-color:AliceBlue;\">>MMP2-validate-80\tPPLSQAQG</td><td  style=\"background-color:AliceBlue;\">-0.257</td></tr><tr><td  style=\"background-color:Ivory;\">>CTSL-validate-5\tELINALYP</td><td  style=\"background-color:Ivory;\">-0.267</td></tr><tr><td  style=\"background-color:AliceBlue;\">>CTSL-validate-70\tRNLANTVT</td><td  style=\"background-color:AliceBlue;\">-0.283</td></tr><tr><td  style=\"background-color:Ivory;\">>CTSL-validate-18\tQLISEKPE</td><td  style=\"background-color:Ivory;\">-0.287</td></tr><tr><td  style=\"background-color:AliceBlue;\">>CTSL-validate-39\tHFHWGSLD</td><td  style=\"background-color:AliceBlue;\">-0.308</td></tr><tr><td  style=\"background-color:Ivory;\">>CTSL-validate-100\tNLVGTHDA</td><td  style=\"background-color:Ivory;\">-0.309</td></tr><tr><td  style=\"background-color:AliceBlue;\">>CTSL-validate-111\tTYPQWQPP</td><td  style=\"background-color:AliceBlue;\">-0.311</td></tr><tr><td  style=\"background-color:Ivory;\">>CTSL-validate-110\tRVWYVSNI</td><td  style=\"background-color:Ivory;\">-0.321</td></tr><tr><td  style=\"background-color:AliceBlue;\">>CTSL-validate-85\tVDSLSHPA</td><td  style=\"background-color:AliceBlue;\">-0.324</td></tr><tr><td  style=\"background-color:Ivory;\">>CTSL-validate-106\tHQIGTVSP</td><td  style=\"background-color:Ivory;\">-0.354</td></tr><tr><td  style=\"background-color:AliceBlue;\">>CTSL-validate-107\tGLVGVDQF</td><td  style=\"background-color:AliceBlue;\">-0.362</td></tr><tr><td  style=\"background-color:Ivory;\">>CTSL-validate-25\tKPVAGALD</td><td  style=\"background-color:Ivory;\">-0.364</td></tr><tr><td  style=\"background-color:AliceBlue;\">>CTSL-validate-34\tRHYGGLTG</td><td  style=\"background-color:AliceBlue;\">-0.372</td></tr><tr><td  style=\"background-color:Ivory;\">>CTSL-validate-93\tPGFASSSG</td><td  style=\"background-color:Ivory;\">-0.377</td></tr><tr><td  style=\"background-color:AliceBlue;\">>CTSL-validate-37\tEALGGQAL</td><td  style=\"background-color:AliceBlue;\">-0.382</td></tr><tr><td  style=\"background-color:Ivory;\">>CTSL-validate-47\tKVILHLKE</td><td  style=\"background-color:Ivory;\">-0.401</td></tr><tr><td  style=\"background-color:AliceBlue;\">>CTSL-validate-50\tELLTHSTT</td><td  style=\"background-color:AliceBlue;\">-0.410</td></tr><tr><td  style=\"background-color:Ivory;\">>CTSL-validate-43\tYAFSHDHP</td><td  style=\"background-color:Ivory;\">-0.420</td></tr><tr><td  style=\"background-color:AliceBlue;\">>CTSL-validate-56\tITVEKHPD</td><td  style=\"background-color:AliceBlue;\">-0.425</td></tr><tr><td  style=\"background-color:Ivory;\">>CTSL-validate-6\tKLYGAQFH</td><td  style=\"background-color:Ivory;\">-0.432</td></tr><tr><td  style=\"background-color:AliceBlue;\">>CTSL-validate-108\tDAYQVILD</td><td  style=\"background-color:AliceBlue;\">-0.441</td></tr><tr><td  style=\"background-color:Ivory;\">>CTSL-validate-15\tYSYGEATH</td><td  style=\"background-color:Ivory;\">-0.451</td></tr><tr><td  style=\"background-color:AliceBlue;\">>CTSL-validate-7\tRMLDAQVQ</td><td  style=\"background-color:AliceBlue;\">-0.451</td></tr><tr><td  style=\"background-color:Ivory;\">>CTSL-validate-32\tQVLQGLDY</td><td  style=\"background-color:Ivory;\">-0.461</td></tr><tr><td  style=\"background-color:AliceBlue;\">>CTSL-validate-105\tGKSTTTGH</td><td  style=\"background-color:AliceBlue;\">-0.463</td></tr><tr><td  style=\"background-color:Ivory;\">>CTSL-validate-104\tPIITTQVT</td><td  style=\"background-color:Ivory;\">-0.470</td></tr><tr><td  style=\"background-color:AliceBlue;\">>CTSL-validate-69\tTTVSNSQQ</td><td  style=\"background-color:AliceBlue;\">-0.479</td></tr><tr><td  style=\"background-color:Ivory;\">>CTSL-validate-66\tWLYDNHKD</td><td  style=\"background-color:Ivory;\">-0.487</td></tr><tr><td  style=\"background-color:AliceBlue;\">>CTSL-validate-21\tVHYGEVTN</td><td  style=\"background-color:AliceBlue;\">-0.489</td></tr><tr><td  style=\"background-color:Ivory;\">>MMP2-validate-81\tSICQQNGI</td><td  style=\"background-color:Ivory;\">-0.508</td></tr><tr><td  style=\"background-color:AliceBlue;\">>MMP2-validate-82\tSICQQNGI</td><td  style=\"background-color:AliceBlue;\">-0.508</td></tr><tr><td  style=\"background-color:Ivory;\">>CTSL-validate-88\tVGFDSLPD</td><td  style=\"background-color:Ivory;\">-0.517</td></tr><tr><td  style=\"background-color:AliceBlue;\">>CTSL-validate-29\tRGVMGGQS</td><td  style=\"background-color:AliceBlue;\">-0.522</td></tr><tr><td  style=\"background-color:Ivory;\">>CTSL-validate-87\tGFLGSKPE</td><td  style=\"background-color:Ivory;\">-0.527</td></tr><tr><td  style=\"background-color:AliceBlue;\">>CTSL-validate-8\tWAFSATGA</td><td  style=\"background-color:AliceBlue;\">-0.533</td></tr><tr><td  style=\"background-color:Ivory;\">>MMP2-validate-3\tQPMPASSP</td><td  style=\"background-color:Ivory;\">-0.537</td></tr><tr><td  style=\"background-color:AliceBlue;\">>CTSL-validate-22\tCQIQFGPH</td><td  style=\"background-color:AliceBlue;\">-0.538</td></tr><tr><td  style=\"background-color:Ivory;\">>MMP2-validate-84\tAAAASAAA</td><td  style=\"background-color:Ivory;\">-0.551</td></tr><tr><td  style=\"background-color:AliceBlue;\">>CTSL-validate-4\tGPLPAKDI</td><td  style=\"background-color:AliceBlue;\">-0.555</td></tr><tr><td  style=\"background-color:Ivory;\">>CTSL-validate-26\tKLVAGEHG</td><td  style=\"background-color:Ivory;\">-0.558</td></tr><tr><td  style=\"background-color:AliceBlue;\">>CTSL-validate-45\tYCLEHGIQ</td><td  style=\"background-color:AliceBlue;\">-0.562</td></tr><tr><td  style=\"background-color:Ivory;\">>CTSL-validate-72\tKNFYQEHP</td><td  style=\"background-color:Ivory;\">-0.594</td></tr><tr><td  style=\"background-color:AliceBlue;\">>CTSL-validate-80\tKLISSDGH</td><td  style=\"background-color:AliceBlue;\">-0.609</td></tr><tr><td  style=\"background-color:Ivory;\">>CTSL-validate-65\tKSLTNDWE</td><td  style=\"background-color:Ivory;\">-0.617</td></tr><tr><td  style=\"background-color:AliceBlue;\">>MMP2-validate-85\tIVSWSQVG</td><td  style=\"background-color:AliceBlue;\">-0.625</td></tr><tr><td  style=\"background-color:Ivory;\">>CTSL-validate-97\tSVLGTAFD</td><td  style=\"background-color:Ivory;\">-0.634</td></tr><tr><td  style=\"background-color:AliceBlue;\">>CTSL-validate-33\tFEVQGLQP</td><td  style=\"background-color:AliceBlue;\">-0.639</td></tr><tr><td  style=\"background-color:Ivory;\">>CTSL-validate-31\tVTIGGINI</td><td  style=\"background-color:Ivory;\">-0.642</td></tr><tr><td  style=\"background-color:AliceBlue;\">>CTSL-validate-46\tTSVEHIIV</td><td  style=\"background-color:AliceBlue;\">-0.645</td></tr><tr><td  style=\"background-color:Ivory;\">>CTSL-validate-79\tRYYTSASG</td><td  style=\"background-color:Ivory;\">-0.647</td></tr><tr><td  style=\"background-color:AliceBlue;\">>CTSL-validate-98\tMMLGTEGG</td><td  style=\"background-color:AliceBlue;\">-0.654</td></tr><tr><td  style=\"background-color:Ivory;\">>CTSL-validate-49\tALVQHQEW</td><td  style=\"background-color:Ivory;\">-0.672</td></tr><tr><td  style=\"background-color:AliceBlue;\">>CTSL-validate-27\tAGSFGGAG</td><td  style=\"background-color:AliceBlue;\">-0.675</td></tr><tr><td  style=\"background-color:Ivory;\">>CTSL-validate-101\tSILTTHTT</td><td  style=\"background-color:Ivory;\">-0.678</td></tr><tr><td  style=\"background-color:AliceBlue;\">>CTSL-validate-96\tTSVGSVNP</td><td  style=\"background-color:AliceBlue;\">-0.679</td></tr><tr><td  style=\"background-color:Ivory;\">>CTSL-validate-2\tAAVSAGHG</td><td  style=\"background-color:Ivory;\">-0.686</td></tr><tr><td  style=\"background-color:AliceBlue;\">>CTSL-validate-77\tEIVVRPTG</td><td  style=\"background-color:AliceBlue;\">-0.701</td></tr><tr><td  style=\"background-color:Ivory;\">>CTSL-validate-103\tKAMHTPKP</td><td  style=\"background-color:Ivory;\">-0.703</td></tr><tr><td  style=\"background-color:AliceBlue;\">>CTSL-validate-38\tSGYGGQTK</td><td  style=\"background-color:AliceBlue;\">-0.714</td></tr><tr><td  style=\"background-color:Ivory;\">>CTSL-validate-67\tSLLENLEK</td><td  style=\"background-color:Ivory;\">-0.716</td></tr><tr><td  style=\"background-color:AliceBlue;\">>CTSL-validate-13\tRQLCDNAG</td><td  style=\"background-color:AliceBlue;\">-0.718</td></tr><tr><td  style=\"background-color:Ivory;\">>CTSL-validate-75\tAQVARPGG</td><td  style=\"background-color:Ivory;\">-0.724</td></tr><tr><td  style=\"background-color:AliceBlue;\">>CTSL-validate-76\tALGHRPIP</td><td  style=\"background-color:AliceBlue;\">-0.744</td></tr><tr><td  style=\"background-color:Ivory;\">>CTSL-validate-28\tEGVHGGLI</td><td  style=\"background-color:Ivory;\">-0.749</td></tr><tr><td  style=\"background-color:AliceBlue;\">>CTSL-validate-16\tVGFLEGGK</td><td  style=\"background-color:AliceBlue;\">-0.759</td></tr><tr><td  style=\"background-color:Ivory;\">>CTSL-validate-54\tNNLFITEE</td><td  style=\"background-color:Ivory;\">-0.761</td></tr><tr><td  style=\"background-color:AliceBlue;\">>CTSL-validate-89\tYCVFSNQG</td><td  style=\"background-color:AliceBlue;\">-0.769</td></tr><tr><td  style=\"background-color:Ivory;\">>CTSL-validate-83\tEYLLSGDI</td><td  style=\"background-color:Ivory;\">-0.775</td></tr><tr><td  style=\"background-color:AliceBlue;\">>CTSL-validate-12\tLSFQDIAT</td><td  style=\"background-color:AliceBlue;\">-0.783</td></tr><tr><td  style=\"background-color:Ivory;\">>CTSL-validate-91\tGSLGSQGA</td><td  style=\"background-color:Ivory;\">-0.803</td></tr><tr><td  style=\"background-color:AliceBlue;\">>CTSL-validate-90\tNLVNSPHL</td><td  style=\"background-color:AliceBlue;\">-0.804</td></tr><tr><td  style=\"background-color:Ivory;\">>CTSL-validate-82\tKRNQSFCP</td><td  style=\"background-color:Ivory;\">-0.804</td></tr><tr><td  style=\"background-color:AliceBlue;\">>CTSL-validate-84\tPRPASGPI</td><td  style=\"background-color:AliceBlue;\">-0.836</td></tr><tr><td  style=\"background-color:Ivory;\">>CTSL-validate-40\tIIYGGSVT</td><td  style=\"background-color:Ivory;\">-0.841</td></tr><tr><td  style=\"background-color:AliceBlue;\">>CTSL-validate-92\tVVVTSRPE</td><td  style=\"background-color:AliceBlue;\">-0.846</td></tr><tr><td  style=\"background-color:Ivory;\">>CTSL-validate-114\tALVPHQEW</td><td  style=\"background-color:Ivory;\">-0.852</td></tr><tr><td  style=\"background-color:AliceBlue;\">>CTSL-validate-78\tDPYSSAEP</td><td  style=\"background-color:AliceBlue;\">-0.870</td></tr><tr><td  style=\"background-color:Ivory;\">>CTSL-validate-102\tKDISTLEP</td><td  style=\"background-color:Ivory;\">-0.890</td></tr><tr><td  style=\"background-color:AliceBlue;\">>CTSL-validate-24\tQLLCGAAI</td><td  style=\"background-color:AliceBlue;\">-0.900</td></tr><tr><td  style=\"background-color:Ivory;\">>CTSL-validate-42\tFQIEGYNP</td><td  style=\"background-color:Ivory;\">-0.910</td></tr><tr><td  style=\"background-color:AliceBlue;\">>CTSL-validate-10\tFSLADALP</td><td  style=\"background-color:AliceBlue;\">-0.921</td></tr><tr><td  style=\"background-color:Ivory;\">>CTSL-validate-35\tKVFEGNRP</td><td  style=\"background-color:Ivory;\">-0.922</td></tr><tr><td  style=\"background-color:AliceBlue;\">>CTSL-validate-71\tAMLGQAEE</td><td  style=\"background-color:AliceBlue;\">-0.928</td></tr><tr><td  style=\"background-color:Ivory;\">>CTSL-validate-94\tPQIGSTEW</td><td  style=\"background-color:Ivory;\">-0.942</td></tr><tr><td  style=\"background-color:AliceBlue;\">>CTSL-validate-41\tHVILGTQQ</td><td  style=\"background-color:AliceBlue;\">-0.961</td></tr><tr><td  style=\"background-color:Ivory;\">>CTSL-validate-112\tKSYCAEIA</td><td  style=\"background-color:Ivory;\">-0.990</td></tr><tr><td  style=\"background-color:AliceBlue;\">>CTSL-validate-3\tSDLAAHQD</td><td  style=\"background-color:AliceBlue;\">-0.996</td></tr><tr><td  style=\"background-color:Ivory;\">>CTSL-validate-30\tSELAGHQT</td><td  style=\"background-color:Ivory;\">-1.015</td></tr><tr><td  style=\"background-color:AliceBlue;\">>CTSL-validate-74\tSHLGRPDG</td><td  style=\"background-color:AliceBlue;\">-1.019</td></tr><tr><td  style=\"background-color:Ivory;\">>CTSL-validate-81\tVPLGSEKP</td><td  style=\"background-color:Ivory;\">-1.025</td></tr><tr><td  style=\"background-color:AliceBlue;\">>CTSL-validate-48\tGLWFHPEE</td><td  style=\"background-color:AliceBlue;\">-1.028</td></tr><tr><td  style=\"background-color:Ivory;\">>CTSL-validate-95\tLNWLSVDF</td><td  style=\"background-color:Ivory;\">-1.039</td></tr><tr><td  style=\"background-color:AliceBlue;\">>CTSL-validate-11\tFGYVDFES</td><td  style=\"background-color:AliceBlue;\">-1.077</td></tr><tr><td  style=\"background-color:Ivory;\">>CTSL-validate-19\tYELSENDL</td><td  style=\"background-color:Ivory;\">-1.155</td></tr><tr><td  style=\"background-color:AliceBlue;\">>CTSL-validate-57\tKSLTKPLA</td><td  style=\"background-color:AliceBlue;\">-1.191</td></tr><tr><td  style=\"background-color:Ivory;\">>CTSL-validate-58\tHSLVKPSV</td><td  style=\"background-color:Ivory;\">-1.199</td></tr><tr><td  style=\"background-color:AliceBlue;\">>CTSL-validate-99\tQGLETFKP</td><td  style=\"background-color:AliceBlue;\">-1.216</td></tr><tr><td  style=\"background-color:Ivory;\">>CTSL-validate-1\tKSPCAEIA</td><td  style=\"background-color:Ivory;\">-1.271</td></tr><tr><td  style=\"background-color:AliceBlue;\">>CTSL-validate-86\tLGFHSIEL</td><td  style=\"background-color:AliceBlue;\">-1.450</td></tr><tr><td  style=\"background-color:Ivory;\">>CTSL-validate-36\tLQVLGPKP</td><td  style=\"background-color:Ivory;\">-1.565</td></tr>"
       ],
       "metadata": {},
       "output_type": "pyout",
       "prompt_number": 19,
       "text": [
        "<IPython.core.display.HTML at 0x1183dea90>"
       ]
      }
     ],
     "prompt_number": 19
    },
    {
     "cell_type": "code",
     "collapsed": false,
     "input": [
      "%%time\n",
      "results_neg = out_of_core_predict(negf, estimator = estimator, vectorizer = vectorizer)"
     ],
     "language": "python",
     "metadata": {},
     "outputs": []
    },
    {
     "cell_type": "code",
     "collapsed": false,
     "input": [
      "#extract top-k difficult sequences\n",
      "negative_to_positive_ratio = 10\n",
      "num_pos = X1.shape[0]\n",
      "num = int( num_pos * negative_to_positive_ratio )\n",
      "print 'Selecting top %d most difficult to discriminate instances'%num\n",
      "from itertools import chain\n",
      "selected_seqs = list(chain.from_iterable(line.split('\\t') for line, prediction in results_neg[:num]))"
     ],
     "language": "python",
     "metadata": {},
     "outputs": []
    },
    {
     "cell_type": "code",
     "collapsed": false,
     "input": [
      "%%time\n",
      "graphs_list, weights = pre_process( selected_seqs )\n",
      "X3 = vectorizer.transform( graphs_list, weights = weights, n_jobs = n_jobs )\n",
      "print 'Instances: %d ; Features: %d with an avg of %d features per instance' % (X3.shape[0], X3.shape[1],  X3.getnnz()/X3.shape[0])"
     ],
     "language": "python",
     "metadata": {},
     "outputs": []
    },
    {
     "cell_type": "code",
     "collapsed": false,
     "input": [
      "%%time\n",
      "X,y = make_data_matrix(X1,X3)\n",
      "estimator2 = estimate_predictive_performance(X,y)"
     ],
     "language": "python",
     "metadata": {},
     "outputs": []
    },
    {
     "cell_type": "code",
     "collapsed": false,
     "input": [
      "%%time\n",
      "results2 = out_of_core_predict(testf, estimator = estimator2, vectorizer = vectorizer)"
     ],
     "language": "python",
     "metadata": {},
     "outputs": []
    },
    {
     "cell_type": "code",
     "collapsed": false,
     "input": [
      "from ipy_table import * \n",
      "\n",
      "mat=[('ID','Conf')]\n",
      "mat += results2\n",
      "make_table(mat)\n",
      "apply_theme('basic')\n",
      "set_global_style(float_format = '%0.3f')"
     ],
     "language": "python",
     "metadata": {},
     "outputs": []
    }
   ],
   "metadata": {}
  }
 ]
}