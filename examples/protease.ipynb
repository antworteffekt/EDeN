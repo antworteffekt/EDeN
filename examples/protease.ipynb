{
 "metadata": {
  "name": "",
  "signature": "sha256:fa7975a5e6db616af3d7b164c4027125ee72860a1a8f0ff7403c6d2f6ba32bfa"
 },
 "nbformat": 3,
 "nbformat_minor": 0,
 "worksheets": [
  {
   "cells": [
    {
     "cell_type": "code",
     "collapsed": false,
     "input": [
      "%pylab inline\n",
      "import pylab as pl"
     ],
     "language": "python",
     "metadata": {},
     "outputs": [
      {
       "output_type": "stream",
       "stream": "stdout",
       "text": [
        "Populating the interactive namespace from numpy and matplotlib\n"
       ]
      }
     ],
     "prompt_number": 1
    },
    {
     "cell_type": "markdown",
     "metadata": {},
     "source": [
      "auxiliary functions"
     ]
    },
    {
     "cell_type": "code",
     "collapsed": false,
     "input": [
      "#induce a stochastic gradient descent SVM predictive model\n",
      "from sklearn.linear_model import SGDClassifier\n",
      "from sklearn.grid_search import RandomizedSearchCV\n",
      "from sklearn import cross_validation\n",
      "from scipy.stats import randint\n",
      "from scipy.stats import uniform\n",
      "import numpy as np\n",
      "from scipy import stats\n",
      "\n",
      "def estimate_predictive_performance(X,y):\n",
      "    predictor = SGDClassifier()\n",
      "    #hyperparameter optimization\n",
      "    param_dist = {\"n_iter\": randint(5, 100),\n",
      "                  \"power_t\": uniform(0.1),\n",
      "                  \"alpha\": uniform(1e-08,1e-03),\n",
      "                  \"eta0\" : uniform(1e-03,10),\n",
      "                  \"penalty\": [\"l1\", \"l2\", \"elasticnet\"],\n",
      "                  \"learning_rate\": [\"invscaling\", \"constant\",\"optimal\"]}\n",
      "    scoring = 'roc_auc'\n",
      "    n_iter_search = 20\n",
      "    random_search = RandomizedSearchCV(predictor,param_distributions=param_dist,n_iter=n_iter_search,cv=5,scoring=scoring,n_jobs=8)\n",
      "    random_search.fit(X, y)\n",
      "    optpredictor= SGDClassifier(shuffle=True, n_jobs=-1, **random_search.best_params_)\n",
      "    #fit the predictor on all available data\n",
      "    optpredictor.fit(X,y)\n",
      "    \n",
      "    \n",
      "    print 'Classifier:'\n",
      "    print optpredictor\n",
      "    print '-'*80\n",
      "\n",
      "    print 'Predictive performance:'\n",
      "    #assess the generalization capacity of the model via a 10-fold cross validation\n",
      "    for scoring in ['accuracy','precision', 'recall', 'f1', 'average_precision', 'roc_auc']:\n",
      "        scores = cross_validation.cross_val_score(optpredictor, X, y,cv=10, scoring=scoring, n_jobs=8)\n",
      "        print('%20s: %.3f +- %.3f' % (scoring, np.mean(scores),np.std(scores)))\n",
      "    print '-'*80\n",
      "    \n",
      "    return optpredictor"
     ],
     "language": "python",
     "metadata": {},
     "outputs": [],
     "prompt_number": 2
    },
    {
     "cell_type": "code",
     "collapsed": false,
     "input": [
      "#concatenate the two data matrices into one matrix\n",
      "#and we create a target vector that identifies with +1 and -1 the instances from the first or the second RNA family\n",
      "from scipy.sparse import vstack\n",
      "import numpy as np\n",
      "\n",
      "def make_data_matrix(X1,X2):\n",
      "    #create target array\n",
      "    yp =  [1] * X1.shape[0]\n",
      "    yn = [-1] * X2.shape[0]\n",
      "    y = np.array(yp + yn)\n",
      "    #update data matrix\n",
      "    X = vstack( [X1,X2] , format = \"csr\")\n",
      "    return X,y"
     ],
     "language": "python",
     "metadata": {},
     "outputs": [],
     "prompt_number": 3
    },
    {
     "cell_type": "code",
     "collapsed": false,
     "input": [
      "def convert( input ):\n",
      "    from eden.modifier.fasta import fasta_to_fasta, remove_modifier, insert_landmark_modifier\n",
      "    \n",
      "    #skip fasta entries that contain the '-' symbol\n",
      "    seqs = fasta_to_fasta( input, modifier = remove_modifier, remove_char = '-' )\n",
      "    \n",
      "    #insert landmark in the cleavage site after pos 4, in our case this means always in the middle position\n",
      "    seqs = fasta_to_fasta( seqs, modifier = insert_landmark_modifier, landmark_relative_position = 0.5, landmark_char = '%' )\n",
      "    seqs = fasta_to_fasta( seqs, modifier = insert_landmark_modifier, landmark_relative_position = 0, landmark_char = '#' )\n",
      "    seqs = fasta_to_fasta( seqs, modifier = insert_landmark_modifier, landmark_relative_position = 1, landmark_char = '$' )\n",
      "\n",
      "    from eden.converter.fasta import fasta_to_eden\n",
      "    graphs = fasta_to_eden( seqs )\n",
      "    \n",
      "    from eden.modifier.graph.vertex_attributes import translate \n",
      "    graphs = translate(graphs, label_map = aa_encoding_dict5D, default = [0,0,0,0,0])\n",
      "    \n",
      "    return graphs"
     ],
     "language": "python",
     "metadata": {},
     "outputs": [],
     "prompt_number": 4
    },
    {
     "cell_type": "code",
     "collapsed": false,
     "input": [
      "#set the 'resolution' of the vectorization\n",
      "from eden.graph import Vectorizer\n",
      "vectorizer = Vectorizer( r = 2, d = 5, discretization_size = 5, discretization_dimension = 5)"
     ],
     "language": "python",
     "metadata": {},
     "outputs": [],
     "prompt_number": 5
    },
    {
     "cell_type": "code",
     "collapsed": false,
     "input": [
      "#data sources\n",
      "posf  = 'http://share.gruenings.eu/schilling/mmp2-training-final.fasta'\n",
      "negf  = 'http://share.gruenings.eu/schilling/human-shuffled.fasta'\n",
      "testf = 'http://share.gruenings.eu/schilling/both-VALIDATE-final.fasta'"
     ],
     "language": "python",
     "metadata": {},
     "outputs": [],
     "prompt_number": 6
    },
    {
     "cell_type": "code",
     "collapsed": false,
     "input": [
      "from urllib import urlretrieve\n",
      "import pickle\n",
      "urlretrieve (\"http://www.bioinf.uni-freiburg.de/~costa/BLOSUM62_5D_encoding_dict.p\", \"BLOSUM62_5D_encoding_dict.p\")\n",
      "aa_encoding_dict5D = pickle.load( open( \"BLOSUM62_5D_encoding_dict.p\", \"rb\" ) )"
     ],
     "language": "python",
     "metadata": {},
     "outputs": [],
     "prompt_number": 7
    },
    {
     "cell_type": "code",
     "collapsed": false,
     "input": [
      "#add encoding for landmarks\n",
      "landmark_encodings = {'%':[10,0,0,0,0], '#':[0,10,0,0,0], '$':[0,0,10,0,0]}\n",
      "aa_encoding_dict5D.update(landmark_encodings)"
     ],
     "language": "python",
     "metadata": {},
     "outputs": [],
     "prompt_number": 8
    },
    {
     "cell_type": "code",
     "collapsed": false,
     "input": [
      "%%time\n",
      "vectorizer.fit( convert( posf ) )\n",
      "X1 = vectorizer.transform( convert( posf ) )\n",
      "print 'Instances: %d ; Features: %d with an avg of %d features per instance' % (X1.shape[0], X1.shape[1],  X1.getnnz()/X1.shape[0])"
     ],
     "language": "python",
     "metadata": {},
     "outputs": []
    },
    {
     "cell_type": "code",
     "collapsed": false,
     "input": [
      "%%time\n",
      "from eden.modifier.fasta import fasta_to_fasta, shuffle_modifier\n",
      "graphs = convert( fasta_to_fasta( posf, modifier = shuffle_modifier, times = 5 ) )\n",
      "X2 = vectorizer.transform( graphs )\n",
      "print 'Instances: %d ; Features: %d with an avg of %d features per instance' % (X2.shape[0], X2.shape[1],  X2.getnnz()/X2.shape[0])"
     ],
     "language": "python",
     "metadata": {},
     "outputs": [
      {
       "output_type": "stream",
       "stream": "stdout",
       "text": [
        "Instances: 2630 ; Features: 1048577 with an avg of 149 features per instance\n",
        "CPU times: user 6.42 s, sys: 1.27 s, total: 7.69 s\n",
        "Wall time: 7.36 s\n"
       ]
      }
     ],
     "prompt_number": 8
    },
    {
     "cell_type": "code",
     "collapsed": false,
     "input": [
      "%%time\n",
      "X,y = make_data_matrix(X1,X2)\n",
      "estimator = estimate_predictive_performance(X,y)"
     ],
     "language": "python",
     "metadata": {},
     "outputs": [
      {
       "output_type": "stream",
       "stream": "stdout",
       "text": [
        "Classifier:\n",
        "SGDClassifier(alpha=7.37874964617e-05, class_weight=None, epsilon=0.1,\n",
        "       eta0=4.63695124775, fit_intercept=True, l1_ratio=0.15,\n",
        "       learning_rate='invscaling', loss='hinge', n_iter=91, n_jobs=-1,\n",
        "       penalty='elasticnet', power_t=0.332792162282, random_state=None,\n",
        "       shuffle=True, verbose=0, warm_start=False)\n",
        "--------------------------------------------------------------------------------\n",
        "Predictive performance:\n"
       ]
      },
      {
       "output_type": "stream",
       "stream": "stdout",
       "text": [
        "            accuracy: 0.858 +- 0.014\n"
       ]
      },
      {
       "output_type": "stream",
       "stream": "stdout",
       "text": [
        "           precision: 0.660 +- 0.081\n"
       ]
      },
      {
       "output_type": "stream",
       "stream": "stdout",
       "text": [
        "              recall: 0.304 +- 0.125\n"
       ]
      },
      {
       "output_type": "stream",
       "stream": "stdout",
       "text": [
        "                  f1: 0.402 +- 0.124\n"
       ]
      },
      {
       "output_type": "stream",
       "stream": "stdout",
       "text": [
        "   average_precision: 0.578 +- 0.096\n"
       ]
      },
      {
       "output_type": "stream",
       "stream": "stdout",
       "text": [
        "             roc_auc: 0.877 +- 0.043\n",
        "--------------------------------------------------------------------------------\n",
        "CPU times: user 6.3 s, sys: 3.93 s, total: 10.2 s\n",
        "Wall time: 56.2 s\n"
       ]
      }
     ],
     "prompt_number": 9
    },
    {
     "cell_type": "code",
     "collapsed": false,
     "input": [
      "def predict(input, estimator = None, vectorizer = None):\n",
      "    from eden.graph import OnlinePredictor\n",
      "    online_predictor = OnlinePredictor( estimator = estimator, vectorizer = vectorizer )\n",
      "\n",
      "    #extract oneline fasta\n",
      "    from eden.modifier.fasta import fasta_to_fasta, one_line_modifier\n",
      "    fasta_seqs = fasta_to_fasta( input, modifier = one_line_modifier, one_line = True )\n",
      "\n",
      "    #extract graphs\n",
      "    graphs = convert( input )\n",
      "\n",
      "    #sort and store prediction-fasta pairs\n",
      "    import itertools as it \n",
      "    results = sorted([(line, prediction) for line, prediction in it.izip(fasta_seqs, online_predictor.predict(graphs))], key=lambda val: val[1] , reverse=True)\n",
      "\n",
      "    return results"
     ],
     "language": "python",
     "metadata": {},
     "outputs": [],
     "prompt_number": 12
    },
    {
     "cell_type": "code",
     "collapsed": false,
     "input": [
      "%%time\n",
      "results = predict(negf, estimator = estimator, vectorizer = vectorizer)"
     ],
     "language": "python",
     "metadata": {},
     "outputs": [],
     "prompt_number": 13
    },
    {
     "cell_type": "code",
     "collapsed": false,
     "input": [
      "#extract top-k difficult sequences\n",
      "negative_to_positive_ratio = 2\n",
      "num_pos = X1.shape[0]\n",
      "num = num_pos * negative_to_positive_ratio\n",
      "print 'Selecting top %d most difficult to discriminate instances'%num\n",
      "from itertools import chain\n",
      "selected_seqs = list(chain.from_iterable(line.split('\\t') for line, prediction in results[:num]))\n",
      "graphs = convert(selected_seqs)"
     ],
     "language": "python",
     "metadata": {},
     "outputs": [
      {
       "output_type": "stream",
       "stream": "stdout",
       "text": [
        "Selecting top 526 most difficult to discriminate instances\n"
       ]
      }
     ],
     "prompt_number": 14
    },
    {
     "cell_type": "code",
     "collapsed": false,
     "input": [
      "%%time\n",
      "X3 = vectorizer.transform( graphs )\n",
      "print 'Instances: %d ; Features: %d with an avg of %d features per instance' % (X3.shape[0], X3.shape[1],  X3.getnnz()/X3.shape[0])"
     ],
     "language": "python",
     "metadata": {},
     "outputs": [
      {
       "output_type": "stream",
       "stream": "stdout",
       "text": [
        "Instances: 526 ; Features: 1048577 with an avg of 150 features per instance\n",
        "CPU times: user 1.12 s, sys: 254 ms, total: 1.37 s\n",
        "Wall time: 1.38 s\n"
       ]
      }
     ],
     "prompt_number": 15
    },
    {
     "cell_type": "code",
     "collapsed": false,
     "input": [
      "%%time\n",
      "X,y = make_data_matrix(X1,X3)\n",
      "estimator = estimate_predictive_performance(X,y)"
     ],
     "language": "python",
     "metadata": {},
     "outputs": [
      {
       "output_type": "stream",
       "stream": "stdout",
       "text": [
        "Classifier:\n",
        "SGDClassifier(alpha=0.000724699711188, class_weight=None, epsilon=0.1,\n",
        "       eta0=1.47857686731, fit_intercept=True, l1_ratio=0.15,\n",
        "       learning_rate='invscaling', loss='hinge', n_iter=89, n_jobs=-1,\n",
        "       penalty='elasticnet', power_t=0.705076829035, random_state=None,\n",
        "       shuffle=True, verbose=0, warm_start=False)\n",
        "--------------------------------------------------------------------------------\n",
        "Predictive performance:\n"
       ]
      },
      {
       "output_type": "stream",
       "stream": "stdout",
       "text": [
        "            accuracy: 0.649 +- 0.035\n"
       ]
      },
      {
       "output_type": "stream",
       "stream": "stdout",
       "text": [
        "           precision: 0.637 +- 0.044\n"
       ]
      },
      {
       "output_type": "stream",
       "stream": "stdout",
       "text": [
        "              recall: 0.713 +- 0.079\n"
       ]
      },
      {
       "output_type": "stream",
       "stream": "stdout",
       "text": [
        "                  f1: 0.669 +- 0.032\n"
       ]
      },
      {
       "output_type": "stream",
       "stream": "stdout",
       "text": [
        "   average_precision: 0.669 +- 0.051\n"
       ]
      },
      {
       "output_type": "stream",
       "stream": "stdout",
       "text": [
        "             roc_auc: 0.705 +- 0.053\n",
        "--------------------------------------------------------------------------------\n",
        "CPU times: user 2.87 s, sys: 1.05 s, total: 3.92 s\n",
        "Wall time: 25.5 s\n"
       ]
      }
     ],
     "prompt_number": 16
    },
    {
     "cell_type": "code",
     "collapsed": false,
     "input": [
      "results = predict(testf, estimator = estimator, vectorizer = vectorizer)"
     ],
     "language": "python",
     "metadata": {},
     "outputs": [],
     "prompt_number": 17
    },
    {
     "cell_type": "code",
     "collapsed": false,
     "input": [
      "from ipy_table import * \n",
      "\n",
      "mat=[('ID','Conf')]\n",
      "mat += results\n",
      "make_table(mat)\n",
      "apply_theme('basic')\n",
      "set_global_style(float_format = '%0.3f')"
     ],
     "language": "python",
     "metadata": {},
     "outputs": [
      {
       "html": [
        "<table border=\"1\" cellpadding=\"3\" cellspacing=\"0\"  style=\"border:1px solid black;border-collapse:collapse;\"><tr><td  style=\"background-color:LightGray;\"><b>ID</b></td><td  style=\"background-color:LightGray;\"><b>Conf</b></td></tr><tr><td  style=\"background-color:Ivory;\">>MMP2-validate-73\tLSQNLVVK</td><td  style=\"background-color:Ivory;\">1.222</td></tr><tr><td  style=\"background-color:AliceBlue;\">>MMP2-validate-78\tLVAAMQHF</td><td  style=\"background-color:AliceBlue;\">1.152</td></tr><tr><td  style=\"background-color:Ivory;\">>MMP2-validate-86\tPPAPTSGM</td><td  style=\"background-color:Ivory;\">0.984</td></tr><tr><td  style=\"background-color:AliceBlue;\">>MMP2-validate-50\tAPVALLND</td><td  style=\"background-color:AliceBlue;\">0.881</td></tr><tr><td  style=\"background-color:Ivory;\">>MMP2-validate-34\tL-ESLFGS</td><td  style=\"background-color:Ivory;\">0.865</td></tr><tr><td  style=\"background-color:AliceBlue;\">>MMP2-validate-23\tTVHAITAT</td><td  style=\"background-color:AliceBlue;\">0.850</td></tr><tr><td  style=\"background-color:Ivory;\">>MMP2-validate-51\tVVQGLLSE</td><td  style=\"background-color:Ivory;\">0.845</td></tr><tr><td  style=\"background-color:AliceBlue;\">>MMP2-validate-1\tEPAAAAAP</td><td  style=\"background-color:AliceBlue;\">0.784</td></tr><tr><td  style=\"background-color:Ivory;\">>MMP2-validate-37\tPICSLHDQ</td><td  style=\"background-color:Ivory;\">0.726</td></tr><tr><td  style=\"background-color:AliceBlue;\">>CTSL-validate-3\tSDLAAHQD</td><td  style=\"background-color:AliceBlue;\">0.726</td></tr><tr><td  style=\"background-color:Ivory;\">>MMP2-validate-83\tTIQGQYAI</td><td  style=\"background-color:Ivory;\">0.715</td></tr><tr><td  style=\"background-color:AliceBlue;\">>CTSL-validate-5\tELINALYP</td><td  style=\"background-color:AliceBlue;\">0.712</td></tr><tr><td  style=\"background-color:Ivory;\">>MMP2-validate-15\tSPSNIILD</td><td  style=\"background-color:Ivory;\">0.688</td></tr><tr><td  style=\"background-color:AliceBlue;\">>MMP2-validate-76\tQPEGMISE</td><td  style=\"background-color:AliceBlue;\">0.675</td></tr><tr><td  style=\"background-color:Ivory;\">>CTSL-validate-11\tFGYVDFES</td><td  style=\"background-color:Ivory;\">0.655</td></tr><tr><td  style=\"background-color:AliceBlue;\">>MMP2-validate-18\tVADAILGN</td><td  style=\"background-color:AliceBlue;\">0.646</td></tr><tr><td  style=\"background-color:Ivory;\">>MMP2-validate-81\tSICQQNGI</td><td  style=\"background-color:Ivory;\">0.593</td></tr><tr><td  style=\"background-color:AliceBlue;\">>MMP2-validate-30\tSPANLAVY</td><td  style=\"background-color:AliceBlue;\">0.591</td></tr><tr><td  style=\"background-color:Ivory;\">>CTSL-validate-47\t-VILHLKE</td><td  style=\"background-color:Ivory;\">0.582</td></tr><tr><td  style=\"background-color:AliceBlue;\">>MMP2-validate-67\tEPGPLTVG</td><td  style=\"background-color:AliceBlue;\">0.581</td></tr><tr><td  style=\"background-color:Ivory;\">>MMP2-validate-26\tSPCCIVTS</td><td  style=\"background-color:Ivory;\">0.574</td></tr><tr><td  style=\"background-color:AliceBlue;\">>MMP2-validate-90\tRPASVSSS</td><td  style=\"background-color:AliceBlue;\">0.574</td></tr><tr><td  style=\"background-color:Ivory;\">>MMP2-validate-91\tLVANVTNP</td><td  style=\"background-color:Ivory;\">0.561</td></tr><tr><td  style=\"background-color:AliceBlue;\">>MMP2-validate-9\tTLNSFMGL</td><td  style=\"background-color:AliceBlue;\">0.545</td></tr><tr><td  style=\"background-color:Ivory;\">>CTSL-validate-49\tALV-HQEW</td><td  style=\"background-color:Ivory;\">0.519</td></tr><tr><td  style=\"background-color:AliceBlue;\">>MMP2-validate-40\t-T-GLIFV</td><td  style=\"background-color:AliceBlue;\">0.518</td></tr><tr><td  style=\"background-color:Ivory;\">>MMP2-validate-87\tILGGVISA</td><td  style=\"background-color:Ivory;\">0.509</td></tr><tr><td  style=\"background-color:AliceBlue;\">>MMP2-validate-60\tRPEELRED</td><td  style=\"background-color:AliceBlue;\">0.508</td></tr><tr><td  style=\"background-color:Ivory;\">>MMP2-validate-80\tPPLSQAQG</td><td  style=\"background-color:Ivory;\">0.495</td></tr><tr><td  style=\"background-color:AliceBlue;\">>CTSL-validate-34\t-HYGGLTG</td><td  style=\"background-color:AliceBlue;\">0.491</td></tr><tr><td  style=\"background-color:Ivory;\">>MMP2-validate-12\tAFAPICNP</td><td  style=\"background-color:Ivory;\">0.461</td></tr><tr><td  style=\"background-color:AliceBlue;\">>MMP2-validate-69\tTPFLLVGT</td><td  style=\"background-color:AliceBlue;\">0.456</td></tr><tr><td  style=\"background-color:Ivory;\">>MMP2-validate-84\tAAAASAAA</td><td  style=\"background-color:Ivory;\">0.453</td></tr><tr><td  style=\"background-color:AliceBlue;\">>MMP2-validate-47\t-VSHLLGI</td><td  style=\"background-color:AliceBlue;\">0.452</td></tr><tr><td  style=\"background-color:Ivory;\">>MMP2-validate-7\tSPAAFINP</td><td  style=\"background-color:Ivory;\">0.449</td></tr><tr><td  style=\"background-color:AliceBlue;\">>MMP2-validate-45\tAFDSLLAG</td><td  style=\"background-color:AliceBlue;\">0.440</td></tr><tr><td  style=\"background-color:Ivory;\">>CTSL-validate-22\tCQIQFGPH</td><td  style=\"background-color:Ivory;\">0.439</td></tr><tr><td  style=\"background-color:AliceBlue;\">>MMP2-validate-10\tGHAAFTSD</td><td  style=\"background-color:AliceBlue;\">0.424</td></tr><tr><td  style=\"background-color:Ivory;\">>MMP2-validate-35\tTAISLFYE</td><td  style=\"background-color:Ivory;\">0.416</td></tr><tr><td  style=\"background-color:AliceBlue;\">>MMP2-validate-6\tSVASEVST</td><td  style=\"background-color:AliceBlue;\">0.388</td></tr><tr><td  style=\"background-color:Ivory;\">>MMP2-validate-52\tAPPPLLSP</td><td  style=\"background-color:Ivory;\">0.378</td></tr><tr><td  style=\"background-color:AliceBlue;\">>MMP2-validate-28\tTVAGLAGK</td><td  style=\"background-color:AliceBlue;\">0.371</td></tr><tr><td  style=\"background-color:Ivory;\">>MMP2-validate-25\tKPGAIVID</td><td  style=\"background-color:Ivory;\">0.367</td></tr><tr><td  style=\"background-color:AliceBlue;\">>CTSL-validate-31\tVTIGGINI</td><td  style=\"background-color:AliceBlue;\">0.361</td></tr><tr><td  style=\"background-color:Ivory;\">>MMP2-validate-14\tTIGLIHAV</td><td  style=\"background-color:Ivory;\">0.353</td></tr><tr><td  style=\"background-color:AliceBlue;\">>CTSL-validate-58\tHSLVKPSV</td><td  style=\"background-color:AliceBlue;\">0.348</td></tr><tr><td  style=\"background-color:Ivory;\">>CTSL-validate-55\t-MLAIYDG</td><td  style=\"background-color:Ivory;\">0.337</td></tr><tr><td  style=\"background-color:AliceBlue;\">>MMP2-validate-24\tCPQEIVDY</td><td  style=\"background-color:AliceBlue;\">0.328</td></tr><tr><td  style=\"background-color:Ivory;\">>MMP2-validate-64\tLLFPLTAQ</td><td  style=\"background-color:Ivory;\">0.325</td></tr><tr><td  style=\"background-color:AliceBlue;\">>MMP2-validate-63\tELQNLTAA</td><td  style=\"background-color:AliceBlue;\">0.315</td></tr><tr><td  style=\"background-color:Ivory;\">>CTSL-validate-7\t--LDAQVQ</td><td  style=\"background-color:Ivory;\">0.315</td></tr><tr><td  style=\"background-color:AliceBlue;\">>MMP2-validate-54\tIPIPLMDY</td><td  style=\"background-color:AliceBlue;\">0.307</td></tr><tr><td  style=\"background-color:Ivory;\">>MMP2-validate-61\tDLANLSAA</td><td  style=\"background-color:Ivory;\">0.296</td></tr><tr><td  style=\"background-color:AliceBlue;\">>MMP2-validate-41\tEVENLILE</td><td  style=\"background-color:AliceBlue;\">0.285</td></tr><tr><td  style=\"background-color:Ivory;\">>MMP2-validate-66\tTPTFLTTG</td><td  style=\"background-color:Ivory;\">0.273</td></tr><tr><td  style=\"background-color:AliceBlue;\">>CTSL-validate-41\tHVILGTQQ</td><td  style=\"background-color:AliceBlue;\">0.267</td></tr><tr><td  style=\"background-color:Ivory;\">>CTSL-validate-23\t--F-FVEF</td><td  style=\"background-color:Ivory;\">0.265</td></tr><tr><td  style=\"background-color:AliceBlue;\">>MMP2-validate-93\tGPYDVVVL</td><td  style=\"background-color:AliceBlue;\">0.257</td></tr><tr><td  style=\"background-color:Ivory;\">>MMP2-validate-11\t-CSGIASA</td><td  style=\"background-color:Ivory;\">0.255</td></tr><tr><td  style=\"background-color:AliceBlue;\">>MMP2-validate-68\tHLSELVEQ</td><td  style=\"background-color:AliceBlue;\">0.251</td></tr><tr><td  style=\"background-color:Ivory;\">>MMP2-validate-72\tVVSGLVQF</td><td  style=\"background-color:Ivory;\">0.251</td></tr><tr><td  style=\"background-color:AliceBlue;\">>CTSL-validate-6\t-LYGAQFH</td><td  style=\"background-color:AliceBlue;\">0.249</td></tr><tr><td  style=\"background-color:Ivory;\">>MMP2-validate-74\tGWGNLVYV</td><td  style=\"background-color:Ivory;\">0.249</td></tr><tr><td  style=\"background-color:AliceBlue;\">>CTSL-validate-8\tWAFSATGA</td><td  style=\"background-color:AliceBlue;\">0.247</td></tr><tr><td  style=\"background-color:Ivory;\">>CTSL-validate-46\tTSVEHIIV</td><td  style=\"background-color:Ivory;\">0.243</td></tr><tr><td  style=\"background-color:AliceBlue;\">>MMP2-validate-89\tGAVAVSAA</td><td  style=\"background-color:AliceBlue;\">0.237</td></tr><tr><td  style=\"background-color:Ivory;\">>MMP2-validate-17\t-VLGILAM</td><td  style=\"background-color:Ivory;\">0.225</td></tr><tr><td  style=\"background-color:AliceBlue;\">>MMP2-validate-53\tKPQNLLVD</td><td  style=\"background-color:AliceBlue;\">0.215</td></tr><tr><td  style=\"background-color:Ivory;\">>CTSL-validate-4\tGPLPAKDI</td><td  style=\"background-color:Ivory;\">0.213</td></tr><tr><td  style=\"background-color:AliceBlue;\">>CTSL-validate-59\t-NVGLDIE</td><td  style=\"background-color:AliceBlue;\">0.210</td></tr><tr><td  style=\"background-color:Ivory;\">>MMP2-validate-70\tLLSPLVLE</td><td  style=\"background-color:Ivory;\">0.204</td></tr><tr><td  style=\"background-color:AliceBlue;\">>MMP2-validate-71\tGFAGLVQE</td><td  style=\"background-color:AliceBlue;\">0.204</td></tr><tr><td  style=\"background-color:Ivory;\">>MMP2-validate-2\tKPATAIGV</td><td  style=\"background-color:Ivory;\">0.198</td></tr><tr><td  style=\"background-color:AliceBlue;\">>MMP2-validate-19\tTPLSIQAH</td><td  style=\"background-color:AliceBlue;\">0.192</td></tr><tr><td  style=\"background-color:Ivory;\">>CTSL-validate-42\tFQIEGYNP</td><td  style=\"background-color:Ivory;\">0.189</td></tr><tr><td  style=\"background-color:AliceBlue;\">>MMP2-validate-94\tPVAGWINA</td><td  style=\"background-color:AliceBlue;\">0.184</td></tr><tr><td  style=\"background-color:Ivory;\">>CTSL-validate-35\t-VFEGNRP</td><td  style=\"background-color:Ivory;\">0.184</td></tr><tr><td  style=\"background-color:AliceBlue;\">>MMP2-validate-82\tSICQQNGI</td><td  style=\"background-color:AliceBlue;\">0.184</td></tr><tr><td  style=\"background-color:Ivory;\">>CTSL-validate-52\tGCITIIGG</td><td  style=\"background-color:Ivory;\">0.179</td></tr><tr><td  style=\"background-color:AliceBlue;\">>CTSL-validate-14\t-FLQDYFD</td><td  style=\"background-color:AliceBlue;\">0.176</td></tr><tr><td  style=\"background-color:Ivory;\">>MMP2-validate-38\tNPAMLHNI</td><td  style=\"background-color:Ivory;\">0.172</td></tr><tr><td  style=\"background-color:AliceBlue;\">>MMP2-validate-8\tI---FLGA</td><td  style=\"background-color:AliceBlue;\">0.170</td></tr><tr><td  style=\"background-color:Ivory;\">>MMP2-validate-46\tPATPLLDY</td><td  style=\"background-color:Ivory;\">0.169</td></tr><tr><td  style=\"background-color:AliceBlue;\">>CTSL-validate-57\t-SLTKPLA</td><td  style=\"background-color:AliceBlue;\">0.157</td></tr><tr><td  style=\"background-color:Ivory;\">>CTSL-validate-15\tYSYGEATH</td><td  style=\"background-color:Ivory;\">0.148</td></tr><tr><td  style=\"background-color:AliceBlue;\">>CTSL-validate-51\tELAQIAGR</td><td  style=\"background-color:AliceBlue;\">0.142</td></tr><tr><td  style=\"background-color:Ivory;\">>CTSL-validate-45\tYCLEHGIQ</td><td  style=\"background-color:Ivory;\">0.142</td></tr><tr><td  style=\"background-color:AliceBlue;\">>CTSL-validate-27\tAGSFGGAG</td><td  style=\"background-color:AliceBlue;\">0.127</td></tr><tr><td  style=\"background-color:Ivory;\">>MMP2-validate-75\tCPQEMAAV</td><td  style=\"background-color:Ivory;\">0.123</td></tr><tr><td  style=\"background-color:AliceBlue;\">>MMP2-validate-32\tRPGMLEML</td><td  style=\"background-color:AliceBlue;\">0.122</td></tr><tr><td  style=\"background-color:Ivory;\">>CTSL-validate-17\t-LFNEHIE</td><td  style=\"background-color:Ivory;\">0.119</td></tr><tr><td  style=\"background-color:AliceBlue;\">>CTSL-validate-39\tHFHWGSLD</td><td  style=\"background-color:AliceBlue;\">0.111</td></tr><tr><td  style=\"background-color:Ivory;\">>MMP2-validate-79\tVLGQMVID</td><td  style=\"background-color:Ivory;\">0.097</td></tr><tr><td  style=\"background-color:AliceBlue;\">>MMP2-validate-85\tIVSWSQVG</td><td  style=\"background-color:AliceBlue;\">0.096</td></tr><tr><td  style=\"background-color:Ivory;\">>CTSL-validate-44\t-LLGHEVE</td><td  style=\"background-color:Ivory;\">0.094</td></tr><tr><td  style=\"background-color:AliceBlue;\">>MMP2-validate-16\tLSDNIISG</td><td  style=\"background-color:AliceBlue;\">0.090</td></tr><tr><td  style=\"background-color:Ivory;\">>CTSL-validate-53\t-HLEINPD</td><td  style=\"background-color:Ivory;\">0.086</td></tr><tr><td  style=\"background-color:AliceBlue;\">>CTSL-validate-9\t-T--AVKP</td><td  style=\"background-color:AliceBlue;\">0.084</td></tr><tr><td  style=\"background-color:Ivory;\">>MMP2-validate-31\t-QAHLCVL</td><td  style=\"background-color:Ivory;\">0.084</td></tr><tr><td  style=\"background-color:AliceBlue;\">>MMP2-validate-4\tRPAPAVGE</td><td  style=\"background-color:AliceBlue;\">0.076</td></tr><tr><td  style=\"background-color:Ivory;\">>MMP2-validate-59\tHISQLQHE</td><td  style=\"background-color:Ivory;\">0.069</td></tr><tr><td  style=\"background-color:AliceBlue;\">>MMP2-validate-42\tAAAALINF</td><td  style=\"background-color:AliceBlue;\">0.067</td></tr><tr><td  style=\"background-color:Ivory;\">>CTSL-validate-18\tQLISEKPE</td><td  style=\"background-color:Ivory;\">0.062</td></tr><tr><td  style=\"background-color:AliceBlue;\">>CTSL-validate-1\t---CAEIA</td><td  style=\"background-color:AliceBlue;\">0.058</td></tr><tr><td  style=\"background-color:Ivory;\">>MMP2-validate-97\tA-GDYNGH</td><td  style=\"background-color:Ivory;\">0.052</td></tr><tr><td  style=\"background-color:AliceBlue;\">>CTSL-validate-37\tEALGGQAL</td><td  style=\"background-color:AliceBlue;\">0.039</td></tr><tr><td  style=\"background-color:Ivory;\">>MMP2-validate-5\tSSSNCVTD</td><td  style=\"background-color:Ivory;\">0.038</td></tr><tr><td  style=\"background-color:AliceBlue;\">>CTSL-validate-10\tFSLADALP</td><td  style=\"background-color:AliceBlue;\">0.030</td></tr><tr><td  style=\"background-color:Ivory;\">>CTSL-validate-33\tFEVQGLQP</td><td  style=\"background-color:Ivory;\">0.028</td></tr><tr><td  style=\"background-color:AliceBlue;\">>CTSL-validate-40\tIIYGGSVT</td><td  style=\"background-color:AliceBlue;\">0.025</td></tr><tr><td  style=\"background-color:Ivory;\">>MMP2-validate-57\tQIA-LQAQ</td><td  style=\"background-color:Ivory;\">0.025</td></tr><tr><td  style=\"background-color:AliceBlue;\">>CTSL-validate-13\t-QLCDNAG</td><td  style=\"background-color:AliceBlue;\">0.024</td></tr><tr><td  style=\"background-color:Ivory;\">>MMP2-validate-29\tDASYLASE</td><td  style=\"background-color:Ivory;\">0.021</td></tr><tr><td  style=\"background-color:AliceBlue;\">>MMP2-validate-3\tQPMPASSP</td><td  style=\"background-color:AliceBlue;\">0.004</td></tr><tr><td  style=\"background-color:Ivory;\">>MMP2-validate-13\tMASNIFGP</td><td  style=\"background-color:Ivory;\">-0.004</td></tr><tr><td  style=\"background-color:AliceBlue;\">>MMP2-validate-48\t-DNHLLGT</td><td  style=\"background-color:AliceBlue;\">-0.014</td></tr><tr><td  style=\"background-color:Ivory;\">>CTSL-validate-30\tSELAGHQT</td><td  style=\"background-color:Ivory;\">-0.015</td></tr><tr><td  style=\"background-color:AliceBlue;\">>CTSL-validate-50\tELLTHSTT</td><td  style=\"background-color:AliceBlue;\">-0.026</td></tr><tr><td  style=\"background-color:Ivory;\">>CTSL-validate-19\tYELSENDL</td><td  style=\"background-color:Ivory;\">-0.031</td></tr><tr><td  style=\"background-color:AliceBlue;\">>CTSL-validate-16\tVGFLEGGK</td><td  style=\"background-color:AliceBlue;\">-0.038</td></tr><tr><td  style=\"background-color:Ivory;\">>MMP2-validate-77\tNNSTMLGA</td><td  style=\"background-color:Ivory;\">-0.043</td></tr><tr><td  style=\"background-color:AliceBlue;\">>MMP2-validate-92\tQIGAVVSH</td><td  style=\"background-color:AliceBlue;\">-0.045</td></tr><tr><td  style=\"background-color:Ivory;\">>CTSL-validate-2\tAAVSAGHG</td><td  style=\"background-color:Ivory;\">-0.079</td></tr><tr><td  style=\"background-color:AliceBlue;\">>MMP2-validate-62\tAASNLSGL</td><td  style=\"background-color:AliceBlue;\">-0.086</td></tr><tr><td  style=\"background-color:Ivory;\">>MMP2-validate-88\tVPENVLSF</td><td  style=\"background-color:Ivory;\">-0.091</td></tr><tr><td  style=\"background-color:AliceBlue;\">>CTSL-validate-26\t-LVAGEHG</td><td  style=\"background-color:AliceBlue;\">-0.092</td></tr><tr><td  style=\"background-color:Ivory;\">>CTSL-validate-56\tITVEKHPD</td><td  style=\"background-color:Ivory;\">-0.123</td></tr><tr><td  style=\"background-color:AliceBlue;\">>MMP2-validate-56\tYIGNLNES</td><td  style=\"background-color:AliceBlue;\">-0.138</td></tr><tr><td  style=\"background-color:Ivory;\">>MMP2-validate-95\tIPAGWMGL</td><td  style=\"background-color:Ivory;\">-0.139</td></tr><tr><td  style=\"background-color:AliceBlue;\">>CTSL-validate-38\tSGYGGQTK</td><td  style=\"background-color:AliceBlue;\">-0.156</td></tr><tr><td  style=\"background-color:Ivory;\">>CTSL-validate-21\tVHYGEVTN</td><td  style=\"background-color:Ivory;\">-0.158</td></tr><tr><td  style=\"background-color:AliceBlue;\">>MMP2-validate-21\tGTAFIQTQ</td><td  style=\"background-color:AliceBlue;\">-0.165</td></tr><tr><td  style=\"background-color:Ivory;\">>CTSL-validate-20\t-IVAERPG</td><td  style=\"background-color:Ivory;\">-0.166</td></tr><tr><td  style=\"background-color:AliceBlue;\">>CTSL-validate-36\tLQVLGPKP</td><td  style=\"background-color:AliceBlue;\">-0.169</td></tr><tr><td  style=\"background-color:Ivory;\">>CTSL-validate-12\tLSFQDIAT</td><td  style=\"background-color:Ivory;\">-0.172</td></tr><tr><td  style=\"background-color:AliceBlue;\">>MMP2-validate-22\tQVATISAN</td><td  style=\"background-color:AliceBlue;\">-0.182</td></tr><tr><td  style=\"background-color:Ivory;\">>MMP2-validate-33\tLSLGLETA</td><td  style=\"background-color:Ivory;\">-0.185</td></tr><tr><td  style=\"background-color:AliceBlue;\">>MMP2-validate-36\tYIANLGHG</td><td  style=\"background-color:AliceBlue;\">-0.200</td></tr><tr><td  style=\"background-color:Ivory;\">>CTSL-validate-54\tNNLFITEE</td><td  style=\"background-color:Ivory;\">-0.201</td></tr><tr><td  style=\"background-color:AliceBlue;\">>CTSL-validate-28\tEGVHGGLI</td><td  style=\"background-color:AliceBlue;\">-0.211</td></tr><tr><td  style=\"background-color:Ivory;\">>CTSL-validate-43\tYAFSHDHP</td><td  style=\"background-color:Ivory;\">-0.215</td></tr><tr><td  style=\"background-color:AliceBlue;\">>MMP2-validate-20\t-ISSIQSI</td><td  style=\"background-color:AliceBlue;\">-0.241</td></tr><tr><td  style=\"background-color:Ivory;\">>CTSL-validate-24\tQLLCGAAI</td><td  style=\"background-color:Ivory;\">-0.244</td></tr><tr><td  style=\"background-color:AliceBlue;\">>CTSL-validate-60\t-TLALIKP</td><td  style=\"background-color:AliceBlue;\">-0.259</td></tr><tr><td  style=\"background-color:Ivory;\">>MMP2-validate-58\tAQQPLQGG</td><td  style=\"background-color:Ivory;\">-0.260</td></tr><tr><td  style=\"background-color:AliceBlue;\">>CTSL-validate-29\t-GVMGGQS</td><td  style=\"background-color:AliceBlue;\">-0.300</td></tr><tr><td  style=\"background-color:Ivory;\">>MMP2-validate-39\t-AAELIAN</td><td  style=\"background-color:Ivory;\">-0.303</td></tr><tr><td  style=\"background-color:AliceBlue;\">>MMP2-validate-65\tHYGGLTGL</td><td  style=\"background-color:AliceBlue;\">-0.304</td></tr><tr><td  style=\"background-color:Ivory;\">>MMP2-validate-44\tVILHLKED</td><td  style=\"background-color:Ivory;\">-0.307</td></tr><tr><td  style=\"background-color:AliceBlue;\">>CTSL-validate-48\tGLWFHPEE</td><td  style=\"background-color:AliceBlue;\">-0.320</td></tr><tr><td  style=\"background-color:Ivory;\">>CTSL-validate-32\tQVL-GLDY</td><td  style=\"background-color:Ivory;\">-0.325</td></tr><tr><td  style=\"background-color:AliceBlue;\">>MMP2-validate-43\tVIDNLIVA</td><td  style=\"background-color:AliceBlue;\">-0.347</td></tr><tr><td  style=\"background-color:Ivory;\">>MMP2-validate-55\tHTAALMLD</td><td  style=\"background-color:Ivory;\">-0.387</td></tr><tr><td  style=\"background-color:AliceBlue;\">>MMP2-validate-96\tLVSGWVKP</td><td  style=\"background-color:AliceBlue;\">-0.410</td></tr><tr><td  style=\"background-color:Ivory;\">>CTSL-validate-25\tKPVAGALD</td><td  style=\"background-color:Ivory;\">-0.435</td></tr><tr><td  style=\"background-color:AliceBlue;\">>MMP2-validate-27\tVAHALAEG</td><td  style=\"background-color:AliceBlue;\">-0.543</td></tr><tr><td  style=\"background-color:Ivory;\">>MMP2-validate-49\tKPSNLLIN</td><td  style=\"background-color:Ivory;\">-0.900</td></tr>"
       ],
       "metadata": {},
       "output_type": "pyout",
       "prompt_number": 18,
       "text": [
        "<IPython.core.display.HTML at 0x10e060f50>"
       ]
      }
     ],
     "prompt_number": 18
    }
   ],
   "metadata": {}
  }
 ]
}