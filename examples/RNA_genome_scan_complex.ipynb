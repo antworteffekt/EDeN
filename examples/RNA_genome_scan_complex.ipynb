{
 "metadata": {
  "name": "",
  "signature": "sha256:956c4c89c6a53a2dfaeebbe8e63de04e9653a4e41dd58bd3361e132584c8818b"
 },
 "nbformat": 3,
 "nbformat_minor": 0,
 "worksheets": [
  {
   "cells": [
    {
     "cell_type": "code",
     "collapsed": false,
     "input": [
      "%reload_ext autoreload"
     ],
     "language": "python",
     "metadata": {},
     "outputs": [],
     "prompt_number": 25
    },
    {
     "cell_type": "code",
     "collapsed": false,
     "input": [
      "%autoreload 2"
     ],
     "language": "python",
     "metadata": {},
     "outputs": [],
     "prompt_number": 26
    },
    {
     "cell_type": "code",
     "collapsed": false,
     "input": [
      "%pylab inline\n",
      "import pylab as plt"
     ],
     "language": "python",
     "metadata": {},
     "outputs": [
      {
       "output_type": "stream",
       "stream": "stdout",
       "text": [
        "Populating the interactive namespace from numpy and matplotlib\n"
       ]
      },
      {
       "output_type": "stream",
       "stream": "stderr",
       "text": [
        "WARNING: pylab import has clobbered these variables: ['iterable', 'plt']\n",
        "`%matplotlib` prevents importing * from pylab and numpy\n"
       ]
      }
     ],
     "prompt_number": 27
    },
    {
     "cell_type": "code",
     "collapsed": false,
     "input": [
      "def describe(X):\n",
      "    print 'Instances: %d ; Features: %d with an avg of %d features per instance' % (X.shape[0], X.shape[1],  X.getnnz()/X.shape[0])"
     ],
     "language": "python",
     "metadata": {},
     "outputs": [],
     "prompt_number": 28
    },
    {
     "cell_type": "code",
     "collapsed": false,
     "input": [
      "def rfam_url(family_id):\n",
      "    return 'http://rfam.xfam.org/family/%s/alignment?acc=%s&format=fastau&download=0'%(family_id,family_id)"
     ],
     "language": "python",
     "metadata": {},
     "outputs": [],
     "prompt_number": 29
    },
    {
     "cell_type": "code",
     "collapsed": false,
     "input": [
      "import itertools\n",
      "\n",
      "def join_pre_processes( data, pre_processes, weights):\n",
      "    if hasattr( data, '__iter__' ):\n",
      "        iterable = data\n",
      "    else: #if not then process url or file with fasta_to_fasta\n",
      "        from eden.modifier.fasta import fasta_to_fasta\n",
      "        iterable = fasta_to_fasta( data )\n",
      "        \n",
      "    graphs_list = list()\n",
      "    assert(len(weights) == len(pre_processes)),'Different lengths'\n",
      "    #NOTE: we have to duplicate the sequences iterator if we want to use different modifiers in parallel\n",
      "    iterables = itertools.tee( iterable, len(pre_processes) )\n",
      "    for pre_process_item, iterable_item in zip(pre_processes, iterables):\n",
      "        graphs_list.append( pre_process_item( iterable_item ) )\n",
      "    return (graphs_list, weights)"
     ],
     "language": "python",
     "metadata": {},
     "outputs": [],
     "prompt_number": 30
    },
    {
     "cell_type": "code",
     "collapsed": false,
     "input": [
      "def pre_process_rnashapes( iterable ):\n",
      "    from eden.converter.rna.rnashapes import rnashapes_to_eden\n",
      "    graphs = rnashapes_to_eden( iterable, shape_type = 5, energy_range = 35, max_num = 3 )\n",
      "    return graphs"
     ],
     "language": "python",
     "metadata": {},
     "outputs": [],
     "prompt_number": 31
    },
    {
     "cell_type": "code",
     "collapsed": false,
     "input": [
      "def pre_process_fasta( iterable ):\n",
      "    from eden.converter.fasta import fasta_to_eden\n",
      "    graphs = fasta_to_eden( iterable )\n",
      "    return graphs"
     ],
     "language": "python",
     "metadata": {},
     "outputs": [],
     "prompt_number": 32
    },
    {
     "cell_type": "code",
     "collapsed": false,
     "input": [
      "def pre_process_structure( iterable ):\n",
      "    from eden.converter.rna.rnashapes_struct import rnashapes_struct_to_eden\n",
      "    graphs = rnashapes_struct_to_eden(iterable, shape=True, dotbracket=False, energy=False, shape_type=5, energy_range=35, max_num=3)\n",
      "    return graphs"
     ],
     "language": "python",
     "metadata": {},
     "outputs": [],
     "prompt_number": 33
    },
    {
     "cell_type": "code",
     "collapsed": false,
     "input": [
      "def pre_process_energy( iterable ):\n",
      "    from eden.converter.rna.rnashapes_struct import rnashapes_struct_to_eden\n",
      "    graphs = rnashapes_struct_to_eden(iterable, energy=True, dotbracket=False, shape=False, shape_type=5, energy_range=35, max_num=3)\n",
      "    return graphs"
     ],
     "language": "python",
     "metadata": {},
     "outputs": [],
     "prompt_number": 34
    },
    {
     "cell_type": "code",
     "collapsed": false,
     "input": [
      "def pre_process_contraction( iterable ):\n",
      "    from eden.converter.rna.rnashapes import rnashapes_to_eden\n",
      "    graphs = rnashapes_to_eden( iterable, shape_type=5, energy_range=35, max_num=3 )\n",
      "    \n",
      "    #annotate in node attribute 'type' the incident edges' labels\n",
      "    from eden.modifier.graph import vertex_attributes\n",
      "    graphs = vertex_attributes.incident_edge_label(graphs, level=1, output_attribute='type', separator='.')\n",
      "    \n",
      "    from eden.modifier.graph.structure import contraction, contraction_modifier\n",
      "    label_modifier = contraction_modifier(attribute_in='type', attribute_out='label', reduction='set_categorical')\n",
      "    \n",
      "    #reduce all 'weight' attributes of contracted nodes using a sum to be written in the 'weight' attribute of the resulting graph \n",
      "    weight_modifier = contraction_modifier(attribute_in='weight', attribute_out='weight', reduction='sum')\n",
      "    modifiers = [label_modifier, weight_modifier]\n",
      "    \n",
      "    #contract the graph on the 'type' attribute\n",
      "    graphs = contraction(graphs, contraction_attribute='type', modifiers=modifiers)\n",
      "    \n",
      "    return graphs"
     ],
     "language": "python",
     "metadata": {},
     "outputs": [],
     "prompt_number": 35
    },
    {
     "cell_type": "code",
     "collapsed": false,
     "input": [
      "def pre_process( data ):\n",
      "    pre_processes = [pre_process_energy, pre_process_rnashapes, pre_process_fasta, pre_process_structure, pre_process_contraction]\n",
      "    weights = [0.4, 0.2, 0.05, 0.3, 0.05]\n",
      "    return join_pre_processes( data, pre_processes, weights)"
     ],
     "language": "python",
     "metadata": {},
     "outputs": [],
     "prompt_number": 36
    },
    {
     "cell_type": "code",
     "collapsed": false,
     "input": [
      "def pre_process( data ):\n",
      "    pre_processes = [pre_process_energy, pre_process_structure]\n",
      "    weights = [0.2, 0.8]\n",
      "    return join_pre_processes( data, pre_processes, weights)"
     ],
     "language": "python",
     "metadata": {},
     "outputs": [],
     "prompt_number": 37
    },
    {
     "cell_type": "code",
     "collapsed": false,
     "input": [
      "rfam_id = 'RF00871' #microRNA mir-689\n",
      "rfam_id = 'RF00005' #tRNA"
     ],
     "language": "python",
     "metadata": {},
     "outputs": [],
     "prompt_number": 38
    },
    {
     "cell_type": "code",
     "collapsed": false,
     "input": [
      "def model(rfam_id, pre_process):\n",
      "\n",
      "    from eden.graph import Vectorizer\n",
      "    vectorizer = Vectorizer( r=2, d=2 )\n",
      "    n_jobs = 1\n",
      "\n",
      "    graphs = pre_process( rfam_url( rfam_id ) )\n",
      "    X1 = vectorizer.transform( graphs, n_jobs=n_jobs )\n",
      "    describe(X1)\n",
      "    \n",
      "    from eden.modifier.fasta import fasta_to_fasta, shuffle_modifier\n",
      "    graphs = pre_process( fasta_to_fasta( rfam_url( rfam_id ) , modifier=shuffle_modifier, times=2, order=2) )\n",
      "    X2 = vectorizer.transform( graphs, n_jobs=n_jobs )\n",
      "    describe(X2)\n",
      "    \n",
      "    from eden.util import fit_estimator\n",
      "    estimator = fit_estimator( positive_data_matrix=X1, negative_data_matrix=X2, cv=5 )\n",
      "    \n",
      "    return estimator, vectorizer"
     ],
     "language": "python",
     "metadata": {},
     "outputs": [],
     "prompt_number": 39
    },
    {
     "cell_type": "code",
     "collapsed": false,
     "input": [
      "def list_model(rfam_id, pre_process):\n",
      "\n",
      "    from eden.graph import ListVectorizer\n",
      "    vectorizer = ListVectorizer( r=2, d=2 )\n",
      "    n_jobs = -1\n",
      "\n",
      "    graphs_list, weights = pre_process( rfam_url( rfam_id ) )\n",
      "    X1 = vectorizer.transform( graphs_list, weights=weights, n_jobs=n_jobs )\n",
      "    describe(X1)\n",
      "    \n",
      "    from eden.modifier.fasta import fasta_to_fasta, shuffle_modifier\n",
      "    graphs_list, weights = pre_process( fasta_to_fasta( rfam_url( rfam_id ) , modifier=shuffle_modifier, times=2, order=2) )\n",
      "    X2 = vectorizer.transform( graphs_list, weights=weights, n_jobs=n_jobs )\n",
      "    describe(X2)\n",
      "    \n",
      "    from eden.util import fit_estimator\n",
      "    estimator = fit_estimator( positive_data_matrix=X1, negative_data_matrix=X2, cv=5 )\n",
      "    \n",
      "    return estimator, vectorizer"
     ],
     "language": "python",
     "metadata": {},
     "outputs": [],
     "prompt_number": 40
    },
    {
     "cell_type": "code",
     "collapsed": false,
     "input": [
      "%%time\n",
      "estimator, vectorizer = model(rfam_id, pre_process_rnashapes)"
     ],
     "language": "python",
     "metadata": {},
     "outputs": [
      {
       "output_type": "stream",
       "stream": "stdout",
       "text": [
        "Instances: 954 ; Features: 1048577 with an avg of 906 features per instance\n",
        "Instances: 1908 ; Features: 1048577 with an avg of 881 features per instance"
       ]
      },
      {
       "output_type": "stream",
       "stream": "stdout",
       "text": [
        "\n"
       ]
      },
      {
       "output_type": "stream",
       "stream": "stdout",
       "text": [
        "Classifier:\n",
        "SGDClassifier(alpha=2.80698098606e-05, class_weight='auto', epsilon=0.1,\n",
        "       eta0=0.786087276728, fit_intercept=True, l1_ratio=0.15,\n",
        "       learning_rate='constant', loss='hinge', n_iter=87, n_jobs=-1,\n",
        "       penalty='elasticnet', power_t=0.741144077131, random_state=None,\n",
        "       shuffle=True, verbose=0, warm_start=False)\n",
        "-------------------------------------------------------------------------\n",
        "Predictive performance:\n"
       ]
      },
      {
       "output_type": "stream",
       "stream": "stdout",
       "text": [
        "            accuracy: 0.968 +- 0.005\n"
       ]
      },
      {
       "output_type": "stream",
       "stream": "stdout",
       "text": [
        "           precision: 0.946 +- 0.007\n"
       ]
      },
      {
       "output_type": "stream",
       "stream": "stdout",
       "text": [
        "              recall: 0.959 +- 0.014\n"
       ]
      },
      {
       "output_type": "stream",
       "stream": "stdout",
       "text": [
        "                  f1: 0.953 +- 0.007\n"
       ]
      },
      {
       "output_type": "stream",
       "stream": "stdout",
       "text": [
        "   average_precision: 0.988 +- 0.005\n"
       ]
      },
      {
       "output_type": "stream",
       "stream": "stdout",
       "text": [
        "             roc_auc: 0.993 +- 0.003\n",
        "-------------------------------------------------------------------------\n",
        "CPU times: user 5min 8s, sys: 36.9 s, total: 5min 45s\n",
        "Wall time: 9min 36s\n"
       ]
      }
     ],
     "prompt_number": 41
    },
    {
     "cell_type": "code",
     "collapsed": false,
     "input": [
      "%%time\n",
      "estimator_str, vectorizer_str = list_model(rfam_id, pre_process)"
     ],
     "language": "python",
     "metadata": {},
     "outputs": [
      {
       "output_type": "stream",
       "stream": "stdout",
       "text": [
        "Instances: 954 ; Features: 1048577 with an avg of 74 features per instance\n"
       ]
      },
      {
       "output_type": "stream",
       "stream": "stdout",
       "text": [
        "Instances: 1908 ; Features: 1048577 with an avg of 95 features per instance\n"
       ]
      },
      {
       "output_type": "stream",
       "stream": "stdout",
       "text": [
        "Classifier:\n",
        "SGDClassifier(alpha=0.000509613758532, class_weight='auto', epsilon=0.1,\n",
        "       eta0=0.342804360906, fit_intercept=True, l1_ratio=0.15,\n",
        "       learning_rate='constant', loss='hinge', n_iter=17, n_jobs=-1,\n",
        "       penalty='elasticnet', power_t=0.210467718785, random_state=None,\n",
        "       shuffle=True, verbose=0, warm_start=False)\n",
        "-------------------------------------------------------------------------\n",
        "Predictive performance:\n"
       ]
      },
      {
       "output_type": "stream",
       "stream": "stdout",
       "text": [
        "            accuracy: 0.917 +- 0.008\n"
       ]
      },
      {
       "output_type": "stream",
       "stream": "stdout",
       "text": [
        "           precision: 0.862 +- 0.039\n"
       ]
      },
      {
       "output_type": "stream",
       "stream": "stdout",
       "text": [
        "              recall: 0.899 +- 0.056\n"
       ]
      },
      {
       "output_type": "stream",
       "stream": "stdout",
       "text": [
        "                  f1: 0.878 +- 0.014\n"
       ]
      },
      {
       "output_type": "stream",
       "stream": "stdout",
       "text": [
        "   average_precision: 0.913 +- 0.016\n"
       ]
      },
      {
       "output_type": "stream",
       "stream": "stdout",
       "text": [
        "             roc_auc: 0.956 +- 0.009\n",
        "-------------------------------------------------------------------------\n",
        "CPU times: user 18.3 s, sys: 17.6 s, total: 35.9 s\n",
        "Wall time: 2min 59s\n"
       ]
      }
     ],
     "prompt_number": 42
    },
    {
     "cell_type": "code",
     "collapsed": false,
     "input": [
      "#use compute_max_subarrays to return an iterator over motives \n",
      "from eden.util.iterated_maximum_subarray import compute_max_subarrays\n",
      "\n",
      "def motives(iterable, min_subarray_size = None, max_subarray_size = None):\n",
      "    for graph in iterable:\n",
      "        subarrays = compute_max_subarrays(graph=graph, min_subarray_size=min_subarray_size, max_subarray_size=max_subarray_size)\n",
      "        if subarrays:\n",
      "            for subarray in subarrays:\n",
      "                yield ''.join(subarray['subarray'])"
     ],
     "language": "python",
     "metadata": {},
     "outputs": [],
     "prompt_number": 43
    },
    {
     "cell_type": "code",
     "collapsed": false,
     "input": [
      "from eden.graph import Annotator\n",
      "annotator = Annotator( estimator = estimator, vectorizer = vectorizer )\n",
      "\n",
      "#annotate graphs with node importance \n",
      "graphs = pre_process_rnashapes( rfam_url( rfam_id ) )\n",
      "graphs = annotator.transform( graphs )\n",
      "\n",
      "#use node importance and 'position' attribute to identify max_subarrays of a specific size\n",
      "iterable = motives(graphs, min_subarray_size=5, max_subarray_size=18)"
     ],
     "language": "python",
     "metadata": {},
     "outputs": [],
     "prompt_number": 44
    },
    {
     "cell_type": "code",
     "collapsed": false,
     "input": [
      "%%time\n",
      "#collect all motives and return the unique occurrences\n",
      "motif_list = set(iterable)"
     ],
     "language": "python",
     "metadata": {},
     "outputs": [
      {
       "output_type": "stream",
       "stream": "stdout",
       "text": [
        "CPU times: user 1min 44s, sys: 8.16 s, total: 1min 53s\n",
        "Wall time: 2min 19s\n"
       ]
      }
     ],
     "prompt_number": 45
    },
    {
     "cell_type": "code",
     "collapsed": false,
     "input": [
      "#count occurrences of motives in original dataset to determine support of each motif\n",
      "from collections import defaultdict\n",
      "\n",
      "from eden.modifier.fasta import fasta_to_fasta, one_line_modifier\n",
      "iterable = fasta_to_fasta(rfam_url( rfam_id ), modifier=one_line_modifier, sequence_only=True)\n",
      "\n",
      "motif_counter = defaultdict(int)\n",
      "for seq in iterable:\n",
      "    for motif in motif_list:\n",
      "        if seq.find(motif) != -1:\n",
      "            motif_counter[motif] += 1"
     ],
     "language": "python",
     "metadata": {},
     "outputs": [],
     "prompt_number": 46
    },
    {
     "cell_type": "code",
     "collapsed": false,
     "input": [
      "#select only motives with support higher than a user defined threshold\n",
      "motif_support_threshold = 60\n",
      "selcted_motifs = [motif for motif in motif_counter if motif_counter[motif] >= motif_support_threshold]    "
     ],
     "language": "python",
     "metadata": {},
     "outputs": [],
     "prompt_number": 47
    },
    {
     "cell_type": "code",
     "collapsed": false,
     "input": [
      "#plot histogram of lengths\n",
      "print 'Num: %d motives selected'%len(selcted_motifs)\n",
      "motif_lenghts = [len(motif) for motif in selcted_motifs]\n",
      "plt.hist(motif_lenghts, len(set(motif_lenghts)), histtype='stepfilled', facecolor='r', alpha=0.6)\n",
      "plt.grid()\n",
      "plt.title('Motives lenght distribution')\n",
      "plt.xlabel('size')\n",
      "plt.ylabel('frequency')\n",
      "plt.show()"
     ],
     "language": "python",
     "metadata": {},
     "outputs": [
      {
       "output_type": "stream",
       "stream": "stdout",
       "text": [
        "Num: 15 motives selected\n"
       ]
      },
      {
       "metadata": {},
       "output_type": "display_data",
       "png": "[encoded data removed]",
       "text": [
        "<matplotlib.figure.Figure at 0x12667bad0>"
       ]
      }
     ],
     "prompt_number": 48
    },
    {
     "cell_type": "code",
     "collapsed": false,
     "input": [
      "#build a regex expression that matches the occurrence of at least one of the motives\n",
      "regex=''\n",
      "for m in sorted(selcted_motifs): regex += '|' + m\n",
      "regex = regex[1:]\n",
      "print regex"
     ],
     "language": "python",
     "metadata": {},
     "outputs": [
      {
       "output_type": "stream",
       "stream": "stdout",
       "text": [
        "GGUUCAAAU|GGUUCAAAUC|GGUUCAAAUCC|GGUUCGA|GGUUCGAAU|GGUUCGAAUCCC|GGUUCGAU|GUAGCUC|GUUCAAAU|GUUCGAAU|GUUCGAU|GUUCGAUUC|UAGCUUA|UUCAAAU|UUCGAAU\n"
       ]
      }
     ],
     "prompt_number": 49
    },
    {
     "cell_type": "code",
     "collapsed": false,
     "input": [
      "#compute statistics when using the motives as indicators for the target family on the original data \n",
      "#and on a randomly permuted dataset\n",
      "\n",
      "from eden.modifier.fasta import fasta_to_fasta, keep_modifier, shuffle_modifier\n",
      "\n",
      "def motives_discriminative_performance_evaluation(data, regex):\n",
      "    iterable = fasta_to_fasta( data , modifier=keep_modifier, regex=regex )\n",
      "    true_positive_count = sum(1 for x in iterable)\n",
      "    iterable = fasta_to_fasta( data )\n",
      "    positive_count = sum(1 for x in iterable)\n",
      "    iterable = fasta_to_fasta( data , modifier=shuffle_modifier, times=20, order=2)\n",
      "    it1,it2 = itertools.tee(iterable)\n",
      "    negative_count = sum(1 for x in it1)\n",
      "    iterable = fasta_to_fasta( it2 , modifier=keep_modifier, regex=regex )\n",
      "    false_positive_count = sum(1 for x in iterable)\n",
      "    false_negative_count =  positive_count - true_positive_count\n",
      "    true_negative_count = negative_count - false_negative_count\n",
      "\n",
      "    recall = true_positive_count/float(true_positive_count + false_negative_count)\n",
      "    precision = true_positive_count/float(true_positive_count + false_positive_count)\n",
      "    f1 = 2 * precision * recall / (precision + recall)\n",
      "\n",
      "    print 'pos:%d neg:%d TP:%d FP:%d TN:%d FN:%d' % (positive_count, negative_count, true_positive_count, false_positive_count, true_negative_count, false_negative_count)\n",
      "    print 'precision:%0.3f recall:%0.3f f1:%0.3f' % (precision, recall, f1)\n",
      "    print 'dataset reduction: from %d to %d = %0.3f' % (negative_count, false_positive_count, false_positive_count/float(negative_count))"
     ],
     "language": "python",
     "metadata": {},
     "outputs": [],
     "prompt_number": 50
    },
    {
     "cell_type": "code",
     "collapsed": false,
     "input": [
      "motives_discriminative_performance_evaluation(rfam_url( rfam_id ), regex)"
     ],
     "language": "python",
     "metadata": {},
     "outputs": [
      {
       "output_type": "stream",
       "stream": "stdout",
       "text": [
        "pos:1908 neg:38160 TP:1216 FP:1132 TN:37468 FN:692\n",
        "precision:0.518 recall:0.637 f1:0.571\n",
        "dataset reduction: from 38160 to 1132 = 0.030\n"
       ]
      }
     ],
     "prompt_number": 51
    },
    {
     "cell_type": "code",
     "collapsed": false,
     "input": [
      "#extract statistics on the average lenght of the sequences in the given Rfam family\n",
      "#use this information to determine the size of the window when scanning the genome\n",
      "import numpy\n",
      "from eden.modifier.fasta import fasta_to_fasta, one_line_modifier\n",
      "\n",
      "low = 25\n",
      "high = 75\n",
      "\n",
      "iterable = fasta_to_fasta( rfam_url( rfam_id ), modifier=one_line_modifier, sequence_only=True)\n",
      "len_seqs = [len(seq) for seq in iterable]\n",
      "lower_quantile = int(numpy.percentile(len_seqs, low))\n",
      "upper_quantile = int(numpy.percentile(len_seqs, high))\n",
      "\n",
      "num_seqs = len(len_seqs)\n",
      "\n",
      "print 'Rfam family %s has %d sequences' % (rfam_id, num_seqs)\n",
      "print 'more than %d%% of the sequences have lenght smaller than: %d ' % (high, upper_quantile)\n",
      "print 'less then %d%% of the sequences have lenght smaller than: %d ' % (low, lower_quantile)"
     ],
     "language": "python",
     "metadata": {},
     "outputs": [
      {
       "output_type": "stream",
       "stream": "stdout",
       "text": [
        "Rfam family RF00005 has 954 sequences\n",
        "more than 75% of the sequences have lenght smaller than: 74 \n",
        "less then 25% of the sequences have lenght smaller than: 71 \n"
       ]
      }
     ],
     "prompt_number": 52
    },
    {
     "cell_type": "code",
     "collapsed": false,
     "input": [
      "#compose all pre processing operations on the genome\n",
      "from eden.modifier.fasta import fasta_to_fasta, replace_modifier, split_regex_modifier, split_modifier, keep_modifier\n",
      "\n",
      "def genome_fasta_pre_processing(uri, min_lenght=None, max_lenght=None ):\n",
      "    #replace Ts with Us\n",
      "    iterable = fasta_to_fasta(uri, modifier=replace_modifier, regex='T', replacement='U')\n",
      "    #split out sequences that are not stretches of Ns  \n",
      "    iterable = fasta_to_fasta(iterable, modifier=split_regex_modifier, regex=\"([^N]+)\" )\n",
      "    #filter out small sequences, i.e. smaller than lower_quantile\n",
      "    iterable = fasta_to_fasta(iterable, modifier=keep_modifier, regex=\"(.{%d,})\"%min_lenght )\n",
      "    #split large sequences into overlapping windows of size comparable with the Rfam average seq lenght\n",
      "    iterable = fasta_to_fasta( iterable, modifier=split_modifier, window=max_lenght, step=int(max_lenght / 4) )\n",
      "    return iterable"
     ],
     "language": "python",
     "metadata": {},
     "outputs": [],
     "prompt_number": 53
    },
    {
     "cell_type": "code",
     "collapsed": false,
     "input": [
      "#add domain specific knowledge: tRNA specific Isotype / Anticodon\n",
      "regex_trna = 'AGC|GGC|CGC|TGC|ACC|GCC|CCC|TCC|AGG|GGG|CGG|TGG|AGT'\n",
      "regex_trna += '|GGT|CGT|TGT|AAC|GAC|CAC|TAC|AGA|GGA|CGA|TGA|ACT|GCT'\n",
      "regex_trna += '|ACG|GCG|CCG|TCG|CCT|TCT|AAG|GAG|CAG|TAG|CAA|TAA|AAA'\n",
      "regex_trna += '|GAA|ATT|GTT|CTT|TTT|ATC|GTC|CTC|TTC|ATG|GTG|CTG|TTG'\n",
      "regex_trna += '|AAT|GAT|TAT|CAT|ATA|GTA|CTA|TTA|ACA|GCA|CCA|TCA'  \n",
      "regex_trna = regex_trna.replace('T','U')\n",
      "print regex_trna"
     ],
     "language": "python",
     "metadata": {},
     "outputs": [],
     "prompt_number": 54
    },
    {
     "cell_type": "code",
     "collapsed": false,
     "input": [
      "#pre process the genome in windows\n",
      "iterable = genome_fasta_pre_processing('dm6.fa.masked', min_lenght=lower_quantile, max_lenght=upper_quantile)\n",
      "#keep only the sequences that are matched by the regex\n",
      "iterable = fasta_to_fasta(iterable, modifier=keep_modifier, regex=regex )\n",
      "#keep only the sequences that are matched by the regex_trna\n",
      "iterable = fasta_to_fasta(iterable, modifier=keep_modifier, regex=regex_trna )"
     ],
     "language": "python",
     "metadata": {},
     "outputs": [],
     "prompt_number": 59
    },
    {
     "cell_type": "code",
     "collapsed": false,
     "input": [
      "#define a filter that uses the predictive model\n",
      "import itertools\n",
      "\n",
      "def out_of_core_list_predictions( iterable, estimator=None, vectorizer=None, pre_process=None, threshold=1 ):\n",
      "    iterable_headers, iterable_seqs = itertools.tee( iterable )\n",
      "    \n",
      "    from eden.graph import OutOfCoreListPredictor\n",
      "    out_of_core_list_predictor = OutOfCoreListPredictor( estimator=estimator, vectorizer=vectorizer )\n",
      "\n",
      "    #extract oneline fasta\n",
      "    from eden.modifier.fasta import fasta_to_fasta, one_line_modifier\n",
      "    headers = fasta_to_fasta( iterable_headers, modifier=one_line_modifier, one_line=True, one_line_separator=' ' )\n",
      "\n",
      "    #extract graphs\n",
      "    graphs_list, weights = pre_process( iterable_seqs )\n",
      "    predictions = out_of_core_list_predictor.predict(graphs_list, weights=weights)\n",
      "\n",
      "    for header, prediction in itertools.izip(headers, predictions):\n",
      "        if prediction >= threshold:\n",
      "            yield header, prediction"
     ],
     "language": "python",
     "metadata": {},
     "outputs": [],
     "prompt_number": 60
    },
    {
     "cell_type": "code",
     "collapsed": false,
     "input": [
      "%%time\n",
      "#run the filter on the genome\n",
      "\n",
      "from datetime import datetime\n",
      "def parse_header(header):\n",
      "    '''process header to extract chromosome, start and end position'''\n",
      "    items = header[1:].split()\n",
      "    chromosome = items[0]\n",
      "    start = int(items[2])+int(items[4])\n",
      "    end = start + int(items[6])\n",
      "    seq = items[9]\n",
      "    id = '%s %d %d %s'%(chromosome,start,end,seq)\n",
      "    return id\n",
      "\n",
      "import sys\n",
      "f = open('result','a')\n",
      "print >> f, '-'*80\n",
      "print >> f, rfam_id\n",
      "print >> f, datetime.now() \n",
      "results = []\n",
      "for header, prediction in out_of_core_list_predictions( iterable,\n",
      "                                                       estimator=estimator_str, \n",
      "                                                       vectorizer=vectorizer_str, \n",
      "                                                       pre_process=pre_process, \n",
      "                                                       threshold=1.6 ):\n",
      "    id = parse_header( header )\n",
      "    #save and display results\n",
      "    results.append([id, prediction])\n",
      "    result_text = 'score: %0.1f %s' % (prediction,id)\n",
      "    print result_text\n",
      "    sys.stdout.flush()\n",
      "    print >> f, result_text\n",
      "    f.flush()"
     ],
     "language": "python",
     "metadata": {},
     "outputs": [
      {
       "output_type": "stream",
       "stream": "stdout",
       "text": [
        "score: 1.6 chr2L 1143026 1147886 CGCCGAAGAAUCCUGGAGAAAACCAAGGAGGGAACUCUGGUAAAGACCGUUACAUCGUCGUCAACUUCAAAUGG\n"
       ]
      },
      {
       "output_type": "stream",
       "stream": "stdout",
       "text": [
        "score: 1.6 chr2L 2425919 2426027 GCACAAAUUUAUAUUUAGCUUAAAUAAUAUUUGGGCAAGCGUAAAGCGGAUAUGGCCACUAACUGGAGCGUUUU\n"
       ]
      },
      {
       "output_type": "stream",
       "stream": "stdout",
       "text": [
        "score: 1.7 chr2L 4388038 4390414 AUUAAAUUGCAGUCACUUUUAAUGAAUUUCAUUAAAAAUCCCCCACUUGAUGUAGAAUUUCAAAUCGCAACUGC\n"
       ]
      },
      {
       "output_type": "stream",
       "stream": "stdout",
       "text": [
        "score: 1.6 chr2L 4667414 4667828 UAAUGUGCACAAAUUUCACCUGGUUAUCCAACUCGUUAGGGUAUAUUUUCCGAAAUGCAUUCAAAUUGCAGCAA\n"
       ]
      },
      {
       "output_type": "stream",
       "stream": "stdout",
       "text": [
        "score: 1.7 chr2L 6520828 6521134 AGGCAAUGUUCGAAUCAAAAUGGCAACAUUAAAACUUGUAUUUAAGAUUACUUAUAGUUUAAAGGAAGCUUACU\n"
       ]
      },
      {
       "output_type": "stream",
       "stream": "stdout",
       "text": [
        "score: 1.8 chr2L 7398805 7399201 AGCGAUACCCUAUCACUUGAAAGAAAACUGUAGACUUUUCAAAUUAGGCACACUUUAAGCCAGGUUAUUGCGAA\n"
       ]
      },
      {
       "output_type": "stream",
       "stream": "stdout",
       "text": [
        "score: 1.8 chr2L 8076774 8076918 CUCUGCAACCCCCGUCUGGCUAAAACCUCAUAAUGAUCGUUUAGCACUCGAAUUUGUUCAAAUCGCCGCAGAAC\n"
       ]
      },
      {
       "output_type": "stream",
       "stream": "stdout",
       "text": [
        "score: 1.6 chr2L 9768165 9770397 GUACAAUGAGGCGAAGCUGGUGCACGCCGAUAUGAGCGAAUAUAACAUACUCUGGUUCGAGGGCAAGUGCUGGU\n"
       ]
      },
      {
       "output_type": "stream",
       "stream": "stdout",
       "text": [
        "score: 1.8 chr2L 11079856 11085580 CAACAAAUUCGAUUACACGUUCCAGCGUCGGCCGCGUUUUCCUGCUGCAAGAUACUUCAUUUUCAAAUUUGUGC\n"
       ]
      },
      {
       "output_type": "stream",
       "stream": "stdout",
       "text": [
        "score: 1.8 chr2L 11273388 11275242 UGAGUGGCAGAAAAAUAAUGGAAACAAGCUGUUUUAAAUAUUUCAUAUCUAAUAUUCGAAUAGACGAAAGCCAU\n"
       ]
      },
      {
       "output_type": "stream",
       "stream": "stdout",
       "text": [
        "score: 1.6 chr2L 12488726 12490652 AUACUUUUGGCCGCCUUAUUUGGCUUAUUCAAAUCUCACUUCAUUUGUCGCGCACAGCGCCCUUCGCACAGUAA\n"
       ]
      },
      {
       "output_type": "stream",
       "stream": "stdout",
       "text": [
        "score: 1.8 chr2L 12609036 12609072 UGGCUCGCUCACCCCACCAACUUUGGCGACGUUGUCGCAUUUGAAAACUUUUCAAAUUCUCAUUUGACGCUGGC\n"
       ]
      },
      {
       "output_type": "stream",
       "stream": "stdout",
       "text": [
        "score: 1.8 chr2L 12914664 12917382 AGGUGCGUUUGAAUACAAGUAUGUUCUAUGAAACUAAAUAGUUCGAUUACUCCACAUCGAAGUUCAAAUGUUAA\n"
       ]
      },
      {
       "output_type": "stream",
       "stream": "stdout",
       "text": [
        "score: 1.6 chr2L 13006808 13007006 AGCAUGUAGAGCUAGUGUAGCUCAUGCUCAAACGAGUAUAUUAAUCUGAACUUUCUUUUCGAAAACAGCUGACA\n"
       ]
      },
      {
       "output_type": "stream",
       "stream": "stdout",
       "text": [
        "score: 1.8 chr2L 15497056 15500674 UUCGAACUAAAUUAAUUUAACUAGCCUGCAUAGGCAAUCACACUUGGACUCUGGCAAGGAAUUUUCGAAUUUUC\n"
       ]
      },
      {
       "output_type": "stream",
       "stream": "stdout",
       "text": [
        "score: 1.8 chr2L 16146553 16148443 UAUUUUACUAAGUUUUCGCAAGACGUAGUUGUUUCUACACAUCCAAAUGUUUUUGUUUAGCUUAGUUAUAUUCC\n"
       ]
      },
      {
       "output_type": "stream",
       "stream": "stdout",
       "text": [
        "score: 1.6 chr2L 16854133 16855177 UCUUCAAAUGUGUACGUCUCAUGACUGAUGUGUUUAAUUUACGCCAAUAGAAAAAGGAAACUGAGGAGCAUUCU\n"
       ]
      },
      {
       "output_type": "stream",
       "stream": "stdout",
       "text": [
        "score: 1.6 chr2L 19713213 19713627 AUUCAAGCCCGCAUUCAAAUCACAUAAAUAUUGUAAAUUCCUUGGACUUUGAUCGGCUAUCGGCCAUAAGCGAU\n"
       ]
      },
      {
       "output_type": "stream",
       "stream": "stdout",
       "text": [
        "score: 1.8 chr2L 20684825 20685491 AACCCGGCUUGGAUCGGAAAAUCGAGAUUAGCAAUCAAGAAAUGCCAGCACAUAGCUUAUAUCCAAGUUUAUUC\n"
       ]
      },
      {
       "output_type": "stream",
       "stream": "stdout",
       "text": [
        "score: 1.7 chr2L 23346870 23348670 CUUUCUACUUUCAAAUUGAAAAGUCAACAGAGGGCAUUGCAAUAUAGCGCACAAAAAUGGGAUGGAAAGACUGU\n"
       ]
      },
      {
       "output_type": "stream",
       "stream": "stdout",
       "text": [
        "score: 1.6 chr2L 23944592 23945276 AAGGUUCGAGCCGAGAUUGUUACAUUGUAAUAAGUUCAAGCUUCCGCUGGCAACUGCAUAGAAAAACCUACCAC\n"
       ]
      },
      {
       "output_type": "stream",
       "stream": "stdout",
       "text": [
        "score: 1.7 chr2L 24475897 24477121 GUUAGUUGUGAUAACACACAGAGCGAGCGUUCUUAAAGCCAUUUUCAAAUUCUAUUAUAAGCGGACUAAUGAAA\n"
       ]
      },
      {
       "output_type": "stream",
       "stream": "stdout",
       "text": [
        "score: 1.7 chr2L 25033185 25035111 GUUUUUUUUUUUCAACGCCAAUUGCAAUUAUAAUGAUGAAAGUUCAAAUUUGGGCAGAGGAAUAGGAAUAGGGA\n"
       ]
      },
      {
       "output_type": "stream",
       "stream": "stdout",
       "text": [
        "score: 1.8 chr2L 25718970 25720230 AACUCGGCCUCUGGAUUCAAAUGCCUGCACACUAUUCCACACCCAUCGUUAUUGGCAACAACUCGGCCAAUUCG\n"
       ]
      },
      {
       "output_type": "stream",
       "stream": "stdout",
       "text": [
        "score: 1.6 chr2L 28074938 28075514 UCACUUUUCGAAUCACUUGCCAACAUUCAGGUAAUCAUUCAGCCAAGGCAAAGGUUAAGACAACUGAAAAGCAC\n"
       ]
      },
      {
       "output_type": "stream",
       "stream": "stdout",
       "text": [
        "score: 1.7 chr2L 28594893 28596981 GGAAUGCACUAUAUAAUCUGGUGCUGAUAAACUUUACUUAUUCUUAACAUUUUUUGUUUCAAAUAGUUCCUAUA\n"
       ]
      },
      {
       "output_type": "stream",
       "stream": "stdout",
       "text": [
        "score: 1.7 chr2L 29223088 29224078 AAAAUAUGUUCAAAUGAAUUACUUACAUAAUCAUCAACCGAGUACGUCAGCUCGCCAUCAUCAUAGAGAACAAA\n"
       ]
      },
      {
       "output_type": "stream",
       "stream": "stdout",
       "text": [
        "score: 1.8 chr2L 30942185 30943877 ACUUCUGUAUCAUCCUAUCGCCGGCUCGUUAAAUACACUUCAAAUCGCUAUCCACAGCGGAAACGGAAGAAAGU\n"
       ]
      },
      {
       "output_type": "stream",
       "stream": "stdout",
       "text": [
        "score: 1.6 chr2L 31476050 31478876 GUUUCCCCUUUUCUAUUCCGUUUCAAAUCCGAAUCCCUGUAGGUAGCAAAAGGCUAGGGUGACUAUCUCGGAGA\n"
       ]
      },
      {
       "output_type": "stream",
       "stream": "stdout",
       "text": [
        "score: 1.6 chr2L 31566514 31573516 AAUUGAACUUCAAAUCAGCGAAAGUACACAGUUGUUUUUAGAACUUGAGCAGUACGUUCAAAAUGAAGUUGAAA\n"
       ]
      },
      {
       "output_type": "stream",
       "stream": "stdout",
       "text": [
        "score: 1.6 chr2L 32606802 32609736 CCCGAAGAUCAUAGCUUAAUUAUGCCAUCAAAUGGUUUUGGCGAAGCCGAGGGCGCGGACUUAACCAUUUUUCA\n"
       ]
      },
      {
       "output_type": "stream",
       "stream": "stdout",
       "text": [
        "score: 1.6 chr2L 33830216 33830792 ACCAACUGCAGAUCAUGAUCAGCAAGUCAACAACGGCGGAUCUAUUGAAGAUGUACUUCAAAUUGGAGGAGUUC\n"
       ]
      },
      {
       "output_type": "stream",
       "stream": "stdout",
       "text": [
        "score: 1.7 chr2L 34239435 34239813 CAUUUAGCGCAGUCCUGGCAACAGCAAAUAAUGACGAAAAUUUCGAAUUUCGGCUACUCUAAAUAAUAUUGCUU\n"
       ]
      },
      {
       "output_type": "stream",
       "stream": "stdout",
       "text": [
        "score: 1.8 chr2L 34775954 34780346 UUGAUCGGCUCUAUACUAUAGCUUAUAUAGUGAACACGCAAACGAAAUUGAAAAUCCAAAAUAGAAGCCAACUU\n"
       ]
      },
      {
       "output_type": "stream",
       "stream": "stdout",
       "text": [
        "score: 1.7 chr2L 35358995 35362883 UAGGCAUUUUGUAAAUUUAAGAAAUUAUUGUAAUAAUAAAAAGCUUUCGUAUAGCUUAAACUAGUGCUGAUUGA\n"
       ]
      },
      {
       "output_type": "stream",
       "stream": "stdout",
       "text": [
        "score: 1.6 chr2L 41416035 41416503 GAAAAACGCCACAACAAGAGGCCAACGGCCAGGCAAUCCAAUCAGUUUCAAAUUAAGGUUUACAUGUGCGAGAG\n"
       ]
      },
      {
       "output_type": "stream",
       "stream": "stdout",
       "text": [
        "score: 2.2 chr2L 43157993 43158281 AGACUUGUCUACAAAUAUAAGAGGAUUUCUUCAAAUAGGCAAUAAGCUUUCGGGAUUCAUUUCCGCGUCGUCAU\n"
       ]
      },
      {
       "output_type": "stream",
       "stream": "stdout",
       "text": [
        "score: 1.8 chr2R 1357500 1357770 CAUUGGUCAGAAUAUAUCAAAAUACACAAGUGUCUGGAUGCAUAAAGUUCAAAUAGAACAAUUAUAGUGACCAG\n"
       ]
      },
      {
       "output_type": "stream",
       "stream": "stdout",
       "text": [
        "score: 1.8 chr2R 1371554 1371824 CAUUGGUCAGAAUAUAUCAAAAUACACAAGUGUCUGGAUGCAUAAAGUUCAAAUAGAACAAUUAUAGUGACCAG\n"
       ]
      },
      {
       "output_type": "stream",
       "stream": "stdout",
       "text": [
        "score: 1.7 chr2R 9159504 9161970 UAUCGCUAUCCCCAUAAACUUUAAAAUUUACAGCUUCUGUUCGAAUGCAUUCGGUGACACUGCCAUCCUAGCGC\n"
       ]
      },
      {
       "output_type": "stream",
       "stream": "stdout",
       "text": [
        "score: 1.6 chr2R 15147640 15152302 AACGGCACACUGAGCACUUCUGUUGUAUUGUGCAAUAUUCAAAUGGAUGACAUGCGAAGUAAUUCCAAAAGCCA\n"
       ]
      },
      {
       "output_type": "stream",
       "stream": "stdout",
       "text": [
        "score: 2.1 chr2R 15362782 15363448 UCCAGCACCUCAUCCGUAGCACGGUCUGAGAUGGCGGCGGCCAGGGAUUGUUCGAUCUCACUGUGGGCAGAGGA\n"
       ]
      },
      {
       "output_type": "stream",
       "stream": "stdout",
       "text": [
        "score: 1.7 chr2R 15392111 15394685 GCGUAGUAAACUCGAGAAAAAGUUGGAGUAUCUAUAUUCAGUUCAAAUCAUAGUAAGUGGAACAUAGCGCUUUC\n"
       ]
      },
      {
       "output_type": "stream",
       "stream": "stdout",
       "text": [
        "score: 1.7 chr2R 17876345 17879189 AAGUUCAUCAUGCGCAUGGACUGCUCACCAGACAGCUAAAAUAUUUACAACGGAGUUAGCUUAAAGAACAAUUA\n"
       ]
      },
      {
       "output_type": "stream",
       "stream": "stdout",
       "text": [
        "score: 1.8 chr2R 17953343 17953739 GCGGGCGCAAUGAAUUUCCCCAAUUAGAGAUUCGAUUUCAAAUUACCCAGAUUUUCAAACAGAUUUCGCUUGCC\n"
       ]
      },
      {
       "output_type": "stream",
       "stream": "stdout",
       "text": [
        "score: 1.6 chr2R 19259695 19260559 GGAGCAGGACCUCUCGAAAGGAGCAACAGCCAAGCCAGGCAAAUGGGAAAAAUUCAAAUUAUCUGCAAGCGGCG\n"
       ]
      },
      {
       "output_type": "stream",
       "stream": "stdout",
       "text": [
        "score: 1.6 chr2R 19520167 19520329 GUGGACCCUUCGGUGGGCGCCUAGCCCCAAUUAGCAGCAAUGCCACCCUCUUUAUUAAGUAAAUUCAAAUAAUU\n"
       ]
      },
      {
       "output_type": "stream",
       "stream": "stdout",
       "text": [
        "score: 1.8 chr2R 19634813 19635461 UCUGUUCAAUUCAUCCUGAUGAUGAAUAUGUAAUUAUUCGAAUUUUACAUGUAAUAAGUAUACAGAGCAUUGAA\n"
       ]
      },
      {
       "output_type": "stream",
       "stream": "stdout",
       "text": [
        "score: 1.8 chr2R 19896977 19897049 UUUGCAUUCUCGAUUUGCGGCGGCAAUUUCAAAUUGACAAAUAAAGUUGGAAGGUAGUCAACAAGGUGCAGGAA\n"
       ]
      },
      {
       "output_type": "stream",
       "stream": "stdout",
       "text": [
        "score: 1.8 chr2R 21227802 21229224 UUUGCGAAUCUUUGAAUAUGUUUUAGCUUAUGUUCACAUCUAAAAGAUGCUAAUCCUAUUAACCACUACGCAAU\n"
       ]
      },
      {
       "output_type": "stream",
       "stream": "stdout",
       "text": [
        "score: 1.6 chr2R 21304314 21304926 GCGCAUUUGCCGUUGUAACAAGCGAAACUUCAAAUCGAAAACUUUCGGCCUGCUAAGCCCAAAAGCCCAAGCGU\n"
       ]
      },
      {
       "output_type": "stream",
       "stream": "stdout",
       "text": [
        "score: 1.7 chr2R 22516273 22516345 UGGCUAGCAAUAAAACGAUUCCCUAUCUGAAAUCCGCAUCUUUCUCGAUUCAAAUGGAGCAACAGCAGCUGCAU\n"
       ]
      },
      {
       "output_type": "stream",
       "stream": "stdout",
       "text": [
        "score: 1.6 chr2R 23165197 23165305 GAAGAAGAAACAAAACAAAAUUCGAAUUAAUUUCACAGGCAAUUUCCACGUAUCUGUAUGCAGAGGGGGUUUCU\n"
       ]
      },
      {
       "output_type": "stream",
       "stream": "stdout",
       "text": [
        "score: 1.7 chr2R 24503534 24503588 UCUGUCGCUCGCUUCACAGUUCAGAACAUUCAAAUUACAGAGAAGGUUGGCAAGUCAAACCAAACGGAAGCAAA\n"
       ]
      },
      {
       "output_type": "stream",
       "stream": "stdout",
       "text": [
        "score: 1.8 chr2R 24709077 24724881 GACUAUGCAUCUAAUCAUAUUAAAAUUCAAAUAUUGUAGGAUACUACUGGGUAUUAACCGUGCAAAUCAGUCAG\n"
       ]
      },
      {
       "output_type": "stream",
       "stream": "stdout",
       "text": [
        "score: 1.6 chr2R 26456922 26458758 AGGGUCCAGGUUCGAUAGGCGCAGCCAAUAGAGAAUCCUUUAACGAAAUAUAUAUAGUUAUAACGGUUUCCACA\n"
       ]
      },
      {
       "output_type": "stream",
       "stream": "stdout",
       "text": [
        "score: 1.6 chr2R 27251983 27252163 UGCCAGCCACCCUACGCAUUUCGUAUUUUCAAAUUAAUUUCAAGGAAUUUUCCUGACUCCAGGCAAGGUUUGGU\n"
       ]
      },
      {
       "output_type": "stream",
       "stream": "stdout",
       "text": [
        "score: 1.8 chr2R 27488327 27489803 GUUCCUCCGAAUAUGAAAGAUGAACACCAACGUUUUUCGGGUAGCUCAGCUAGACAUUCAAUUUGGAACAUGCG\n"
       ]
      },
      {
       "output_type": "stream",
       "stream": "stdout",
       "text": [
        "score: 1.7 chr2R 28230705 28230795 UAGUUUAUGGCGAAAGUUCAAAUGAAACCAAGAAGACAUUUAAAAAAAAAAAGCUUACGUUAAGCCAUAAAAAG\n"
       ]
      },
      {
       "output_type": "stream",
       "stream": "stdout",
       "text": [
        "score: 2.0 chr2R 28698398 28698740 GGAAAUCAGCUUUUUAGCUUAACACCCGACGAACUGUCGUCUCCGCGCGUCGUGCACAGAAUAAUUUCAUCCAU\n"
       ]
      },
      {
       "output_type": "stream",
       "stream": "stdout",
       "text": [
        "score: 1.8 chr2R 31668245 31669649 CAUUGCAAAUUCGAUUCAGGCCAUCCGGUGGCAUCUUCCACUUCAUUCACAACAUGAAUAUUAUUCGAAUAUUA\n"
       ]
      },
      {
       "output_type": "stream",
       "stream": "stdout",
       "text": [
        "score: 1.8 chr2R 34583753 34586039 AGUUUUGCCCACCAAUGCCCAGUCGAAAUGUCGCUGGAAACAUUCAAAUUACAUGUUCAAAUUACUGUCAGGGU\n"
       ]
      },
      {
       "output_type": "stream",
       "stream": "stdout",
       "text": [
        "score: 1.8 chr2R 36154066 36155326 AUCUACUUAGCUGACAAUCUCGAGUAACACAAUUUUCAAAUUGUGAAAAGGGUUCCCACUUUAUCCAGCAUUAU\n"
       ]
      },
      {
       "output_type": "stream",
       "stream": "stdout",
       "text": [
        "score: 1.7 chr2R 36556001 36557873 AACCUAGCGACUCCUAAAUGAGUGUAAGGAAAACACUCGCCGAUCUACACAUGAAGACAUAAUUCAAAUUGCUA\n"
       ]
      },
      {
       "output_type": "stream",
       "stream": "stdout",
       "text": [
        "score: 2.3 chr2R 36875286 36875754 CUUCGUUCGUUCAUUUGUUCGAUUCAAAUGGGUUAGAGAGCCAAGCUGAUUGCAAAACGAACGAGGAUAAUAAG\n"
       ]
      },
      {
       "output_type": "stream",
       "stream": "stdout",
       "text": [
        "score: 1.7 chr2R 37404908 37405754 CGAACGCCACAAGCUUCUACACAAGCUUACUAUUCAAAUGGAUUUUUAAAUAAUAUGAAAAUUGCUUUCACAGG\n"
       ]
      },
      {
       "output_type": "stream",
       "stream": "stdout",
       "text": [
        "score: 1.6 chr2R 37577250 37580058 GCAGUCAUUCUUCAAAUUCGAGAUGCCAUUCCAUGGUAACAAUGAGGGACAGGCUCAGGCACCACCCACUCUGC\n"
       ]
      },
      {
       "output_type": "stream",
       "stream": "stdout",
       "text": [
        "score: 1.7 chr2R 38978006 38981660 AACGGUUCUGAUUAUCUUCAAAUAAAAAUAAGAAAGUUCUUACGUUCGGGAAACUGGGAUAUACAGGCGGCUAC\n"
       ]
      },
      {
       "output_type": "stream",
       "stream": "stdout",
       "text": [
        "score: 2.0 chr2R 39388651 39392287 GAAAGGCACAAAUUUUUGAACGCAUACAAAUGCAAUUUAAAUUUACUUAUUUAGAACCCCUGGGAAUUUCAAAU\n"
       ]
      },
      {
       "output_type": "stream",
       "stream": "stdout",
       "text": [
        "score: 1.7 chr2R 39783159 39784113 AUGGGAACAAGUUCAUCCUGUGAAUAACAGCUAGCUUAAUUUAAUAAUGUACGAAAUUAAUCGCGUCCCUAUAA\n"
       ]
      },
      {
       "output_type": "stream",
       "stream": "stdout",
       "text": [
        "score: 1.6 chr2R 40698482 40698500 AUCCUUGCGGUUGCACUCGCUGUGCGUGCGUCGUCAUGUCGACUUUACAUUUUCAAAUAAUUUCUGAUUAAGCA\n"
       ]
      },
      {
       "output_type": "stream",
       "stream": "stdout",
       "text": [
        "score: 1.6 chr2R 41351864 41360648 CCGUGCACCAUUGCCAUCAGAGGAAAAGUUCAAAUAAACAAAAUGUUAUUGCAACAAGGAGCAAUGCGCAAUGC\n"
       ]
      },
      {
       "output_type": "stream",
       "stream": "stdout",
       "text": [
        "score: 1.6 chr2R 44296034 44296484 GAACACAUAUAGUCACAUGUCGACUUACUACUUUUCAAAUGCAUGUAGGUGUAGCUAACGCAAUAGUUCAGUAC\n"
       ]
      },
      {
       "output_type": "stream",
       "stream": "stdout",
       "text": [
        "score: 1.6 chr2R 46142281 46143199 GGCACAGCUUUUUUCACGAUUCAAAUCAUAAUGGCGCCCCAAUGCCAAGCUUUCGCUCGAUCCGCCAAAUGUUC\n"
       ]
      },
      {
       "output_type": "stream",
       "stream": "stdout",
       "text": [
        "score: 1.7 chr3L 297130 298210 GGCUUGCCCUAAUUAAAAUAAUUGCAAAUGCAUUGCGCUUCAAAUCCAGAAGCCUUUUUUACCUUUUAUAGCCU\n"
       ]
      },
      {
       "output_type": "stream",
       "stream": "stdout",
       "text": [
        "score: 1.8 chr3L 797877 800289 UGGACCGUUCGAUAUUGAGGAAUUCCUUGGACCGAAUCAAAUAUAUGCAGCUUUAAUUAUAUGUAUCGAGUGGA\n"
       ]
      },
      {
       "output_type": "stream",
       "stream": "stdout",
       "text": [
        "score: 1.8 chr3L 1481475 1481655 UCAAUUGUCAAUGUUUGUAUUCAAAUUUCCAAACGUAGUUUCCAAGAUUUUUAUGGGCCGGCCCAAGGCGAUUU\n"
       ]
      },
      {
       "output_type": "stream",
       "stream": "stdout",
       "text": [
        "score: 1.8 chr3L 1599528 1601940 GAGCGGGGAAGUCGUAAAAAUGCGGCAAGAAAUUUUCAAAUUUGUAAAACGCUAAAAAUUCCCAAAACGCAGCC\n"
       ]
      },
      {
       "output_type": "stream",
       "stream": "stdout",
       "text": [
        "score: 1.8 chr3L 1814281 1817143 GCGGUGGUGAAGUUCGAAGUUCGAAUCCAAGUUGUGUCUGCUAGUCUGUUAGUCUGUUACCUACCCCACCAAAA\n"
       ]
      },
      {
       "output_type": "stream",
       "stream": "stdout",
       "text": [
        "score: 1.7 chr3L 3375658 3377080 AGCAUCUGUAGCUUAAUUACCUAAUUUAAUUACAUAAGACUACUUCCUUUGAAAGCAUCAGGAUUACAGAAGCA\n"
       ]
      },
      {
       "output_type": "stream",
       "stream": "stdout",
       "text": [
        "score: 1.6 chr3L 4535944 4553512 GGGGUAGAGCAUUCGACUGCAGAUCGAGAGGUCCCCGGUUCAAAUCCGGGUGCCCCCUGGAACUACAUUUUUUG\n"
       ]
      },
      {
       "output_type": "stream",
       "stream": "stdout",
       "text": [
        "score: 1.8 chr3L 4755168 4758858 CAUUAACUUUGAUUUGCGAGGGCGGAUUAUCAUGUUUUCAAAUAUACAUUCCAAAAGAAAUUAAUUGUUAAUGA\n"
       ]
      },
      {
       "output_type": "stream",
       "stream": "stdout",
       "text": [
        "score: 1.8 chr3L 5059951 5065585 CAUUUUUGUUGUUUUGGCAUACAAUUUCAAAUUUGAAAAUAAACUCGGCGAAAGGAGAAAAAGCAGCGGAUGAG\n"
       ]
      },
      {
       "output_type": "stream",
       "stream": "stdout",
       "text": [
        "score: 1.8 chr3L 5524188 5527482 GCCGAUCUGCUCCCAUUUCGAAUACCGAAUUCGAAAUCUUCAAAAUUUUCGAACGACUCUCCGCCGCAGAAGCA\n"
       ]
      },
      {
       "output_type": "stream",
       "stream": "stdout",
       "text": [
        "score: 2.4 chr3L 6284790 6285402 UUAUCAAAGAAUUAGCUUAAAACAAAGCAAGCGUGAAACGUGCUCAAUAUGGCAAAUUUGUUGAUAAGAAAAUA\n"
       ]
      },
      {
       "output_type": "stream",
       "stream": "stdout",
       "text": [
        "score: 1.7 chr3L 6354576 6358248 AUCCUCCUCCUCAUCCACCGAUCCACGAAAGCUUUCUGCUCUCUUUCAAAUUUGAAUUCUGAUGGGCUCGACAG\n"
       ]
      },
      {
       "output_type": "stream",
       "stream": "stdout",
       "text": [
        "score: 1.6 chr3L 6777725 6779093 GCUGCGCACGCGCUCUCAAGAGCCAGGCAACCCCGAAAUUCGCUUGAAUUAUUUUCGAAUCAAAUCGCAUAAUA\n"
       ]
      },
      {
       "output_type": "stream",
       "stream": "stdout",
       "text": [
        "score: 1.7 chr3L 7959346 7960210 AGUUCUAGAGCUAAUAGCUUCAAAUUUUCUGCAAAUUUCCAUAUCCCUUGCCUAUAUAGGGCAUGCUCAGUAUA\n"
       ]
      },
      {
       "output_type": "stream",
       "stream": "stdout",
       "text": [
        "score: 1.7 chr3L 10125857 10126253 GUAGUAGCUCAUCCACUCCGGAUAAACUUAUGUCAUGCAUGCAUAAAUAUAUUUAUAGUUACAAGCGGAAAAAU\n"
       ]
      },
      {
       "output_type": "stream",
       "stream": "stdout",
       "text": [
        "score: 2.0 chr3L 12286853 12290399 ACGGGCUUUCAAUUCGAAUCACCUGCCAUUUCUGGACAUGCUGCUUCUUUUGCUGCAGGGCAACCUAGCCGCCC\n"
       ]
      },
      {
       "output_type": "stream",
       "stream": "stdout",
       "text": [
        "score: 1.7 chr3L 12487503 12493713 GACUGACUUCCCAUCUUCCAUGAGCAUCCAUUUAAAUUUGCUGCGUACAUAUAUCGCACCGUUCGGGUUCAAAU\n"
       ]
      },
      {
       "output_type": "stream",
       "stream": "stdout",
       "text": [
        "score: 2.0 chr3L 12720208 12720712 CGGCCGAUAAUGAUCUCAUCGAGAUGUGUGUUUGCAGAUUUCGAAUUCAAUUUUGAAUUGCACUCGCUGGCAGA\n"
       ]
      },
      {
       "output_type": "stream",
       "stream": "stdout",
       "text": [
        "score: 1.6 chr3L 15251599 15252373 CAUGGAAAAUAUGGGUUAUACCCAUUAAUAUCUUCAAAUAUUAUUCUUAAAGUAAUGCAACUAUUAGCUUUCCA\n"
       ]
      },
      {
       "output_type": "stream",
       "stream": "stdout",
       "text": [
        "score: 1.6 chr3L 16832623 16832767 GCAAUGGCAAUUAACAAUUCAAAUUAAUGUUUUUAAAAUGUUUUCUUGCAGAGACCGCGACACAGUGGACGCCA\n"
       ]
      },
      {
       "output_type": "stream",
       "stream": "stdout",
       "text": [
        "score: 2.0 chr3L 17193223 17207713 AACGUGUGAAUAGCGAAAGCAGCGUAAAAGCGUUGGAAAACCAUGGGAUAUCCAACAUUCAAAUAGUUCACGUG\n"
       ]
      },
      {
       "output_type": "stream",
       "stream": "stdout",
       "text": [
        "score: 2.4 chr3L 17830073 17830163 CCAAUAUUUUACAAAAACUCGGAAAGAAAAGCCCGCCAGCAUUGUUGACAUAUUUAUUCAAAUAUACGUAAAAC\n"
       ]
      },
      {
       "output_type": "stream",
       "stream": "stdout",
       "text": [
        "score: 1.8 chr3L 17859838 17862916 CCGAACACCGCGACGUGCUCAAUGGAAACAUGAAAUAUAUUCAAAUGCAUUUGCCGCAUGGAACGGGACAGACA\n"
       ]
      },
      {
       "output_type": "stream",
       "stream": "stdout",
       "text": [
        "score: 1.7 chr3L 20903754 20904870 AACAACCGUCGAGCCAUUUAAAAAGCAACAUUUUGCAAUGCCAACAAUUACAAUUACGAUUUUCGGUUCGAUUG\n"
       ]
      },
      {
       "output_type": "stream",
       "stream": "stdout",
       "text": [
        "score: 2.0 chr3L 21194182 21196738 ACGAAAUUCUCAUGGCUGCAACAUUGGCCAACACCGCAAAGGAAGCAAUGGAAGAUGGAAGGUCCAUUCGAAUU\n"
       ]
      },
      {
       "output_type": "stream",
       "stream": "stdout",
       "text": [
        "score: 1.7 chr3L 21310489 21311641 AAUUUUAUAAUAUUCAAAUGCCGAUCUCUGGCACGCACAUUAUAGCGAUUAUAUCGACUGACCAAACUGAAUGA\n"
       ]
      },
      {
       "output_type": "stream",
       "stream": "stdout",
       "text": [
        "score: 1.8 chr3L 22728118 22729216 UGAAACUUCCAAGAAAUAGAUAUUUCAAAUAUUGAGAUUAUGGCUUAAGAGGCCUAAGAGUGCGAAGUUUAGUC\n"
       ]
      },
      {
       "output_type": "stream",
       "stream": "stdout",
       "text": [
        "score: 1.6 chr3L 23259690 23260320 GGGCAUGAUGAACCUCGUAAACCAGCUAUUCAAGAUUUAUUUUCGAAUCAACAAGUUGCAUCUGUGCAAGCCCC\n"
       ]
      },
      {
       "output_type": "stream",
       "stream": "stdout",
       "text": [
        "score: 1.7 chr3L 24018002 24018884 AAGAACUCGCAUUUCGAAUGGAACGCGCCCUUCAAAACGACAACAACAUCAAAACAUUUGUUUAAAUACGUGAG\n"
       ]
      },
      {
       "output_type": "stream",
       "stream": "stdout",
       "text": [
        "score: 1.8 chr3L 25312957 25314181 CGCCGAUUAAUAGUUCGAUUUCAUUCUCUCGGUCUCGUGAUCUUCCGUGUCAUGUCCAUACGUUCGGCAAUUAA\n"
       ]
      },
      {
       "output_type": "stream",
       "stream": "stdout",
       "text": [
        "score: 1.7 chr3L 26304619 26306743 UACGAACCUUAUAUAGUCCAAAUUUAAUUCGAAUAGCAAACACGCAAAGGCCAAUGGGUAUUGGUUGGAUACAC\n"
       ]
      },
      {
       "output_type": "stream",
       "stream": "stdout",
       "text": [
        "score: 1.6 chr3L 28706652 28707696 GGUAGUGGAAAGAGAUGGCACUAGAGUCAUGGAAAAAGAAGGAAACUACUUGCUGAGUAGUAGCUUAUUACAGA\n"
       ]
      },
      {
       "output_type": "stream",
       "stream": "stdout",
       "text": [
        "score: 1.6 chr3L 30223655 30223799 UCCUAUUCGAAUCAGAUUUGGCGAACAAAAAGCCAAGUUGGCAACACUGACAAUGACUCCAAGCGCGAACAAAG\n"
       ]
      },
      {
       "output_type": "stream",
       "stream": "stdout",
       "text": [
        "score: 1.8 chr3L 31180741 31181569 AUUCUGGAAUUUAUUGAUAAAACAUGGUGCUAGCUUAGCACUGUAAAUCACUUUACUUUUUAUUCAGAUCAUUU\n"
       ]
      },
      {
       "output_type": "stream",
       "stream": "stdout",
       "text": [
        "score: 2.1 chr3L 33340776 33340866 GGUGUUCAAAGUAAGAAUGUACAAUAUCAGUGAUAAGAUAUCAGGCCGAGGGUAGCUCACAGCAUAUAGAACAA\n"
       ]
      },
      {
       "output_type": "stream",
       "stream": "stdout",
       "text": [
        "score: 1.8 chr3L 36219060 36224244 AGAUCUGUGCCCGGGCUGAAAACCGAUAAUGGCAGUGUGUUCGAAUACAGCGAAAAUGAGGAUCAGACUAAGAA\n"
       ]
      },
      {
       "output_type": "stream",
       "stream": "stdout",
       "text": [
        "score: 1.6 chr3L 40004061 40004097 CCAGUCCGCCGUUUCAAAUUAGUGCGAAACAAGUGAAAAACAUGAAACAACAGUAGUUGUAGGCGAUAUCGAUU\n"
       ]
      },
      {
       "output_type": "stream",
       "stream": "stdout",
       "text": [
        "score: 1.7 chr3L 40192485 40195095 AGAUAUAAUAGCUUACAUUCUACAUUCAUUUGAUGGCGCCAUCUAGCAGAUAACAAUAUCAUUAAGCUUGUUUC\n"
       ]
      },
      {
       "output_type": "stream",
       "stream": "stdout",
       "text": [
        "score: 1.8 chr3L 41083769 41084435 AGUUGGAUCUAAAGUUUCUUUUGAGACUUAUAUACGUAUAAAUUCGAAUUUAUUUUAAUUUUGCCCGACGAACA\n"
       ]
      },
      {
       "output_type": "stream",
       "stream": "stdout",
       "text": [
        "score: 1.6 chr3L 41748401 41748869 UGGAGCAGAGAAAAGAGGUCCUUGCAAUGUAGCUCUUAUUUAUUGCCAUCAAUCUGCAAAUGGUAUGUGCUUCU\n"
       ]
      },
      {
       "output_type": "stream",
       "stream": "stdout",
       "text": [
        "score: 1.6 chr3L 42319056 42320586 CUUAGCCAGGACCACGGCUUUGAUGUCCUUUUUCCCCGCUAUGCGGUUCGAAUCAAAGUGCCUUAUUUGACGGC\n"
       ]
      },
      {
       "output_type": "stream",
       "stream": "stdout",
       "text": [
        "score: 2.4 chr3L 42769405 42770287 UGAUUUGUUGUUAGCUUAUUGGCUUUUAUGUUGUGACAUAUGUAUGUAAAUUUGUUUGCUAAAACAACGAAACC\n"
       ]
      },
      {
       "output_type": "stream",
       "stream": "stdout",
       "text": [
        "score: 1.6 chr3L 44191439 44191799 UCUUGGCUGCAGUUUAAUUUGCAAUUUUGUAAUUUAAAAGGACAUUUUUCAGUUCGAUAGUUCAAAUGAUGCCA\n"
       ]
      },
      {
       "output_type": "stream",
       "stream": "stdout",
       "text": [
        "score: 1.7 chr3L 45089371 45093439 UAAAAGGUAAUAACUCGAUAGAAAGCUCUUUUCGAAUCAACUACAAGUGUGAACACACAGCUCCACUUCCACCU\n"
       ]
      },
      {
       "output_type": "stream",
       "stream": "stdout",
       "text": [
        "score: 1.6 chr3L 45469368 45470970 CGGUCUCAUGCUCAGCACCUGAAGAGAAGAGGAAACUUCAAAUAAUGCGAAAAUUAUUAUUAUAUUAAUGACCC\n"
       ]
      },
      {
       "output_type": "stream",
       "stream": "stdout",
       "text": [
        "score: 2.4 chr3L 49928882 49928936 UGAAAACAUCUCGGCACCGAAUGCAAAAUGCACGAAAAACAAUUUCAAAUAAAACGCUCAACUUUAAUUUUCAU\n"
       ]
      },
      {
       "output_type": "stream",
       "stream": "stdout",
       "text": [
        "score: 2.4 chr3L 49943762 49943816 UGAAAACAUCUCGGCACCGAAUGCAAAAUGCACGAAAAACAAUUUCAAAUAAAACGCUCAACUUUAAUUUUCAU\n"
       ]
      },
      {
       "output_type": "stream",
       "stream": "stdout",
       "text": [
        "score: 1.6 chr3R 10363984 10365730 UGGUUAGCUUACACAACGUGAGUACGGUACAGUAGAGUAGUGGGUAAGUAUCUUGGAUGAUUAAGUGAGUUGAG\n"
       ]
      },
      {
       "output_type": "stream",
       "stream": "stdout",
       "text": [
        "score: 1.8 chr3R 10443873 10449021 AUCGGCGUUCUUAUUCAGUUAAUUCAAAUACACAUGCAUCGUGUACGUAUGUAGGUGGAAAAUCCAACCGGCCA\n"
       ]
      },
      {
       "output_type": "stream",
       "stream": "stdout",
       "text": [
        "score: 1.7 chr3R 10783707 10783923 AACGUUCUUUCAAAGAUUUAAGACUAGUUUUUUAAAAACAGUUCGAUCAAACCGCUUUGGCAUUGACUUUGAAG\n"
       ]
      },
      {
       "output_type": "stream",
       "stream": "stdout",
       "text": [
        "score: 1.7 chr3R 11308438 11309626 ACACAACUGGUAUAAUAAGAAUAGCAACCACUGCUUUCAAAUCAUUAGAGUUUUCAGUAACCCGCCGGAAUGCC\n"
       ]
      },
      {
       "output_type": "stream",
       "stream": "stdout",
       "text": [
        "score: 1.6 chr3R 11586731 11589359 GGAGCAACGUAGUCGGGAGGACAACCUCAGCAUUUUUGAUGUACUUAAGUAGUUCGAUUUUUAUUCCGCAACCG\n"
       ]
      },
      {
       "output_type": "stream",
       "stream": "stdout",
       "text": [
        "score: 1.6 chr3R 12610693 12614167 AAAGGGAAAUGCGAAUGGAAACCGUGGCAGCGGGUAUAAAAGCGAAGGCCUUCAAAUCGAGAUGAUGCAGACUC\n"
       ]
      },
      {
       "output_type": "stream",
       "stream": "stdout",
       "text": [
        "score: 1.7 chr3R 12754601 12755429 AAAUGUGUGCCACGUGAUAACAACCAACUAAUUCAAAUUAACAAAACAACAUUUUUUGUUCGCAUACACUAUAU\n"
       ]
      },
      {
       "output_type": "stream",
       "stream": "stdout",
       "text": [
        "score: 1.8 chr3R 13016908 13017646 GGCGGGAAUGGAAGGGAAGGGAUAGCCUACAAGUAGCGACAAAGUACACGAAGUGUACGUUUCAUUUCAAAUUG\n"
       ]
      },
      {
       "output_type": "stream",
       "stream": "stdout",
       "text": [
        "score: 1.7 chr3R 14135840 14139656 AGCCAGAAGAAAAUAGUUCGACAUCAAAGUUUAAGAAUAUCAUUGUGGGUCUAGCUUAGAGAUUCAAUCACUGG\n"
       ]
      },
      {
       "output_type": "stream",
       "stream": "stdout",
       "text": [
        "score: 1.6 chr3R 14239386 14241456 CCGACGAUCCAGCGCCUGACAAAUUCUCCCUUUCUGAAUUCGAAUUACUACCGAAUCCUCCGGUGGAGUCGUUC\n"
       ]
      },
      {
       "output_type": "stream",
       "stream": "stdout",
       "text": [
        "score: 1.7 chr3R 15788412 15789150 AGAAUCUUGGCUAUAAGGAGGGCAGCACCAAGCCCCGCCGCAUGACACGUUCGAUCAGCGUCGUUACCAAGACC\n"
       ]
      },
      {
       "output_type": "stream",
       "stream": "stdout",
       "text": [
        "score: 2.2 chr3R 16180189 16180603 CCAGGAAUCUAUAGCUUAAGAAGGACAAGUCCCGAUGAAAAUGGGAACAUUUUUGUGAAUCAUGAGAUAAACCA\n"
       ]
      },
      {
       "output_type": "stream",
       "stream": "stdout",
       "text": [
        "score: 1.7 chr3R 17371487 17372801 AUUCCGCCAAAUAAUAUUUUUCUUUGAAAUUAUUAACUGAAAAGCAGCUGUUCAAAUUAGCAACAUUUGGAACC\n"
       ]
      },
      {
       "output_type": "stream",
       "stream": "stdout",
       "text": [
        "score: 1.7 chr3R 18254783 18255575 UGUGCCACAAAAAUCGGGGUAAUCCUUCAGCAGCCACCGCAAAAUAGAGUUCGAUAUAUCACCAAGGACCGGCC\n"
       ]
      },
      {
       "output_type": "stream",
       "stream": "stdout",
       "text": [
        "score: 1.7 chr3R 18430500 18431202 CACUUUGAGAUCUUUUUGACUACCUGUAUUAGUCAUAUAGCUUAGCUACGUAUAUUUUAGAAUUCUGUCGGUGA\n"
       ]
      },
      {
       "output_type": "stream",
       "stream": "stdout",
       "text": [
        "score: 1.8 chr3R 19668734 19669472 ACUGCAGCACAAUAAGAAUAAUUCAUUUCAAAUUUCGAUUUUUCUGCAAAGAAAAUUGCGCUUUUCACGCUGCA\n"
       ]
      },
      {
       "output_type": "stream",
       "stream": "stdout",
       "text": [
        "score: 2.1 chr3R 19951637 19954175 GGGCUGAACGCAAUCACCUGUGGUGGCCAUUAAGUUGGCCCGAGGACUCCAGUCAUCCAGUCUGGUAGCUCGAG\n"
       ]
      },
      {
       "output_type": "stream",
       "stream": "stdout",
       "text": [
        "score: 1.6 chr3R 20976259 20977897 AGAUGCCGAGUUCACUUUCUUUUCAUUAGGAUAAAAGCGGAGGCCAGGAAAUCGAUGCAUUUCGAAUGAACUUG\n"
       ]
      },
      {
       "output_type": "stream",
       "stream": "stdout",
       "text": [
        "score: 2.1 chr3R 22226776 22230808 AGAGCAAUGGUUAGAGCCACAGCCACAUAGCCGGUGGCAUAGAUCUCUGGUAUCGUGAGAAACUUGUUCAAAUA\n"
       ]
      },
      {
       "output_type": "stream",
       "stream": "stdout",
       "text": [
        "score: 1.6 chr3R 23186395 23186539 GUUCAAAUCCAGCGACUACUACUACUUGCCAGCCCAAGUUAGGGCUAAGCGCUUCUCACCUGAUCUCGAGCCAC\n"
       ]
      },
      {
       "output_type": "stream",
       "stream": "stdout",
       "text": [
        "score: 1.6 chr3R 23888988 23889816 GCUCCAAGGUGCGGAGGAUCAUAAAUCCCGAUAAGAAAUUCUUCAAAUUGCUUCUGGCACAAAUGCACUGCAGC\n"
       ]
      },
      {
       "output_type": "stream",
       "stream": "stdout",
       "text": [
        "score: 1.7 chr3R 24158340 24158628 CCCCACUUCCGCCCGUUUUCGAAUUACAGCUGAUUGGCGCUCUCACAUUAUUUUGUAUGCCUCUCCCAAGCGGA\n"
       ]
      },
      {
       "output_type": "stream",
       "stream": "stdout",
       "text": [
        "score: 2.2 chr3R 24336584 24337142 UGAAAGGUCGCGCUCAUCACGUGCUUUAAUAAUUUAUUCAAAUUAACACGCGUCAGCCUGCCUUUCCGCUUCCC\n"
       ]
      },
      {
       "output_type": "stream",
       "stream": "stdout",
       "text": [
        "score: 2.2 chr3R 24525437 24526121 UCCGAGUAGCAGGAAACUUAAGACGUUUUCACGUUGAAUUCUAAUGAUUUUUGUAUUCAAAUGCGGAUUGCUCC\n"
       ]
      },
      {
       "output_type": "stream",
       "stream": "stdout",
       "text": [
        "score: 1.7 chr3R 24829086 24829104 GGCAGCCGACCUUGAAAAUAAAGGAUUUCCCUAAAUAAACACAGAUUAACAUUUUGUUCAAAUGAGCUAGCAAU\n"
       ]
      },
      {
       "output_type": "stream",
       "stream": "stdout",
       "text": [
        "score: 1.8 chr3R 26027767 26029027 UUCGCCAUAUCUGCUAUACUCCUGCGCAAGCACUUUUCAAAUGAAAACAGAAAACACACACUUUCAGAUGGCUC\n"
       ]
      },
      {
       "output_type": "stream",
       "stream": "stdout",
       "text": [
        "score: 1.8 chr3R 26451557 26451809 AAUAUAUAUUCAAAUUUGGAACACAAGAUGAGGACUUUUGGAGCUGCCAUUGUACUAACUGCACGAGUAUGUGU\n"
       ]
      },
      {
       "output_type": "stream",
       "stream": "stdout",
       "text": [
        "score: 1.6 chr3R 28846447 28846843 UCCCCAAAACGCACAUCAAUCACGCGAGUUUAGCUUAUUAGCCAAGCAUUGAACCUUAAACAAAAAGCGGGAGA\n"
       ]
      },
      {
       "output_type": "stream",
       "stream": "stdout",
       "text": [
        "score: 1.7 chr3R 30241230 30242454 UCGAGCGCUUCUAAUUGAAAUGACUUCAAAUGACUGGAACUUAAAAAGUUCAAAUUAAAAAUUCUCGAAUCGUG\n"
       ]
      },
      {
       "output_type": "stream",
       "stream": "stdout",
       "text": [
        "score: 1.8 chr3R 30641841 30642651 CUUCAAAUCCACCUCGCGCCAAAAGUUCUCCACGUACGGGCGGCAAAAGUAGUAUUUGUGCCUCGGAUUGUAGA\n"
       ]
      },
      {
       "output_type": "stream",
       "stream": "stdout",
       "text": [
        "score: 1.8 chr3R 31088025 31099689 UGGGCAUUUUGGGCACGAGGCAUGAUCUGCGGAGGUUUAAGUAUAAGAAAAUAUAUUCCAAAGUUAGCUUAAGU\n"
       ]
      },
      {
       "output_type": "stream",
       "stream": "stdout",
       "text": [
        "score: 1.7 chr3R 31322298 31324998 GCCAAGUCAACCCUCGUCCGGAAAACCGUACUCCCCCCCAUUCAAAUGGAAGCCCCCUUUCCUUUUCGCUGGCC\n"
       ]
      },
      {
       "output_type": "stream",
       "stream": "stdout",
       "text": [
        "score: 1.6 chr3R 33330954 33331026 AACAGUUCAAAUGCGAAGCACAAGCACAGGCAUUUGUGGAAGAUGCGAGCAAAGCGUGACCACGAAGAUGAAGC\n"
       ]
      },
      {
       "output_type": "stream",
       "stream": "stdout",
       "text": [
        "score: 1.7 chr3R 34744358 34744718 ACUAUGACGCUCCAACGCAAUAGCUUAAUAGUGCACACUUUUUGUCCACACCCAAAAAACAUAGAUUUUUGAAU\n"
       ]
      },
      {
       "output_type": "stream",
       "stream": "stdout",
       "text": [
        "score: 1.6 chr3R 35343618 35347182 UCGUAGAACACCAAGUGCCGCCCCCCUUAAGCAAUCCGAUUCGAAUCUCUCGUUCCUGGGAAGAUUCAACGACA\n"
       ]
      },
      {
       "output_type": "stream",
       "stream": "stdout",
       "text": [
        "score: 1.6 chr3R 35359116 35360754 ACAAAGUCACAAAGAAUAAAAUUAGCUUAUGAAACAGCAGCUGCUGGGCAGCCUUGAACGAAAGUUGGUAGACA\n"
       ]
      },
      {
       "output_type": "stream",
       "stream": "stdout",
       "text": [
        "score: 1.8 chr3R 35449560 35451072 UGGCCGAACAAACCAGAUCAUAUCCCUGAUCACCCUUCAAAUUCUGCUUGCCCGAGAGCACAACCGUGUAGCCG\n"
       ]
      },
      {
       "output_type": "stream",
       "stream": "stdout",
       "text": [
        "score: 1.6 chr3R 36167259 36167997 GGAACGCGAACACGAGGAUUUCUUGACUUUUAAGCCCCAAAAUUGGUUCGAUGCCACAACUUUGUGGAUUUGCA\n"
       ]
      },
      {
       "output_type": "stream",
       "stream": "stdout",
       "text": [
        "score: 1.6 chr3R 36273292 36273526 UUUAAGGCGUACAAACGAAUCAGUAUAUUAGGAAUUCCUCUUCGAAUAGGGCAUGAAAAUGCAAAAUGCUUUCA\n"
       ]
      },
      {
       "output_type": "stream",
       "stream": "stdout",
       "text": [
        "score: 1.8 chr3R 37473937 37476439 UGCUCGAACAACCGAAUGACGUCCUUGUGAUAUUCAAAUCCAAAUUUGUAUCCCUGAUGCAAAAUCUCUCGAGU\n"
       ]
      },
      {
       "output_type": "stream",
       "stream": "stdout",
       "text": [
        "score: 1.7 chr3R 37832444 37832786 UGACUUUAACCGCCGUCGCUUUAGUCGCCGCACUUUCUUUUGAAACCGAUUCGAAUAAGUCAAAUAGUCACCGG\n"
       ]
      },
      {
       "output_type": "stream",
       "stream": "stdout",
       "text": [
        "score: 2.4 chr3R 38881952 38882510 AAUGAGAAUUUGCAAAAAGGAACUGGCCCUAAAUUAGCUUAAGAGCGAACAUUUCAGGAAAUGAGCAACCAAAC\n"
       ]
      },
      {
       "output_type": "stream",
       "stream": "stdout",
       "text": [
        "score: 1.8 chr3R 39868901 39870395 AGAAACACCUCUGGCUGUGUUGUGUGCAACGUGUAUUGAUUAUAUUUCGAAUCGGAUCUUAGCUAAGGUAUAUA\n"
       ]
      },
      {
       "output_type": "stream",
       "stream": "stdout",
       "text": [
        "score: 1.7 chr3R 39922156 39924496 AAGGGAAAAACGUUUCAAAUUUAUUGCGUCAACCUGCGCUAUUUGCAUUCACUCCAGUCCUCUUGUGGCCCCUU\n"
       ]
      },
      {
       "output_type": "stream",
       "stream": "stdout",
       "text": [
        "score: 1.8 chr3R 40624058 40624850 ACUGGCAGUCUAUAUACAGUUUUUUAUAUUUUUUCAAAUGAUUGAGAUGAGGUCAUUUUCCAGCUGUUAGAAUC\n"
       ]
      },
      {
       "output_type": "stream",
       "stream": "stdout",
       "text": [
        "score: 1.6 chr3R 41738413 41738665 GCACACGCUCAUACACGUCGCGGACAUAGUUGGCUCCUAGCUUUCAGCGGUAAUUAUUUCAAAUUAAAUGGCAA\n"
       ]
      },
      {
       "output_type": "stream",
       "stream": "stdout",
       "text": [
        "score: 1.7 chr3R 42881911 42885871 UGUAGCUUAUUGAACAAUCAUAUCAUUAUUUGAAUUUAAUGCCUUCACAGGUACUUGAUCGCAUGCUAAGCCCG\n"
       ]
      },
      {
       "output_type": "stream",
       "stream": "stdout",
       "text": [
        "score: 1.6 chr3R 43013210 43015712 AUUGCUUAUCGGUUCUUAAUGAACAUAGUUACUUAACAAAUUGAAGCUUUUCGAAUAAGCAAGAGCAUAAAUCU\n"
       ]
      },
      {
       "output_type": "stream",
       "stream": "stdout",
       "text": [
        "score: 1.6 chr3R 43068796 43068976 CGAGAGAUUACCAACUCCUGCCAUGGCAAGCAAUUUGCGGAUGUUCGAUUUGAUUUCCUUUCUCAGUUCUUAAG\n"
       ]
      },
      {
       "output_type": "stream",
       "stream": "stdout",
       "text": [
        "score: 1.7 chr3R 43387341 43387791 UGCUCAACUCGGCGACGUUCAUCUUACACCAUUCGAAUAUAUUUAACGAUUUCUUAACAAACAGAAAUGAGCAA\n"
       ]
      },
      {
       "output_type": "stream",
       "stream": "stdout",
       "text": [
        "score: 1.6 chr3R 44561416 44562262 CACUUUCAAAUGAUAAACGGCGGCGCCGGCGGACAGCAGCACAGUUUCGAGGAGACAAUCCACAGGGUGAGUAG\n"
       ]
      },
      {
       "output_type": "stream",
       "stream": "stdout",
       "text": [
        "score: 1.6 chr3R 44934837 44939697 UCAGUAGUGUGAGGUACAAACUCCUUUGUCCAGUUCGAUUGUAGUGCCAUUUUCGAGUCGCCUAGACCGCACCA\n"
       ]
      },
      {
       "output_type": "stream",
       "stream": "stdout",
       "text": [
        "score: 1.8 chr3R 45595089 45595989 UUCAAGUUGCAGCCGCAAAAGUGCGGAAAAAUCUAUUGGGAAAAUUAAGAAAAAUACUUCAAAUUGGUGCAGCU\n"
       ]
      },
      {
       "output_type": "stream",
       "stream": "stdout",
       "text": [
        "score: 1.7 chr3R 47878858 47880658 AAGACUAUAAAAUCCAAAAUUAGCUUAAUUUUUGCGAUUAAAUUAAAUGCCUUGUUGCCAAGUGGCCGGUCGAU\n"
       ]
      },
      {
       "output_type": "stream",
       "stream": "stdout",
       "text": [
        "score: 1.6 chr3R 48264398 48265406 UCCCAUGACGCCAGGAUACAGUCGCAUGACUUCAAAUACCUCGAAUACGGACUACAGCUAUCAGCUGAGGGAGU\n"
       ]
      },
      {
       "output_type": "stream",
       "stream": "stdout",
       "text": [
        "score: 1.8 chr3R 49622699 49623257 UUGCGCAUCUAGAUAACGAGGCAUUCGAAUACUAAUGUGAUAUGCACAGAGCAUUUUUAUAGAAUCUAGGCCAG\n"
       ]
      },
      {
       "output_type": "stream",
       "stream": "stdout",
       "text": [
        "score: 1.6 chr3R 50222943 50233365 AAGCACUGCCAAAGGGUUCGAAAGAUAUAUUCAUUUAUUGACGGGGUACUAAUCAAUAUCAAUUGCUUGCUCAC\n"
       ]
      },
      {
       "output_type": "stream",
       "stream": "stdout",
       "text": [
        "score: 1.6 chr3R 50791655 50792843 UCCAUUUGGGGCUCAAACAGCGGGAGCAGGACUUAACCCUUGGCAUGUAUUUUACUUUCAAAUACCCCAACGAA\n"
       ]
      },
      {
       "output_type": "stream",
       "stream": "stdout",
       "text": [
        "score: 1.6 chr3R 52411314 52416048 UGCACACUCACACACAGGUGUCCUGCAAUUUUGAAAAUUUGAAAUGACAUUAGCUUAUCAGCUGACCAGUGCAA\n"
       ]
      },
      {
       "output_type": "stream",
       "stream": "stdout",
       "text": [
        "score: 1.7 chr3R 53361015 53361627 CAAGUGGCCUGGCAUAAUAUUUAUUCAAAUUUGAGUAUCGUUAGUGGGCAGCCCUCUGUUUAGCUAGGCAAAUU\n"
       ]
      },
      {
       "output_type": "stream",
       "stream": "stdout",
       "text": [
        "score: 1.6 chr3R 53915974 53916874 CCCAAGUCCAACAAUGAGACGAGAAAUGCAAAUGAAGCUGUGGACAAUGCAGAUAGCUUAUGAAGAGGGAUUAC\n"
       ]
      },
      {
       "output_type": "stream",
       "stream": "stdout",
       "text": [
        "score: 1.7 chr3R 54650574 54651168 UAUGCGAUGGUGGUCAUGGGAAUGGGAGGCGAGAGGCGUCGGGCGGAAGCCGCAAGAAAAAUAAACUUCGAAUU\n"
       ]
      },
      {
       "output_type": "stream",
       "stream": "stdout",
       "text": [
        "score: 1.6 chr3R 55249528 55251022 AUGGCAAAGGAGAAACCAAAUGAGAAAUCCCCUUCAAAUUGGACAGAUCCAAUCGGGCGUGACCAUUACGGCAA\n"
       ]
      },
      {
       "output_type": "stream",
       "stream": "stdout",
       "text": [
        "score: 1.6 chr3R 55470731 55470965 UCUCUGGGCUCAGCACUGGACUUAAUUCGAAUCGACAGACAGCAGCCGCAGGUUAUCCUUCAGCCACAGAAUGU\n"
       ]
      },
      {
       "output_type": "stream",
       "stream": "stdout",
       "text": [
        "score: 1.6 chr3R 55512177 55512447 GUAGCUCGAUCCGGAAACGGCCAAGACGAGGACGACUUGGGGCGGAAGCGCCGCUGCCAUCAAAUCAUUUUGCA\n"
       ]
      },
      {
       "output_type": "stream",
       "stream": "stdout",
       "text": [
        "score: 1.7 chr3R 56516130 56516472 AUUUUUUUUACCAGAGAAUAAAUUAUUUCAAAUGGGAUAAGAUCAAGUCAUUACCAUGGUAUUCAUAUUUUCAA\n"
       ]
      },
      {
       "output_type": "stream",
       "stream": "stdout",
       "text": [
        "score: 1.8 chr3R 56998038 56999856 GUCGGGCUAUUCGAAUAACUCAAAAGAAAAUCUCAGAAUAUUAGAAAAAUCUGGUGCUUCCACUCGGCUUGCGU\n"
       ]
      },
      {
       "output_type": "stream",
       "stream": "stdout",
       "text": [
        "score: 1.8 chr3R 57545752 57546130 AAAAGGGUGUUCGAAUGUUCGAGUGGCACUAUGAACCCUUUCCCUUAAGACUGAAGCCCAAUUAUGAACACUGC\n"
       ]
      },
      {
       "output_type": "stream",
       "stream": "stdout",
       "text": [
        "score: 1.6 chr3R 57872030 57872300 UUUUUGCAUGUGUCCAGAGUUGGUAGCUCGAAGCUGAAAAGCGGAAACGGAAGCGAUAAGAUAACACAUACACA\n"
       ]
      },
      {
       "output_type": "stream",
       "stream": "stdout",
       "text": [
        "score: 1.7 chr3R 59908533 59908587 ACCACUUAUAGCUCAAUAAACUUUAACUUGCCCCAAGGGCACUUCGAUACCUUCACCCUAACUAGCUUAGUCCA\n"
       ]
      },
      {
       "output_type": "stream",
       "stream": "stdout",
       "text": [
        "score: 1.8 chr4 526588 526606 UUUUAACGCAUGCGUAACUGAUUUACACUCCAAAGCCUGGCAAAAGCUUACAACUAGCUUAACAUCGUUACGAU\n"
       ]
      },
      {
       "output_type": "stream",
       "stream": "stdout",
       "text": [
        "score: 1.6 chr4 1966534 1967218 CGCUGACAAACUGCUUAAACACGCCAUUGAUGAUUCAAAUAUAGUCUGGUUGGGUCUCUAGCCGCCGUCGUCAG\n"
       ]
      },
      {
       "output_type": "stream",
       "stream": "stdout",
       "text": [
        "score: 1.7 chrX 2096457 2096709 GACCUGCGGAAAUUCAAACGGAAUCAAAGUGAAAAGUUCGAUAAAAAAAUCAUCGACACACGCGACGGGAGUGU\n"
       ]
      },
      {
       "output_type": "stream",
       "stream": "stdout",
       "text": [
        "score: 1.6 chrX 3365945 3366719 UUGCUAAAAAGGAACUUGUUUAUUGUUCGAUCCUGGGUCAUAUUCGACCACUCACCUUGCCCGGCUCAGCACCA\n"
       ]
      },
      {
       "output_type": "stream",
       "stream": "stdout",
       "text": [
        "score: 1.6 chrX 5248116 5249664 CUGCAUAAGGGUUAAUUCGAAUUUUUCGAGACACGACAUUCGGUUAGGCGGCUCAUUCUCGCGCACUUCGCAGC\n"
       ]
      },
      {
       "output_type": "stream",
       "stream": "stdout",
       "text": [
        "score: 1.7 chrX 6482442 6482604 UAUAGACAAACAAACACAUUGUGUACGUAGCUUAGGAAAGCGCUAUUAUUAACUAUAUUAAAUAACGUCUGGGG\n"
       ]
      },
      {
       "output_type": "stream",
       "stream": "stdout",
       "text": [
        "score: 1.6 chrX 6604559 6604739 GUCGAGAAAAGUUUCUUUAAGAACGGCGAAUUUAAGCCGUAAAUGCAGCGAUAAGCCAAAUUAUAUUCGAAUCG\n"
       ]
      },
      {
       "output_type": "stream",
       "stream": "stdout",
       "text": [
        "score: 1.7 chrX 6716378 6716396 CACGAAAUUUAGCAAAUAUGCAUGCACAGUUUUCAAAUGUAUUUUGAAUGACACAUUCAAUCGAAAAUUUCUUC\n"
       ]
      },
      {
       "output_type": "stream",
       "stream": "stdout",
       "text": [
        "score: 1.7 chrX 6937176 6937266 AUGGGAAAUUUUUCGCUUUUGCACAGCAUCGAUCUAUUCAAAUAUAUAUAUAUAUUUGACCAAAUUUCAACAAA\n"
       ]
      },
      {
       "output_type": "stream",
       "stream": "stdout",
       "text": [
        "score: 2.0 chrX 7274632 7275496 GCGUGGUUCGAAAGGGAUUGAAAACUAAAUAGGGUGGAGAUGGAAACGAGGGGUCAGAGGCUCGGCAGUGGGGG\n"
       ]
      },
      {
       "output_type": "stream",
       "stream": "stdout",
       "text": [
        "score: 2.4 chrX 8952464 8952482 AGCGUAAUUAUGAUGAUUGUUCAAAUGAAUUUAUGUGUCAAUAAAUUUAAAGCAAAUUAGCAAAUGACGUUUUA\n"
       ]
      },
      {
       "output_type": "stream",
       "stream": "stdout",
       "text": [
        "score: 2.2 chrX 11013639 11013891 AAAAAAUCCAGCCACUUCAAAUGAAUUCUGAUAAUUCGGAUGAAAGCGAGCGCUUCCUUUAAACAAGUAGUGGU\n"
       ]
      },
      {
       "output_type": "stream",
       "stream": "stdout",
       "text": [
        "score: 1.7 chrX 12430559 12430559 CCAGGUGAGCCCGGCGGGAACAUAAUAAAAAUAUGAAAAUCAAGUGAAAUCAUUUCUAUUCAAAUUCAAAUGGC\n"
       ]
      },
      {
       "output_type": "stream",
       "stream": "stdout",
       "text": [
        "score: 1.6 chrX 12757568 12757568 GCCCGUCUCGAUUUCAAAUUCCUUUUGAAAUUGCUGUCCAUGUGUCGUCGUGUCACUGCAAUUGCUUUUUGGCC\n"
       ]
      },
      {
       "output_type": "stream",
       "stream": "stdout",
       "text": [
        "score: 2.2 chrX 15823072 15823900 GUUGUGGGGAAAAUCCGGCUAGUCAAAUAGCUUACGUAAUUACCGCGUGUCAUACGAAUCCACAAACAGAUAGC\n"
       ]
      },
      {
       "output_type": "stream",
       "stream": "stdout",
       "text": [
        "score: 1.6 chrX 19101286 19101754 UGUUCAGCACUUUCGAAUAUCUUUCGAAAAUCGAAAACCGGGCAAAGGCAGUAACUGCGUGACUGUGAACUGUG\n"
       ]
      },
      {
       "output_type": "stream",
       "stream": "stdout",
       "text": [
        "score: 1.7 chrX 19130201 19131785 AUUGAAGACUAAACAAAGAAUGGUUAAUUAUUAAAUGCCAUCGUUGUACAAUUGCUUUCAACUCACCUUCAAAU\n"
       ]
      },
      {
       "output_type": "stream",
       "stream": "stdout",
       "text": [
        "score: 1.7 chrX 20326502 20326718 CGGCAUUUUAUGAAUUAUUUCGUAGCUCAUUAACGAAAACACGUUUAAGUACUUAAAUAAUCAACGCCUUUUUU\n"
       ]
      },
      {
       "output_type": "stream",
       "stream": "stdout",
       "text": [
        "score: 1.6 chrX 21737440 21737962 UUAGCUUAGGCACUUGGCCAAAAAGCCUCUAAGAAAUUAACAAUUGCCACCUUUGUUGGCGAAAUUCAAGCAUU\n"
       ]
      },
      {
       "output_type": "stream",
       "stream": "stdout",
       "text": [
        "score: 1.6 chrX 21777401 21777707 CAUGUUCGAUGAUCAUGUAAAUGAAUUAAGUCAAUGUUUGACGUCAAGUGGUGUAGACAACAGAACAUUUAAUA\n"
       ]
      },
      {
       "output_type": "stream",
       "stream": "stdout",
       "text": [
        "score: 1.8 chrX 24970743 24971895 AAAUAAUAGAUAUAUAUAUGUUCAAAUGCAAGCCAGGUUUAGCAAACAGAAAAUCGAAAGAAUAUGUCUAUAAU\n"
       ]
      },
      {
       "output_type": "stream",
       "stream": "stdout",
       "text": [
        "score: 1.7 chrX 25534310 25534436 ACCGAAUAAAGGAAAUGGCAAACAAAUAGACAAUUUAUUUAGCUGAUUAUAUGCAGCAUUCAAAUCGGGAUUCA\n"
       ]
      },
      {
       "output_type": "stream",
       "stream": "stdout",
       "text": [
        "score: 1.7 chrX 25534310 25535498 AUGCUGCCAUUCCUCUAUGAGACCAAUCACAUAUUCCGAUACUACUUCAAAUUCCUGAUGUACUACGGCAUCGU\n"
       ]
      },
      {
       "output_type": "stream",
       "stream": "stdout",
       "text": [
        "score: 1.6 chrX 27651322 27651808 CUGCAGGCGUGAGUAGUUCGCUAUAGGCCAGGCGCCAAAAAUUGUCAUAUUAACCGGUCAUUCAAAUGCAGCCA\n"
       ]
      },
      {
       "output_type": "stream",
       "stream": "stdout",
       "text": [
        "score: 1.6 chrX 28697243 28697873 UUGUUUGGAUAAAUGGGUAUUUGCCAUGUUCGAUAAUCGAGUUCUUAACUGAAAUCAGUUUUUCUGUCUAAAUG\n"
       ]
      },
      {
       "output_type": "stream",
       "stream": "stdout",
       "text": [
        "score: 1.8 chrX 30144205 30144277 UCUGCGACUACUAUAUCUUAUAACUAGGAUUGGUGAGGGCUAUACUUCAAAUAAAUAUUUACAAAGCAGGUGGC\n"
       ]
      },
      {
       "output_type": "stream",
       "stream": "stdout",
       "text": [
        "score: 1.6 chrX 30382642 30382678 GGCCACCAACUCCCAGCAACCGUCUGCAUUUCAAAUUAUUUUUAAUUGUCAUUUCUGCGGCAACGCCGGCGAUG\n"
       ]
      },
      {
       "output_type": "stream",
       "stream": "stdout",
       "text": [
        "score: 1.6 chrX 31134010 31135360 AACGAGAAGGGGGUCAGAGUUCAAGCAAAGCCAUGCUCACGGUUCGAUGCCAUAAAAUGUUAUUAUGCACUCGA\n"
       ]
      },
      {
       "output_type": "stream",
       "stream": "stdout",
       "text": [
        "score: 1.6 chrX 31417052 31417268 GAAGGAAAAGUUAGCUUACCUGAUUAAUCAGACGGAAAUCGUGACUAACUAGCACCAUGCCGCCAUCGAAAUCG\n"
       ]
      },
      {
       "output_type": "stream",
       "stream": "stdout",
       "text": [
        "score: 1.6 chrX 31588725 31592289 GCCCGUCUCCACCGGACCAAAGUCCACGCUCGCGUUCGAUAACUAUCGAGUUAGGUGAAAAAUCUCGGAUCUCA\n"
       ]
      },
      {
       "output_type": "stream",
       "stream": "stdout",
       "text": [
        "score: 1.7 chrX 31806939 31807101 UGAAGAGAUUUAAAAAAAAAAACUCAAUCAAAUGUGAUUUCUGUGAAAACCCGUUUCGAAUAAAUCUUUUCUGA\n"
       ]
      },
      {
       "output_type": "stream",
       "stream": "stdout",
       "text": [
        "score: 1.6 chrX 32073900 32080704 UCUCACAAUCAAGUACAACAGCAAAUAGAUUACUUACAGGUUCGAUUGCAGAAGAGCAAACAGCUCAAGAGGAG\n"
       ]
      },
      {
       "output_type": "stream",
       "stream": "stdout",
       "text": [
        "score: 1.6 chrX 32073900 32096418 UCCCACAAUCAAGUACAACAGCAAAUAGAUUACUUACAGGUUCGAUUGCAGAAGAGCAAACAGCUCAAGAGGAA\n"
       ]
      },
      {
       "output_type": "stream",
       "stream": "stdout",
       "text": [
        "score: 1.6 chrX 32872661 32872949 GCCCAUAGAGGACAUUAUCGAAGAGGAGUUCGAUGAGGAUGCCGAUCCAGAUCCGGAGGAUGCCAUUGAGGAGG\n"
       ]
      },
      {
       "output_type": "stream",
       "stream": "stdout",
       "text": [
        "score: 1.7 chrX 33691920 33692676 GUCCGUAGCGCCUCUACACUCGUUUUUUUUAUUUACAUAGGUUUUCGAAUAUAUAUAUUCACCGCAUAGGGAUA\n"
       ]
      },
      {
       "output_type": "stream",
       "stream": "stdout",
       "text": [
        "score: 1.6 chrX 37024092 37024632 CUCCAAAGGCCACCGACGACAGACAGUCCCAACAAGAUUCCGUUCGAUUCCGGCAGCUCCCGCCUGUGACCACC\n"
       ]
      },
      {
       "output_type": "stream",
       "stream": "stdout",
       "text": [
        "score: 1.6 chrX 37225082 37225208 GUCGUAGUGGGUCUGCUUCUAGCACCGGUUCCACCUCCAAUCCAUGGUCACCCUCCUCACUCCUCCGUUCGAUG\n"
       ]
      },
      {
       "output_type": "stream",
       "stream": "stdout",
       "text": [
        "score: 1.6 chrX 37243707 37244859 CCAAAAAUCGCACAAUCGACGGCACUAUGGCCAAAUUCAAAUCGAAAUCGAAGUCCAAAUGCGCCAGCAAAGCG\n"
       ]
      },
      {
       "output_type": "stream",
       "stream": "stdout",
       "text": [
        "score: 1.6 chrX 38781351 38781387 GAACUUUCCGAUUCAGCAACACCGCUGUCAAGGCUAACGCCGCCGUGUGUCACGUGACUUAUUCAAAUUAGCAA\n"
       ]
      },
      {
       "output_type": "stream",
       "stream": "stdout",
       "text": [
        "score: 1.6 chrX 40778681 40778807 UUUGUCCAGUGUACUUAUUCAAAUAGCUCAUGCUCAUGGAAAAGUUUCCCAAGAGGCCGGAAAAGGGUCAGGAG\n"
       ]
      },
      {
       "output_type": "stream",
       "stream": "stdout",
       "text": [
        "score: 1.7 chrX 42263662 42264256 AAAAUAACACGAGAGCUGGUUCGAUUGGGAAUGUCGAUAAUUAUUGGGUAGUAUAUUGUCUACAACUGCAGCAG\n"
       ]
      },
      {
       "output_type": "stream",
       "stream": "stdout",
       "text": [
        "score: 1.7 chrX 42605028 42606666 UGGCUAAUUAAAAAGCAAAUUUAAUUACUCGAUUAAAGAGGUGAUAACUCAAAUAUUCAAAUAGCUUAUUGGCA\n"
       ]
      },
      {
       "output_type": "stream",
       "stream": "stdout",
       "text": [
        "score: 1.8 chrY 155456 157202 UUGAAAAGACUUUCCCGUUACAUUUUAGCCAUUUCGGCAAGCUCAGCGUCGUACACGUUUAGAAAGUUCAAAUU\n"
       ]
      },
      {
       "output_type": "stream",
       "stream": "stdout",
       "text": [
        "CPU times: user 46min 25s, sys: 21min 26s, total: 1h 7min 52s\n",
        "Wall time: 3h 8min 8s\n"
       ]
      }
     ],
     "prompt_number": 61
    },
    {
     "cell_type": "code",
     "collapsed": false,
     "input": [],
     "language": "python",
     "metadata": {},
     "outputs": []
    }
   ],
   "metadata": {}
  }
 ]
}