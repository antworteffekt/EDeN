{
 "metadata": {
  "name": "",
  "signature": "sha256:484bff0dc233dbdda10deac9befec8b795a9c2ec7532ca7b27749f7e1ce9d25c"
 },
 "nbformat": 3,
 "nbformat_minor": 0,
 "worksheets": [
  {
   "cells": [
    {
     "cell_type": "markdown",
     "metadata": {},
     "source": [
      "#RNA family characterization\n",
      "\n",
      "Application scenario: we want to characterize the sequence patterns and structure of a set of RNA seqeunces"
     ]
    },
    {
     "cell_type": "code",
     "collapsed": false,
     "input": [
      "%pylab inline\n",
      "import pylab as pl"
     ],
     "language": "python",
     "metadata": {},
     "outputs": [
      {
       "output_type": "stream",
       "stream": "stdout",
       "text": [
        "Populating the interactive namespace from numpy and matplotlib\n"
       ]
      }
     ],
     "prompt_number": 1
    },
    {
     "cell_type": "markdown",
     "metadata": {},
     "source": [
      "Data acquisition"
     ]
    },
    {
     "cell_type": "code",
     "collapsed": false,
     "input": [
      "#RFAM id of a family\n",
      "rf='RF00005'\n",
      "#we compose the correspondent URL to fetch data from RFAM database\n",
      "url_string='http://rfam.xfam.org/family/%s/alignment?acc=%s&format=fastau&download=0'%(rf,rf)"
     ],
     "language": "python",
     "metadata": {},
     "outputs": [],
     "prompt_number": 2
    },
    {
     "cell_type": "code",
     "collapsed": false,
     "input": [
      "#we create an iterator that converts from FASTA to the Minimum Free Energy graph \n",
      "from eden.converter.RNA import RNA_SHAPE\n",
      "graphs = RNA_SHAPE.RNA_SHAPE_to_eden(input = url_string, input_type = 'url', shape_type = 5, energy_range = 25, max_num = 3)\n",
      "\n",
      "from eden.modifier.graph import vertex_attributes\n",
      "graphs = vertex_attributes.colorize(graphs)\n",
      "\n",
      "\n",
      "nn = [g.number_of_nodes() for g in graphs] \n",
      "\n",
      "\n",
      "#for sanity check we iterate on a handful (num) of seqeunces and display the MFE graph\n",
      "num = 2\n",
      "from eden.util import display\n",
      "import itertools as it\n",
      "#for g in it.islice(graphs, num):\n",
      "    #display.draw_graph(g,size=12,node_border = False, node_size = 200, vertex_color = 'level', colormap='Spectral')"
     ],
     "language": "python",
     "metadata": {},
     "outputs": [],
     "prompt_number": 9
    },
    {
     "cell_type": "code",
     "collapsed": false,
     "input": [
      "print nn"
     ],
     "language": "python",
     "metadata": {},
     "outputs": [
      {
       "output_type": "stream",
       "stream": "stdout",
       "text": [
        "[216, 142, 222, 216, 246, 246, 258, 219, 222, 213, 222, 213, 219, 219, 216, 216, 216, 222, 243, 138, 210, 207, 132, 68, 142, 130, 136, 213, 222, 222, 219, 216, 219, 219, 222, 216, 216, 246, 219, 219, 219, 0, 142, 252, 246, 216, 219, 219, 216, 213, 246, 246, 140, 216, 68, 216, 219, 213, 69, 216, 249, 252, 222, 219, 219, 252, 222, 222, 222, 267, 222, 219, 219, 222, 216, 264, 216, 134, 216, 219, 219, 216, 219, 216, 222, 0, 219, 219, 69, 219, 219, 222, 140, 222, 136, 219, 134, 222, 213, 252, 219, 144, 219, 198, 216, 72, 222, 65, 138, 195, 132, 216, 216, 222, 219, 216, 132, 213, 142, 146, 207, 66, 144, 68, 142, 138, 132, 198, 243, 69, 213, 130, 243, 134, 216, 146, 252, 168, 216, 68, 138, 136, 138, 246, 219, 134, 207, 222, 219, 249, 222, 246, 213, 222, 219, 216, 216, 216, 216, 219, 219, 219, 252, 216, 222, 222, 258, 222, 219, 222, 222, 222, 210, 219, 216, 246, 219, 264, 219, 216, 146, 219, 219, 222, 222, 222, 219, 216, 219, 261, 261, 219, 222, 216, 222, 246, 138, 222, 222, 219, 219, 216, 216, 267, 216, 264, 219, 216, 246, 213, 204, 138, 222, 219, 219, 222, 216, 216, 261, 222, 146, 222, 219, 261, 219, 222, 222, 222, 219, 222, 219, 219, 219, 258, 216, 246, 219, 219, 219, 222, 255, 219, 219, 252, 219, 222, 216, 240, 222, 255, 144, 219, 213, 222, 142, 213, 222, 216, 255, 240, 222, 222, 216, 216, 264, 264, 219, 216, 222, 240, 222, 246, 219, 216, 264, 219, 222, 148, 216, 222, 216, 216, 264, 222, 222, 213, 243, 240, 146, 216, 219, 222, 222, 219, 261, 142, 240, 219, 222, 213, 216, 219, 222, 216, 252, 216, 222, 216, 222, 222, 255, 222, 216, 216, 216, 243, 146, 142, 213, 222, 222, 264, 237, 216, 222, 216, 216, 216, 222, 216, 219, 213, 207, 219, 222, 219, 264, 222, 219, 216, 216, 148, 264, 246, 216, 219, 222, 216, 219, 216, 219, 146, 216, 249, 246, 243, 219, 222, 216, 213, 219, 261, 138, 210, 146, 201, 222, 136, 207, 219, 216, 264, 207, 255, 255, 246, 219, 216, 219, 246, 246, 246, 204, 68, 216, 219, 246, 216, 219, 231, 222, 67, 267, 216, 222, 219, 219, 222, 216, 243, 243, 222, 219, 222, 213, 219, 261, 146, 216, 219, 222, 216, 219, 219, 219, 146, 222, 258, 222, 216, 267, 219, 219, 261, 222, 219, 225, 216, 222, 222, 222, 225, 249, 219, 219, 204, 201, 68, 201, 72, 140, 219, 142, 140, 144, 216, 207, 134, 144, 204, 132, 0, 213, 72, 216, 71, 146, 243, 213, 216, 246, 216, 213, 219, 216, 213, 146, 164, 216, 219, 246, 144, 142, 71, 213, 207, 210, 69, 0, 216, 144, 213, 67, 140, 144, 142, 140, 264, 219, 225, 67, 138, 210, 213, 132, 207, 67, 204, 67, 62, 132, 207, 207, 128, 130, 201, 126, 195, 138, 67, 0, 210, 146, 222, 144, 213, 207, 152, 138, 146, 132, 150, 204, 204, 142, 138, 210, 204, 216, 204, 67, 63, 140, 189, 216, 144, 146, 148, 219, 72, 249, 222, 198, 67, 219, 246, 0, 146, 216, 222, 210, 66, 128, 71, 0, 225, 207, 201, 67, 69, 207, 204, 67, 134, 142, 207, 240, 222, 148, 216, 219, 73, 148, 219, 146, 222, 219, 219, 249, 222, 146, 219, 213, 252, 255, 219, 222, 71, 222, 216, 216, 240, 69, 144, 140, 138, 261, 204, 136, 216, 222, 148, 142, 216, 71, 219, 243, 71, 146, 207, 219, 69, 142, 216, 210, 136, 146, 138, 213, 138, 219, 138, 210, 204, 219, 144, 138, 140, 219, 146, 146, 207, 69, 222, 68, 201, 144, 138, 204, 216, 216, 72, 138, 198, 243, 216, 213, 249, 213, 144, 140, 138, 210, 195, 134, 210, 198, 198, 138, 216, 207, 136, 201, 136, 213, 204, 136, 213, 134, 225, 69, 71, 148, 73, 148, 246, 216, 219, 0, 146, 146, 72, 213, 213, 146, 144, 72, 261, 72, 146, 213, 216, 144, 166, 73, 216, 216, 249, 219, 72, 150, 219, 213, 213, 136, 213, 144, 213, 140, 140, 216, 210, 213, 136, 213, 138, 138, 213, 140, 207, 213, 222, 222, 261, 249, 216, 216, 219, 219, 216, 73, 72, 74, 219, 246, 216, 71, 144, 144, 166, 255, 258, 144, 216, 146, 142, 74, 204, 67, 142, 216, 243, 142, 140, 210, 138, 225, 213, 138, 207, 207, 69, 66, 140, 207, 225, 140, 207, 204, 219, 207, 210, 213, 204, 69, 216, 219, 219, 222, 222, 270, 225, 69, 249, 219, 195, 219, 132, 207, 68, 69, 140, 216, 216, 246, 246, 219, 222, 225, 222, 225, 222, 219, 261, 216, 219, 219, 246, 243, 249, 216, 166, 219, 219, 252, 216, 136, 222, 219, 222, 219, 216, 264, 216, 255, 219, 219, 246, 222, 252, 216, 219, 246, 246, 216, 216, 219, 216, 219, 216, 273, 216, 225, 213, 216, 216, 219, 246, 216, 216, 219, 222, 213, 216, 219, 219, 219, 219, 222, 222, 219, 222, 222, 270, 219, 222, 219, 213, 219, 279, 261, 146, 219, 213, 219, 246, 222, 216, 222, 216, 219, 144, 225, 142, 222, 222, 216, 216, 219, 249, 213, 219, 216, 219, 219, 222, 228, 243, 222, 219, 249, 219, 255, 216, 243, 216, 216, 219, 219, 222, 222, 270, 255, 67, 249, 261, 0, 222, 222, 255, 219, 219, 195, 252, 132, 219, 136, 222, 216, 222, 198, 222, 246, 219, 219, 216, 216, 222, 67, 222, 219, 213, 65, 67, 216, 270, 219, 213, 219, 246, 216, 216, 216, 219]\n"
       ]
      }
     ],
     "prompt_number": 10
    },
    {
     "cell_type": "markdown",
     "metadata": {},
     "source": [
      "Vectorization setup"
     ]
    },
    {
     "cell_type": "code",
     "collapsed": false,
     "input": [
      "#we set the 'resolution' of the vectorization\n",
      "#the radius parameter is equivalent to the pixel resoultion in an image \n",
      "max_radius=1\n",
      "#the distance parameter is equivalent to the number of colors in an image\n",
      "max_distance=0\n",
      "#a vectorizer object can then be instanciated\n",
      "from eden import graph\n",
      "vec=graph.Vectorizer(r=max_radius,d=max_distance)"
     ],
     "language": "python",
     "metadata": {},
     "outputs": [],
     "prompt_number": 4
    },
    {
     "cell_type": "markdown",
     "metadata": {},
     "source": [
      "Vectorization"
     ]
    },
    {
     "cell_type": "code",
     "collapsed": false,
     "input": [
      "#%%time\n",
      "#we reset the iterator\n",
      "graphs = RNA_SHAPE.RNA_SHAPE_to_eden(input = url_string, input_type = 'url', shape_type = 5, energy_range = 15, max_num = 3)\n",
      "#we employ the vectorizer to transform the graph instances into sparse vectors\n",
      "#we collect all the vectors in a data matrix \n",
      "#depending on the number of instances and the desired resolution, the procedure can take from seconds to minutes for a few hundreds of sequences\n",
      "X1=vec.transform(graphs, n_jobs=1)\n",
      "print 'Instances: %d ; Features: %d with an avg of %d features per instance' % (X1.shape[0], X1.shape[1],  X1.getnnz()/X1.shape[0])"
     ],
     "language": "python",
     "metadata": {},
     "outputs": [
      {
       "ename": "AssertionError",
       "evalue": "ERROR: Empty graph",
       "output_type": "pyerr",
       "traceback": [
        "\u001b[0;31m---------------------------------------------------------------------------\u001b[0m\n\u001b[0;31mAssertionError\u001b[0m                            Traceback (most recent call last)",
        "\u001b[0;32m<ipython-input-5-e9bd7f999fa0>\u001b[0m in \u001b[0;36m<module>\u001b[0;34m()\u001b[0m\n\u001b[1;32m      5\u001b[0m \u001b[0;31m#we collect all the vectors in a data matrix\u001b[0m\u001b[0;34m\u001b[0m\u001b[0;34m\u001b[0m\u001b[0m\n\u001b[1;32m      6\u001b[0m \u001b[0;31m#depending on the number of instances and the desired resolution, the procedure can take from seconds to minutes for a few hundreds of sequences\u001b[0m\u001b[0;34m\u001b[0m\u001b[0;34m\u001b[0m\u001b[0m\n\u001b[0;32m----> 7\u001b[0;31m \u001b[0mX1\u001b[0m\u001b[0;34m=\u001b[0m\u001b[0mvec\u001b[0m\u001b[0;34m.\u001b[0m\u001b[0mtransform\u001b[0m\u001b[0;34m(\u001b[0m\u001b[0mgraphs\u001b[0m\u001b[0;34m,\u001b[0m \u001b[0mn_jobs\u001b[0m\u001b[0;34m=\u001b[0m\u001b[0;36m1\u001b[0m\u001b[0;34m)\u001b[0m\u001b[0;34m\u001b[0m\u001b[0m\n\u001b[0m\u001b[1;32m      8\u001b[0m \u001b[0;32mprint\u001b[0m \u001b[0;34m'Instances: %d ; Features: %d with an avg of %d features per instance'\u001b[0m \u001b[0;34m%\u001b[0m \u001b[0;34m(\u001b[0m\u001b[0mX1\u001b[0m\u001b[0;34m.\u001b[0m\u001b[0mshape\u001b[0m\u001b[0;34m[\u001b[0m\u001b[0;36m0\u001b[0m\u001b[0;34m]\u001b[0m\u001b[0;34m,\u001b[0m \u001b[0mX1\u001b[0m\u001b[0;34m.\u001b[0m\u001b[0mshape\u001b[0m\u001b[0;34m[\u001b[0m\u001b[0;36m1\u001b[0m\u001b[0;34m]\u001b[0m\u001b[0;34m,\u001b[0m  \u001b[0mX1\u001b[0m\u001b[0;34m.\u001b[0m\u001b[0mgetnnz\u001b[0m\u001b[0;34m(\u001b[0m\u001b[0;34m)\u001b[0m\u001b[0;34m/\u001b[0m\u001b[0mX1\u001b[0m\u001b[0;34m.\u001b[0m\u001b[0mshape\u001b[0m\u001b[0;34m[\u001b[0m\u001b[0;36m0\u001b[0m\u001b[0;34m]\u001b[0m\u001b[0;34m)\u001b[0m\u001b[0;34m\u001b[0m\u001b[0m\n",
        "\u001b[0;32m/Users/costa/Desktop/BTSync/Projects/EDeN/EDeN/eden/graph.pyc\u001b[0m in \u001b[0;36mtransform\u001b[0;34m(self, G_list, n_jobs)\u001b[0m\n\u001b[1;32m    248\u001b[0m         \"\"\"\n\u001b[1;32m    249\u001b[0m         \u001b[0;32mif\u001b[0m \u001b[0mn_jobs\u001b[0m \u001b[0;32mis\u001b[0m \u001b[0;36m1\u001b[0m\u001b[0;34m:\u001b[0m\u001b[0;34m\u001b[0m\u001b[0m\n\u001b[0;32m--> 250\u001b[0;31m             \u001b[0;32mreturn\u001b[0m \u001b[0mself\u001b[0m\u001b[0;34m.\u001b[0m\u001b[0m_transform_serial\u001b[0m\u001b[0;34m(\u001b[0m\u001b[0mG_list\u001b[0m\u001b[0;34m)\u001b[0m\u001b[0;34m\u001b[0m\u001b[0m\n\u001b[0m\u001b[1;32m    251\u001b[0m         \u001b[0;32melse\u001b[0m\u001b[0;34m:\u001b[0m\u001b[0;34m\u001b[0m\u001b[0m\n\u001b[1;32m    252\u001b[0m             \u001b[0;32mreturn\u001b[0m \u001b[0mself\u001b[0m\u001b[0;34m.\u001b[0m\u001b[0m_transform_parallel\u001b[0m\u001b[0;34m(\u001b[0m\u001b[0mG_list\u001b[0m\u001b[0;34m,\u001b[0m \u001b[0mn_jobs\u001b[0m\u001b[0;34m)\u001b[0m\u001b[0;34m\u001b[0m\u001b[0m\n",
        "\u001b[0;32m/Users/costa/Desktop/BTSync/Projects/EDeN/EDeN/eden/graph.pyc\u001b[0m in \u001b[0;36m_transform_serial\u001b[0;34m(self, G_list)\u001b[0m\n\u001b[1;32m    285\u001b[0m         \u001b[0mfeature_dict\u001b[0m\u001b[0;34m=\u001b[0m\u001b[0;34m{\u001b[0m\u001b[0;34m}\u001b[0m\u001b[0;34m\u001b[0m\u001b[0m\n\u001b[1;32m    286\u001b[0m         \u001b[0;32mfor\u001b[0m \u001b[0minstance_id\u001b[0m \u001b[0;34m,\u001b[0m \u001b[0mG\u001b[0m \u001b[0;32min\u001b[0m \u001b[0menumerate\u001b[0m\u001b[0;34m(\u001b[0m \u001b[0mG_list\u001b[0m \u001b[0;34m)\u001b[0m\u001b[0;34m:\u001b[0m\u001b[0;34m\u001b[0m\u001b[0m\n\u001b[0;32m--> 287\u001b[0;31m             \u001b[0mfeature_dict\u001b[0m\u001b[0;34m.\u001b[0m\u001b[0mupdate\u001b[0m\u001b[0;34m(\u001b[0m\u001b[0mself\u001b[0m\u001b[0;34m.\u001b[0m\u001b[0m_transform\u001b[0m\u001b[0;34m(\u001b[0m \u001b[0minstance_id\u001b[0m\u001b[0;34m,\u001b[0m \u001b[0mG\u001b[0m \u001b[0;34m)\u001b[0m\u001b[0;34m)\u001b[0m\u001b[0;34m\u001b[0m\u001b[0m\n\u001b[0m\u001b[1;32m    288\u001b[0m         \u001b[0;32mreturn\u001b[0m \u001b[0mself\u001b[0m\u001b[0;34m.\u001b[0m\u001b[0m_convert_dict_to_sparse_matrix\u001b[0m\u001b[0;34m(\u001b[0m \u001b[0mfeature_dict\u001b[0m \u001b[0;34m)\u001b[0m\u001b[0;34m\u001b[0m\u001b[0m\n\u001b[1;32m    289\u001b[0m \u001b[0;34m\u001b[0m\u001b[0m\n",
        "\u001b[0;32m/Users/costa/Desktop/BTSync/Projects/EDeN/EDeN/eden/graph.pyc\u001b[0m in \u001b[0;36m_transform\u001b[0;34m(self, instance_id, G_orig)\u001b[0m\n\u001b[1;32m    425\u001b[0m \u001b[0;34m\u001b[0m\u001b[0m\n\u001b[1;32m    426\u001b[0m     \u001b[0;32mdef\u001b[0m \u001b[0m_transform\u001b[0m\u001b[0;34m(\u001b[0m\u001b[0mself\u001b[0m\u001b[0;34m,\u001b[0m \u001b[0minstance_id\u001b[0m \u001b[0;34m,\u001b[0m \u001b[0mG_orig\u001b[0m\u001b[0;34m)\u001b[0m\u001b[0;34m:\u001b[0m\u001b[0;34m\u001b[0m\u001b[0m\n\u001b[0;32m--> 427\u001b[0;31m         \u001b[0mG\u001b[0m \u001b[0;34m=\u001b[0m \u001b[0mself\u001b[0m\u001b[0;34m.\u001b[0m\u001b[0m_graph_preprocessing\u001b[0m\u001b[0;34m(\u001b[0m\u001b[0mG_orig\u001b[0m\u001b[0;34m)\u001b[0m\u001b[0;34m\u001b[0m\u001b[0m\n\u001b[0m\u001b[1;32m    428\u001b[0m         \u001b[0;31m#collect all features for all vertices for each  label_index\u001b[0m\u001b[0;34m\u001b[0m\u001b[0;34m\u001b[0m\u001b[0m\n\u001b[1;32m    429\u001b[0m         \u001b[0mfeature_list\u001b[0m \u001b[0;34m=\u001b[0m \u001b[0mdefaultdict\u001b[0m\u001b[0;34m(\u001b[0m\u001b[0;32mlambda\u001b[0m \u001b[0;34m:\u001b[0m \u001b[0mdefaultdict\u001b[0m\u001b[0;34m(\u001b[0m\u001b[0mfloat\u001b[0m\u001b[0;34m)\u001b[0m\u001b[0;34m)\u001b[0m\u001b[0;34m\u001b[0m\u001b[0m\n",
        "\u001b[0;32m/Users/costa/Desktop/BTSync/Projects/EDeN/EDeN/eden/graph.pyc\u001b[0m in \u001b[0;36m_graph_preprocessing\u001b[0;34m(self, G_orig)\u001b[0m\n\u001b[1;32m    405\u001b[0m \u001b[0;34m\u001b[0m\u001b[0m\n\u001b[1;32m    406\u001b[0m     \u001b[0;32mdef\u001b[0m \u001b[0m_graph_preprocessing\u001b[0m\u001b[0;34m(\u001b[0m\u001b[0mself\u001b[0m\u001b[0;34m,\u001b[0m \u001b[0mG_orig\u001b[0m\u001b[0;34m)\u001b[0m\u001b[0;34m:\u001b[0m\u001b[0;34m\u001b[0m\u001b[0m\n\u001b[0;32m--> 407\u001b[0;31m         \u001b[0;32massert\u001b[0m\u001b[0;34m(\u001b[0m\u001b[0mG_orig\u001b[0m\u001b[0;34m.\u001b[0m\u001b[0mnumber_of_nodes\u001b[0m\u001b[0;34m(\u001b[0m\u001b[0;34m)\u001b[0m \u001b[0;34m>\u001b[0m \u001b[0;36m0\u001b[0m\u001b[0;34m)\u001b[0m\u001b[0;34m,\u001b[0m\u001b[0;34m'ERROR: Empty graph'\u001b[0m\u001b[0;34m\u001b[0m\u001b[0m\n\u001b[0m\u001b[1;32m    408\u001b[0m         \u001b[0mG\u001b[0m\u001b[0;34m=\u001b[0m\u001b[0mself\u001b[0m\u001b[0;34m.\u001b[0m\u001b[0m_edge_to_vertex_transform\u001b[0m\u001b[0;34m(\u001b[0m\u001b[0mG_orig\u001b[0m\u001b[0;34m)\u001b[0m\u001b[0;34m\u001b[0m\u001b[0m\n\u001b[1;32m    409\u001b[0m         \u001b[0mself\u001b[0m\u001b[0;34m.\u001b[0m\u001b[0m_weight_preprocessing\u001b[0m\u001b[0;34m(\u001b[0m\u001b[0mG\u001b[0m\u001b[0;34m)\u001b[0m\u001b[0;34m\u001b[0m\u001b[0m\n",
        "\u001b[0;31mAssertionError\u001b[0m: ERROR: Empty graph"
       ]
      }
     ],
     "prompt_number": 5
    },
    {
     "cell_type": "code",
     "collapsed": false,
     "input": [
      "%%time\n",
      "#we create negative examples by randomly shuffling the input sequences \n",
      "from eden.converter.RNA import FASTA_shuffle\n",
      "pre_g_it = FASTA_shuffle.FASTA_shuffle_to_FASTA(input = url_string, input_type = 'url')\n",
      "\n",
      "#we create an iterator that converts from FASTA to the Minimum Free Energy graph \n",
      "g_it = RNA_SHAPE.RNA_SHAPE_to_eden(input = pre_g_it, input_type = 'list' , options = options)\n",
      "\n",
      "X2=vec.transform(g_it, n_jobs=1)\n",
      "print 'Instances: %d ; Features: %d with an avg of %d features per instance' % (X1.shape[0], X1.shape[1],  X1.getnnz()/X1.shape[0])"
     ],
     "language": "python",
     "metadata": {},
     "outputs": []
    },
    {
     "cell_type": "code",
     "collapsed": false,
     "input": [
      "#...or we create the negative class from positive class data\n",
      "# X2 = X1 * -1"
     ],
     "language": "python",
     "metadata": {},
     "outputs": []
    },
    {
     "cell_type": "code",
     "collapsed": false,
     "input": [
      "#we concatenate the two data matrices into one matrix\n",
      "#and we create a target vector that identifies with +1 and -1 the instances from the first or the second RNA family\n",
      "\n",
      "from scipy.sparse import vstack\n",
      "import numpy as np\n",
      "\n",
      "#create target array\n",
      "yp = [1] * X1.shape[0]\n",
      "yn = [-1] * X2.shape[0]\n",
      "y = np.array(yp + yn)\n",
      "#update data matrix\n",
      "X = vstack( [X1,X2] , format = \"csr\")\n",
      "print 'Instances: %d ; Features: %d with an avg of %d features per instance' % (X.shape[0], X.shape[1],  X.getnnz()/X.shape[0])"
     ],
     "language": "python",
     "metadata": {},
     "outputs": []
    },
    {
     "cell_type": "markdown",
     "metadata": {},
     "source": [
      "Fit a predictor"
     ]
    },
    {
     "cell_type": "code",
     "collapsed": false,
     "input": [
      "%%time\n",
      "#induce a stochastic gradient descent SVM predictive model\n",
      "from sklearn.linear_model import SGDClassifier\n",
      "predictor = SGDClassifier()\n",
      "\n",
      "#assess the generalization capacity of the model via a 10-fold cross validation\n",
      "from sklearn import cross_validation\n",
      "scores = cross_validation.cross_val_score(predictor, X, y,cv=10, scoring='roc_auc')\n",
      "\n",
      "import numpy as np\n",
      "print('AUC ROC: %.4f +- %.4f' % (np.mean(scores),np.std(scores)))\n",
      "#AUC ROC values above 0.8 are indicative of a good generalization capacity "
     ],
     "language": "python",
     "metadata": {},
     "outputs": []
    },
    {
     "cell_type": "code",
     "collapsed": false,
     "input": [
      "%%time \n",
      "#fit the predictor on all data\n",
      "predictor.fit(X,y)"
     ],
     "language": "python",
     "metadata": {},
     "outputs": []
    },
    {
     "cell_type": "markdown",
     "metadata": {},
     "source": [
      "Setup the Annotator"
     ]
    },
    {
     "cell_type": "code",
     "collapsed": false,
     "input": [
      "#the Annotator takes in input a vectorizer and a predictor\n",
      "iann=graph.Annotator(estimator = predictor, vectorizer = vec)"
     ],
     "language": "python",
     "metadata": {},
     "outputs": []
    },
    {
     "cell_type": "code",
     "collapsed": false,
     "input": [
      "#reset the FASTA to graph converter to the first RNA family\n",
      "g_it = RNA_SHAPE.RNA_SHAPE_to_eden(input = url_string, input_type = 'url' , options = options)"
     ],
     "language": "python",
     "metadata": {},
     "outputs": []
    },
    {
     "cell_type": "code",
     "collapsed": false,
     "input": [
      "#annotate with colors the discriminative importance of different regions of the structural graphs\n",
      "start = 0\n",
      "stop = 3\n",
      "step = 1\n",
      "for g in it.islice(iann.transform(g_it),start,stop,step):\n",
      "    display.draw_graph(g, vertex_color='importance',size=15, node_size=200, node_border=False, colormap='YlOrRd', invert_colormap=False)"
     ],
     "language": "python",
     "metadata": {},
     "outputs": []
    },
    {
     "cell_type": "markdown",
     "metadata": {},
     "source": [
      "Display interactive graph"
     ]
    },
    {
     "cell_type": "code",
     "collapsed": false,
     "input": [
      "#RFAM id of a family\n",
      "rf='RF00005'\n",
      "#we compose the correspondent URL to fetch data from RFAM database\n",
      "url_string='http://rfam.xfam.org/family/%s/alignment?acc=%s&format=fastau&download=0'%(rf,rf)\n",
      "#options for the RNA_SHAPE converter\n",
      "options = {'shape_type':5,'energy_range_%':15, 'max_num':3}"
     ],
     "language": "python",
     "metadata": {},
     "outputs": []
    },
    {
     "cell_type": "code",
     "collapsed": false,
     "input": [
      "from eden.converter.RNA import RNA_SHAPE\n",
      "s_g_it = RNA_SHAPE.RNA_SHAPE_to_eden(input = url_string, input_type = 'url' , options = options)\n",
      "\n",
      "from eden.modifier.RNA import structure\n",
      "g_it = structure.add_stacking_base_pairs(s_g_it)\n",
      "\n",
      "g_it = s_g_it\n",
      "\n",
      "start = 0\n",
      "stop = 3\n",
      "step = 1\n",
      "import json\n",
      "from networkx.readwrite import json_graph\n",
      "import itertools as it\n",
      "for g in it.islice(g_it,start,stop,step):\n",
      "    data = json_graph.node_link_data(g)\n",
      "    with open('graph.json', 'w') as f:\n",
      "        json.dump(data, f, indent=4)"
     ],
     "language": "python",
     "metadata": {},
     "outputs": []
    },
    {
     "cell_type": "code",
     "collapsed": false,
     "input": [
      "%%html\n",
      "<div id=\"d3-example\" width=\"100%\" ></div>\n",
      "<style>\n",
      ".node {stroke: #000; stroke-width: 1.5px;}\n",
      ".link {stroke: #999; stroke-opacity: .5;}\n",
      "</style>"
     ],
     "language": "python",
     "metadata": {},
     "outputs": []
    },
    {
     "cell_type": "code",
     "collapsed": false,
     "input": [
      "%%javascript\n",
      "// We load the d3.js library from the Web.\n",
      "require.config({paths: {d3: \"http://d3js.org/d3.v3.min\"}});\n",
      "require([\"d3\"], function(d3) {\n",
      "    // The code in this block is executed when the \n",
      "    // d3.js library has been loaded.\n",
      "    \n",
      "    // First, we specify the size of the canvas containing\n",
      "    // the visualization (size of the <div> element).\n",
      "    var width = 900,\n",
      "        height = 500;\n",
      "\n",
      "    // We create a color scale.\n",
      "    var color = d3.scale.category10();\n",
      "\n",
      "    // We create a force-directed dynamic graph layout.\n",
      "    var force = d3.layout.force()\n",
      "        .charge(-30)\n",
      "        .linkDistance(4)\n",
      "        .size([width, height]);\n",
      "\n",
      "    // In the <div> element, we create a <svg> graphic\n",
      "    // that will contain our interactive visualization.\n",
      "    var svg = d3.select(\"#d3-example\").select(\"svg\")\n",
      "    if (svg.empty()) {\n",
      "        svg = d3.select(\"#d3-example\").append(\"svg\")\n",
      "                    .attr(\"width\", width)\n",
      "                    .attr(\"height\", height);\n",
      "    }\n",
      "        \n",
      "    // We load the JSON file.\n",
      "    d3.json(\"graph.json\", function(error, graph) {\n",
      "        // In this block, the file has been loaded\n",
      "        // and the 'graph' object contains our graph.\n",
      "        \n",
      "        // We load the nodes and links in the force-directed\n",
      "        // graph.\n",
      "        force.nodes(graph.nodes)\n",
      "            .links(graph.links)\n",
      "            .start();\n",
      "\n",
      "        // We create a <line> SVG element for each link\n",
      "        // in the graph.\n",
      "        var link = svg.selectAll(\".link\")\n",
      "            .data(graph.links)\n",
      "            .enter().append(\"line\")\n",
      "            .attr(\"class\", \"link\");\n",
      "\n",
      "        // We create a <circle> SVG element for each node\n",
      "        // in the graph, and we specify a few attributes.\n",
      "        var node = svg.selectAll(\".node\")\n",
      "            .data(graph.nodes)\n",
      "            .enter().append(\"circle\")\n",
      "            .attr(\"class\", \"node\")\n",
      "            .attr(\"r\", 4)  // radius\n",
      "            .style(\"fill\", function(d) {\n",
      "                // The node color depends on the club.\n",
      "                //c = Math.round(255*(d.weight*d.weight));\n",
      "                return color(d.label); \n",
      "                //return \"rgb(100,110,110)\"; \n",
      "            })\n",
      "            .call(force.drag);\n",
      "\n",
      "        // The name of each node is the node number.\n",
      "        node.append(\"title\")\n",
      "            .text(function(d) { return d.name; });\n",
      "\n",
      "        // We bind the positions of the SVG elements\n",
      "        // to the positions of the dynamic force-directed graph,\n",
      "        // at each time step.\n",
      "        force.on(\"tick\", function() {\n",
      "            link.attr(\"x1\", function(d) { return d.source.x; })\n",
      "                .attr(\"y1\", function(d) { return d.source.y; })\n",
      "                .attr(\"x2\", function(d) { return d.target.x; })\n",
      "                .attr(\"y2\", function(d) { return d.target.y; });\n",
      "\n",
      "            node.attr(\"cx\", function(d) { return d.x; })\n",
      "                .attr(\"cy\", function(d) { return d.y; });\n",
      "        });\n",
      "    });\n",
      "});"
     ],
     "language": "python",
     "metadata": {},
     "outputs": []
    },
    {
     "cell_type": "code",
     "collapsed": false,
     "input": [
      "#RFAM id of a family\n",
      "rf='RF00005'\n",
      "#we compose the correspondent URL to fetch data from RFAM database\n",
      "url_string='http://rfam.xfam.org/family/%s/alignment?acc=%s&format=fastau&download=0'%(rf,rf)\n",
      "\n",
      "#we create an iterator that converts from FASTA to the Minimum Free Energy graph \n",
      "from eden.converter.RNA import FASTA_split\n",
      "sp_g_it = FASTA_split.FASTA_split_to_FASTA(input = url_string, input_type = 'url', options = {'window':30, 'step':15})\n",
      "\n",
      "from eden.converter.RNA import RNA_SHAPE\n",
      "s_g_it = RNA_SHAPE.RNA_SHAPE_to_eden(sp_g_it, input_type = 'list', options = options)\n",
      "\n",
      "from eden.modifier.graph import vertex_attributes\n",
      "g_it = vertex_attributes.colorize(s_g_it)\n",
      "\n",
      "#for sanity check we iterate on a handful (num) of seqeunces and display the MFE graph\n",
      "num = 1\n",
      "from eden.util import display\n",
      "import itertools as it\n",
      "for g in it.islice(g_it,num):\n",
      "    display.draw_graph(g,size=15,node_border = False, node_size = 200, vertex_color = 'level', colormap='Spectral')"
     ],
     "language": "python",
     "metadata": {},
     "outputs": []
    },
    {
     "cell_type": "code",
     "collapsed": false,
     "input": [
      "%%time\n",
      "#the OnlinePredictor takes in input a vectorizer and a predictor\n",
      "op = graph.OnlinePredictor(estimator = predictor, vectorizer = vec)\n",
      "\n",
      "from eden.converter.RNA import FASTA_split\n",
      "header_sp_g_it = FASTA_split.FASTA_split_to_FASTA(input = url_string, input_type = 'url', options = {'window':30, 'step':15, 'header_only':True})\n",
      "sp_g_it = FASTA_split.FASTA_split_to_FASTA(input = url_string, input_type = 'url', options = {'window':30, 'step':15})\n",
      "g_it = RNA_SHAPE.RNA_SHAPE_to_eden(sp_g_it, input_type = 'list', options = options)\n",
      "\n",
      "predictions = [(header,prediction) for header, prediction in it.izip(header_sp_g_it, op.predict(g_it))]"
     ],
     "language": "python",
     "metadata": {},
     "outputs": []
    }
   ],
   "metadata": {}
  }
 ]
}