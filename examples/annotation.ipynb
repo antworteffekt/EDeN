{
 "metadata": {
  "name": "",
  "signature": "sha256:f61dc3e637caf015ca8f92d52d61aca9b821f45b51ac255ab53859a0d489c190"
 },
 "nbformat": 3,
 "nbformat_minor": 0,
 "worksheets": [
  {
   "cells": [
    {
     "cell_type": "code",
     "collapsed": false,
     "input": [
      "%pylab inline\n",
      "import pylab as pl"
     ],
     "language": "python",
     "metadata": {},
     "outputs": [
      {
       "output_type": "stream",
       "stream": "stdout",
       "text": [
        "Populating the interactive namespace from numpy and matplotlib\n"
       ]
      }
     ],
     "prompt_number": 1
    },
    {
     "cell_type": "code",
     "collapsed": false,
     "input": [
      "from eden import graph\n",
      "from eden.util import io\n",
      "from eden.converters import gspan, node_link_data\n",
      "\n",
      "from eden.util import display"
     ],
     "language": "python",
     "metadata": {},
     "outputs": [],
     "prompt_number": 2
    },
    {
     "cell_type": "markdown",
     "metadata": {},
     "source": [
      "Use the graph feature constructor to create a sparse matrix suitable for linear classifiers."
     ]
    },
    {
     "cell_type": "code",
     "collapsed": false,
     "input": [
      "max_radius=3\n",
      "max_distance=0\n",
      "input_data_url='http://www.bioinf.uni-freiburg.de/~costa/bursi.gspan'\n",
      "input_target_url='http://www.bioinf.uni-freiburg.de/~costa/bursi.target'"
     ],
     "language": "python",
     "metadata": {},
     "outputs": [],
     "prompt_number": 3
    },
    {
     "cell_type": "code",
     "collapsed": false,
     "input": [
      "%%time\n",
      "\n",
      "vec=graph.Vectorizer(r=max_radius,d=max_distance)\n",
      "g_it=gspan.gspan_to_eden(input_data_url)\n",
      "X=vec.transform(g_it)\n",
      "\n",
      "print 'Instances: %d Features: %d with an avg of %d features per instance' % (X.shape[0], X.shape[1],  X.getnnz()/X.shape[0])"
     ],
     "language": "python",
     "metadata": {},
     "outputs": [
      {
       "output_type": "stream",
       "stream": "stdout",
       "text": [
        "Instances: 4337 Features: 1048577 with an avg of 34 features per instance\n",
        "CPU times: user 19.3 s, sys: 70 ms, total: 19.4 s\n",
        "Wall time: 20.3 s\n"
       ]
      }
     ],
     "prompt_number": 4
    },
    {
     "cell_type": "markdown",
     "metadata": {},
     "source": [
      "Induce a SGD predictive model on a supervised classification task."
     ]
    },
    {
     "cell_type": "code",
     "collapsed": false,
     "input": [
      "%%time\n",
      "from sklearn.linear_model import SGDClassifier\n",
      "\n",
      "y=io.load_target(input_target_url)\n",
      "clf = SGDClassifier()\n",
      "clf.fit(X, y)"
     ],
     "language": "python",
     "metadata": {},
     "outputs": [
      {
       "output_type": "stream",
       "stream": "stdout",
       "text": [
        "CPU times: user 36 ms, sys: 6 ms, total: 42 ms\n",
        "Wall time: 76 ms\n"
       ]
      }
     ],
     "prompt_number": 5
    },
    {
     "cell_type": "code",
     "collapsed": false,
     "input": [
      "help(graph.ImportanceAnnotator)"
     ],
     "language": "python",
     "metadata": {},
     "outputs": [
      {
       "output_type": "stream",
       "stream": "stdout",
       "text": [
        "Help on class ImportanceAnnotator in module eden.graph:\n",
        "\n",
        "class ImportanceAnnotator(Vectorizer)\n",
        " |  Method resolution order:\n",
        " |      ImportanceAnnotator\n",
        " |      Vectorizer\n",
        " |      __builtin__.object\n",
        " |  \n",
        " |  Methods defined here:\n",
        " |  \n",
        " |  __init__(self, estimator=SGDClassifier(alpha=0.0001, class_weight=None, e...None, shuffle=False, verbose=0, warm_start=False), r=3, d=3, nbits=20, normalization=True, inner_normalization=True, additional_pure_neighborhood_features=False, weighted=False)\n",
        " |  \n",
        " |  transform(self, G_list)\n",
        " |      Given a list of networkx graphs, and a fitted estimator, it returns a list of networkx \n",
        " |      graphs where each vertex has an additional attribute with key 'importance'.\n",
        " |      The importance value of a vertex corresponds to the part of the score that is imputable \n",
        " |      to the vertex and its neighborhood of radius r+d. \n",
        " |      This is a generator.\n",
        " |  \n",
        " |  ----------------------------------------------------------------------\n",
        " |  Methods inherited from Vectorizer:\n",
        " |  \n",
        " |  fit(self, G_list, kernel_dict, hasher_dict, n_jobs=1)\n",
        " |      Constructs an approximate explicit mapping of a kernel function on the data \n",
        " |      stored in the nodes of the graphs.\n",
        " |      The 'kernel_dict' dictionary specifies the appropriate approximate kernel mapping \n",
        " |      strategy for different node 'classes'. The 'hasher_dict' specifies the locality sensitive \n",
        " |      hashing strategy to discretize the resulting approximate kernel mapping.\n",
        " |      \n",
        " |      Parameters\n",
        " |      ----------\n",
        " |      G_list : list of networkx graphs. \n",
        " |          The data.\n",
        " |      \n",
        " |      kernel_dict : list of approximate mappers. \n",
        " |          The key matches the 'class' of nodes. The assocaited value is \n",
        " |          a pair (kernel approximation callable, parameters).\n",
        " |      \n",
        " |      hasher_dict : list of localoty sensitive hashing (LSH) functions.\n",
        " |          The key matches the 'class' of nodes. The assocaited value is \n",
        " |          a pair (LSH callable, parameters).\n",
        " |      \n",
        " |      n_jobs : integer, optional\n",
        " |          Number of jobs to run in parallel (default 1).\n",
        " |          Use None to indicate the total number of CPUs available.\n",
        " |  \n",
        " |  fit_transform(self, G_list, kernel_dict, hasher_dict, n_jobs=1)\n",
        " |      Constructs an approximate explicit mapping of a kernel function on the data \n",
        " |      stored in the nodes of the graphs and then transforms a list of networkx graphs \n",
        " |      into a Numpy csr sparse matrix (Compressed Sparse Row matrix).\n",
        " |      \n",
        " |      The 'kernel_dict' dictionary specifies the appropriate approximate kernel mapping \n",
        " |      strategy for different node 'classes'. The 'hasher_dict' specifies the locality sensitive \n",
        " |      hashing strategy to discretize the resulting approximate kernel mapping.\n",
        " |      \n",
        " |      Parameters\n",
        " |      ----------\n",
        " |      G_list : list of networkx graphs. \n",
        " |          The data.\n",
        " |      \n",
        " |      kernel_dict : list of approximate mappers. \n",
        " |          The key matches the 'class' of nodes. The assocaited value is \n",
        " |          a pair (kernel approximation callable, parameters).\n",
        " |      \n",
        " |      hasher_dict : list of localoty sensitive hashing (LSH) functions.\n",
        " |          The key matches the 'class' of nodes. The assocaited value is \n",
        " |          a pair (LSH callable, parameters).\n",
        " |      \n",
        " |      n_jobs : integer, optional\n",
        " |          Number of jobs to run in parallel (default 1).\n",
        " |          Use None to indicate the total number of CPUs available.\n",
        " |  \n",
        " |  transform_iter(self, G_list)\n",
        " |      Transforms a list of networkx graphs into a Numpy csr sparse matrix \n",
        " |      (Compressed Sparse Row matrix) and returns one sparse row at a time.\n",
        " |      This is a generator.\n",
        " |  \n",
        " |  ----------------------------------------------------------------------\n",
        " |  Data descriptors inherited from Vectorizer:\n",
        " |  \n",
        " |  __dict__\n",
        " |      dictionary for instance variables (if defined)\n",
        " |  \n",
        " |  __weakref__\n",
        " |      list of weak references to the object (if defined)\n",
        "\n"
       ]
      }
     ],
     "prompt_number": 6
    },
    {
     "cell_type": "markdown",
     "metadata": {},
     "source": [
      "Initialize the annotator with the trained predictive model."
     ]
    },
    {
     "cell_type": "code",
     "collapsed": false,
     "input": [
      "iann=graph.ImportanceAnnotator(estimator=clf, r=max_radius,d=max_distance)"
     ],
     "language": "python",
     "metadata": {},
     "outputs": [],
     "prompt_number": 7
    },
    {
     "cell_type": "markdown",
     "metadata": {},
     "source": [
      "Generate a list of annotated graphs."
     ]
    },
    {
     "cell_type": "code",
     "collapsed": false,
     "input": [
      "%%time\n",
      "g_it=gspan.gspan_to_eden(input_data_url)\n",
      "iann_g_list=[g for g in  iann.transform(g_it)]"
     ],
     "language": "python",
     "metadata": {},
     "outputs": [
      {
       "output_type": "stream",
       "stream": "stdout",
       "text": [
        "CPU times: user 39.3 s, sys: 253 ms, total: 39.5 s\n",
        "Wall time: 42.7 s\n"
       ]
      }
     ],
     "prompt_number": 8
    },
    {
     "cell_type": "markdown",
     "metadata": {},
     "source": [
      "Display a specific instance using the node attribute 'importance' to color vertices. "
     ]
    },
    {
     "cell_type": "code",
     "collapsed": false,
     "input": [
      "instance_id=6\n",
      "display.draw_graph(iann_g_list[instance_id], vertex_color='importance', size=9, layout='graphviz')"
     ],
     "language": "python",
     "metadata": {},
     "outputs": [
      {
       "metadata": {},
       "output_type": "display_data",
       "png": "[encoded data removed]",
       "text": [
        "<matplotlib.figure.Figure at 0x4e3ec50>"
       ]
      }
     ],
     "prompt_number": 10
    }
   ],
   "metadata": {}
  }
 ]
}