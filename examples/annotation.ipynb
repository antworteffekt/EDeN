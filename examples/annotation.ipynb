{
 "metadata": {
  "name": "",
  "signature": "sha256:8b7c0df91023daebaf53dbfe9a8d9b913d6b392563aa693b2b926d60e383b958"
 },
 "nbformat": 3,
 "nbformat_minor": 0,
 "worksheets": [
  {
   "cells": [
    {
     "cell_type": "heading",
     "level": 1,
     "metadata": {},
     "source": [
      "Annotation"
     ]
    },
    {
     "cell_type": "markdown",
     "metadata": {},
     "source": [
      "Consider a binary classification problem. We will fit a predictor and use it to assign a weight score to each node in each graphicalized instance; this operation is termed \"annotation\". We will display one annotated graph as an example. We will see that building a predictor on the annotated instances can increase the predictive performance."
     ]
    },
    {
     "cell_type": "markdown",
     "metadata": {},
     "source": [
      "load a target file"
     ]
    },
    {
     "cell_type": "code",
     "collapsed": false,
     "input": [
      "input_target_url='http://www.bioinf.uni-freiburg.de/~costa/bursi.target'\n",
      "from eden.util import eden_io\n",
      "y=eden_io.load_target(input_target_url)"
     ],
     "language": "python",
     "metadata": {},
     "outputs": [],
     "prompt_number": 2
    },
    {
     "cell_type": "markdown",
     "metadata": {},
     "source": [
      "load data and convert it to graphs"
     ]
    },
    {
     "cell_type": "code",
     "collapsed": false,
     "input": [
      "#load data\n",
      "input_data_url='http://www.bioinf.uni-freiburg.de/~costa/bursi.gspan'\n",
      "from eden.graphicalizer.graph import gspan\n",
      "g_it=gspan.gspan_to_eden(input = input_data_url, input_type = 'url')"
     ],
     "language": "python",
     "metadata": {},
     "outputs": [],
     "prompt_number": 3
    },
    {
     "cell_type": "markdown",
     "metadata": {},
     "source": [
      "setup the vectorizer"
     ]
    },
    {
     "cell_type": "code",
     "collapsed": false,
     "input": [
      "#parameters setting\n",
      "max_radius=1\n",
      "min_radius=0\n",
      "max_distance=3\n",
      "\n",
      "from eden import graph\n",
      "vec=graph.Vectorizer(r=max_radius,d=max_distance, min_r=min_radius)"
     ],
     "language": "python",
     "metadata": {},
     "outputs": [],
     "prompt_number": 4
    },
    {
     "cell_type": "markdown",
     "metadata": {},
     "source": [
      "extract features and build data matrix"
     ]
    },
    {
     "cell_type": "code",
     "collapsed": false,
     "input": [
      "%%time\n",
      "X=vec.transform(g_it, n_jobs=-1)\n",
      "print 'Instances: %d Features: %d with an avg of %d features per instance' % (X.shape[0], X.shape[1],  X.getnnz()/X.shape[0])"
     ],
     "language": "python",
     "metadata": {},
     "outputs": [
      {
       "output_type": "stream",
       "stream": "stdout",
       "text": [
        "Instances: 4337 Features: 1048577 with an avg of 88 features per instance\n",
        "CPU times: user 12.2 s, sys: 2.61 s, total: 14.8 s\n",
        "Wall time: 13.4 s\n"
       ]
      }
     ],
     "prompt_number": 5
    },
    {
     "cell_type": "markdown",
     "metadata": {},
     "source": [
      "Induce a predictor"
     ]
    },
    {
     "cell_type": "code",
     "collapsed": false,
     "input": [
      "from sklearn.linear_model import SGDClassifier\n",
      "predictor = SGDClassifier()\n",
      "predictor.fit(X, y)"
     ],
     "language": "python",
     "metadata": {},
     "outputs": [
      {
       "metadata": {},
       "output_type": "pyout",
       "prompt_number": 6,
       "text": [
        "SGDClassifier(alpha=0.0001, class_weight=None, epsilon=0.1, eta0=0.0,\n",
        "       fit_intercept=True, l1_ratio=0.15, learning_rate='optimal',\n",
        "       loss='hinge', n_iter=5, n_jobs=1, penalty='l2', power_t=0.5,\n",
        "       random_state=None, shuffle=False, verbose=0, warm_start=False)"
       ]
      }
     ],
     "prompt_number": 6
    },
    {
     "cell_type": "markdown",
     "metadata": {},
     "source": [
      "setup the annotator"
     ]
    },
    {
     "cell_type": "code",
     "collapsed": false,
     "input": [
      "iann=graph.Annotator(estimator = predictor, vectorizer = vec, relabel_vertex_with_vector = False)"
     ],
     "language": "python",
     "metadata": {},
     "outputs": [],
     "prompt_number": 7
    },
    {
     "cell_type": "markdown",
     "metadata": {},
     "source": [
      "annotate instances and list all resulting graphs"
     ]
    },
    {
     "cell_type": "code",
     "collapsed": false,
     "input": [
      "%%time\n",
      "g_it=gspan.gspan_to_eden(input = input_data_url, input_type = 'url')\n",
      "iann_g_list=[g for g in  iann.transform(g_it)]"
     ],
     "language": "python",
     "metadata": {},
     "outputs": [
      {
       "output_type": "stream",
       "stream": "stdout",
       "text": [
        "CPU times: user 40.3 s, sys: 457 ms, total: 40.8 s\n",
        "Wall time: 41.4 s\n"
       ]
      }
     ],
     "prompt_number": 8
    },
    {
     "cell_type": "markdown",
     "metadata": {},
     "source": [
      "display one graph as an example. Color the vertices using the annotated 'weight' attribute."
     ]
    },
    {
     "cell_type": "code",
     "collapsed": false,
     "input": [
      "%pylab inline\n",
      "from eden.util import display\n",
      "\n",
      "instance_id=3\n",
      "display.draw_graph(iann_g_list[instance_id], vertex_color='weight',size=11, \n",
      "                   layout='graphviz', vertex_label='label')"
     ],
     "language": "python",
     "metadata": {},
     "outputs": [
      {
       "output_type": "stream",
       "stream": "stdout",
       "text": [
        "Populating the interactive namespace from numpy and matplotlib\n"
       ]
      },
      {
       "output_type": "stream",
       "stream": "stderr",
       "text": [
        "/Library/Python/2.7/site-packages/pygraphviz/agraph.py:1281: RuntimeWarning: Fontconfig warning: ignoring UTF-8: not a valid region tag\n",
        "\n",
        "  warnings.warn(\"\".join(errors),RuntimeWarning)\n"
       ]
      },
      {
       "metadata": {},
       "output_type": "display_data",
       "png": "[encoded data removed]",
       "text": [
        "<matplotlib.figure.Figure at 0x1101f9c90>"
       ]
      }
     ],
     "prompt_number": 9
    },
    {
     "cell_type": "markdown",
     "metadata": {},
     "source": [
      "Create a data matrix this time using the annotated graphs. Now graphs are weighted. "
     ]
    },
    {
     "cell_type": "code",
     "collapsed": false,
     "input": [
      "%%time\n",
      "X2=vec.transform(iann_g_list, n_jobs = 1)\n",
      "print 'Instances: %d Features: %d with an avg of %d features per instance' % (X2.shape[0], X2.shape[1],  X2.getnnz()/X2.shape[0])"
     ],
     "language": "python",
     "metadata": {},
     "outputs": [
      {
       "output_type": "stream",
       "stream": "stdout",
       "text": [
        "Instances: 4337 Features: 1048577 with an avg of 88 features per instance\n",
        "CPU times: user 44.5 s, sys: 373 ms, total: 44.9 s\n",
        "Wall time: 45.1 s\n"
       ]
      }
     ],
     "prompt_number": 10
    },
    {
     "cell_type": "markdown",
     "metadata": {},
     "source": [
      "evaluate the predictive performance on the weighted graphs.\n",
      "\n",
      "*Note: in this example there is information leakage, i.e. the procedure that determines the weights has observed the target value of all instances.*"
     ]
    },
    {
     "cell_type": "code",
     "collapsed": false,
     "input": [
      "predictor2 = SGDClassifier()\n",
      "\n",
      "from sklearn import cross_validation\n",
      "scores = cross_validation.cross_val_score(predictor2, X2, y,cv=10, \n",
      "                                          scoring='roc_auc')\n",
      "print('AUC ROC: %.4f +- %.4f' % (np.mean(scores),np.std(scores)))"
     ],
     "language": "python",
     "metadata": {},
     "outputs": [
      {
       "output_type": "stream",
       "stream": "stdout",
       "text": [
        "AUC ROC: 0.8937 +- 0.0131\n"
       ]
      }
     ],
     "prompt_number": 11
    },
    {
     "cell_type": "markdown",
     "metadata": {},
     "source": [
      "and compare it to the original predictive performance."
     ]
    },
    {
     "cell_type": "code",
     "collapsed": false,
     "input": [
      "scores = cross_validation.cross_val_score(predictor, X, y,cv=10, scoring='roc_auc')\n",
      "\n",
      "import numpy as np\n",
      "print('AUC ROC: %.4f +- %.4f' % (np.mean(scores),np.std(scores)))"
     ],
     "language": "python",
     "metadata": {},
     "outputs": [
      {
       "output_type": "stream",
       "stream": "stdout",
       "text": [
        "AUC ROC: 0.8782 +- 0.0137\n"
       ]
      }
     ],
     "prompt_number": 12
    }
   ],
   "metadata": {}
  }
 ]
}