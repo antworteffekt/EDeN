{
 "metadata": {
  "name": "",
  "signature": "sha256:d932686103e2c3ecadc52c551f684f75da0d171c78f61ee36bfec12d853e0a4c"
 },
 "nbformat": 3,
 "nbformat_minor": 0,
 "worksheets": [
  {
   "cells": [
    {
     "cell_type": "code",
     "collapsed": false,
     "input": [
      "%pylab inline\n",
      "import pylab as pl"
     ],
     "language": "python",
     "metadata": {},
     "outputs": [
      {
       "output_type": "stream",
       "stream": "stdout",
       "text": [
        "Populating the interactive namespace from numpy and matplotlib\n"
       ]
      },
      {
       "output_type": "stream",
       "stream": "stderr",
       "text": [
        "WARNING: pylab import has clobbered these variables: ['display', 'clf']\n",
        "`%matplotlib` prevents importing * from pylab and numpy\n"
       ]
      }
     ],
     "prompt_number": 16
    },
    {
     "cell_type": "code",
     "collapsed": false,
     "input": [
      "from sklearn import cross_validation"
     ],
     "language": "python",
     "metadata": {},
     "outputs": [],
     "prompt_number": 17
    },
    {
     "cell_type": "code",
     "collapsed": false,
     "input": [
      "from eden import graph\n",
      "from eden.util import eden_io\n",
      "from eden.converters import gspan, node_link_data\n",
      "\n",
      "from eden.util import display"
     ],
     "language": "python",
     "metadata": {},
     "outputs": [],
     "prompt_number": 18
    },
    {
     "cell_type": "markdown",
     "metadata": {},
     "source": [
      "Use the graph feature constructor to create a sparse matrix suitable for linear classifiers."
     ]
    },
    {
     "cell_type": "code",
     "collapsed": false,
     "input": [
      "max_radius = 1\n",
      "max_distance = 3\n",
      "input_data_url = 'http://www.bioinf.uni-freiburg.de/~costa/bursi.gspan'\n",
      "input_target_url = 'http://www.bioinf.uni-freiburg.de/~costa/bursi.target'"
     ],
     "language": "python",
     "metadata": {},
     "outputs": [],
     "prompt_number": 19
    },
    {
     "cell_type": "code",
     "collapsed": false,
     "input": [
      "%%time\n",
      "\n",
      "vec=graph.Vectorizer(r = max_radius,d = max_distance)\n",
      "g_it=gspan.gspan_to_eden(input_data_url)\n",
      "X=vec.transform(g_it, n_jobs = -1)\n",
      "\n",
      "print 'Instances: %d Features: %d with an avg of %d features per instance' % (X.shape[0], X.shape[1],  X.getnnz()/X.shape[0])"
     ],
     "language": "python",
     "metadata": {},
     "outputs": [
      {
       "output_type": "stream",
       "stream": "stdout",
       "text": [
        "Instances: 4337 Features: 1048577 with an avg of 88 features per instance\n",
        "CPU times: user 13.1 s, sys: 215 ms, total: 13.3 s\n",
        "Wall time: 28.1 s\n"
       ]
      }
     ],
     "prompt_number": 20
    },
    {
     "cell_type": "markdown",
     "metadata": {},
     "source": [
      "Induce a SGD predictive model on a supervised classification task."
     ]
    },
    {
     "cell_type": "code",
     "collapsed": false,
     "input": [
      "%%time\n",
      "from sklearn.linear_model import SGDClassifier\n",
      "\n",
      "y=eden_io.load_target(input_target_url)\n",
      "clf = SGDClassifier()\n",
      "clf.fit(X, y)"
     ],
     "language": "python",
     "metadata": {},
     "outputs": [
      {
       "output_type": "stream",
       "stream": "stdout",
       "text": [
        "CPU times: user 43 ms, sys: 1e+03 \u00b5s, total: 44 ms\n",
        "Wall time: 49.8 ms\n"
       ]
      }
     ],
     "prompt_number": 21
    },
    {
     "cell_type": "code",
     "collapsed": false,
     "input": [
      "help(graph.Annotator)"
     ],
     "language": "python",
     "metadata": {},
     "outputs": [
      {
       "output_type": "stream",
       "stream": "stdout",
       "text": [
        "Help on class Annotator in module eden.graph:\n",
        "\n",
        "class Annotator(Vectorizer)\n",
        " |  Method resolution order:\n",
        " |      Annotator\n",
        " |      Vectorizer\n",
        " |      __builtin__.object\n",
        " |  \n",
        " |  Methods defined here:\n",
        " |  \n",
        " |  __init__(self, estimator=SGDClassifier(alpha=0.0001, class_weight=None, e...None, shuffle=False, verbose=0, warm_start=False), vectorizer=<eden.graph.Vectorizer object>, reweight=1.0, annotate_vertex_with_vector=False)\n",
        " |      Parameters\n",
        " |      ----------\n",
        " |      estimator : scikit-learn style predictor \n",
        " |      \n",
        " |      vectorizer : EDeN graph vectorizer \n",
        " |      \n",
        " |      reweight : float\n",
        " |          Update the 'weight' information as a linear combination of the previuous weight and \n",
        " |          the absolute value of the margin predicted by the estimator. \n",
        " |          If reweight = 0 then do not update.\n",
        " |          If reweight = 1 then discard previous weight information and use only abs(margin)\n",
        " |          If reweight = 0.5 then update with the aritmetic mean of the previous weight information \n",
        " |          and the abs(margin)\n",
        " |      \n",
        " |      annotate_vertex_with_vector : bool\n",
        " |          If True add to each vertex the attribute 'vector' which contains the \n",
        " |          sparse vector encoding of all features that have that vertex as root\n",
        " |  \n",
        " |  transform(self, G_list)\n",
        " |      Given a list of networkx graphs, and a fitted estimator, it returns a list of networkx \n",
        " |      graphs where each vertex has an additional attribute with key 'importance'.\n",
        " |      The importance value of a vertex corresponds to the part of the score that is imputable \n",
        " |      to the vertex and its neighborhood of radius r+d. \n",
        " |      This is a generator.\n",
        " |  \n",
        " |  ----------------------------------------------------------------------\n",
        " |  Methods inherited from Vectorizer:\n",
        " |  \n",
        " |  fit(self, G_list, n_jobs=1)\n",
        " |      Constructs an approximate explicit mapping of a kernel function on the data \n",
        " |      stored in the nodes of the graphs.\n",
        " |      \n",
        " |      Parameters\n",
        " |      ----------\n",
        " |      G_list : list of networkx graphs. \n",
        " |          The data.\n",
        " |      \n",
        " |      n_jobs : integer, optional\n",
        " |          Number of jobs to run in parallel (default 1).\n",
        " |          Use -1 to indicate the total number of CPUs available.\n",
        " |  \n",
        " |  fit_transform(self, G_list, n_jobs=1)\n",
        " |      Parameters\n",
        " |      ----------\n",
        " |      G_list : list of networkx graphs. \n",
        " |          The data.\n",
        " |      \n",
        " |      n_jobs : integer, optional\n",
        " |          Number of jobs to run in parallel (default 1).\n",
        " |          Use -1 to indicate the total number of CPUs available.\n",
        " |  \n",
        " |  transform_iter(self, G_list)\n",
        " |      Transforms a list of networkx graphs into a Numpy csr sparse matrix \n",
        " |      (Compressed Sparse Row matrix) and returns one sparse row at a time.\n",
        " |      This is a generator.\n",
        " |  \n",
        " |  ----------------------------------------------------------------------\n",
        " |  Data descriptors inherited from Vectorizer:\n",
        " |  \n",
        " |  __dict__\n",
        " |      dictionary for instance variables (if defined)\n",
        " |  \n",
        " |  __weakref__\n",
        " |      list of weak references to the object (if defined)\n",
        " |  \n",
        " |  ----------------------------------------------------------------------\n",
        " |  Data and other attributes inherited from Vectorizer:\n",
        " |  \n",
        " |  __slotnames__ = []\n",
        "\n"
       ]
      }
     ],
     "prompt_number": 22
    },
    {
     "cell_type": "markdown",
     "metadata": {},
     "source": [
      "Initialize the annotator with the fitted predictive estimator."
     ]
    },
    {
     "cell_type": "code",
     "collapsed": false,
     "input": [
      "iann=graph.Annotator(estimator=clf, vectorizer = vec, reweight = 1, annotate_vertex_with_vector = True)"
     ],
     "language": "python",
     "metadata": {},
     "outputs": [],
     "prompt_number": 23
    },
    {
     "cell_type": "markdown",
     "metadata": {},
     "source": [
      "Generate a list of annotated graphs."
     ]
    },
    {
     "cell_type": "code",
     "collapsed": false,
     "input": [
      "%%time\n",
      "g_it=gspan.gspan_to_eden(input_data_url)\n",
      "iann_g_list=[g for g in  iann.transform(g_it)]"
     ],
     "language": "python",
     "metadata": {},
     "outputs": [
      {
       "output_type": "stream",
       "stream": "stdout",
       "text": [
        "CPU times: user 1min 10s, sys: 218 ms, total: 1min 11s\n",
        "Wall time: 1min 11s\n"
       ]
      }
     ],
     "prompt_number": 24
    },
    {
     "cell_type": "markdown",
     "metadata": {},
     "source": [
      "Display a specific instance using the node attribute 'importance' to color vertices. "
     ]
    },
    {
     "cell_type": "code",
     "collapsed": false,
     "input": [
      "help(display.draw_graph)"
     ],
     "language": "python",
     "metadata": {},
     "outputs": [
      {
       "output_type": "stream",
       "stream": "stdout",
       "text": [
        "Help on function draw_graph in module eden.util.display:\n",
        "\n",
        "draw_graph(graph, vertex_label='label', secondary_vertex_label='', edge_label='label', secondary_edge_label='', vertex_color='', size=10, layout='graphviz', prog='neato', node_size=600, node_border=True)\n",
        "\n"
       ]
      }
     ],
     "prompt_number": 25
    },
    {
     "cell_type": "code",
     "collapsed": false,
     "input": [
      "instance_id=6\n",
      "display.draw_graph(iann_g_list[instance_id], vertex_color='weight', size=9, layout='graphviz', prog = 'neato', vertex_label='label')"
     ],
     "language": "python",
     "metadata": {},
     "outputs": [
      {
       "metadata": {},
       "output_type": "display_data",
       "png": "[encoded data removed]",
       "text": [
        "<matplotlib.figure.Figure at 0x7f53b0668910>"
       ]
      }
     ],
     "prompt_number": 26
    },
    {
     "cell_type": "code",
     "collapsed": false,
     "input": [
      "scores = cross_validation.cross_val_score(clf, X, y,cv=10, scoring='roc_auc')\n",
      "print('AUC ROC: %.4f +- %.4f' % (np.mean(scores),np.std(scores)))"
     ],
     "language": "python",
     "metadata": {},
     "outputs": [
      {
       "output_type": "stream",
       "stream": "stdout",
       "text": [
        "AUC ROC: 0.8782 +- 0.0137\n"
       ]
      }
     ],
     "prompt_number": 27
    },
    {
     "cell_type": "code",
     "collapsed": false,
     "input": [
      "serialized_list = [ line for line in node_link_data.eden_to_node_link_data(iann_g_list)]"
     ],
     "language": "python",
     "metadata": {},
     "outputs": [],
     "prompt_number": 28
    },
    {
     "cell_type": "code",
     "collapsed": false,
     "input": [
      "%%time\n",
      "\n",
      "ng_it=node_link_data.node_link_data_to_eden(serialized_list)\n",
      "X2=vec.transform(ng_it)\n",
      "\n",
      "print 'Instances: %d Features: %d with an avg of %d features per instance' % (X.shape[0], X.shape[1],  X.getnnz()/X.shape[0])"
     ],
     "language": "python",
     "metadata": {},
     "outputs": [
      {
       "output_type": "stream",
       "stream": "stdout",
       "text": [
        "Instances: 4337 Features: 1048577 with an avg of 88 features per instance\n",
        "CPU times: user 58.9 s, sys: 44 ms, total: 59 s\n",
        "Wall time: 58.9 s\n"
       ]
      }
     ],
     "prompt_number": 29
    },
    {
     "cell_type": "code",
     "collapsed": false,
     "input": [
      "clf2 = SGDClassifier()\n",
      "scores = cross_validation.cross_val_score(clf2, X2, y,cv=10, scoring='roc_auc')\n",
      "print('AUC ROC: %.4f +- %.4f' % (np.mean(scores),np.std(scores)))"
     ],
     "language": "python",
     "metadata": {},
     "outputs": [
      {
       "output_type": "stream",
       "stream": "stdout",
       "text": [
        "AUC ROC: 0.8937 +- 0.0131\n"
       ]
      }
     ],
     "prompt_number": 30
    }
   ],
   "metadata": {}
  }
 ]
}