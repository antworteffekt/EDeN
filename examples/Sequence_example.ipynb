{
 "metadata": {
  "name": "",
  "signature": "sha256:8b5e5e9000c2ddf0f3f85a5cbe27527a4dc8949c1bf5daf446269c0d13437f0a"
 },
 "nbformat": 3,
 "nbformat_minor": 0,
 "worksheets": [
  {
   "cells": [
    {
     "cell_type": "markdown",
     "metadata": {},
     "source": [
      "#Example\n",
      "\n",
      "Consider sequences that are increasingly different. EDeN allows to turn them into vectors, whose similarity is decreasing."
     ]
    },
    {
     "cell_type": "code",
     "collapsed": false,
     "input": [
      "%pylab inline\n",
      "import pylab as plt"
     ],
     "language": "python",
     "metadata": {},
     "outputs": [
      {
       "output_type": "stream",
       "stream": "stdout",
       "text": [
        "Populating the interactive namespace from numpy and matplotlib\n"
       ]
      }
     ],
     "prompt_number": 1
    },
    {
     "cell_type": "markdown",
     "metadata": {},
     "source": [
      "Build an artificial dataset: starting from the string 'abcdefghijklmnopqrstuvwxyz', generate iteratively strings by swapping two characters at random. In this way instances are progressively more dissimilar"
     ]
    },
    {
     "cell_type": "code",
     "collapsed": false,
     "input": [
      "import random\n",
      "\n",
      "def make_data(size):\n",
      "    text = ''.join([str(unichr(97+i)) for i in range(26)])\n",
      "    seqs = []\n",
      "\n",
      "    def swap_two_characters(seq):\n",
      "        '''define a function that swaps two characters at random positions in a string '''\n",
      "        line = list(seq)\n",
      "        id_i = random.randint(0,len(line)-1)\n",
      "        id_j = random.randint(0,len(line)-1)\n",
      "        line[id_i], line[id_j] = line[id_j], line[id_i]\n",
      "        return ''.join(line)\n",
      "\n",
      "    for i in range(size):\n",
      "        text = swap_two_characters( text )\n",
      "        seqs.append( text )\n",
      "        print text\n",
      "        \n",
      "    return seqs"
     ],
     "language": "python",
     "metadata": {},
     "outputs": [],
     "prompt_number": 2
    },
    {
     "cell_type": "code",
     "collapsed": false,
     "input": [
      "seqs = make_data(50)"
     ],
     "language": "python",
     "metadata": {},
     "outputs": [
      {
       "output_type": "stream",
       "stream": "stdout",
       "text": [
        "abcdefghijklmnopqrstuvwxyz\n",
        "abcdefghijolmnkpqrstuvwxyz\n",
        "abcdefghijolmnkpqrstuywxvz\n",
        "abcdefghqjolmnkpirstuywxvz\n",
        "aocdefghqjblmnkpirstuywxvz\n",
        "aocdefghqjblmnwpirstuykxvz\n",
        "aomdefghqjblcnwpirstuykxvz\n",
        "tomdefghqjblcnwpirsauykxvz\n",
        "tomdefkhqjblcnwpirsauygxvz\n",
        "tomdefkhqablcnwpirsjuygxvz\n",
        "tomdefkhqablsnwpircjuygxvz\n",
        "tomdefkhqablsnwpicrjuygxvz\n",
        "tomfedkhqablsnwpicrjuygxvz\n",
        "xomfedkhqablsnwpicrjuygtvz\n",
        "xomfedkhqablsnwpictjuygrvz\n",
        "xomfelkhqabdsnwpictjuygrvz\n",
        "xomfelkhqatdsnwpicbjuygrvz\n",
        "xomfelkhqatdsnwpicyjubgrvz\n",
        "xomfeldhqatksnwpicyjubgrvz\n",
        "xomfeldhqatksnwpicyjrbguvz\n",
        "xomfeldhqatjsnwpicykrbguvz\n",
        "xomfeldhqatjsnwpikycrbguvz\n",
        "xofmeldhqatjsnwpikycrbguvz\n",
        "xofmeldhqapjsnwtikycrbguvz\n",
        "xofmeldhqapjsnwtikycvbgurz\n",
        "xosmeldhqapjfnwtikycvbgurz\n",
        "xosmeldhrapjfnwtikycvbguqz\n",
        "xosmeldhrapjfnwtikqcvbguyz\n",
        "xosmeldhrabjfnwtikqcvpguyz\n",
        "xosmeldhrabjfnwtvkqcipguyz\n",
        "xosmeldhrabjfnwyvkqcipgutz\n",
        "josmeldhrabxfnwyvkqcipgutz\n",
        "josmeldhrabxfnwykvqcipgutz\n",
        "wosmeldhrabxfnjykvqcipgutz\n",
        "wosmeldhribxfnjykvqcapgutz\n",
        "wosmeldhribxanjykvqcfpgutz\n",
        "wosmeldhribxancykvqjfpgutz\n",
        "wosmeldhribxanfykvqjcpgutz\n",
        "wosmeldhribxanfykvqjcpgztu\n",
        "wosmeydhribxanflkvqjcpgztu\n",
        "wosmeydhribxfnalkvqjcpgztu\n",
        "wosmeydvribxfnalkhqjcpgztu\n",
        "wosmeydvribxfnalkhqjcpgzut\n",
        "wgsmeydvribxfnalkhqjcpozut\n",
        "wgsmeydvribxfkalnhqjcpozut\n",
        "wgsmeydvtibxfkalnhqjcpozur\n",
        "wgsmeydvtipxfkalnhqjcbozur\n",
        "wgsleydvtipxfkamnhqjcbozur\n",
        "wgsleydvtipxbkamnhqjcfozur\n",
        "wgsleyqvtipxbkamnhdjcfozur\n"
       ]
      }
     ],
     "prompt_number": 3
    },
    {
     "cell_type": "markdown",
     "metadata": {},
     "source": [
      "define a function that builds a graph from a string, i.e. the path graph with the characters as node labels"
     ]
    },
    {
     "cell_type": "code",
     "collapsed": false,
     "input": [
      "import networkx as nx\n",
      "\n",
      "def sequence_to_graph(seq):\n",
      "    '''convert a sequence into a EDeN 'compatible' graph\n",
      "    i.e. a graph with the attribute 'label' for every node and edge'''\n",
      "    G = nx.Graph()\n",
      "    for id,character in enumerate(seq):\n",
      "        G.add_node(id, label = character )\n",
      "        if id > 0:\n",
      "            G.add_edge(id-1, id, label = '-')\n",
      "    return G"
     ],
     "language": "python",
     "metadata": {},
     "outputs": [],
     "prompt_number": 4
    },
    {
     "cell_type": "markdown",
     "metadata": {},
     "source": [
      "make a generator that yields graphs: generators are 'good' as they allow functional composition"
     ]
    },
    {
     "cell_type": "code",
     "collapsed": false,
     "input": [
      "def pre_process(iterable):\n",
      "    for seq in iterable:\n",
      "        yield sequence_to_graph(seq)"
     ],
     "language": "python",
     "metadata": {},
     "outputs": [],
     "prompt_number": 5
    },
    {
     "cell_type": "markdown",
     "metadata": {},
     "source": [
      "initialize the vectorizer object with the desired 'resolution'"
     ]
    },
    {
     "cell_type": "code",
     "collapsed": false,
     "input": [
      "%%time\n",
      "from eden.graph import Vectorizer\n",
      "vectorizer = Vectorizer( r=2, d=4 )"
     ],
     "language": "python",
     "metadata": {},
     "outputs": [
      {
       "output_type": "stream",
       "stream": "stdout",
       "text": [
        "CPU times: user 169 ms, sys: 107 ms, total: 276 ms\n",
        "Wall time: 316 ms\n"
       ]
      }
     ],
     "prompt_number": 6
    },
    {
     "cell_type": "markdown",
     "metadata": {},
     "source": [
      "obtain an iterator over the sequences processed into graphs"
     ]
    },
    {
     "cell_type": "code",
     "collapsed": false,
     "input": [
      "%%time\n",
      "graphs = pre_process( seqs )"
     ],
     "language": "python",
     "metadata": {},
     "outputs": [
      {
       "output_type": "stream",
       "stream": "stdout",
       "text": [
        "CPU times: user 3 \u00b5s, sys: 0 ns, total: 3 \u00b5s\n",
        "Wall time: 5.96 \u00b5s\n"
       ]
      }
     ],
     "prompt_number": 7
    },
    {
     "cell_type": "markdown",
     "metadata": {},
     "source": [
      "compute the vector encoding of each instance in a sparse data matrix"
     ]
    },
    {
     "cell_type": "code",
     "collapsed": false,
     "input": [
      "%%time\n",
      "X = vectorizer.transform( graphs )\n",
      "print 'Instances: %d ; Features: %d with an avg of %d features per instance' % (X.shape[0], X.shape[1],  X.getnnz()/X.shape[0])"
     ],
     "language": "python",
     "metadata": {},
     "outputs": [
      {
       "output_type": "stream",
       "stream": "stdout",
       "text": [
        "Instances: 50 ; Features: 1048577 with an avg of 359 features per instance\n",
        "CPU times: user 254 ms, sys: 63.2 ms, total: 317 ms\n",
        "Wall time: 492 ms\n"
       ]
      }
     ],
     "prompt_number": 8
    },
    {
     "cell_type": "markdown",
     "metadata": {},
     "source": [
      "compute the pairwise similarity as the dot product between the vector representations of each sequence"
     ]
    },
    {
     "cell_type": "code",
     "collapsed": false,
     "input": [
      "from sklearn import metrics\n",
      "\n",
      "K=metrics.pairwise.pairwise_kernels(X, metric='linear')\n",
      "print K"
     ],
     "language": "python",
     "metadata": {},
     "outputs": [
      {
       "output_type": "stream",
       "stream": "stdout",
       "text": [
        "[[ 1.          0.69623519  0.49301868 ...,  0.08625121  0.08068599\n",
        "   0.08068599]\n",
        " [ 0.69623519  1.          0.78782433 ...,  0.08045411  0.07488889\n",
        "   0.07488889]\n",
        " [ 0.49301868  0.78782433  1.         ...,  0.08335266  0.07778744\n",
        "   0.07778744]\n",
        " ..., \n",
        " [ 0.08625121  0.08045411  0.08335266 ...,  1.          0.63340211\n",
        "   0.37899787]\n",
        " [ 0.08068599  0.07488889  0.07778744 ...,  0.63340211  1.          0.62141265]\n",
        " [ 0.08068599  0.07488889  0.07778744 ...,  0.37899787  0.62141265  1.        ]]\n"
       ]
      }
     ],
     "prompt_number": 9
    },
    {
     "cell_type": "markdown",
     "metadata": {},
     "source": [
      "visualize it as a picture is worth thousand words..."
     ]
    },
    {
     "cell_type": "code",
     "collapsed": false,
     "input": [
      "plt.figure( figsize=(8,8) )\n",
      "img = plt.imshow( K, interpolation='nearest', cmap=plt.get_cmap( 'YlOrRd' ) )\n",
      "plt.show()"
     ],
     "language": "python",
     "metadata": {},
     "outputs": [
      {
       "metadata": {},
       "output_type": "display_data",
       "png": "[encoded data removed]",
       "text": [
        "<matplotlib.figure.Figure at 0x106973c90>"
       ]
      }
     ],
     "prompt_number": 10
    }
   ],
   "metadata": {}
  }
 ]
}