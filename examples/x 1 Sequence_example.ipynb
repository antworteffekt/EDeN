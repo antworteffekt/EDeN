{
 "metadata": {
  "name": "",
  "signature": "sha256:de2d2306687a279f5cec47fc1cd1fc95de506bca6902c607c5f20d6087f2a330"
 },
 "nbformat": 3,
 "nbformat_minor": 0,
 "worksheets": [
  {
   "cells": [
    {
     "cell_type": "markdown",
     "metadata": {},
     "source": [
      "#Example\n",
      "\n",
      "Consider sequences that are increasingly different. EDeN allows to turn them into vectors, whose similarity is decreasing."
     ]
    },
    {
     "cell_type": "code",
     "collapsed": false,
     "input": [
      "%pylab inline\n",
      "import pylab as plt"
     ],
     "language": "python",
     "metadata": {},
     "outputs": [
      {
       "output_type": "stream",
       "stream": "stdout",
       "text": [
        "Populating the interactive namespace from numpy and matplotlib\n"
       ]
      }
     ],
     "prompt_number": 1
    },
    {
     "cell_type": "markdown",
     "metadata": {},
     "source": [
      "define a function that swaps two characters at random positions in a string "
     ]
    },
    {
     "cell_type": "code",
     "collapsed": false,
     "input": [
      "import random\n",
      "\n",
      "def one_swap(seq):\n",
      "    line = list(seq)\n",
      "    id_i = random.randint(0,len(line)-1)\n",
      "    id_j = random.randint(0,len(line)-1)\n",
      "    tmp = line[id_i]\n",
      "    line[id_i] = line[id_j]\n",
      "    line[id_j] = tmp\n",
      "    return ''.join(line)"
     ],
     "language": "python",
     "metadata": {},
     "outputs": [],
     "prompt_number": 2
    },
    {
     "cell_type": "markdown",
     "metadata": {},
     "source": [
      "Build an artificial dataset: starting from the string 'abcdefghijklmnopqrstuvwxyz', generate iteratively strings by swapping two characters at random. In this way instances are progressively more dissimilar"
     ]
    },
    {
     "cell_type": "code",
     "collapsed": false,
     "input": [
      "%%time\n",
      "\n",
      "sequences_size=100\n",
      "sequences=[]\n",
      "\n",
      "line=''.join([str(unichr(97+i)) for i in range(26)])\n",
      "\n",
      "for i in range(sequences_size):\n",
      "    new_line=one_swap(line)\n",
      "    sequences+=[new_line]\n",
      "    line=new_line\n",
      "    print line"
     ],
     "language": "python",
     "metadata": {},
     "outputs": [
      {
       "output_type": "stream",
       "stream": "stdout",
       "text": [
        "abcdefghpjklmnoiqrstuvwxyz\n",
        "abcdefghpjklmnsiqrotuvwxyz\n",
        "absdefghpjklmnciqrotuvwxyz\n",
        "absdefghpjilmnckqrotuvwxyz\n",
        "absdefghpjilmncktroquvwxyz\n",
        "dbsaefghpjilmncktroquvwxyz\n",
        "dbsaefgjphilmncktroquvwxyz\n",
        "dbsaefgjphulmncktroqivwxyz\n",
        "dbsaefgjphtlmnckuroqivwxyz\n",
        "dbsaefkjphtlmncguroqivwxyz\n",
        "dmsaefkjphtlbncguroqivwxyz\n",
        "dmsaefkjpthlbncguroqivwxyz\n",
        "dmsaefktpjhlbncguroqivwxyz\n",
        "dmsaezktpjhlbncguroqivwxyf\n",
        "dmsaezktnjhlbpcguroqivwxyf\n",
        "dmjaezktnshlbpcguroqivwxyf\n",
        "dcjaezktnshlbpmguroqivwxyf\n",
        "dcjaezktnshlbpmguxoqivwryf\n",
        "dcjaezkrnshlbpmguxoqivwtyf\n",
        "dcjaetkrnshlbpmguxoqivwzyf\n",
        "dcjaetkrnshlvpmguxoqibwzyf\n",
        "dcjaetkrnshlvpmguxoqibwzyf\n",
        "dcuaetkrnshlvpmgjxoqibwzyf\n",
        "dceautkrnshlvpmgjxoqibwzyf\n",
        "dceautkrnshpvlmgjxoqibwzyf\n",
        "dceautkrnshpvlmgjxoqibwzyf\n",
        "dceautkrnshyvlmgjxoqibwzpf\n",
        "dcbautkrnshyvlmgjxoqiewzpf\n",
        "dcbartkunshyvlmgjxoqiewzpf\n",
        "dcbmrtkunshyvlagjxoqiewzpf\n",
        "dcbmrtkunlhyvsagjxoqiewzpf\n",
        "dxbmrtkunlhyvsagjcoqiewzpf\n",
        "dlbmrtkunxhyvsagjcoqiewzpf\n",
        "dlbvrtkunxhymsagjcoqiewzpf\n",
        "dlbvrtkunxhymsagjcoqiewpzf\n",
        "dlbvrtkunxhymsaojcgqiewpzf\n",
        "dlbvrtknuxhymsaojcgqiewpzf\n",
        "dlbvrtknuxhymsaojcgqiewpfz\n",
        "dlbvrtknuxhymsapjcgqiewofz\n",
        "dlbvryknuxhtmsapjcgqiewofz\n",
        "dkbvrylnuxhtmsapjcgqiewofz\n",
        "dkbvrylnuxhtmsapjcgqiewofz\n",
        "dkbvryltuxhnmsapjcgqiewofz\n",
        "gkbvryltuxhnmsapjcdqiewofz\n",
        "gkbvryltuxhnmsapjcdqiewofz\n",
        "fkbvryltuxhnmsapjcdqiewogz\n",
        "zkbvryltuxhnmsapjcdqiewogf\n",
        "zkbmryltuxhnvsapjcdqiewogf\n",
        "zkbmryltuxhnvsapjcdqiewogf\n",
        "zkbmryltaxhnvsupjcdqiewogf\n",
        "bkzmryltaxhnvsupjcdqiewogf\n",
        "bkzmnyltaxhrvsupjcdqiewogf\n",
        "bkzmnyltaxhrvsupjcdqiewogf\n",
        "bkqmnyltaxhrvsupjcdziewogf\n",
        "bkqmuyltaxhrvsnpjcdziewogf\n",
        "bkqmuyltaxnrvshpjcdziewogf\n",
        "bkqmuyltaxnrvszpjcdhiewogf\n",
        "bkqduyltaxnrvszpjcmhiewogf\n",
        "bkqduyltaxnrvszhjcmpiewogf\n",
        "bkqsuyltaxnrvdzhjcmpiewogf\n",
        "bksquyltaxnrvdzhjcmpiewogf\n",
        "bksquyltaxnrvdzejcmpihwogf\n",
        "bksquyltaxnrwdzejcmpihvogf\n",
        "bksqjyltaxnrwdzeucmpihvogf\n",
        "bkgqjyltaxnrwdzeucmpihvosf\n",
        "tkgqjylbaxnrwdzeucmpihvosf\n",
        "tkgqjylbaxnrwdzeucmpihvosf\n",
        "tkgqjylbaxnrwdzescmpihvouf\n",
        "tkgqjylbaxnwrdzescmpihvouf\n",
        "tkgqjylbaxnwdrzescmpihvouf\n",
        "tkgqjylbaxnwdrzesvmpihcouf\n",
        "tkgqjylbaxfwdrzesvmpihcoun\n",
        "tkgqjylnaxfwdrzesvmpihcoub\n",
        "tkgqjylnaxfwdrzevsmpihcoub\n",
        "tkgqjylnaxfwdrzevsmpihcoub\n",
        "tkgqjylnaxfwprzevsmdihcoub\n",
        "tkgqjylnaxfwprzevhmdiscoub\n",
        "tngqjylkaxfwprzevhmdiscoub\n",
        "tngqjvlkaxfwprzeyhmdiscoub\n",
        "tngljvqkaxfwprzeyhmdiscoub\n",
        "tngljzqkaxfwprveyhmdiscoub\n",
        "tngljzqkacfwprveyhmdisxoub\n",
        "zngljtqkacfwprveyhmdisxoub\n",
        "zngljtqkacfwprvhyemdisxoub\n",
        "zngljtqakcfwprvhyemdisxoub\n",
        "zbgljtqakcfwprvhyemdisxoun\n",
        "zbgljtqakcrwpfvhyemdisxoun\n",
        "zbgljtqakchwpfvryemdisxoun\n",
        "zegljtqakchwpfvrybmdisxoun\n",
        "zegljtqakchwpfvrybmdixsoun\n",
        "zegljtqakchwpfvrybmdiusoxn\n",
        "zegljtqakchopfvrybmdiuswxn\n",
        "zegljvqakchopftrybmdiuswxn\n",
        "zegljvhakcqopftrybmdiuswxn\n",
        "zegljvhascqopftrybmdiukwxn\n",
        "zegljvhascqopftrybmdiukwxn\n",
        "zegljvhascqopftrybmdiukwnx\n",
        "zegwjvhascqopftrybmdiuklnx\n",
        "zegwjvhascqfpotrybmdiuklnx\n",
        "zegqjvhascwfpotrybmdiuklnx\n",
        "CPU times: user 2.61 ms, sys: 713 \u00b5s, total: 3.32 ms\n",
        "Wall time: 2.84 ms\n"
       ]
      }
     ],
     "prompt_number": 3
    },
    {
     "cell_type": "markdown",
     "metadata": {},
     "source": [
      "define a function that builds a graph from a string, i.e. the path graph with the characters as node labels"
     ]
    },
    {
     "cell_type": "code",
     "collapsed": false,
     "input": [
      "import networkx as nx\n",
      "\n",
      "def sequence_to_graph(seq):\n",
      "    '''convert a sequence into a EDeN 'compatible' graph\n",
      "    i.e. a graph with the attribute 'label' for every node and edge'''\n",
      "    G = nx.Graph()\n",
      "    for id,character in enumerate(seq):\n",
      "        G.add_node(id, label = character )\n",
      "        if id > 0:\n",
      "            G.add_edge(id-1, id, label = '-')\n",
      "    return G"
     ],
     "language": "python",
     "metadata": {},
     "outputs": [],
     "prompt_number": 4
    },
    {
     "cell_type": "markdown",
     "metadata": {},
     "source": [
      "make a generator that yields graphs: generators are 'good' as they allow functional composition"
     ]
    },
    {
     "cell_type": "code",
     "collapsed": false,
     "input": [
      "def pre_process(iterable):\n",
      "    for seq in iterable:\n",
      "        yield sequence_to_graph(seq)"
     ],
     "language": "python",
     "metadata": {},
     "outputs": [],
     "prompt_number": 4
    },
    {
     "cell_type": "markdown",
     "metadata": {},
     "source": [
      "initialize the vectorizer object with the desired 'resolution'"
     ]
    },
    {
     "cell_type": "code",
     "collapsed": false,
     "input": [
      "%%time\n",
      "from eden.graph import Vectorizer\n",
      "vectorizer = Vectorizer(r = 2, d = 2)"
     ],
     "language": "python",
     "metadata": {},
     "outputs": [
      {
       "output_type": "stream",
       "stream": "stdout",
       "text": [
        "CPU times: user 154 ms, sys: 54.4 ms, total: 209 ms\n",
        "Wall time: 191 ms\n"
       ]
      }
     ],
     "prompt_number": 5
    },
    {
     "cell_type": "markdown",
     "metadata": {},
     "source": [
      "obtain an iterator over the sequences processed into graphs"
     ]
    },
    {
     "cell_type": "code",
     "collapsed": false,
     "input": [
      "%%time\n",
      "graphs = pre_process(sequences)"
     ],
     "language": "python",
     "metadata": {},
     "outputs": [
      {
       "output_type": "stream",
       "stream": "stdout",
       "text": [
        "CPU times: user 3 \u00b5s, sys: 1 \u00b5s, total: 4 \u00b5s\n",
        "Wall time: 5.01 \u00b5s\n"
       ]
      }
     ],
     "prompt_number": 6
    },
    {
     "cell_type": "markdown",
     "metadata": {},
     "source": [
      "compute the vector encoding of each instance in a sparse data matrix"
     ]
    },
    {
     "cell_type": "code",
     "collapsed": false,
     "input": [
      "%%time\n",
      "X = vectorizer.transform(graphs, n_jobs=1)\n",
      "print 'Instances: %d ; Features: %d with an avg of %d features per instance' % (X.shape[0], X.shape[1],  X.getnnz()/X.shape[0])"
     ],
     "language": "python",
     "metadata": {},
     "outputs": [
      {
       "output_type": "stream",
       "stream": "stdout",
       "text": [
        "Instances: 100 ; Features: 1048577 with an avg of 224 features per instance\n",
        "CPU times: user 772 ms, sys: 51.8 ms, total: 824 ms\n",
        "Wall time: 791 ms\n"
       ]
      }
     ],
     "prompt_number": 7
    },
    {
     "cell_type": "markdown",
     "metadata": {},
     "source": [
      "compute the pairwise similarity as the dot product between the vector representations of each sequence"
     ]
    },
    {
     "cell_type": "code",
     "collapsed": false,
     "input": [
      "from sklearn import metrics\n",
      "\n",
      "K=metrics.pairwise.pairwise_kernels(X, metric='linear')\n",
      "print K"
     ],
     "language": "python",
     "metadata": {},
     "outputs": [
      {
       "output_type": "stream",
       "stream": "stdout",
       "text": [
        "[[ 1.          0.74054131  0.59763533 ...,  0.13407407  0.13407407\n",
        "   0.12944444]\n",
        " [ 0.74054131  1.          0.71366097 ...,  0.13407407  0.13851852\n",
        "   0.13388889]\n",
        " [ 0.59763533  0.71366097  1.         ...,  0.12481481  0.12925926\n",
        "   0.12925926]\n",
        " ..., \n",
        " [ 0.13407407  0.13407407  0.12481481 ...,  1.          0.80282051\n",
        "   0.6104416 ]\n",
        " [ 0.13407407  0.13851852  0.12925926 ...,  0.80282051  1.          0.69995726]\n",
        " [ 0.12944444  0.13388889  0.12925926 ...,  0.6104416   0.69995726  1.        ]]\n"
       ]
      }
     ],
     "prompt_number": 8
    },
    {
     "cell_type": "markdown",
     "metadata": {},
     "source": [
      "visualize it as a picture is worth thousand words..."
     ]
    },
    {
     "cell_type": "code",
     "collapsed": false,
     "input": [
      "plt.figure(figsize=(10,10))\n",
      "img = plt.imshow(K,interpolation='nearest',cmap = plt.get_cmap( 'YlOrRd' ))\n",
      "plt.show()"
     ],
     "language": "python",
     "metadata": {},
     "outputs": [
      {
       "metadata": {},
       "output_type": "display_data",
       "png": "[encoded data removed]",
       "text": [
        "<matplotlib.figure.Figure at 0x11500c890>"
       ]
      }
     ],
     "prompt_number": 9
    }
   ],
   "metadata": {}
  }
 ]
}