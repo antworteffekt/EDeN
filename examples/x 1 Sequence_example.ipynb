{
 "metadata": {
  "name": "",
  "signature": "sha256:9c7f992c70160e7114ac55baf36b4d7039a51c5ec7f892f4c166d8c2a3af1b32"
 },
 "nbformat": 3,
 "nbformat_minor": 0,
 "worksheets": [
  {
   "cells": [
    {
     "cell_type": "markdown",
     "metadata": {},
     "source": [
      "#Example\n",
      "\n",
      "Consider sequences that are increasingly different. EDeN allows to turn them into vectors, whose similarity is decreasing."
     ]
    },
    {
     "cell_type": "code",
     "collapsed": false,
     "input": [
      "%pylab inline\n",
      "import pylab as plt"
     ],
     "language": "python",
     "metadata": {},
     "outputs": [
      {
       "output_type": "stream",
       "stream": "stdout",
       "text": [
        "Populating the interactive namespace from numpy and matplotlib\n"
       ]
      }
     ],
     "prompt_number": 1
    },
    {
     "cell_type": "markdown",
     "metadata": {},
     "source": [
      "Build an artificial dataset: starting from the string 'abcdefghijklmnopqrstuvwxyz', generate iteratively strings by swapping two characters at random. In this way instances are progressively more dissimilar"
     ]
    },
    {
     "cell_type": "code",
     "collapsed": false,
     "input": [
      "import random\n",
      "\n",
      "def make_data(size):\n",
      "    text = ''.join([str(unichr(97+i)) for i in range(26)])\n",
      "    seqs = []\n",
      "\n",
      "    def swap_two_characters(seq):\n",
      "        '''define a function that swaps two characters at random positions in a string '''\n",
      "        line = list(seq)\n",
      "        id_i = random.randint(0,len(line)-1)\n",
      "        id_j = random.randint(0,len(line)-1)\n",
      "        line[id_i], line[id_j] = line[id_j], line[id_i]\n",
      "        return ''.join(line)\n",
      "\n",
      "    for i in range(size):\n",
      "        text = swap_two_characters( text )\n",
      "        seqs.append( text )\n",
      "        print text\n",
      "        \n",
      "    return seqs"
     ],
     "language": "python",
     "metadata": {},
     "outputs": [],
     "prompt_number": 2
    },
    {
     "cell_type": "code",
     "collapsed": false,
     "input": [
      "seqs = make_data(100)"
     ],
     "language": "python",
     "metadata": {},
     "outputs": [
      {
       "output_type": "stream",
       "stream": "stdout",
       "text": [
        "abcdexghijklmnopqrstuvwfyz\n",
        "abcdexghsjklmnopqrituvwfyz\n",
        "abcdexgshjklmnopqrituvwfyz\n",
        "ajcdexgshbklmnopqrituvwfyz\n",
        "ajcdexgkhbslmnopqrituvwfyz\n",
        "ajcdexgvhbslmnopqritukwfyz\n",
        "ajcdexgvhbolmnspqritukwfyz\n",
        "ajcdexgvhbolmnspqrftukwiyz\n",
        "ajcdefgvhbolmnspqrxtukwiyz\n",
        "ajcdefgvhbolmnsqprxtukwiyz\n",
        "ajcdefgvhbolnmsqprxtukwiyz\n",
        "ajcdefgvhbolnmsqprxyukwitz\n",
        "ajcdefivhbolnmsqprxyukwgtz\n",
        "ajcdefivhbxlnmsqproyukwgtz\n",
        "ajcdefivhbxlnmkqproyuswgtz\n",
        "ajcdlfivhbxenmkqproyuswgtz\n",
        "ajcdlfivhbxenmyqprokuswgtz\n",
        "ajndlfivhbxecmyqprokuswgtz\n",
        "ajndlfivrbxecmyqphokuswgtz\n",
        "ajndlfigrbxecmyqphokuswvtz\n",
        "ajndlfigruxecmyqphokbswvtz\n",
        "ajfdlnigruxecmyqphokbswvtz\n",
        "ajfdgnilruxecmyqphokbswvtz\n",
        "ajfdgnilruxemcyqphokbswvtz\n",
        "ajfdgnilruxemcyqphowbskvtz\n",
        "ajfdgnilrutemcyqphowbskvxz\n",
        "ajfzgnilrutemcyqphowbskvxd\n",
        "ajfzgnrliutemcyqphowbskvxd\n",
        "ajfzgnrliutemcyqphowvskbxd\n",
        "ajfzgnhliutemcyqprowvskbxd\n",
        "ajfzgnhliutemcyqporwvskbxd\n",
        "ajczgnhliutemfyqporwvskbxd\n",
        "ajgzcnhliutemfyqporwvskbxd\n",
        "ajgzcnhlixtemfyqporwvskbud\n",
        "ajgzcnhlixtymfeqporwvskbud\n",
        "ajgzunhlixtymfeqporwvskbcd\n",
        "ajghunzlixtymfeqporwvskbcd\n",
        "ajghunzlixtymfecporwvskbqd\n",
        "ajghunzlixtymrecpofwvskbqd\n",
        "ajghunzlvxtymrecpofwiskbqd\n",
        "asghunzlvxtymrecpofwijkbqd\n",
        "asghfnzlvxtymrecpouwijkbqd\n",
        "asghknzlvxtymrecpouwijfbqd\n",
        "dsghknzlvxtymrecpouwijfbqa\n",
        "dyghknzlvxtsmrecpouwijfbqa\n",
        "dyghknblvxtsmrecpouwijfzqa\n",
        "dyghknblvxtsmrecpoufijwzqa\n",
        "dyghknblvxtswrecpoufijmzqa\n",
        "dyghknblvxtswreczoufijmpqa\n",
        "dyghknblvxtswreczoufijmpqa\n",
        "dyghknblvxjswreczoufitmpqa\n",
        "dyghknblvxrswjeczoufitmpqa\n",
        "dyghknbwvxrsljeczoufitmpqa\n",
        "ryghknbwvxdsljeczoufitmpqa\n",
        "ryghknbzvxdsljecwoufitmpqa\n",
        "ryghvnbzkxdsljecwoufitmpqa\n",
        "ryghvnjzkxdslbecwoufitmpqa\n",
        "ryghvejzkxdslbncwoufitmpqa\n",
        "ryghvejzcxdslbnkwoufitmpqa\n",
        "ryghvejdcxzslbnkwoufitmpqa\n",
        "rpghvejdcxzslbnkwoufitmyqa\n",
        "rpghvejdcxzslbnkwoafitmyqu\n",
        "rpghvejdlxzscbnkwoafitmyqu\n",
        "rpghvewdlxzscbnkjoafitmyqu\n",
        "rpghvewdlxzsabnkjocfitmyqu\n",
        "rpghlewdvxzsabnkjocfitmyqu\n",
        "rpghlejdvxzsabnkwocfitmyqu\n",
        "rpghlejdvxzsmbnkwocfitayqu\n",
        "rpghlejdvxzsmbqkwocfitaynu\n",
        "rplhgejdvxzsmbqkwocfitaynu\n",
        "rplhgejdvxfsmbqkwoczitaynu\n",
        "rplhgendvxfsmbqkwoczitayju\n",
        "rplhgendvxfsmbqkwocyitazju\n",
        "rpyhgendvxfsmbqkwoclitazju\n",
        "rpyhgendvxtsmbqkwoclifazju\n",
        "rpyhgendvxjsmbqkwoclifaztu\n",
        "rpyhgendvxjsmbqkwocaiflztu\n",
        "rpyhgendvxusmbqkwocaiflztj\n",
        "rpyhgendvxusmbqkwozaiflctj\n",
        "rpyhgendvxusmcqkwozaiflbtj\n",
        "rpyhgendvxusmcqkwfzaiolbtj\n",
        "rpyhgendvxusjcqkwfzaiolbtm\n",
        "rpyhgefdvxusjcqkwnzaiolbtm\n",
        "rpyhvefdgxusjcqkwnzaiolbtm\n",
        "wpyhvefdgxusjcqkrnzaiolbtm\n",
        "wpyhvefdgcusjxqkrnzaiolbtm\n",
        "wpyhvefdgculjxqkrnzaiosbtm\n",
        "wpyhvefdgculzxqkrnjaiosbtm\n",
        "spyhvefdgculzxqkrnjaiowbtm\n",
        "qpyhvefdgculzxskrnjaiowbtm\n",
        "jpyhvefdgculzxskrnqaiowbtm\n",
        "jpydvefhgculzxskrnqaiowbtm\n",
        "jgydvefhpculzxskrnqaiowbtm\n",
        "jgydvrfhpculzxskenqaiowbtm\n",
        "fgydvrjhpculzxskenqaiowbtm\n",
        "fgydvrjhpculzxskeoqainwbtm\n",
        "fgyqvrjhpculzxskeodainwbtm\n",
        "fgyqvsjhpculzxrkeodainwbtm\n",
        "fgyqvdjhpculzxrkeosainwbtm\n",
        "fgyqvdjhpculzxrmeosainwbtk\n"
       ]
      }
     ],
     "prompt_number": 3
    },
    {
     "cell_type": "markdown",
     "metadata": {},
     "source": [
      "define a function that builds a graph from a string, i.e. the path graph with the characters as node labels"
     ]
    },
    {
     "cell_type": "code",
     "collapsed": false,
     "input": [
      "import networkx as nx\n",
      "\n",
      "def sequence_to_graph(seq):\n",
      "    '''convert a sequence into a EDeN 'compatible' graph\n",
      "    i.e. a graph with the attribute 'label' for every node and edge'''\n",
      "    G = nx.Graph()\n",
      "    for id,character in enumerate(seq):\n",
      "        G.add_node(id, label = character )\n",
      "        if id > 0:\n",
      "            G.add_edge(id-1, id, label = '-')\n",
      "    return G"
     ],
     "language": "python",
     "metadata": {},
     "outputs": [],
     "prompt_number": 4
    },
    {
     "cell_type": "markdown",
     "metadata": {},
     "source": [
      "make a generator that yields graphs: generators are 'good' as they allow functional composition"
     ]
    },
    {
     "cell_type": "code",
     "collapsed": false,
     "input": [
      "def pre_process(iterable):\n",
      "    for seq in iterable:\n",
      "        yield sequence_to_graph(seq)"
     ],
     "language": "python",
     "metadata": {},
     "outputs": [],
     "prompt_number": 5
    },
    {
     "cell_type": "markdown",
     "metadata": {},
     "source": [
      "initialize the vectorizer object with the desired 'resolution'"
     ]
    },
    {
     "cell_type": "code",
     "collapsed": false,
     "input": [
      "%%time\n",
      "from eden.graph import Vectorizer\n",
      "vectorizer = Vectorizer( r=2, d=4 )"
     ],
     "language": "python",
     "metadata": {},
     "outputs": [
      {
       "output_type": "stream",
       "stream": "stdout",
       "text": [
        "CPU times: user 157 ms, sys: 56.6 ms, total: 214 ms\n",
        "Wall time: 196 ms\n"
       ]
      }
     ],
     "prompt_number": 6
    },
    {
     "cell_type": "markdown",
     "metadata": {},
     "source": [
      "obtain an iterator over the sequences processed into graphs"
     ]
    },
    {
     "cell_type": "code",
     "collapsed": false,
     "input": [
      "%%time\n",
      "graphs = pre_process( seqs )"
     ],
     "language": "python",
     "metadata": {},
     "outputs": [
      {
       "output_type": "stream",
       "stream": "stdout",
       "text": [
        "CPU times: user 4 \u00b5s, sys: 0 ns, total: 4 \u00b5s\n",
        "Wall time: 5.96 \u00b5s\n"
       ]
      }
     ],
     "prompt_number": 7
    },
    {
     "cell_type": "markdown",
     "metadata": {},
     "source": [
      "compute the vector encoding of each instance in a sparse data matrix"
     ]
    },
    {
     "cell_type": "code",
     "collapsed": false,
     "input": [
      "%%time\n",
      "X = vectorizer.transform( graphs )\n",
      "print 'Instances: %d ; Features: %d with an avg of %d features per instance' % (X.shape[0], X.shape[1],  X.getnnz()/X.shape[0])"
     ],
     "language": "python",
     "metadata": {},
     "outputs": [
      {
       "output_type": "stream",
       "stream": "stdout",
       "text": [
        "Instances: 100 ; Features: 1048577 with an avg of 359 features per instance\n",
        "CPU times: user 457 ms, sys: 118 ms, total: 575 ms\n",
        "Wall time: 636 ms\n"
       ]
      }
     ],
     "prompt_number": 8
    },
    {
     "cell_type": "markdown",
     "metadata": {},
     "source": [
      "compute the pairwise similarity as the dot product between the vector representations of each sequence"
     ]
    },
    {
     "cell_type": "code",
     "collapsed": false,
     "input": [
      "from sklearn import metrics\n",
      "\n",
      "K=metrics.pairwise.pairwise_kernels(X, metric='linear')\n",
      "print K"
     ],
     "language": "python",
     "metadata": {},
     "outputs": [
      {
       "output_type": "stream",
       "stream": "stdout",
       "text": [
        "[[ 1.          0.62141265  0.57042762 ...,  0.08130215  0.07865613\n",
        "   0.0814339 ]\n",
        " [ 0.62141265  1.          0.76238796 ...,  0.07526219  0.07259552\n",
        "   0.0753733 ]\n",
        " [ 0.57042762  0.76238796  0.99722222 ...,  0.07223188  0.07513043\n",
        "   0.07500966]\n",
        " ..., \n",
        " [ 0.08130215  0.07526219  0.07223188 ...,  1.          0.62444296\n",
        "   0.44583906]\n",
        " [ 0.07865613  0.07259552  0.07513043 ...,  0.62444296  1.          0.72964603]\n",
        " [ 0.0814339   0.0753733   0.07500966 ...,  0.44583906  0.72964603  1.        ]]\n"
       ]
      }
     ],
     "prompt_number": 9
    },
    {
     "cell_type": "markdown",
     "metadata": {},
     "source": [
      "visualize it as a picture is worth thousand words..."
     ]
    },
    {
     "cell_type": "code",
     "collapsed": false,
     "input": [
      "plt.figure( figsize=(8,8) )\n",
      "img = plt.imshow( K, interpolation='nearest', cmap=plt.get_cmap( 'YlOrRd' ) )\n",
      "plt.show()"
     ],
     "language": "python",
     "metadata": {},
     "outputs": [
      {
       "metadata": {},
       "output_type": "display_data",
       "png": "[encoded data removed]",
       "text": [
        "<matplotlib.figure.Figure at 0x114af36d0>"
       ]
      }
     ],
     "prompt_number": 12
    },
    {
     "cell_type": "code",
     "collapsed": false,
     "input": [
      "#use dotbracket notation for 3 +3 instances of 2 families"
     ],
     "language": "python",
     "metadata": {},
     "outputs": [],
     "prompt_number": 11
    }
   ],
   "metadata": {}
  }
 ]
}