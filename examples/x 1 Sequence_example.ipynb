{
 "metadata": {
  "name": "",
  "signature": "sha256:b80e500bf029edd23be532516fb70e45c5f40f104d3d76eae40382558b4116fe"
 },
 "nbformat": 3,
 "nbformat_minor": 0,
 "worksheets": [
  {
   "cells": [
    {
     "cell_type": "markdown",
     "metadata": {},
     "source": [
      "#Example\n",
      "\n",
      "Consider sequences that are increasingly different. EDeN allows to turn them into vectors, whose similarity is decreasing."
     ]
    },
    {
     "cell_type": "code",
     "collapsed": false,
     "input": [
      "%pylab inline\n",
      "import pylab as plt"
     ],
     "language": "python",
     "metadata": {},
     "outputs": [
      {
       "output_type": "stream",
       "stream": "stdout",
       "text": [
        "Populating the interactive namespace from numpy and matplotlib\n"
       ]
      },
      {
       "output_type": "stream",
       "stream": "stderr",
       "text": [
        "WARNING: pylab import has clobbered these variables: ['random', 'plt']\n",
        "`%matplotlib` prevents importing * from pylab and numpy\n"
       ]
      }
     ],
     "prompt_number": 11
    },
    {
     "cell_type": "markdown",
     "metadata": {},
     "source": [
      "define a function that swaps two characters at random positions in a string "
     ]
    },
    {
     "cell_type": "code",
     "collapsed": false,
     "input": [
      "import random\n",
      "\n",
      "def one_swap(seq):\n",
      "    line = list(seq)\n",
      "    id_i = random.randint(0,len(line)-1)\n",
      "    id_j = random.randint(0,len(line)-1)\n",
      "    line[id_i], line[id_j] = line[id_j], line[id_i]\n",
      "    return ''.join(line)"
     ],
     "language": "python",
     "metadata": {},
     "outputs": [],
     "prompt_number": 12
    },
    {
     "cell_type": "markdown",
     "metadata": {},
     "source": [
      "Build an artificial dataset: starting from the string 'abcdefghijklmnopqrstuvwxyz', generate iteratively strings by swapping two characters at random. In this way instances are progressively more dissimilar"
     ]
    },
    {
     "cell_type": "code",
     "collapsed": false,
     "input": [
      "text=''.join([str(unichr(97+i)) for i in range(26)])\n",
      "size=50\n",
      "seqs=[]\n",
      "for i in range(size):\n",
      "    text=one_swap(text)\n",
      "    seqs.append(text)\n",
      "    print text"
     ],
     "language": "python",
     "metadata": {},
     "outputs": [
      {
       "output_type": "stream",
       "stream": "stdout",
       "text": [
        "abcdefghijklmnopwrstuvqxyz\n",
        "abcdefphijklmnogwrstuvqxyz\n",
        "abcdefphilkjmnogwrstuvqxyz\n",
        "abcdevphilkjmnogwrstufqxyz\n",
        "abcdevphilknmjogwrstufqxyz\n",
        "abcdevphwlknmjogirstufqxyz\n",
        "abcwevphdlknmjogirstufqxyz\n",
        "abcwevphdlknmjogirstufqxyz\n",
        "abcwevphdlknmjogirstufqxyz\n",
        "abcwvephdlknmjogirstufqxyz\n",
        "abcwvephdlnkmjogirstufqxyz\n",
        "abcwvephdlnqmjogirstufkxyz\n",
        "abcyvephdlnqmjogirstufkxwz\n",
        "abcyvhpedlnqmjogirstufkxwz\n",
        "abcyvhpedlnqmsogirjtufkxwz\n",
        "abcyvhpedlnqmsogirftujkxwz\n",
        "abcyvhpedltqmsogirfnujkxwz\n",
        "abcyvhgedltqmsopirfnujkxwz\n",
        "abcyvhgedltqmsopiwfnujkxrz\n",
        "abcyvhgedltqmospiwfnujkxrz\n",
        "abcyvhgedltqmosziwfnujkxrp\n",
        "abcyvhgwdltqmosziefnujkxrp\n",
        "abcyvhgwdltumosziefnqjkxrp\n",
        "abcyvhgwdltumosqiefnzjkxrp\n",
        "zbcyvhgwdltumosqiefnajkxrp\n",
        "lbcyvhgwdztumosqiefnajkxrp\n",
        "lbkyvhgwdztumosqiefnajcxrp\n",
        "jbkyvhgwdztumosqiefnalcxrp\n",
        "jnkyvhgwdztumosqiefbalcxrp\n",
        "jnkyvhgwdztsmouqiefbalcxrp\n",
        "jnkyvhgwdztsmruqiefbalcxop\n",
        "jnkyvhgwdztlmruqiefbascxop\n",
        "snkyvhgwdztlmruqiefbajcxop\n",
        "snkyvhgwdrtlmzuqiefbajcxop\n",
        "snlyvhgwdrtkmzuqiefbajcxop\n",
        "snlyvhgwdrtkmzuqxefbajciop\n",
        "snlyvhgwdrtkmzucxefbajqiop\n",
        "snlyvhgkdrtwmzucxefbajqiop\n",
        "sklyvhgndrtwmzucxefbajqiop\n",
        "sklnvhgydrtwmzucxefbajqiop\n",
        "zklnvhgydrtwmsucxefbajqiop\n",
        "zklnvhgydrtwmsucbefxajqiop\n",
        "zklnvhgydjtwmsucbefxarqiop\n",
        "zklnvhgydjtwmsucberxafqiop\n",
        "zklxvhgydjtwmsucbernafqiop\n",
        "zklxvhgydjtbmsucwernafqiop\n",
        "zwlxvhgydjtbmsuckernafqiop\n",
        "zwlxvngydjtbmsuckerhafqiop\n",
        "jwlxvngydztbmsuckerhafqiop\n",
        "jwlxvngydztbmsuckerhafqiop\n"
       ]
      }
     ],
     "prompt_number": 17
    },
    {
     "cell_type": "markdown",
     "metadata": {},
     "source": [
      "define a function that builds a graph from a string, i.e. the path graph with the characters as node labels"
     ]
    },
    {
     "cell_type": "code",
     "collapsed": false,
     "input": [
      "import networkx as nx\n",
      "\n",
      "def sequence_to_graph(seq):\n",
      "    '''convert a sequence into a EDeN 'compatible' graph\n",
      "    i.e. a graph with the attribute 'label' for every node and edge'''\n",
      "    G = nx.Graph()\n",
      "    for id,character in enumerate(seq):\n",
      "        G.add_node(id, label = character )\n",
      "        if id > 0:\n",
      "            G.add_edge(id-1, id, label = '-')\n",
      "    return G"
     ],
     "language": "python",
     "metadata": {},
     "outputs": [],
     "prompt_number": 18
    },
    {
     "cell_type": "markdown",
     "metadata": {},
     "source": [
      "make a generator that yields graphs: generators are 'good' as they allow functional composition"
     ]
    },
    {
     "cell_type": "code",
     "collapsed": false,
     "input": [
      "def pre_process(iterable):\n",
      "    for seq in iterable:\n",
      "        yield sequence_to_graph(seq)"
     ],
     "language": "python",
     "metadata": {},
     "outputs": [],
     "prompt_number": 19
    },
    {
     "cell_type": "markdown",
     "metadata": {},
     "source": [
      "initialize the vectorizer object with the desired 'resolution'"
     ]
    },
    {
     "cell_type": "code",
     "collapsed": false,
     "input": [
      "%%time\n",
      "from eden.graph import Vectorizer\n",
      "vectorizer = Vectorizer( r=2, d=2 )"
     ],
     "language": "python",
     "metadata": {},
     "outputs": [
      {
       "output_type": "stream",
       "stream": "stdout",
       "text": [
        "CPU times: user 23 \u00b5s, sys: 13 \u00b5s, total: 36 \u00b5s\n",
        "Wall time: 38.9 \u00b5s\n"
       ]
      }
     ],
     "prompt_number": 20
    },
    {
     "cell_type": "markdown",
     "metadata": {},
     "source": [
      "obtain an iterator over the sequences processed into graphs"
     ]
    },
    {
     "cell_type": "code",
     "collapsed": false,
     "input": [
      "%%time\n",
      "graphs = pre_process(sequences)"
     ],
     "language": "python",
     "metadata": {},
     "outputs": [
      {
       "output_type": "stream",
       "stream": "stdout",
       "text": [
        "CPU times: user 12 \u00b5s, sys: 8 \u00b5s, total: 20 \u00b5s\n",
        "Wall time: 28.1 \u00b5s\n"
       ]
      }
     ],
     "prompt_number": 21
    },
    {
     "cell_type": "markdown",
     "metadata": {},
     "source": [
      "compute the vector encoding of each instance in a sparse data matrix"
     ]
    },
    {
     "cell_type": "code",
     "collapsed": false,
     "input": [
      "%%time\n",
      "X = vectorizer.transform(graphs, n_jobs=1)\n",
      "print 'Instances: %d ; Features: %d with an avg of %d features per instance' % (X.shape[0], X.shape[1],  X.getnnz()/X.shape[0])"
     ],
     "language": "python",
     "metadata": {},
     "outputs": [
      {
       "output_type": "stream",
       "stream": "stdout",
       "text": [
        "Instances: 50 ; Features: 1048577 with an avg of 224 features per instance\n",
        "CPU times: user 365 ms, sys: 26.4 ms, total: 391 ms\n",
        "Wall time: 376 ms\n"
       ]
      }
     ],
     "prompt_number": 22
    },
    {
     "cell_type": "markdown",
     "metadata": {},
     "source": [
      "compute the pairwise similarity as the dot product between the vector representations of each sequence"
     ]
    },
    {
     "cell_type": "code",
     "collapsed": false,
     "input": [
      "from sklearn import metrics\n",
      "\n",
      "K=metrics.pairwise.pairwise_kernels(X, metric='linear')\n",
      "print K"
     ],
     "language": "python",
     "metadata": {},
     "outputs": [
      {
       "output_type": "stream",
       "stream": "stdout",
       "text": [
        "[[ 1.          0.80282051  0.66490028 ...,  0.11111111  0.11111111\n",
        "   0.11555556]\n",
        " [ 0.80282051  1.          0.75441595 ...,  0.11555556  0.11555556  0.12      ]\n",
        " [ 0.66490028  0.75441595  1.         ...,  0.12        0.11555556  0.12      ]\n",
        " ..., \n",
        " [ 0.11111111  0.11555556  0.12       ...,  0.99537037  0.73608262\n",
        "   0.54034188]\n",
        " [ 0.11111111  0.11555556  0.11555556 ...,  0.73608262  0.99537037\n",
        "   0.78592593]\n",
        " [ 0.11555556  0.12        0.12       ...,  0.54034188  0.78592593  1.        ]]\n"
       ]
      }
     ],
     "prompt_number": 23
    },
    {
     "cell_type": "markdown",
     "metadata": {},
     "source": [
      "visualize it as a picture is worth thousand words..."
     ]
    },
    {
     "cell_type": "code",
     "collapsed": false,
     "input": [
      "plt.figure( figsize=(10,10) )\n",
      "img = plt.imshow( K, interpolation='nearest', cmap=plt.get_cmap( 'YlOrRd' ) )\n",
      "plt.show()"
     ],
     "language": "python",
     "metadata": {},
     "outputs": [
      {
       "metadata": {},
       "output_type": "display_data",
       "png": "[encoded data removed]",
       "text": [
        "<matplotlib.figure.Figure at 0x10e8d9910>"
       ]
      }
     ],
     "prompt_number": 24
    }
   ],
   "metadata": {}
  }
 ]
}