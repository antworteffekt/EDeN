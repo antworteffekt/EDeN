{
 "metadata": {
  "name": "",
  "signature": "sha256:80843ef4f0b30d937c31fd5dc668e71f27c36df02542a7fef1f201051a617899"
 },
 "nbformat": 3,
 "nbformat_minor": 0,
 "worksheets": [
  {
   "cells": [
    {
     "cell_type": "markdown",
     "metadata": {},
     "source": [
      "#Example\n",
      "\n",
      "Consider sequences that are increasingly different. EDeN allows to turn them into vectors, whose similarity is decreasing."
     ]
    },
    {
     "cell_type": "code",
     "collapsed": false,
     "input": [
      "%pylab inline\n",
      "import pylab as plt"
     ],
     "language": "python",
     "metadata": {},
     "outputs": [
      {
       "output_type": "stream",
       "stream": "stdout",
       "text": [
        "Populating the interactive namespace from numpy and matplotlib\n"
       ]
      }
     ],
     "prompt_number": 1
    },
    {
     "cell_type": "markdown",
     "metadata": {},
     "source": [
      "define a function that swaps two characters at random positions in a string "
     ]
    },
    {
     "cell_type": "code",
     "collapsed": false,
     "input": [
      "import random\n",
      "\n",
      "def one_swap(seq):\n",
      "    line = list(seq)\n",
      "    id_i = random.randint(0,len(line)-1)\n",
      "    id_j = random.randint(0,len(line)-1)\n",
      "    tmp = line[id_i]\n",
      "    line[id_i] = line[id_j]\n",
      "    line[id_j] = tmp\n",
      "    return ''.join(line)"
     ],
     "language": "python",
     "metadata": {},
     "outputs": [],
     "prompt_number": 2
    },
    {
     "cell_type": "markdown",
     "metadata": {},
     "source": [
      "Build an artificial dataset: starting from the string 'abcdefghijklmnopqrstuvwxyz', generate iteratively strings by swapping two characters at random. In this way instances are progressively more dissimilar"
     ]
    },
    {
     "cell_type": "code",
     "collapsed": false,
     "input": [
      "%%time\n",
      "\n",
      "sequences_size=50\n",
      "sequences=[]\n",
      "\n",
      "line=''.join([str(unichr(97+i)) for i in range(26)])\n",
      "\n",
      "for i in range(sequences_size):\n",
      "    new_line=one_swap(line)\n",
      "    sequences+=[new_line]\n",
      "    line=new_line\n",
      "    print line"
     ],
     "language": "python",
     "metadata": {},
     "outputs": [
      {
       "output_type": "stream",
       "stream": "stdout",
       "text": [
        "abcdefxhijklmnopqrstuvwgyz\n",
        "abcdkfxhijelmnopqrstuvwgyz\n",
        "abcdkfxhijelmnoyqrstuvwgpz\n",
        "abrdkfxhijelmnoyqcstuvwgpz\n",
        "abrdkfxhinelmjoyqcstuvwgpz\n",
        "abrdkfxhinelmjwyqcstuvogpz\n",
        "dbrakfxhinelmjwyqcstuvogpz\n",
        "durakfxhinelmjwyqcstbvogpz\n",
        "vurakfxhinelmjwyqcstbdogpz\n",
        "vurakfihxnelmjwyqcstbdogpz\n",
        "vurakfihxnejmlwyqcstbdogpz\n",
        "vurakfihdnejmlwyqcstbxogpz\n",
        "vurakyihdnejmlwfqcstbxogpz\n",
        "vurakyqhdnejmlwficstbxogpz\n",
        "vurakyqhdnejblwficstmxogpz\n",
        "vkrauyqhdnejblwficstmxogpz\n",
        "vkrauyqhdnejblwoicstmxfgpz\n",
        "vkrauyqhdnejblwoicstmxfgpz\n",
        "vkrpuyqhdnejblwoicstmxfgaz\n",
        "vkrpufqhdnejblwoicstmxygaz\n",
        "vkrpufqhdnemblwoicstjxygaz\n",
        "vktpufqhdnemblwoicsrjxygaz\n",
        "vktpufqbdnemhlwoicsrjxygaz\n",
        "vktpufqbrnemhlwoicsdjxygaz\n",
        "vktpufqbrnemhlwoicsdjxgyaz\n",
        "vktpufqbrnechlwoimsdjxgyaz\n",
        "vktpufqbrnechlwoimsdjgxyaz\n",
        "lktpufqbrnechvwoimsdjgxyaz\n",
        "lktpufbqrnechvwoimsdjgxyaz\n",
        "lktpufbqrnechvwoimsdjgxyaz\n",
        "lktpufbernqchvwoimsdjgxyaz\n",
        "lkjpufbernqchvwoimsdtgxyaz\n",
        "lkjpucbernqfhvwoimsdtgxyaz\n",
        "lkjpucberhqfnvwoimsdtgxyaz\n",
        "lkjpucberxqfnvwoimsdtghyaz\n",
        "lkxpucberjqfnvwoimsdtghyaz\n",
        "ldxpucberjqfnvwoimsktghyaz\n",
        "ldxpucberjqfnvwoimsktgzyah\n",
        "ldxpucberjqfnvwoimsktgzyah\n",
        "ldxpucgerjqfnvwoimsktbzyah\n",
        "zdxpucgerjqfnvwoimsktblyah\n",
        "zdxplcgerjqfnvwoimsktbuyah\n",
        "zdxplcghrjqfnvwoimsktbuyae\n",
        "zdxplcghrjqfnswoimvktbuyae\n",
        "zdxplcfhrjqgnswoimvktbuyae\n",
        "zkxplcfhrjqgnswoimvdtbuyae\n",
        "zkxplcfwrjqgnshoimvdtbuyae\n",
        "zkxplcftrjqgnshoimvdwbuyae\n",
        "zkxpliftrjqgnshocmvdwbuyae\n",
        "zkepliftrjqgnshocmvdwbuyax\n",
        "CPU times: user 1.39 ms, sys: 456 \u00b5s, total: 1.84 ms\n",
        "Wall time: 1.5 ms\n"
       ]
      }
     ],
     "prompt_number": 3
    },
    {
     "cell_type": "markdown",
     "metadata": {},
     "source": [
      "define a function that builds a graph from a string, i.e. the path graph with the characters as node labels"
     ]
    },
    {
     "cell_type": "code",
     "collapsed": false,
     "input": [
      "import networkx as nx\n",
      "\n",
      "def sequence_to_graph(seq):\n",
      "    '''convert a sequence into a EDeN 'compatible' graph\n",
      "    i.e. a graph with the attribute 'label' for every node and edge'''\n",
      "    G = nx.Graph()\n",
      "    for id,character in enumerate(seq):\n",
      "        G.add_node(id, label = character )\n",
      "        if id > 0:\n",
      "            G.add_edge(id-1, id, label = '-')\n",
      "    return G"
     ],
     "language": "python",
     "metadata": {},
     "outputs": [],
     "prompt_number": 4
    },
    {
     "cell_type": "markdown",
     "metadata": {},
     "source": [
      "make a generator that yields graphs: generators are 'good' as they allow functional composition"
     ]
    },
    {
     "cell_type": "code",
     "collapsed": false,
     "input": [
      "def pre_process(iterable):\n",
      "    for seq in iterable:\n",
      "        yield sequence_to_graph(seq)"
     ],
     "language": "python",
     "metadata": {},
     "outputs": [],
     "prompt_number": 5
    },
    {
     "cell_type": "markdown",
     "metadata": {},
     "source": [
      "initialize the vectorizer object with the desired 'resolution'"
     ]
    },
    {
     "cell_type": "code",
     "collapsed": false,
     "input": [
      "%%time\n",
      "from eden.graph import Vectorizer\n",
      "vectorizer = Vectorizer( r=2, d=2 )"
     ],
     "language": "python",
     "metadata": {},
     "outputs": [
      {
       "output_type": "stream",
       "stream": "stdout",
       "text": [
        "CPU times: user 164 ms, sys: 130 ms, total: 294 ms\n",
        "Wall time: 501 ms\n"
       ]
      }
     ],
     "prompt_number": 6
    },
    {
     "cell_type": "markdown",
     "metadata": {},
     "source": [
      "obtain an iterator over the sequences processed into graphs"
     ]
    },
    {
     "cell_type": "code",
     "collapsed": false,
     "input": [
      "%%time\n",
      "graphs = pre_process(sequences)"
     ],
     "language": "python",
     "metadata": {},
     "outputs": [
      {
       "output_type": "stream",
       "stream": "stdout",
       "text": [
        "CPU times: user 5 \u00b5s, sys: 5 \u00b5s, total: 10 \u00b5s\n",
        "Wall time: 11 \u00b5s\n"
       ]
      }
     ],
     "prompt_number": 7
    },
    {
     "cell_type": "markdown",
     "metadata": {},
     "source": [
      "compute the vector encoding of each instance in a sparse data matrix"
     ]
    },
    {
     "cell_type": "code",
     "collapsed": false,
     "input": [
      "%%time\n",
      "X = vectorizer.transform(graphs, n_jobs=1)\n",
      "print 'Instances: %d ; Features: %d with an avg of %d features per instance' % (X.shape[0], X.shape[1],  X.getnnz()/X.shape[0])"
     ],
     "language": "python",
     "metadata": {},
     "outputs": [
      {
       "output_type": "stream",
       "stream": "stdout",
       "text": [
        "Instances: 50 ; Features: 1048577 with an avg of 225 features per instance\n",
        "CPU times: user 399 ms, sys: 27.2 ms, total: 426 ms\n",
        "Wall time: 412 ms\n"
       ]
      }
     ],
     "prompt_number": 8
    },
    {
     "cell_type": "markdown",
     "metadata": {},
     "source": [
      "compute the pairwise similarity as the dot product between the vector representations of each sequence"
     ]
    },
    {
     "cell_type": "code",
     "collapsed": false,
     "input": [
      "from sklearn import metrics\n",
      "\n",
      "K=metrics.pairwise.pairwise_kernels(X, metric='linear')\n",
      "print K"
     ],
     "language": "python",
     "metadata": {},
     "outputs": [
      {
       "output_type": "stream",
       "stream": "stdout",
       "text": [
        "[[ 1.          0.69995726  0.45437322 ...,  0.125       0.125       0.125     ]\n",
        " [ 0.69995726  1.          0.74071225 ...,  0.125       0.125       0.125     ]\n",
        " [ 0.45437322  0.74071225  1.         ...,  0.125       0.125       0.125     ]\n",
        " ..., \n",
        " [ 0.125       0.125       0.125      ...,  1.          0.69532764\n",
        "   0.53961538]\n",
        " [ 0.125       0.125       0.125      ...,  0.69532764  1.          0.79018519]\n",
        " [ 0.125       0.125       0.125      ...,  0.53961538  0.79018519  1.        ]]\n"
       ]
      }
     ],
     "prompt_number": 9
    },
    {
     "cell_type": "markdown",
     "metadata": {},
     "source": [
      "visualize it as a picture is worth thousand words..."
     ]
    },
    {
     "cell_type": "code",
     "collapsed": false,
     "input": [
      "plt.figure( figsize=(10,10) )\n",
      "img = plt.imshow( K, interpolation='nearest', cmap=plt.get_cmap( 'YlOrRd' ) )\n",
      "plt.show()"
     ],
     "language": "python",
     "metadata": {},
     "outputs": [
      {
       "metadata": {},
       "output_type": "display_data",
       "png": "[encoded data removed]",
       "text": [
        "<matplotlib.figure.Figure at 0x10e818b10>"
       ]
      }
     ],
     "prompt_number": 10
    }
   ],
   "metadata": {}
  }
 ]
}