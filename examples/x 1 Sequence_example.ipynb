{
 "metadata": {
  "name": "",
  "signature": "sha256:30ab0a0af551582eb6b57fe344315c3f6f64c16e80a4246e38ab2cff9aa4f673"
 },
 "nbformat": 3,
 "nbformat_minor": 0,
 "worksheets": [
  {
   "cells": [
    {
     "cell_type": "markdown",
     "metadata": {},
     "source": [
      "#Example\n",
      "\n",
      "Consider sequences that are increasingly different. EDeN allows to turn them into vectors, whose similarity is decreasing."
     ]
    },
    {
     "cell_type": "code",
     "collapsed": false,
     "input": [
      "%pylab inline\n",
      "import pylab as plt"
     ],
     "language": "python",
     "metadata": {},
     "outputs": [
      {
       "output_type": "stream",
       "stream": "stdout",
       "text": [
        "Populating the interactive namespace from numpy and matplotlib\n"
       ]
      }
     ],
     "prompt_number": 1
    },
    {
     "cell_type": "markdown",
     "metadata": {},
     "source": [
      "define a function that swaps two characters at random positions in a string "
     ]
    },
    {
     "cell_type": "code",
     "collapsed": false,
     "input": [
      "import random\n",
      "\n",
      "def swap_two_characters(seq):\n",
      "    line = list(seq)\n",
      "    id_i = random.randint(0,len(line)-1)\n",
      "    id_j = random.randint(0,len(line)-1)\n",
      "    line[id_i], line[id_j] = line[id_j], line[id_i]\n",
      "    return ''.join(line)"
     ],
     "language": "python",
     "metadata": {},
     "outputs": [],
     "prompt_number": 2
    },
    {
     "cell_type": "markdown",
     "metadata": {},
     "source": [
      "Build an artificial dataset: starting from the string 'abcdefghijklmnopqrstuvwxyz', generate iteratively strings by swapping two characters at random. In this way instances are progressively more dissimilar"
     ]
    },
    {
     "cell_type": "code",
     "collapsed": false,
     "input": [
      "text = ''.join([str(unichr(97+i)) for i in range(26)])\n",
      "size = 150\n",
      "seqs = []\n",
      "for i in range(size):\n",
      "    text = swap_two_characters( text )\n",
      "    seqs.append( text )\n",
      "    print text"
     ],
     "language": "python",
     "metadata": {},
     "outputs": [
      {
       "output_type": "stream",
       "stream": "stdout",
       "text": [
        "abcdefghijklmnupqrstovwxyz\n",
        "afcdebghijklmnupqrstovwxyz\n",
        "afcdebohijklmnupqrstgvwxyz\n",
        "afcdebohijplmnukqrstgvwxyz\n",
        "afcdebohijplmnukqrsygvwxtz\n",
        "afcdepohijblmnukqrsygvwxtz\n",
        "afcdepohijblmnukqrsygvwxtz\n",
        "afcdepohirblmnukqjsygvwxtz\n",
        "afcdeiohprblmnukqjsygvwxtz\n",
        "afcdeiohpnblmrukqjsygvwxtz\n",
        "afcleiohpnbdmrukqjsygvwxtz\n",
        "afcleiohpnbdmrukvjsygqwxtz\n",
        "afclenohpibdmrukvjsygqwxtz\n",
        "apclenohfibdmrukvjsygqwxtz\n",
        "apclenoqfibdmrukvjsyghwxtz\n",
        "apclenoufibdmrqkvjsyghwxtz\n",
        "apclenoufibdmrskvjqyghwxtz\n",
        "apclenoufibdmrwkvjqyghsxtz\n",
        "apclenoufibdmrwkvjqyghsztx\n",
        "apclinoufebdmrwkvjqyghsztx\n",
        "afclinoupebdmrwkvjqyghsztx\n",
        "aqclinoupebdmrwkvjfyghsztx\n",
        "aqclinoupebgmrwkvjfydhsztx\n",
        "aoclinqupebgmrwkvjfydhsztx\n",
        "aoclknqupebgmrwivjfydhsztx\n",
        "aoclknqupebgmrwivjfydhsztx\n",
        "aoclkhqupebgmrwivjfydnsztx\n",
        "afclkhqupebgmrwivjoydnsztx\n",
        "afclkhqupebgyrwivjomdnsztx\n",
        "afclkhqupebygrwivjomdnsztx\n",
        "afclkhyupebqgrwivjomdnsztx\n",
        "afclkhyupebqgrwivjomsndztx\n",
        "afclkhyupebqgrwivjomsnzdtx\n",
        "afclkhyupebqgrwivjomdnzstx\n",
        "afcmkhyupebqgrwivjoldnzstx\n",
        "afcmkhyupebqgrwivjotdnzslx\n",
        "cfamkhyupebqgrwivjotdnzslx\n",
        "cfadkhyupebqgrwivjotmnzslx\n",
        "cfadkhyupebqgrwivzotmnjslx\n",
        "cradkhyupebqgfwivzotmnjslx\n",
        "eradkhyupcbqgfwivzotmnjslx\n",
        "eradkhyupcbogfwivzqtmnjslx\n",
        "wradkhyupcbogfeivzqtmnjslx\n",
        "wraxkhyupcbogfeivzqtmnjsld\n",
        "wraxkuyhpcbogfeivzqtmnjsld\n",
        "wraukxyhpcbogfeivzqtmnjsld\n",
        "wrauvxyhpcbogfeikzqtmnjsld\n",
        "wrauvxzhpcbogfeikyqtmnjsld\n",
        "wrauvxzhpcbotfeikyqgmnjsld\n",
        "wrauvxzhpcbotfnikyqgmejsld\n",
        "wrauvxzhpcbotfmikyqgnejsld\n",
        "wraivxzhpcbotfmukyqgnejsld\n",
        "wrayvxzhpcbotfmukiqgnejsld\n",
        "crayvxzhpwbotfmukiqgnejsld\n",
        "crayqxzhpwbotfmukivgnejsld\n",
        "crayqxzhpwbotdmukivgnejslf\n",
        "wrayqxzhpcbotdmukivgnejslf\n",
        "wrayqxzhpcgotdmukivbnejslf\n",
        "wrapqxzhycgotdmukivbnejslf\n",
        "wrapqxyhzcgotdmukivbnejslf\n",
        "wrapjxyhzcgotdmukivbneqslf\n",
        "wrapcxyhzjgotdmukivbneqslf\n",
        "wrapcxyhzjgotdmuklvbneqsif\n",
        "wrapcxyhzjgoidmuklvbneqstf\n",
        "wrapcxyhzjgoidmuklvbneqstf\n",
        "wrabcxyhzjgoidmuklvpneqstf\n",
        "wrabcxfhzjgoidmuklvpneqsty\n",
        "wrvbcxfhzjgoidmuklapneqsty\n",
        "whvbcxfrzjgoidmuklapneqsty\n",
        "whvbcxfyzjgoidmuklapneqstr\n",
        "whvpcxfyzjgoidmuklabneqstr\n",
        "whvacxfyzjgoidmuklpbneqstr\n",
        "whvacxryzjgoidmuklpbneqstf\n",
        "whvacxryzjgodimuklpbneqstf\n",
        "whvacxryzjuodimgklpbneqstf\n",
        "whvacxryzjuodqmgklpbneistf\n",
        "whvayxrczjuodqmgklpbneistf\n",
        "whvayxrczjuodqmgkipbnelstf\n",
        "wlvayxrczjuodqmgkipbnehstf\n",
        "wyvalxrczjuodqmgkipbnehstf\n",
        "wyvalxrczjuodqmgkipbnehstf\n",
        "wyvalxrczjuodqigkmpbnehstf\n",
        "wyvalxrczduojqigkmpbnehstf\n",
        "wyvalxzcrduojqigkmpbnehstf\n",
        "wyvalxzcrduojqigkmpbnehstf\n",
        "wyvalxzcrduojqigbmpknehstf\n",
        "wyvplxzcrduojqigbmaknehstf\n",
        "wyvplxzorducjqigbmaknehstf\n",
        "wyvplxzorducjqbgimaknehstf\n",
        "wyvplxzotducjqbgimaknehsrf\n",
        "wyvplxeotducjqbgimaknzhsrf\n",
        "wyvplxeotduchqbgimaknzjsrf\n",
        "wyvolxeptduchqbgimaknzjsrf\n",
        "wyvolxeptduchqbgimaknzjsrf\n",
        "wyvolxeptduchqbkimagnzjsrf\n",
        "wzvolxeptduchqbkimagnyjsrf\n",
        "wzvolxeptduchqbkimagnfjsry\n",
        "wzvolxeptguchqbkimadnfjsry\n",
        "wzvolxeqtguchpbkimadnfjsry\n",
        "wzvolxeqtguchpbkimasnfjdry\n",
        "wzvolxeqtguckpbhimasnfjdry\n",
        "wzvolxeqtjuckpbhimasnfgdry\n",
        "wjvolxeqtzuckpbhimasnfgdry\n",
        "wjvolxeqtzuchpbkimasnfgdry\n",
        "wjvolxeqtzuchpbkimrsnfgday\n",
        "wjvolxeqtzuchpbkimrsnfgday\n",
        "wjvslxeqtzuchpbkimronfgday\n",
        "wjvslxeqgzuchpbkimronftday\n",
        "wjvslxeqgzuchpbkdmronftiay\n",
        "wjvslxeqgzucnpbkdmrohftiay\n",
        "wjvslxedgzucnpbkqmrohftiay\n",
        "wjvslxedgoucnpbkqmrzhftiay\n",
        "wjvslxedgoucnpbkqmfzhrtiay\n",
        "wjzslxedgoucnpbkqmfvhrtiay\n",
        "wvzslxedgoucnpbkqmfjhrtiay\n",
        "wvzslxedgoucnpbiqmfjhrtkay\n",
        "wvzslxpdgoucnebiqmfjhrtkay\n",
        "wvzflxpdgoucnebiqmsjhrtkay\n",
        "wvzflxpdgoucnebiqrsjhmtkay\n",
        "wvzfdxplgoucnebiqrsjhmtkay\n",
        "wvzfdxplgoucnebiqrsjhmtkay\n",
        "wvefdxplgoucnzbiqrsjhmtkay\n",
        "wvefdxplgoucizbnqrsjhmtkay\n",
        "wvefdmplgoucizbnqrsjhxtkay\n",
        "wvefdmplqoucizbngrsjhxtkay\n",
        "wvefdmpcqoulizbngrsjhxtkay\n",
        "wvefdmpcqoulizbnxrsjhgtkay\n",
        "wsefdmpcqoulizbnxrvjhgtkay\n",
        "wsefdmpjqoulizbnxrvchgtkay\n",
        "fsewdmpjqoulizbnxrvchgtkay\n",
        "fsewdmpjqoulizbnxrgchvtkay\n",
        "fsewdypjqoulizbnxrgchvtkam\n",
        "fsewdypjqoulizvnxrgchbtkam\n",
        "fshwdypjqoulizvnxrgcebtkam\n",
        "jshwdypfqoulizvnxrgcebtkam\n",
        "jshodypfqwulizvnxrgcebtkam\n",
        "jshodypfqluwizvnxrgcebtkam\n",
        "jshodycfqluwizvnxrgpebtkam\n",
        "jshodycfqluwizvnxrmpebtkag\n",
        "jshodyrfqluwizvnxcmpebtkag\n",
        "jshodyrfqlpwizvnxcmuebtkag\n",
        "jshodxrfqlpwizvnycmuebtkag\n",
        "jshokxrfqlpwizvnycmuebtdag\n",
        "jshokxdfqlpwizvnycmuebtrag\n",
        "jghokxdfqlpwizvnycmuebtras\n",
        "jghoyxdfqlpwizvnkcmuebtras\n",
        "jghoyxdfqlpwizvnkcmuebtras\n",
        "jghoyxdfqlpwibvnkcmueztras\n",
        "jghoyxdtqlpwibvnkcmuezfras\n",
        "jghoyxztqlpwibvnkcmuedfras\n"
       ]
      }
     ],
     "prompt_number": 3
    },
    {
     "cell_type": "markdown",
     "metadata": {},
     "source": [
      "define a function that builds a graph from a string, i.e. the path graph with the characters as node labels"
     ]
    },
    {
     "cell_type": "code",
     "collapsed": false,
     "input": [
      "import networkx as nx\n",
      "\n",
      "def sequence_to_graph(seq):\n",
      "    '''convert a sequence into a EDeN 'compatible' graph\n",
      "    i.e. a graph with the attribute 'label' for every node and edge'''\n",
      "    G = nx.Graph()\n",
      "    for id,character in enumerate(seq):\n",
      "        G.add_node(id, label = character )\n",
      "        if id > 0:\n",
      "            G.add_edge(id-1, id, label = '-')\n",
      "    return G"
     ],
     "language": "python",
     "metadata": {},
     "outputs": [],
     "prompt_number": 4
    },
    {
     "cell_type": "markdown",
     "metadata": {},
     "source": [
      "make a generator that yields graphs: generators are 'good' as they allow functional composition"
     ]
    },
    {
     "cell_type": "code",
     "collapsed": false,
     "input": [
      "def pre_process(iterable):\n",
      "    for seq in iterable:\n",
      "        yield sequence_to_graph(seq)"
     ],
     "language": "python",
     "metadata": {},
     "outputs": [],
     "prompt_number": 5
    },
    {
     "cell_type": "markdown",
     "metadata": {},
     "source": [
      "initialize the vectorizer object with the desired 'resolution'"
     ]
    },
    {
     "cell_type": "code",
     "collapsed": false,
     "input": [
      "%%time\n",
      "from eden.graph import Vectorizer\n",
      "vectorizer = Vectorizer( r=2, d=4 )"
     ],
     "language": "python",
     "metadata": {},
     "outputs": [
      {
       "output_type": "stream",
       "stream": "stdout",
       "text": [
        "CPU times: user 24 \u00b5s, sys: 7 \u00b5s, total: 31 \u00b5s\n",
        "Wall time: 33.9 \u00b5s\n"
       ]
      }
     ],
     "prompt_number": 86
    },
    {
     "cell_type": "markdown",
     "metadata": {},
     "source": [
      "obtain an iterator over the sequences processed into graphs"
     ]
    },
    {
     "cell_type": "code",
     "collapsed": false,
     "input": [
      "%%time\n",
      "graphs = pre_process( seqs )"
     ],
     "language": "python",
     "metadata": {},
     "outputs": [
      {
       "output_type": "stream",
       "stream": "stdout",
       "text": [
        "CPU times: user 4 \u00b5s, sys: 4 \u00b5s, total: 8 \u00b5s\n",
        "Wall time: 10 \u00b5s\n"
       ]
      }
     ],
     "prompt_number": 87
    },
    {
     "cell_type": "markdown",
     "metadata": {},
     "source": [
      "compute the vector encoding of each instance in a sparse data matrix"
     ]
    },
    {
     "cell_type": "code",
     "collapsed": false,
     "input": [
      "%%time\n",
      "X = vectorizer.transform( graphs )\n",
      "print 'Instances: %d ; Features: %d with an avg of %d features per instance' % (X.shape[0], X.shape[1],  X.getnnz()/X.shape[0])"
     ],
     "language": "python",
     "metadata": {},
     "outputs": [
      {
       "output_type": "stream",
       "stream": "stdout",
       "text": [
        "Instances: 150 ; Features: 1048577 with an avg of 359 features per instance\n",
        "CPU times: user 713 ms, sys: 168 ms, total: 881 ms\n",
        "Wall time: 872 ms\n"
       ]
      }
     ],
     "prompt_number": 88
    },
    {
     "cell_type": "markdown",
     "metadata": {},
     "source": [
      "compute the pairwise similarity as the dot product between the vector representations of each sequence"
     ]
    },
    {
     "cell_type": "code",
     "collapsed": false,
     "input": [
      "from sklearn import metrics\n",
      "\n",
      "K=metrics.pairwise.pairwise_kernels(X, metric='linear')\n",
      "print K"
     ],
     "language": "python",
     "metadata": {},
     "outputs": [
      {
       "output_type": "stream",
       "stream": "stdout",
       "text": [
        "[[ 1.          0.7739271   0.53667869 ...,  0.08651471  0.08651471\n",
        "   0.08904963]\n",
        " [ 0.7739271   1.          0.62444296 ...,  0.08651471  0.08651471\n",
        "   0.08904963]\n",
        " [ 0.53667869  0.62444296  1.         ...,  0.09231181  0.09231181\n",
        "   0.09194818]\n",
        " ..., \n",
        " [ 0.08651471  0.08651471  0.09231181 ...,  0.99710145  0.6510679\n",
        "   0.55443117]\n",
        " [ 0.08651471  0.08651471  0.09231181 ...,  0.6510679   1.          0.63340211]\n",
        " [ 0.08904963  0.08904963  0.09194818 ...,  0.55443117  0.63340211  1.        ]]\n"
       ]
      }
     ],
     "prompt_number": 89
    },
    {
     "cell_type": "markdown",
     "metadata": {},
     "source": [
      "visualize it as a picture is worth thousand words..."
     ]
    },
    {
     "cell_type": "code",
     "collapsed": false,
     "input": [
      "plt.figure( figsize=(10,10) )\n",
      "img = plt.imshow( K, interpolation='nearest', cmap=plt.get_cmap( 'YlOrRd' ) )\n",
      "plt.show()"
     ],
     "language": "python",
     "metadata": {},
     "outputs": [
      {
       "metadata": {},
       "output_type": "display_data",
       "png": "[encoded data removed]",
       "text": [
        "<matplotlib.figure.Figure at 0x109fa7510>"
       ]
      }
     ],
     "prompt_number": 90
    }
   ],
   "metadata": {}
  }
 ]
}