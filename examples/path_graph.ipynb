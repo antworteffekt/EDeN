{
 "metadata": {
  "name": "",
  "signature": "sha256:6b2e73ee9cc1f179d63f4fb07b721ceaec7ee3b7c1265a204305c6e7231323b7"
 },
 "nbformat": 3,
 "nbformat_minor": 0,
 "worksheets": [
  {
   "cells": [
    {
     "cell_type": "code",
     "collapsed": false,
     "input": [
      "%pylab inline"
     ],
     "language": "python",
     "metadata": {},
     "outputs": [
      {
       "output_type": "stream",
       "stream": "stdout",
       "text": [
        "Populating the interactive namespace from numpy and matplotlib\n"
       ]
      }
     ],
     "prompt_number": 1
    },
    {
     "cell_type": "code",
     "collapsed": false,
     "input": [
      "#swap two characters at random positions in a string \n",
      "import random\n",
      "\n",
      "def one_swap(line):\n",
      "    while True :\n",
      "        id_i=random.randint(0,len(line)-1)\n",
      "        id_j=random.randint(0,len(line)-1)\n",
      "        id_start=min(id_i,id_j)\n",
      "        id_end=max(id_i,id_j)\n",
      "        if id_start != id_end and id_start != len(line)-1:\n",
      "            a = line[0:id_start]\n",
      "            b = line[id_start]\n",
      "            c = line[id_start+1:id_end]\n",
      "            d = line[id_end]\n",
      "            e = line[id_end+1:]\n",
      "            return  ''.join([a,d,c,b,e])"
     ],
     "language": "python",
     "metadata": {},
     "outputs": [],
     "prompt_number": 2
    },
    {
     "cell_type": "markdown",
     "metadata": {},
     "source": [
      "Build artificial dataset: starting from the string 'abcdefghijklmnopqrstuvwxyz', generate iteratively strings by swapping two characters at random. In this way instances are progressively more dissimilar"
     ]
    },
    {
     "cell_type": "code",
     "collapsed": false,
     "input": [
      "%%time\n",
      "\n",
      "sequences_size=500\n",
      "sequences=[]\n",
      "line=''.join([str(unichr(97+i)) for i in range(26)])\n",
      "print line\n",
      "for i in range(sequences_size):\n",
      "    new_line=one_swap(line)\n",
      "    sequences+=[new_line]\n",
      "    line=new_line"
     ],
     "language": "python",
     "metadata": {},
     "outputs": [
      {
       "output_type": "stream",
       "stream": "stdout",
       "text": [
        "abcdefghijklmnopqrstuvwxyz\n",
        "CPU times: user 4.25 ms, sys: 1.77 ms, total: 6.02 ms\n",
        "Wall time: 4.66 ms\n"
       ]
      }
     ],
     "prompt_number": 3
    },
    {
     "cell_type": "markdown",
     "metadata": {},
     "source": [
      "compute the vector encoding of each instance in a sparse data matrix"
     ]
    },
    {
     "cell_type": "code",
     "collapsed": false,
     "input": [
      "%%time\n",
      "from eden.path import Vectorizer\n",
      "\n",
      "vectorizer = Vectorizer(r = 3, d = 6)\n",
      "X = vectorizer.transform(sequences, n_jobs=1)"
     ],
     "language": "python",
     "metadata": {},
     "outputs": [
      {
       "output_type": "stream",
       "stream": "stdout",
       "text": [
        "CPU times: user 3.11 s, sys: 86.6 ms, total: 3.19 s\n",
        "Wall time: 3.18 s\n"
       ]
      }
     ],
     "prompt_number": 4
    },
    {
     "cell_type": "markdown",
     "metadata": {},
     "source": [
      "transform the sparse vector encoding into a dense vector encoding using the Nystroem approximation (using at most 'max_components')."
     ]
    },
    {
     "cell_type": "code",
     "collapsed": false,
     "input": [
      "%%time\n",
      "from sklearn.kernel_approximation import Nystroem\n",
      "max_components=512\n",
      "n_components=min(max_components,sequences_size)\n",
      "feature_map_nystroem = Nystroem(n_components=n_components)\n",
      "Xl=feature_map_nystroem.fit_transform(X)"
     ],
     "language": "python",
     "metadata": {},
     "outputs": [
      {
       "output_type": "stream",
       "stream": "stdout",
       "text": [
        "CPU times: user 282 ms, sys: 43.7 ms, total: 326 ms\n",
        "Wall time: 196 ms\n"
       ]
      }
     ],
     "prompt_number": 6
    },
    {
     "cell_type": "markdown",
     "metadata": {},
     "source": [
      "for visualization purposes, perform a manifold embedding in 2D using one of the following techniques: PCA, spectral, MDS, LLE, ISO."
     ]
    },
    {
     "cell_type": "code",
     "collapsed": false,
     "input": [
      "%%time\n",
      "from sklearn import manifold\n",
      "\n",
      "mode='LLE'\n",
      "n_components=2\n",
      "n_neighbors=5\n",
      "\n",
      "if mode == 'PCA':\n",
      "    emb = PCA(n_components=n_components)\n",
      "elif mode == 'S':\n",
      "    emb = manifold.SpectralEmbedding(n_components=n_components,n_neighbors=n_neighbors)\n",
      "elif mode == 'MDS':\n",
      "    emb = manifold.MDS(n_components, max_iter=30, n_init=1)\n",
      "elif mode == 'LLE':\n",
      "    emb = manifold.LocallyLinearEmbedding(n_neighbors,n_components,eigen_solver='auto',method='standard')\n",
      "elif mode == 'ISO':\n",
      "    emb = manifold.Isomap(n_neighbors=n_neighbors, n_components=n_components)\n",
      "\n",
      "    \n",
      "Xs = emb.fit_transform(Xl)"
     ],
     "language": "python",
     "metadata": {},
     "outputs": [
      {
       "output_type": "stream",
       "stream": "stdout",
       "text": [
        "CPU times: user 264 ms, sys: 8.42 ms, total: 273 ms\n",
        "Wall time: 272 ms\n"
       ]
      }
     ],
     "prompt_number": 7
    },
    {
     "cell_type": "code",
     "collapsed": false,
     "input": [
      "import pylab as plt\n",
      "plt.figure(figsize=(7,7))\n",
      "plt.grid(True)\n",
      "\n",
      "plt.plot(Xs[:,0],Xs[:,1], color='r')\n",
      "plt.plot(Xs[:,0],Xs[:,1], marker='o', color='w')"
     ],
     "language": "python",
     "metadata": {},
     "outputs": [
      {
       "metadata": {},
       "output_type": "pyout",
       "prompt_number": 8,
       "text": [
        "[<matplotlib.lines.Line2D at 0x108734e90>]"
       ]
      },
      {
       "metadata": {},
       "output_type": "display_data",
       "png": "[encoded data removed]",
       "text": [
        "<matplotlib.figure.Figure at 0x1086fddd0>"
       ]
      }
     ],
     "prompt_number": 8
    }
   ],
   "metadata": {}
  }
 ]
}