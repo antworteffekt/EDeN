{
 "metadata": {
  "name": "",
  "signature": "sha256:c2bacced91a4b717827883c4fa7f9169be484b1c3e1e37a7af3b66af6839c5b7"
 },
 "nbformat": 3,
 "nbformat_minor": 0,
 "worksheets": [
  {
   "cells": [
    {
     "cell_type": "code",
     "collapsed": false,
     "input": [
      "%reload_ext autoreload"
     ],
     "language": "python",
     "metadata": {},
     "outputs": [],
     "prompt_number": 1
    },
    {
     "cell_type": "code",
     "collapsed": false,
     "input": [
      "%autoreload 2"
     ],
     "language": "python",
     "metadata": {},
     "outputs": [],
     "prompt_number": 2
    },
    {
     "cell_type": "code",
     "collapsed": false,
     "input": [
      "import itertools\n",
      "\n",
      "def out_of_core_predictions( iterable, estimator=None, vectorizer=None, threshold=1 ):\n",
      "    iterable_headers, iterable_seqs = itertools.tee( iterable )\n",
      "    \n",
      "    from eden.graph import OutOfCorePredictor\n",
      "    out_of_core_predictor = OutOfCorePredictor( estimator=estimator, vectorizer=vectorizer )\n",
      "\n",
      "    #extract oneline fasta\n",
      "    from eden.modifier.fasta import fasta_to_fasta, one_line_modifier\n",
      "    headers = fasta_to_fasta( iterable_headers, modifier=one_line_modifier, one_line=True, one_line_separator=' ' )\n",
      "\n",
      "    #extract graphs\n",
      "    graphs = pre_process( iterable_seqs )\n",
      "    predictions = out_of_core_predictor.predict(graphs)\n",
      "\n",
      "    for header, prediction in itertools.izip(headers, predictions):\n",
      "        if prediction >= threshold:\n",
      "            yield header, prediction"
     ],
     "language": "python",
     "metadata": {},
     "outputs": [],
     "prompt_number": 3
    },
    {
     "cell_type": "code",
     "collapsed": false,
     "input": [
      "def describe(X):\n",
      "    print 'Instances: %d ; Features: %d with an avg of %d features per instance' % (X.shape[0], X.shape[1],  X.getnnz()/X.shape[0])"
     ],
     "language": "python",
     "metadata": {},
     "outputs": [],
     "prompt_number": 4
    },
    {
     "cell_type": "code",
     "collapsed": false,
     "input": [
      "def rfam_url(family_id):\n",
      "    return 'http://rfam.xfam.org/family/%s/alignment?acc=%s&format=fastau&download=0'%(family_id,family_id)"
     ],
     "language": "python",
     "metadata": {},
     "outputs": [],
     "prompt_number": 5
    },
    {
     "cell_type": "code",
     "collapsed": false,
     "input": [
      "def pre_process( data ):\n",
      "    from eden.converter.rna.rnashapes import rnashapes_to_eden\n",
      "    graphs = rnashapes_to_eden( data, shape_type = 5, energy_range = 35, max_num = 4 )\n",
      "    return graphs"
     ],
     "language": "python",
     "metadata": {},
     "outputs": [],
     "prompt_number": 7
    },
    {
     "cell_type": "code",
     "collapsed": false,
     "input": [
      "rfam_id = 'RF00871'\n",
      "rfam_id = 'RF00005'"
     ],
     "language": "python",
     "metadata": {},
     "outputs": [],
     "prompt_number": 8
    },
    {
     "cell_type": "code",
     "collapsed": false,
     "input": [
      "def model(rfam_id):\n",
      "    \n",
      "    from eden.graph import Vectorizer\n",
      "    vectorizer = Vectorizer( r=2, d=2 )\n",
      "    n_jobs = 1\n",
      "\n",
      "    graphs = pre_process( rfam_url( rfam_id ) )\n",
      "    X1 = vectorizer.transform( graphs, n_jobs = n_jobs )\n",
      "    describe(X1)\n",
      "    \n",
      "    from eden.modifier.fasta import fasta_to_fasta, shuffle_modifier\n",
      "    graphs = pre_process( fasta_to_fasta( rfam_url( rfam_id ) , modifier=shuffle_modifier, times=2, order=2) )\n",
      "    X2 = vectorizer.transform( graphs, n_jobs = n_jobs )\n",
      "    describe(X2)\n",
      "    \n",
      "    from eden.util import fit_estimator\n",
      "    estimator = fit_estimator( positive_data_matrix=X1, negative_data_matrix=X2 )\n",
      "    \n",
      "    return estimator, vectorizer"
     ],
     "language": "python",
     "metadata": {},
     "outputs": []
    },
    {
     "cell_type": "code",
     "collapsed": false,
     "input": [
      "estimator, vectorizer = model(rfam_id)"
     ],
     "language": "python",
     "metadata": {},
     "outputs": []
    },
    {
     "cell_type": "code",
     "collapsed": false,
     "input": [
      "#use the compute_max_subarrays to return an iterable fasta containing the single motives \n",
      "from eden.util.iterated_maximum_subarray import compute_max_subarrays\n",
      "\n",
      "def motives(iterable, min_subarray_size = None, max_subarray_size = None):\n",
      "    counter=0\n",
      "    for graph in iterable:\n",
      "        subarrays = compute_max_subarrays(graph=graph, min_subarray_size=min_subarray_size, max_subarray_size=max_subarray_size)\n",
      "        if subarrays:\n",
      "            for subarray in subarrays:\n",
      "                yield '>ID'+str(counter)\n",
      "                yield ''.join(subarray['subarray'])\n",
      "                counter += 1"
     ],
     "language": "python",
     "metadata": {},
     "outputs": [],
     "prompt_number": 20
    },
    {
     "cell_type": "code",
     "collapsed": false,
     "input": [
      "from eden.graph import Annotator\n",
      "annotator = Annotator( estimator = estimator, vectorizer = vectorizer )\n",
      "\n",
      "graphs = pre_process( rfam_url( rfam_id ) )\n",
      "graphs = annotator.transform( graphs )\n",
      "\n",
      "iterable = motives(graphs, min_subarray_size=6, max_subarray_size=20)\n",
      "\n",
      "from eden.modifier.fasta import fasta_to_fasta, one_line_modifier\n",
      "iterable = fasta_to_fasta(iterable, modifier=one_line_modifier, sequence_only=True)"
     ],
     "language": "python",
     "metadata": {},
     "outputs": [],
     "prompt_number": 61
    },
    {
     "cell_type": "code",
     "collapsed": false,
     "input": [
      "%%time\n",
      "motif_list = set(iterable)"
     ],
     "language": "python",
     "metadata": {},
     "outputs": [
      {
       "output_type": "stream",
       "stream": "stdout",
       "text": [
        "CPU times: user 2min 19s, sys: 7.96 s, total: 2min 27s\n",
        "Wall time: 2min 55s\n"
       ]
      }
     ],
     "prompt_number": 62
    },
    {
     "cell_type": "code",
     "collapsed": false,
     "input": [
      "from collections import defaultdict\n",
      "\n",
      "from eden.modifier.fasta import fasta_to_fasta, one_line_modifier\n",
      "iterable = fasta_to_fasta(rfam_url( rfam_id ), modifier=one_line_modifier, sequence_only=True)\n",
      "\n",
      "motif_counter = defaultdict(int)\n",
      "for seq in iterable:\n",
      "    for motif in motif_list:\n",
      "        if seq.find(motif) != -1:\n",
      "            motif_counter[motif] += 1"
     ],
     "language": "python",
     "metadata": {},
     "outputs": [],
     "prompt_number": 63
    },
    {
     "cell_type": "code",
     "collapsed": false,
     "input": [
      "motif_support_threshold = 30\n",
      "selcted_motifs = [motif for motif in motif_counter if motif_counter[motif] >= motif_support_threshold]    "
     ],
     "language": "python",
     "metadata": {},
     "outputs": [],
     "prompt_number": 64
    },
    {
     "cell_type": "code",
     "collapsed": false,
     "input": [
      "regex=''\n",
      "for m in sorted(selcted_motifs): regex += '|' + m\n",
      "regex = regex[1:]\n",
      "print regex"
     ],
     "language": "python",
     "metadata": {},
     "outputs": [
      {
       "output_type": "stream",
       "stream": "stdout",
       "text": [
        "AGGUUCAAAUCCU|AGGUUCGA|AGGUUCGAAUCCU|CAAAUCCU|GGGUUCGA|GGUUCAAAU|GGUUCAAAUCCC|GGUUCAAAUCCU|GGUUCAAU|GGUUCGAAU|GGUUCGAAUCCC|GGUUCGAAUCCCU|GGUUCGAAUCCCUC|GGUUCGAAUCCU|GGUUCGAU|GUUCAAAU|GUUCGAAU|UAGCUUAA|UUCAAAUCCU|UUCGAAUCCCU\n"
       ]
      }
     ],
     "prompt_number": 65
    },
    {
     "cell_type": "code",
     "collapsed": false,
     "input": [
      "from eden.modifier.fasta import fasta_to_fasta, keep_modifier, shuffle_modifier\n",
      "\n",
      "def motives_discriminative_performance_evaluation(data, regex):\n",
      "    iterable = fasta_to_fasta( data , modifier=keep_modifier, regex=regex )\n",
      "    true_positive_count = sum(1 for x in iterable)\n",
      "    iterable = fasta_to_fasta( data )\n",
      "    positive_count = sum(1 for x in iterable)\n",
      "    iterable = fasta_to_fasta( data , modifier=shuffle_modifier, times=20, order=2)\n",
      "    it1,it2 = itertools.tee(iterable)\n",
      "    negative_count = sum(1 for x in it1)\n",
      "    iterable = fasta_to_fasta( it2 , modifier=keep_modifier, regex=regex )\n",
      "    false_positive_count = sum(1 for x in iterable)\n",
      "    false_negative_count =  positive_count - true_positive_count\n",
      "    true_negative_count = negative_count - false_negative_count\n",
      "\n",
      "    recall = true_positive_count/float(true_positive_count + false_negative_count)\n",
      "    precision = true_positive_count/float(true_positive_count + false_positive_count)\n",
      "    f1 = 2 * precision * recall / (precision + recall)\n",
      "\n",
      "    print 'pos:%d neg:%d TP:%d FP:%d TN:%d FN:%d' % (positive_count, negative_count, true_positive_count, false_positive_count, true_negative_count, false_negative_count)\n",
      "    print 'precision:%0.3f recall:%0.3f f1:%0.3f' % (precision, recall, f1)\n",
      "    print 'dataset reduction: from %d to %d = %0.3f' % (negative_count, false_positive_count, false_positive_count/float(negative_count))"
     ],
     "language": "python",
     "metadata": {},
     "outputs": [],
     "prompt_number": 66
    },
    {
     "cell_type": "code",
     "collapsed": false,
     "input": [
      "motives_discriminative_performance_evaluation(rfam_url( rfam_id ), regex)"
     ],
     "language": "python",
     "metadata": {},
     "outputs": [
      {
       "output_type": "stream",
       "stream": "stdout",
       "text": [
        "pos:1908 neg:38160 TP:1088 FP:364 TN:37340 FN:820\n",
        "precision:0.749 recall:0.570 f1:0.648\n",
        "dataset reduction: 0.010\n"
       ]
      }
     ],
     "prompt_number": 67
    },
    {
     "cell_type": "code",
     "collapsed": false,
     "input": [
      "#extract statistics on the average lenght of the sequences in the given Rfam family\n",
      "import numpy\n",
      "from eden.modifier.fasta import fasta_to_fasta, one_line_modifier\n",
      "\n",
      "low = 25\n",
      "high = 75\n",
      "\n",
      "iterable = fasta_to_fasta( rfam_url( rfam_id ), modifier=one_line_modifier, sequence_only=True)\n",
      "len_seqs = [len(seq) for seq in iterable]\n",
      "lower_quantile = int(numpy.percentile(len_seqs, low))\n",
      "upper_quantile = int(numpy.percentile(len_seqs, high))\n",
      "\n",
      "num_seqs = len(len_seqs)\n",
      "\n",
      "print 'Rfam family %s has %d sequences' % (rfam_id, num_seqs)\n",
      "print 'more than %d%% of the sequences have lenght smaller than: %d ' % (high, upper_quantile)\n",
      "print 'less then %d%% of the sequences have lenght smaller than: %d ' % (low, lower_quantile)"
     ],
     "language": "python",
     "metadata": {},
     "outputs": [
      {
       "output_type": "stream",
       "stream": "stdout",
       "text": [
        "Rfam family RF00005 has 954 sequences\n",
        "more than 75% of the sequences have lenght smaller than: 74 \n",
        "less then 25% of the sequences have lenght smaller than: 71 \n"
       ]
      }
     ],
     "prompt_number": 72
    },
    {
     "cell_type": "code",
     "collapsed": false,
     "input": [
      "from eden.modifier.fasta import fasta_to_fasta, replace_modifier, split_regex_modifier, split_modifier, keep_modifier\n",
      "\n",
      "def genome_fasta_pre_processing(uri, min_lenght=None, max_lenght=None ):\n",
      "    #replace Ts with Us\n",
      "    iterable = fasta_to_fasta(uri, modifier=replace_modifier, regex='T', replacement='U')\n",
      "    #split out sequences that are not stretches of Ns  \n",
      "    iterable = fasta_to_fasta(iterable, modifier=split_regex_modifier, regex=\"([^N]+)\" )\n",
      "    #filter out small sequences, i.e. smaller than lower_quantile\n",
      "    iterable = fasta_to_fasta(iterable, modifier=keep_modifier, regex=\"(.{%d,})\"%min_lenght )\n",
      "    #split large sequences into overlapping windows of size comparable with the Rfam average seq lenght\n",
      "    iterable = fasta_to_fasta( iterable, modifier=split_modifier, window=max_lenght, step=int(max_lenght / 3) )\n",
      "    return iterable"
     ],
     "language": "python",
     "metadata": {},
     "outputs": [],
     "prompt_number": 73
    },
    {
     "cell_type": "code",
     "collapsed": false,
     "input": [
      "iterable = genome_fasta_pre_processing('dm6.fa.masked', min_lenght=lower_quantile, max_lenght=upper_quantile)\n",
      "iterable = fasta_to_fasta(iterable, modifier=keep_modifier, regex=regex )"
     ],
     "language": "python",
     "metadata": {},
     "outputs": [],
     "prompt_number": 74
    },
    {
     "cell_type": "code",
     "collapsed": false,
     "input": [
      "%%time\n",
      "from datetime import datetime\n",
      "def parse_header(header):\n",
      "    '''process header to extract chromosome, start and end position'''\n",
      "    items = header[1:].split()\n",
      "    chromosome = items[0]\n",
      "    start = int(items[2])+int(items[4])\n",
      "    end = start + int(items[6])\n",
      "    seq = items[9]\n",
      "    id = '%s %d %d %s'%(chromosome,start,end,seq)\n",
      "    return id\n",
      "\n",
      "import sys\n",
      "f = open('result','a')\n",
      "print >> f, datetime.now() \n",
      "results = []\n",
      "for header, prediction in out_of_core_predictions( iterable, estimator=estimator, vectorizer=vectorizer, threshold=1 ):\n",
      "    id = parse_header( header )\n",
      "    #save and display results\n",
      "    results.append([id, prediction])\n",
      "    result_text = 'score: %0.1f %s' % (prediction,id)\n",
      "    print result_text\n",
      "    sys.stdout.flush()\n",
      "    print >> f, result_text\n",
      "    f.flush()"
     ],
     "language": "python",
     "metadata": {},
     "outputs": [
      {
       "output_type": "stream",
       "stream": "stdout",
       "text": [
        "score: 1.7 chr2L 3930628 3931636 GCGCAUUGGAUAGCGCGUUGGACUUCUAAUCCAAAGGUGGCGGGUUCGAUUCCCGCAAGGGUUGAAGUACUCCU\n"
       ]
      },
      {
       "output_type": "stream",
       "stream": "stdout",
       "text": [
        "score: 1.4 chr2L 4015110 4019934 CCAUGGUGUAAUGGUUAGCACUCAGGACUCUGAAUCCUGCGAUCCGAGUUCAAAUCUCGGUGGAACCUGAUAAG\n"
       ]
      },
      {
       "output_type": "stream",
       "stream": "stdout",
       "text": [
        "score: 1.2 chr2L 4015110 4020318 CAUGGUGUAAUGGUUAGCACUCAGGACUCUGAAUCCUGCGAUCCGAGUUCAAAUCUCGGUGGAACCUGAGUGAA\n"
       ]
      },
      {
       "output_type": "stream",
       "stream": "stdout",
       "text": [
        "score: 1.4 chr2L 4059715 4066459 UCGGUGGUUCAGUGGUAGAAUGCUCGCCUGCCACGCGGGCGGCCCGGGUUCGAUUCCCGGCCGAUGCAACGUUU\n"
       ]
      },
      {
       "output_type": "stream",
       "stream": "stdout",
       "text": [
        "score: 1.1 chr2L 4948826 4949594 CCAAUAAGCGAUAAUUGUAGCUUAAUUUAUUAUAAAUAAAUUCAAAAGCGCCAUAAAGGCGAGAACAAUCUCGC\n"
       ]
      },
      {
       "output_type": "stream",
       "stream": "stdout",
       "text": [
        "score: 1.5 chr2L 5884746 5885682 AUUUAGCAAACAGUAGUGUUCAAAUUACUGUUUCCAAUAGCUUAAAAGUAACUUAACUUGUUACUUGAACUUUU\n"
       ]
      },
      {
       "output_type": "stream",
       "stream": "stdout",
       "text": [
        "score: 1.2 chr2L 6271781 6272357 GUUGGUGGCUUAAAAUAAUGCUUGGCUUUCUGAACAGAAAUAAUUGCAUUAAAAUUCUGAAAGUUCGAAUUUUA\n"
       ]
      },
      {
       "output_type": "stream",
       "stream": "stdout",
       "text": [
        "score: 1.3 chr2L 11530464 11532096 UGUUCAAAUAGAUUUCGGACAAAACGUGACGUUCAUCUCGAAAUCUGAUUCGCGACCGUUGGUUUUUUCGAAAC\n"
       ]
      },
      {
       "output_type": "stream",
       "stream": "stdout",
       "text": [
        "score: 1.7 chr2L 15745229 15746021 GCAUCGGUGGUUCAGUGGUAGAAUGCUCGCCUGCCACGCGGGCGGCCCGGGUUCGAUUCCCGGCCGAUGCAAAA\n"
       ]
      },
      {
       "output_type": "stream",
       "stream": "stdout",
       "text": [
        "score: 1.3 chr2L 16963999 16965583 UCAACGUCCUCGAUAGUAUAGUGGUUAGUAUCCCCGCCUGUCACGCGGGAGACCGGGGUUCAAUUCCCCGUCGG\n"
       ]
      },
      {
       "output_type": "stream",
       "stream": "stdout",
       "text": [
        "score: 1.2 chr2L 17083864 17084968 GUAGACAACAUCCUCGAUAGUAUAGUGGUUAGUAUCCCCGCCUGUCACGCGGGAGACCGGGGUUCAAUUCCCCG\n"
       ]
      },
      {
       "output_type": "stream",
       "stream": "stdout",
       "text": [
        "score: 1.3 chr2L 17366018 17369042 AGUCCUCGAUAGUAUAGUGGUUAGUAUCCCCGCCUGUCACGCGGGAGACCGGGGUUCAAUUCCCCGUCGGGGAG\n"
       ]
      },
      {
       "output_type": "stream",
       "stream": "stdout",
       "text": [
        "score: 1.4 chr2L 18972512 18973424 UACAUAGUAAGCGGAAUUGGAAUUUCUUGGGAAAUUUGCUUCUAGCUUAAACUAUGUUUUAAGCUAAAAAUCAG\n"
       ]
      },
      {
       "output_type": "stream",
       "stream": "stdout",
       "text": [
        "score: 1.0 chr2L 18972512 18973448 UCUUGGGAAAUUUGCUUCUAGCUUAAACUAUGUUUUAAGCUAAAAAUCAGCAAAAUUAAAGUCCUUGCCCCAAA\n"
       ]
      },
      {
       "output_type": "stream",
       "stream": "stdout",
       "text": [
        "score: 1.2 chr2L 19668437 19669205 GUCACUCGAGUGAGUAGUUGGUAGCUUAAAUCCGAGAAUUGUUCUCGUUUAGAAAGCCCAACUCAGUUGGGAGG\n"
       ]
      },
      {
       "output_type": "stream",
       "stream": "stdout",
       "text": [
        "score: 1.5 chr2L 20577008 20578808 UAACAAAAGGUUCAAAUUUUAUUAACUUGAAUAUCGAGUACAAUAAAUCGUUUAAUUUAAAUGAAACCCCUUUU\n"
       ]
      },
      {
       "output_type": "stream",
       "stream": "stdout",
       "text": [
        "score: 1.1 chr2L 21286394 21289370 UUUCGAAGGAUGUUCGAUCCUUGGUCUACGAUCGCGUAAUCGAUUUGUGCGGUUCAAAUUGAACUUUUAGCUUA\n"
       ]
      },
      {
       "output_type": "stream",
       "stream": "stdout",
       "text": [
        "score: 1.1 chr2L 22310392 22311352 UGCAAAUUCACAUACAGUGUGUACUCGAUAAGUAAAAGCAAUCGAAUAGCUUAAUUUAAAUGAAUUGCAUUGUA\n"
       ]
      },
      {
       "output_type": "stream",
       "stream": "stdout",
       "text": [
        "score: 1.0 chr2L 24954891 24956907 GCAAAAUCAAUUUGAAUACCCAGCAAUCCAAUGAAAUAAAACAUAGGUUCGAGCAAUAAUUGAAUGCUUUAAGC\n"
       ]
      },
      {
       "output_type": "stream",
       "stream": "stdout",
       "text": [
        "score: 1.0 chr2L 27203300 27204068 GACCGAAAAUGGUUUCAUAGUAAAUUGGUUCAAUUGCUUAAUUAUAAUUUACUAACACAAUGAAAUACAUCGGU\n"
       ]
      },
      {
       "output_type": "stream",
       "stream": "stdout",
       "text": [
        "score: 1.3 chr2L 29038405 29038741 ACGAAGCAUCGGUGGUUCAGUGGUAGAAUGCUCGCCUGCCACGCGGGCGGCCCGGGUUCGAUUCCCGGCCGAUG\n"
       ]
      },
      {
       "output_type": "stream",
       "stream": "stdout",
       "text": [
        "score: 1.0 chr2L 29351756 29352116 CAAAUUCAAAAGCCAAACUUCUCCAAUGCGCGGUUCAAAUUGAACGCAAAAAAACAAUGAGAAUUGAUUUGAAA\n"
       ]
      },
      {
       "output_type": "stream",
       "stream": "stdout",
       "text": [
        "score: 1.1 chr2L 29355813 29357205 AUCGGGGAAUUGGGUGGUUCGAUGGAUUUGGUGGUUUGGUGGUUGGGUAGUCCCAACACAAGUACACCCACCCG\n"
       ]
      },
      {
       "output_type": "stream",
       "stream": "stdout",
       "text": [
        "score: 1.6 chr2R 17368489 17369641 GAUGGCCGAGUGGUCUAAGGCGCUGCGUUCAGGUCGCAGUCUACUCUGUAGGCGUGGGUUCGAAUCCCACUUCU\n"
       ]
      },
      {
       "output_type": "stream",
       "stream": "stdout",
       "text": [
        "score: 1.1 chr2R 24672792 24672960 CGAUGUAGCCGUGAUCGUCUAGUGGUUAGGACCCCACGUUGUGGCCGUGGUAACCCAGGUUCGAAUCCUGGUCA\n"
       ]
      },
      {
       "output_type": "stream",
       "stream": "stdout",
       "text": [
        "score: 1.7 chr2R 24672792 24672984 GUUAGGACCCCACGUUGUGGCCGUGGUAACCCAGGUUCGAAUCCUGGUCACGGCAAUGUUGAAACAAACAUUGU\n"
       ]
      },
      {
       "output_type": "stream",
       "stream": "stdout",
       "text": [
        "score: 1.5 chr2R 24674886 24675006 AUCCAAUGUAGCCGUGAUCGUCUAGUGGUUAGGACCCCACGUUGUGGGUUACCACACCCAGGUUCGAAUCCUGG\n"
       ]
      },
      {
       "output_type": "stream",
       "stream": "stdout",
       "text": [
        "score: 2.2 chr2R 24674886 24675030 GUGGUUAGGACCCCACGUUGUGGGUUACCACACCCAGGUUCGAAUCCUGGUCACGGCAAUGUUCAAAUAAACAU\n"
       ]
      },
      {
       "output_type": "stream",
       "stream": "stdout",
       "text": [
        "score: 1.1 chr2R 26869775 26871071 AAAGUGUUUGUGAAUGAGCGUUCUGGUCCUCUUUGAGGGCGUGGGUUCGAAUCCCACUUCUGACAAAUAUUUUU\n"
       ]
      },
      {
       "output_type": "stream",
       "stream": "stdout",
       "text": [
        "score: 1.2 chr2R 26869775 26876207 GGCCCAUUAGCUCAGUUGGUUAGAGCGUCGUGCUAAUAACGCGAAGGUCGCGGGUUCGAUCCCCUCAUGGGCCA\n"
       ]
      },
      {
       "output_type": "stream",
       "stream": "stdout",
       "text": [
        "score: 1.2 chr2R 28612173 28612509 ACGGUUCGGUCAUGCCCGAUAAACUGAUUGAGGCCCAAUUCGAUUUGGCCUAAAGGGGUUCAAGUUCGAAUUUA\n"
       ]
      },
      {
       "output_type": "stream",
       "stream": "stdout",
       "text": [
        "score: 1.7 chr2R 32441195 32441315 GAUAGCCUCCCAUAUGGUCUAGUGGCUAGGAUAUCUGGCUUUCACCCAGAAGGCCCGGGUUCGAUUCCCGGUAU\n"
       ]
      },
      {
       "output_type": "stream",
       "stream": "stdout",
       "text": [
        "score: 1.2 chr2R 33422282 33422330 ACAUGAAUUAGCUUAAAACAUUAAGCUAUAGCUUGAUACGAAUUUUCCUAAUUCUCAGACUUCGAAGCGGAGCU\n"
       ]
      },
      {
       "output_type": "stream",
       "stream": "stdout",
       "text": [
        "score: 1.0 chr2R 33489548 33489812 AAAAGGAGAAAAGUGAAAAAUGGUUCGAUUUCCAUCAAUUUGGCUUCGAUUAAAGCAUUAAUCAAAACUCUGCU\n"
       ]
      },
      {
       "output_type": "stream",
       "stream": "stdout",
       "text": [
        "score: 1.1 chr2R 34288099 34291171 GUGGCCGAGCGGUCUAAGGCGCUGGUUUAAGGCACCAGUCUCCUCGGAGGCGUGGGUUCGAAUCCCACCGCUGC\n"
       ]
      },
      {
       "output_type": "stream",
       "stream": "stdout",
       "text": [
        "score: 1.0 chr2R 35557647 35557791 UCCCGAUCCUUUUAUAAUGGAUUCCACUCUUUUAUCCAGCGUAAAGGUUCGAAUGUAAUCUAUCAAAAGGAACG\n"
       ]
      },
      {
       "output_type": "stream",
       "stream": "stdout",
       "text": [
        "score: 1.6 chr2R 37542535 37543327 UGGCCGAGCGGUCUAAGGCGCUGGUUUAAGGCACCAGUCUCCUCGGAGGCGUGGGUUCGAAUCCCACCGCUGCC\n"
       ]
      },
      {
       "output_type": "stream",
       "stream": "stdout",
       "text": [
        "score: 1.4 chr2R 37604551 37604815 CGCGUUUUUUCCCUAUUAGUUCGAAUAGCGAAAAGCGAAACGAUUACGGAUCCAGAAAUUGAUUCUGACCGUAG\n"
       ]
      },
      {
       "output_type": "stream",
       "stream": "stdout",
       "text": [
        "score: 1.1 chr2R 38830673 38832161 AGCAGUCGUGGCCGAGUGGUUAAGGCGUCUGACUCGAAAUCAGAUUCCCUCUGGGAGCGUAGGUUCGAAUCCUA\n"
       ]
      },
      {
       "output_type": "stream",
       "stream": "stdout",
       "text": [
        "score: 1.0 chr2R 38830673 38832185 GCGUCUGACUCGAAAUCAGAUUCCCUCUGGGAGCGUAGGUUCGAAUCCUACCGGCUGCGAUGAAGUGUAUAUUU\n"
       ]
      },
      {
       "output_type": "stream",
       "stream": "stdout",
       "text": [
        "score: 1.5 chr2R 40465426 40468594 CAUCGGUGGUUCAGUGGUAGAAUGCUCGCCUGCCACGCGGGCGGCCCGGGUUCGAUUCCCGGCCGAUGCAUACG\n"
       ]
      },
      {
       "output_type": "stream",
       "stream": "stdout",
       "text": [
        "score: 1.5 chr2R 46142281 46146745 UUGCGGUGUCCGAGUGGUUAAGGAGAUGGACUUGAAAUCCAUUGGGUUCUACCCGCGCAGGUUCGAAUCCUGUC\n"
       ]
      },
      {
       "output_type": "stream",
       "stream": "stdout",
       "text": [
        "score: 1.2 chr2R 47268129 47268945 CCGAUUGAAAGAGAUCUUUCAAUCCAAGCUCUUUGAUGGCGUUCAUAUGUAAAUAGAUUGUUCAAAUAUUUGCA\n"
       ]
      },
      {
       "output_type": "stream",
       "stream": "stdout",
       "text": [
        "score: 1.0 chr2R 48473259 48473403 GUAUCUCGUUCAAAUCGUUCAAAUAUUCAAAGUCAUUGGGGUUUAAAUGCUUUGAAUGUCAGAUGCCGAAUGUU\n"
       ]
      },
      {
       "output_type": "stream",
       "stream": "stdout",
       "text": [
        "score: 1.4 chr3L 1367892 1368156 CUCACUAGAAACUUGGUUUGAUUGCGUUUAUUUGGUUCGAAUACAAAUUAUGUUCACCUUAGAUCUAAUGAUUG\n"
       ]
      },
      {
       "output_type": "stream",
       "stream": "stdout",
       "text": [
        "score: 1.2 chr3L 2762730 2763378 AAGGCCCGGGUUCAAUUCCCGGUAUGGGAAAUAUGGUUCAAUUCAUUUUUUGAAUAAACAAAUAAUUUGAUGGU\n"
       ]
      },
      {
       "output_type": "stream",
       "stream": "stdout",
       "text": [
        "score: 1.1 chr3L 2762730 2763930 GUCCCAUAUUGUCUAGUGGUUAGGAUAUCCGGCUCUCACCCGGAAGGCCCGGGUUCAAUUCCCGGUAUGGGAAA\n"
       ]
      },
      {
       "output_type": "stream",
       "stream": "stdout",
       "text": [
        "score: 1.1 chr3L 2799395 2804147 UCCCAUAUUGUCUAGUGGUUAGGAUAUCCGGCUCUCACCCGGAAGGCCCGGGUUCAAUUCCCGGUAUGGGAAAC\n"
       ]
      },
      {
       "output_type": "stream",
       "stream": "stdout",
       "text": [
        "score: 1.1 chr3L 4535944 4553512 GGGGUAGAGCAUUCGACUGCAGAUCGAGAGGUCCCCGGUUCAAAUCCGGGUGCCCCCUGGAACUACAUUUUUUG\n"
       ]
      },
      {
       "output_type": "stream",
       "stream": "stdout",
       "text": [
        "score: 1.6 chr3L 5674108 5674420 UUCGAUCGAAAGCUUAUCGUUCGAAUUAAGAGCAACAAUUGUUGCCCUUUUUGGGUGACAACAAAAGCAAUUCG\n"
       ]
      },
      {
       "output_type": "stream",
       "stream": "stdout",
       "text": [
        "score: 1.6 chr3L 9023131 9023539 UUUCAGAUUAAGACUUUAUUUCAUAAUGCAAAUAAUAUCUCCAAAACUUAAUUUGGUUCAAAUAUCUUCCAAUA\n"
       ]
      },
      {
       "output_type": "stream",
       "stream": "stdout",
       "text": [
        "score: 1.3 chr3L 12395333 12396149 UUAAGUUAUUCGAUGCAGUUCGAAUGUUAAGUUAACAUUGAAAAUCUAAGCUUAUAGAAAUCGAAAAAAACAGC\n"
       ]
      },
      {
       "output_type": "stream",
       "stream": "stdout",
       "text": [
        "score: 1.3 chr3L 13758934 13759102 CUAUUCGCGUAGGUGGUUGGGUUCAAAUGCUUCCCGAAACUAAUGAGAAAUUCAUAAGUUGUCCACCAACAACC\n"
       ]
      },
      {
       "output_type": "stream",
       "stream": "stdout",
       "text": [
        "score: 1.2 chr3L 13907906 13911170 GUUAAUAUCGAUUGGUUCGAUAGGUUAGGUUUUCUGGAAACAUCGAUUGAAUUUUCUAGAAACGAUCACAACGA\n"
       ]
      },
      {
       "output_type": "stream",
       "stream": "stdout",
       "text": [
        "score: 1.3 chr3L 20579061 20579277 ACCAAUUAUAAGAAUGAUUAGCUUAAAGAUUUGAAGAAGUCUUAACUUGACGAGCACAAAUAAUAAUUGUAAAC\n"
       ]
      },
      {
       "output_type": "stream",
       "stream": "stdout",
       "text": [
        "score: 1.0 chr3L 21226716 21228516 CACGUGAAAAGCUUGUGGUUCAAUUUCAAUUUGUUUGAGAACAAAAGAUUUAAUUGAUUUAUAUUCGCAUGGUG\n"
       ]
      },
      {
       "output_type": "stream",
       "stream": "stdout",
       "text": [
        "score: 1.0 chr3L 25553027 25557875 UUCCUGUUCAAAUUGGUAUUUGUAAGGUAUCUUAGCUUGAAGAAACAUUUGUGUUGACUGUUCAAGAUAAGUUA\n"
       ]
      },
      {
       "output_type": "stream",
       "stream": "stdout",
       "text": [
        "score: 1.2 chr3L 28465881 28468761 GGAAUUCCUAAUGAUGGAAUCCCAAAUCCUGGCAUUCCUAAUCAUGGAAUUCCAAAUCCUGGAAUCCCUAAUCA\n"
       ]
      },
      {
       "output_type": "stream",
       "stream": "stdout",
       "text": [
        "score: 1.0 chr3L 28879535 28886111 AUGAGAAACACUAUUCGAUUCAAUCGUAAUAUUCUGUGGAAAGCUUUUUAGCUUAAGCUUUUCCUAGAACUGAG\n"
       ]
      },
      {
       "output_type": "stream",
       "stream": "stdout",
       "text": [
        "score: 1.1 chr3L 32803924 32804788 UAGUUGGGGCUUAGAAACCCAAAAGCCCCCUGCCAUUCGUUUGAUGUUUGAUGGCUUCGAAGCGUUCGAAUCGA\n"
       ]
      },
      {
       "output_type": "stream",
       "stream": "stdout",
       "text": [
        "score: 1.1 chr3L 33489466 33490042 AAAGUUCGAUUGGGCUCGGUUCGAUGCUGUCGUUAAAUUCAAUUCAAUUAAUUUCGAUGAAAAUUUAAUAGAGA\n"
       ]
      },
      {
       "output_type": "stream",
       "stream": "stdout",
       "text": [
        "score: 1.1 chr3L 35836162 35836426 UAGUUCAAAUUCUAGGGUUACACGACCGCGAUUUGCAUCGCAUUCGAAUUCAUUGUCAAUGAAAUGGGUGCAAA\n"
       ]
      },
      {
       "output_type": "stream",
       "stream": "stdout",
       "text": [
        "score: 1.1 chr3L 37027285 37028701 UUAAAUGCUCGAUGAUAAAACGUUCAAAUUUUGAUUUAAUUUGAACAUAACUAUAUAUACAAAAGCAUUUAGGU\n"
       ]
      },
      {
       "output_type": "stream",
       "stream": "stdout",
       "text": [
        "score: 1.2 chr3L 37702117 37702813 UAACGACUCGAAUUUACAAAAGGGUUAGUUCCUAAGCUGUUCGAAUGCAACACAUACUGCAUUAAUUCGACUUG\n"
       ]
      },
      {
       "output_type": "stream",
       "stream": "stdout",
       "text": [
        "score: 1.4 chr3L 45686170 45687274 GAGUGGUCUAAGGCGCUGCGUUCAGGUCGCAGUCUACUCUGUAGGCGUGGGUUCGAAUCCCACUUCUGACAAAA\n"
       ]
      },
      {
       "output_type": "stream",
       "stream": "stdout",
       "text": [
        "score: 1.0 chr3L 50573403 50573403 AGUUAAUGUUUCAAAUACUAAAAUUUGGUUUAUUUAAACUCCACAGUAGUGGUUCUUUAUUCAAGGUUCGAUUU\n"
       ]
      },
      {
       "output_type": "stream",
       "stream": "stdout",
       "text": [
        "score: 1.1 chr3L 52029797 52031405 ACUUCAGCAUAAAGCUUUGAUCCUUAACAUUACUGAAAGUUCAAAAAGUUCGAAUCAAAAGCUUCUGGCUGAGG\n"
       ]
      },
      {
       "output_type": "stream",
       "stream": "stdout",
       "text": [
        "score: 1.2 chr3R 14261396 14264780 AAACUCGACGUGGCGUCGGUGGUGUAAUGGUUAGCAUAGUUGCCUUCCAAGCAGUUGACCCGGGUUCGAUUCCC\n"
       ]
      },
      {
       "output_type": "stream",
       "stream": "stdout",
       "text": [
        "score: 1.5 chr3R 14261396 14264804 UAAUGGUUAGCAUAGUUGCCUUCCAAGCAGUUGACCCGGGUUCGAUUCCCGGCCGACGCAGUUCACUUUUUGUA\n"
       ]
      },
      {
       "output_type": "stream",
       "stream": "stdout",
       "text": [
        "score: 1.1 chr3R 16156645 16156765 UCAAAGUCUUUAGUUGGAUUUUGACUGAAACAUGGUUAAAAUUCCUAAUGAUAUUCAAAAGGUUCGAUGAGUAA\n"
       ]
      },
      {
       "output_type": "stream",
       "stream": "stdout",
       "text": [
        "score: 1.0 chr3R 21411036 21422364 UAUCCACAAAAUGGGCAAAUCCUCUUCAGGAACCAGCUUUAGCUCCUGGACUAGAGGCGAUUCCUGAAUUCGAU\n"
       ]
      },
      {
       "output_type": "stream",
       "stream": "stdout",
       "text": [
        "score: 1.1 chr3R 26500689 26501577 AAUCUGAAACGAUUUUUUAAGUUCGAAUUCACAAAUCAAAUAAUUUUAAAAAAUUUCUUUUGAAAACAAAAGUA\n"
       ]
      },
      {
       "output_type": "stream",
       "stream": "stdout",
       "text": [
        "score: 1.4 chr3R 27597671 27597743 CGAAAUAGCUCAGUUGGGAGAGCGUUAGACUGAAGAUCUAAAGGUCCCCGGUUCAAUCCCGGGUUUCGGCAAUU\n"
       ]
      },
      {
       "output_type": "stream",
       "stream": "stdout",
       "text": [
        "score: 1.6 chr3R 30761259 30761571 CAGUUCGAAUUGGUGUGCCAGCUAAAAAGCAAGGCGAAUUAAAAUAGAAAUAAUUUUAAUUAAACCUUUGGCAU\n"
       ]
      },
      {
       "output_type": "stream",
       "stream": "stdout",
       "text": [
        "score: 1.2 chr3R 35262855 35263791 GGGUGCGAGAGGUCCCGGGUUCAAAUCCCGGUUGAGCCCUUGUUUAAAAUUUUUGCUCUCUUUUUCCACCCUAA\n"
       ]
      },
      {
       "output_type": "stream",
       "stream": "stdout",
       "text": [
        "score: 1.1 chr3R 35652071 35653415 UCUAGAACAAAAAUCUGGGUUCGAUAAUAGCAUCAUUUAUAUCCUUGGUAACAUGAUCACUCAAAAUUCUAGUA\n"
       ]
      },
      {
       "output_type": "stream",
       "stream": "stdout",
       "text": [
        "score: 1.2 chr3R 36171297 36171945 UUGGCGCGGUUCGAUUAAUUUGUCACUUGGCAAAAACUUAAUUACCCCGAAGAUUGUCAUAGCUGGCUCAGUUG\n"
       ]
      },
      {
       "output_type": "stream",
       "stream": "stdout",
       "text": [
        "score: 1.4 chr3R 36217757 36218261 GGUGUAAUGGUUAGCAUAGUUGCCUUCCAAGCAGUUGACCCGGGUUCGAUUCCCGGCCGACGCAGGUAACUUUU\n"
       ]
      },
      {
       "output_type": "stream",
       "stream": "stdout",
       "text": [
        "score: 1.3 chr3R 41212516 41213164 AAAAACUUUUUGCCAGGUGUGGGGUUCGAACCCACGCUCUCUCACGAGAACCAGAGCUUAAAUCUGGCGCCUUA\n"
       ]
      },
      {
       "output_type": "stream",
       "stream": "stdout",
       "text": [
        "score: 1.1 chr3R 42157970 42160394 AGCAUGGGUAGGUUCAAUGACUUGAACUUGGUAGUGUCGAAUCAAUCCUAGUCUUUGCUAAAAACUGUGAGAAA\n"
       ]
      },
      {
       "output_type": "stream",
       "stream": "stdout",
       "text": [
        "score: 1.6 chr3R 48222589 48226837 GGUUGGCCGAGCGGUCUAAGGCGCCAGAUUUAAGCUCUGGUUCUCGAGAGAGAGCGUGGGUUCGAACCCCACAC\n"
       ]
      },
      {
       "output_type": "stream",
       "stream": "stdout",
       "text": [
        "score: 1.8 chr3R 48222589 48226861 CAGAUUUAAGCUCUGGUUCUCGAGAGAGAGCGUGGGUUCGAACCCCACACCUGGCAAAAGUAAAAUUUGUUUUU\n"
       ]
      },
      {
       "output_type": "stream",
       "stream": "stdout",
       "text": [
        "score: 1.2 chr3R 48530737 48531121 GGUUGGCCGAGCGGUCUAAGGCGCCAGAUUUAAGCUCUGGUUCUCGAGAGGGAGCGUGGGUUCGAACCCCACAC\n"
       ]
      },
      {
       "output_type": "stream",
       "stream": "stdout",
       "text": [
        "score: 1.0 chr3R 48530737 48531145 CAGAUUUAAGCUCUGGUUCUCGAGAGGGAGCGUGGGUUCGAACCCCACACCUGACAAUUGUUGAGUUCCUUUUU\n"
       ]
      },
      {
       "output_type": "stream",
       "stream": "stdout",
       "text": [
        "score: 1.0 chr3R 49112508 49113132 AGUGGUUAGUAUCCCCGCCUGUCACGCGGGAGACCGGGGUUCAAUUCCCCGUCGGGGAGAAUCUGUGAUUCUUU\n"
       ]
      },
      {
       "output_type": "stream",
       "stream": "stdout",
       "text": [
        "score: 1.1 chr3R 49830040 49832800 CAUUCGUAAUCCUCGAUAGUAUAGUGGUUAGUAUCCCCGCCUGUCACGCGGGAGACCGGGGUUCAAUUCCCCGU\n"
       ]
      },
      {
       "output_type": "stream",
       "stream": "stdout",
       "text": [
        "score: 1.2 chr3R 50818593 50819313 CAAACGAUUCUAUUUAACGAGAAUUUCAUGGAAAUUUGGUAAAGUCAAAUGGGUGAAUCACCCAAGUUCAAAUG\n"
       ]
      },
      {
       "output_type": "stream",
       "stream": "stdout",
       "text": [
        "score: 1.1 chr3R 56024588 56025260 CAGAUUACUGAAGCGACAGAUGUAAGCUUGCAAAUCCUCUAAAUAAUUUGAGAUGUUCAAAUCUAAAGAACUUU\n"
       ]
      },
      {
       "output_type": "stream",
       "stream": "stdout",
       "text": [
        "score: 1.2 chr3R 62365972 62374252 AAUCGUGGAUUGACAAAGCUCUUGGUUCGAAUAAGAGGCUUAUCAAAUGAAGCGUUCGGCUCAGUAGAAACAUG\n"
       ]
      },
      {
       "output_type": "stream",
       "stream": "stdout",
       "text": [
        "score: 1.2 chr4 629110 629182 AAAAGAAAAAACCUUUAAUGGUUUUAAGAAUAAUUGUUCGAAUGGAGCUAGUGAACCAAAUUUUCUUUAAGCUA\n"
       ]
      },
      {
       "output_type": "stream",
       "stream": "stdout",
       "text": [
        "score: 1.1 chr4 2324064 2324064 ACGUAGGUUCGAAAAUAAGUUUAUUUUCGUUUCGAUGGCCGACGAAACAAUAUAAUGUUAACAAUUUCAUUGAC\n"
       ]
      },
      {
       "output_type": "stream",
       "stream": "stdout",
       "text": [
        "score: 1.0 chr4 2396309 2396957 ACGAUUUCGAUUUAAAAUCGAAAAACUGGUGCUCCUGUGUUCGAAUUCGUAAGAAUCUUACGAUUUCGAUGUGA\n"
       ]
      },
      {
       "output_type": "stream",
       "stream": "stdout",
       "text": [
        "score: 1.1 chr4 2396309 2396981 ACUGGUGCUCCUGUGUUCGAAUUCGUAAGAAUCUUACGAUUUCGAUGUGAAAUCGAAAAAUUGGUGCUCCGGUU\n"
       ]
      },
      {
       "output_type": "stream",
       "stream": "stdout",
       "text": [
        "score: 1.3 chrX 6860995 6861187 UUUUGAUACAGUUAAGCUUAUUGGGUUCAAUGCAGCUUUAUGUACAAACGUUUCCUUCACUUGAUAACUUGGGC\n"
       ]
      },
      {
       "output_type": "stream",
       "stream": "stdout",
       "text": [
        "score: 1.2 chrX 7639637 7640237 UUCCAUGGUGUAAUGGUUAGCACUCAGGACUCUGAAUCCUGCGAUCCGAGUUCAAAUCUCGGUGGAACCUAACG\n"
       ]
      },
      {
       "output_type": "stream",
       "stream": "stdout",
       "text": [
        "score: 1.3 chrX 12978826 12978994 AGAAUUCCAUUUAGUUCGAAUAGUUCAAAUCUUUAAUUAGCCUUCCCAGAUAAAUAGGUGUUCUAAACUAGCUU\n"
       ]
      },
      {
       "output_type": "stream",
       "stream": "stdout",
       "text": [
        "score: 1.2 chrX 13095360 13095720 UUUCCUAGAAGUCUUUAUUCUAGGUUCGAGUGUGGAUCUCAAAUUGUAUUAUUCGAAUUCGAAUUGAUCCUUUU\n"
       ]
      },
      {
       "output_type": "stream",
       "stream": "stdout",
       "text": [
        "score: 1.0 chrX 13456844 13456916 CUGGCCGAUCGGGUGACAAACCCGACGAGAAUUCGAAAAUUCAAUUUCGAAUCCCUUUUUGCGAACAAUUAACG\n"
       ]
      },
      {
       "output_type": "stream",
       "stream": "stdout",
       "text": [
        "score: 1.1 chrX 14905054 14906902 UGUUUUCUGAGCAAUUCGAAAAGAUUUAAUUAACCAGAAUUAAGCUUGAUGACAAAUCCUCACCACAAAUGAGG\n"
       ]
      },
      {
       "output_type": "stream",
       "stream": "stdout",
       "text": [
        "score: 1.1 chrX 16436252 16436972 AAAGGAAAUGUUAAUUCGGUUCGAAUAUUCCAUAGUGUGGAAUGCAAACUCUAAAUUAAGCUGGAAUCUUUUAA\n"
       ]
      },
      {
       "output_type": "stream",
       "stream": "stdout",
       "text": [
        "score: 1.8 chrX 16507846 16509334 UAACAGGUAAAGCAGCAGCUUAAGUUCGAAAAUGAGUUAAUUUUAAGCAAAAUGUAAUGGUAGCUUAAAAUGUA\n"
       ]
      },
      {
       "output_type": "stream",
       "stream": "stdout",
       "text": [
        "score: 1.2 chrX 21977195 21977531 GACUUCUGAAUUCAUUUAAAGAAGGUCAAAUCCUCUUAAAUUCAAGGUAAUGUGUUCGAGCUAAAACCGAAAAA\n"
       ]
      },
      {
       "output_type": "stream",
       "stream": "stdout",
       "text": [
        "score: 1.1 chrX 28032161 28033265 UGGCCGAGUGGUUAAGGCGUCUGACUCGAAAUCAGAUUCCCUCUGGGAGCGUAGGUUCGAAUCCUACCGGCUGC\n"
       ]
      },
      {
       "output_type": "stream",
       "stream": "stdout",
       "text": [
        "score: 1.2 chrX 28049365 28049365 GCCCUCUUGGGGCGGGUUCAAUGGUCUCAAAAGUUCCUUGCCCCUCUUCAAGUUGAAGCCAAUCAUGUAGCUUC\n"
       ]
      },
      {
       "output_type": "stream",
       "stream": "stdout",
       "text": [
        "score: 1.4 chrX 28209348 28209732 UGGCCGAGCGGUUAAGGCGUCUGACUAGAAAUCAGAUUCCCUCUGGGAGCGUAGGUUCGAAUCCUACCGGCUGC\n"
       ]
      },
      {
       "output_type": "stream",
       "stream": "stdout",
       "text": [
        "score: 1.1 chrX 36944851 36946099 CUUCUUUGGUGAUUAGCUUAAAUUCCAAAAUAAAUCCGUUCAACUUCUAAUGGAAGUGAAUUUGGCUGGCGGUA\n"
       ]
      },
      {
       "output_type": "stream",
       "stream": "stdout",
       "text": [
        "score: 1.2 chrX 38379082 38382826 AAGGUACAGGGUAUGUUCAAAUUGGUGUUCAGAUUAUUCCAAUCUGAACACCAAUUGGGUUGAUUCCUAAAAUA\n"
       ]
      },
      {
       "output_type": "stream",
       "stream": "stdout",
       "text": [
        "score: 1.4 chrX 38722978 38723290 GCGGCUGGAGUUCGAAGUUCGAUUCGGAGAUGACAGGUUCGAUUCAGUUACUCCGAACAUGUUCGAUUCUAGAG\n"
       ]
      },
      {
       "output_type": "stream",
       "stream": "stdout",
       "text": [
        "score: 1.2 chrX 41792802 41793306 GUCCUGGCAAAGCAGGAUUGCCUCGCCGUUCGAUGGGCGGAAGGGAAAUUCCCCUAGCUUAAUUCAUGGGCCAA\n"
       ]
      },
      {
       "output_type": "stream",
       "stream": "stdout",
       "text": [
        "score: 1.0 chrX 42131097 42131145 UGACCCGUUCGGUUCAAUUCCUGUUGUGAACUUAUAACUUAUAAAUGCAAUAGCUACGCAAUUGACGAUGGUCU\n"
       ]
      },
      {
       "output_type": "stream",
       "stream": "stdout",
       "text": [
        "score: 1.4 chrX 45166324 45167140 UAUUUUAGAAAUUAAUAUGUUUUCUAAAAAUUGGUUCGAAUGAAACCUUCAUGUAGAAUCUAUGAAAGGUUUGC\n"
       ]
      },
      {
       "output_type": "stream",
       "stream": "stdout",
       "text": [
        "score: 1.1 chrX 45311083 45311227 UUUCAAUACACAAAGUAAACUUGAAAACUAUGUAGCAAUAAAUUUUUGGCAAUAUUGAAUGGAUUAGCUUAACA\n"
       ]
      },
      {
       "output_type": "stream",
       "stream": "stdout",
       "text": [
        "score: 1.0 chrY 155456 157256 ACGUUUAGAAAGUUCAAAUUUAGACAUAAAAUUUAUUUUUAAAUAAAAACUUGUCAUAAAUUAUGUUUAAAACA\n"
       ]
      },
      {
       "output_type": "stream",
       "stream": "stdout",
       "text": [
        "score: 1.1 chrY 164320 165952 AAAGUUCAAAUUUAGACAUAAAAUUUAUUUUUAAAUAAAAACUUGUCAUAAAUUAUGUUUAAAACACUAAAACU\n"
       ]
      },
      {
       "output_type": "stream",
       "stream": "stdout",
       "text": [
        "CPU times: user 56min 46s, sys: 4min 13s, total: 1h 1min\n",
        "Wall time: 1h 12min 42s\n"
       ]
      }
     ],
     "prompt_number": 75
    }
   ],
   "metadata": {}
  }
 ]
}