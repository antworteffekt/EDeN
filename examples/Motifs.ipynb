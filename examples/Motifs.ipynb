{
 "metadata": {
  "name": "",
  "signature": "sha256:a305c1c0cf325770117f48f787d063d06f17ffda6a7a8dc9fbff2377f9b43075"
 },
 "nbformat": 3,
 "nbformat_minor": 0,
 "worksheets": [
  {
   "cells": [
    {
     "cell_type": "code",
     "collapsed": false,
     "input": [
      "%reload_ext autoreload"
     ],
     "language": "python",
     "metadata": {},
     "outputs": [],
     "prompt_number": 1
    },
    {
     "cell_type": "code",
     "collapsed": false,
     "input": [
      "%autoreload 2"
     ],
     "language": "python",
     "metadata": {},
     "outputs": [],
     "prompt_number": 2
    },
    {
     "cell_type": "code",
     "collapsed": false,
     "input": [
      "import itertools\n",
      "\n",
      "def out_of_core_predictions( iterable, estimator=None, vectorizer=None, threshold=1 ):\n",
      "    iterable_headers, iterable_seqs = itertools.tee( iterable )\n",
      "    \n",
      "    from eden.graph import OutOfCorePredictor\n",
      "    out_of_core_predictor = OutOfCorePredictor( estimator=estimator, vectorizer=vectorizer )\n",
      "\n",
      "    #extract oneline fasta\n",
      "    from eden.modifier.fasta import fasta_to_fasta, one_line_modifier\n",
      "    headers = fasta_to_fasta( iterable_headers, modifier=one_line_modifier, one_line=True, one_line_separator=' ' )\n",
      "\n",
      "    #extract graphs\n",
      "    graphs = pre_process( iterable_seqs )\n",
      "    predictions = out_of_core_predictor.predict(graphs)\n",
      "\n",
      "    for header, prediction in itertools.izip(headers, predictions):\n",
      "        if prediction >= threshold:\n",
      "            yield header, prediction"
     ],
     "language": "python",
     "metadata": {},
     "outputs": [],
     "prompt_number": 3
    },
    {
     "cell_type": "code",
     "collapsed": false,
     "input": [
      "def describe(X):\n",
      "    print 'Instances: %d ; Features: %d with an avg of %d features per instance' % (X.shape[0], X.shape[1],  X.getnnz()/X.shape[0])"
     ],
     "language": "python",
     "metadata": {},
     "outputs": [],
     "prompt_number": 4
    },
    {
     "cell_type": "code",
     "collapsed": false,
     "input": [
      "def rfam_url(family_id):\n",
      "    return 'http://rfam.xfam.org/family/%s/alignment?acc=%s&format=fastau&download=0'%(family_id,family_id)"
     ],
     "language": "python",
     "metadata": {},
     "outputs": [],
     "prompt_number": 5
    },
    {
     "cell_type": "code",
     "collapsed": false,
     "input": [
      "def pre_process( data ):\n",
      "    from eden.converter.rna.rnashapes import rnashapes_to_eden\n",
      "    graphs = rnashapes_to_eden( data, shape_type = 5, energy_range = 35, max_num = 4 )\n",
      "    return graphs"
     ],
     "language": "python",
     "metadata": {},
     "outputs": [],
     "prompt_number": 7
    },
    {
     "cell_type": "code",
     "collapsed": false,
     "input": [
      "rfam_id = 'RF00871'\n",
      "rfam_id = 'RF00005'"
     ],
     "language": "python",
     "metadata": {},
     "outputs": [],
     "prompt_number": 8
    },
    {
     "cell_type": "code",
     "collapsed": false,
     "input": [
      "def estimator(rfam_id):\n",
      "    \n",
      "    from eden.graph import Vectorizer\n",
      "    vectorizer = Vectorizer( r=2, d=2 )\n",
      "    n_jobs = 1\n",
      "\n",
      "    graphs = pre_process( rfam_url( rfam_id ) )\n",
      "    X1 = vectorizer.transform( graphs, n_jobs = n_jobs )\n",
      "    describe(X1)\n",
      "    \n",
      "    from eden.modifier.fasta import fasta_to_fasta, shuffle_modifier\n",
      "    graphs = pre_process( fasta_to_fasta( rfam_url( rfam_id ) , modifier=shuffle_modifier, times=2, order=2) )\n",
      "    X2 = vectorizer.transform( graphs, n_jobs = n_jobs )\n",
      "    describe(X2)\n",
      "    \n",
      "    from eden.util import fit_estimator\n",
      "    estimator = fit_estimator( positive_data_matrix=X1, negative_data_matrix=X2 )\n",
      "    \n",
      "    return estimator, vectorizer"
     ],
     "language": "python",
     "metadata": {},
     "outputs": []
    },
    {
     "cell_type": "code",
     "collapsed": false,
     "input": [
      "estimator, vectorizer = estimator(rfam_id)"
     ],
     "language": "python",
     "metadata": {},
     "outputs": []
    },
    {
     "cell_type": "code",
     "collapsed": false,
     "input": [
      "#use the compute_max_subarrays to return an iterable fasta containing the single motives \n",
      "from eden.util.iterated_maximum_subarray import compute_max_subarrays\n",
      "\n",
      "def motives(iterable, min_subarray_size = None, max_subarray_size = None):\n",
      "    counter=0\n",
      "    for graph in iterable:\n",
      "        subarrays = compute_max_subarrays(graph=graph, min_subarray_size=min_subarray_size, max_subarray_size=max_subarray_size)\n",
      "        if subarrays:\n",
      "            for subarray in subarrays:\n",
      "                yield '>ID'+str(counter)\n",
      "                yield ''.join(subarray['subarray'])\n",
      "                counter += 1"
     ],
     "language": "python",
     "metadata": {},
     "outputs": [],
     "prompt_number": 20
    },
    {
     "cell_type": "code",
     "collapsed": false,
     "input": [
      "from eden.graph import Annotator\n",
      "annotator = Annotator( estimator = estimator, vectorizer = vectorizer )\n",
      "\n",
      "graphs = pre_process( rfam_url( rfam_id ) )\n",
      "graphs = annotator.transform( graphs )\n",
      "\n",
      "iterable = motives(graphs, min_subarray_size=6, max_subarray_size=20)\n",
      "\n",
      "from eden.modifier.fasta import fasta_to_fasta, one_line_modifier\n",
      "iterable = fasta_to_fasta(iterable, modifier=one_line_modifier, sequence_only=True)"
     ],
     "language": "python",
     "metadata": {},
     "outputs": [],
     "prompt_number": 61
    },
    {
     "cell_type": "code",
     "collapsed": false,
     "input": [
      "%%time\n",
      "motif_list = set(iterable)"
     ],
     "language": "python",
     "metadata": {},
     "outputs": [
      {
       "output_type": "stream",
       "stream": "stdout",
       "text": [
        "CPU times: user 2min 19s, sys: 7.96 s, total: 2min 27s\n",
        "Wall time: 2min 55s\n"
       ]
      }
     ],
     "prompt_number": 62
    },
    {
     "cell_type": "code",
     "collapsed": false,
     "input": [
      "from collections import defaultdict\n",
      "\n",
      "from eden.modifier.fasta import fasta_to_fasta, one_line_modifier\n",
      "iterable = fasta_to_fasta(rfam_url( rfam_id ), modifier=one_line_modifier, sequence_only=True)\n",
      "\n",
      "motif_counter = defaultdict(int)\n",
      "for seq in iterable:\n",
      "    for motif in motif_list:\n",
      "        if seq.find(motif) != -1:\n",
      "            motif_counter[motif] += 1"
     ],
     "language": "python",
     "metadata": {},
     "outputs": [],
     "prompt_number": 63
    },
    {
     "cell_type": "code",
     "collapsed": false,
     "input": [
      "motif_support_threshold = 30\n",
      "selcted_motifs = [motif for motif in motif_counter if motif_counter[motif] >= motif_support_threshold]    "
     ],
     "language": "python",
     "metadata": {},
     "outputs": [],
     "prompt_number": 64
    },
    {
     "cell_type": "code",
     "collapsed": false,
     "input": [
      "regex=''\n",
      "for m in sorted(selcted_motifs): regex += '|' + m\n",
      "regex = regex[1:]\n",
      "print regex"
     ],
     "language": "python",
     "metadata": {},
     "outputs": [
      {
       "output_type": "stream",
       "stream": "stdout",
       "text": [
        "AGGUUCAAAUCCU|AGGUUCGA|AGGUUCGAAUCCU|CAAAUCCU|GGGUUCGA|GGUUCAAAU|GGUUCAAAUCCC|GGUUCAAAUCCU|GGUUCAAU|GGUUCGAAU|GGUUCGAAUCCC|GGUUCGAAUCCCU|GGUUCGAAUCCCUC|GGUUCGAAUCCU|GGUUCGAU|GUUCAAAU|GUUCGAAU|UAGCUUAA|UUCAAAUCCU|UUCGAAUCCCU\n"
       ]
      }
     ],
     "prompt_number": 65
    },
    {
     "cell_type": "code",
     "collapsed": false,
     "input": [
      "from eden.modifier.fasta import fasta_to_fasta, keep_modifier, shuffle_modifier\n",
      "\n",
      "def discriminative_performance_evaluation(data, regex):\n",
      "    iterable = fasta_to_fasta( data , modifier=keep_modifier, regex=regex )\n",
      "    true_positive_count = sum(1 for x in iterable)\n",
      "    iterable = fasta_to_fasta( data )\n",
      "    positive_count = sum(1 for x in iterable)\n",
      "    iterable = fasta_to_fasta( data , modifier=shuffle_modifier, times=20, order=2)\n",
      "    it1,it2 = itertools.tee(iterable)\n",
      "    negative_count = sum(1 for x in it1)\n",
      "    iterable = fasta_to_fasta( it2 , modifier=keep_modifier, regex=regex )\n",
      "    false_positive_count = sum(1 for x in iterable)\n",
      "    false_negative_count =  positive_count - true_positive_count\n",
      "    true_negative_count = negative_count - false_negative_count\n",
      "\n",
      "    recall = true_positive_count/float(true_positive_count + false_negative_count)\n",
      "    precision = true_positive_count/float(true_positive_count + false_positive_count)\n",
      "    f1 = 2 * precision * recall / (precision + recall)\n",
      "\n",
      "    print 'pos:%d neg:%d TP:%d FP:%d TN:%d FN:%d' % (positive_count, negative_count, true_positive_count, false_positive_count, true_negative_count, false_negative_count)\n",
      "    print 'precision:%0.3f recall:%0.3f f1:%0.3f' % (precision, recall, f1)\n",
      "    print 'dataset reduction: %0.3f' % (false_positive_count/float(negative_count))"
     ],
     "language": "python",
     "metadata": {},
     "outputs": [],
     "prompt_number": 66
    },
    {
     "cell_type": "code",
     "collapsed": false,
     "input": [
      "discriminative_performance_evaluation(rfam_url( rfam_id ), regex)"
     ],
     "language": "python",
     "metadata": {},
     "outputs": [
      {
       "output_type": "stream",
       "stream": "stdout",
       "text": [
        "pos:1908 neg:38160 TP:1088 FP:364 TN:37340 FN:820\n",
        "precision:0.749 recall:0.570 f1:0.648\n",
        "dataset reduction: 0.010\n"
       ]
      }
     ],
     "prompt_number": 67
    },
    {
     "cell_type": "code",
     "collapsed": false,
     "input": [
      "from eden.modifier.fasta import fasta_to_fasta, replace_modifier, split_regex_modifier, split_modifier, keep_modifier\n",
      "def genome_fasta_pre_processing(uri, min_lenght=None, max_lenght=None ):\n",
      "    #replace Ts with Us\n",
      "    iterable = fasta_to_fasta(uri, modifier=replace_modifier, regex='T', replacement='U')\n",
      "    #split out seqeucnes that are not stretches of Ns  \n",
      "    iterable = fasta_to_fasta(iterable, modifier=split_regex_modifier, regex=\"([^N]+)\" )\n",
      "    #filter out small seqeucnes, i.e. smaller than lower_quantile\n",
      "    iterable = fasta_to_fasta(iterable, modifier=keep_modifier, regex=\"(.{%d,})\"%min_lenght )\n",
      "    #split large sequences into overlapping windows of size comparable with the Rfam average seq lenght\n",
      "    iterable = fasta_to_fasta( iterable, modifier=split_modifier, window=int(max_lenght * 6 / 5), step=int(max_lenght / 5) )\n",
      "    return iterable"
     ],
     "language": "python",
     "metadata": {},
     "outputs": [],
     "prompt_number": 68
    },
    {
     "cell_type": "code",
     "collapsed": false,
     "input": [
      "#extract statistics on the average lenght of the sequences in the given Rfam family\n",
      "import numpy\n",
      "from eden.modifier.fasta import fasta_to_fasta, one_line_modifier\n",
      "\n",
      "low = 10\n",
      "high = 90\n",
      "\n",
      "iterable = fasta_to_fasta( rfam_url( rfam_id ), modifier=one_line_modifier, sequence_only=True)\n",
      "len_seqs = [len(seq) for seq in iterable]\n",
      "lower_quantile = int(numpy.percentile(len_seqs, low))\n",
      "upper_quantile = int(numpy.percentile(len_seqs, high))\n",
      "\n",
      "num_seqs = len(len_seqs)\n",
      "\n",
      "print 'Rfam family %s has %d sequences' % (rfam_id, num_seqs)\n",
      "print 'more than %d%% of the sequences have lenght smaller than: %d ' % (high, upper_quantile)\n",
      "print 'less then %d%% of the sequences have lenght smaller than: %d ' % (low, lower_quantile)"
     ],
     "language": "python",
     "metadata": {},
     "outputs": [
      {
       "output_type": "stream",
       "stream": "stdout",
       "text": [
        "Rfam family RF00005 has 954 sequences\n",
        "more than 90% of the sequences have lenght smaller than: 82 \n",
        "less then 10% of the sequences have lenght smaller than: 68 \n"
       ]
      }
     ],
     "prompt_number": 69
    },
    {
     "cell_type": "code",
     "collapsed": false,
     "input": [
      "iterable = genome_fasta_pre_processing('dm6.fa.masked', min_lenght=lower_quantile, max_lenght=upper_quantile)\n",
      "iterable = fasta_to_fasta(iterable, modifier=keep_modifier, regex=regex )"
     ],
     "language": "python",
     "metadata": {},
     "outputs": [],
     "prompt_number": 70
    },
    {
     "cell_type": "code",
     "collapsed": false,
     "input": [
      "%%time\n",
      "def parse_header(header):\n",
      "    '''process header to extract chromosome, start and end position'''\n",
      "    items = header[1:].split()\n",
      "    chromosome = items[0]\n",
      "    start = int(items[2])+int(items[4])\n",
      "    end = start + int(items[6])\n",
      "    seq = items[9]\n",
      "    id = '%s %d %d %s'%(chromosome,start,end,seq)\n",
      "    return id\n",
      "\n",
      "import sys\n",
      "f = open('result','a')\n",
      "results = []\n",
      "for header, prediction in out_of_core_predictions( iterable, estimator=estimator, vectorizer=vectorizer, threshold=1 ):\n",
      "    id = parse_header( header )\n",
      "    #save and display results\n",
      "    results.append([id, prediction])\n",
      "    result_text = 'score: %0.1f %s' % (prediction,id)\n",
      "    print result_text\n",
      "    sys.stdout.flush()\n",
      "    print >> f, result_text\n",
      "    f.flush()"
     ],
     "language": "python",
     "metadata": {},
     "outputs": []
    }
   ],
   "metadata": {}
  }
 ]
}