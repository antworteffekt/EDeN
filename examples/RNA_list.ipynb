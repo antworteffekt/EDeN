{
 "metadata": {
  "name": "",
  "signature": "sha256:8ec794608ee9cf90d47b6cfd9a9e790a1cb532b512193690b2dcbc53d2ae8d55"
 },
 "nbformat": 3,
 "nbformat_minor": 0,
 "worksheets": [
  {
   "cells": [
    {
     "cell_type": "markdown",
     "metadata": {},
     "source": [
      "#RNA family characterization\n",
      "\n",
      "Application scenario: we want to characterize RNA family A with respect to RNA family B, in other words, we are interested in identifying regions with their structural contexts that are characteristic of family A but not family B"
     ]
    },
    {
     "cell_type": "code",
     "collapsed": false,
     "input": [
      "%pylab inline\n",
      "import pylab as pl"
     ],
     "language": "python",
     "metadata": {},
     "outputs": [
      {
       "output_type": "stream",
       "stream": "stdout",
       "text": [
        "Populating the interactive namespace from numpy and matplotlib\n"
       ]
      }
     ],
     "prompt_number": 1
    },
    {
     "cell_type": "code",
     "collapsed": false,
     "input": [
      "#given the RFAM id of a family we retrieve it from the RFAM online database\n",
      "rf='RF00162'\n",
      "#rf='RF00005'\n",
      "#we compose the correspondent URL\n",
      "url_string='http://rfam.xfam.org/family/%s/alignment?acc=%s&format=fastau&download=0'%(rf,rf)"
     ],
     "language": "python",
     "metadata": {},
     "outputs": [],
     "prompt_number": 2
    },
    {
     "cell_type": "markdown",
     "metadata": {},
     "source": [
      "Vectorization setup\n",
      "\n",
      "we set the 'resolution' of the vectorization\n",
      "\n",
      "the radius parameter is metaphorically equivalent to the pixel resolution in an image \n",
      "\n",
      "the distance parameter is metaphorically equivalent to the number of shades of colors in an image"
     ]
    },
    {
     "cell_type": "code",
     "collapsed": false,
     "input": [
      "from eden import graph\n",
      "vec=graph.ListVectorizer(r=2, d=2)"
     ],
     "language": "python",
     "metadata": {},
     "outputs": [],
     "prompt_number": 12
    },
    {
     "cell_type": "markdown",
     "metadata": {},
     "source": [
      "prepare a function that composes all design actions over the original data"
     ]
    },
    {
     "cell_type": "code",
     "collapsed": false,
     "input": [
      "def compose(url_string):\n",
      "    graphs_list = list()\n",
      "    weights = list()\n",
      "    \n",
      "    #rna shapes\n",
      "    from eden.converter.RNA import RNA_SHAPE\n",
      "    graphs = RNA_SHAPE.RNA_SHAPE_to_eden(input = url_string, input_type = 'url', shape_type=5, energy_range=5, max_num=2)\n",
      "    \n",
      "    from eden.modifier.graph import structure\n",
      "    graphs = structure.contraction(graphs, level = 1)\n",
      "    \n",
      "    graphs_list.append(graphs)\n",
      "    weights.append(0.3)\n",
      "    \n",
      "    #sequence\n",
      "    from eden.converter.FASTA import FASTA\n",
      "    graphs = FASTA.FASTA_to_eden(input = url_string, input_type = 'url')\n",
      "\n",
      "    from eden.modifier.graph import vertex_attributes \n",
      "    graphs = vertex_attributes.colorize(graphs, output_attribute = 'level', labels = ['A','U','C','G'])\n",
      "    \n",
      "    graphs_list.append(graphs)\n",
      "    weights.append(0.5)\n",
      "    \n",
      "    #contraction structure\n",
      "    from eden.converter.RNA import RNA_SHAPE\n",
      "    graphs = RNA_SHAPE.RNA_SHAPE_to_eden(input = url_string, input_type = 'url', shape_type=5, energy_range=5, max_num=2)\n",
      "    \n",
      "    from eden.modifier.graph import structure\n",
      "    graphs = structure.contraction(graphs, level = 1)\n",
      "    \n",
      "    graphs_list.append(graphs)\n",
      "    weights.append(0.2)\n",
      "\n",
      "    \n",
      "    return graphs_list, weights"
     ],
     "language": "python",
     "metadata": {},
     "outputs": [],
     "prompt_number": 30
    },
    {
     "cell_type": "markdown",
     "metadata": {},
     "source": [
      "Vectorization\n",
      "\n",
      "we employ the vectorizer to transform the graph instances into sparse vectors\n",
      "we collect all the vectors in a data matrix \n",
      "depending on the number of instances and the desired resolution, the procedure can take from seconds to minutes for a few hundreds of sequences"
     ]
    },
    {
     "cell_type": "code",
     "collapsed": false,
     "input": [
      "%%time\n",
      "rf='RF00162'\n",
      "url_string='http://rfam.xfam.org/family/%s/alignment?acc=%s&format=fastau&download=0'%(rf,rf)\n",
      "graphs_list, weights = compose(url_string)\n",
      "X1=vec.transform(graphs_list, weights=weights, n_jobs = 1)\n",
      "print 'Instances: %d ; Features: %d with an avg of %d features per instance' % (X1.shape[0], X1.shape[1],  X1.getnnz()/X1.shape[0])"
     ],
     "language": "python",
     "metadata": {},
     "outputs": [
      {
       "output_type": "stream",
       "stream": "stdout",
       "text": [
        "Instances: 433 ; Features: 1048577 with an avg of 1027 features per instance\n",
        "CPU times: user 37.3 s, sys: 3.04 s, total: 40.3 s\n",
        "Wall time: 1min 2s\n"
       ]
      }
     ],
     "prompt_number": 31
    },
    {
     "cell_type": "markdown",
     "metadata": {},
     "source": [
      "repeat the procedure on a different RNA family that will be used as negative class"
     ]
    },
    {
     "cell_type": "code",
     "collapsed": false,
     "input": [
      "%%time\n",
      "rf='RF01725'\n",
      "url_string='http://rfam.xfam.org/family/%s/alignment?acc=%s&format=fastau&download=0'%(rf,rf)\n",
      "graphs_list, weights = compose(url_string)\n",
      "X2=vec.transform(graphs_list, weights=weights, n_jobs = 1)\n",
      "print 'Instances: %d ; Features: %d with an avg of %d features per instance' % (X2.shape[0], X2.shape[1],  X2.getnnz()/X2.shape[0])"
     ],
     "language": "python",
     "metadata": {},
     "outputs": [
      {
       "output_type": "stream",
       "stream": "stdout",
       "text": [
        "Instances: 437 ; Features: 1048577 with an avg of 937 features per instance\n",
        "CPU times: user 36.7 s, sys: 2.97 s, total: 39.7 s\n",
        "Wall time: 58.1 s\n"
       ]
      }
     ],
     "prompt_number": 32
    },
    {
     "cell_type": "markdown",
     "metadata": {},
     "source": [
      "we concatenate the two data matrices into one matrix\n",
      "and we create a target vector that identifies with +1 and -1 the instances from the first or the second RNA family"
     ]
    },
    {
     "cell_type": "code",
     "collapsed": false,
     "input": [
      "from scipy.sparse import vstack\n",
      "import numpy as np\n",
      "\n",
      "Xpos = X1\n",
      "Xneg = X2\n",
      "\n",
      "#create target array\n",
      "yp = [1] * Xpos.shape[0]\n",
      "yn = [-1] * Xneg.shape[0]\n",
      "y = np.array(yp + yn)\n",
      "#update data matrix\n",
      "X = vstack( [Xpos,Xneg] , format = \"csr\")\n",
      "print 'Instances: %d ; Features: %d with an avg of %d features per instance' % (X.shape[0], X.shape[1],  X.getnnz()/X.shape[0])"
     ],
     "language": "python",
     "metadata": {},
     "outputs": [
      {
       "output_type": "stream",
       "stream": "stdout",
       "text": [
        "Instances: 870 ; Features: 1048577 with an avg of 982 features per instance\n"
       ]
      }
     ],
     "prompt_number": 33
    },
    {
     "cell_type": "markdown",
     "metadata": {},
     "source": [
      "Fit a predictor"
     ]
    },
    {
     "cell_type": "code",
     "collapsed": false,
     "input": [
      "%%time\n",
      "#induce a stochastic gradient descent SVM predictive model\n",
      "from sklearn.linear_model import SGDClassifier\n",
      "predictor = SGDClassifier()\n",
      "\n",
      "#assess the generalization capacity of the model via a 10-fold cross validation\n",
      "from sklearn import cross_validation\n",
      "scores = cross_validation.cross_val_score(predictor, X, y,cv=10, scoring='roc_auc')\n",
      "\n",
      "import numpy as np\n",
      "print('AUC ROC: %.4f +- %.4f' % (np.mean(scores),np.std(scores)))\n",
      "#AUC ROC values above 0.8 are indicative of a good generalization capacity "
     ],
     "language": "python",
     "metadata": {},
     "outputs": [
      {
       "output_type": "stream",
       "stream": "stdout",
       "text": [
        "AUC ROC: 0.9882 +- 0.0080\n",
        "CPU times: user 849 ms, sys: 129 ms, total: 978 ms\n",
        "Wall time: 976 ms\n"
       ]
      }
     ],
     "prompt_number": 34
    }
   ],
   "metadata": {}
  }
 ]
}