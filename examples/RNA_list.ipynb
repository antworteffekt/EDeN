{
 "metadata": {
  "name": "",
  "signature": "sha256:f65d420ee4fd78a969d540f4d1d44f0f3337e631dd479121f7b13ad560349264"
 },
 "nbformat": 3,
 "nbformat_minor": 0,
 "worksheets": [
  {
   "cells": [
    {
     "cell_type": "markdown",
     "metadata": {},
     "source": [
      "#RNA family characterization\n",
      "\n",
      "Application scenario: we want to characterize RNA family A with respect to RNA family B, in other words, we are interested in identifying regions with their structural contexts that are characteristic of family A but not family B"
     ]
    },
    {
     "cell_type": "code",
     "collapsed": false,
     "input": [
      "%pylab inline\n",
      "import pylab as pl"
     ],
     "language": "python",
     "metadata": {},
     "outputs": [
      {
       "output_type": "stream",
       "stream": "stdout",
       "text": [
        "Populating the interactive namespace from numpy and matplotlib\n"
       ]
      }
     ],
     "prompt_number": 1
    },
    {
     "cell_type": "markdown",
     "metadata": {},
     "source": [
      "Vectorization setup\n",
      "\n",
      "we set the 'resolution' of the vectorization\n",
      "\n",
      "the radius parameter is metaphorically equivalent to the pixel resolution in an image \n",
      "\n",
      "the distance parameter is metaphorically equivalent to the number of shades of colors in an image"
     ]
    },
    {
     "cell_type": "code",
     "collapsed": false,
     "input": [
      "from eden import graph\n",
      "vec=graph.ListVectorizer(r=2, d=2)"
     ],
     "language": "python",
     "metadata": {},
     "outputs": [],
     "prompt_number": 2
    },
    {
     "cell_type": "markdown",
     "metadata": {},
     "source": [
      "prepare a function that composes all design actions over the original data"
     ]
    },
    {
     "cell_type": "code",
     "collapsed": false,
     "input": [
      "from itertools import *\n",
      "def compose_seq(seqs):\n",
      "    \n",
      "    #NOTE: we have to duplicate the seqs iterator if we want to use different modifiers in parallel\n",
      "    seqs_list = tee(seqs,3)\n",
      "    \n",
      "    graphs_list = list()\n",
      "    weights = list()\n",
      "    \n",
      "    #rna shapes\n",
      "    from eden.converter.RNA import RNA_SHAPE\n",
      "    graphs = RNA_SHAPE.RNA_SHAPE_to_eden(input = seqs_list[0], input_type = 'list', shape_type=5, energy_range=30, max_num=3)\n",
      "    \n",
      "    graphs_list.append(graphs)\n",
      "    weights.append(0.6)\n",
      "    \n",
      "    #sequence\n",
      "    from eden.converter.FASTA import FASTA\n",
      "    graphs = FASTA.FASTA_to_eden(input = seqs_list[1], input_type = 'list')\n",
      "\n",
      "    graphs_list.append(graphs)\n",
      "    weights.append(0.10)\n",
      "    \n",
      "    #contraction structure\n",
      "    from eden.converter.RNA import RNA_SHAPE\n",
      "    graphs = RNA_SHAPE.RNA_SHAPE_to_eden(input = seqs_list[2], input_type = 'list', shape_type=5, energy_range=30, max_num=3)\n",
      "    \n",
      "    from eden.modifier.graph import structure\n",
      "    graphs = structure.contraction(graphs, level = 1)\n",
      "    \n",
      "    graphs_list.append(graphs)\n",
      "    weights.append(0.30)\n",
      "\n",
      "    \n",
      "    return graphs_list, weights"
     ],
     "language": "python",
     "metadata": {},
     "outputs": [],
     "prompt_number": 28
    },
    {
     "cell_type": "code",
     "collapsed": false,
     "input": [
      "def compose(url_string):\n",
      "    from eden.modifier import FastaModifier\n",
      "    seqs = FastaModifier.Modifier(input = url_string, input_type = 'url').apply()    \n",
      "    return compose_seq(seqs)"
     ],
     "language": "python",
     "metadata": {},
     "outputs": [],
     "prompt_number": 29
    },
    {
     "cell_type": "code",
     "collapsed": false,
     "input": [
      "def compose_shuffled(url_string):\n",
      "    from eden.modifier import FastaModifier\n",
      "    seqs = FastaModifier.shuffle(input = url_string, input_type = 'url').apply()    \n",
      "    return compose_seq(seqs)"
     ],
     "language": "python",
     "metadata": {},
     "outputs": [],
     "prompt_number": 30
    },
    {
     "cell_type": "code",
     "collapsed": false,
     "input": [
      "def rfam_url(family_id):\n",
      "    return 'http://rfam.xfam.org/family/%s/alignment?acc=%s&format=fastau&download=0'%(family_id,family_id)"
     ],
     "language": "python",
     "metadata": {},
     "outputs": [],
     "prompt_number": 31
    },
    {
     "cell_type": "markdown",
     "metadata": {},
     "source": [
      "Vectorization\n",
      "\n",
      "we employ the vectorizer to transform the graph instances into sparse vectors\n",
      "we collect all the vectors in a data matrix \n",
      "depending on the number of instances and the desired resolution, the procedure can take from seconds to minutes for a few hundreds of sequences"
     ]
    },
    {
     "cell_type": "code",
     "collapsed": false,
     "input": [
      "%%time\n",
      "graphs_list, weights = compose(rfam_url('RF00005'))\n",
      "X1=vec.transform(graphs_list, weights=weights, n_jobs = 1)\n",
      "print 'Instances: %d ; Features: %d with an avg of %d features per instance' % (X1.shape[0], X1.shape[1],  X1.getnnz()/X1.shape[0])"
     ],
     "language": "python",
     "metadata": {},
     "outputs": [
      {
       "output_type": "stream",
       "stream": "stdout",
       "text": [
        "Instances: 954 ; Features: 1048577 with an avg of 2132 features per instance\n",
        "CPU times: user 2min 53s, sys: 11.5 s, total: 3min 5s\n",
        "Wall time: 3min 50s\n"
       ]
      }
     ],
     "prompt_number": 32
    },
    {
     "cell_type": "markdown",
     "metadata": {},
     "source": [
      "repeat the procedure on a different RNA family that will be used as negative class"
     ]
    },
    {
     "cell_type": "code",
     "collapsed": false,
     "input": [
      "%%time\n",
      "graphs_list, weights = compose_shuffled(rfam_url('RF00005'))\n",
      "X2=vec.transform(graphs_list, weights=weights, n_jobs = 1)\n",
      "print 'Instances: %d ; Features: %d with an avg of %d features per instance' % (X2.shape[0], X2.shape[1],  X2.getnnz()/X2.shape[0])"
     ],
     "language": "python",
     "metadata": {},
     "outputs": [
      {
       "output_type": "stream",
       "stream": "stdout",
       "text": [
        "Instances: 954 ; Features: 1048577 with an avg of 2046 features per instance\n",
        "CPU times: user 2min 45s, sys: 11.5 s, total: 2min 57s\n",
        "Wall time: 3min 37s\n"
       ]
      }
     ],
     "prompt_number": 33
    },
    {
     "cell_type": "markdown",
     "metadata": {},
     "source": [
      "we concatenate the two data matrices into one matrix\n",
      "and we create a target vector that identifies with +1 and -1 the instances from the first or the second RNA family"
     ]
    },
    {
     "cell_type": "code",
     "collapsed": false,
     "input": [
      "from scipy.sparse import vstack\n",
      "import numpy as np\n",
      "\n",
      "Xpos = X1\n",
      "Xneg = X2\n",
      "\n",
      "#create target array\n",
      "yp = [1] * Xpos.shape[0]\n",
      "yn = [-1] * Xneg.shape[0]\n",
      "y = np.array(yp + yn)\n",
      "#update data matrix\n",
      "X = vstack( [Xpos,Xneg] , format = \"csr\")\n",
      "print 'Instances: %d ; Features: %d with an avg of %d features per instance' % (X.shape[0], X.shape[1],  X.getnnz()/X.shape[0])"
     ],
     "language": "python",
     "metadata": {},
     "outputs": [
      {
       "output_type": "stream",
       "stream": "stdout",
       "text": [
        "Instances: 1908 ; Features: 1048577 with an avg of 2089 features per instance\n"
       ]
      }
     ],
     "prompt_number": 34
    },
    {
     "cell_type": "markdown",
     "metadata": {},
     "source": [
      "Fit a predictor"
     ]
    },
    {
     "cell_type": "code",
     "collapsed": false,
     "input": [
      "%%time\n",
      "#induce a stochastic gradient descent SVM predictive model\n",
      "from sklearn.linear_model import SGDClassifier\n",
      "from sklearn.grid_search import RandomizedSearchCV\n",
      "from sklearn import cross_validation\n",
      "from scipy.stats import randint\n",
      "from scipy.stats import uniform\n",
      "import numpy as np\n",
      "from scipy import stats\n",
      "\n",
      "predictor = SGDClassifier()\n",
      "#hyperparameter optimization\n",
      "param_dist = {\"n_iter\": randint(5, 100),\n",
      "              \"power_t\": uniform(0.1),\n",
      "              \"alpha\": uniform(1e-08,1e-03),\n",
      "              \"eta0\" : uniform(1e-03,10),\n",
      "              \"penalty\": [\"l1\", \"l2\", \"elasticnet\"],\n",
      "              \"learning_rate\": [\"invscaling\", \"constant\",\"optimal\"]}\n",
      "scoring = 'roc_auc'\n",
      "n_iter_search = 20\n",
      "random_search = RandomizedSearchCV(predictor,param_distributions=param_dist,n_iter=n_iter_search,cv=5,scoring=scoring,n_jobs=8)\n",
      "random_search.fit(X, y)\n",
      "optpredictor= SGDClassifier(shuffle=True, n_jobs=-1, **random_search.best_params_)\n",
      "#fit the predictor on all available data\n",
      "optpredictor.fit(X,y)"
     ],
     "language": "python",
     "metadata": {},
     "outputs": []
    },
    {
     "cell_type": "code",
     "collapsed": false,
     "input": [
      "%%time\n",
      "print 'Classifier:'\n",
      "print optpredictor\n",
      "print '-'*80\n",
      "\n",
      "print 'Predictive performance:'\n",
      "#assess the generalization capacity of the model via a 10-fold cross validation\n",
      "for scoring in ['precision', 'recall', 'f1', 'average_precision', 'roc_auc']:\n",
      "    scores = cross_validation.cross_val_score(optpredictor, X, y,cv=10, scoring=scoring, n_jobs=8)\n",
      "    print('%20s: %.3f +- %.3f' % (scoring, np.mean(scores),np.std(scores)))\n",
      "print '-'*80"
     ],
     "language": "python",
     "metadata": {},
     "outputs": []
    }
   ],
   "metadata": {}
  }
 ]
}