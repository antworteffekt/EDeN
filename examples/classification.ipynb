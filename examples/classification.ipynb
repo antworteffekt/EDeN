{
 "metadata": {
  "name": "",
  "signature": "sha256:2bf879b7626bcfd1429835acadfe293c11ccdb412687d2b7e40780645b5ea40b"
 },
 "nbformat": 3,
 "nbformat_minor": 0,
 "worksheets": [
  {
   "cells": [
    {
     "cell_type": "code",
     "collapsed": false,
     "input": [
      "from eden import graph\n",
      "from eden.util import eden_io\n",
      "from eden.converters import gspan"
     ],
     "language": "python",
     "metadata": {},
     "outputs": [],
     "prompt_number": 1
    },
    {
     "cell_type": "code",
     "collapsed": false,
     "input": [
      "from sklearn.linear_model import SGDClassifier\n",
      "from sklearn import cross_validation\n",
      "import numpy as np"
     ],
     "language": "python",
     "metadata": {},
     "outputs": [],
     "prompt_number": 2
    },
    {
     "cell_type": "heading",
     "level": 3,
     "metadata": {},
     "source": [
      "Create Feature Representation"
     ]
    },
    {
     "cell_type": "code",
     "collapsed": false,
     "input": [
      "input_data_url='http://www.bioinf.uni-freiburg.de/~costa/bursi.gspan'\n",
      "input_target_url='http://www.bioinf.uni-freiburg.de/~costa/bursi.target'"
     ],
     "language": "python",
     "metadata": {},
     "outputs": [],
     "prompt_number": 3
    },
    {
     "cell_type": "code",
     "collapsed": false,
     "input": [
      "max_radius=3\n",
      "min_radius=0\n",
      "max_distance=0"
     ],
     "language": "python",
     "metadata": {},
     "outputs": [],
     "prompt_number": 4
    },
    {
     "cell_type": "heading",
     "level": 3,
     "metadata": {},
     "source": [
      "single core processing"
     ]
    },
    {
     "cell_type": "code",
     "collapsed": false,
     "input": [
      "%%time\n",
      "vec=graph.Vectorizer(r=max_radius,d=max_distance, min_r=min_radius)\n",
      "g_it=gspan.gspan_to_eden(input_data_url)\n",
      "X=vec.transform(g_it, n_jobs=1)\n",
      "\n",
      "print 'Instances: %d Features: %d with an avg of %d features per instance' % (X.shape[0], X.shape[1],  X.getnnz()/X.shape[0])"
     ],
     "language": "python",
     "metadata": {},
     "outputs": [
      {
       "output_type": "stream",
       "stream": "stdout",
       "text": [
        "Instances: 4337 Features: 1048577 with an avg of 34 features per instance\n",
        "CPU times: user 13.6 s, sys: 207 ms, total: 13.8 s\n",
        "Wall time: 14.7 s\n"
       ]
      }
     ],
     "prompt_number": 5
    },
    {
     "cell_type": "heading",
     "level": 3,
     "metadata": {},
     "source": [
      "multi-core processing"
     ]
    },
    {
     "cell_type": "code",
     "collapsed": false,
     "input": [
      "%%time\n",
      "vec=graph.Vectorizer(r=max_radius,d=max_distance, min_r=min_radius)\n",
      "g_it=gspan.gspan_to_eden(input_data_url)\n",
      "X=vec.transform(g_it, n_jobs=-1)\n",
      "\n",
      "print 'Instances: %d Features: %d with an avg of %d features per instance' % (X.shape[0], X.shape[1],  X.getnnz()/X.shape[0])"
     ],
     "language": "python",
     "metadata": {},
     "outputs": [
      {
       "output_type": "stream",
       "stream": "stdout",
       "text": [
        "Instances: 4337 Features: 1048577 with an avg of 34 features per instance\n",
        "CPU times: user 11.6 s, sys: 2.72 s, total: 14.3 s\n",
        "Wall time: 13.5 s\n"
       ]
      }
     ],
     "prompt_number": 6
    },
    {
     "cell_type": "heading",
     "level": 3,
     "metadata": {},
     "source": [
      "Induce a predictor and evaluate its performance"
     ]
    },
    {
     "cell_type": "code",
     "collapsed": false,
     "input": [
      "%%time\n",
      "#induce a predictive model\n",
      "predictor = SGDClassifier()\n",
      "#for a specific bioassay\n",
      "y=eden_io.load_target(input_target_url)\n",
      "scores = cross_validation.cross_val_score(predictor, X, y,cv=10, scoring='roc_auc')\n",
      "print('AUC ROC: %.4f +- %.4f' % (np.mean(scores),np.std(scores)))"
     ],
     "language": "python",
     "metadata": {},
     "outputs": [
      {
       "output_type": "stream",
       "stream": "stdout",
       "text": [
        "AUC ROC: 0.9000 +- 0.0150\n",
        "CPU times: user 573 ms, sys: 104 ms, total: 677 ms\n",
        "Wall time: 727 ms\n"
       ]
      }
     ],
     "prompt_number": 9
    },
    {
     "cell_type": "heading",
     "level": 3,
     "metadata": {},
     "source": [
      "Use only large features"
     ]
    },
    {
     "cell_type": "code",
     "collapsed": false,
     "input": [
      "max_radius=3\n",
      "min_radius=3\n",
      "max_distance=0"
     ],
     "language": "python",
     "metadata": {},
     "outputs": [],
     "prompt_number": 10
    },
    {
     "cell_type": "code",
     "collapsed": false,
     "input": [
      "%%time\n",
      "#multi-core processing\n",
      "vec=graph.Vectorizer(r=max_radius,d=max_distance, min_r=min_radius)\n",
      "g_it=gspan.gspan_to_eden(input_data_url)\n",
      "X=vec.transform(g_it, n_jobs=-1)\n",
      "\n",
      "print 'Instances: %d Features: %d with an avg of %d features per instance' % (X.shape[0], X.shape[1],  X.getnnz()/X.shape[0])"
     ],
     "language": "python",
     "metadata": {},
     "outputs": [
      {
       "output_type": "stream",
       "stream": "stdout",
       "text": [
        "Instances: 4337 Features: 1048577 with an avg of 12 features per instance\n",
        "CPU times: user 12.8 s, sys: 168 ms, total: 12.9 s\n",
        "Wall time: 31.8 s\n"
       ]
      }
     ],
     "prompt_number": 11
    },
    {
     "cell_type": "code",
     "collapsed": false,
     "input": [
      "%%time\n",
      "#induce a predictive model\n",
      "predictor = SGDClassifier()\n",
      "#for a specific bioassay\n",
      "y=eden_io.load_target(input_target_url)\n",
      "scores = cross_validation.cross_val_score(predictor, X, y,cv=10, scoring='roc_auc')\n",
      "print('AUC ROC: %.4f +- %.4f' % (np.mean(scores),np.std(scores)))"
     ],
     "language": "python",
     "metadata": {},
     "outputs": [
      {
       "output_type": "stream",
       "stream": "stdout",
       "text": [
        "AUC ROC: 0.8943 +- 0.0200\n",
        "CPU times: user 501 ms, sys: 100 ms, total: 601 ms\n",
        "Wall time: 614 ms\n"
       ]
      }
     ],
     "prompt_number": 12
    },
    {
     "cell_type": "code",
     "collapsed": false,
     "input": [
      "%%time\n",
      "input_data_url='http://www.bioinf.uni-freiburg.de/~costa/bursi_pos.gspan'\n",
      "vec=graph.Vectorizer(r=max_radius,d=max_distance, min_r=min_radius)\n",
      "g_it=gspan.gspan_to_eden(input_data_url)\n",
      "Xonec=vec.transform(g_it, n_jobs=-1)\n",
      "print 'Instances: %d Features: %d with an avg of %d features per instance' % (X.shape[0], X.shape[1],  X.getnnz()/X.shape[0])"
     ],
     "language": "python",
     "metadata": {},
     "outputs": [
      {
       "output_type": "stream",
       "stream": "stdout",
       "text": [
        "Instances: 4337 Features: 1048577 with an avg of 12 features per instance\n",
        "CPU times: user 7.28 s, sys: 97 ms, total: 7.38 s\n",
        "Wall time: 19.2 s\n"
       ]
      }
     ],
     "prompt_number": 13
    },
    {
     "cell_type": "code",
     "collapsed": false,
     "input": [
      "%%time\n",
      "from sklearn.svm import OneClassSVM\n",
      "from sklearn.metrics import roc_auc_score\n",
      "\n",
      "#induce a predictive model\n",
      "predictor = OneClassSVM(kernel = 'linear', nu = 0.01)\n",
      "predictor.fit(Xonec)\n",
      "yp = predictor.predict(X)\n",
      "\n",
      "print('AUC ROC: %.4f ' % roc_auc_score(y,yp) )"
     ],
     "language": "python",
     "metadata": {},
     "outputs": [
      {
       "output_type": "stream",
       "stream": "stdout",
       "text": [
        "AUC ROC: 0.4994 \n",
        "CPU times: user 220 ms, sys: 0 ns, total: 220 ms\n",
        "Wall time: 238 ms\n"
       ]
      }
     ],
     "prompt_number": 14
    }
   ],
   "metadata": {}
  }
 ]
}