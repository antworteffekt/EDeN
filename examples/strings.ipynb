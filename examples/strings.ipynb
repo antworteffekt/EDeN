{
 "metadata": {
  "name": "",
  "signature": "sha256:ac740b915618cb27d7bb5058cd27b01038d8076fb7a931e925e8f7c91a92bbdf"
 },
 "nbformat": 3,
 "nbformat_minor": 0,
 "worksheets": [
  {
   "cells": [
    {
     "cell_type": "code",
     "collapsed": false,
     "input": [
      "%pylab inline"
     ],
     "language": "python",
     "metadata": {},
     "outputs": [
      {
       "output_type": "stream",
       "stream": "stdout",
       "text": [
        "Populating the interactive namespace from numpy and matplotlib\n"
       ]
      }
     ],
     "prompt_number": 1
    },
    {
     "cell_type": "code",
     "collapsed": false,
     "input": [
      "from eden import string"
     ],
     "language": "python",
     "metadata": {},
     "outputs": [],
     "prompt_number": 2
    },
    {
     "cell_type": "code",
     "collapsed": false,
     "input": [
      "import random\n",
      "from sklearn import manifold\n",
      "from sklearn.kernel_approximation import Nystroem\n",
      "from sklearn.metrics.pairwise import linear_kernel\n",
      "import pylab as pl"
     ],
     "language": "python",
     "metadata": {},
     "outputs": [],
     "prompt_number": 3
    },
    {
     "cell_type": "code",
     "collapsed": false,
     "input": [
      "def one_swap(line):\n",
      "    while True :\n",
      "        id_i=random.randint(0,len(line)-1)\n",
      "        id_j=random.randint(0,len(line)-1)\n",
      "        id_start=min(id_i,id_j)\n",
      "        id_end=max(id_i,id_j)\n",
      "        if id_start != id_end and id_start != len(line)-1:\n",
      "            a = line[0:id_start]\n",
      "            b = line[id_start]\n",
      "            c = line[id_start+1:id_end]\n",
      "            d = line[id_end]\n",
      "            e = line[id_end+1:]\n",
      "            return  ''.join([a,d,c,b,e])"
     ],
     "language": "python",
     "metadata": {},
     "outputs": [],
     "prompt_number": 4
    },
    {
     "cell_type": "code",
     "collapsed": false,
     "input": [
      "%%time\n",
      "data_size=5000\n",
      "data=[]\n",
      "line=''.join([str(unichr(97+i)) for i in range(26)])\n",
      "for i in range(data_size):\n",
      "    new_line=one_swap(line)\n",
      "    data+=[new_line]\n",
      "    line=new_line"
     ],
     "language": "python",
     "metadata": {},
     "outputs": [
      {
       "output_type": "stream",
       "stream": "stdout",
       "text": [
        "CPU times: user 38 ms, sys: 0 ns, total: 38 ms\n",
        "Wall time: 77.7 ms\n"
       ]
      }
     ],
     "prompt_number": 5
    },
    {
     "cell_type": "code",
     "collapsed": false,
     "input": [
      "%%time\n",
      "vec=string.Vectorizer(r=3,d=3)\n",
      "X=vec.transform(data, n_jobs=2)"
     ],
     "language": "python",
     "metadata": {},
     "outputs": [
      {
       "output_type": "stream",
       "stream": "stdout",
       "text": [
        "CPU times: user 10.3 s, sys: 360 ms, total: 10.6 s\n",
        "Wall time: 50.1 s\n"
       ]
      }
     ],
     "prompt_number": 6
    },
    {
     "cell_type": "markdown",
     "metadata": {},
     "source": [
      "transform the sparse vector encoding into a dense one using the Nystroem approximation (using at most 'max_components')."
     ]
    },
    {
     "cell_type": "code",
     "collapsed": false,
     "input": [
      "%%time\n",
      "max_components=512\n",
      "n_components=min(max_components,data_size)\n",
      "feature_map_nystroem = Nystroem(n_components=n_components)\n",
      "Xl=feature_map_nystroem.fit_transform(X)"
     ],
     "language": "python",
     "metadata": {},
     "outputs": [
      {
       "output_type": "stream",
       "stream": "stdout",
       "text": [
        "CPU times: user 2.3 s, sys: 19 ms, total: 2.32 s\n",
        "Wall time: 2.47 s\n"
       ]
      }
     ],
     "prompt_number": 7
    },
    {
     "cell_type": "markdown",
     "metadata": {},
     "source": [
      "for visualization purposes, perform a manifold embedding in 2D using one of the following techniques: PCA, spectral, MDS, LLE, ISO."
     ]
    },
    {
     "cell_type": "code",
     "collapsed": false,
     "input": [
      "%%time\n",
      "\n",
      "mode='LLE'\n",
      "n_components=2\n",
      "n_neighbors=10\n",
      "\n",
      "if mode == 'PCA':\n",
      "    emb = PCA(n_components=n_components)\n",
      "elif mode == 'Spectral':\n",
      "    emb = manifold.SpectralEmbedding(n_components=n_components,n_neighbors=n_neighbors)\n",
      "elif mode == 'MDS':\n",
      "    emb = manifold.MDS(n_components, max_iter=30, n_init=1)\n",
      "elif mode == 'LLE':\n",
      "    emb = manifold.LocallyLinearEmbedding(n_neighbors,n_components,eigen_solver='auto',method='standard')\n",
      "elif mode == 'ISO':\n",
      "    emb = manifold.Isomap(n_neighbors=n_neighbors, n_components=n_components)\n",
      "\n",
      "    \n",
      "Xs = emb.fit_transform(Xl)"
     ],
     "language": "python",
     "metadata": {},
     "outputs": [
      {
       "output_type": "stream",
       "stream": "stdout",
       "text": [
        "CPU times: user 34.2 s, sys: 305 ms, total: 34.5 s\n",
        "Wall time: 35.2 s\n"
       ]
      }
     ],
     "prompt_number": 8
    },
    {
     "cell_type": "code",
     "collapsed": false,
     "input": [
      "plt.figure(figsize=(7,7))\n",
      "plt.grid(True)\n",
      "\n",
      "plt.plot(Xs[:,0],Xs[:,1], marker='o', linestyle='-', color='r')"
     ],
     "language": "python",
     "metadata": {},
     "outputs": [
      {
       "metadata": {},
       "output_type": "pyout",
       "prompt_number": 9,
       "text": [
        "[<matplotlib.lines.Line2D at 0x7f8e1d7eded0>]"
       ]
      },
      {
       "metadata": {},
       "output_type": "display_data",
       "png": "[encoded data removed]",
       "text": [
        "<matplotlib.figure.Figure at 0x7f8e1d7ed8d0>"
       ]
      }
     ],
     "prompt_number": 9
    }
   ],
   "metadata": {}
  }
 ]
}