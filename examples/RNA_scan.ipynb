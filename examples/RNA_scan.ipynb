{
 "metadata": {
  "name": "",
  "signature": "sha256:9ef54ceeebb546927b72c400ca07bc35196b170604670f35965f9bf2836c2f92"
 },
 "nbformat": 3,
 "nbformat_minor": 0,
 "worksheets": [
  {
   "cells": [
    {
     "cell_type": "markdown",
     "metadata": {},
     "source": [
      "#RNA scan\n",
      "\n",
      "Application scenario: "
     ]
    },
    {
     "cell_type": "code",
     "collapsed": false,
     "input": [
      "%pylab inline\n",
      "import pylab as pl"
     ],
     "language": "python",
     "metadata": {},
     "outputs": [
      {
       "output_type": "stream",
       "stream": "stdout",
       "text": [
        "Populating the interactive namespace from numpy and matplotlib\n"
       ]
      }
     ],
     "prompt_number": 1
    },
    {
     "cell_type": "markdown",
     "metadata": {},
     "source": [
      "given the RFAM id of a family we retrieve it from the RFAM online database\n",
      "composing the correspondent URL"
     ]
    },
    {
     "cell_type": "code",
     "collapsed": false,
     "input": [
      "def rfam_url(family_id):\n",
      "    return 'http://rfam.xfam.org/family/%s/alignment?acc=%s&format=fastau&download=0'%(family_id,family_id)"
     ],
     "language": "python",
     "metadata": {},
     "outputs": [],
     "prompt_number": 2
    },
    {
     "cell_type": "code",
     "collapsed": false,
     "input": [
      "rfam_id = 'RF00002'\n",
      "print rfam_url(rfam_id)"
     ],
     "language": "python",
     "metadata": {},
     "outputs": [
      {
       "output_type": "stream",
       "stream": "stdout",
       "text": [
        "http://rfam.xfam.org/family/RF00002/alignment?acc=RF00002&format=fastau&download=0\n"
       ]
      }
     ],
     "prompt_number": 3
    },
    {
     "cell_type": "code",
     "collapsed": false,
     "input": [
      "def compose(input = None, input_type = None, step = 1, window = 100):\n",
      "    from eden.modifier.fasta import fasta_to_fasta, split_modifier\n",
      "    seqs = fasta_to_fasta(input = input, input_type = input_type, modifier = split_modifier, step = step, window = window)\n",
      "    \n",
      "    from eden.converter.fasta import fasta_to_eden\n",
      "    graphs = fasta_to_eden(input = seqs, input_type = 'list')\n",
      "\n",
      "    return graphs"
     ],
     "language": "python",
     "metadata": {},
     "outputs": [],
     "prompt_number": 4
    },
    {
     "cell_type": "code",
     "collapsed": false,
     "input": [
      "def compose_id(input = None, input_type = None, step = 1, window = 100):\n",
      "    from eden.modifier.fasta import fasta_to_fasta, split_modifier, one_line_modifier\n",
      "    seqs = fasta_to_fasta(input = input, input_type = input_type, modifier = split_modifier, step = step, window = window)\n",
      "    seqs = fasta_to_fasta(input = seqs, input_type = 'list', modifier = one_line_modifier)\n",
      "    \n",
      "    return seqs"
     ],
     "language": "python",
     "metadata": {},
     "outputs": [],
     "prompt_number": 5
    },
    {
     "cell_type": "code",
     "collapsed": false,
     "input": [
      "from eden.graph import Vectorizer, OnlineSimilarity\n",
      "\n",
      "def scan(input = None, input_type = None, ref_graph = None, step = 1, window = 100, radius = 1, distance = 0, similarity_threshold = 0.9):\n",
      "    vec = Vectorizer(r = radius,d = distance, min_r = radius)\n",
      "    sim = OnlineSimilarity(ref_graph = ref_graph, vectorizer = vec)\n",
      "    scan_graphs = compose(input = input, input_type = input_type, step = step, window = window)\n",
      "    scan_ids = compose_id(input = input, input_type = input_type, step = step, window = window)\n",
      "    for s,id in it.izip(sim.predict(scan_graphs), scan_ids):\n",
      "        print id ########\n",
      "        if s >= similarity_threshold:\n",
      "            yield (s,id)"
     ],
     "language": "python",
     "metadata": {},
     "outputs": []
    },
    {
     "cell_type": "code",
     "collapsed": false,
     "input": [
      "%%time\n",
      "import sys\n",
      "\n",
      "step = 1\n",
      "window = 50\n",
      "\n",
      "graphs = compose(rfam_url(rfam_id), input_type = 'url', step = step, window = window)\n",
      "\n",
      "id = 0\n",
      "start = id\n",
      "stop = id+1\n",
      "import itertools as it\n",
      "count = 0\n",
      "for ref_graph in it.islice(graphs,start,stop):\n",
      "    count += 1\n",
      "    for s,win_id in scan(input = rfam_url(rfam_id), input_type = 'url', \n",
      "                         ref_graph = ref_graph, step = step, window = window, \n",
      "                         radius = 1, distance = 0, \n",
      "                         similarity_threshold = 0.5):\n",
      "        res = 'frag: %d sim: %0.2f match: %s' % (count, s,win_id)\n",
      "        print res\n",
      "        sys.stdout.flush()"
     ],
     "language": "python",
     "metadata": {},
     "outputs": [
      {
       "output_type": "stream",
       "stream": "stdout",
       "text": [
        ">L78065.1/3758-3910 START: 000000000 WINDOW: 050\tAACCCUAGGCAGGGGAUCACUCGGCUCAUGGAUCGAUGAAGACCGCAGCU\n",
        "frag: 1 sim: 1.00 match: >L78065.1/3758-3910 START: 000000000 WINDOW: 050\tAACCCUAGGCAGGGGAUCACUCGGCUCAUGGAUCGAUGAAGACCGCAGCU\n"
       ]
      },
      {
       "output_type": "stream",
       "stream": "stdout",
       "text": [
        ">L78065.1/3758-3910 START: 000000001 WINDOW: 050\tACCCUAGGCAGGGGAUCACUCGGCUCAUGGAUCGAUGAAGACCGCAGCUA\n",
        "frag: 1 sim: 0.98 match: >L78065.1/3758-3910 START: 000000001 WINDOW: 050\tACCCUAGGCAGGGGAUCACUCGGCUCAUGGAUCGAUGAAGACCGCAGCUA\n"
       ]
      },
      {
       "output_type": "stream",
       "stream": "stdout",
       "text": [
        ">L78065.1/3758-3910 START: 000000002 WINDOW: 050\tCCCUAGGCAGGGGAUCACUCGGCUCAUGGAUCGAUGAAGACCGCAGCUAA\n",
        "frag: 1 sim: 0.98 match: >L78065.1/3758-3910 START: 000000002 WINDOW: 050\tCCCUAGGCAGGGGAUCACUCGGCUCAUGGAUCGAUGAAGACCGCAGCUAA\n"
       ]
      },
      {
       "output_type": "stream",
       "stream": "stdout",
       "text": [
        ">L78065.1/3758-3910 START: 000000003 WINDOW: 050\tCCUAGGCAGGGGAUCACUCGGCUCAUGGAUCGAUGAAGACCGCAGCUAAA\n",
        "frag: 1 sim: 0.97 match: >L78065.1/3758-3910 START: 000000003 WINDOW: 050\tCCUAGGCAGGGGAUCACUCGGCUCAUGGAUCGAUGAAGACCGCAGCUAAA\n"
       ]
      },
      {
       "output_type": "stream",
       "stream": "stdout",
       "text": [
        ">L78065.1/3758-3910 START: 000000004 WINDOW: 050\tCUAGGCAGGGGAUCACUCGGCUCAUGGAUCGAUGAAGACCGCAGCUAAAU\n",
        "frag: 1 sim: 0.95 match: >L78065.1/3758-3910 START: 000000004 WINDOW: 050\tCUAGGCAGGGGAUCACUCGGCUCAUGGAUCGAUGAAGACCGCAGCUAAAU\n"
       ]
      },
      {
       "output_type": "stream",
       "stream": "stdout",
       "text": [
        ">L78065.1/3758-3910 START: 000000005 WINDOW: 050\tUAGGCAGGGGAUCACUCGGCUCAUGGAUCGAUGAAGACCGCAGCUAAAUG\n",
        "frag: 1 sim: 0.94 match: >L78065.1/3758-3910 START: 000000005 WINDOW: 050\tUAGGCAGGGGAUCACUCGGCUCAUGGAUCGAUGAAGACCGCAGCUAAAUG\n"
       ]
      },
      {
       "output_type": "stream",
       "stream": "stdout",
       "text": [
        ">L78065.1/3758-3910 START: 000000006 WINDOW: 050\tAGGCAGGGGAUCACUCGGCUCAUGGAUCGAUGAAGACCGCAGCUAAAUGC\n",
        "frag: 1 sim: 0.93 match: >L78065.1/3758-3910 START: 000000006 WINDOW: 050\tAGGCAGGGGAUCACUCGGCUCAUGGAUCGAUGAAGACCGCAGCUAAAUGC\n"
       ]
      },
      {
       "output_type": "stream",
       "stream": "stdout",
       "text": [
        ">L78065.1/3758-3910 START: 000000007 WINDOW: 050\tGGCAGGGGAUCACUCGGCUCAUGGAUCGAUGAAGACCGCAGCUAAAUGCG\n",
        "frag: 1 sim: 0.93 match: >L78065.1/3758-3910 START: 000000007 WINDOW: 050\tGGCAGGGGAUCACUCGGCUCAUGGAUCGAUGAAGACCGCAGCUAAAUGCG\n"
       ]
      },
      {
       "output_type": "stream",
       "stream": "stdout",
       "text": [
        ">L78065.1/3758-3910 START: 000000008 WINDOW: 050\tGCAGGGGAUCACUCGGCUCAUGGAUCGAUGAAGACCGCAGCUAAAUGCGC\n",
        "frag: 1 sim: 0.92 match: >L78065.1/3758-3910 START: 000000008 WINDOW: 050\tGCAGGGGAUCACUCGGCUCAUGGAUCGAUGAAGACCGCAGCUAAAUGCGC\n"
       ]
      },
      {
       "output_type": "stream",
       "stream": "stdout",
       "text": [
        ">L78065.1/3758-3910 START: 000000009 WINDOW: 050\tCAGGGGAUCACUCGGCUCAUGGAUCGAUGAAGACCGCAGCUAAAUGCGCG\n",
        "frag: 1 sim: 0.90 match: >L78065.1/3758-3910 START: 000000009 WINDOW: 050\tCAGGGGAUCACUCGGCUCAUGGAUCGAUGAAGACCGCAGCUAAAUGCGCG\n"
       ]
      },
      {
       "output_type": "stream",
       "stream": "stdout",
       "text": [
        ">L78065.1/3758-3910 START: 000000010 WINDOW: 050\tAGGGGAUCACUCGGCUCAUGGAUCGAUGAAGACCGCAGCUAAAUGCGCGU\n",
        "frag: 1 sim: 0.88 match: >L78065.1/3758-3910 START: 000000010 WINDOW: 050\tAGGGGAUCACUCGGCUCAUGGAUCGAUGAAGACCGCAGCUAAAUGCGCGU\n"
       ]
      },
      {
       "output_type": "stream",
       "stream": "stdout",
       "text": [
        ">L78065.1/3758-3910 START: 000000011 WINDOW: 050\tGGGGAUCACUCGGCUCAUGGAUCGAUGAAGACCGCAGCUAAAUGCGCGUC\n",
        "frag: 1 sim: 0.86 match: >L78065.1/3758-3910 START: 000000011 WINDOW: 050\tGGGGAUCACUCGGCUCAUGGAUCGAUGAAGACCGCAGCUAAAUGCGCGUC\n"
       ]
      },
      {
       "output_type": "stream",
       "stream": "stdout",
       "text": [
        ">L78065.1/3758-3910 START: 000000012 WINDOW: 050\tGGGAUCACUCGGCUCAUGGAUCGAUGAAGACCGCAGCUAAAUGCGCGUCA\n",
        "frag: 1 sim: 0.86 match: >L78065.1/3758-3910 START: 000000012 WINDOW: 050\tGGGAUCACUCGGCUCAUGGAUCGAUGAAGACCGCAGCUAAAUGCGCGUCA\n"
       ]
      },
      {
       "output_type": "stream",
       "stream": "stdout",
       "text": [
        ">L78065.1/3758-3910 START: 000000013 WINDOW: 050\tGGAUCACUCGGCUCAUGGAUCGAUGAAGACCGCAGCUAAAUGCGCGUCAG\n",
        "frag: 1 sim: 0.85 match: >L78065.1/3758-3910 START: 000000013 WINDOW: 050\tGGAUCACUCGGCUCAUGGAUCGAUGAAGACCGCAGCUAAAUGCGCGUCAG\n"
       ]
      },
      {
       "output_type": "stream",
       "stream": "stdout",
       "text": [
        ">L78065.1/3758-3910 START: 000000014 WINDOW: 050\tGAUCACUCGGCUCAUGGAUCGAUGAAGACCGCAGCUAAAUGCGCGUCAGA\n",
        "frag: 1 sim: 0.83 match: >L78065.1/3758-3910 START: 000000014 WINDOW: 050\tGAUCACUCGGCUCAUGGAUCGAUGAAGACCGCAGCUAAAUGCGCGUCAGA\n"
       ]
      },
      {
       "output_type": "stream",
       "stream": "stdout",
       "text": [
        ">L78065.1/3758-3910 START: 000000015 WINDOW: 050\tAUCACUCGGCUCAUGGAUCGAUGAAGACCGCAGCUAAAUGCGCGUCAGAA\n",
        "frag: 1 sim: 0.82 match: >L78065.1/3758-3910 START: 000000015 WINDOW: 050\tAUCACUCGGCUCAUGGAUCGAUGAAGACCGCAGCUAAAUGCGCGUCAGAA\n"
       ]
      },
      {
       "output_type": "stream",
       "stream": "stdout",
       "text": [
        ">L78065.1/3758-3910 START: 000000016 WINDOW: 050\tUCACUCGGCUCAUGGAUCGAUGAAGACCGCAGCUAAAUGCGCGUCAGAAU\n",
        "frag: 1 sim: 0.79 match: >L78065.1/3758-3910 START: 000000016 WINDOW: 050\tUCACUCGGCUCAUGGAUCGAUGAAGACCGCAGCUAAAUGCGCGUCAGAAU\n"
       ]
      },
      {
       "output_type": "stream",
       "stream": "stdout",
       "text": [
        ">L78065.1/3758-3910 START: 000000017 WINDOW: 050\tCACUCGGCUCAUGGAUCGAUGAAGACCGCAGCUAAAUGCGCGUCAGAAUG\n",
        "frag: 1 sim: 0.78 match: >L78065.1/3758-3910 START: 000000017 WINDOW: 050\tCACUCGGCUCAUGGAUCGAUGAAGACCGCAGCUAAAUGCGCGUCAGAAUG\n"
       ]
      },
      {
       "output_type": "stream",
       "stream": "stdout",
       "text": [
        ">L78065.1/3758-3910 START: 000000018 WINDOW: 050\tACUCGGCUCAUGGAUCGAUGAAGACCGCAGCUAAAUGCGCGUCAGAAUGU\n",
        "frag: 1 sim: 0.77 match: >L78065.1/3758-3910 START: 000000018 WINDOW: 050\tACUCGGCUCAUGGAUCGAUGAAGACCGCAGCUAAAUGCGCGUCAGAAUGU\n"
       ]
      },
      {
       "output_type": "stream",
       "stream": "stdout",
       "text": [
        ">L78065.1/3758-3910 START: 000000019 WINDOW: 050\tCUCGGCUCAUGGAUCGAUGAAGACCGCAGCUAAAUGCGCGUCAGAAUGUG\n",
        "frag: 1 sim: 0.76 match: >L78065.1/3758-3910 START: 000000019 WINDOW: 050\tCUCGGCUCAUGGAUCGAUGAAGACCGCAGCUAAAUGCGCGUCAGAAUGUG\n"
       ]
      },
      {
       "output_type": "stream",
       "stream": "stdout",
       "text": [
        ">L78065.1/3758-3910 START: 000000020 WINDOW: 050\tUCGGCUCAUGGAUCGAUGAAGACCGCAGCUAAAUGCGCGUCAGAAUGUGA\n",
        "frag: 1 sim: 0.76 match: >L78065.1/3758-3910 START: 000000020 WINDOW: 050\tUCGGCUCAUGGAUCGAUGAAGACCGCAGCUAAAUGCGCGUCAGAAUGUGA\n"
       ]
      },
      {
       "output_type": "stream",
       "stream": "stdout",
       "text": [
        ">L78065.1/3758-3910 START: 000000021 WINDOW: 050\tCGGCUCAUGGAUCGAUGAAGACCGCAGCUAAAUGCGCGUCAGAAUGUGAA\n",
        "frag: 1 sim: 0.74 match: >L78065.1/3758-3910 START: 000000021 WINDOW: 050\tCGGCUCAUGGAUCGAUGAAGACCGCAGCUAAAUGCGCGUCAGAAUGUGAA\n"
       ]
      },
      {
       "output_type": "stream",
       "stream": "stdout",
       "text": [
        ">L78065.1/3758-3910 START: 000000022 WINDOW: 050\tGGCUCAUGGAUCGAUGAAGACCGCAGCUAAAUGCGCGUCAGAAUGUGAAC\n",
        "frag: 1 sim: 0.72 match: >L78065.1/3758-3910 START: 000000022 WINDOW: 050\tGGCUCAUGGAUCGAUGAAGACCGCAGCUAAAUGCGCGUCAGAAUGUGAAC\n"
       ]
      },
      {
       "output_type": "stream",
       "stream": "stdout",
       "text": [
        ">L78065.1/3758-3910 START: 000000023 WINDOW: 050\tGCUCAUGGAUCGAUGAAGACCGCAGCUAAAUGCGCGUCAGAAUGUGAACU\n",
        "frag: 1 sim: 0.71 match: >L78065.1/3758-3910 START: 000000023 WINDOW: 050\tGCUCAUGGAUCGAUGAAGACCGCAGCUAAAUGCGCGUCAGAAUGUGAACU\n"
       ]
      },
      {
       "output_type": "stream",
       "stream": "stdout",
       "text": [
        ">L78065.1/3758-3910 START: 000000024 WINDOW: 050\tCUCAUGGAUCGAUGAAGACCGCAGCUAAAUGCGCGUCAGAAUGUGAACUG\n",
        "frag: 1 sim: 0.68 match: >L78065.1/3758-3910 START: 000000024 WINDOW: 050\tCUCAUGGAUCGAUGAAGACCGCAGCUAAAUGCGCGUCAGAAUGUGAACUG\n"
       ]
      },
      {
       "output_type": "stream",
       "stream": "stdout",
       "text": [
        ">L78065.1/3758-3910 START: 000000025 WINDOW: 050\tUCAUGGAUCGAUGAAGACCGCAGCUAAAUGCGCGUCAGAAUGUGAACUGC\n",
        "frag: 1 sim: 0.66 match: >L78065.1/3758-3910 START: 000000025 WINDOW: 050\tUCAUGGAUCGAUGAAGACCGCAGCUAAAUGCGCGUCAGAAUGUGAACUGC\n"
       ]
      },
      {
       "output_type": "stream",
       "stream": "stdout",
       "text": [
        ">L78065.1/3758-3910 START: 000000026 WINDOW: 050\tCAUGGAUCGAUGAAGACCGCAGCUAAAUGCGCGUCAGAAUGUGAACUGCA\n",
        "frag: 1 sim: 0.65 match: >L78065.1/3758-3910 START: 000000026 WINDOW: 050\tCAUGGAUCGAUGAAGACCGCAGCUAAAUGCGCGUCAGAAUGUGAACUGCA\n"
       ]
      },
      {
       "output_type": "stream",
       "stream": "stdout",
       "text": [
        ">L78065.1/3758-3910 START: 000000027 WINDOW: 050\tAUGGAUCGAUGAAGACCGCAGCUAAAUGCGCGUCAGAAUGUGAACUGCAG\n",
        "frag: 1 sim: 0.65 match: >L78065.1/3758-3910 START: 000000027 WINDOW: 050\tAUGGAUCGAUGAAGACCGCAGCUAAAUGCGCGUCAGAAUGUGAACUGCAG\n"
       ]
      },
      {
       "output_type": "stream",
       "stream": "stdout",
       "text": [
        ">L78065.1/3758-3910 START: 000000028 WINDOW: 050\tUGGAUCGAUGAAGACCGCAGCUAAAUGCGCGUCAGAAUGUGAACUGCAGG\n",
        "frag: 1 sim: 0.68 match: >L78065.1/3758-3910 START: 000000028 WINDOW: 050\tUGGAUCGAUGAAGACCGCAGCUAAAUGCGCGUCAGAAUGUGAACUGCAGG\n"
       ]
      },
      {
       "output_type": "stream",
       "stream": "stdout",
       "text": [
        ">L78065.1/3758-3910 START: 000000029 WINDOW: 050\tGGAUCGAUGAAGACCGCAGCUAAAUGCGCGUCAGAAUGUGAACUGCAGGA\n",
        "frag: 1 sim: 0.69 match: >L78065.1/3758-3910 START: 000000029 WINDOW: 050\tGGAUCGAUGAAGACCGCAGCUAAAUGCGCGUCAGAAUGUGAACUGCAGGA\n"
       ]
      },
      {
       "output_type": "stream",
       "stream": "stdout",
       "text": [
        ">L78065.1/3758-3910 START: 000000030 WINDOW: 050\tGAUCGAUGAAGACCGCAGCUAAAUGCGCGUCAGAAUGUGAACUGCAGGAC\n",
        "frag: 1 sim: 0.67 match: >L78065.1/3758-3910 START: 000000030 WINDOW: 050\tGAUCGAUGAAGACCGCAGCUAAAUGCGCGUCAGAAUGUGAACUGCAGGAC\n"
       ]
      },
      {
       "output_type": "stream",
       "stream": "stdout",
       "text": [
        ">L78065.1/3758-3910 START: 000000031 WINDOW: 050\tAUCGAUGAAGACCGCAGCUAAAUGCGCGUCAGAAUGUGAACUGCAGGACA\n",
        "frag: 1 sim: 0.64 match: >L78065.1/3758-3910 START: 000000031 WINDOW: 050\tAUCGAUGAAGACCGCAGCUAAAUGCGCGUCAGAAUGUGAACUGCAGGACA\n"
       ]
      },
      {
       "output_type": "stream",
       "stream": "stdout",
       "text": [
        ">L78065.1/3758-3910 START: 000000032 WINDOW: 050\tUCGAUGAAGACCGCAGCUAAAUGCGCGUCAGAAUGUGAACUGCAGGACAC\n",
        "frag: 1 sim: 0.64 match: >L78065.1/3758-3910 START: 000000032 WINDOW: 050\tUCGAUGAAGACCGCAGCUAAAUGCGCGUCAGAAUGUGAACUGCAGGACAC\n"
       ]
      },
      {
       "output_type": "stream",
       "stream": "stdout",
       "text": [
        ">L78065.1/3758-3910 START: 000000033 WINDOW: 050\tCGAUGAAGACCGCAGCUAAAUGCGCGUCAGAAUGUGAACUGCAGGACACA\n",
        "frag: 1 sim: 0.60 match: >L78065.1/3758-3910 START: 000000033 WINDOW: 050\tCGAUGAAGACCGCAGCUAAAUGCGCGUCAGAAUGUGAACUGCAGGACACA\n"
       ]
      },
      {
       "output_type": "stream",
       "stream": "stdout",
       "text": [
        ">L78065.1/3758-3910 START: 000000034 WINDOW: 050\tGAUGAAGACCGCAGCUAAAUGCGCGUCAGAAUGUGAACUGCAGGACACAU\n",
        "frag: 1 sim: 0.60 match: >L78065.1/3758-3910 START: 000000034 WINDOW: 050\tGAUGAAGACCGCAGCUAAAUGCGCGUCAGAAUGUGAACUGCAGGACACAU\n"
       ]
      },
      {
       "output_type": "stream",
       "stream": "stdout",
       "text": [
        ">L78065.1/3758-3910 START: 000000035 WINDOW: 050\tAUGAAGACCGCAGCUAAAUGCGCGUCAGAAUGUGAACUGCAGGACACAUG\n",
        "frag: 1 sim: 0.56 match: >L78065.1/3758-3910 START: 000000035 WINDOW: 050\tAUGAAGACCGCAGCUAAAUGCGCGUCAGAAUGUGAACUGCAGGACACAUG\n"
       ]
      },
      {
       "output_type": "stream",
       "stream": "stdout",
       "text": [
        ">L78065.1/3758-3910 START: 000000036 WINDOW: 050\tUGAAGACCGCAGCUAAAUGCGCGUCAGAAUGUGAACUGCAGGACACAUGA\n",
        "frag: 1 sim: 0.56 match: >L78065.1/3758-3910 START: 000000036 WINDOW: 050\tUGAAGACCGCAGCUAAAUGCGCGUCAGAAUGUGAACUGCAGGACACAUGA\n"
       ]
      },
      {
       "output_type": "stream",
       "stream": "stdout",
       "text": [
        ">L78065.1/3758-3910 START: 000000037 WINDOW: 050\tGAAGACCGCAGCUAAAUGCGCGUCAGAAUGUGAACUGCAGGACACAUGAA\n",
        "frag: 1 sim: 0.57 match: >L78065.1/3758-3910 START: 000000037 WINDOW: 050\tGAAGACCGCAGCUAAAUGCGCGUCAGAAUGUGAACUGCAGGACACAUGAA\n"
       ]
      },
      {
       "output_type": "stream",
       "stream": "stdout",
       "text": [
        ">L78065.1/3758-3910 START: 000000038 WINDOW: 050\tAAGACCGCAGCUAAAUGCGCGUCAGAAUGUGAACUGCAGGACACAUGAAC\n",
        "frag: 1 sim: 0.57 match: >L78065.1/3758-3910 START: 000000038 WINDOW: 050\tAAGACCGCAGCUAAAUGCGCGUCAGAAUGUGAACUGCAGGACACAUGAAC\n"
       ]
      },
      {
       "output_type": "stream",
       "stream": "stdout",
       "text": [
        ">L78065.1/3758-3910 START: 000000039 WINDOW: 050\tAGACCGCAGCUAAAUGCGCGUCAGAAUGUGAACUGCAGGACACAUGAACA\n",
        "frag: 1 sim: 0.55 match: >L78065.1/3758-3910 START: 000000039 WINDOW: 050\tAGACCGCAGCUAAAUGCGCGUCAGAAUGUGAACUGCAGGACACAUGAACA\n"
       ]
      },
      {
       "output_type": "stream",
       "stream": "stdout",
       "text": [
        ">L78065.1/3758-3910 START: 000000040 WINDOW: 050\tGACCGCAGCUAAAUGCGCGUCAGAAUGUGAACUGCAGGACACAUGAACAC\n",
        "frag: 1 sim: 0.55 match: >L78065.1/3758-3910 START: 000000040 WINDOW: 050\tGACCGCAGCUAAAUGCGCGUCAGAAUGUGAACUGCAGGACACAUGAACAC\n"
       ]
      },
      {
       "output_type": "stream",
       "stream": "stdout",
       "text": [
        ">L78065.1/3758-3910 START: 000000041 WINDOW: 050\tACCGCAGCUAAAUGCGCGUCAGAAUGUGAACUGCAGGACACAUGAACACC\n",
        "frag: 1 sim: 0.56 match: >L78065.1/3758-3910 START: 000000041 WINDOW: 050\tACCGCAGCUAAAUGCGCGUCAGAAUGUGAACUGCAGGACACAUGAACACC\n"
       ]
      },
      {
       "output_type": "stream",
       "stream": "stdout",
       "text": [
        ">L78065.1/3758-3910 START: 000000042 WINDOW: 050\tCCGCAGCUAAAUGCGCGUCAGAAUGUGAACUGCAGGACACAUGAACACCG\n",
        "frag: 1 sim: 0.55 match: >L78065.1/3758-3910 START: 000000042 WINDOW: 050\tCCGCAGCUAAAUGCGCGUCAGAAUGUGAACUGCAGGACACAUGAACACCG\n"
       ]
      },
      {
       "output_type": "stream",
       "stream": "stdout",
       "text": [
        ">L78065.1/3758-3910 START: 000000043 WINDOW: 050\tCGCAGCUAAAUGCGCGUCAGAAUGUGAACUGCAGGACACAUGAACACCGA\n",
        "frag: 1 sim: 0.56 match: >L78065.1/3758-3910 START: 000000043 WINDOW: 050\tCGCAGCUAAAUGCGCGUCAGAAUGUGAACUGCAGGACACAUGAACACCGA\n"
       ]
      },
      {
       "output_type": "stream",
       "stream": "stdout",
       "text": [
        ">L78065.1/3758-3910 START: 000000044 WINDOW: 050\tGCAGCUAAAUGCGCGUCAGAAUGUGAACUGCAGGACACAUGAACACCGAC\n",
        "frag: 1 sim: 0.56 match: >L78065.1/3758-3910 START: 000000044 WINDOW: 050\tGCAGCUAAAUGCGCGUCAGAAUGUGAACUGCAGGACACAUGAACACCGAC\n"
       ]
      },
      {
       "output_type": "stream",
       "stream": "stdout",
       "text": [
        ">L78065.1/3758-3910 START: 000000045 WINDOW: 050\tCAGCUAAAUGCGCGUCAGAAUGUGAACUGCAGGACACAUGAACACCGACA\n",
        "frag: 1 sim: 0.54 match: >L78065.1/3758-3910 START: 000000045 WINDOW: 050\tCAGCUAAAUGCGCGUCAGAAUGUGAACUGCAGGACACAUGAACACCGACA\n"
       ]
      },
      {
       "output_type": "stream",
       "stream": "stdout",
       "text": [
        ">L78065.1/3758-3910 START: 000000046 WINDOW: 050\tAGCUAAAUGCGCGUCAGAAUGUGAACUGCAGGACACAUGAACACCGACAC\n",
        "frag: 1 sim: 0.53 match: >L78065.1/3758-3910 START: 000000046 WINDOW: 050\tAGCUAAAUGCGCGUCAGAAUGUGAACUGCAGGACACAUGAACACCGACAC\n"
       ]
      },
      {
       "output_type": "stream",
       "stream": "stdout",
       "text": [
        ">L78065.1/3758-3910 START: 000000047 WINDOW: 050\tGCUAAAUGCGCGUCAGAAUGUGAACUGCAGGACACAUGAACACCGACACG\n",
        "frag: 1 sim: 0.52 match: >L78065.1/3758-3910 START: 000000047 WINDOW: 050\tGCUAAAUGCGCGUCAGAAUGUGAACUGCAGGACACAUGAACACCGACACG\n"
       ]
      },
      {
       "output_type": "stream",
       "stream": "stdout",
       "text": [
        ">L78065.1/3758-3910 START: 000000048 WINDOW: 050\tCUAAAUGCGCGUCAGAAUGUGAACUGCAGGACACAUGAACACCGACACGU\n",
        ">L78065.1/3758-3910 START: 000000049 WINDOW: 050\tUAAAUGCGCGUCAGAAUGUGAACUGCAGGACACAUGAACACCGACACGUU\n",
        ">L78065.1/3758-3910 START: 000000050 WINDOW: 050\tAAAUGCGCGUCAGAAUGUGAACUGCAGGACACAUGAACACCGACACGUUG\n",
        ">L78065.1/3758-3910 START: 000000051 WINDOW: 050\tAAUGCGCGUCAGAAUGUGAACUGCAGGACACAUGAACACCGACACGUUGA\n",
        ">L78065.1/3758-3910 START: 000000052 WINDOW: 050\tAUGCGCGUCAGAAUGUGAACUGCAGGACACAUGAACACCGACACGUUGAA\n",
        ">L78065.1/3758-3910 START: 000000053 WINDOW: 050\tUGCGCGUCAGAAUGUGAACUGCAGGACACAUGAACACCGACACGUUGAAC\n",
        ">L78065.1/3758-3910 START: 000000054 WINDOW: 050\tGCGCGUCAGAAUGUGAACUGCAGGACACAUGAACACCGACACGUUGAACG\n",
        ">L78065.1/3758-3910 START: 000000055 WINDOW: 050\tCGCGUCAGAAUGUGAACUGCAGGACACAUGAACACCGACACGUUGAACGA\n",
        "frag: 1 sim: 0.50 match: >L78065.1/3758-3910 START: 000000055 WINDOW: 050\tCGCGUCAGAAUGUGAACUGCAGGACACAUGAACACCGACACGUUGAACGA\n"
       ]
      },
      {
       "output_type": "stream",
       "stream": "stdout",
       "text": [
        ">L78065.1/3758-3910 START: 000000056 WINDOW: 050\tGCGUCAGAAUGUGAACUGCAGGACACAUGAACACCGACACGUUGAACGAU\n",
        "frag: 1 sim: 0.52 match: >L78065.1/3758-3910 START: 000000056 WINDOW: 050\tGCGUCAGAAUGUGAACUGCAGGACACAUGAACACCGACACGUUGAACGAU\n"
       ]
      },
      {
       "output_type": "stream",
       "stream": "stdout",
       "text": [
        ">L78065.1/3758-3910 START: 000000057 WINDOW: 050\tCGUCAGAAUGUGAACUGCAGGACACAUGAACACCGACACGUUGAACGAUA\n",
        "frag: 1 sim: 0.52 match: >L78065.1/3758-3910 START: 000000057 WINDOW: 050\tCGUCAGAAUGUGAACUGCAGGACACAUGAACACCGACACGUUGAACGAUA\n"
       ]
      },
      {
       "output_type": "stream",
       "stream": "stdout",
       "text": [
        ">L78065.1/3758-3910 START: 000000058 WINDOW: 050\tGUCAGAAUGUGAACUGCAGGACACAUGAACACCGACACGUUGAACGAUAU\n",
        "frag: 1 sim: 0.53 match: >L78065.1/3758-3910 START: 000000058 WINDOW: 050\tGUCAGAAUGUGAACUGCAGGACACAUGAACACCGACACGUUGAACGAUAU\n"
       ]
      },
      {
       "output_type": "stream",
       "stream": "stdout",
       "text": [
        ">L78065.1/3758-3910 START: 000000059 WINDOW: 050\tUCAGAAUGUGAACUGCAGGACACAUGAACACCGACACGUUGAACGAUAUU\n",
        "frag: 1 sim: 0.54 match: >L78065.1/3758-3910 START: 000000059 WINDOW: 050\tUCAGAAUGUGAACUGCAGGACACAUGAACACCGACACGUUGAACGAUAUU\n"
       ]
      },
      {
       "output_type": "stream",
       "stream": "stdout",
       "text": [
        ">L78065.1/3758-3910 START: 000000060 WINDOW: 050\tCAGAAUGUGAACUGCAGGACACAUGAACACCGACACGUUGAACGAUAUUG\n",
        "frag: 1 sim: 0.51 match: >L78065.1/3758-3910 START: 000000060 WINDOW: 050\tCAGAAUGUGAACUGCAGGACACAUGAACACCGACACGUUGAACGAUAUUG\n"
       ]
      },
      {
       "output_type": "stream",
       "stream": "stdout",
       "text": [
        ">L78065.1/3758-3910 START: 000000061 WINDOW: 050\tAGAAUGUGAACUGCAGGACACAUGAACACCGACACGUUGAACGAUAUUGC\n",
        ">L78065.1/3758-3910 START: 000000062 WINDOW: 050\tGAAUGUGAACUGCAGGACACAUGAACACCGACACGUUGAACGAUAUUGCG\n",
        ">L78065.1/3758-3910 START: 000000063 WINDOW: 050\tAAUGUGAACUGCAGGACACAUGAACACCGACACGUUGAACGAUAUUGCGC\n",
        ">L78065.1/3758-3910 START: 000000064 WINDOW: 050\tAUGUGAACUGCAGGACACAUGAACACCGACACGUUGAACGAUAUUGCGCA\n",
        ">L78065.1/3758-3910 START: 000000065 WINDOW: 050\tUGUGAACUGCAGGACACAUGAACACCGACACGUUGAACGAUAUUGCGCAU\n",
        ">L78065.1/3758-3910 START: 000000066 WINDOW: 050\tGUGAACUGCAGGACACAUGAACACCGACACGUUGAACGAUAUUGCGCAUU\n",
        ">L78065.1/3758-3910 START: 000000067 WINDOW: 050\tUGAACUGCAGGACACAUGAACACCGACACGUUGAACGAUAUUGCGCAUUG\n",
        ">L78065.1/3758-3910 START: 000000068 WINDOW: 050\tGAACUGCAGGACACAUGAACACCGACACGUUGAACGAUAUUGCGCAUUGC\n",
        ">L78065.1/3758-3910 START: 000000069 WINDOW: 050\tAACUGCAGGACACAUGAACACCGACACGUUGAACGAUAUUGCGCAUUGCA"
       ]
      },
      {
       "output_type": "stream",
       "stream": "stdout",
       "text": [
        "\n",
        ">L78065.1/3758-3910 START: 000000070 WINDOW: 050\tACUGCAGGACACAUGAACACCGACACGUUGAACGAUAUUGCGCAUUGCAC\n",
        ">L78065.1/3758-3910 START: 000000071 WINDOW: 050\tCUGCAGGACACAUGAACACCGACACGUUGAACGAUAUUGCGCAUUGCACG\n",
        ">L78065.1/3758-3910 START: 000000072 WINDOW: 050\tUGCAGGACACAUGAACACCGACACGUUGAACGAUAUUGCGCAUUGCACGA\n",
        ">L78065.1/3758-3910 START: 000000073 WINDOW: 050\tGCAGGACACAUGAACACCGACACGUUGAACGAUAUUGCGCAUUGCACGAC\n",
        ">L78065.1/3758-3910 START: 000000074 WINDOW: 050\tCAGGACACAUGAACACCGACACGUUGAACGAUAUUGCGCAUUGCACGACU\n",
        ">L78065.1/3758-3910 START: 000000075 WINDOW: 050\tAGGACACAUGAACACCGACACGUUGAACGAUAUUGCGCAUUGCACGACUC\n",
        ">L78065.1/3758-3910 START: 000000076 WINDOW: 050\tGGACACAUGAACACCGACACGUUGAACGAUAUUGCGCAUUGCACGACUCA\n",
        ">L78065.1/3758-3910 START: 000000077 WINDOW: 050\tGACACAUGAACACCGACACGUUGAACGAUAUUGCGCAUUGCACGACUCAG"
       ]
      },
      {
       "output_type": "stream",
       "stream": "stdout",
       "text": [
        "\n",
        ">L78065.1/3758-3910 START: 000000078 WINDOW: 050\tACACAUGAACACCGACACGUUGAACGAUAUUGCGCAUUGCACGACUCAGU\n",
        ">L78065.1/3758-3910 START: 000000079 WINDOW: 050\tCACAUGAACACCGACACGUUGAACGAUAUUGCGCAUUGCACGACUCAGUG\n",
        ">L78065.1/3758-3910 START: 000000080 WINDOW: 050\tACAUGAACACCGACACGUUGAACGAUAUUGCGCAUUGCACGACUCAGUGC\n",
        ">L78065.1/3758-3910 START: 000000081 WINDOW: 050\tCAUGAACACCGACACGUUGAACGAUAUUGCGCAUUGCACGACUCAGUGCG\n",
        ">L78065.1/3758-3910 START: 000000082 WINDOW: 050\tAUGAACACCGACACGUUGAACGAUAUUGCGCAUUGCACGACUCAGUGCGA\n",
        ">L78065.1/3758-3910 START: 000000083 WINDOW: 050\tUGAACACCGACACGUUGAACGAUAUUGCGCAUUGCACGACUCAGUGCGAU"
       ]
      },
      {
       "output_type": "stream",
       "stream": "stdout",
       "text": [
        "\n",
        ">L78065.1/3758-3910 START: 000000084 WINDOW: 050\tGAACACCGACACGUUGAACGAUAUUGCGCAUUGCACGACUCAGUGCGAUG\n",
        ">L78065.1/3758-3910 START: 000000085 WINDOW: 050\tAACACCGACACGUUGAACGAUAUUGCGCAUUGCACGACUCAGUGCGAUGU\n",
        ">L78065.1/3758-3910 START: 000000086 WINDOW: 050\tACACCGACACGUUGAACGAUAUUGCGCAUUGCACGACUCAGUGCGAUGUA\n",
        ">L78065.1/3758-3910 START: 000000087 WINDOW: 050\tCACCGACACGUUGAACGAUAUUGCGCAUUGCACGACUCAGUGCGAUGUAC\n",
        ">L78065.1/3758-3910 START: 000000088 WINDOW: 050\tACCGACACGUUGAACGAUAUUGCGCAUUGCACGACUCAGUGCGAUGUACA\n",
        ">L78065.1/3758-3910 START: 000000089 WINDOW: 050\tCCGACACGUUGAACGAUAUUGCGCAUUGCACGACUCAGUGCGAUGUACAC\n",
        ">L78065.1/3758-3910 START: 000000090 WINDOW: 050\tCGACACGUUGAACGAUAUUGCGCAUUGCACGACUCAGUGCGAUGUACACA\n",
        ">L78065.1/3758-3910 START: 000000091 WINDOW: 050\tGACACGUUGAACGAUAUUGCGCAUUGCACGACUCAGUGCGAUGUACACAU"
       ]
      },
      {
       "output_type": "stream",
       "stream": "stdout",
       "text": [
        "\n",
        ">L78065.1/3758-3910 START: 000000092 WINDOW: 050\tACACGUUGAACGAUAUUGCGCAUUGCACGACUCAGUGCGAUGUACACAUU\n",
        ">L78065.1/3758-3910 START: 000000093 WINDOW: 050\tCACGUUGAACGAUAUUGCGCAUUGCACGACUCAGUGCGAUGUACACAUUU\n",
        ">L78065.1/3758-3910 START: 000000094 WINDOW: 050\tACGUUGAACGAUAUUGCGCAUUGCACGACUCAGUGCGAUGUACACAUUUU\n",
        ">L78065.1/3758-3910 START: 000000095 WINDOW: 050\tCGUUGAACGAUAUUGCGCAUUGCACGACUCAGUGCGAUGUACACAUUUUU\n",
        ">L78065.1/3758-3910 START: 000000096 WINDOW: 050\tGUUGAACGAUAUUGCGCAUUGCACGACUCAGUGCGAUGUACACAUUUUUG\n",
        ">L78065.1/3758-3910 START: 000000097 WINDOW: 050\tUUGAACGAUAUUGCGCAUUGCACGACUCAGUGCGAUGUACACAUUUUUGA\n",
        ">L78065.1/3758-3910 START: 000000098 WINDOW: 050\tUGAACGAUAUUGCGCAUUGCACGACUCAGUGCGAUGUACACAUUUUUGAG\n",
        ">L78065.1/3758-3910 START: 000000099 WINDOW: 050\tGAACGAUAUUGCGCAUUGCACGACUCAGUGCGAUGUACACAUUUUUGAGU\n",
        ">L78065.1/3758-3910 START: 000000100 WINDOW: 050\tAACGAUAUUGCGCAUUGCACGACUCAGUGCGAUGUACACAUUUUUGAGUG"
       ]
      },
      {
       "output_type": "stream",
       "stream": "stdout",
       "text": [
        "\n",
        ">L78065.1/3758-3910 START: 000000101 WINDOW: 050\tACGAUAUUGCGCAUUGCACGACUCAGUGCGAUGUACACAUUUUUGAGUGC\n",
        ">L78065.1/3758-3910 START: 000000102 WINDOW: 050\tCGAUAUUGCGCAUUGCACGACUCAGUGCGAUGUACACAUUUUUGAGUGCC\n",
        ">L78065.1/3758-3910 START: 000000103 WINDOW: 050\tGAUAUUGCGCAUUGCACGACUCAGUGCGAUGUACACAUUUUUGAGUGCCC\n",
        ">AB011808.1/289-442 START: 000000000 WINDOW: 050\tAACUUUCAACAACGGAUCUCUUGGUUCUCGCAUCGAUGAAGAACGCAGCG\n",
        "frag: 1 sim: 0.59 match: >AB011808.1/289-442 START: 000000000 WINDOW: 050\tAACUUUCAACAACGGAUCUCUUGGUUCUCGCAUCGAUGAAGAACGCAGCG\n"
       ]
      },
      {
       "output_type": "stream",
       "stream": "stdout",
       "text": [
        ">AB011808.1/289-442 START: 000000001 WINDOW: 050\tACUUUCAACAACGGAUCUCUUGGUUCUCGCAUCGAUGAAGAACGCAGCGA\n",
        "frag: 1 sim: 0.60 match: >AB011808.1/289-442 START: 000000001 WINDOW: 050\tACUUUCAACAACGGAUCUCUUGGUUCUCGCAUCGAUGAAGAACGCAGCGA\n"
       ]
      },
      {
       "output_type": "stream",
       "stream": "stdout",
       "text": [
        ">AB011808.1/289-442 START: 000000002 WINDOW: 050\tCUUUCAACAACGGAUCUCUUGGUUCUCGCAUCGAUGAAGAACGCAGCGAA\n",
        "frag: 1 sim: 0.59 match: >AB011808.1/289-442 START: 000000002 WINDOW: 050\tCUUUCAACAACGGAUCUCUUGGUUCUCGCAUCGAUGAAGAACGCAGCGAA\n"
       ]
      },
      {
       "output_type": "stream",
       "stream": "stdout",
       "text": [
        ">AB011808.1/289-442 START: 000000003 WINDOW: 050\tUUUCAACAACGGAUCUCUUGGUUCUCGCAUCGAUGAAGAACGCAGCGAAA\n",
        "frag: 1 sim: 0.61 match: >AB011808.1/289-442 START: 000000003 WINDOW: 050\tUUUCAACAACGGAUCUCUUGGUUCUCGCAUCGAUGAAGAACGCAGCGAAA\n"
       ]
      },
      {
       "output_type": "stream",
       "stream": "stdout",
       "text": [
        ">AB011808.1/289-442 START: 000000004 WINDOW: 050\tUUCAACAACGGAUCUCUUGGUUCUCGCAUCGAUGAAGAACGCAGCGAAAU\n",
        "frag: 1 sim: 0.60 match: >AB011808.1/289-442 START: 000000004 WINDOW: 050\tUUCAACAACGGAUCUCUUGGUUCUCGCAUCGAUGAAGAACGCAGCGAAAU\n"
       ]
      },
      {
       "output_type": "stream",
       "stream": "stdout",
       "text": [
        ">AB011808.1/289-442 START: 000000005 WINDOW: 050\tUCAACAACGGAUCUCUUGGUUCUCGCAUCGAUGAAGAACGCAGCGAAAUG\n",
        "frag: 1 sim: 0.63 match: >AB011808.1/289-442 START: 000000005 WINDOW: 050\tUCAACAACGGAUCUCUUGGUUCUCGCAUCGAUGAAGAACGCAGCGAAAUG\n"
       ]
      },
      {
       "output_type": "stream",
       "stream": "stdout",
       "text": [
        ">AB011808.1/289-442 START: 000000006 WINDOW: 050\tCAACAACGGAUCUCUUGGUUCUCGCAUCGAUGAAGAACGCAGCGAAAUGC\n",
        "frag: 1 sim: 0.60 match: >AB011808.1/289-442 START: 000000006 WINDOW: 050\tCAACAACGGAUCUCUUGGUUCUCGCAUCGAUGAAGAACGCAGCGAAAUGC\n"
       ]
      },
      {
       "output_type": "stream",
       "stream": "stdout",
       "text": [
        ">AB011808.1/289-442 START: 000000007 WINDOW: 050\tAACAACGGAUCUCUUGGUUCUCGCAUCGAUGAAGAACGCAGCGAAAUGCG\n",
        "frag: 1 sim: 0.61 match: >AB011808.1/289-442 START: 000000007 WINDOW: 050\tAACAACGGAUCUCUUGGUUCUCGCAUCGAUGAAGAACGCAGCGAAAUGCG\n"
       ]
      },
      {
       "output_type": "stream",
       "stream": "stdout",
       "text": [
        ">AB011808.1/289-442 START: 000000008 WINDOW: 050\tACAACGGAUCUCUUGGUUCUCGCAUCGAUGAAGAACGCAGCGAAAUGCGA\n",
        "frag: 1 sim: 0.61 match: >AB011808.1/289-442 START: 000000008 WINDOW: 050\tACAACGGAUCUCUUGGUUCUCGCAUCGAUGAAGAACGCAGCGAAAUGCGA\n"
       ]
      },
      {
       "output_type": "stream",
       "stream": "stdout",
       "text": [
        ">AB011808.1/289-442 START: 000000009 WINDOW: 050\tCAACGGAUCUCUUGGUUCUCGCAUCGAUGAAGAACGCAGCGAAAUGCGAU\n",
        "frag: 1 sim: 0.63 match: >AB011808.1/289-442 START: 000000009 WINDOW: 050\tCAACGGAUCUCUUGGUUCUCGCAUCGAUGAAGAACGCAGCGAAAUGCGAU\n"
       ]
      },
      {
       "output_type": "stream",
       "stream": "stdout",
       "text": [
        ">AB011808.1/289-442 START: 000000010 WINDOW: 050\tAACGGAUCUCUUGGUUCUCGCAUCGAUGAAGAACGCAGCGAAAUGCGAUA\n",
        "frag: 1 sim: 0.64 match: >AB011808.1/289-442 START: 000000010 WINDOW: 050\tAACGGAUCUCUUGGUUCUCGCAUCGAUGAAGAACGCAGCGAAAUGCGAUA\n"
       ]
      },
      {
       "output_type": "stream",
       "stream": "stdout",
       "text": [
        ">AB011808.1/289-442 START: 000000011 WINDOW: 050\tACGGAUCUCUUGGUUCUCGCAUCGAUGAAGAACGCAGCGAAAUGCGAUAC\n",
        "frag: 1 sim: 0.64 match: >AB011808.1/289-442 START: 000000011 WINDOW: 050\tACGGAUCUCUUGGUUCUCGCAUCGAUGAAGAACGCAGCGAAAUGCGAUAC\n"
       ]
      },
      {
       "output_type": "stream",
       "stream": "stdout",
       "text": [
        ">AB011808.1/289-442 START: 000000012 WINDOW: 050\tCGGAUCUCUUGGUUCUCGCAUCGAUGAAGAACGCAGCGAAAUGCGAUACG\n",
        "frag: 1 sim: 0.64 match: >AB011808.1/289-442 START: 000000012 WINDOW: 050\tCGGAUCUCUUGGUUCUCGCAUCGAUGAAGAACGCAGCGAAAUGCGAUACG\n"
       ]
      },
      {
       "output_type": "stream",
       "stream": "stdout",
       "text": [
        ">AB011808.1/289-442 START: 000000013 WINDOW: 050\tGGAUCUCUUGGUUCUCGCAUCGAUGAAGAACGCAGCGAAAUGCGAUACGU\n",
        "frag: 1 sim: 0.61 match: >AB011808.1/289-442 START: 000000013 WINDOW: 050\tGGAUCUCUUGGUUCUCGCAUCGAUGAAGAACGCAGCGAAAUGCGAUACGU\n"
       ]
      },
      {
       "output_type": "stream",
       "stream": "stdout",
       "text": [
        ">AB011808.1/289-442 START: 000000014 WINDOW: 050\tGAUCUCUUGGUUCUCGCAUCGAUGAAGAACGCAGCGAAAUGCGAUACGUA\n",
        "frag: 1 sim: 0.58 match: >AB011808.1/289-442 START: 000000014 WINDOW: 050\tGAUCUCUUGGUUCUCGCAUCGAUGAAGAACGCAGCGAAAUGCGAUACGUA\n"
       ]
      },
      {
       "output_type": "stream",
       "stream": "stdout",
       "text": [
        ">AB011808.1/289-442 START: 000000015 WINDOW: 050\tAUCUCUUGGUUCUCGCAUCGAUGAAGAACGCAGCGAAAUGCGAUACGUAA\n",
        "frag: 1 sim: 0.56 match: >AB011808.1/289-442 START: 000000015 WINDOW: 050\tAUCUCUUGGUUCUCGCAUCGAUGAAGAACGCAGCGAAAUGCGAUACGUAA\n"
       ]
      },
      {
       "output_type": "stream",
       "stream": "stdout",
       "text": [
        ">AB011808.1/289-442 START: 000000016 WINDOW: 050\tUCUCUUGGUUCUCGCAUCGAUGAAGAACGCAGCGAAAUGCGAUACGUAAU\n",
        "frag: 1 sim: 0.53 match: >AB011808.1/289-442 START: 000000016 WINDOW: 050\tUCUCUUGGUUCUCGCAUCGAUGAAGAACGCAGCGAAAUGCGAUACGUAAU\n"
       ]
      },
      {
       "output_type": "stream",
       "stream": "stdout",
       "text": [
        ">AB011808.1/289-442 START: 000000017 WINDOW: 050\tCUCUUGGUUCUCGCAUCGAUGAAGAACGCAGCGAAAUGCGAUACGUAAUG\n",
        "frag: 1 sim: 0.54 match: >AB011808.1/289-442 START: 000000017 WINDOW: 050\tCUCUUGGUUCUCGCAUCGAUGAAGAACGCAGCGAAAUGCGAUACGUAAUG\n"
       ]
      },
      {
       "output_type": "stream",
       "stream": "stdout",
       "text": [
        ">AB011808.1/289-442 START: 000000018 WINDOW: 050\tUCUUGGUUCUCGCAUCGAUGAAGAACGCAGCGAAAUGCGAUACGUAAUGU\n",
        "frag: 1 sim: 0.53 match: >AB011808.1/289-442 START: 000000018 WINDOW: 050\tUCUUGGUUCUCGCAUCGAUGAAGAACGCAGCGAAAUGCGAUACGUAAUGU\n"
       ]
      },
      {
       "output_type": "stream",
       "stream": "stdout",
       "text": [
        ">AB011808.1/289-442 START: 000000019 WINDOW: 050\tCUUGGUUCUCGCAUCGAUGAAGAACGCAGCGAAAUGCGAUACGUAAUGUG\n",
        "frag: 1 sim: 0.53 match: >AB011808.1/289-442 START: 000000019 WINDOW: 050\tCUUGGUUCUCGCAUCGAUGAAGAACGCAGCGAAAUGCGAUACGUAAUGUG\n"
       ]
      },
      {
       "output_type": "stream",
       "stream": "stdout",
       "text": [
        ">AB011808.1/289-442 START: 000000020 WINDOW: 050\tUUGGUUCUCGCAUCGAUGAAGAACGCAGCGAAAUGCGAUACGUAAUGUGA\n",
        "frag: 1 sim: 0.54 match: >AB011808.1/289-442 START: 000000020 WINDOW: 050\tUUGGUUCUCGCAUCGAUGAAGAACGCAGCGAAAUGCGAUACGUAAUGUGA\n"
       ]
      },
      {
       "output_type": "stream",
       "stream": "stdout",
       "text": [
        ">AB011808.1/289-442 START: 000000021 WINDOW: 050\tUGGUUCUCGCAUCGAUGAAGAACGCAGCGAAAUGCGAUACGUAAUGUGAA\n",
        "frag: 1 sim: 0.55 match: >AB011808.1/289-442 START: 000000021 WINDOW: 050\tUGGUUCUCGCAUCGAUGAAGAACGCAGCGAAAUGCGAUACGUAAUGUGAA\n"
       ]
      },
      {
       "output_type": "stream",
       "stream": "stdout",
       "text": [
        ">AB011808.1/289-442 START: 000000022 WINDOW: 050\tGGUUCUCGCAUCGAUGAAGAACGCAGCGAAAUGCGAUACGUAAUGUGAAU\n",
        "frag: 1 sim: 0.52 match: >AB011808.1/289-442 START: 000000022 WINDOW: 050\tGGUUCUCGCAUCGAUGAAGAACGCAGCGAAAUGCGAUACGUAAUGUGAAU\n"
       ]
      },
      {
       "output_type": "stream",
       "stream": "stdout",
       "text": [
        ">AB011808.1/289-442 START: 000000023 WINDOW: 050\tGUUCUCGCAUCGAUGAAGAACGCAGCGAAAUGCGAUACGUAAUGUGAAUU\n",
        "frag: 1 sim: 0.52 match: >AB011808.1/289-442 START: 000000023 WINDOW: 050\tGUUCUCGCAUCGAUGAAGAACGCAGCGAAAUGCGAUACGUAAUGUGAAUU\n"
       ]
      },
      {
       "output_type": "stream",
       "stream": "stdout",
       "text": [
        ">AB011808.1/289-442 START: 000000024 WINDOW: 050\tUUCUCGCAUCGAUGAAGAACGCAGCGAAAUGCGAUACGUAAUGUGAAUUG\n",
        "frag: 1 sim: 0.52 match: >AB011808.1/289-442 START: 000000024 WINDOW: 050\tUUCUCGCAUCGAUGAAGAACGCAGCGAAAUGCGAUACGUAAUGUGAAUUG\n"
       ]
      },
      {
       "output_type": "stream",
       "stream": "stdout",
       "text": [
        ">AB011808.1/289-442 START: 000000025 WINDOW: 050\tUCUCGCAUCGAUGAAGAACGCAGCGAAAUGCGAUACGUAAUGUGAAUUGC\n",
        "frag: 1 sim: 0.52 match: >AB011808.1/289-442 START: 000000025 WINDOW: 050\tUCUCGCAUCGAUGAAGAACGCAGCGAAAUGCGAUACGUAAUGUGAAUUGC\n"
       ]
      },
      {
       "output_type": "stream",
       "stream": "stdout",
       "text": [
        ">AB011808.1/289-442 START: 000000026 WINDOW: 050\tCUCGCAUCGAUGAAGAACGCAGCGAAAUGCGAUACGUAAUGUGAAUUGCA\n",
        "frag: 1 sim: 0.51 match: >AB011808.1/289-442 START: 000000026 WINDOW: 050\tCUCGCAUCGAUGAAGAACGCAGCGAAAUGCGAUACGUAAUGUGAAUUGCA\n"
       ]
      },
      {
       "output_type": "stream",
       "stream": "stdout",
       "text": [
        ">AB011808.1/289-442 START: 000000027 WINDOW: 050\tUCGCAUCGAUGAAGAACGCAGCGAAAUGCGAUACGUAAUGUGAAUUGCAG\n",
        "frag: 1 sim: 0.52 match: >AB011808.1/289-442 START: 000000027 WINDOW: 050\tUCGCAUCGAUGAAGAACGCAGCGAAAUGCGAUACGUAAUGUGAAUUGCAG\n"
       ]
      },
      {
       "output_type": "stream",
       "stream": "stdout",
       "text": [
        ">AB011808.1/289-442 START: 000000028 WINDOW: 050\tCGCAUCGAUGAAGAACGCAGCGAAAUGCGAUACGUAAUGUGAAUUGCAGA\n",
        ">AB011808.1/289-442 START: 000000029 WINDOW: 050\tGCAUCGAUGAAGAACGCAGCGAAAUGCGAUACGUAAUGUGAAUUGCAGAA\n",
        ">AB011808.1/289-442 START: 000000030 WINDOW: 050\tCAUCGAUGAAGAACGCAGCGAAAUGCGAUACGUAAUGUGAAUUGCAGAAU\n",
        ">AB011808.1/289-442 START: 000000031 WINDOW: 050\tAUCGAUGAAGAACGCAGCGAAAUGCGAUACGUAAUGUGAAUUGCAGAAUU\n",
        ">AB011808.1/289-442 START: 000000032 WINDOW: 050\tUCGAUGAAGAACGCAGCGAAAUGCGAUACGUAAUGUGAAUUGCAGAAUUC\n",
        ">AB011808.1/289-442 START: 000000033 WINDOW: 050\tCGAUGAAGAACGCAGCGAAAUGCGAUACGUAAUGUGAAUUGCAGAAUUCC\n",
        ">AB011808.1/289-442 START: 000000034 WINDOW: 050\tGAUGAAGAACGCAGCGAAAUGCGAUACGUAAUGUGAAUUGCAGAAUUCCG\n",
        ">AB011808.1/289-442 START: 000000035 WINDOW: 050\tAUGAAGAACGCAGCGAAAUGCGAUACGUAAUGUGAAUUGCAGAAUUCCGU\n",
        ">AB011808.1/289-442 START: 000000036 WINDOW: 050\tUGAAGAACGCAGCGAAAUGCGAUACGUAAUGUGAAUUGCAGAAUUCCGUG"
       ]
      },
      {
       "output_type": "stream",
       "stream": "stdout",
       "text": [
        "\n",
        ">AB011808.1/289-442 START: 000000037 WINDOW: 050\tGAAGAACGCAGCGAAAUGCGAUACGUAAUGUGAAUUGCAGAAUUCCGUGA\n",
        ">AB011808.1/289-442 START: 000000038 WINDOW: 050\tAAGAACGCAGCGAAAUGCGAUACGUAAUGUGAAUUGCAGAAUUCCGUGAA\n",
        ">AB011808.1/289-442 START: 000000039 WINDOW: 050\tAGAACGCAGCGAAAUGCGAUACGUAAUGUGAAUUGCAGAAUUCCGUGAAU\n",
        ">AB011808.1/289-442 START: 000000040 WINDOW: 050\tGAACGCAGCGAAAUGCGAUACGUAAUGUGAAUUGCAGAAUUCCGUGAAUC\n",
        ">AB011808.1/289-442 START: 000000041 WINDOW: 050\tAACGCAGCGAAAUGCGAUACGUAAUGUGAAUUGCAGAAUUCCGUGAAUCA\n",
        ">AB011808.1/289-442 START: 000000042 WINDOW: 050\tACGCAGCGAAAUGCGAUACGUAAUGUGAAUUGCAGAAUUCCGUGAAUCAU\n",
        ">AB011808.1/289-442 START: 000000043 WINDOW: 050\tCGCAGCGAAAUGCGAUACGUAAUGUGAAUUGCAGAAUUCCGUGAAUCAUC\n",
        ">AB011808.1/289-442 START: 000000044 WINDOW: 050\tGCAGCGAAAUGCGAUACGUAAUGUGAAUUGCAGAAUUCCGUGAAUCAUCG"
       ]
      },
      {
       "output_type": "stream",
       "stream": "stdout",
       "text": [
        "\n",
        ">AB011808.1/289-442 START: 000000045 WINDOW: 050\tCAGCGAAAUGCGAUACGUAAUGUGAAUUGCAGAAUUCCGUGAAUCAUCGA\n",
        ">AB011808.1/289-442 START: 000000046 WINDOW: 050\tAGCGAAAUGCGAUACGUAAUGUGAAUUGCAGAAUUCCGUGAAUCAUCGAA\n",
        ">AB011808.1/289-442 START: 000000047 WINDOW: 050\tGCGAAAUGCGAUACGUAAUGUGAAUUGCAGAAUUCCGUGAAUCAUCGAAU\n",
        ">AB011808.1/289-442 START: 000000048 WINDOW: 050\tCGAAAUGCGAUACGUAAUGUGAAUUGCAGAAUUCCGUGAAUCAUCGAAUC\n",
        ">AB011808.1/289-442 START: 000000049 WINDOW: 050\tGAAAUGCGAUACGUAAUGUGAAUUGCAGAAUUCCGUGAAUCAUCGAAUCU\n",
        ">AB011808.1/289-442 START: 000000050 WINDOW: 050\tAAAUGCGAUACGUAAUGUGAAUUGCAGAAUUCCGUGAAUCAUCGAAUCUU\n",
        ">AB011808.1/289-442 START: 000000051 WINDOW: 050\tAAUGCGAUACGUAAUGUGAAUUGCAGAAUUCCGUGAAUCAUCGAAUCUUU\n",
        ">AB011808.1/289-442 START: 000000052 WINDOW: 050\tAUGCGAUACGUAAUGUGAAUUGCAGAAUUCCGUGAAUCAUCGAAUCUUUG"
       ]
      },
      {
       "output_type": "stream",
       "stream": "stdout",
       "text": [
        "\n",
        ">AB011808.1/289-442 START: 000000053 WINDOW: 050\tUGCGAUACGUAAUGUGAAUUGCAGAAUUCCGUGAAUCAUCGAAUCUUUGA\n",
        ">AB011808.1/289-442 START: 000000054 WINDOW: 050\tGCGAUACGUAAUGUGAAUUGCAGAAUUCCGUGAAUCAUCGAAUCUUUGAA\n",
        ">AB011808.1/289-442 START: 000000055 WINDOW: 050\tCGAUACGUAAUGUGAAUUGCAGAAUUCCGUGAAUCAUCGAAUCUUUGAAC\n",
        ">AB011808.1/289-442 START: 000000056 WINDOW: 050\tGAUACGUAAUGUGAAUUGCAGAAUUCCGUGAAUCAUCGAAUCUUUGAACG\n",
        ">AB011808.1/289-442 START: 000000057 WINDOW: 050\tAUACGUAAUGUGAAUUGCAGAAUUCCGUGAAUCAUCGAAUCUUUGAACGC\n",
        ">AB011808.1/289-442 START: 000000058 WINDOW: 050\tUACGUAAUGUGAAUUGCAGAAUUCCGUGAAUCAUCGAAUCUUUGAACGCA\n",
        ">AB011808.1/289-442 START: 000000059 WINDOW: 050\tACGUAAUGUGAAUUGCAGAAUUCCGUGAAUCAUCGAAUCUUUGAACGCAC\n",
        ">AB011808.1/289-442 START: 000000060 WINDOW: 050\tCGUAAUGUGAAUUGCAGAAUUCCGUGAAUCAUCGAAUCUUUGAACGCACA"
       ]
      },
      {
       "output_type": "stream",
       "stream": "stdout",
       "text": [
        "\n",
        ">AB011808.1/289-442 START: 000000061 WINDOW: 050\tGUAAUGUGAAUUGCAGAAUUCCGUGAAUCAUCGAAUCUUUGAACGCACAU\n",
        ">AB011808.1/289-442 START: 000000062 WINDOW: 050\tUAAUGUGAAUUGCAGAAUUCCGUGAAUCAUCGAAUCUUUGAACGCACAUU\n",
        ">AB011808.1/289-442 START: 000000063 WINDOW: 050\tAAUGUGAAUUGCAGAAUUCCGUGAAUCAUCGAAUCUUUGAACGCACAUUG\n",
        ">AB011808.1/289-442 START: 000000064 WINDOW: 050\tAUGUGAAUUGCAGAAUUCCGUGAAUCAUCGAAUCUUUGAACGCACAUUGC\n",
        ">AB011808.1/289-442 START: 000000065 WINDOW: 050\tUGUGAAUUGCAGAAUUCCGUGAAUCAUCGAAUCUUUGAACGCACAUUGCG\n",
        ">AB011808.1/289-442 START: 000000066 WINDOW: 050\tGUGAAUUGCAGAAUUCCGUGAAUCAUCGAAUCUUUGAACGCACAUUGCGC\n",
        ">AB011808.1/289-442 START: 000000067 WINDOW: 050\tUGAAUUGCAGAAUUCCGUGAAUCAUCGAAUCUUUGAACGCACAUUGCGCC\n",
        ">AB011808.1/289-442 START: 000000068 WINDOW: 050\tGAAUUGCAGAAUUCCGUGAAUCAUCGAAUCUUUGAACGCACAUUGCGCCC"
       ]
      },
      {
       "output_type": "stream",
       "stream": "stdout",
       "text": [
        "\n",
        ">AB011808.1/289-442 START: 000000069 WINDOW: 050\tAAUUGCAGAAUUCCGUGAAUCAUCGAAUCUUUGAACGCACAUUGCGCCCC\n",
        ">AB011808.1/289-442 START: 000000070 WINDOW: 050\tAUUGCAGAAUUCCGUGAAUCAUCGAAUCUUUGAACGCACAUUGCGCCCCU\n",
        ">AB011808.1/289-442 START: 000000071 WINDOW: 050\tUUGCAGAAUUCCGUGAAUCAUCGAAUCUUUGAACGCACAUUGCGCCCCUU\n",
        ">AB011808.1/289-442 START: 000000072 WINDOW: 050\tUGCAGAAUUCCGUGAAUCAUCGAAUCUUUGAACGCACAUUGCGCCCCUUG\n",
        ">AB011808.1/289-442 START: 000000073 WINDOW: 050\tGCAGAAUUCCGUGAAUCAUCGAAUCUUUGAACGCACAUUGCGCCCCUUGG\n",
        ">AB011808.1/289-442 START: 000000074 WINDOW: 050\tCAGAAUUCCGUGAAUCAUCGAAUCUUUGAACGCACAUUGCGCCCCUUGGU\n",
        ">AB011808.1/289-442 START: 000000075 WINDOW: 050\tAGAAUUCCGUGAAUCAUCGAAUCUUUGAACGCACAUUGCGCCCCUUGGUA\n",
        ">AB011808.1/289-442 START: 000000076 WINDOW: 050\tGAAUUCCGUGAAUCAUCGAAUCUUUGAACGCACAUUGCGCCCCUUGGUAU"
       ]
      },
      {
       "output_type": "stream",
       "stream": "stdout",
       "text": [
        "\n",
        ">AB011808.1/289-442 START: 000000077 WINDOW: 050\tAAUUCCGUGAAUCAUCGAAUCUUUGAACGCACAUUGCGCCCCUUGGUAUU\n",
        ">AB011808.1/289-442 START: 000000078 WINDOW: 050\tAUUCCGUGAAUCAUCGAAUCUUUGAACGCACAUUGCGCCCCUUGGUAUUC\n",
        ">AB011808.1/289-442 START: 000000079 WINDOW: 050\tUUCCGUGAAUCAUCGAAUCUUUGAACGCACAUUGCGCCCCUUGGUAUUCC\n",
        ">AB011808.1/289-442 START: 000000080 WINDOW: 050\tUCCGUGAAUCAUCGAAUCUUUGAACGCACAUUGCGCCCCUUGGUAUUCCA\n",
        ">AB011808.1/289-442 START: 000000081 WINDOW: 050\tCCGUGAAUCAUCGAAUCUUUGAACGCACAUUGCGCCCCUUGGUAUUCCAG\n",
        ">AB011808.1/289-442 START: 000000082 WINDOW: 050\tCGUGAAUCAUCGAAUCUUUGAACGCACAUUGCGCCCCUUGGUAUUCCAGG\n",
        "frag: 1 sim: 0.50 match: >AB011808.1/289-442 START: 000000082 WINDOW: 050\tCGUGAAUCAUCGAAUCUUUGAACGCACAUUGCGCCCCUUGGUAUUCCAGG\n"
       ]
      },
      {
       "output_type": "stream",
       "stream": "stdout",
       "text": [
        ">AB011808.1/289-442 START: 000000083 WINDOW: 050\tGUGAAUCAUCGAAUCUUUGAACGCACAUUGCGCCCCUUGGUAUUCCAGGG\n",
        "frag: 1 sim: 0.52 match: >AB011808.1/289-442 START: 000000083 WINDOW: 050\tGUGAAUCAUCGAAUCUUUGAACGCACAUUGCGCCCCUUGGUAUUCCAGGG\n"
       ]
      },
      {
       "output_type": "stream",
       "stream": "stdout",
       "text": [
        ">AB011808.1/289-442 START: 000000084 WINDOW: 050\tUGAAUCAUCGAAUCUUUGAACGCACAUUGCGCCCCUUGGUAUUCCAGGGG\n",
        "frag: 1 sim: 0.54 match: >AB011808.1/289-442 START: 000000084 WINDOW: 050\tUGAAUCAUCGAAUCUUUGAACGCACAUUGCGCCCCUUGGUAUUCCAGGGG\n"
       ]
      },
      {
       "output_type": "stream",
       "stream": "stdout",
       "text": [
        ">AB011808.1/289-442 START: 000000085 WINDOW: 050\tGAAUCAUCGAAUCUUUGAACGCACAUUGCGCCCCUUGGUAUUCCAGGGGG\n",
        "frag: 1 sim: 0.54 match: >AB011808.1/289-442 START: 000000085 WINDOW: 050\tGAAUCAUCGAAUCUUUGAACGCACAUUGCGCCCCUUGGUAUUCCAGGGGG\n"
       ]
      },
      {
       "output_type": "stream",
       "stream": "stdout",
       "text": [
        ">AB011808.1/289-442 START: 000000086 WINDOW: 050\tAAUCAUCGAAUCUUUGAACGCACAUUGCGCCCCUUGGUAUUCCAGGGGGC\n",
        "frag: 1 sim: 0.57 match: >AB011808.1/289-442 START: 000000086 WINDOW: 050\tAAUCAUCGAAUCUUUGAACGCACAUUGCGCCCCUUGGUAUUCCAGGGGGC\n"
       ]
      },
      {
       "output_type": "stream",
       "stream": "stdout",
       "text": [
        ">AB011808.1/289-442 START: 000000087 WINDOW: 050\tAUCAUCGAAUCUUUGAACGCACAUUGCGCCCCUUGGUAUUCCAGGGGGCA\n",
        "frag: 1 sim: 0.57 match: >AB011808.1/289-442 START: 000000087 WINDOW: 050\tAUCAUCGAAUCUUUGAACGCACAUUGCGCCCCUUGGUAUUCCAGGGGGCA\n"
       ]
      },
      {
       "output_type": "stream",
       "stream": "stdout",
       "text": [
        ">AB011808.1/289-442 START: 000000088 WINDOW: 050\tUCAUCGAAUCUUUGAACGCACAUUGCGCCCCUUGGUAUUCCAGGGGGCAU\n",
        "frag: 1 sim: 0.57 match: >AB011808.1/289-442 START: 000000088 WINDOW: 050\tUCAUCGAAUCUUUGAACGCACAUUGCGCCCCUUGGUAUUCCAGGGGGCAU\n"
       ]
      },
      {
       "output_type": "stream",
       "stream": "stdout",
       "text": [
        ">AB011808.1/289-442 START: 000000089 WINDOW: 050\tCAUCGAAUCUUUGAACGCACAUUGCGCCCCUUGGUAUUCCAGGGGGCAUG\n",
        "frag: 1 sim: 0.54 match: >AB011808.1/289-442 START: 000000089 WINDOW: 050\tCAUCGAAUCUUUGAACGCACAUUGCGCCCCUUGGUAUUCCAGGGGGCAUG\n"
       ]
      },
      {
       "output_type": "stream",
       "stream": "stdout",
       "text": [
        ">AB011808.1/289-442 START: 000000090 WINDOW: 050\tAUCGAAUCUUUGAACGCACAUUGCGCCCCUUGGUAUUCCAGGGGGCAUGC\n",
        "frag: 1 sim: 0.54 match: >AB011808.1/289-442 START: 000000090 WINDOW: 050\tAUCGAAUCUUUGAACGCACAUUGCGCCCCUUGGUAUUCCAGGGGGCAUGC\n"
       ]
      },
      {
       "output_type": "stream",
       "stream": "stdout",
       "text": [
        ">AB011808.1/289-442 START: 000000091 WINDOW: 050\tUCGAAUCUUUGAACGCACAUUGCGCCCCUUGGUAUUCCAGGGGGCAUGCC\n",
        "frag: 1 sim: 0.53 match: >AB011808.1/289-442 START: 000000091 WINDOW: 050\tUCGAAUCUUUGAACGCACAUUGCGCCCCUUGGUAUUCCAGGGGGCAUGCC\n"
       ]
      },
      {
       "output_type": "stream",
       "stream": "stdout",
       "text": [
        ">AB011808.1/289-442 START: 000000092 WINDOW: 050\tCGAAUCUUUGAACGCACAUUGCGCCCCUUGGUAUUCCAGGGGGCAUGCCU\n",
        ">AB011808.1/289-442 START: 000000093 WINDOW: 050\tGAAUCUUUGAACGCACAUUGCGCCCCUUGGUAUUCCAGGGGGCAUGCCUG\n",
        ">AB011808.1/289-442 START: 000000094 WINDOW: 050\tAAUCUUUGAACGCACAUUGCGCCCCUUGGUAUUCCAGGGGGCAUGCCUGU\n",
        ">AB011808.1/289-442 START: 000000095 WINDOW: 050\tAUCUUUGAACGCACAUUGCGCCCCUUGGUAUUCCAGGGGGCAUGCCUGUU\n",
        ">AB011808.1/289-442 START: 000000096 WINDOW: 050\tUCUUUGAACGCACAUUGCGCCCCUUGGUAUUCCAGGGGGCAUGCCUGUUU\n",
        ">AB011808.1/289-442 START: 000000097 WINDOW: 050\tCUUUGAACGCACAUUGCGCCCCUUGGUAUUCCAGGGGGCAUGCCUGUUUG\n",
        ">AB011808.1/289-442 START: 000000098 WINDOW: 050\tUUUGAACGCACAUUGCGCCCCUUGGUAUUCCAGGGGGCAUGCCUGUUUGA\n",
        ">AB011808.1/289-442 START: 000000099 WINDOW: 050\tUUGAACGCACAUUGCGCCCCUUGGUAUUCCAGGGGGCAUGCCUGUUUGAG\n",
        ">AB011808.1/289-442 START: 000000100 WINDOW: 050\tUGAACGCACAUUGCGCCCCUUGGUAUUCCAGGGGGCAUGCCUGUUUGAGC"
       ]
      },
      {
       "output_type": "stream",
       "stream": "stdout",
       "text": [
        "\n",
        ">AB011808.1/289-442 START: 000000101 WINDOW: 050\tGAACGCACAUUGCGCCCCUUGGUAUUCCAGGGGGCAUGCCUGUUUGAGCG\n",
        ">AB011808.1/289-442 START: 000000102 WINDOW: 050\tAACGCACAUUGCGCCCCUUGGUAUUCCAGGGGGCAUGCCUGUUUGAGCGU\n",
        ">AB011808.1/289-442 START: 000000103 WINDOW: 050\tACGCACAUUGCGCCCCUUGGUAUUCCAGGGGGCAUGCCUGUUUGAGCGUC\n",
        ">AB011808.1/289-442 START: 000000104 WINDOW: 050\tCGCACAUUGCGCCCCUUGGUAUUCCAGGGGGCAUGCCUGUUUGAGCGUCA\n",
        ">AB021684.1/14108-14260 START: 000000000 WINDOW: 050\tGACUCUCAGCAACGGAUAUCUUGGCUCCCGCAACGAUGAAGAACGCAGCG\n",
        "frag: 1 sim: 0.66 match: >AB021684.1/14108-14260 START: 000000000 WINDOW: 050\tGACUCUCAGCAACGGAUAUCUUGGCUCCCGCAACGAUGAAGAACGCAGCG\n"
       ]
      },
      {
       "output_type": "stream",
       "stream": "stdout",
       "text": [
        ">AB021684.1/14108-14260 START: 000000001 WINDOW: 050\tACUCUCAGCAACGGAUAUCUUGGCUCCCGCAACGAUGAAGAACGCAGCGA\n",
        "frag: 1 sim: 0.65 match: >AB021684.1/14108-14260 START: 000000001 WINDOW: 050\tACUCUCAGCAACGGAUAUCUUGGCUCCCGCAACGAUGAAGAACGCAGCGA\n"
       ]
      },
      {
       "output_type": "stream",
       "stream": "stdout",
       "text": [
        ">AB021684.1/14108-14260 START: 000000002 WINDOW: 050\tCUCUCAGCAACGGAUAUCUUGGCUCCCGCAACGAUGAAGAACGCAGCGAA\n",
        "frag: 1 sim: 0.64 match: >AB021684.1/14108-14260 START: 000000002 WINDOW: 050\tCUCUCAGCAACGGAUAUCUUGGCUCCCGCAACGAUGAAGAACGCAGCGAA\n"
       ]
      },
      {
       "output_type": "stream",
       "stream": "stdout",
       "text": [
        ">AB021684.1/14108-14260 START: 000000003 WINDOW: 050\tUCUCAGCAACGGAUAUCUUGGCUCCCGCAACGAUGAAGAACGCAGCGAAA\n",
        "frag: 1 sim: 0.64 match: >AB021684.1/14108-14260 START: 000000003 WINDOW: 050\tUCUCAGCAACGGAUAUCUUGGCUCCCGCAACGAUGAAGAACGCAGCGAAA\n"
       ]
      },
      {
       "output_type": "stream",
       "stream": "stdout",
       "text": [
        ">AB021684.1/14108-14260 START: 000000004 WINDOW: 050\tCUCAGCAACGGAUAUCUUGGCUCCCGCAACGAUGAAGAACGCAGCGAAAU\n",
        "frag: 1 sim: 0.63 match: >AB021684.1/14108-14260 START: 000000004 WINDOW: 050\tCUCAGCAACGGAUAUCUUGGCUCCCGCAACGAUGAAGAACGCAGCGAAAU\n"
       ]
      },
      {
       "output_type": "stream",
       "stream": "stdout",
       "text": [
        ">AB021684.1/14108-14260 START: 000000005 WINDOW: 050\tUCAGCAACGGAUAUCUUGGCUCCCGCAACGAUGAAGAACGCAGCGAAAUG\n",
        "frag: 1 sim: 0.64 match: >AB021684.1/14108-14260 START: 000000005 WINDOW: 050\tUCAGCAACGGAUAUCUUGGCUCCCGCAACGAUGAAGAACGCAGCGAAAUG\n"
       ]
      },
      {
       "output_type": "stream",
       "stream": "stdout",
       "text": [
        ">AB021684.1/14108-14260 START: 000000006 WINDOW: 050\tCAGCAACGGAUAUCUUGGCUCCCGCAACGAUGAAGAACGCAGCGAAAUGC\n",
        "frag: 1 sim: 0.61 match: >AB021684.1/14108-14260 START: 000000006 WINDOW: 050\tCAGCAACGGAUAUCUUGGCUCCCGCAACGAUGAAGAACGCAGCGAAAUGC\n"
       ]
      },
      {
       "output_type": "stream",
       "stream": "stdout",
       "text": [
        ">AB021684.1/14108-14260 START: 000000007 WINDOW: 050\tAGCAACGGAUAUCUUGGCUCCCGCAACGAUGAAGAACGCAGCGAAAUGCG\n",
        "frag: 1 sim: 0.58 match: >AB021684.1/14108-14260 START: 000000007 WINDOW: 050\tAGCAACGGAUAUCUUGGCUCCCGCAACGAUGAAGAACGCAGCGAAAUGCG\n"
       ]
      },
      {
       "output_type": "stream",
       "stream": "stdout",
       "text": [
        ">AB021684.1/14108-14260 START: 000000008 WINDOW: 050\tGCAACGGAUAUCUUGGCUCCCGCAACGAUGAAGAACGCAGCGAAAUGCGA\n",
        "frag: 1 sim: 0.58 match: >AB021684.1/14108-14260 START: 000000008 WINDOW: 050\tGCAACGGAUAUCUUGGCUCCCGCAACGAUGAAGAACGCAGCGAAAUGCGA\n"
       ]
      },
      {
       "output_type": "stream",
       "stream": "stdout",
       "text": [
        ">AB021684.1/14108-14260 START: 000000009 WINDOW: 050\tCAACGGAUAUCUUGGCUCCCGCAACGAUGAAGAACGCAGCGAAAUGCGAU\n",
        "frag: 1 sim: 0.61 match: >AB021684.1/14108-14260 START: 000000009 WINDOW: 050\tCAACGGAUAUCUUGGCUCCCGCAACGAUGAAGAACGCAGCGAAAUGCGAU\n"
       ]
      },
      {
       "output_type": "stream",
       "stream": "stdout",
       "text": [
        ">AB021684.1/14108-14260 START: 000000010 WINDOW: 050\tAACGGAUAUCUUGGCUCCCGCAACGAUGAAGAACGCAGCGAAAUGCGAUA\n",
        "frag: 1 sim: 0.63 match: >AB021684.1/14108-14260 START: 000000010 WINDOW: 050\tAACGGAUAUCUUGGCUCCCGCAACGAUGAAGAACGCAGCGAAAUGCGAUA\n"
       ]
      },
      {
       "output_type": "stream",
       "stream": "stdout",
       "text": [
        ">AB021684.1/14108-14260 START: 000000011 WINDOW: 050\tACGGAUAUCUUGGCUCCCGCAACGAUGAAGAACGCAGCGAAAUGCGAUAU\n",
        "frag: 1 sim: 0.62 match: >AB021684.1/14108-14260 START: 000000011 WINDOW: 050\tACGGAUAUCUUGGCUCCCGCAACGAUGAAGAACGCAGCGAAAUGCGAUAU\n"
       ]
      },
      {
       "output_type": "stream",
       "stream": "stdout",
       "text": [
        ">AB021684.1/14108-14260 START: 000000012 WINDOW: 050\tCGGAUAUCUUGGCUCCCGCAACGAUGAAGAACGCAGCGAAAUGCGAUAUC\n",
        "frag: 1 sim: 0.64 match: >AB021684.1/14108-14260 START: 000000012 WINDOW: 050\tCGGAUAUCUUGGCUCCCGCAACGAUGAAGAACGCAGCGAAAUGCGAUAUC\n"
       ]
      },
      {
       "output_type": "stream",
       "stream": "stdout",
       "text": [
        ">AB021684.1/14108-14260 START: 000000013 WINDOW: 050\tGGAUAUCUUGGCUCCCGCAACGAUGAAGAACGCAGCGAAAUGCGAUAUCU\n",
        "frag: 1 sim: 0.63 match: >AB021684.1/14108-14260 START: 000000013 WINDOW: 050\tGGAUAUCUUGGCUCCCGCAACGAUGAAGAACGCAGCGAAAUGCGAUAUCU\n"
       ]
      },
      {
       "output_type": "stream",
       "stream": "stdout",
       "text": [
        ">AB021684.1/14108-14260 START: 000000014 WINDOW: 050\tGAUAUCUUGGCUCCCGCAACGAUGAAGAACGCAGCGAAAUGCGAUAUCUA\n",
        "frag: 1 sim: 0.60 match: >AB021684.1/14108-14260 START: 000000014 WINDOW: 050\tGAUAUCUUGGCUCCCGCAACGAUGAAGAACGCAGCGAAAUGCGAUAUCUA\n"
       ]
      },
      {
       "output_type": "stream",
       "stream": "stdout",
       "text": [
        ">AB021684.1/14108-14260 START: 000000015 WINDOW: 050\tAUAUCUUGGCUCCCGCAACGAUGAAGAACGCAGCGAAAUGCGAUAUCUAG\n",
        "frag: 1 sim: 0.60 match: >AB021684.1/14108-14260 START: 000000015 WINDOW: 050\tAUAUCUUGGCUCCCGCAACGAUGAAGAACGCAGCGAAAUGCGAUAUCUAG\n"
       ]
      },
      {
       "output_type": "stream",
       "stream": "stdout",
       "text": [
        ">AB021684.1/14108-14260 START: 000000016 WINDOW: 050\tUAUCUUGGCUCCCGCAACGAUGAAGAACGCAGCGAAAUGCGAUAUCUAGU\n",
        "frag: 1 sim: 0.61 match: >AB021684.1/14108-14260 START: 000000016 WINDOW: 050\tUAUCUUGGCUCCCGCAACGAUGAAGAACGCAGCGAAAUGCGAUAUCUAGU\n"
       ]
      },
      {
       "output_type": "stream",
       "stream": "stdout",
       "text": [
        ">AB021684.1/14108-14260 START: 000000017 WINDOW: 050\tAUCUUGGCUCCCGCAACGAUGAAGAACGCAGCGAAAUGCGAUAUCUAGUG\n",
        "frag: 1 sim: 0.61 match: >AB021684.1/14108-14260 START: 000000017 WINDOW: 050\tAUCUUGGCUCCCGCAACGAUGAAGAACGCAGCGAAAUGCGAUAUCUAGUG\n"
       ]
      },
      {
       "output_type": "stream",
       "stream": "stdout",
       "text": [
        ">AB021684.1/14108-14260 START: 000000018 WINDOW: 050\tUCUUGGCUCCCGCAACGAUGAAGAACGCAGCGAAAUGCGAUAUCUAGUGU\n",
        "frag: 1 sim: 0.61 match: >AB021684.1/14108-14260 START: 000000018 WINDOW: 050\tUCUUGGCUCCCGCAACGAUGAAGAACGCAGCGAAAUGCGAUAUCUAGUGU\n"
       ]
      },
      {
       "output_type": "stream",
       "stream": "stdout",
       "text": [
        ">AB021684.1/14108-14260 START: 000000019 WINDOW: 050\tCUUGGCUCCCGCAACGAUGAAGAACGCAGCGAAAUGCGAUAUCUAGUGUG\n",
        "frag: 1 sim: 0.60 match: >AB021684.1/14108-14260 START: 000000019 WINDOW: 050\tCUUGGCUCCCGCAACGAUGAAGAACGCAGCGAAAUGCGAUAUCUAGUGUG\n"
       ]
      },
      {
       "output_type": "stream",
       "stream": "stdout",
       "text": [
        ">AB021684.1/14108-14260 START: 000000020 WINDOW: 050\tUUGGCUCCCGCAACGAUGAAGAACGCAGCGAAAUGCGAUAUCUAGUGUGA\n",
        "frag: 1 sim: 0.60 match: >AB021684.1/14108-14260 START: 000000020 WINDOW: 050\tUUGGCUCCCGCAACGAUGAAGAACGCAGCGAAAUGCGAUAUCUAGUGUGA\n"
       ]
      },
      {
       "output_type": "stream",
       "stream": "stdout",
       "text": [
        ">AB021684.1/14108-14260 START: 000000021 WINDOW: 050\tUGGCUCCCGCAACGAUGAAGAACGCAGCGAAAUGCGAUAUCUAGUGUGAA\n",
        "frag: 1 sim: 0.60 match: >AB021684.1/14108-14260 START: 000000021 WINDOW: 050\tUGGCUCCCGCAACGAUGAAGAACGCAGCGAAAUGCGAUAUCUAGUGUGAA\n"
       ]
      },
      {
       "output_type": "stream",
       "stream": "stdout",
       "text": [
        ">AB021684.1/14108-14260 START: 000000022 WINDOW: 050\tGGCUCCCGCAACGAUGAAGAACGCAGCGAAAUGCGAUAUCUAGUGUGAAU\n",
        "frag: 1 sim: 0.58 match: >AB021684.1/14108-14260 START: 000000022 WINDOW: 050\tGGCUCCCGCAACGAUGAAGAACGCAGCGAAAUGCGAUAUCUAGUGUGAAU\n"
       ]
      },
      {
       "output_type": "stream",
       "stream": "stdout",
       "text": [
        ">AB021684.1/14108-14260 START: 000000023 WINDOW: 050\tGCUCCCGCAACGAUGAAGAACGCAGCGAAAUGCGAUAUCUAGUGUGAAUU\n",
        "frag: 1 sim: 0.56 match: >AB021684.1/14108-14260 START: 000000023 WINDOW: 050\tGCUCCCGCAACGAUGAAGAACGCAGCGAAAUGCGAUAUCUAGUGUGAAUU\n"
       ]
      },
      {
       "output_type": "stream",
       "stream": "stdout",
       "text": [
        ">AB021684.1/14108-14260 START: 000000024 WINDOW: 050\tCUCCCGCAACGAUGAAGAACGCAGCGAAAUGCGAUAUCUAGUGUGAAUUG\n",
        "frag: 1 sim: 0.52 match: >AB021684.1/14108-14260 START: 000000024 WINDOW: 050\tCUCCCGCAACGAUGAAGAACGCAGCGAAAUGCGAUAUCUAGUGUGAAUUG\n"
       ]
      },
      {
       "output_type": "stream",
       "stream": "stdout",
       "text": [
        ">AB021684.1/14108-14260 START: 000000025 WINDOW: 050\tUCCCGCAACGAUGAAGAACGCAGCGAAAUGCGAUAUCUAGUGUGAAUUGC\n",
        "frag: 1 sim: 0.51 match: >AB021684.1/14108-14260 START: 000000025 WINDOW: 050\tUCCCGCAACGAUGAAGAACGCAGCGAAAUGCGAUAUCUAGUGUGAAUUGC\n"
       ]
      },
      {
       "output_type": "stream",
       "stream": "stdout",
       "text": [
        ">AB021684.1/14108-14260 START: 000000026 WINDOW: 050\tCCCGCAACGAUGAAGAACGCAGCGAAAUGCGAUAUCUAGUGUGAAUUGCA\n",
        ">AB021684.1/14108-14260 START: 000000027 WINDOW: 050\tCCGCAACGAUGAAGAACGCAGCGAAAUGCGAUAUCUAGUGUGAAUUGCAG\n",
        "frag: 1 sim: 0.51 match: >AB021684.1/14108-14260 START: 000000027 WINDOW: 050\tCCGCAACGAUGAAGAACGCAGCGAAAUGCGAUAUCUAGUGUGAAUUGCAG\n"
       ]
      },
      {
       "output_type": "stream",
       "stream": "stdout",
       "text": [
        ">AB021684.1/14108-14260 START: 000000028 WINDOW: 050\tCGCAACGAUGAAGAACGCAGCGAAAUGCGAUAUCUAGUGUGAAUUGCAGA\n",
        "frag: 1 sim: 0.50 match: >AB021684.1/14108-14260 START: 000000028 WINDOW: 050\tCGCAACGAUGAAGAACGCAGCGAAAUGCGAUAUCUAGUGUGAAUUGCAGA\n"
       ]
      },
      {
       "output_type": "stream",
       "stream": "stdout",
       "text": [
        ">AB021684.1/14108-14260 START: 000000029 WINDOW: 050\tGCAACGAUGAAGAACGCAGCGAAAUGCGAUAUCUAGUGUGAAUUGCAGAA\n",
        "frag: 1 sim: 0.51 match: >AB021684.1/14108-14260 START: 000000029 WINDOW: 050\tGCAACGAUGAAGAACGCAGCGAAAUGCGAUAUCUAGUGUGAAUUGCAGAA\n"
       ]
      },
      {
       "output_type": "stream",
       "stream": "stdout",
       "text": [
        ">AB021684.1/14108-14260 START: 000000030 WINDOW: 050\tCAACGAUGAAGAACGCAGCGAAAUGCGAUAUCUAGUGUGAAUUGCAGAAU\n",
        ">AB021684.1/14108-14260 START: 000000031 WINDOW: 050\tAACGAUGAAGAACGCAGCGAAAUGCGAUAUCUAGUGUGAAUUGCAGAAUU\n",
        ">AB021684.1/14108-14260 START: 000000032 WINDOW: 050\tACGAUGAAGAACGCAGCGAAAUGCGAUAUCUAGUGUGAAUUGCAGAAUUC\n",
        ">AB021684.1/14108-14260 START: 000000033 WINDOW: 050\tCGAUGAAGAACGCAGCGAAAUGCGAUAUCUAGUGUGAAUUGCAGAAUUCC\n",
        ">AB021684.1/14108-14260 START: 000000034 WINDOW: 050\tGAUGAAGAACGCAGCGAAAUGCGAUAUCUAGUGUGAAUUGCAGAAUUCCG\n",
        ">AB021684.1/14108-14260 START: 000000035 WINDOW: 050\tAUGAAGAACGCAGCGAAAUGCGAUAUCUAGUGUGAAUUGCAGAAUUCCGC\n",
        ">AB021684.1/14108-14260 START: 000000036 WINDOW: 050\tUGAAGAACGCAGCGAAAUGCGAUAUCUAGUGUGAAUUGCAGAAUUCCGCG\n",
        ">AB021684.1/14108-14260 START: 000000037 WINDOW: 050\tGAAGAACGCAGCGAAAUGCGAUAUCUAGUGUGAAUUGCAGAAUUCCGCGA\n",
        ">AB021684.1/14108-14260 START: 000000038 WINDOW: 050\tAAGAACGCAGCGAAAUGCGAUAUCUAGUGUGAAUUGCAGAAUUCCGCGAA"
       ]
      },
      {
       "output_type": "stream",
       "stream": "stdout",
       "text": [
        "\n",
        ">AB021684.1/14108-14260 START: 000000039 WINDOW: 050\tAGAACGCAGCGAAAUGCGAUAUCUAGUGUGAAUUGCAGAAUUCCGCGAAU\n",
        ">AB021684.1/14108-14260 START: 000000040 WINDOW: 050\tGAACGCAGCGAAAUGCGAUAUCUAGUGUGAAUUGCAGAAUUCCGCGAAUC\n",
        ">AB021684.1/14108-14260 START: 000000041 WINDOW: 050\tAACGCAGCGAAAUGCGAUAUCUAGUGUGAAUUGCAGAAUUCCGCGAAUCA\n",
        ">AB021684.1/14108-14260 START: 000000042 WINDOW: 050\tACGCAGCGAAAUGCGAUAUCUAGUGUGAAUUGCAGAAUUCCGCGAAUCAU\n",
        ">AB021684.1/14108-14260 START: 000000043 WINDOW: 050\tCGCAGCGAAAUGCGAUAUCUAGUGUGAAUUGCAGAAUUCCGCGAAUCAUC\n",
        ">AB021684.1/14108-14260 START: 000000044 WINDOW: 050\tGCAGCGAAAUGCGAUAUCUAGUGUGAAUUGCAGAAUUCCGCGAAUCAUCG\n",
        "frag: 1 sim: 0.51 match: >AB021684.1/14108-14260 START: 000000044 WINDOW: 050\tGCAGCGAAAUGCGAUAUCUAGUGUGAAUUGCAGAAUUCCGCGAAUCAUCG\n"
       ]
      },
      {
       "output_type": "stream",
       "stream": "stdout",
       "text": [
        ">AB021684.1/14108-14260 START: 000000045 WINDOW: 050\tCAGCGAAAUGCGAUAUCUAGUGUGAAUUGCAGAAUUCCGCGAAUCAUCGA\n",
        "frag: 1 sim: 0.50 match: >AB021684.1/14108-14260 START: 000000045 WINDOW: 050\tCAGCGAAAUGCGAUAUCUAGUGUGAAUUGCAGAAUUCCGCGAAUCAUCGA\n"
       ]
      },
      {
       "output_type": "stream",
       "stream": "stdout",
       "text": [
        ">AB021684.1/14108-14260 START: 000000046 WINDOW: 050\tAGCGAAAUGCGAUAUCUAGUGUGAAUUGCAGAAUUCCGCGAAUCAUCGAG\n",
        ">AB021684.1/14108-14260 START: 000000047 WINDOW: 050\tGCGAAAUGCGAUAUCUAGUGUGAAUUGCAGAAUUCCGCGAAUCAUCGAGU\n",
        ">AB021684.1/14108-14260 START: 000000048 WINDOW: 050\tCGAAAUGCGAUAUCUAGUGUGAAUUGCAGAAUUCCGCGAAUCAUCGAGUU\n",
        ">AB021684.1/14108-14260 START: 000000049 WINDOW: 050\tGAAAUGCGAUAUCUAGUGUGAAUUGCAGAAUUCCGCGAAUCAUCGAGUUU\n",
        ">AB021684.1/14108-14260 START: 000000050 WINDOW: 050\tAAAUGCGAUAUCUAGUGUGAAUUGCAGAAUUCCGCGAAUCAUCGAGUUUU\n",
        ">AB021684.1/14108-14260 START: 000000051 WINDOW: 050\tAAUGCGAUAUCUAGUGUGAAUUGCAGAAUUCCGCGAAUCAUCGAGUUUUU\n",
        ">AB021684.1/14108-14260 START: 000000052 WINDOW: 050\tAUGCGAUAUCUAGUGUGAAUUGCAGAAUUCCGCGAAUCAUCGAGUUUUUG\n",
        ">AB021684.1/14108-14260 START: 000000053 WINDOW: 050\tUGCGAUAUCUAGUGUGAAUUGCAGAAUUCCGCGAAUCAUCGAGUUUUUGA\n",
        ">AB021684.1/14108-14260 START: 000000054 WINDOW: 050\tGCGAUAUCUAGUGUGAAUUGCAGAAUUCCGCGAAUCAUCGAGUUUUUGAA\n",
        ">AB021684.1/14108-14260 START: 000000055 WINDOW: 050\tCGAUAUCUAGUGUGAAUUGCAGAAUUCCGCGAAUCAUCGAGUUUUUGAAC"
       ]
      },
      {
       "output_type": "stream",
       "stream": "stdout",
       "text": [
        "\n",
        ">AB021684.1/14108-14260 START: 000000056 WINDOW: 050\tGAUAUCUAGUGUGAAUUGCAGAAUUCCGCGAAUCAUCGAGUUUUUGAACG\n",
        ">AB021684.1/14108-14260 START: 000000057 WINDOW: 050\tAUAUCUAGUGUGAAUUGCAGAAUUCCGCGAAUCAUCGAGUUUUUGAACGC\n",
        ">AB021684.1/14108-14260 START: 000000058 WINDOW: 050\tUAUCUAGUGUGAAUUGCAGAAUUCCGCGAAUCAUCGAGUUUUUGAACGCA\n",
        ">AB021684.1/14108-14260 START: 000000059 WINDOW: 050\tAUCUAGUGUGAAUUGCAGAAUUCCGCGAAUCAUCGAGUUUUUGAACGCAU\n",
        ">AB021684.1/14108-14260 START: 000000060 WINDOW: 050\tUCUAGUGUGAAUUGCAGAAUUCCGCGAAUCAUCGAGUUUUUGAACGCAUG\n",
        ">AB021684.1/14108-14260 START: 000000061 WINDOW: 050\tCUAGUGUGAAUUGCAGAAUUCCGCGAAUCAUCGAGUUUUUGAACGCAUGU\n",
        ">AB021684.1/14108-14260 START: 000000062 WINDOW: 050\tUAGUGUGAAUUGCAGAAUUCCGCGAAUCAUCGAGUUUUUGAACGCAUGUU\n",
        ">AB021684.1/14108-14260 START: 000000063 WINDOW: 050\tAGUGUGAAUUGCAGAAUUCCGCGAAUCAUCGAGUUUUUGAACGCAUGUUG\n",
        ">AB021684.1/14108-14260 START: 000000064 WINDOW: 050\tGUGUGAAUUGCAGAAUUCCGCGAAUCAUCGAGUUUUUGAACGCAUGUUGC"
       ]
      },
      {
       "output_type": "stream",
       "stream": "stdout",
       "text": [
        "\n",
        ">AB021684.1/14108-14260 START: 000000065 WINDOW: 050\tUGUGAAUUGCAGAAUUCCGCGAAUCAUCGAGUUUUUGAACGCAUGUUGCG\n",
        ">AB021684.1/14108-14260 START: 000000066 WINDOW: 050\tGUGAAUUGCAGAAUUCCGCGAAUCAUCGAGUUUUUGAACGCAUGUUGCGC\n",
        ">AB021684.1/14108-14260 START: 000000067 WINDOW: 050\tUGAAUUGCAGAAUUCCGCGAAUCAUCGAGUUUUUGAACGCAUGUUGCGCC\n",
        ">AB021684.1/14108-14260 START: 000000068 WINDOW: 050\tGAAUUGCAGAAUUCCGCGAAUCAUCGAGUUUUUGAACGCAUGUUGCGCCC\n",
        ">AB021684.1/14108-14260 START: 000000069 WINDOW: 050\tAAUUGCAGAAUUCCGCGAAUCAUCGAGUUUUUGAACGCAUGUUGCGCCCG\n",
        ">AB021684.1/14108-14260 START: 000000070 WINDOW: 050\tAUUGCAGAAUUCCGCGAAUCAUCGAGUUUUUGAACGCAUGUUGCGCCCGA\n",
        ">AB021684.1/14108-14260 START: 000000071 WINDOW: 050\tUUGCAGAAUUCCGCGAAUCAUCGAGUUUUUGAACGCAUGUUGCGCCCGAG\n",
        ">AB021684.1/14108-14260 START: 000000072 WINDOW: 050\tUGCAGAAUUCCGCGAAUCAUCGAGUUUUUGAACGCAUGUUGCGCCCGAGG\n",
        ">AB021684.1/14108-14260 START: 000000073 WINDOW: 050\tGCAGAAUUCCGCGAAUCAUCGAGUUUUUGAACGCAUGUUGCGCCCGAGGC"
       ]
      },
      {
       "output_type": "stream",
       "stream": "stdout",
       "text": [
        "\n",
        ">AB021684.1/14108-14260 START: 000000074 WINDOW: 050\tCAGAAUUCCGCGAAUCAUCGAGUUUUUGAACGCAUGUUGCGCCCGAGGCU\n",
        "frag: 1 sim: 0.52 match: >AB021684.1/14108-14260 START: 000000074 WINDOW: 050\tCAGAAUUCCGCGAAUCAUCGAGUUUUUGAACGCAUGUUGCGCCCGAGGCU\n"
       ]
      },
      {
       "output_type": "stream",
       "stream": "stdout",
       "text": [
        ">AB021684.1/14108-14260 START: 000000075 WINDOW: 050\tAGAAUUCCGCGAAUCAUCGAGUUUUUGAACGCAUGUUGCGCCCGAGGCUU\n",
        ">AB021684.1/14108-14260 START: 000000076 WINDOW: 050\tGAAUUCCGCGAAUCAUCGAGUUUUUGAACGCAUGUUGCGCCCGAGGCUUU\n",
        ">AB021684.1/14108-14260 START: 000000077 WINDOW: 050\tAAUUCCGCGAAUCAUCGAGUUUUUGAACGCAUGUUGCGCCCGAGGCUUUG\n",
        ">AB021684.1/14108-14260 START: 000000078 WINDOW: 050\tAUUCCGCGAAUCAUCGAGUUUUUGAACGCAUGUUGCGCCCGAGGCUUUGC\n",
        ">AB021684.1/14108-14260 START: 000000079 WINDOW: 050\tUUCCGCGAAUCAUCGAGUUUUUGAACGCAUGUUGCGCCCGAGGCUUUGCC\n",
        ">AB021684.1/14108-14260 START: 000000080 WINDOW: 050\tUCCGCGAAUCAUCGAGUUUUUGAACGCAUGUUGCGCCCGAGGCUUUGCCG\n",
        ">AB021684.1/14108-14260 START: 000000081 WINDOW: 050\tCCGCGAAUCAUCGAGUUUUUGAACGCAUGUUGCGCCCGAGGCUUUGCCGA\n",
        ">AB021684.1/14108-14260 START: 000000082 WINDOW: 050\tCGCGAAUCAUCGAGUUUUUGAACGCAUGUUGCGCCCGAGGCUUUGCCGAG\n",
        ">AB021684.1/14108-14260 START: 000000083 WINDOW: 050\tGCGAAUCAUCGAGUUUUUGAACGCAUGUUGCGCCCGAGGCUUUGCCGAGG\n",
        ">AB021684.1/14108-14260 START: 000000084 WINDOW: 050\tCGAAUCAUCGAGUUUUUGAACGCAUGUUGCGCCCGAGGCUUUGCCGAGGG"
       ]
      },
      {
       "output_type": "stream",
       "stream": "stdout",
       "text": [
        "\n",
        ">AB021684.1/14108-14260 START: 000000085 WINDOW: 050\tGAAUCAUCGAGUUUUUGAACGCAUGUUGCGCCCGAGGCUUUGCCGAGGGC\n",
        ">AB021684.1/14108-14260 START: 000000086 WINDOW: 050\tAAUCAUCGAGUUUUUGAACGCAUGUUGCGCCCGAGGCUUUGCCGAGGGCA\n",
        ">AB021684.1/14108-14260 START: 000000087 WINDOW: 050\tAUCAUCGAGUUUUUGAACGCAUGUUGCGCCCGAGGCUUUGCCGAGGGCAU\n",
        ">AB021684.1/14108-14260 START: 000000088 WINDOW: 050\tUCAUCGAGUUUUUGAACGCAUGUUGCGCCCGAGGCUUUGCCGAGGGCAUG\n",
        ">AB021684.1/14108-14260 START: 000000089 WINDOW: 050\tCAUCGAGUUUUUGAACGCAUGUUGCGCCCGAGGCUUUGCCGAGGGCAUGU\n",
        ">AB021684.1/14108-14260 START: 000000090 WINDOW: 050\tAUCGAGUUUUUGAACGCAUGUUGCGCCCGAGGCUUUGCCGAGGGCAUGUC\n",
        ">AB021684.1/14108-14260 START: 000000091 WINDOW: 050\tUCGAGUUUUUGAACGCAUGUUGCGCCCGAGGCUUUGCCGAGGGCAUGUCU\n",
        ">AB021684.1/14108-14260 START: 000000092 WINDOW: 050\tCGAGUUUUUGAACGCAUGUUGCGCCCGAGGCUUUGCCGAGGGCAUGUCUG\n",
        ">AB021684.1/14108-14260 START: 000000093 WINDOW: 050\tGAGUUUUUGAACGCAUGUUGCGCCCGAGGCUUUGCCGAGGGCAUGUCUGC"
       ]
      },
      {
       "output_type": "stream",
       "stream": "stdout",
       "text": [
        "\n",
        ">AB021684.1/14108-14260 START: 000000094 WINDOW: 050\tAGUUUUUGAACGCAUGUUGCGCCCGAGGCUUUGCCGAGGGCAUGUCUGCC\n",
        ">AB021684.1/14108-14260 START: 000000095 WINDOW: 050\tGUUUUUGAACGCAUGUUGCGCCCGAGGCUUUGCCGAGGGCAUGUCUGCCU\n",
        ">AB021684.1/14108-14260 START: 000000096 WINDOW: 050\tUUUUUGAACGCAUGUUGCGCCCGAGGCUUUGCCGAGGGCAUGUCUGCCUG\n",
        ">AB021684.1/14108-14260 START: 000000097 WINDOW: 050\tUUUUGAACGCAUGUUGCGCCCGAGGCUUUGCCGAGGGCAUGUCUGCCUGA\n",
        ">AB021684.1/14108-14260 START: 000000098 WINDOW: 050\tUUUGAACGCAUGUUGCGCCCGAGGCUUUGCCGAGGGCAUGUCUGCCUGAG\n",
        ">AB021684.1/14108-14260 START: 000000099 WINDOW: 050\tUUGAACGCAUGUUGCGCCCGAGGCUUUGCCGAGGGCAUGUCUGCCUGAGC\n",
        ">AB021684.1/14108-14260 START: 000000100 WINDOW: 050\tUGAACGCAUGUUGCGCCCGAGGCUUUGCCGAGGGCAUGUCUGCCUGAGCG\n",
        ">AB021684.1/14108-14260 START: 000000101 WINDOW: 050\tGAACGCAUGUUGCGCCCGAGGCUUUGCCGAGGGCAUGUCUGCCUGAGCGU"
       ]
      },
      {
       "output_type": "stream",
       "stream": "stdout",
       "text": [
        "\n",
        ">AB021684.1/14108-14260 START: 000000102 WINDOW: 050\tAACGCAUGUUGCGCCCGAGGCUUUGCCGAGGGCAUGUCUGCCUGAGCGUC\n",
        ">AB021684.1/14108-14260 START: 000000103 WINDOW: 050\tACGCAUGUUGCGCCCGAGGCUUUGCCGAGGGCAUGUCUGCCUGAGCGUCA\n",
        ">AF026388.1/2852-3006 START: 000000000 WINDOW: 050\tAACUUUCAGCAAUGGAUGUCUUGGCUCACGCAUCGAUGAAGGACGCAGCG\n",
        "frag: 1 sim: 0.74 match: >AF026388.1/2852-3006 START: 000000000 WINDOW: 050\tAACUUUCAGCAAUGGAUGUCUUGGCUCACGCAUCGAUGAAGGACGCAGCG\n"
       ]
      },
      {
       "output_type": "stream",
       "stream": "stdout",
       "text": [
        ">AF026388.1/2852-3006 START: 000000001 WINDOW: 050\tACUUUCAGCAAUGGAUGUCUUGGCUCACGCAUCGAUGAAGGACGCAGCGA\n",
        "frag: 1 sim: 0.73 match: >AF026388.1/2852-3006 START: 000000001 WINDOW: 050\tACUUUCAGCAAUGGAUGUCUUGGCUCACGCAUCGAUGAAGGACGCAGCGA\n"
       ]
      },
      {
       "output_type": "stream",
       "stream": "stdout",
       "text": [
        ">AF026388.1/2852-3006 START: 000000002 WINDOW: 050\tCUUUCAGCAAUGGAUGUCUUGGCUCACGCAUCGAUGAAGGACGCAGCGAA\n",
        "frag: 1 sim: 0.73 match: >AF026388.1/2852-3006 START: 000000002 WINDOW: 050\tCUUUCAGCAAUGGAUGUCUUGGCUCACGCAUCGAUGAAGGACGCAGCGAA\n"
       ]
      },
      {
       "output_type": "stream",
       "stream": "stdout",
       "text": [
        ">AF026388.1/2852-3006 START: 000000003 WINDOW: 050\tUUUCAGCAAUGGAUGUCUUGGCUCACGCAUCGAUGAAGGACGCAGCGAAA\n",
        "frag: 1 sim: 0.74 match: >AF026388.1/2852-3006 START: 000000003 WINDOW: 050\tUUUCAGCAAUGGAUGUCUUGGCUCACGCAUCGAUGAAGGACGCAGCGAAA\n"
       ]
      },
      {
       "output_type": "stream",
       "stream": "stdout",
       "text": [
        ">AF026388.1/2852-3006 START: 000000004 WINDOW: 050\tUUCAGCAAUGGAUGUCUUGGCUCACGCAUCGAUGAAGGACGCAGCGAAAU\n",
        "frag: 1 sim: 0.73 match: >AF026388.1/2852-3006 START: 000000004 WINDOW: 050\tUUCAGCAAUGGAUGUCUUGGCUCACGCAUCGAUGAAGGACGCAGCGAAAU\n"
       ]
      },
      {
       "output_type": "stream",
       "stream": "stdout",
       "text": [
        ">AF026388.1/2852-3006 START: 000000005 WINDOW: 050\tUCAGCAAUGGAUGUCUUGGCUCACGCAUCGAUGAAGGACGCAGCGAAAUG\n",
        "frag: 1 sim: 0.74 match: >AF026388.1/2852-3006 START: 000000005 WINDOW: 050\tUCAGCAAUGGAUGUCUUGGCUCACGCAUCGAUGAAGGACGCAGCGAAAUG\n"
       ]
      },
      {
       "output_type": "stream",
       "stream": "stdout",
       "text": [
        ">AF026388.1/2852-3006 START: 000000006 WINDOW: 050\tCAGCAAUGGAUGUCUUGGCUCACGCAUCGAUGAAGGACGCAGCGAAAUGC\n",
        "frag: 1 sim: 0.72 match: >AF026388.1/2852-3006 START: 000000006 WINDOW: 050\tCAGCAAUGGAUGUCUUGGCUCACGCAUCGAUGAAGGACGCAGCGAAAUGC\n"
       ]
      },
      {
       "output_type": "stream",
       "stream": "stdout",
       "text": [
        ">AF026388.1/2852-3006 START: 000000007 WINDOW: 050\tAGCAAUGGAUGUCUUGGCUCACGCAUCGAUGAAGGACGCAGCGAAAUGCG\n",
        "frag: 1 sim: 0.70 match: >AF026388.1/2852-3006 START: 000000007 WINDOW: 050\tAGCAAUGGAUGUCUUGGCUCACGCAUCGAUGAAGGACGCAGCGAAAUGCG\n"
       ]
      },
      {
       "output_type": "stream",
       "stream": "stdout",
       "text": [
        ">AF026388.1/2852-3006 START: 000000008 WINDOW: 050\tGCAAUGGAUGUCUUGGCUCACGCAUCGAUGAAGGACGCAGCGAAAUGCGA\n",
        "frag: 1 sim: 0.70 match: >AF026388.1/2852-3006 START: 000000008 WINDOW: 050\tGCAAUGGAUGUCUUGGCUCACGCAUCGAUGAAGGACGCAGCGAAAUGCGA\n"
       ]
      },
      {
       "output_type": "stream",
       "stream": "stdout",
       "text": [
        ">AF026388.1/2852-3006 START: 000000009 WINDOW: 050\tCAAUGGAUGUCUUGGCUCACGCAUCGAUGAAGGACGCAGCGAAAUGCGAU\n",
        "frag: 1 sim: 0.73 match: >AF026388.1/2852-3006 START: 000000009 WINDOW: 050\tCAAUGGAUGUCUUGGCUCACGCAUCGAUGAAGGACGCAGCGAAAUGCGAU\n"
       ]
      },
      {
       "output_type": "stream",
       "stream": "stdout",
       "text": [
        ">AF026388.1/2852-3006 START: 000000010 WINDOW: 050\tAAUGGAUGUCUUGGCUCACGCAUCGAUGAAGGACGCAGCGAAAUGCGAUA\n",
        "frag: 1 sim: 0.73 match: >AF026388.1/2852-3006 START: 000000010 WINDOW: 050\tAAUGGAUGUCUUGGCUCACGCAUCGAUGAAGGACGCAGCGAAAUGCGAUA\n"
       ]
      },
      {
       "output_type": "stream",
       "stream": "stdout",
       "text": [
        ">AF026388.1/2852-3006 START: 000000011 WINDOW: 050\tAUGGAUGUCUUGGCUCACGCAUCGAUGAAGGACGCAGCGAAAUGCGAUAC\n",
        "frag: 1 sim: 0.73 match: >AF026388.1/2852-3006 START: 000000011 WINDOW: 050\tAUGGAUGUCUUGGCUCACGCAUCGAUGAAGGACGCAGCGAAAUGCGAUAC\n"
       ]
      },
      {
       "output_type": "stream",
       "stream": "stdout",
       "text": [
        ">AF026388.1/2852-3006 START: 000000012 WINDOW: 050\tUGGAUGUCUUGGCUCACGCAUCGAUGAAGGACGCAGCGAAAUGCGAUACG\n",
        "frag: 1 sim: 0.72 match: >AF026388.1/2852-3006 START: 000000012 WINDOW: 050\tUGGAUGUCUUGGCUCACGCAUCGAUGAAGGACGCAGCGAAAUGCGAUACG\n"
       ]
      },
      {
       "output_type": "stream",
       "stream": "stdout",
       "text": [
        ">AF026388.1/2852-3006 START: 000000013 WINDOW: 050\tGGAUGUCUUGGCUCACGCAUCGAUGAAGGACGCAGCGAAAUGCGAUACGC\n",
        "frag: 1 sim: 0.71 match: >AF026388.1/2852-3006 START: 000000013 WINDOW: 050\tGGAUGUCUUGGCUCACGCAUCGAUGAAGGACGCAGCGAAAUGCGAUACGC\n"
       ]
      },
      {
       "output_type": "stream",
       "stream": "stdout",
       "text": [
        ">AF026388.1/2852-3006 START: 000000014 WINDOW: 050\tGAUGUCUUGGCUCACGCAUCGAUGAAGGACGCAGCGAAAUGCGAUACGCA\n",
        "frag: 1 sim: 0.68 match: >AF026388.1/2852-3006 START: 000000014 WINDOW: 050\tGAUGUCUUGGCUCACGCAUCGAUGAAGGACGCAGCGAAAUGCGAUACGCA\n"
       ]
      },
      {
       "output_type": "stream",
       "stream": "stdout",
       "text": [
        ">AF026388.1/2852-3006 START: 000000015 WINDOW: 050\tAUGUCUUGGCUCACGCAUCGAUGAAGGACGCAGCGAAAUGCGAUACGCAU\n",
        "frag: 1 sim: 0.66 match: >AF026388.1/2852-3006 START: 000000015 WINDOW: 050\tAUGUCUUGGCUCACGCAUCGAUGAAGGACGCAGCGAAAUGCGAUACGCAU\n"
       ]
      },
      {
       "output_type": "stream",
       "stream": "stdout",
       "text": [
        ">AF026388.1/2852-3006 START: 000000016 WINDOW: 050\tUGUCUUGGCUCACGCAUCGAUGAAGGACGCAGCGAAAUGCGAUACGCAUU\n",
        "frag: 1 sim: 0.65 match: >AF026388.1/2852-3006 START: 000000016 WINDOW: 050\tUGUCUUGGCUCACGCAUCGAUGAAGGACGCAGCGAAAUGCGAUACGCAUU\n"
       ]
      },
      {
       "output_type": "stream",
       "stream": "stdout",
       "text": [
        ">AF026388.1/2852-3006 START: 000000017 WINDOW: 050\tGUCUUGGCUCACGCAUCGAUGAAGGACGCAGCGAAAUGCGAUACGCAUUG\n",
        "frag: 1 sim: 0.64 match: >AF026388.1/2852-3006 START: 000000017 WINDOW: 050\tGUCUUGGCUCACGCAUCGAUGAAGGACGCAGCGAAAUGCGAUACGCAUUG\n"
       ]
      },
      {
       "output_type": "stream",
       "stream": "stdout",
       "text": [
        ">AF026388.1/2852-3006 START: 000000018 WINDOW: 050\tUCUUGGCUCACGCAUCGAUGAAGGACGCAGCGAAAUGCGAUACGCAUUGU\n",
        "frag: 1 sim: 0.65 match: >AF026388.1/2852-3006 START: 000000018 WINDOW: 050\tUCUUGGCUCACGCAUCGAUGAAGGACGCAGCGAAAUGCGAUACGCAUUGU\n"
       ]
      },
      {
       "output_type": "stream",
       "stream": "stdout",
       "text": [
        ">AF026388.1/2852-3006 START: 000000019 WINDOW: 050\tCUUGGCUCACGCAUCGAUGAAGGACGCAGCGAAAUGCGAUACGCAUUGUG\n",
        "frag: 1 sim: 0.65 match: >AF026388.1/2852-3006 START: 000000019 WINDOW: 050\tCUUGGCUCACGCAUCGAUGAAGGACGCAGCGAAAUGCGAUACGCAUUGUG\n"
       ]
      },
      {
       "output_type": "stream",
       "stream": "stdout",
       "text": [
        ">AF026388.1/2852-3006 START: 000000020 WINDOW: 050\tUUGGCUCACGCAUCGAUGAAGGACGCAGCGAAAUGCGAUACGCAUUGUGA\n",
        "frag: 1 sim: 0.65 match: >AF026388.1/2852-3006 START: 000000020 WINDOW: 050\tUUGGCUCACGCAUCGAUGAAGGACGCAGCGAAAUGCGAUACGCAUUGUGA\n"
       ]
      },
      {
       "output_type": "stream",
       "stream": "stdout",
       "text": [
        ">AF026388.1/2852-3006 START: 000000021 WINDOW: 050\tUGGCUCACGCAUCGAUGAAGGACGCAGCGAAAUGCGAUACGCAUUGUGAA\n",
        "frag: 1 sim: 0.66 match: >AF026388.1/2852-3006 START: 000000021 WINDOW: 050\tUGGCUCACGCAUCGAUGAAGGACGCAGCGAAAUGCGAUACGCAUUGUGAA\n"
       ]
      },
      {
       "output_type": "stream",
       "stream": "stdout",
       "text": [
        ">AF026388.1/2852-3006 START: 000000022 WINDOW: 050\tGGCUCACGCAUCGAUGAAGGACGCAGCGAAAUGCGAUACGCAUUGUGAAU\n",
        "frag: 1 sim: 0.64 match: >AF026388.1/2852-3006 START: 000000022 WINDOW: 050\tGGCUCACGCAUCGAUGAAGGACGCAGCGAAAUGCGAUACGCAUUGUGAAU\n"
       ]
      },
      {
       "output_type": "stream",
       "stream": "stdout",
       "text": [
        ">AF026388.1/2852-3006 START: 000000023 WINDOW: 050\tGCUCACGCAUCGAUGAAGGACGCAGCGAAAUGCGAUACGCAUUGUGAAUU\n",
        "frag: 1 sim: 0.61 match: >AF026388.1/2852-3006 START: 000000023 WINDOW: 050\tGCUCACGCAUCGAUGAAGGACGCAGCGAAAUGCGAUACGCAUUGUGAAUU\n"
       ]
      },
      {
       "output_type": "stream",
       "stream": "stdout",
       "text": [
        ">AF026388.1/2852-3006 START: 000000024 WINDOW: 050\tCUCACGCAUCGAUGAAGGACGCAGCGAAAUGCGAUACGCAUUGUGAAUUG\n",
        "frag: 1 sim: 0.58 match: >AF026388.1/2852-3006 START: 000000024 WINDOW: 050\tCUCACGCAUCGAUGAAGGACGCAGCGAAAUGCGAUACGCAUUGUGAAUUG\n"
       ]
      },
      {
       "output_type": "stream",
       "stream": "stdout",
       "text": [
        ">AF026388.1/2852-3006 START: 000000025 WINDOW: 050\tUCACGCAUCGAUGAAGGACGCAGCGAAAUGCGAUACGCAUUGUGAAUUGC\n",
        "frag: 1 sim: 0.57 match: >AF026388.1/2852-3006 START: 000000025 WINDOW: 050\tUCACGCAUCGAUGAAGGACGCAGCGAAAUGCGAUACGCAUUGUGAAUUGC\n"
       ]
      },
      {
       "output_type": "stream",
       "stream": "stdout",
       "text": [
        ">AF026388.1/2852-3006 START: 000000026 WINDOW: 050\tCACGCAUCGAUGAAGGACGCAGCGAAAUGCGAUACGCAUUGUGAAUUGCA\n",
        "frag: 1 sim: 0.53 match: >AF026388.1/2852-3006 START: 000000026 WINDOW: 050\tCACGCAUCGAUGAAGGACGCAGCGAAAUGCGAUACGCAUUGUGAAUUGCA\n"
       ]
      },
      {
       "output_type": "stream",
       "stream": "stdout",
       "text": [
        ">AF026388.1/2852-3006 START: 000000027 WINDOW: 050\tACGCAUCGAUGAAGGACGCAGCGAAAUGCGAUACGCAUUGUGAAUUGCAG\n",
        "frag: 1 sim: 0.54 match: >AF026388.1/2852-3006 START: 000000027 WINDOW: 050\tACGCAUCGAUGAAGGACGCAGCGAAAUGCGAUACGCAUUGUGAAUUGCAG\n"
       ]
      },
      {
       "output_type": "stream",
       "stream": "stdout",
       "text": [
        ">AF026388.1/2852-3006 START: 000000028 WINDOW: 050\tCGCAUCGAUGAAGGACGCAGCGAAAUGCGAUACGCAUUGUGAAUUGCAGA\n",
        "frag: 1 sim: 0.55 match: >AF026388.1/2852-3006 START: 000000028 WINDOW: 050\tCGCAUCGAUGAAGGACGCAGCGAAAUGCGAUACGCAUUGUGAAUUGCAGA\n"
       ]
      },
      {
       "output_type": "stream",
       "stream": "stdout",
       "text": [
        ">AF026388.1/2852-3006 START: 000000029 WINDOW: 050\tGCAUCGAUGAAGGACGCAGCGAAAUGCGAUACGCAUUGUGAAUUGCAGAU\n",
        "frag: 1 sim: 0.58 match: >AF026388.1/2852-3006 START: 000000029 WINDOW: 050\tGCAUCGAUGAAGGACGCAGCGAAAUGCGAUACGCAUUGUGAAUUGCAGAU\n"
       ]
      },
      {
       "output_type": "stream",
       "stream": "stdout",
       "text": [
        ">AF026388.1/2852-3006 START: 000000030 WINDOW: 050\tCAUCGAUGAAGGACGCAGCGAAAUGCGAUACGCAUUGUGAAUUGCAGAUU\n",
        "frag: 1 sim: 0.57 match: >AF026388.1/2852-3006 START: 000000030 WINDOW: 050\tCAUCGAUGAAGGACGCAGCGAAAUGCGAUACGCAUUGUGAAUUGCAGAUU\n"
       ]
      },
      {
       "output_type": "stream",
       "stream": "stdout",
       "text": [
        ">AF026388.1/2852-3006 START: 000000031 WINDOW: 050\tAUCGAUGAAGGACGCAGCGAAAUGCGAUACGCAUUGUGAAUUGCAGAUUU\n",
        "frag: 1 sim: 0.57 match: >AF026388.1/2852-3006 START: 000000031 WINDOW: 050\tAUCGAUGAAGGACGCAGCGAAAUGCGAUACGCAUUGUGAAUUGCAGAUUU\n"
       ]
      },
      {
       "output_type": "stream",
       "stream": "stdout",
       "text": [
        ">AF026388.1/2852-3006 START: 000000032 WINDOW: 050\tUCGAUGAAGGACGCAGCGAAAUGCGAUACGCAUUGUGAAUUGCAGAUUUC\n",
        "frag: 1 sim: 0.56 match: >AF026388.1/2852-3006 START: 000000032 WINDOW: 050\tUCGAUGAAGGACGCAGCGAAAUGCGAUACGCAUUGUGAAUUGCAGAUUUC\n"
       ]
      },
      {
       "output_type": "stream",
       "stream": "stdout",
       "text": [
        ">AF026388.1/2852-3006 START: 000000033 WINDOW: 050\tCGAUGAAGGACGCAGCGAAAUGCGAUACGCAUUGUGAAUUGCAGAUUUCA\n",
        "frag: 1 sim: 0.54 match: >AF026388.1/2852-3006 START: 000000033 WINDOW: 050\tCGAUGAAGGACGCAGCGAAAUGCGAUACGCAUUGUGAAUUGCAGAUUUCA\n"
       ]
      },
      {
       "output_type": "stream",
       "stream": "stdout",
       "text": [
        ">AF026388.1/2852-3006 START: 000000034 WINDOW: 050\tGAUGAAGGACGCAGCGAAAUGCGAUACGCAUUGUGAAUUGCAGAUUUCAG\n",
        "frag: 1 sim: 0.55 match: >AF026388.1/2852-3006 START: 000000034 WINDOW: 050\tGAUGAAGGACGCAGCGAAAUGCGAUACGCAUUGUGAAUUGCAGAUUUCAG\n"
       ]
      },
      {
       "output_type": "stream",
       "stream": "stdout",
       "text": [
        ">AF026388.1/2852-3006 START: 000000035 WINDOW: 050\tAUGAAGGACGCAGCGAAAUGCGAUACGCAUUGUGAAUUGCAGAUUUCAGU\n",
        "frag: 1 sim: 0.53 match: >AF026388.1/2852-3006 START: 000000035 WINDOW: 050\tAUGAAGGACGCAGCGAAAUGCGAUACGCAUUGUGAAUUGCAGAUUUCAGU\n"
       ]
      },
      {
       "output_type": "stream",
       "stream": "stdout",
       "text": [
        ">AF026388.1/2852-3006 START: 000000036 WINDOW: 050\tUGAAGGACGCAGCGAAAUGCGAUACGCAUUGUGAAUUGCAGAUUUCAGUG\n",
        "frag: 1 sim: 0.51 match: >AF026388.1/2852-3006 START: 000000036 WINDOW: 050\tUGAAGGACGCAGCGAAAUGCGAUACGCAUUGUGAAUUGCAGAUUUCAGUG\n"
       ]
      },
      {
       "output_type": "stream",
       "stream": "stdout",
       "text": [
        ">AF026388.1/2852-3006 START: 000000037 WINDOW: 050\tGAAGGACGCAGCGAAAUGCGAUACGCAUUGUGAAUUGCAGAUUUCAGUGA\n",
        "frag: 1 sim: 0.51 match: >AF026388.1/2852-3006 START: 000000037 WINDOW: 050\tGAAGGACGCAGCGAAAUGCGAUACGCAUUGUGAAUUGCAGAUUUCAGUGA\n"
       ]
      },
      {
       "output_type": "stream",
       "stream": "stdout",
       "text": [
        ">AF026388.1/2852-3006 START: 000000038 WINDOW: 050\tAAGGACGCAGCGAAAUGCGAUACGCAUUGUGAAUUGCAGAUUUCAGUGAA\n",
        "frag: 1 sim: 0.52 match: >AF026388.1/2852-3006 START: 000000038 WINDOW: 050\tAAGGACGCAGCGAAAUGCGAUACGCAUUGUGAAUUGCAGAUUUCAGUGAA\n"
       ]
      },
      {
       "output_type": "stream",
       "stream": "stdout",
       "text": [
        ">AF026388.1/2852-3006 START: 000000039 WINDOW: 050\tAGGACGCAGCGAAAUGCGAUACGCAUUGUGAAUUGCAGAUUUCAGUGAAC\n",
        "frag: 1 sim: 0.52 match: >AF026388.1/2852-3006 START: 000000039 WINDOW: 050\tAGGACGCAGCGAAAUGCGAUACGCAUUGUGAAUUGCAGAUUUCAGUGAAC\n"
       ]
      },
      {
       "output_type": "stream",
       "stream": "stdout",
       "text": [
        ">AF026388.1/2852-3006 START: 000000040 WINDOW: 050\tGGACGCAGCGAAAUGCGAUACGCAUUGUGAAUUGCAGAUUUCAGUGAACC\n",
        "frag: 1 sim: 0.50 match: >AF026388.1/2852-3006 START: 000000040 WINDOW: 050\tGGACGCAGCGAAAUGCGAUACGCAUUGUGAAUUGCAGAUUUCAGUGAACC\n"
       ]
      },
      {
       "output_type": "stream",
       "stream": "stdout",
       "text": [
        ">AF026388.1/2852-3006 START: 000000041 WINDOW: 050\tGACGCAGCGAAAUGCGAUACGCAUUGUGAAUUGCAGAUUUCAGUGAACCA\n",
        ">AF026388.1/2852-3006 START: 000000042 WINDOW: 050\tACGCAGCGAAAUGCGAUACGCAUUGUGAAUUGCAGAUUUCAGUGAACCAU\n",
        ">AF026388.1/2852-3006 START: 000000043 WINDOW: 050\tCGCAGCGAAAUGCGAUACGCAUUGUGAAUUGCAGAUUUCAGUGAACCAUC\n",
        ">AF026388.1/2852-3006 START: 000000044 WINDOW: 050\tGCAGCGAAAUGCGAUACGCAUUGUGAAUUGCAGAUUUCAGUGAACCAUCA\n",
        "frag: 1 sim: 0.51 match: >AF026388.1/2852-3006 START: 000000044 WINDOW: 050\tGCAGCGAAAUGCGAUACGCAUUGUGAAUUGCAGAUUUCAGUGAACCAUCA\n"
       ]
      },
      {
       "output_type": "stream",
       "stream": "stdout",
       "text": [
        ">AF026388.1/2852-3006 START: 000000045 WINDOW: 050\tCAGCGAAAUGCGAUACGCAUUGUGAAUUGCAGAUUUCAGUGAACCAUCAG\n",
        "frag: 1 sim: 0.52 match: >AF026388.1/2852-3006 START: 000000045 WINDOW: 050\tCAGCGAAAUGCGAUACGCAUUGUGAAUUGCAGAUUUCAGUGAACCAUCAG\n"
       ]
      },
      {
       "output_type": "stream",
       "stream": "stdout",
       "text": [
        ">AF026388.1/2852-3006 START: 000000046 WINDOW: 050\tAGCGAAAUGCGAUACGCAUUGUGAAUUGCAGAUUUCAGUGAACCAUCAGA\n",
        "frag: 1 sim: 0.51 match: >AF026388.1/2852-3006 START: 000000046 WINDOW: 050\tAGCGAAAUGCGAUACGCAUUGUGAAUUGCAGAUUUCAGUGAACCAUCAGA\n"
       ]
      },
      {
       "output_type": "stream",
       "stream": "stdout",
       "text": [
        ">AF026388.1/2852-3006 START: 000000047 WINDOW: 050\tGCGAAAUGCGAUACGCAUUGUGAAUUGCAGAUUUCAGUGAACCAUCAGAU\n",
        "frag: 1 sim: 0.53 match: >AF026388.1/2852-3006 START: 000000047 WINDOW: 050\tGCGAAAUGCGAUACGCAUUGUGAAUUGCAGAUUUCAGUGAACCAUCAGAU\n"
       ]
      },
      {
       "output_type": "stream",
       "stream": "stdout",
       "text": [
        ">AF026388.1/2852-3006 START: 000000048 WINDOW: 050\tCGAAAUGCGAUACGCAUUGUGAAUUGCAGAUUUCAGUGAACCAUCAGAUU\n",
        "frag: 1 sim: 0.52 match: >AF026388.1/2852-3006 START: 000000048 WINDOW: 050\tCGAAAUGCGAUACGCAUUGUGAAUUGCAGAUUUCAGUGAACCAUCAGAUU\n"
       ]
      },
      {
       "output_type": "stream",
       "stream": "stdout",
       "text": [
        ">AF026388.1/2852-3006 START: 000000049 WINDOW: 050\tGAAAUGCGAUACGCAUUGUGAAUUGCAGAUUUCAGUGAACCAUCAGAUUU\n",
        "frag: 1 sim: 0.50 match: >AF026388.1/2852-3006 START: 000000049 WINDOW: 050\tGAAAUGCGAUACGCAUUGUGAAUUGCAGAUUUCAGUGAACCAUCAGAUUU\n"
       ]
      },
      {
       "output_type": "stream",
       "stream": "stdout",
       "text": [
        ">AF026388.1/2852-3006 START: 000000050 WINDOW: 050\tAAAUGCGAUACGCAUUGUGAAUUGCAGAUUUCAGUGAACCAUCAGAUUUC\n",
        "frag: 1 sim: 0.50 match: >AF026388.1/2852-3006 START: 000000050 WINDOW: 050\tAAAUGCGAUACGCAUUGUGAAUUGCAGAUUUCAGUGAACCAUCAGAUUUC\n"
       ]
      },
      {
       "output_type": "stream",
       "stream": "stdout",
       "text": [
        ">AF026388.1/2852-3006 START: 000000051 WINDOW: 050\tAAUGCGAUACGCAUUGUGAAUUGCAGAUUUCAGUGAACCAUCAGAUUUCU\n",
        "frag: 1 sim: 0.51 match: >AF026388.1/2852-3006 START: 000000051 WINDOW: 050\tAAUGCGAUACGCAUUGUGAAUUGCAGAUUUCAGUGAACCAUCAGAUUUCU\n"
       ]
      },
      {
       "output_type": "stream",
       "stream": "stdout",
       "text": [
        ">AF026388.1/2852-3006 START: 000000052 WINDOW: 050\tAUGCGAUACGCAUUGUGAAUUGCAGAUUUCAGUGAACCAUCAGAUUUCUG\n",
        ">AF026388.1/2852-3006 START: 000000053 WINDOW: 050\tUGCGAUACGCAUUGUGAAUUGCAGAUUUCAGUGAACCAUCAGAUUUCUGA\n",
        ">AF026388.1/2852-3006 START: 000000054 WINDOW: 050\tGCGAUACGCAUUGUGAAUUGCAGAUUUCAGUGAACCAUCAGAUUUCUGAA\n",
        ">AF026388.1/2852-3006 START: 000000055 WINDOW: 050\tCGAUACGCAUUGUGAAUUGCAGAUUUCAGUGAACCAUCAGAUUUCUGAAC\n",
        ">AF026388.1/2852-3006 START: 000000056 WINDOW: 050\tGAUACGCAUUGUGAAUUGCAGAUUUCAGUGAACCAUCAGAUUUCUGAACG\n",
        ">AF026388.1/2852-3006 START: 000000057 WINDOW: 050\tAUACGCAUUGUGAAUUGCAGAUUUCAGUGAACCAUCAGAUUUCUGAACGC\n",
        ">AF026388.1/2852-3006 START: 000000058 WINDOW: 050\tUACGCAUUGUGAAUUGCAGAUUUCAGUGAACCAUCAGAUUUCUGAACGCA\n",
        ">AF026388.1/2852-3006 START: 000000059 WINDOW: 050\tACGCAUUGUGAAUUGCAGAUUUCAGUGAACCAUCAGAUUUCUGAACGCAC\n",
        ">AF026388.1/2852-3006 START: 000000060 WINDOW: 050\tCGCAUUGUGAAUUGCAGAUUUCAGUGAACCAUCAGAUUUCUGAACGCACA\n",
        ">AF026388.1/2852-3006 START: 000000061 WINDOW: 050\tGCAUUGUGAAUUGCAGAUUUCAGUGAACCAUCAGAUUUCUGAACGCACAU"
       ]
      },
      {
       "output_type": "stream",
       "stream": "stdout",
       "text": [
        "\n",
        ">AF026388.1/2852-3006 START: 000000062 WINDOW: 050\tCAUUGUGAAUUGCAGAUUUCAGUGAACCAUCAGAUUUCUGAACGCACAUG\n",
        ">AF026388.1/2852-3006 START: 000000063 WINDOW: 050\tAUUGUGAAUUGCAGAUUUCAGUGAACCAUCAGAUUUCUGAACGCACAUGG\n",
        ">AF026388.1/2852-3006 START: 000000064 WINDOW: 050\tUUGUGAAUUGCAGAUUUCAGUGAACCAUCAGAUUUCUGAACGCACAUGGC\n",
        "frag: 1 sim: 0.52 match: >AF026388.1/2852-3006 START: 000000064 WINDOW: 050\tUUGUGAAUUGCAGAUUUCAGUGAACCAUCAGAUUUCUGAACGCACAUGGC\n"
       ]
      },
      {
       "output_type": "stream",
       "stream": "stdout",
       "text": [
        ">AF026388.1/2852-3006 START: 000000065 WINDOW: 050\tUGUGAAUUGCAGAUUUCAGUGAACCAUCAGAUUUCUGAACGCACAUGGCG\n",
        "frag: 1 sim: 0.53 match: >AF026388.1/2852-3006 START: 000000065 WINDOW: 050\tUGUGAAUUGCAGAUUUCAGUGAACCAUCAGAUUUCUGAACGCACAUGGCG\n"
       ]
      },
      {
       "output_type": "stream",
       "stream": "stdout",
       "text": [
        ">AF026388.1/2852-3006 START: 000000066 WINDOW: 050\tGUGAAUUGCAGAUUUCAGUGAACCAUCAGAUUUCUGAACGCACAUGGCGC\n",
        "frag: 1 sim: 0.53 match: >AF026388.1/2852-3006 START: 000000066 WINDOW: 050\tGUGAAUUGCAGAUUUCAGUGAACCAUCAGAUUUCUGAACGCACAUGGCGC\n"
       ]
      },
      {
       "output_type": "stream",
       "stream": "stdout",
       "text": [
        ">AF026388.1/2852-3006 START: 000000067 WINDOW: 050\tUGAAUUGCAGAUUUCAGUGAACCAUCAGAUUUCUGAACGCACAUGGCGCU\n",
        "frag: 1 sim: 0.58 match: >AF026388.1/2852-3006 START: 000000067 WINDOW: 050\tUGAAUUGCAGAUUUCAGUGAACCAUCAGAUUUCUGAACGCACAUGGCGCU\n"
       ]
      },
      {
       "output_type": "stream",
       "stream": "stdout",
       "text": [
        ">AF026388.1/2852-3006 START: 000000068 WINDOW: 050\tGAAUUGCAGAUUUCAGUGAACCAUCAGAUUUCUGAACGCACAUGGCGCUG\n",
        "frag: 1 sim: 0.57 match: >AF026388.1/2852-3006 START: 000000068 WINDOW: 050\tGAAUUGCAGAUUUCAGUGAACCAUCAGAUUUCUGAACGCACAUGGCGCUG\n"
       ]
      },
      {
       "output_type": "stream",
       "stream": "stdout",
       "text": [
        ">AF026388.1/2852-3006 START: 000000069 WINDOW: 050\tAAUUGCAGAUUUCAGUGAACCAUCAGAUUUCUGAACGCACAUGGCGCUGC\n",
        "frag: 1 sim: 0.57 match: >AF026388.1/2852-3006 START: 000000069 WINDOW: 050\tAAUUGCAGAUUUCAGUGAACCAUCAGAUUUCUGAACGCACAUGGCGCUGC\n"
       ]
      },
      {
       "output_type": "stream",
       "stream": "stdout",
       "text": [
        ">AF026388.1/2852-3006 START: 000000070 WINDOW: 050\tAUUGCAGAUUUCAGUGAACCAUCAGAUUUCUGAACGCACAUGGCGCUGCU\n",
        "frag: 1 sim: 0.60 match: >AF026388.1/2852-3006 START: 000000070 WINDOW: 050\tAUUGCAGAUUUCAGUGAACCAUCAGAUUUCUGAACGCACAUGGCGCUGCU\n"
       ]
      },
      {
       "output_type": "stream",
       "stream": "stdout",
       "text": [
        ">AF026388.1/2852-3006 START: 000000071 WINDOW: 050\tUUGCAGAUUUCAGUGAACCAUCAGAUUUCUGAACGCACAUGGCGCUGCUG\n",
        "frag: 1 sim: 0.59 match: >AF026388.1/2852-3006 START: 000000071 WINDOW: 050\tUUGCAGAUUUCAGUGAACCAUCAGAUUUCUGAACGCACAUGGCGCUGCUG\n"
       ]
      },
      {
       "output_type": "stream",
       "stream": "stdout",
       "text": [
        ">AF026388.1/2852-3006 START: 000000072 WINDOW: 050\tUGCAGAUUUCAGUGAACCAUCAGAUUUCUGAACGCACAUGGCGCUGCUGG\n",
        "frag: 1 sim: 0.60 match: >AF026388.1/2852-3006 START: 000000072 WINDOW: 050\tUGCAGAUUUCAGUGAACCAUCAGAUUUCUGAACGCACAUGGCGCUGCUGG\n"
       ]
      },
      {
       "output_type": "stream",
       "stream": "stdout",
       "text": [
        ">AF026388.1/2852-3006 START: 000000073 WINDOW: 050\tGCAGAUUUCAGUGAACCAUCAGAUUUCUGAACGCACAUGGCGCUGCUGGU\n",
        "frag: 1 sim: 0.60 match: >AF026388.1/2852-3006 START: 000000073 WINDOW: 050\tGCAGAUUUCAGUGAACCAUCAGAUUUCUGAACGCACAUGGCGCUGCUGGU\n"
       ]
      },
      {
       "output_type": "stream",
       "stream": "stdout",
       "text": [
        ">AF026388.1/2852-3006 START: 000000074 WINDOW: 050\tCAGAUUUCAGUGAACCAUCAGAUUUCUGAACGCACAUGGCGCUGCUGGUA\n",
        "frag: 1 sim: 0.60 match: >AF026388.1/2852-3006 START: 000000074 WINDOW: 050\tCAGAUUUCAGUGAACCAUCAGAUUUCUGAACGCACAUGGCGCUGCUGGUA\n"
       ]
      },
      {
       "output_type": "stream",
       "stream": "stdout",
       "text": [
        ">AF026388.1/2852-3006 START: 000000075 WINDOW: 050\tAGAUUUCAGUGAACCAUCAGAUUUCUGAACGCACAUGGCGCUGCUGGUAU\n",
        "frag: 1 sim: 0.59 match: >AF026388.1/2852-3006 START: 000000075 WINDOW: 050\tAGAUUUCAGUGAACCAUCAGAUUUCUGAACGCACAUGGCGCUGCUGGUAU\n"
       ]
      },
      {
       "output_type": "stream",
       "stream": "stdout",
       "text": [
        ">AF026388.1/2852-3006 START: 000000076 WINDOW: 050\tGAUUUCAGUGAACCAUCAGAUUUCUGAACGCACAUGGCGCUGCUGGUAUU\n",
        "frag: 1 sim: 0.57 match: >AF026388.1/2852-3006 START: 000000076 WINDOW: 050\tGAUUUCAGUGAACCAUCAGAUUUCUGAACGCACAUGGCGCUGCUGGUAUU\n"
       ]
      },
      {
       "output_type": "stream",
       "stream": "stdout",
       "text": [
        ">AF026388.1/2852-3006 START: 000000077 WINDOW: 050\tAUUUCAGUGAACCAUCAGAUUUCUGAACGCACAUGGCGCUGCUGGUAUUU\n",
        "frag: 1 sim: 0.53 match: >AF026388.1/2852-3006 START: 000000077 WINDOW: 050\tAUUUCAGUGAACCAUCAGAUUUCUGAACGCACAUGGCGCUGCUGGUAUUU\n"
       ]
      },
      {
       "output_type": "stream",
       "stream": "stdout",
       "text": [
        ">AF026388.1/2852-3006 START: 000000078 WINDOW: 050\tUUUCAGUGAACCAUCAGAUUUCUGAACGCACAUGGCGCUGCUGGUAUUUU\n",
        "frag: 1 sim: 0.52 match: >AF026388.1/2852-3006 START: 000000078 WINDOW: 050\tUUUCAGUGAACCAUCAGAUUUCUGAACGCACAUGGCGCUGCUGGUAUUUU\n"
       ]
      },
      {
       "output_type": "stream",
       "stream": "stdout",
       "text": [
        ">AF026388.1/2852-3006 START: 000000079 WINDOW: 050\tUUCAGUGAACCAUCAGAUUUCUGAACGCACAUGGCGCUGCUGGUAUUUUG\n",
        "frag: 1 sim: 0.54 match: >AF026388.1/2852-3006 START: 000000079 WINDOW: 050\tUUCAGUGAACCAUCAGAUUUCUGAACGCACAUGGCGCUGCUGGUAUUUUG\n"
       ]
      },
      {
       "output_type": "stream",
       "stream": "stdout",
       "text": [
        ">AF026388.1/2852-3006 START: 000000080 WINDOW: 050\tUCAGUGAACCAUCAGAUUUCUGAACGCACAUGGCGCUGCUGGUAUUUUGC\n",
        "frag: 1 sim: 0.55 match: >AF026388.1/2852-3006 START: 000000080 WINDOW: 050\tUCAGUGAACCAUCAGAUUUCUGAACGCACAUGGCGCUGCUGGUAUUUUGC\n"
       ]
      },
      {
       "output_type": "stream",
       "stream": "stdout",
       "text": [
        ">AF026388.1/2852-3006 START: 000000081 WINDOW: 050\tCAGUGAACCAUCAGAUUUCUGAACGCACAUGGCGCUGCUGGUAUUUUGCC\n",
        "frag: 1 sim: 0.53 match: >AF026388.1/2852-3006 START: 000000081 WINDOW: 050\tCAGUGAACCAUCAGAUUUCUGAACGCACAUGGCGCUGCUGGUAUUUUGCC\n"
       ]
      },
      {
       "output_type": "stream",
       "stream": "stdout",
       "text": [
        ">AF026388.1/2852-3006 START: 000000082 WINDOW: 050\tAGUGAACCAUCAGAUUUCUGAACGCACAUGGCGCUGCUGGUAUUUUGCCC\n",
        "frag: 1 sim: 0.52 match: >AF026388.1/2852-3006 START: 000000082 WINDOW: 050\tAGUGAACCAUCAGAUUUCUGAACGCACAUGGCGCUGCUGGUAUUUUGCCC\n"
       ]
      },
      {
       "output_type": "stream",
       "stream": "stdout",
       "text": [
        ">AF026388.1/2852-3006 START: 000000083 WINDOW: 050\tGUGAACCAUCAGAUUUCUGAACGCACAUGGCGCUGCUGGUAUUUUGCCCG\n",
        "frag: 1 sim: 0.52 match: >AF026388.1/2852-3006 START: 000000083 WINDOW: 050\tGUGAACCAUCAGAUUUCUGAACGCACAUGGCGCUGCUGGUAUUUUGCCCG\n"
       ]
      },
      {
       "output_type": "stream",
       "stream": "stdout",
       "text": [
        ">AF026388.1/2852-3006 START: 000000084 WINDOW: 050\tUGAACCAUCAGAUUUCUGAACGCACAUGGCGCUGCUGGUAUUUUGCCCGC\n",
        "frag: 1 sim: 0.52 match: >AF026388.1/2852-3006 START: 000000084 WINDOW: 050\tUGAACCAUCAGAUUUCUGAACGCACAUGGCGCUGCUGGUAUUUUGCCCGC\n"
       ]
      },
      {
       "output_type": "stream",
       "stream": "stdout",
       "text": [
        ">AF026388.1/2852-3006 START: 000000085 WINDOW: 050\tGAACCAUCAGAUUUCUGAACGCACAUGGCGCUGCUGGUAUUUUGCCCGCA\n",
        "frag: 1 sim: 0.53 match: >AF026388.1/2852-3006 START: 000000085 WINDOW: 050\tGAACCAUCAGAUUUCUGAACGCACAUGGCGCUGCUGGUAUUUUGCCCGCA\n"
       ]
      },
      {
       "output_type": "stream",
       "stream": "stdout",
       "text": [
        ">AF026388.1/2852-3006 START: 000000086 WINDOW: 050\tAACCAUCAGAUUUCUGAACGCACAUGGCGCUGCUGGUAUUUUGCCCGCAG\n",
        "frag: 1 sim: 0.54 match: >AF026388.1/2852-3006 START: 000000086 WINDOW: 050\tAACCAUCAGAUUUCUGAACGCACAUGGCGCUGCUGGUAUUUUGCCCGCAG\n"
       ]
      },
      {
       "output_type": "stream",
       "stream": "stdout",
       "text": [
        ">AF026388.1/2852-3006 START: 000000087 WINDOW: 050\tACCAUCAGAUUUCUGAACGCACAUGGCGCUGCUGGUAUUUUGCCCGCAGC\n",
        "frag: 1 sim: 0.55 match: >AF026388.1/2852-3006 START: 000000087 WINDOW: 050\tACCAUCAGAUUUCUGAACGCACAUGGCGCUGCUGGUAUUUUGCCCGCAGC\n"
       ]
      },
      {
       "output_type": "stream",
       "stream": "stdout",
       "text": [
        ">AF026388.1/2852-3006 START: 000000088 WINDOW: 050\tCCAUCAGAUUUCUGAACGCACAUGGCGCUGCUGGUAUUUUGCCCGCAGCA\n",
        "frag: 1 sim: 0.54 match: >AF026388.1/2852-3006 START: 000000088 WINDOW: 050\tCCAUCAGAUUUCUGAACGCACAUGGCGCUGCUGGUAUUUUGCCCGCAGCA\n"
       ]
      },
      {
       "output_type": "stream",
       "stream": "stdout",
       "text": [
        ">AF026388.1/2852-3006 START: 000000089 WINDOW: 050\tCAUCAGAUUUCUGAACGCACAUGGCGCUGCUGGUAUUUUGCCCGCAGCAC\n",
        "frag: 1 sim: 0.52 match: >AF026388.1/2852-3006 START: 000000089 WINDOW: 050\tCAUCAGAUUUCUGAACGCACAUGGCGCUGCUGGUAUUUUGCCCGCAGCAC\n"
       ]
      },
      {
       "output_type": "stream",
       "stream": "stdout",
       "text": [
        ">AF026388.1/2852-3006 START: 000000090 WINDOW: 050\tAUCAGAUUUCUGAACGCACAUGGCGCUGCUGGUAUUUUGCCCGCAGCACG\n",
        "frag: 1 sim: 0.52 match: >AF026388.1/2852-3006 START: 000000090 WINDOW: 050\tAUCAGAUUUCUGAACGCACAUGGCGCUGCUGGUAUUUUGCCCGCAGCACG\n"
       ]
      },
      {
       "output_type": "stream",
       "stream": "stdout",
       "text": [
        ">AF026388.1/2852-3006 START: 000000091 WINDOW: 050\tUCAGAUUUCUGAACGCACAUGGCGCUGCUGGUAUUUUGCCCGCAGCACGU\n",
        ">AF026388.1/2852-3006 START: 000000092 WINDOW: 050\tCAGAUUUCUGAACGCACAUGGCGCUGCUGGUAUUUUGCCCGCAGCACGUC\n",
        ">AF026388.1/2852-3006 START: 000000093 WINDOW: 050\tAGAUUUCUGAACGCACAUGGCGCUGCUGGUAUUUUGCCCGCAGCACGUCU\n",
        ">AF026388.1/2852-3006 START: 000000094 WINDOW: 050\tGAUUUCUGAACGCACAUGGCGCUGCUGGUAUUUUGCCCGCAGCACGUCUG\n",
        ">AF026388.1/2852-3006 START: 000000095 WINDOW: 050\tAUUUCUGAACGCACAUGGCGCUGCUGGUAUUUUGCCCGCAGCACGUCUGU\n",
        ">AF026388.1/2852-3006 START: 000000096 WINDOW: 050\tUUUCUGAACGCACAUGGCGCUGCUGGUAUUUUGCCCGCAGCACGUCUGUU\n",
        ">AF026388.1/2852-3006 START: 000000097 WINDOW: 050\tUUCUGAACGCACAUGGCGCUGCUGGUAUUUUGCCCGCAGCACGUCUGUUU\n",
        ">AF026388.1/2852-3006 START: 000000098 WINDOW: 050\tUCUGAACGCACAUGGCGCUGCUGGUAUUUUGCCCGCAGCACGUCUGUUUC\n",
        ">AF026388.1/2852-3006 START: 000000099 WINDOW: 050\tCUGAACGCACAUGGCGCUGCUGGUAUUUUGCCCGCAGCACGUCUGUUUCA\n",
        ">AF026388.1/2852-3006 START: 000000100 WINDOW: 050\tUGAACGCACAUGGCGCUGCUGGUAUUUUGCCCGCAGCACGUCUGUUUCAG"
       ]
      },
      {
       "output_type": "stream",
       "stream": "stdout",
       "text": [
        "\n",
        ">AF026388.1/2852-3006 START: 000000101 WINDOW: 050\tGAACGCACAUGGCGCUGCUGGUAUUUUGCCCGCAGCACGUCUGUUUCAGU\n",
        ">AF026388.1/2852-3006 START: 000000102 WINDOW: 050\tAACGCACAUGGCGCUGCUGGUAUUUUGCCCGCAGCACGUCUGUUUCAGUG\n",
        ">AF026388.1/2852-3006 START: 000000103 WINDOW: 050\tACGCACAUGGCGCUGCUGGUAUUUUGCCCGCAGCACGUCUGUUUCAGUGU\n",
        ">AF026388.1/2852-3006 START: 000000104 WINDOW: 050\tCGCACAUGGCGCUGCUGGUAUUUUGCCCGCAGCACGUCUGUUUCAGUGUC\n",
        ">AF026388.1/2852-3006 START: 000000105 WINDOW: 050\tGCACAUGGCGCUGCUGGUAUUUUGCCCGCAGCACGUCUGUUUCAGUGUCU\n",
        ">AF093014.1/662-809 START: 000000000 WINDOW: 050\tCACUUUAAGUAAUGGAUGUCUUGGUUCUCAUAACGAUGAAGGACGCAGCA\n",
        "frag: 1 sim: 0.56 match: >AF093014.1/662-809 START: 000000000 WINDOW: 050\tCACUUUAAGUAAUGGAUGUCUUGGUUCUCAUAACGAUGAAGGACGCAGCA\n"
       ]
      },
      {
       "output_type": "stream",
       "stream": "stdout",
       "text": [
        ">AF093014.1/662-809 START: 000000001 WINDOW: 050\tACUUUAAGUAAUGGAUGUCUUGGUUCUCAUAACGAUGAAGGACGCAGCAA\n",
        "frag: 1 sim: 0.56 match: >AF093014.1/662-809 START: 000000001 WINDOW: 050\tACUUUAAGUAAUGGAUGUCUUGGUUCUCAUAACGAUGAAGGACGCAGCAA\n"
       ]
      },
      {
       "output_type": "stream",
       "stream": "stdout",
       "text": [
        ">AF093014.1/662-809 START: 000000002 WINDOW: 050\tCUUUAAGUAAUGGAUGUCUUGGUUCUCAUAACGAUGAAGGACGCAGCAAA\n",
        "frag: 1 sim: 0.54 match: >AF093014.1/662-809 START: 000000002 WINDOW: 050\tCUUUAAGUAAUGGAUGUCUUGGUUCUCAUAACGAUGAAGGACGCAGCAAA\n"
       ]
      },
      {
       "output_type": "stream",
       "stream": "stdout",
       "text": [
        ">AF093014.1/662-809 START: 000000003 WINDOW: 050\tUUUAAGUAAUGGAUGUCUUGGUUCUCAUAACGAUGAAGGACGCAGCAAAG\n",
        "frag: 1 sim: 0.54 match: >AF093014.1/662-809 START: 000000003 WINDOW: 050\tUUUAAGUAAUGGAUGUCUUGGUUCUCAUAACGAUGAAGGACGCAGCAAAG\n"
       ]
      },
      {
       "output_type": "stream",
       "stream": "stdout",
       "text": [
        ">AF093014.1/662-809 START: 000000004 WINDOW: 050\tUUAAGUAAUGGAUGUCUUGGUUCUCAUAACGAUGAAGGACGCAGCAAAGU\n",
        "frag: 1 sim: 0.54 match: >AF093014.1/662-809 START: 000000004 WINDOW: 050\tUUAAGUAAUGGAUGUCUUGGUUCUCAUAACGAUGAAGGACGCAGCAAAGU\n"
       ]
      },
      {
       "output_type": "stream",
       "stream": "stdout",
       "text": [
        ">AF093014.1/662-809 START: 000000005 WINDOW: 050\tUAAGUAAUGGAUGUCUUGGUUCUCAUAACGAUGAAGGACGCAGCAAAGUG\n",
        "frag: 1 sim: 0.54 match: >AF093014.1/662-809 START: 000000005 WINDOW: 050\tUAAGUAAUGGAUGUCUUGGUUCUCAUAACGAUGAAGGACGCAGCAAAGUG\n"
       ]
      },
      {
       "output_type": "stream",
       "stream": "stdout",
       "text": [
        ">AF093014.1/662-809 START: 000000006 WINDOW: 050\tAAGUAAUGGAUGUCUUGGUUCUCAUAACGAUGAAGGACGCAGCAAAGUGC\n",
        "frag: 1 sim: 0.56 match: >AF093014.1/662-809 START: 000000006 WINDOW: 050\tAAGUAAUGGAUGUCUUGGUUCUCAUAACGAUGAAGGACGCAGCAAAGUGC\n"
       ]
      },
      {
       "output_type": "stream",
       "stream": "stdout",
       "text": [
        ">AF093014.1/662-809 START: 000000007 WINDOW: 050\tAGUAAUGGAUGUCUUGGUUCUCAUAACGAUGAAGGACGCAGCAAAGUGCG\n",
        "frag: 1 sim: 0.55 match: >AF093014.1/662-809 START: 000000007 WINDOW: 050\tAGUAAUGGAUGUCUUGGUUCUCAUAACGAUGAAGGACGCAGCAAAGUGCG\n"
       ]
      },
      {
       "output_type": "stream",
       "stream": "stdout",
       "text": [
        ">AF093014.1/662-809 START: 000000008 WINDOW: 050\tGUAAUGGAUGUCUUGGUUCUCAUAACGAUGAAGGACGCAGCAAAGUGCGA\n",
        "frag: 1 sim: 0.56 match: >AF093014.1/662-809 START: 000000008 WINDOW: 050\tGUAAUGGAUGUCUUGGUUCUCAUAACGAUGAAGGACGCAGCAAAGUGCGA\n"
       ]
      },
      {
       "output_type": "stream",
       "stream": "stdout",
       "text": [
        ">AF093014.1/662-809 START: 000000009 WINDOW: 050\tUAAUGGAUGUCUUGGUUCUCAUAACGAUGAAGGACGCAGCAAAGUGCGAU\n",
        "frag: 1 sim: 0.58 match: >AF093014.1/662-809 START: 000000009 WINDOW: 050\tUAAUGGAUGUCUUGGUUCUCAUAACGAUGAAGGACGCAGCAAAGUGCGAU\n"
       ]
      },
      {
       "output_type": "stream",
       "stream": "stdout",
       "text": [
        ">AF093014.1/662-809 START: 000000010 WINDOW: 050\tAAUGGAUGUCUUGGUUCUCAUAACGAUGAAGGACGCAGCAAAGUGCGAUA\n",
        "frag: 1 sim: 0.60 match: >AF093014.1/662-809 START: 000000010 WINDOW: 050\tAAUGGAUGUCUUGGUUCUCAUAACGAUGAAGGACGCAGCAAAGUGCGAUA\n"
       ]
      },
      {
       "output_type": "stream",
       "stream": "stdout",
       "text": [
        ">AF093014.1/662-809 START: 000000011 WINDOW: 050\tAUGGAUGUCUUGGUUCUCAUAACGAUGAAGGACGCAGCAAAGUGCGAUAA\n",
        "frag: 1 sim: 0.60 match: >AF093014.1/662-809 START: 000000011 WINDOW: 050\tAUGGAUGUCUUGGUUCUCAUAACGAUGAAGGACGCAGCAAAGUGCGAUAA\n"
       ]
      },
      {
       "output_type": "stream",
       "stream": "stdout",
       "text": [
        ">AF093014.1/662-809 START: 000000012 WINDOW: 050\tUGGAUGUCUUGGUUCUCAUAACGAUGAAGGACGCAGCAAAGUGCGAUAAG\n",
        "frag: 1 sim: 0.58 match: >AF093014.1/662-809 START: 000000012 WINDOW: 050\tUGGAUGUCUUGGUUCUCAUAACGAUGAAGGACGCAGCAAAGUGCGAUAAG\n"
       ]
      },
      {
       "output_type": "stream",
       "stream": "stdout",
       "text": [
        ">AF093014.1/662-809 START: 000000013 WINDOW: 050\tGGAUGUCUUGGUUCUCAUAACGAUGAAGGACGCAGCAAAGUGCGAUAAGC\n",
        "frag: 1 sim: 0.59 match: >AF093014.1/662-809 START: 000000013 WINDOW: 050\tGGAUGUCUUGGUUCUCAUAACGAUGAAGGACGCAGCAAAGUGCGAUAAGC\n"
       ]
      },
      {
       "output_type": "stream",
       "stream": "stdout",
       "text": [
        ">AF093014.1/662-809 START: 000000014 WINDOW: 050\tGAUGUCUUGGUUCUCAUAACGAUGAAGGACGCAGCAAAGUGCGAUAAGCA\n",
        "frag: 1 sim: 0.56 match: >AF093014.1/662-809 START: 000000014 WINDOW: 050\tGAUGUCUUGGUUCUCAUAACGAUGAAGGACGCAGCAAAGUGCGAUAAGCA\n"
       ]
      },
      {
       "output_type": "stream",
       "stream": "stdout",
       "text": [
        ">AF093014.1/662-809 START: 000000015 WINDOW: 050\tAUGUCUUGGUUCUCAUAACGAUGAAGGACGCAGCAAAGUGCGAUAAGCAA\n",
        "frag: 1 sim: 0.54 match: >AF093014.1/662-809 START: 000000015 WINDOW: 050\tAUGUCUUGGUUCUCAUAACGAUGAAGGACGCAGCAAAGUGCGAUAAGCAA\n"
       ]
      },
      {
       "output_type": "stream",
       "stream": "stdout",
       "text": [
        ">AF093014.1/662-809 START: 000000016 WINDOW: 050\tUGUCUUGGUUCUCAUAACGAUGAAGGACGCAGCAAAGUGCGAUAAGCAAU\n",
        "frag: 1 sim: 0.52 match: >AF093014.1/662-809 START: 000000016 WINDOW: 050\tUGUCUUGGUUCUCAUAACGAUGAAGGACGCAGCAAAGUGCGAUAAGCAAU\n"
       ]
      },
      {
       "output_type": "stream",
       "stream": "stdout",
       "text": [
        ">AF093014.1/662-809 START: 000000017 WINDOW: 050\tGUCUUGGUUCUCAUAACGAUGAAGGACGCAGCAAAGUGCGAUAAGCAAUG\n",
        "frag: 1 sim: 0.52 match: >AF093014.1/662-809 START: 000000017 WINDOW: 050\tGUCUUGGUUCUCAUAACGAUGAAGGACGCAGCAAAGUGCGAUAAGCAAUG\n"
       ]
      },
      {
       "output_type": "stream",
       "stream": "stdout",
       "text": [
        ">AF093014.1/662-809 START: 000000018 WINDOW: 050\tUCUUGGUUCUCAUAACGAUGAAGGACGCAGCAAAGUGCGAUAAGCAAUGU\n",
        "frag: 1 sim: 0.54 match: >AF093014.1/662-809 START: 000000018 WINDOW: 050\tUCUUGGUUCUCAUAACGAUGAAGGACGCAGCAAAGUGCGAUAAGCAAUGU\n"
       ]
      },
      {
       "output_type": "stream",
       "stream": "stdout",
       "text": [
        ">AF093014.1/662-809 START: 000000019 WINDOW: 050\tCUUGGUUCUCAUAACGAUGAAGGACGCAGCAAAGUGCGAUAAGCAAUGUG\n",
        "frag: 1 sim: 0.53 match: >AF093014.1/662-809 START: 000000019 WINDOW: 050\tCUUGGUUCUCAUAACGAUGAAGGACGCAGCAAAGUGCGAUAAGCAAUGUG\n"
       ]
      },
      {
       "output_type": "stream",
       "stream": "stdout",
       "text": [
        ">AF093014.1/662-809 START: 000000020 WINDOW: 050\tUUGGUUCUCAUAACGAUGAAGGACGCAGCAAAGUGCGAUAAGCAAUGUGA\n",
        "frag: 1 sim: 0.53 match: >AF093014.1/662-809 START: 000000020 WINDOW: 050\tUUGGUUCUCAUAACGAUGAAGGACGCAGCAAAGUGCGAUAAGCAAUGUGA\n"
       ]
      },
      {
       "output_type": "stream",
       "stream": "stdout",
       "text": [
        ">AF093014.1/662-809 START: 000000021 WINDOW: 050\tUGGUUCUCAUAACGAUGAAGGACGCAGCAAAGUGCGAUAAGCAAUGUGAA\n",
        "frag: 1 sim: 0.54 match: >AF093014.1/662-809 START: 000000021 WINDOW: 050\tUGGUUCUCAUAACGAUGAAGGACGCAGCAAAGUGCGAUAAGCAAUGUGAA\n"
       ]
      },
      {
       "output_type": "stream",
       "stream": "stdout",
       "text": [
        ">AF093014.1/662-809 START: 000000022 WINDOW: 050\tGGUUCUCAUAACGAUGAAGGACGCAGCAAAGUGCGAUAAGCAAUGUGAAC\n",
        "frag: 1 sim: 0.53 match: >AF093014.1/662-809 START: 000000022 WINDOW: 050\tGGUUCUCAUAACGAUGAAGGACGCAGCAAAGUGCGAUAAGCAAUGUGAAC\n"
       ]
      },
      {
       "output_type": "stream",
       "stream": "stdout",
       "text": [
        ">AF093014.1/662-809 START: 000000023 WINDOW: 050\tGUUCUCAUAACGAUGAAGGACGCAGCAAAGUGCGAUAAGCAAUGUGAACU\n",
        "frag: 1 sim: 0.55 match: >AF093014.1/662-809 START: 000000023 WINDOW: 050\tGUUCUCAUAACGAUGAAGGACGCAGCAAAGUGCGAUAAGCAAUGUGAACU\n"
       ]
      },
      {
       "output_type": "stream",
       "stream": "stdout",
       "text": [
        ">AF093014.1/662-809 START: 000000024 WINDOW: 050\tUUCUCAUAACGAUGAAGGACGCAGCAAAGUGCGAUAAGCAAUGUGAACUG\n",
        "frag: 1 sim: 0.54 match: >AF093014.1/662-809 START: 000000024 WINDOW: 050\tUUCUCAUAACGAUGAAGGACGCAGCAAAGUGCGAUAAGCAAUGUGAACUG\n"
       ]
      },
      {
       "output_type": "stream",
       "stream": "stdout",
       "text": [
        ">AF093014.1/662-809 START: 000000025 WINDOW: 050\tUCUCAUAACGAUGAAGGACGCAGCAAAGUGCGAUAAGCAAUGUGAACUGC\n",
        "frag: 1 sim: 0.54 match: >AF093014.1/662-809 START: 000000025 WINDOW: 050\tUCUCAUAACGAUGAAGGACGCAGCAAAGUGCGAUAAGCAAUGUGAACUGC\n"
       ]
      },
      {
       "output_type": "stream",
       "stream": "stdout",
       "text": [
        ">AF093014.1/662-809 START: 000000026 WINDOW: 050\tCUCAUAACGAUGAAGGACGCAGCAAAGUGCGAUAAGCAAUGUGAACUGCA\n",
        "frag: 1 sim: 0.53 match: >AF093014.1/662-809 START: 000000026 WINDOW: 050\tCUCAUAACGAUGAAGGACGCAGCAAAGUGCGAUAAGCAAUGUGAACUGCA\n"
       ]
      },
      {
       "output_type": "stream",
       "stream": "stdout",
       "text": [
        ">AF093014.1/662-809 START: 000000027 WINDOW: 050\tUCAUAACGAUGAAGGACGCAGCAAAGUGCGAUAAGCAAUGUGAACUGCAU\n",
        "frag: 1 sim: 0.53 match: >AF093014.1/662-809 START: 000000027 WINDOW: 050\tUCAUAACGAUGAAGGACGCAGCAAAGUGCGAUAAGCAAUGUGAACUGCAU\n"
       ]
      },
      {
       "output_type": "stream",
       "stream": "stdout",
       "text": [
        ">AF093014.1/662-809 START: 000000028 WINDOW: 050\tCAUAACGAUGAAGGACGCAGCAAAGUGCGAUAAGCAAUGUGAACUGCAUA\n",
        ">AF093014.1/662-809 START: 000000029 WINDOW: 050\tAUAACGAUGAAGGACGCAGCAAAGUGCGAUAAGCAAUGUGAACUGCAUAA\n",
        ">AF093014.1/662-809 START: 000000030 WINDOW: 050\tUAACGAUGAAGGACGCAGCAAAGUGCGAUAAGCAAUGUGAACUGCAUAAU\n",
        ">AF093014.1/662-809 START: 000000031 WINDOW: 050\tAACGAUGAAGGACGCAGCAAAGUGCGAUAAGCAAUGUGAACUGCAUAAUU\n",
        ">AF093014.1/662-809 START: 000000032 WINDOW: 050\tACGAUGAAGGACGCAGCAAAGUGCGAUAAGCAAUGUGAACUGCAUAAUUC\n",
        ">AF093014.1/662-809 START: 000000033 WINDOW: 050\tCGAUGAAGGACGCAGCAAAGUGCGAUAAGCAAUGUGAACUGCAUAAUUCU\n",
        "frag: 1 sim: 0.50 match: >AF093014.1/662-809 START: 000000033 WINDOW: 050\tCGAUGAAGGACGCAGCAAAGUGCGAUAAGCAAUGUGAACUGCAUAAUUCU\n"
       ]
      },
      {
       "output_type": "stream",
       "stream": "stdout",
       "text": [
        ">AF093014.1/662-809 START: 000000034 WINDOW: 050\tGAUGAAGGACGCAGCAAAGUGCGAUAAGCAAUGUGAACUGCAUAAUUCUA\n",
        "frag: 1 sim: 0.51 match: >AF093014.1/662-809 START: 000000034 WINDOW: 050\tGAUGAAGGACGCAGCAAAGUGCGAUAAGCAAUGUGAACUGCAUAAUUCUA\n"
       ]
      },
      {
       "output_type": "stream",
       "stream": "stdout",
       "text": [
        ">AF093014.1/662-809 START: 000000035 WINDOW: 050\tAUGAAGGACGCAGCAAAGUGCGAUAAGCAAUGUGAACUGCAUAAUUCUAU\n",
        ">AF093014.1/662-809 START: 000000036 WINDOW: 050\tUGAAGGACGCAGCAAAGUGCGAUAAGCAAUGUGAACUGCAUAAUUCUAUG\n",
        ">AF093014.1/662-809 START: 000000037 WINDOW: 050\tGAAGGACGCAGCAAAGUGCGAUAAGCAAUGUGAACUGCAUAAUUCUAUGA\n",
        ">AF093014.1/662-809 START: 000000038 WINDOW: 050\tAAGGACGCAGCAAAGUGCGAUAAGCAAUGUGAACUGCAUAAUUCUAUGAA\n",
        ">AF093014.1/662-809 START: 000000039 WINDOW: 050\tAGGACGCAGCAAAGUGCGAUAAGCAAUGUGAACUGCAUAAUUCUAUGAAC\n",
        ">AF093014.1/662-809 START: 000000040 WINDOW: 050\tGGACGCAGCAAAGUGCGAUAAGCAAUGUGAACUGCAUAAUUCUAUGAACA\n",
        ">AF093014.1/662-809 START: 000000041 WINDOW: 050\tGACGCAGCAAAGUGCGAUAAGCAAUGUGAACUGCAUAAUUCUAUGAACAA\n",
        ">AF093014.1/662-809 START: 000000042 WINDOW: 050\tACGCAGCAAAGUGCGAUAAGCAAUGUGAACUGCAUAAUUCUAUGAACAAU\n",
        ">AF093014.1/662-809 START: 000000043 WINDOW: 050\tCGCAGCAAAGUGCGAUAAGCAAUGUGAACUGCAUAAUUCUAUGAACAAUC\n",
        ">AF093014.1/662-809 START: 000000044 WINDOW: 050\tGCAGCAAAGUGCGAUAAGCAAUGUGAACUGCAUAAUUCUAUGAACAAUCA"
       ]
      },
      {
       "output_type": "stream",
       "stream": "stdout",
       "text": [
        "\n",
        ">AF093014.1/662-809 START: 000000045 WINDOW: 050\tCAGCAAAGUGCGAUAAGCAAUGUGAACUGCAUAAUUCUAUGAACAAUCAG\n",
        ">AF093014.1/662-809 START: 000000046 WINDOW: 050\tAGCAAAGUGCGAUAAGCAAUGUGAACUGCAUAAUUCUAUGAACAAUCAGA\n",
        ">AF093014.1/662-809 START: 000000047 WINDOW: 050\tGCAAAGUGCGAUAAGCAAUGUGAACUGCAUAAUUCUAUGAACAAUCAGAU\n",
        ">AF093014.1/662-809 START: 000000048 WINDOW: 050\tCAAAGUGCGAUAAGCAAUGUGAACUGCAUAAUUCUAUGAACAAUCAGAUC\n",
        ">AF093014.1/662-809 START: 000000049 WINDOW: 050\tAAAGUGCGAUAAGCAAUGUGAACUGCAUAAUUCUAUGAACAAUCAGAUCU\n",
        ">AF093014.1/662-809 START: 000000050 WINDOW: 050\tAAGUGCGAUAAGCAAUGUGAACUGCAUAAUUCUAUGAACAAUCAGAUCUC\n",
        ">AF093014.1/662-809 START: 000000051 WINDOW: 050\tAGUGCGAUAAGCAAUGUGAACUGCAUAAUUCUAUGAACAAUCAGAUCUCU\n",
        ">AF093014.1/662-809 START: 000000052 WINDOW: 050\tGUGCGAUAAGCAAUGUGAACUGCAUAAUUCUAUGAACAAUCAGAUCUCUC\n",
        ">AF093014.1/662-809 START: 000000053 WINDOW: 050\tUGCGAUAAGCAAUGUGAACUGCAUAAUUCUAUGAACAAUCAGAUCUCUCA"
       ]
      },
      {
       "output_type": "stream",
       "stream": "stdout",
       "text": [
        "\n",
        ">AF093014.1/662-809 START: 000000054 WINDOW: 050\tGCGAUAAGCAAUGUGAACUGCAUAAUUCUAUGAACAAUCAGAUCUCUCAA\n",
        ">AF093014.1/662-809 START: 000000055 WINDOW: 050\tCGAUAAGCAAUGUGAACUGCAUAAUUCUAUGAACAAUCAGAUCUCUCAAC\n",
        ">AF093014.1/662-809 START: 000000056 WINDOW: 050\tGAUAAGCAAUGUGAACUGCAUAAUUCUAUGAACAAUCAGAUCUCUCAACG\n",
        ">AF093014.1/662-809 START: 000000057 WINDOW: 050\tAUAAGCAAUGUGAACUGCAUAAUUCUAUGAACAAUCAGAUCUCUCAACGC\n",
        ">AF093014.1/662-809 START: 000000058 WINDOW: 050\tUAAGCAAUGUGAACUGCAUAAUUCUAUGAACAAUCAGAUCUCUCAACGCA\n",
        ">AF093014.1/662-809 START: 000000059 WINDOW: 050\tAAGCAAUGUGAACUGCAUAAUUCUAUGAACAAUCAGAUCUCUCAACGCAA\n",
        ">AF093014.1/662-809 START: 000000060 WINDOW: 050\tAGCAAUGUGAACUGCAUAAUUCUAUGAACAAUCAGAUCUCUCAACGCAAA\n",
        ">AF093014.1/662-809 START: 000000061 WINDOW: 050\tGCAAUGUGAACUGCAUAAUUCUAUGAACAAUCAGAUCUCUCAACGCAAAU\n",
        ">AF093014.1/662-809 START: 000000062 WINDOW: 050\tCAAUGUGAACUGCAUAAUUCUAUGAACAAUCAGAUCUCUCAACGCAAAUA"
       ]
      },
      {
       "output_type": "stream",
       "stream": "stdout",
       "text": [
        "\n",
        ">AF093014.1/662-809 START: 000000063 WINDOW: 050\tAAUGUGAACUGCAUAAUUCUAUGAACAAUCAGAUCUCUCAACGCAAAUAG\n",
        ">AF093014.1/662-809 START: 000000064 WINDOW: 050\tAUGUGAACUGCAUAAUUCUAUGAACAAUCAGAUCUCUCAACGCAAAUAGC\n",
        ">AF093014.1/662-809 START: 000000065 WINDOW: 050\tUGUGAACUGCAUAAUUCUAUGAACAAUCAGAUCUCUCAACGCAAAUAGCA\n",
        ">AF093014.1/662-809 START: 000000066 WINDOW: 050\tGUGAACUGCAUAAUUCUAUGAACAAUCAGAUCUCUCAACGCAAAUAGCAG\n",
        ">AF093014.1/662-809 START: 000000067 WINDOW: 050\tUGAACUGCAUAAUUCUAUGAACAAUCAGAUCUCUCAACGCAAAUAGCAGU\n",
        ">AF093014.1/662-809 START: 000000068 WINDOW: 050\tGAACUGCAUAAUUCUAUGAACAAUCAGAUCUCUCAACGCAAAUAGCAGUA\n",
        "frag: 1 sim: 0.50 match: >AF093014.1/662-809 START: 000000068 WINDOW: 050\tGAACUGCAUAAUUCUAUGAACAAUCAGAUCUCUCAACGCAAAUAGCAGUA\n"
       ]
      },
      {
       "output_type": "stream",
       "stream": "stdout",
       "text": [
        ">AF093014.1/662-809 START: 000000069 WINDOW: 050\tAACUGCAUAAUUCUAUGAACAAUCAGAUCUCUCAACGCAAAUAGCAGUAA\n",
        ">AF093014.1/662-809 START: 000000070 WINDOW: 050\tACUGCAUAAUUCUAUGAACAAUCAGAUCUCUCAACGCAAAUAGCAGUAAU\n",
        ">AF093014.1/662-809 START: 000000071 WINDOW: 050\tCUGCAUAAUUCUAUGAACAAUCAGAUCUCUCAACGCAAAUAGCAGUAAUU\n",
        ">AF093014.1/662-809 START: 000000072 WINDOW: 050\tUGCAUAAUUCUAUGAACAAUCAGAUCUCUCAACGCAAAUAGCAGUAAUUU\n",
        ">AF093014.1/662-809 START: 000000073 WINDOW: 050\tGCAUAAUUCUAUGAACAAUCAGAUCUCUCAACGCAAAUAGCAGUAAUUUA\n",
        ">AF093014.1/662-809 START: 000000074 WINDOW: 050\tCAUAAUUCUAUGAACAAUCAGAUCUCUCAACGCAAAUAGCAGUAAUUUAC\n",
        ">AF093014.1/662-809 START: 000000075 WINDOW: 050\tAUAAUUCUAUGAACAAUCAGAUCUCUCAACGCAAAUAGCAGUAAUUUACA\n",
        ">AF093014.1/662-809 START: 000000076 WINDOW: 050\tUAAUUCUAUGAACAAUCAGAUCUCUCAACGCAAAUAGCAGUAAUUUACAU\n",
        ">AF093014.1/662-809 START: 000000077 WINDOW: 050\tAAUUCUAUGAACAAUCAGAUCUCUCAACGCAAAUAGCAGUAAUUUACAUU\n",
        ">AF093014.1/662-809 START: 000000078 WINDOW: 050\tAUUCUAUGAACAAUCAGAUCUCUCAACGCAAAUAGCAGUAAUUUACAUUA"
       ]
      },
      {
       "output_type": "stream",
       "stream": "stdout",
       "text": [
        "\n",
        ">AF093014.1/662-809 START: 000000079 WINDOW: 050\tUUCUAUGAACAAUCAGAUCUCUCAACGCAAAUAGCAGUAAUUUACAUUAC\n",
        ">AF093014.1/662-809 START: 000000080 WINDOW: 050\tUCUAUGAACAAUCAGAUCUCUCAACGCAAAUAGCAGUAAUUUACAUUACU\n",
        ">AF093014.1/662-809 START: 000000081 WINDOW: 050\tCUAUGAACAAUCAGAUCUCUCAACGCAAAUAGCAGUAAUUUACAUUACUA\n",
        ">AF093014.1/662-809 START: 000000082 WINDOW: 050\tUAUGAACAAUCAGAUCUCUCAACGCAAAUAGCAGUAAUUUACAUUACUAU\n",
        ">AF093014.1/662-809 START: 000000083 WINDOW: 050\tAUGAACAAUCAGAUCUCUCAACGCAAAUAGCAGUAAUUUACAUUACUAUA\n",
        ">AF093014.1/662-809 START: 000000084 WINDOW: 050\tUGAACAAUCAGAUCUCUCAACGCAAAUAGCAGUAAUUUACAUUACUAUAU\n",
        ">AF093014.1/662-809 START: 000000085 WINDOW: 050\tGAACAAUCAGAUCUCUCAACGCAAAUAGCAGUAAUUUACAUUACUAUAUU\n",
        ">AF093014.1/662-809 START: 000000086 WINDOW: 050\tAACAAUCAGAUCUCUCAACGCAAAUAGCAGUAAUUUACAUUACUAUAUUU"
       ]
      },
      {
       "output_type": "stream",
       "stream": "stdout",
       "text": [
        "\n",
        ">AF093014.1/662-809 START: 000000087 WINDOW: 050\tACAAUCAGAUCUCUCAACGCAAAUAGCAGUAAUUUACAUUACUAUAUUUA\n",
        ">AF093014.1/662-809 START: 000000088 WINDOW: 050\tCAAUCAGAUCUCUCAACGCAAAUAGCAGUAAUUUACAUUACUAUAUUUAU\n",
        ">AF093014.1/662-809 START: 000000089 WINDOW: 050\tAAUCAGAUCUCUCAACGCAAAUAGCAGUAAUUUACAUUACUAUAUUUAUA\n",
        ">AF093014.1/662-809 START: 000000090 WINDOW: 050\tAUCAGAUCUCUCAACGCAAAUAGCAGUAAUUUACAUUACUAUAUUUAUAU\n",
        ">AF093014.1/662-809 START: 000000091 WINDOW: 050\tUCAGAUCUCUCAACGCAAAUAGCAGUAAUUUACAUUACUAUAUUUAUAUC\n",
        ">AF093014.1/662-809 START: 000000092 WINDOW: 050\tCAGAUCUCUCAACGCAAAUAGCAGUAAUUUACAUUACUAUAUUUAUAUCA\n",
        ">AF093014.1/662-809 START: 000000093 WINDOW: 050\tAGAUCUCUCAACGCAAAUAGCAGUAAUUUACAUUACUAUAUUUAUAUCAG\n",
        ">AF093014.1/662-809 START: 000000094 WINDOW: 050\tGAUCUCUCAACGCAAAUAGCAGUAAUUUACAUUACUAUAUUUAUAUCAGU\n",
        ">AF093014.1/662-809 START: 000000095 WINDOW: 050\tAUCUCUCAACGCAAAUAGCAGUAAUUUACAUUACUAUAUUUAUAUCAGUG"
       ]
      },
      {
       "output_type": "stream",
       "stream": "stdout",
       "text": [
        "\n",
        ">AF093014.1/662-809 START: 000000096 WINDOW: 050\tUCUCUCAACGCAAAUAGCAGUAAUUUACAUUACUAUAUUUAUAUCAGUGU\n",
        ">AF093014.1/662-809 START: 000000097 WINDOW: 050\tCUCUCAACGCAAAUAGCAGUAAUUUACAUUACUAUAUUUAUAUCAGUGUC\n",
        ">AF093014.1/662-809 START: 000000098 WINDOW: 050\tUCUCAACGCAAAUAGCAGUAAUUUACAUUACUAUAUUUAUAUCAGUGUCU\n",
        ">AF158724.1/274-427 START: 000000000 WINDOW: 050\tGACUCUUAACGGUGGAUCACUCGGCUCGCGAGUCGAUGAAGGACGCAGCC\n",
        "frag: 1 sim: 0.83 match: >AF158724.1/274-427 START: 000000000 WINDOW: 050\tGACUCUUAACGGUGGAUCACUCGGCUCGCGAGUCGAUGAAGGACGCAGCC\n"
       ]
      },
      {
       "output_type": "stream",
       "stream": "stdout",
       "text": [
        ">AF158724.1/274-427 START: 000000001 WINDOW: 050\tACUCUUAACGGUGGAUCACUCGGCUCGCGAGUCGAUGAAGGACGCAGCCA\n",
        "frag: 1 sim: 0.83 match: >AF158724.1/274-427 START: 000000001 WINDOW: 050\tACUCUUAACGGUGGAUCACUCGGCUCGCGAGUCGAUGAAGGACGCAGCCA\n"
       ]
      },
      {
       "output_type": "stream",
       "stream": "stdout",
       "text": [
        ">AF158724.1/274-427 START: 000000002 WINDOW: 050\tCUCUUAACGGUGGAUCACUCGGCUCGCGAGUCGAUGAAGGACGCAGCCAA\n",
        "frag: 1 sim: 0.84 match: >AF158724.1/274-427 START: 000000002 WINDOW: 050\tCUCUUAACGGUGGAUCACUCGGCUCGCGAGUCGAUGAAGGACGCAGCCAA\n"
       ]
      },
      {
       "output_type": "stream",
       "stream": "stdout",
       "text": [
        ">AF158724.1/274-427 START: 000000003 WINDOW: 050\tUCUUAACGGUGGAUCACUCGGCUCGCGAGUCGAUGAAGGACGCAGCCAAG\n",
        "frag: 1 sim: 0.84 match: >AF158724.1/274-427 START: 000000003 WINDOW: 050\tUCUUAACGGUGGAUCACUCGGCUCGCGAGUCGAUGAAGGACGCAGCCAAG\n"
       ]
      },
      {
       "output_type": "stream",
       "stream": "stdout",
       "text": [
        ">AF158724.1/274-427 START: 000000004 WINDOW: 050\tCUUAACGGUGGAUCACUCGGCUCGCGAGUCGAUGAAGGACGCAGCCAAGU\n",
        "frag: 1 sim: 0.82 match: >AF158724.1/274-427 START: 000000004 WINDOW: 050\tCUUAACGGUGGAUCACUCGGCUCGCGAGUCGAUGAAGGACGCAGCCAAGU\n"
       ]
      },
      {
       "output_type": "stream",
       "stream": "stdout",
       "text": [
        ">AF158724.1/274-427 START: 000000005 WINDOW: 050\tUUAACGGUGGAUCACUCGGCUCGCGAGUCGAUGAAGGACGCAGCCAAGUG\n",
        "frag: 1 sim: 0.82 match: >AF158724.1/274-427 START: 000000005 WINDOW: 050\tUUAACGGUGGAUCACUCGGCUCGCGAGUCGAUGAAGGACGCAGCCAAGUG\n"
       ]
      },
      {
       "output_type": "stream",
       "stream": "stdout",
       "text": [
        ">AF158724.1/274-427 START: 000000006 WINDOW: 050\tUAACGGUGGAUCACUCGGCUCGCGAGUCGAUGAAGGACGCAGCCAAGUGC\n",
        "frag: 1 sim: 0.82 match: >AF158724.1/274-427 START: 000000006 WINDOW: 050\tUAACGGUGGAUCACUCGGCUCGCGAGUCGAUGAAGGACGCAGCCAAGUGC\n"
       ]
      },
      {
       "output_type": "stream",
       "stream": "stdout",
       "text": [
        ">AF158724.1/274-427 START: 000000007 WINDOW: 050\tAACGGUGGAUCACUCGGCUCGCGAGUCGAUGAAGGACGCAGCCAAGUGCG\n",
        "frag: 1 sim: 0.82 match: >AF158724.1/274-427 START: 000000007 WINDOW: 050\tAACGGUGGAUCACUCGGCUCGCGAGUCGAUGAAGGACGCAGCCAAGUGCG\n"
       ]
      },
      {
       "output_type": "stream",
       "stream": "stdout",
       "text": [
        ">AF158724.1/274-427 START: 000000008 WINDOW: 050\tACGGUGGAUCACUCGGCUCGCGAGUCGAUGAAGGACGCAGCCAAGUGCGA\n",
        "frag: 1 sim: 0.80 match: >AF158724.1/274-427 START: 000000008 WINDOW: 050\tACGGUGGAUCACUCGGCUCGCGAGUCGAUGAAGGACGCAGCCAAGUGCGA\n"
       ]
      },
      {
       "output_type": "stream",
       "stream": "stdout",
       "text": [
        ">AF158724.1/274-427 START: 000000009 WINDOW: 050\tCGGUGGAUCACUCGGCUCGCGAGUCGAUGAAGGACGCAGCCAAGUGCGAG\n",
        "frag: 1 sim: 0.79 match: >AF158724.1/274-427 START: 000000009 WINDOW: 050\tCGGUGGAUCACUCGGCUCGCGAGUCGAUGAAGGACGCAGCCAAGUGCGAG\n"
       ]
      },
      {
       "output_type": "stream",
       "stream": "stdout",
       "text": [
        ">AF158724.1/274-427 START: 000000010 WINDOW: 050\tGGUGGAUCACUCGGCUCGCGAGUCGAUGAAGGACGCAGCCAAGUGCGAGA\n",
        "frag: 1 sim: 0.79 match: >AF158724.1/274-427 START: 000000010 WINDOW: 050\tGGUGGAUCACUCGGCUCGCGAGUCGAUGAAGGACGCAGCCAAGUGCGAGA\n"
       ]
      },
      {
       "output_type": "stream",
       "stream": "stdout",
       "text": [
        ">AF158724.1/274-427 START: 000000011 WINDOW: 050\tGUGGAUCACUCGGCUCGCGAGUCGAUGAAGGACGCAGCCAAGUGCGAGAA\n",
        "frag: 1 sim: 0.79 match: >AF158724.1/274-427 START: 000000011 WINDOW: 050\tGUGGAUCACUCGGCUCGCGAGUCGAUGAAGGACGCAGCCAAGUGCGAGAA\n"
       ]
      },
      {
       "output_type": "stream",
       "stream": "stdout",
       "text": [
        ">AF158724.1/274-427 START: 000000012 WINDOW: 050\tUGGAUCACUCGGCUCGCGAGUCGAUGAAGGACGCAGCCAAGUGCGAGAAG\n",
        "frag: 1 sim: 0.78 match: >AF158724.1/274-427 START: 000000012 WINDOW: 050\tUGGAUCACUCGGCUCGCGAGUCGAUGAAGGACGCAGCCAAGUGCGAGAAG\n"
       ]
      },
      {
       "output_type": "stream",
       "stream": "stdout",
       "text": [
        ">AF158724.1/274-427 START: 000000013 WINDOW: 050\tGGAUCACUCGGCUCGCGAGUCGAUGAAGGACGCAGCCAAGUGCGAGAAGU\n",
        "frag: 1 sim: 0.76 match: >AF158724.1/274-427 START: 000000013 WINDOW: 050\tGGAUCACUCGGCUCGCGAGUCGAUGAAGGACGCAGCCAAGUGCGAGAAGU\n"
       ]
      },
      {
       "output_type": "stream",
       "stream": "stdout",
       "text": [
        ">AF158724.1/274-427 START: 000000014 WINDOW: 050\tGAUCACUCGGCUCGCGAGUCGAUGAAGGACGCAGCCAAGUGCGAGAAGUA\n",
        "frag: 1 sim: 0.75 match: >AF158724.1/274-427 START: 000000014 WINDOW: 050\tGAUCACUCGGCUCGCGAGUCGAUGAAGGACGCAGCCAAGUGCGAGAAGUA\n"
       ]
      },
      {
       "output_type": "stream",
       "stream": "stdout",
       "text": [
        ">AF158724.1/274-427 START: 000000015 WINDOW: 050\tAUCACUCGGCUCGCGAGUCGAUGAAGGACGCAGCCAAGUGCGAGAAGUAA\n",
        "frag: 1 sim: 0.74 match: >AF158724.1/274-427 START: 000000015 WINDOW: 050\tAUCACUCGGCUCGCGAGUCGAUGAAGGACGCAGCCAAGUGCGAGAAGUAA\n"
       ]
      },
      {
       "output_type": "stream",
       "stream": "stdout",
       "text": [
        ">AF158724.1/274-427 START: 000000016 WINDOW: 050\tUCACUCGGCUCGCGAGUCGAUGAAGGACGCAGCCAAGUGCGAGAAGUAAU\n",
        "frag: 1 sim: 0.71 match: >AF158724.1/274-427 START: 000000016 WINDOW: 050\tUCACUCGGCUCGCGAGUCGAUGAAGGACGCAGCCAAGUGCGAGAAGUAAU\n"
       ]
      },
      {
       "output_type": "stream",
       "stream": "stdout",
       "text": [
        ">AF158724.1/274-427 START: 000000017 WINDOW: 050\tCACUCGGCUCGCGAGUCGAUGAAGGACGCAGCCAAGUGCGAGAAGUAAUG\n",
        "frag: 1 sim: 0.69 match: >AF158724.1/274-427 START: 000000017 WINDOW: 050\tCACUCGGCUCGCGAGUCGAUGAAGGACGCAGCCAAGUGCGAGAAGUAAUG\n"
       ]
      },
      {
       "output_type": "stream",
       "stream": "stdout",
       "text": [
        ">AF158724.1/274-427 START: 000000018 WINDOW: 050\tACUCGGCUCGCGAGUCGAUGAAGGACGCAGCCAAGUGCGAGAAGUAAUGU\n",
        "frag: 1 sim: 0.68 match: >AF158724.1/274-427 START: 000000018 WINDOW: 050\tACUCGGCUCGCGAGUCGAUGAAGGACGCAGCCAAGUGCGAGAAGUAAUGU\n"
       ]
      },
      {
       "output_type": "stream",
       "stream": "stdout",
       "text": [
        ">AF158724.1/274-427 START: 000000019 WINDOW: 050\tCUCGGCUCGCGAGUCGAUGAAGGACGCAGCCAAGUGCGAGAAGUAAUGUG\n",
        "frag: 1 sim: 0.65 match: >AF158724.1/274-427 START: 000000019 WINDOW: 050\tCUCGGCUCGCGAGUCGAUGAAGGACGCAGCCAAGUGCGAGAAGUAAUGUG\n"
       ]
      },
      {
       "output_type": "stream",
       "stream": "stdout",
       "text": [
        ">AF158724.1/274-427 START: 000000020 WINDOW: 050\tUCGGCUCGCGAGUCGAUGAAGGACGCAGCCAAGUGCGAGAAGUAAUGUGA\n",
        "frag: 1 sim: 0.63 match: >AF158724.1/274-427 START: 000000020 WINDOW: 050\tUCGGCUCGCGAGUCGAUGAAGGACGCAGCCAAGUGCGAGAAGUAAUGUGA\n"
       ]
      },
      {
       "output_type": "stream",
       "stream": "stdout",
       "text": [
        ">AF158724.1/274-427 START: 000000021 WINDOW: 050\tCGGCUCGCGAGUCGAUGAAGGACGCAGCCAAGUGCGAGAAGUAAUGUGAA\n",
        "frag: 1 sim: 0.61 match: >AF158724.1/274-427 START: 000000021 WINDOW: 050\tCGGCUCGCGAGUCGAUGAAGGACGCAGCCAAGUGCGAGAAGUAAUGUGAA\n"
       ]
      },
      {
       "output_type": "stream",
       "stream": "stdout",
       "text": [
        ">AF158724.1/274-427 START: 000000022 WINDOW: 050\tGGCUCGCGAGUCGAUGAAGGACGCAGCCAAGUGCGAGAAGUAAUGUGAAU\n",
        "frag: 1 sim: 0.58 match: >AF158724.1/274-427 START: 000000022 WINDOW: 050\tGGCUCGCGAGUCGAUGAAGGACGCAGCCAAGUGCGAGAAGUAAUGUGAAU\n"
       ]
      },
      {
       "output_type": "stream",
       "stream": "stdout",
       "text": [
        ">AF158724.1/274-427 START: 000000023 WINDOW: 050\tGCUCGCGAGUCGAUGAAGGACGCAGCCAAGUGCGAGAAGUAAUGUGAAUU\n",
        "frag: 1 sim: 0.55 match: >AF158724.1/274-427 START: 000000023 WINDOW: 050\tGCUCGCGAGUCGAUGAAGGACGCAGCCAAGUGCGAGAAGUAAUGUGAAUU\n"
       ]
      },
      {
       "output_type": "stream",
       "stream": "stdout",
       "text": [
        ">AF158724.1/274-427 START: 000000024 WINDOW: 050\tCUCGCGAGUCGAUGAAGGACGCAGCCAAGUGCGAGAAGUAAUGUGAAUUG\n",
        "frag: 1 sim: 0.53 match: >AF158724.1/274-427 START: 000000024 WINDOW: 050\tCUCGCGAGUCGAUGAAGGACGCAGCCAAGUGCGAGAAGUAAUGUGAAUUG\n"
       ]
      },
      {
       "output_type": "stream",
       "stream": "stdout",
       "text": [
        ">AF158724.1/274-427 START: 000000025 WINDOW: 050\tUCGCGAGUCGAUGAAGGACGCAGCCAAGUGCGAGAAGUAAUGUGAAUUGC\n",
        "frag: 1 sim: 0.52 match: >AF158724.1/274-427 START: 000000025 WINDOW: 050\tUCGCGAGUCGAUGAAGGACGCAGCCAAGUGCGAGAAGUAAUGUGAAUUGC\n"
       ]
      },
      {
       "output_type": "stream",
       "stream": "stdout",
       "text": [
        ">AF158724.1/274-427 START: 000000026 WINDOW: 050\tCGCGAGUCGAUGAAGGACGCAGCCAAGUGCGAGAAGUAAUGUGAAUUGCA\n",
        ">AF158724.1/274-427 START: 000000027 WINDOW: 050\tGCGAGUCGAUGAAGGACGCAGCCAAGUGCGAGAAGUAAUGUGAAUUGCAG\n",
        "frag: 1 sim: 0.51 match: >AF158724.1/274-427 START: 000000027 WINDOW: 050\tGCGAGUCGAUGAAGGACGCAGCCAAGUGCGAGAAGUAAUGUGAAUUGCAG\n"
       ]
      },
      {
       "output_type": "stream",
       "stream": "stdout",
       "text": [
        ">AF158724.1/274-427 START: 000000028 WINDOW: 050\tCGAGUCGAUGAAGGACGCAGCCAAGUGCGAGAAGUAAUGUGAAUUGCAGA\n",
        "frag: 1 sim: 0.51 match: >AF158724.1/274-427 START: 000000028 WINDOW: 050\tCGAGUCGAUGAAGGACGCAGCCAAGUGCGAGAAGUAAUGUGAAUUGCAGA\n"
       ]
      },
      {
       "output_type": "stream",
       "stream": "stdout",
       "text": [
        ">AF158724.1/274-427 START: 000000029 WINDOW: 050\tGAGUCGAUGAAGGACGCAGCCAAGUGCGAGAAGUAAUGUGAAUUGCAGAA\n",
        "frag: 1 sim: 0.51 match: >AF158724.1/274-427 START: 000000029 WINDOW: 050\tGAGUCGAUGAAGGACGCAGCCAAGUGCGAGAAGUAAUGUGAAUUGCAGAA\n"
       ]
      },
      {
       "output_type": "stream",
       "stream": "stdout",
       "text": [
        ">AF158724.1/274-427 START: 000000030 WINDOW: 050\tAGUCGAUGAAGGACGCAGCCAAGUGCGAGAAGUAAUGUGAAUUGCAGAAC\n",
        "frag: 1 sim: 0.51 match: >AF158724.1/274-427 START: 000000030 WINDOW: 050\tAGUCGAUGAAGGACGCAGCCAAGUGCGAGAAGUAAUGUGAAUUGCAGAAC\n"
       ]
      },
      {
       "output_type": "stream",
       "stream": "stdout",
       "text": [
        ">AF158724.1/274-427 START: 000000031 WINDOW: 050\tGUCGAUGAAGGACGCAGCCAAGUGCGAGAAGUAAUGUGAAUUGCAGAACA\n",
        "frag: 1 sim: 0.52 match: >AF158724.1/274-427 START: 000000031 WINDOW: 050\tGUCGAUGAAGGACGCAGCCAAGUGCGAGAAGUAAUGUGAAUUGCAGAACA\n"
       ]
      },
      {
       "output_type": "stream",
       "stream": "stdout",
       "text": [
        ">AF158724.1/274-427 START: 000000032 WINDOW: 050\tUCGAUGAAGGACGCAGCCAAGUGCGAGAAGUAAUGUGAAUUGCAGAACAC\n",
        "frag: 1 sim: 0.53 match: >AF158724.1/274-427 START: 000000032 WINDOW: 050\tUCGAUGAAGGACGCAGCCAAGUGCGAGAAGUAAUGUGAAUUGCAGAACAC\n"
       ]
      },
      {
       "output_type": "stream",
       "stream": "stdout",
       "text": [
        ">AF158724.1/274-427 START: 000000033 WINDOW: 050\tCGAUGAAGGACGCAGCCAAGUGCGAGAAGUAAUGUGAAUUGCAGAACACA\n",
        ">AF158724.1/274-427 START: 000000034 WINDOW: 050\tGAUGAAGGACGCAGCCAAGUGCGAGAAGUAAUGUGAAUUGCAGAACACAU\n",
        ">AF158724.1/274-427 START: 000000035 WINDOW: 050\tAUGAAGGACGCAGCCAAGUGCGAGAAGUAAUGUGAAUUGCAGAACACAUU\n",
        ">AF158724.1/274-427 START: 000000036 WINDOW: 050\tUGAAGGACGCAGCCAAGUGCGAGAAGUAAUGUGAAUUGCAGAACACAUUG\n",
        ">AF158724.1/274-427 START: 000000037 WINDOW: 050\tGAAGGACGCAGCCAAGUGCGAGAAGUAAUGUGAAUUGCAGAACACAUUGA\n",
        ">AF158724.1/274-427 START: 000000038 WINDOW: 050\tAAGGACGCAGCCAAGUGCGAGAAGUAAUGUGAAUUGCAGAACACAUUGAA\n",
        ">AF158724.1/274-427 START: 000000039 WINDOW: 050\tAGGACGCAGCCAAGUGCGAGAAGUAAUGUGAAUUGCAGAACACAUUGAAC\n",
        ">AF158724.1/274-427 START: 000000040 WINDOW: 050\tGGACGCAGCCAAGUGCGAGAAGUAAUGUGAAUUGCAGAACACAUUGAACG\n",
        ">AF158724.1/274-427 START: 000000041 WINDOW: 050\tGACGCAGCCAAGUGCGAGAAGUAAUGUGAAUUGCAGAACACAUUGAACGU\n",
        ">AF158724.1/274-427 START: 000000042 WINDOW: 050\tACGCAGCCAAGUGCGAGAAGUAAUGUGAAUUGCAGAACACAUUGAACGUC"
       ]
      },
      {
       "output_type": "stream",
       "stream": "stdout",
       "text": [
        "\n",
        ">AF158724.1/274-427 START: 000000043 WINDOW: 050\tCGCAGCCAAGUGCGAGAAGUAAUGUGAAUUGCAGAACACAUUGAACGUCG\n",
        ">AF158724.1/274-427 START: 000000044 WINDOW: 050\tGCAGCCAAGUGCGAGAAGUAAUGUGAAUUGCAGAACACAUUGAACGUCGA\n",
        ">AF158724.1/274-427 START: 000000045 WINDOW: 050\tCAGCCAAGUGCGAGAAGUAAUGUGAAUUGCAGAACACAUUGAACGUCGAC\n",
        ">AF158724.1/274-427 START: 000000046 WINDOW: 050\tAGCCAAGUGCGAGAAGUAAUGUGAAUUGCAGAACACAUUGAACGUCGACC\n",
        ">AF158724.1/274-427 START: 000000047 WINDOW: 050\tGCCAAGUGCGAGAAGUAAUGUGAAUUGCAGAACACAUUGAACGUCGACCU\n",
        ">AF158724.1/274-427 START: 000000048 WINDOW: 050\tCCAAGUGCGAGAAGUAAUGUGAAUUGCAGAACACAUUGAACGUCGACCUU\n",
        ">AF158724.1/274-427 START: 000000049 WINDOW: 050\tCAAGUGCGAGAAGUAAUGUGAAUUGCAGAACACAUUGAACGUCGACCUUC\n",
        ">AF158724.1/274-427 START: 000000050 WINDOW: 050\tAAGUGCGAGAAGUAAUGUGAAUUGCAGAACACAUUGAACGUCGACCUUCU\n",
        ">AF158724.1/274-427 START: 000000051 WINDOW: 050\tAGUGCGAGAAGUAAUGUGAAUUGCAGAACACAUUGAACGUCGACCUUCUG"
       ]
      },
      {
       "output_type": "stream",
       "stream": "stdout",
       "text": [
        "\n",
        ">AF158724.1/274-427 START: 000000052 WINDOW: 050\tGUGCGAGAAGUAAUGUGAAUUGCAGAACACAUUGAACGUCGACCUUCUGA\n",
        ">AF158724.1/274-427 START: 000000053 WINDOW: 050\tUGCGAGAAGUAAUGUGAAUUGCAGAACACAUUGAACGUCGACCUUCUGAA\n",
        ">AF158724.1/274-427 START: 000000054 WINDOW: 050\tGCGAGAAGUAAUGUGAAUUGCAGAACACAUUGAACGUCGACCUUCUGAAC\n",
        ">AF158724.1/274-427 START: 000000055 WINDOW: 050\tCGAGAAGUAAUGUGAAUUGCAGAACACAUUGAACGUCGACCUUCUGAACG\n",
        ">AF158724.1/274-427 START: 000000056 WINDOW: 050\tGAGAAGUAAUGUGAAUUGCAGAACACAUUGAACGUCGACCUUCUGAACGC\n",
        ">AF158724.1/274-427 START: 000000057 WINDOW: 050\tAGAAGUAAUGUGAAUUGCAGAACACAUUGAACGUCGACCUUCUGAACGCG\n",
        ">AF158724.1/274-427 START: 000000058 WINDOW: 050\tGAAGUAAUGUGAAUUGCAGAACACAUUGAACGUCGACCUUCUGAACGCGA\n",
        ">AF158724.1/274-427 START: 000000059 WINDOW: 050\tAAGUAAUGUGAAUUGCAGAACACAUUGAACGUCGACCUUCUGAACGCGAA\n",
        ">AF158724.1/274-427 START: 000000060 WINDOW: 050\tAGUAAUGUGAAUUGCAGAACACAUUGAACGUCGACCUUCUGAACGCGAAU"
       ]
      },
      {
       "output_type": "stream",
       "stream": "stdout",
       "text": [
        "\n",
        ">AF158724.1/274-427 START: 000000061 WINDOW: 050\tGUAAUGUGAAUUGCAGAACACAUUGAACGUCGACCUUCUGAACGCGAAUU\n",
        ">AF158724.1/274-427 START: 000000062 WINDOW: 050\tUAAUGUGAAUUGCAGAACACAUUGAACGUCGACCUUCUGAACGCGAAUUG\n",
        ">AF158724.1/274-427 START: 000000063 WINDOW: 050\tAAUGUGAAUUGCAGAACACAUUGAACGUCGACCUUCUGAACGCGAAUUGC\n",
        ">AF158724.1/274-427 START: 000000064 WINDOW: 050\tAUGUGAAUUGCAGAACACAUUGAACGUCGACCUUCUGAACGCGAAUUGCG\n",
        ">AF158724.1/274-427 START: 000000065 WINDOW: 050\tUGUGAAUUGCAGAACACAUUGAACGUCGACCUUCUGAACGCGAAUUGCGG\n",
        ">AF158724.1/274-427 START: 000000066 WINDOW: 050\tGUGAAUUGCAGAACACAUUGAACGUCGACCUUCUGAACGCGAAUUGCGGU\n",
        ">AF158724.1/274-427 START: 000000067 WINDOW: 050\tUGAAUUGCAGAACACAUUGAACGUCGACCUUCUGAACGCGAAUUGCGGUC\n",
        ">AF158724.1/274-427 START: 000000068 WINDOW: 050\tGAAUUGCAGAACACAUUGAACGUCGACCUUCUGAACGCGAAUUGCGGUCU\n",
        ">AF158724.1/274-427 START: 000000069 WINDOW: 050\tAAUUGCAGAACACAUUGAACGUCGACCUUCUGAACGCGAAUUGCGGUCUC"
       ]
      },
      {
       "output_type": "stream",
       "stream": "stdout",
       "text": [
        "\n",
        ">AF158724.1/274-427 START: 000000070 WINDOW: 050\tAUUGCAGAACACAUUGAACGUCGACCUUCUGAACGCGAAUUGCGGUCUCG\n",
        ">AF158724.1/274-427 START: 000000071 WINDOW: 050\tUUGCAGAACACAUUGAACGUCGACCUUCUGAACGCGAAUUGCGGUCUCGG\n",
        ">AF158724.1/274-427 START: 000000072 WINDOW: 050\tUGCAGAACACAUUGAACGUCGACCUUCUGAACGCGAAUUGCGGUCUCGGG\n",
        ">AF158724.1/274-427 START: 000000073 WINDOW: 050\tGCAGAACACAUUGAACGUCGACCUUCUGAACGCGAAUUGCGGUCUCGGGU\n",
        ">AF158724.1/274-427 START: 000000074 WINDOW: 050\tCAGAACACAUUGAACGUCGACCUUCUGAACGCGAAUUGCGGUCUCGGGUC\n",
        ">AF158724.1/274-427 START: 000000075 WINDOW: 050\tAGAACACAUUGAACGUCGACCUUCUGAACGCGAAUUGCGGUCUCGGGUCA\n",
        ">AF158724.1/274-427 START: 000000076 WINDOW: 050\tGAACACAUUGAACGUCGACCUUCUGAACGCGAAUUGCGGUCUCGGGUCAA\n",
        ">AF158724.1/274-427 START: 000000077 WINDOW: 050\tAACACAUUGAACGUCGACCUUCUGAACGCGAAUUGCGGUCUCGGGUCAAU\n",
        ">AF158724.1/274-427 START: 000000078 WINDOW: 050\tACACAUUGAACGUCGACCUUCUGAACGCGAAUUGCGGUCUCGGGUCAAUC"
       ]
      },
      {
       "output_type": "stream",
       "stream": "stdout",
       "text": [
        "\n",
        ">AF158724.1/274-427 START: 000000079 WINDOW: 050\tCACAUUGAACGUCGACCUUCUGAACGCGAAUUGCGGUCUCGGGUCAAUCC\n",
        ">AF158724.1/274-427 START: 000000080 WINDOW: 050\tACAUUGAACGUCGACCUUCUGAACGCGAAUUGCGGUCUCGGGUCAAUCCC\n",
        ">AF158724.1/274-427 START: 000000081 WINDOW: 050\tCAUUGAACGUCGACCUUCUGAACGCGAAUUGCGGUCUCGGGUCAAUCCCG\n",
        ">AF158724.1/274-427 START: 000000082 WINDOW: 050\tAUUGAACGUCGACCUUCUGAACGCGAAUUGCGGUCUCGGGUCAAUCCCGG\n",
        "frag: 1 sim: 0.51 match: >AF158724.1/274-427 START: 000000082 WINDOW: 050\tAUUGAACGUCGACCUUCUGAACGCGAAUUGCGGUCUCGGGUCAAUCCCGG\n"
       ]
      },
      {
       "output_type": "stream",
       "stream": "stdout",
       "text": [
        ">AF158724.1/274-427 START: 000000083 WINDOW: 050\tUUGAACGUCGACCUUCUGAACGCGAAUUGCGGUCUCGGGUCAAUCCCGGG\n",
        "frag: 1 sim: 0.52 match: >AF158724.1/274-427 START: 000000083 WINDOW: 050\tUUGAACGUCGACCUUCUGAACGCGAAUUGCGGUCUCGGGUCAAUCCCGGG\n"
       ]
      },
      {
       "output_type": "stream",
       "stream": "stdout",
       "text": [
        ">AF158724.1/274-427 START: 000000084 WINDOW: 050\tUGAACGUCGACCUUCUGAACGCGAAUUGCGGUCUCGGGUCAAUCCCGGGA\n",
        "frag: 1 sim: 0.56 match: >AF158724.1/274-427 START: 000000084 WINDOW: 050\tUGAACGUCGACCUUCUGAACGCGAAUUGCGGUCUCGGGUCAAUCCCGGGA\n"
       ]
      },
      {
       "output_type": "stream",
       "stream": "stdout",
       "text": [
        ">AF158724.1/274-427 START: 000000085 WINDOW: 050\tGAACGUCGACCUUCUGAACGCGAAUUGCGGUCUCGGGUCAAUCCCGGGAC\n",
        "frag: 1 sim: 0.58 match: >AF158724.1/274-427 START: 000000085 WINDOW: 050\tGAACGUCGACCUUCUGAACGCGAAUUGCGGUCUCGGGUCAAUCCCGGGAC\n"
       ]
      },
      {
       "output_type": "stream",
       "stream": "stdout",
       "text": [
        ">AF158724.1/274-427 START: 000000086 WINDOW: 050\tAACGUCGACCUUCUGAACGCGAAUUGCGGUCUCGGGUCAAUCCCGGGACC\n",
        "frag: 1 sim: 0.60 match: >AF158724.1/274-427 START: 000000086 WINDOW: 050\tAACGUCGACCUUCUGAACGCGAAUUGCGGUCUCGGGUCAAUCCCGGGACC\n"
       ]
      },
      {
       "output_type": "stream",
       "stream": "stdout",
       "text": [
        ">AF158724.1/274-427 START: 000000087 WINDOW: 050\tACGUCGACCUUCUGAACGCGAAUUGCGGUCUCGGGUCAAUCCCGGGACCG\n",
        "frag: 1 sim: 0.59 match: >AF158724.1/274-427 START: 000000087 WINDOW: 050\tACGUCGACCUUCUGAACGCGAAUUGCGGUCUCGGGUCAAUCCCGGGACCG\n"
       ]
      },
      {
       "output_type": "stream",
       "stream": "stdout",
       "text": [
        ">AF158724.1/274-427 START: 000000088 WINDOW: 050\tCGUCGACCUUCUGAACGCGAAUUGCGGUCUCGGGUCAAUCCCGGGACCGC\n",
        "frag: 1 sim: 0.58 match: >AF158724.1/274-427 START: 000000088 WINDOW: 050\tCGUCGACCUUCUGAACGCGAAUUGCGGUCUCGGGUCAAUCCCGGGACCGC\n"
       ]
      },
      {
       "output_type": "stream",
       "stream": "stdout",
       "text": [
        ">AF158724.1/274-427 START: 000000089 WINDOW: 050\tGUCGACCUUCUGAACGCGAAUUGCGGUCUCGGGUCAAUCCCGGGACCGCG\n",
        "frag: 1 sim: 0.58 match: >AF158724.1/274-427 START: 000000089 WINDOW: 050\tGUCGACCUUCUGAACGCGAAUUGCGGUCUCGGGUCAAUCCCGGGACCGCG\n"
       ]
      },
      {
       "output_type": "stream",
       "stream": "stdout",
       "text": [
        ">AF158724.1/274-427 START: 000000090 WINDOW: 050\tUCGACCUUCUGAACGCGAAUUGCGGUCUCGGGUCAAUCCCGGGACCGCGU\n",
        "frag: 1 sim: 0.60 match: >AF158724.1/274-427 START: 000000090 WINDOW: 050\tUCGACCUUCUGAACGCGAAUUGCGGUCUCGGGUCAAUCCCGGGACCGCGU\n"
       ]
      },
      {
       "output_type": "stream",
       "stream": "stdout",
       "text": [
        ">AF158724.1/274-427 START: 000000091 WINDOW: 050\tCGACCUUCUGAACGCGAAUUGCGGUCUCGGGUCAAUCCCGGGACCGCGUC\n",
        "frag: 1 sim: 0.54 match: >AF158724.1/274-427 START: 000000091 WINDOW: 050\tCGACCUUCUGAACGCGAAUUGCGGUCUCGGGUCAAUCCCGGGACCGCGUC\n"
       ]
      },
      {
       "output_type": "stream",
       "stream": "stdout",
       "text": [
        ">AF158724.1/274-427 START: 000000092 WINDOW: 050\tGACCUUCUGAACGCGAAUUGCGGUCUCGGGUCAAUCCCGGGACCGCGUCU\n",
        "frag: 1 sim: 0.53 match: >AF158724.1/274-427 START: 000000092 WINDOW: 050\tGACCUUCUGAACGCGAAUUGCGGUCUCGGGUCAAUCCCGGGACCGCGUCU\n"
       ]
      },
      {
       "output_type": "stream",
       "stream": "stdout",
       "text": [
        ">AF158724.1/274-427 START: 000000093 WINDOW: 050\tACCUUCUGAACGCGAAUUGCGGUCUCGGGUCAAUCCCGGGACCGCGUCUG\n",
        ">AF158724.1/274-427 START: 000000094 WINDOW: 050\tCCUUCUGAACGCGAAUUGCGGUCUCGGGUCAAUCCCGGGACCGCGUCUGC\n",
        ">AF158724.1/274-427 START: 000000095 WINDOW: 050\tCUUCUGAACGCGAAUUGCGGUCUCGGGUCAAUCCCGGGACCGCGUCUGCC\n",
        ">AF158724.1/274-427 START: 000000096 WINDOW: 050\tUUCUGAACGCGAAUUGCGGUCUCGGGUCAAUCCCGGGACCGCGUCUGCCU\n",
        ">AF158724.1/274-427 START: 000000097 WINDOW: 050\tUCUGAACGCGAAUUGCGGUCUCGGGUCAAUCCCGGGACCGCGUCUGCCUC\n",
        ">AF158724.1/274-427 START: 000000098 WINDOW: 050\tCUGAACGCGAAUUGCGGUCUCGGGUCAAUCCCGGGACCGCGUCUGCCUCA\n",
        "frag: 1 sim: 0.50 match: >AF158724.1/274-427 START: 000000098 WINDOW: 050\tCUGAACGCGAAUUGCGGUCUCGGGUCAAUCCCGGGACCGCGUCUGCCUCA\n"
       ]
      },
      {
       "output_type": "stream",
       "stream": "stdout",
       "text": [
        ">AF158724.1/274-427 START: 000000099 WINDOW: 050\tUGAACGCGAAUUGCGGUCUCGGGUCAAUCCCGGGACCGCGUCUGCCUCAG\n",
        "frag: 1 sim: 0.54 match: >AF158724.1/274-427 START: 000000099 WINDOW: 050\tUGAACGCGAAUUGCGGUCUCGGGUCAAUCCCGGGACCGCGUCUGCCUCAG\n"
       ]
      },
      {
       "output_type": "stream",
       "stream": "stdout",
       "text": [
        ">AF158724.1/274-427 START: 000000100 WINDOW: 050\tGAACGCGAAUUGCGGUCUCGGGUCAAUCCCGGGACCGCGUCUGCCUCAGG\n",
        "frag: 1 sim: 0.57 match: >AF158724.1/274-427 START: 000000100 WINDOW: 050\tGAACGCGAAUUGCGGUCUCGGGUCAAUCCCGGGACCGCGUCUGCCUCAGG\n"
       ]
      },
      {
       "output_type": "stream",
       "stream": "stdout",
       "text": [
        ">AF158724.1/274-427 START: 000000101 WINDOW: 050\tAACGCGAAUUGCGGUCUCGGGUCAAUCCCGGGACCGCGUCUGCCUCAGGG\n",
        "frag: 1 sim: 0.57 match: >AF158724.1/274-427 START: 000000101 WINDOW: 050\tAACGCGAAUUGCGGUCUCGGGUCAAUCCCGGGACCGCGUCUGCCUCAGGG\n"
       ]
      },
      {
       "output_type": "stream",
       "stream": "stdout",
       "text": [
        ">AF158724.1/274-427 START: 000000102 WINDOW: 050\tACGCGAAUUGCGGUCUCGGGUCAAUCCCGGGACCGCGUCUGCCUCAGGGU\n",
        "frag: 1 sim: 0.56 match: >AF158724.1/274-427 START: 000000102 WINDOW: 050\tACGCGAAUUGCGGUCUCGGGUCAAUCCCGGGACCGCGUCUGCCUCAGGGU\n"
       ]
      },
      {
       "output_type": "stream",
       "stream": "stdout",
       "text": [
        ">AF158724.1/274-427 START: 000000103 WINDOW: 050\tCGCGAAUUGCGGUCUCGGGUCAAUCCCGGGACCGCGUCUGCCUCAGGGUC\n",
        "frag: 1 sim: 0.52 match: >AF158724.1/274-427 START: 000000103 WINDOW: 050\tCGCGAAUUGCGGUCUCGGGUCAAUCCCGGGACCGCGUCUGCCUCAGGGUC\n"
       ]
      },
      {
       "output_type": "stream",
       "stream": "stdout",
       "text": [
        ">AF158724.1/274-427 START: 000000104 WINDOW: 050\tGCGAAUUGCGGUCUCGGGUCAAUCCCGGGACCGCGUCUGCCUCAGGGUCG\n",
        "frag: 1 sim: 0.54 match: >AF158724.1/274-427 START: 000000104 WINDOW: 050\tGCGAAUUGCGGUCUCGGGUCAAUCCCGGGACCGCGUCUGCCUCAGGGUCG\n"
       ]
      },
      {
       "output_type": "stream",
       "stream": "stdout",
       "text": [
        ">AF158725.1/345-497 START: 000000000 WINDOW: 050\tAUCUCUUAGCGGUGGAUCACUCGGCUCGAGCGUCGAUGAAGGACGGAGCU\n",
        "frag: 1 sim: 0.79 match: >AF158725.1/345-497 START: 000000000 WINDOW: 050\tAUCUCUUAGCGGUGGAUCACUCGGCUCGAGCGUCGAUGAAGGACGGAGCU\n"
       ]
      },
      {
       "output_type": "stream",
       "stream": "stdout",
       "text": [
        ">AF158725.1/345-497 START: 000000001 WINDOW: 050\tUCUCUUAGCGGUGGAUCACUCGGCUCGAGCGUCGAUGAAGGACGGAGCUA\n",
        "frag: 1 sim: 0.79 match: >AF158725.1/345-497 START: 000000001 WINDOW: 050\tUCUCUUAGCGGUGGAUCACUCGGCUCGAGCGUCGAUGAAGGACGGAGCUA\n"
       ]
      },
      {
       "output_type": "stream",
       "stream": "stdout",
       "text": [
        ">AF158725.1/345-497 START: 000000002 WINDOW: 050\tCUCUUAGCGGUGGAUCACUCGGCUCGAGCGUCGAUGAAGGACGGAGCUAG\n",
        "frag: 1 sim: 0.80 match: >AF158725.1/345-497 START: 000000002 WINDOW: 050\tCUCUUAGCGGUGGAUCACUCGGCUCGAGCGUCGAUGAAGGACGGAGCUAG\n"
       ]
      },
      {
       "output_type": "stream",
       "stream": "stdout",
       "text": [
        ">AF158725.1/345-497 START: 000000003 WINDOW: 050\tUCUUAGCGGUGGAUCACUCGGCUCGAGCGUCGAUGAAGGACGGAGCUAGC\n",
        "frag: 1 sim: 0.79 match: >AF158725.1/345-497 START: 000000003 WINDOW: 050\tUCUUAGCGGUGGAUCACUCGGCUCGAGCGUCGAUGAAGGACGGAGCUAGC\n"
       ]
      },
      {
       "output_type": "stream",
       "stream": "stdout",
       "text": [
        ">AF158725.1/345-497 START: 000000004 WINDOW: 050\tCUUAGCGGUGGAUCACUCGGCUCGAGCGUCGAUGAAGGACGGAGCUAGCU\n",
        "frag: 1 sim: 0.80 match: >AF158725.1/345-497 START: 000000004 WINDOW: 050\tCUUAGCGGUGGAUCACUCGGCUCGAGCGUCGAUGAAGGACGGAGCUAGCU\n"
       ]
      },
      {
       "output_type": "stream",
       "stream": "stdout",
       "text": [
        ">AF158725.1/345-497 START: 000000005 WINDOW: 050\tUUAGCGGUGGAUCACUCGGCUCGAGCGUCGAUGAAGGACGGAGCUAGCUC\n",
        "frag: 1 sim: 0.79 match: >AF158725.1/345-497 START: 000000005 WINDOW: 050\tUUAGCGGUGGAUCACUCGGCUCGAGCGUCGAUGAAGGACGGAGCUAGCUC\n"
       ]
      },
      {
       "output_type": "stream",
       "stream": "stdout",
       "text": [
        ">AF158725.1/345-497 START: 000000006 WINDOW: 050\tUAGCGGUGGAUCACUCGGCUCGAGCGUCGAUGAAGGACGGAGCUAGCUCC\n",
        "frag: 1 sim: 0.80 match: >AF158725.1/345-497 START: 000000006 WINDOW: 050\tUAGCGGUGGAUCACUCGGCUCGAGCGUCGAUGAAGGACGGAGCUAGCUCC\n"
       ]
      },
      {
       "output_type": "stream",
       "stream": "stdout",
       "text": [
        ">AF158725.1/345-497 START: 000000007 WINDOW: 050\tAGCGGUGGAUCACUCGGCUCGAGCGUCGAUGAAGGACGGAGCUAGCUCCG\n",
        "frag: 1 sim: 0.79 match: >AF158725.1/345-497 START: 000000007 WINDOW: 050\tAGCGGUGGAUCACUCGGCUCGAGCGUCGAUGAAGGACGGAGCUAGCUCCG\n"
       ]
      },
      {
       "output_type": "stream",
       "stream": "stdout",
       "text": [
        ">AF158725.1/345-497 START: 000000008 WINDOW: 050\tGCGGUGGAUCACUCGGCUCGAGCGUCGAUGAAGGACGGAGCUAGCUCCGA\n",
        "frag: 1 sim: 0.79 match: >AF158725.1/345-497 START: 000000008 WINDOW: 050\tGCGGUGGAUCACUCGGCUCGAGCGUCGAUGAAGGACGGAGCUAGCUCCGA\n"
       ]
      },
      {
       "output_type": "stream",
       "stream": "stdout",
       "text": [
        ">AF158725.1/345-497 START: 000000009 WINDOW: 050\tCGGUGGAUCACUCGGCUCGAGCGUCGAUGAAGGACGGAGCUAGCUCCGAG\n",
        "frag: 1 sim: 0.79 match: >AF158725.1/345-497 START: 000000009 WINDOW: 050\tCGGUGGAUCACUCGGCUCGAGCGUCGAUGAAGGACGGAGCUAGCUCCGAG\n"
       ]
      },
      {
       "output_type": "stream",
       "stream": "stdout",
       "text": [
        ">AF158725.1/345-497 START: 000000010 WINDOW: 050\tGGUGGAUCACUCGGCUCGAGCGUCGAUGAAGGACGGAGCUAGCUCCGAGA\n",
        "frag: 1 sim: 0.79 match: >AF158725.1/345-497 START: 000000010 WINDOW: 050\tGGUGGAUCACUCGGCUCGAGCGUCGAUGAAGGACGGAGCUAGCUCCGAGA\n"
       ]
      },
      {
       "output_type": "stream",
       "stream": "stdout",
       "text": [
        ">AF158725.1/345-497 START: 000000011 WINDOW: 050\tGUGGAUCACUCGGCUCGAGCGUCGAUGAAGGACGGAGCUAGCUCCGAGAA\n",
        "frag: 1 sim: 0.80 match: >AF158725.1/345-497 START: 000000011 WINDOW: 050\tGUGGAUCACUCGGCUCGAGCGUCGAUGAAGGACGGAGCUAGCUCCGAGAA\n"
       ]
      },
      {
       "output_type": "stream",
       "stream": "stdout",
       "text": [
        ">AF158725.1/345-497 START: 000000012 WINDOW: 050\tUGGAUCACUCGGCUCGAGCGUCGAUGAAGGACGGAGCUAGCUCCGAGAAG\n",
        "frag: 1 sim: 0.79 match: >AF158725.1/345-497 START: 000000012 WINDOW: 050\tUGGAUCACUCGGCUCGAGCGUCGAUGAAGGACGGAGCUAGCUCCGAGAAG\n"
       ]
      },
      {
       "output_type": "stream",
       "stream": "stdout",
       "text": [
        ">AF158725.1/345-497 START: 000000013 WINDOW: 050\tGGAUCACUCGGCUCGAGCGUCGAUGAAGGACGGAGCUAGCUCCGAGAAGU\n",
        "frag: 1 sim: 0.79 match: >AF158725.1/345-497 START: 000000013 WINDOW: 050\tGGAUCACUCGGCUCGAGCGUCGAUGAAGGACGGAGCUAGCUCCGAGAAGU\n"
       ]
      },
      {
       "output_type": "stream",
       "stream": "stdout",
       "text": [
        ">AF158725.1/345-497 START: 000000014 WINDOW: 050\tGAUCACUCGGCUCGAGCGUCGAUGAAGGACGGAGCUAGCUCCGAGAAGUA\n",
        "frag: 1 sim: 0.78 match: >AF158725.1/345-497 START: 000000014 WINDOW: 050\tGAUCACUCGGCUCGAGCGUCGAUGAAGGACGGAGCUAGCUCCGAGAAGUA\n"
       ]
      },
      {
       "output_type": "stream",
       "stream": "stdout",
       "text": [
        ">AF158725.1/345-497 START: 000000015 WINDOW: 050\tAUCACUCGGCUCGAGCGUCGAUGAAGGACGGAGCUAGCUCCGAGAAGUAA\n",
        "frag: 1 sim: 0.77 match: >AF158725.1/345-497 START: 000000015 WINDOW: 050\tAUCACUCGGCUCGAGCGUCGAUGAAGGACGGAGCUAGCUCCGAGAAGUAA\n"
       ]
      },
      {
       "output_type": "stream",
       "stream": "stdout",
       "text": [
        ">AF158725.1/345-497 START: 000000016 WINDOW: 050\tUCACUCGGCUCGAGCGUCGAUGAAGGACGGAGCUAGCUCCGAGAAGUAAU\n",
        "frag: 1 sim: 0.75 match: >AF158725.1/345-497 START: 000000016 WINDOW: 050\tUCACUCGGCUCGAGCGUCGAUGAAGGACGGAGCUAGCUCCGAGAAGUAAU\n"
       ]
      },
      {
       "output_type": "stream",
       "stream": "stdout",
       "text": [
        ">AF158725.1/345-497 START: 000000017 WINDOW: 050\tCACUCGGCUCGAGCGUCGAUGAAGGACGGAGCUAGCUCCGAGAAGUAAUG\n",
        "frag: 1 sim: 0.73 match: >AF158725.1/345-497 START: 000000017 WINDOW: 050\tCACUCGGCUCGAGCGUCGAUGAAGGACGGAGCUAGCUCCGAGAAGUAAUG\n"
       ]
      },
      {
       "output_type": "stream",
       "stream": "stdout",
       "text": [
        ">AF158725.1/345-497 START: 000000018 WINDOW: 050\tACUCGGCUCGAGCGUCGAUGAAGGACGGAGCUAGCUCCGAGAAGUAAUGU\n",
        "frag: 1 sim: 0.72 match: >AF158725.1/345-497 START: 000000018 WINDOW: 050\tACUCGGCUCGAGCGUCGAUGAAGGACGGAGCUAGCUCCGAGAAGUAAUGU\n"
       ]
      },
      {
       "output_type": "stream",
       "stream": "stdout",
       "text": [
        ">AF158725.1/345-497 START: 000000019 WINDOW: 050\tCUCGGCUCGAGCGUCGAUGAAGGACGGAGCUAGCUCCGAGAAGUAAUGUG\n",
        "frag: 1 sim: 0.70 match: >AF158725.1/345-497 START: 000000019 WINDOW: 050\tCUCGGCUCGAGCGUCGAUGAAGGACGGAGCUAGCUCCGAGAAGUAAUGUG\n"
       ]
      },
      {
       "output_type": "stream",
       "stream": "stdout",
       "text": [
        ">AF158725.1/345-497 START: 000000020 WINDOW: 050\tUCGGCUCGAGCGUCGAUGAAGGACGGAGCUAGCUCCGAGAAGUAAUGUGA\n",
        "frag: 1 sim: 0.70 match: >AF158725.1/345-497 START: 000000020 WINDOW: 050\tUCGGCUCGAGCGUCGAUGAAGGACGGAGCUAGCUCCGAGAAGUAAUGUGA\n"
       ]
      },
      {
       "output_type": "stream",
       "stream": "stdout",
       "text": [
        ">AF158725.1/345-497 START: 000000021 WINDOW: 050\tCGGCUCGAGCGUCGAUGAAGGACGGAGCUAGCUCCGAGAAGUAAUGUGAA\n",
        "frag: 1 sim: 0.69 match: >AF158725.1/345-497 START: 000000021 WINDOW: 050\tCGGCUCGAGCGUCGAUGAAGGACGGAGCUAGCUCCGAGAAGUAAUGUGAA\n"
       ]
      },
      {
       "output_type": "stream",
       "stream": "stdout",
       "text": [
        ">AF158725.1/345-497 START: 000000022 WINDOW: 050\tGGCUCGAGCGUCGAUGAAGGACGGAGCUAGCUCCGAGAAGUAAUGUGAAU\n",
        "frag: 1 sim: 0.66 match: >AF158725.1/345-497 START: 000000022 WINDOW: 050\tGGCUCGAGCGUCGAUGAAGGACGGAGCUAGCUCCGAGAAGUAAUGUGAAU\n"
       ]
      },
      {
       "output_type": "stream",
       "stream": "stdout",
       "text": [
        ">AF158725.1/345-497 START: 000000023 WINDOW: 050\tGCUCGAGCGUCGAUGAAGGACGGAGCUAGCUCCGAGAAGUAAUGUGAAUU\n",
        "frag: 1 sim: 0.64 match: >AF158725.1/345-497 START: 000000023 WINDOW: 050\tGCUCGAGCGUCGAUGAAGGACGGAGCUAGCUCCGAGAAGUAAUGUGAAUU\n"
       ]
      },
      {
       "output_type": "stream",
       "stream": "stdout",
       "text": [
        ">AF158725.1/345-497 START: 000000024 WINDOW: 050\tCUCGAGCGUCGAUGAAGGACGGAGCUAGCUCCGAGAAGUAAUGUGAAUUG\n",
        "frag: 1 sim: 0.63 match: >AF158725.1/345-497 START: 000000024 WINDOW: 050\tCUCGAGCGUCGAUGAAGGACGGAGCUAGCUCCGAGAAGUAAUGUGAAUUG\n"
       ]
      },
      {
       "output_type": "stream",
       "stream": "stdout",
       "text": [
        ">AF158725.1/345-497 START: 000000025 WINDOW: 050\tUCGAGCGUCGAUGAAGGACGGAGCUAGCUCCGAGAAGUAAUGUGAAUUGC\n",
        "frag: 1 sim: 0.62 match: >AF158725.1/345-497 START: 000000025 WINDOW: 050\tUCGAGCGUCGAUGAAGGACGGAGCUAGCUCCGAGAAGUAAUGUGAAUUGC\n"
       ]
      },
      {
       "output_type": "stream",
       "stream": "stdout",
       "text": [
        ">AF158725.1/345-497 START: 000000026 WINDOW: 050\tCGAGCGUCGAUGAAGGACGGAGCUAGCUCCGAGAAGUAAUGUGAAUUGCA\n",
        "frag: 1 sim: 0.61 match: >AF158725.1/345-497 START: 000000026 WINDOW: 050\tCGAGCGUCGAUGAAGGACGGAGCUAGCUCCGAGAAGUAAUGUGAAUUGCA\n"
       ]
      },
      {
       "output_type": "stream",
       "stream": "stdout",
       "text": [
        ">AF158725.1/345-497 START: 000000027 WINDOW: 050\tGAGCGUCGAUGAAGGACGGAGCUAGCUCCGAGAAGUAAUGUGAAUUGCAG\n",
        "frag: 1 sim: 0.63 match: >AF158725.1/345-497 START: 000000027 WINDOW: 050\tGAGCGUCGAUGAAGGACGGAGCUAGCUCCGAGAAGUAAUGUGAAUUGCAG\n"
       ]
      },
      {
       "output_type": "stream",
       "stream": "stdout",
       "text": [
        ">AF158725.1/345-497 START: 000000028 WINDOW: 050\tAGCGUCGAUGAAGGACGGAGCUAGCUCCGAGAAGUAAUGUGAAUUGCAGG\n",
        "frag: 1 sim: 0.66 match: >AF158725.1/345-497 START: 000000028 WINDOW: 050\tAGCGUCGAUGAAGGACGGAGCUAGCUCCGAGAAGUAAUGUGAAUUGCAGG\n"
       ]
      },
      {
       "output_type": "stream",
       "stream": "stdout",
       "text": [
        ">AF158725.1/345-497 START: 000000029 WINDOW: 050\tGCGUCGAUGAAGGACGGAGCUAGCUCCGAGAAGUAAUGUGAAUUGCAGGA\n",
        "frag: 1 sim: 0.68 match: >AF158725.1/345-497 START: 000000029 WINDOW: 050\tGCGUCGAUGAAGGACGGAGCUAGCUCCGAGAAGUAAUGUGAAUUGCAGGA\n"
       ]
      },
      {
       "output_type": "stream",
       "stream": "stdout",
       "text": [
        ">AF158725.1/345-497 START: 000000030 WINDOW: 050\tCGUCGAUGAAGGACGGAGCUAGCUCCGAGAAGUAAUGUGAAUUGCAGGAC\n",
        "frag: 1 sim: 0.69 match: >AF158725.1/345-497 START: 000000030 WINDOW: 050\tCGUCGAUGAAGGACGGAGCUAGCUCCGAGAAGUAAUGUGAAUUGCAGGAC\n"
       ]
      },
      {
       "output_type": "stream",
       "stream": "stdout",
       "text": [
        ">AF158725.1/345-497 START: 000000031 WINDOW: 050\tGUCGAUGAAGGACGGAGCUAGCUCCGAGAAGUAAUGUGAAUUGCAGGACA\n",
        "frag: 1 sim: 0.70 match: >AF158725.1/345-497 START: 000000031 WINDOW: 050\tGUCGAUGAAGGACGGAGCUAGCUCCGAGAAGUAAUGUGAAUUGCAGGACA\n"
       ]
      },
      {
       "output_type": "stream",
       "stream": "stdout",
       "text": [
        ">AF158725.1/345-497 START: 000000032 WINDOW: 050\tUCGAUGAAGGACGGAGCUAGCUCCGAGAAGUAAUGUGAAUUGCAGGACAC\n",
        "frag: 1 sim: 0.71 match: >AF158725.1/345-497 START: 000000032 WINDOW: 050\tUCGAUGAAGGACGGAGCUAGCUCCGAGAAGUAAUGUGAAUUGCAGGACAC\n"
       ]
      },
      {
       "output_type": "stream",
       "stream": "stdout",
       "text": [
        ">AF158725.1/345-497 START: 000000033 WINDOW: 050\tCGAUGAAGGACGGAGCUAGCUCCGAGAAGUAAUGUGAAUUGCAGGACACA\n",
        "frag: 1 sim: 0.68 match: >AF158725.1/345-497 START: 000000033 WINDOW: 050\tCGAUGAAGGACGGAGCUAGCUCCGAGAAGUAAUGUGAAUUGCAGGACACA\n"
       ]
      },
      {
       "output_type": "stream",
       "stream": "stdout",
       "text": [
        ">AF158725.1/345-497 START: 000000034 WINDOW: 050\tGAUGAAGGACGGAGCUAGCUCCGAGAAGUAAUGUGAAUUGCAGGACACAU\n",
        "frag: 1 sim: 0.69 match: >AF158725.1/345-497 START: 000000034 WINDOW: 050\tGAUGAAGGACGGAGCUAGCUCCGAGAAGUAAUGUGAAUUGCAGGACACAU\n"
       ]
      },
      {
       "output_type": "stream",
       "stream": "stdout",
       "text": [
        ">AF158725.1/345-497 START: 000000035 WINDOW: 050\tAUGAAGGACGGAGCUAGCUCCGAGAAGUAAUGUGAAUUGCAGGACACAUU\n",
        "frag: 1 sim: 0.65 match: >AF158725.1/345-497 START: 000000035 WINDOW: 050\tAUGAAGGACGGAGCUAGCUCCGAGAAGUAAUGUGAAUUGCAGGACACAUU\n"
       ]
      },
      {
       "output_type": "stream",
       "stream": "stdout",
       "text": [
        ">AF158725.1/345-497 START: 000000036 WINDOW: 050\tUGAAGGACGGAGCUAGCUCCGAGAAGUAAUGUGAAUUGCAGGACACAUUG\n",
        "frag: 1 sim: 0.64 match: >AF158725.1/345-497 START: 000000036 WINDOW: 050\tUGAAGGACGGAGCUAGCUCCGAGAAGUAAUGUGAAUUGCAGGACACAUUG\n"
       ]
      },
      {
       "output_type": "stream",
       "stream": "stdout",
       "text": [
        ">AF158725.1/345-497 START: 000000037 WINDOW: 050\tGAAGGACGGAGCUAGCUCCGAGAAGUAAUGUGAAUUGCAGGACACAUUGA\n",
        "frag: 1 sim: 0.64 match: >AF158725.1/345-497 START: 000000037 WINDOW: 050\tGAAGGACGGAGCUAGCUCCGAGAAGUAAUGUGAAUUGCAGGACACAUUGA\n"
       ]
      },
      {
       "output_type": "stream",
       "stream": "stdout",
       "text": [
        ">AF158725.1/345-497 START: 000000038 WINDOW: 050\tAAGGACGGAGCUAGCUCCGAGAAGUAAUGUGAAUUGCAGGACACAUUGAG\n",
        "frag: 1 sim: 0.65 match: >AF158725.1/345-497 START: 000000038 WINDOW: 050\tAAGGACGGAGCUAGCUCCGAGAAGUAAUGUGAAUUGCAGGACACAUUGAG\n"
       ]
      },
      {
       "output_type": "stream",
       "stream": "stdout",
       "text": [
        ">AF158725.1/345-497 START: 000000039 WINDOW: 050\tAGGACGGAGCUAGCUCCGAGAAGUAAUGUGAAUUGCAGGACACAUUGAGC\n",
        "frag: 1 sim: 0.64 match: >AF158725.1/345-497 START: 000000039 WINDOW: 050\tAGGACGGAGCUAGCUCCGAGAAGUAAUGUGAAUUGCAGGACACAUUGAGC\n"
       ]
      },
      {
       "output_type": "stream",
       "stream": "stdout",
       "text": [
        ">AF158725.1/345-497 START: 000000040 WINDOW: 050\tGGACGGAGCUAGCUCCGAGAAGUAAUGUGAAUUGCAGGACACAUUGAGCA\n",
        "frag: 1 sim: 0.63 match: >AF158725.1/345-497 START: 000000040 WINDOW: 050\tGGACGGAGCUAGCUCCGAGAAGUAAUGUGAAUUGCAGGACACAUUGAGCA\n"
       ]
      },
      {
       "output_type": "stream",
       "stream": "stdout",
       "text": [
        ">AF158725.1/345-497 START: 000000041 WINDOW: 050\tGACGGAGCUAGCUCCGAGAAGUAAUGUGAAUUGCAGGACACAUUGAGCAU\n",
        "frag: 1 sim: 0.62 match: >AF158725.1/345-497 START: 000000041 WINDOW: 050\tGACGGAGCUAGCUCCGAGAAGUAAUGUGAAUUGCAGGACACAUUGAGCAU\n"
       ]
      },
      {
       "output_type": "stream",
       "stream": "stdout",
       "text": [
        ">AF158725.1/345-497 START: 000000042 WINDOW: 050\tACGGAGCUAGCUCCGAGAAGUAAUGUGAAUUGCAGGACACAUUGAGCAUC\n",
        "frag: 1 sim: 0.62 match: >AF158725.1/345-497 START: 000000042 WINDOW: 050\tACGGAGCUAGCUCCGAGAAGUAAUGUGAAUUGCAGGACACAUUGAGCAUC\n"
       ]
      },
      {
       "output_type": "stream",
       "stream": "stdout",
       "text": [
        ">AF158725.1/345-497 START: 000000043 WINDOW: 050\tCGGAGCUAGCUCCGAGAAGUAAUGUGAAUUGCAGGACACAUUGAGCAUCG\n",
        "frag: 1 sim: 0.64 match: >AF158725.1/345-497 START: 000000043 WINDOW: 050\tCGGAGCUAGCUCCGAGAAGUAAUGUGAAUUGCAGGACACAUUGAGCAUCG\n"
       ]
      },
      {
       "output_type": "stream",
       "stream": "stdout",
       "text": [
        ">AF158725.1/345-497 START: 000000044 WINDOW: 050\tGGAGCUAGCUCCGAGAAGUAAUGUGAAUUGCAGGACACAUUGAGCAUCGA\n",
        "frag: 1 sim: 0.61 match: >AF158725.1/345-497 START: 000000044 WINDOW: 050\tGGAGCUAGCUCCGAGAAGUAAUGUGAAUUGCAGGACACAUUGAGCAUCGA\n"
       ]
      },
      {
       "output_type": "stream",
       "stream": "stdout",
       "text": [
        ">AF158725.1/345-497 START: 000000045 WINDOW: 050\tGAGCUAGCUCCGAGAAGUAAUGUGAAUUGCAGGACACAUUGAGCAUCGAU\n",
        "frag: 1 sim: 0.61 match: >AF158725.1/345-497 START: 000000045 WINDOW: 050\tGAGCUAGCUCCGAGAAGUAAUGUGAAUUGCAGGACACAUUGAGCAUCGAU\n"
       ]
      },
      {
       "output_type": "stream",
       "stream": "stdout",
       "text": [
        ">AF158725.1/345-497 START: 000000046 WINDOW: 050\tAGCUAGCUCCGAGAAGUAAUGUGAAUUGCAGGACACAUUGAGCAUCGAUA\n",
        "frag: 1 sim: 0.63 match: >AF158725.1/345-497 START: 000000046 WINDOW: 050\tAGCUAGCUCCGAGAAGUAAUGUGAAUUGCAGGACACAUUGAGCAUCGAUA\n"
       ]
      },
      {
       "output_type": "stream",
       "stream": "stdout",
       "text": [
        ">AF158725.1/345-497 START: 000000047 WINDOW: 050\tGCUAGCUCCGAGAAGUAAUGUGAAUUGCAGGACACAUUGAGCAUCGAUAU\n",
        "frag: 1 sim: 0.63 match: >AF158725.1/345-497 START: 000000047 WINDOW: 050\tGCUAGCUCCGAGAAGUAAUGUGAAUUGCAGGACACAUUGAGCAUCGAUAU\n"
       ]
      },
      {
       "output_type": "stream",
       "stream": "stdout",
       "text": [
        ">AF158725.1/345-497 START: 000000048 WINDOW: 050\tCUAGCUCCGAGAAGUAAUGUGAAUUGCAGGACACAUUGAGCAUCGAUAUU\n",
        "frag: 1 sim: 0.60 match: >AF158725.1/345-497 START: 000000048 WINDOW: 050\tCUAGCUCCGAGAAGUAAUGUGAAUUGCAGGACACAUUGAGCAUCGAUAUU\n"
       ]
      },
      {
       "output_type": "stream",
       "stream": "stdout",
       "text": [
        ">AF158725.1/345-497 START: 000000049 WINDOW: 050\tUAGCUCCGAGAAGUAAUGUGAAUUGCAGGACACAUUGAGCAUCGAUAUUC\n",
        "frag: 1 sim: 0.58 match: >AF158725.1/345-497 START: 000000049 WINDOW: 050\tUAGCUCCGAGAAGUAAUGUGAAUUGCAGGACACAUUGAGCAUCGAUAUUC\n"
       ]
      },
      {
       "output_type": "stream",
       "stream": "stdout",
       "text": [
        ">AF158725.1/345-497 START: 000000050 WINDOW: 050\tAGCUCCGAGAAGUAAUGUGAAUUGCAGGACACAUUGAGCAUCGAUAUUCU\n",
        "frag: 1 sim: 0.55 match: >AF158725.1/345-497 START: 000000050 WINDOW: 050\tAGCUCCGAGAAGUAAUGUGAAUUGCAGGACACAUUGAGCAUCGAUAUUCU\n"
       ]
      },
      {
       "output_type": "stream",
       "stream": "stdout",
       "text": [
        ">AF158725.1/345-497 START: 000000051 WINDOW: 050\tGCUCCGAGAAGUAAUGUGAAUUGCAGGACACAUUGAGCAUCGAUAUUCUG\n",
        "frag: 1 sim: 0.54 match: >AF158725.1/345-497 START: 000000051 WINDOW: 050\tGCUCCGAGAAGUAAUGUGAAUUGCAGGACACAUUGAGCAUCGAUAUUCUG\n"
       ]
      },
      {
       "output_type": "stream",
       "stream": "stdout",
       "text": [
        ">AF158725.1/345-497 START: 000000052 WINDOW: 050\tCUCCGAGAAGUAAUGUGAAUUGCAGGACACAUUGAGCAUCGAUAUUCUGA\n",
        "frag: 1 sim: 0.51 match: >AF158725.1/345-497 START: 000000052 WINDOW: 050\tCUCCGAGAAGUAAUGUGAAUUGCAGGACACAUUGAGCAUCGAUAUUCUGA\n"
       ]
      },
      {
       "output_type": "stream",
       "stream": "stdout",
       "text": [
        ">AF158725.1/345-497 START: 000000053 WINDOW: 050\tUCCGAGAAGUAAUGUGAAUUGCAGGACACAUUGAGCAUCGAUAUUCUGAA\n",
        "frag: 1 sim: 0.51 match: >AF158725.1/345-497 START: 000000053 WINDOW: 050\tUCCGAGAAGUAAUGUGAAUUGCAGGACACAUUGAGCAUCGAUAUUCUGAA\n"
       ]
      },
      {
       "output_type": "stream",
       "stream": "stdout",
       "text": [
        ">AF158725.1/345-497 START: 000000054 WINDOW: 050\tCCGAGAAGUAAUGUGAAUUGCAGGACACAUUGAGCAUCGAUAUUCUGAAC\n",
        ">AF158725.1/345-497 START: 000000055 WINDOW: 050\tCGAGAAGUAAUGUGAAUUGCAGGACACAUUGAGCAUCGAUAUUCUGAACG\n",
        ">AF158725.1/345-497 START: 000000056 WINDOW: 050\tGAGAAGUAAUGUGAAUUGCAGGACACAUUGAGCAUCGAUAUUCUGAACGC\n",
        ">AF158725.1/345-497 START: 000000057 WINDOW: 050\tAGAAGUAAUGUGAAUUGCAGGACACAUUGAGCAUCGAUAUUCUGAACGCG\n",
        ">AF158725.1/345-497 START: 000000058 WINDOW: 050\tGAAGUAAUGUGAAUUGCAGGACACAUUGAGCAUCGAUAUUCUGAACGCGU\n",
        ">AF158725.1/345-497 START: 000000059 WINDOW: 050\tAAGUAAUGUGAAUUGCAGGACACAUUGAGCAUCGAUAUUCUGAACGCGUA\n",
        ">AF158725.1/345-497 START: 000000060 WINDOW: 050\tAGUAAUGUGAAUUGCAGGACACAUUGAGCAUCGAUAUUCUGAACGCGUAU\n",
        ">AF158725.1/345-497 START: 000000061 WINDOW: 050\tGUAAUGUGAAUUGCAGGACACAUUGAGCAUCGAUAUUCUGAACGCGUAUU\n",
        ">AF158725.1/345-497 START: 000000062 WINDOW: 050\tUAAUGUGAAUUGCAGGACACAUUGAGCAUCGAUAUUCUGAACGCGUAUUG\n",
        ">AF158725.1/345-497 START: 000000063 WINDOW: 050\tAAUGUGAAUUGCAGGACACAUUGAGCAUCGAUAUUCUGAACGCGUAUUGC"
       ]
      },
      {
       "output_type": "stream",
       "stream": "stdout",
       "text": [
        "\n",
        ">AF158725.1/345-497 START: 000000064 WINDOW: 050\tAUGUGAAUUGCAGGACACAUUGAGCAUCGAUAUUCUGAACGCGUAUUGCG\n",
        ">AF158725.1/345-497 START: 000000065 WINDOW: 050\tUGUGAAUUGCAGGACACAUUGAGCAUCGAUAUUCUGAACGCGUAUUGCGG\n",
        ">AF158725.1/345-497 START: 000000066 WINDOW: 050\tGUGAAUUGCAGGACACAUUGAGCAUCGAUAUUCUGAACGCGUAUUGCGGC\n",
        ">AF158725.1/345-497 START: 000000067 WINDOW: 050\tUGAAUUGCAGGACACAUUGAGCAUCGAUAUUCUGAACGCGUAUUGCGGCC\n",
        ">AF158725.1/345-497 START: 000000068 WINDOW: 050\tGAAUUGCAGGACACAUUGAGCAUCGAUAUUCUGAACGCGUAUUGCGGCCU\n",
        "frag: 1 sim: 0.51 match: >AF158725.1/345-497 START: 000000068 WINDOW: 050\tGAAUUGCAGGACACAUUGAGCAUCGAUAUUCUGAACGCGUAUUGCGGCCU\n"
       ]
      },
      {
       "output_type": "stream",
       "stream": "stdout",
       "text": [
        ">AF158725.1/345-497 START: 000000069 WINDOW: 050\tAAUUGCAGGACACAUUGAGCAUCGAUAUUCUGAACGCGUAUUGCGGCCUC\n",
        "frag: 1 sim: 0.52 match: >AF158725.1/345-497 START: 000000069 WINDOW: 050\tAAUUGCAGGACACAUUGAGCAUCGAUAUUCUGAACGCGUAUUGCGGCCUC\n"
       ]
      },
      {
       "output_type": "stream",
       "stream": "stdout",
       "text": [
        ">AF158725.1/345-497 START: 000000070 WINDOW: 050\tAUUGCAGGACACAUUGAGCAUCGAUAUUCUGAACGCGUAUUGCGGCCUCG\n",
        "frag: 1 sim: 0.54 match: >AF158725.1/345-497 START: 000000070 WINDOW: 050\tAUUGCAGGACACAUUGAGCAUCGAUAUUCUGAACGCGUAUUGCGGCCUCG\n"
       ]
      },
      {
       "output_type": "stream",
       "stream": "stdout",
       "text": [
        ">AF158725.1/345-497 START: 000000071 WINDOW: 050\tUUGCAGGACACAUUGAGCAUCGAUAUUCUGAACGCGUAUUGCGGCCUCGG\n",
        "frag: 1 sim: 0.57 match: >AF158725.1/345-497 START: 000000071 WINDOW: 050\tUUGCAGGACACAUUGAGCAUCGAUAUUCUGAACGCGUAUUGCGGCCUCGG\n"
       ]
      },
      {
       "output_type": "stream",
       "stream": "stdout",
       "text": [
        ">AF158725.1/345-497 START: 000000072 WINDOW: 050\tUGCAGGACACAUUGAGCAUCGAUAUUCUGAACGCGUAUUGCGGCCUCGGG\n",
        "frag: 1 sim: 0.60 match: >AF158725.1/345-497 START: 000000072 WINDOW: 050\tUGCAGGACACAUUGAGCAUCGAUAUUCUGAACGCGUAUUGCGGCCUCGGG\n"
       ]
      },
      {
       "output_type": "stream",
       "stream": "stdout",
       "text": [
        ">AF158725.1/345-497 START: 000000073 WINDOW: 050\tGCAGGACACAUUGAGCAUCGAUAUUCUGAACGCGUAUUGCGGCCUCGGGU\n",
        "frag: 1 sim: 0.62 match: >AF158725.1/345-497 START: 000000073 WINDOW: 050\tGCAGGACACAUUGAGCAUCGAUAUUCUGAACGCGUAUUGCGGCCUCGGGU\n"
       ]
      },
      {
       "output_type": "stream",
       "stream": "stdout",
       "text": [
        ">AF158725.1/345-497 START: 000000074 WINDOW: 050\tCAGGACACAUUGAGCAUCGAUAUUCUGAACGCGUAUUGCGGCCUCGGGUA\n",
        "frag: 1 sim: 0.63 match: >AF158725.1/345-497 START: 000000074 WINDOW: 050\tCAGGACACAUUGAGCAUCGAUAUUCUGAACGCGUAUUGCGGCCUCGGGUA\n"
       ]
      },
      {
       "output_type": "stream",
       "stream": "stdout",
       "text": [
        ">AF158725.1/345-497 START: 000000075 WINDOW: 050\tAGGACACAUUGAGCAUCGAUAUUCUGAACGCGUAUUGCGGCCUCGGGUAA\n",
        "frag: 1 sim: 0.62 match: >AF158725.1/345-497 START: 000000075 WINDOW: 050\tAGGACACAUUGAGCAUCGAUAUUCUGAACGCGUAUUGCGGCCUCGGGUAA\n"
       ]
      },
      {
       "output_type": "stream",
       "stream": "stdout",
       "text": [
        ">AF158725.1/345-497 START: 000000076 WINDOW: 050\tGGACACAUUGAGCAUCGAUAUUCUGAACGCGUAUUGCGGCCUCGGGUAAU\n",
        "frag: 1 sim: 0.57 match: >AF158725.1/345-497 START: 000000076 WINDOW: 050\tGGACACAUUGAGCAUCGAUAUUCUGAACGCGUAUUGCGGCCUCGGGUAAU\n"
       ]
      },
      {
       "output_type": "stream",
       "stream": "stdout",
       "text": [
        ">AF158725.1/345-497 START: 000000077 WINDOW: 050\tGACACAUUGAGCAUCGAUAUUCUGAACGCGUAUUGCGGCCUCGGGUAAUC\n",
        "frag: 1 sim: 0.56 match: >AF158725.1/345-497 START: 000000077 WINDOW: 050\tGACACAUUGAGCAUCGAUAUUCUGAACGCGUAUUGCGGCCUCGGGUAAUC\n"
       ]
      },
      {
       "output_type": "stream",
       "stream": "stdout",
       "text": [
        ">AF158725.1/345-497 START: 000000078 WINDOW: 050\tACACAUUGAGCAUCGAUAUUCUGAACGCGUAUUGCGGCCUCGGGUAAUCC\n",
        "frag: 1 sim: 0.53 match: >AF158725.1/345-497 START: 000000078 WINDOW: 050\tACACAUUGAGCAUCGAUAUUCUGAACGCGUAUUGCGGCCUCGGGUAAUCC\n"
       ]
      },
      {
       "output_type": "stream",
       "stream": "stdout",
       "text": [
        ">AF158725.1/345-497 START: 000000079 WINDOW: 050\tCACAUUGAGCAUCGAUAUUCUGAACGCGUAUUGCGGCCUCGGGUAAUCCU\n",
        "frag: 1 sim: 0.54 match: >AF158725.1/345-497 START: 000000079 WINDOW: 050\tCACAUUGAGCAUCGAUAUUCUGAACGCGUAUUGCGGCCUCGGGUAAUCCU\n"
       ]
      },
      {
       "output_type": "stream",
       "stream": "stdout",
       "text": [
        ">AF158725.1/345-497 START: 000000080 WINDOW: 050\tACAUUGAGCAUCGAUAUUCUGAACGCGUAUUGCGGCCUCGGGUAAUCCUG\n",
        "frag: 1 sim: 0.52 match: >AF158725.1/345-497 START: 000000080 WINDOW: 050\tACAUUGAGCAUCGAUAUUCUGAACGCGUAUUGCGGCCUCGGGUAAUCCUG\n"
       ]
      },
      {
       "output_type": "stream",
       "stream": "stdout",
       "text": [
        ">AF158725.1/345-497 START: 000000081 WINDOW: 050\tCAUUGAGCAUCGAUAUUCUGAACGCGUAUUGCGGCCUCGGGUAAUCCUGG\n",
        "frag: 1 sim: 0.52 match: >AF158725.1/345-497 START: 000000081 WINDOW: 050\tCAUUGAGCAUCGAUAUUCUGAACGCGUAUUGCGGCCUCGGGUAAUCCUGG\n"
       ]
      },
      {
       "output_type": "stream",
       "stream": "stdout",
       "text": [
        ">AF158725.1/345-497 START: 000000082 WINDOW: 050\tAUUGAGCAUCGAUAUUCUGAACGCGUAUUGCGGCCUCGGGUAAUCCUGGG\n",
        "frag: 1 sim: 0.53 match: >AF158725.1/345-497 START: 000000082 WINDOW: 050\tAUUGAGCAUCGAUAUUCUGAACGCGUAUUGCGGCCUCGGGUAAUCCUGGG\n"
       ]
      },
      {
       "output_type": "stream",
       "stream": "stdout",
       "text": [
        ">AF158725.1/345-497 START: 000000083 WINDOW: 050\tUUGAGCAUCGAUAUUCUGAACGCGUAUUGCGGCCUCGGGUAAUCCUGGGG\n",
        "frag: 1 sim: 0.55 match: >AF158725.1/345-497 START: 000000083 WINDOW: 050\tUUGAGCAUCGAUAUUCUGAACGCGUAUUGCGGCCUCGGGUAAUCCUGGGG\n"
       ]
      },
      {
       "output_type": "stream",
       "stream": "stdout",
       "text": [
        ">AF158725.1/345-497 START: 000000084 WINDOW: 050\tUGAGCAUCGAUAUUCUGAACGCGUAUUGCGGCCUCGGGUAAUCCUGGGGC\n",
        "frag: 1 sim: 0.57 match: >AF158725.1/345-497 START: 000000084 WINDOW: 050\tUGAGCAUCGAUAUUCUGAACGCGUAUUGCGGCCUCGGGUAAUCCUGGGGC\n"
       ]
      },
      {
       "output_type": "stream",
       "stream": "stdout",
       "text": [
        ">AF158725.1/345-497 START: 000000085 WINDOW: 050\tGAGCAUCGAUAUUCUGAACGCGUAUUGCGGCCUCGGGUAAUCCUGGGGCC\n",
        "frag: 1 sim: 0.57 match: >AF158725.1/345-497 START: 000000085 WINDOW: 050\tGAGCAUCGAUAUUCUGAACGCGUAUUGCGGCCUCGGGUAAUCCUGGGGCC\n"
       ]
      },
      {
       "output_type": "stream",
       "stream": "stdout",
       "text": [
        ">AF158725.1/345-497 START: 000000086 WINDOW: 050\tAGCAUCGAUAUUCUGAACGCGUAUUGCGGCCUCGGGUAAUCCUGGGGCCA\n",
        "frag: 1 sim: 0.58 match: >AF158725.1/345-497 START: 000000086 WINDOW: 050\tAGCAUCGAUAUUCUGAACGCGUAUUGCGGCCUCGGGUAAUCCUGGGGCCA\n"
       ]
      },
      {
       "output_type": "stream",
       "stream": "stdout",
       "text": [
        ">AF158725.1/345-497 START: 000000087 WINDOW: 050\tGCAUCGAUAUUCUGAACGCGUAUUGCGGCCUCGGGUAAUCCUGGGGCCAC\n",
        "frag: 1 sim: 0.58 match: >AF158725.1/345-497 START: 000000087 WINDOW: 050\tGCAUCGAUAUUCUGAACGCGUAUUGCGGCCUCGGGUAAUCCUGGGGCCAC\n"
       ]
      },
      {
       "output_type": "stream",
       "stream": "stdout",
       "text": [
        ">AF158725.1/345-497 START: 000000088 WINDOW: 050\tCAUCGAUAUUCUGAACGCGUAUUGCGGCCUCGGGUAAUCCUGGGGCCACG\n",
        "frag: 1 sim: 0.58 match: >AF158725.1/345-497 START: 000000088 WINDOW: 050\tCAUCGAUAUUCUGAACGCGUAUUGCGGCCUCGGGUAAUCCUGGGGCCACG\n"
       ]
      },
      {
       "output_type": "stream",
       "stream": "stdout",
       "text": [
        ">AF158725.1/345-497 START: 000000089 WINDOW: 050\tAUCGAUAUUCUGAACGCGUAUUGCGGCCUCGGGUAAUCCUGGGGCCACGU\n",
        "frag: 1 sim: 0.56 match: >AF158725.1/345-497 START: 000000089 WINDOW: 050\tAUCGAUAUUCUGAACGCGUAUUGCGGCCUCGGGUAAUCCUGGGGCCACGU\n"
       ]
      },
      {
       "output_type": "stream",
       "stream": "stdout",
       "text": [
        ">AF158725.1/345-497 START: 000000090 WINDOW: 050\tUCGAUAUUCUGAACGCGUAUUGCGGCCUCGGGUAAUCCUGGGGCCACGUC\n",
        "frag: 1 sim: 0.54 match: >AF158725.1/345-497 START: 000000090 WINDOW: 050\tUCGAUAUUCUGAACGCGUAUUGCGGCCUCGGGUAAUCCUGGGGCCACGUC\n"
       ]
      },
      {
       "output_type": "stream",
       "stream": "stdout",
       "text": [
        ">AF158725.1/345-497 START: 000000091 WINDOW: 050\tCGAUAUUCUGAACGCGUAUUGCGGCCUCGGGUAAUCCUGGGGCCACGUCC\n",
        ">AF158725.1/345-497 START: 000000092 WINDOW: 050\tGAUAUUCUGAACGCGUAUUGCGGCCUCGGGUAAUCCUGGGGCCACGUCCG\n",
        ">AF158725.1/345-497 START: 000000093 WINDOW: 050\tAUAUUCUGAACGCGUAUUGCGGCCUCGGGUAAUCCUGGGGCCACGUCCGU\n",
        ">AF158725.1/345-497 START: 000000094 WINDOW: 050\tUAUUCUGAACGCGUAUUGCGGCCUCGGGUAAUCCUGGGGCCACGUCCGUC\n",
        ">AF158725.1/345-497 START: 000000095 WINDOW: 050\tAUUCUGAACGCGUAUUGCGGCCUCGGGUAAUCCUGGGGCCACGUCCGUCU\n",
        ">AF158725.1/345-497 START: 000000096 WINDOW: 050\tUUCUGAACGCGUAUUGCGGCCUCGGGUAAUCCUGGGGCCACGUCCGUCUC\n",
        ">AF158725.1/345-497 START: 000000097 WINDOW: 050\tUCUGAACGCGUAUUGCGGCCUCGGGUAAUCCUGGGGCCACGUCCGUCUCA\n",
        ">AF158725.1/345-497 START: 000000098 WINDOW: 050\tCUGAACGCGUAUUGCGGCCUCGGGUAAUCCUGGGGCCACGUCCGUCUCAG\n",
        ">AF158725.1/345-497 START: 000000099 WINDOW: 050\tUGAACGCGUAUUGCGGCCUCGGGUAAUCCUGGGGCCACGUCCGUCUCAGG\n",
        "frag: 1 sim: 0.53 match: >AF158725.1/345-497 START: 000000099 WINDOW: 050\tUGAACGCGUAUUGCGGCCUCGGGUAAUCCUGGGGCCACGUCCGUCUCAGG\n"
       ]
      },
      {
       "output_type": "stream",
       "stream": "stdout",
       "text": [
        ">AF158725.1/345-497 START: 000000100 WINDOW: 050\tGAACGCGUAUUGCGGCCUCGGGUAAUCCUGGGGCCACGUCCGUCUCAGGG\n",
        "frag: 1 sim: 0.53 match: >AF158725.1/345-497 START: 000000100 WINDOW: 050\tGAACGCGUAUUGCGGCCUCGGGUAAUCCUGGGGCCACGUCCGUCUCAGGG\n"
       ]
      },
      {
       "output_type": "stream",
       "stream": "stdout",
       "text": [
        ">AF158725.1/345-497 START: 000000101 WINDOW: 050\tAACGCGUAUUGCGGCCUCGGGUAAUCCUGGGGCCACGUCCGUCUCAGGGU\n",
        "frag: 1 sim: 0.52 match: >AF158725.1/345-497 START: 000000101 WINDOW: 050\tAACGCGUAUUGCGGCCUCGGGUAAUCCUGGGGCCACGUCCGUCUCAGGGU\n"
       ]
      },
      {
       "output_type": "stream",
       "stream": "stdout",
       "text": [
        ">AF158725.1/345-497 START: 000000102 WINDOW: 050\tACGCGUAUUGCGGCCUCGGGUAAUCCUGGGGCCACGUCCGUCUCAGGGUC\n",
        ">AF158725.1/345-497 START: 000000103 WINDOW: 050\tCGCGUAUUGCGGCCUCGGGUAAUCCUGGGGCCACGUCCGUCUCAGGGUCU\n",
        ">AF169230.1/225-380 START: 000000000 WINDOW: 050\tGACUCUCGGCAACGGAUAUCUCGGCUCUCGCAUCGAUGAAGAACGUAGCG\n",
        "frag: 1 sim: 0.74 match: >AF169230.1/225-380 START: 000000000 WINDOW: 050\tGACUCUCGGCAACGGAUAUCUCGGCUCUCGCAUCGAUGAAGAACGUAGCG\n"
       ]
      },
      {
       "output_type": "stream",
       "stream": "stdout",
       "text": [
        ">AF169230.1/225-380 START: 000000001 WINDOW: 050\tACUCUCGGCAACGGAUAUCUCGGCUCUCGCAUCGAUGAAGAACGUAGCGA\n",
        "frag: 1 sim: 0.73 match: >AF169230.1/225-380 START: 000000001 WINDOW: 050\tACUCUCGGCAACGGAUAUCUCGGCUCUCGCAUCGAUGAAGAACGUAGCGA\n"
       ]
      },
      {
       "output_type": "stream",
       "stream": "stdout",
       "text": [
        ">AF169230.1/225-380 START: 000000002 WINDOW: 050\tCUCUCGGCAACGGAUAUCUCGGCUCUCGCAUCGAUGAAGAACGUAGCGAA\n",
        "frag: 1 sim: 0.71 match: >AF169230.1/225-380 START: 000000002 WINDOW: 050\tCUCUCGGCAACGGAUAUCUCGGCUCUCGCAUCGAUGAAGAACGUAGCGAA\n"
       ]
      },
      {
       "output_type": "stream",
       "stream": "stdout",
       "text": [
        ">AF169230.1/225-380 START: 000000003 WINDOW: 050\tUCUCGGCAACGGAUAUCUCGGCUCUCGCAUCGAUGAAGAACGUAGCGAAA\n",
        "frag: 1 sim: 0.72 match: >AF169230.1/225-380 START: 000000003 WINDOW: 050\tUCUCGGCAACGGAUAUCUCGGCUCUCGCAUCGAUGAAGAACGUAGCGAAA\n"
       ]
      },
      {
       "output_type": "stream",
       "stream": "stdout",
       "text": [
        ">AF169230.1/225-380 START: 000000004 WINDOW: 050\tCUCGGCAACGGAUAUCUCGGCUCUCGCAUCGAUGAAGAACGUAGCGAAAU\n",
        "frag: 1 sim: 0.72 match: >AF169230.1/225-380 START: 000000004 WINDOW: 050\tCUCGGCAACGGAUAUCUCGGCUCUCGCAUCGAUGAAGAACGUAGCGAAAU\n"
       ]
      },
      {
       "output_type": "stream",
       "stream": "stdout",
       "text": [
        ">AF169230.1/225-380 START: 000000005 WINDOW: 050\tUCGGCAACGGAUAUCUCGGCUCUCGCAUCGAUGAAGAACGUAGCGAAAUG\n",
        "frag: 1 sim: 0.73 match: >AF169230.1/225-380 START: 000000005 WINDOW: 050\tUCGGCAACGGAUAUCUCGGCUCUCGCAUCGAUGAAGAACGUAGCGAAAUG\n"
       ]
      },
      {
       "output_type": "stream",
       "stream": "stdout",
       "text": [
        ">AF169230.1/225-380 START: 000000006 WINDOW: 050\tCGGCAACGGAUAUCUCGGCUCUCGCAUCGAUGAAGAACGUAGCGAAAUGC\n",
        "frag: 1 sim: 0.70 match: >AF169230.1/225-380 START: 000000006 WINDOW: 050\tCGGCAACGGAUAUCUCGGCUCUCGCAUCGAUGAAGAACGUAGCGAAAUGC\n"
       ]
      },
      {
       "output_type": "stream",
       "stream": "stdout",
       "text": [
        ">AF169230.1/225-380 START: 000000007 WINDOW: 050\tGGCAACGGAUAUCUCGGCUCUCGCAUCGAUGAAGAACGUAGCGAAAUGCG\n",
        "frag: 1 sim: 0.70 match: >AF169230.1/225-380 START: 000000007 WINDOW: 050\tGGCAACGGAUAUCUCGGCUCUCGCAUCGAUGAAGAACGUAGCGAAAUGCG\n"
       ]
      },
      {
       "output_type": "stream",
       "stream": "stdout",
       "text": [
        ">AF169230.1/225-380 START: 000000008 WINDOW: 050\tGCAACGGAUAUCUCGGCUCUCGCAUCGAUGAAGAACGUAGCGAAAUGCGA\n",
        "frag: 1 sim: 0.69 match: >AF169230.1/225-380 START: 000000008 WINDOW: 050\tGCAACGGAUAUCUCGGCUCUCGCAUCGAUGAAGAACGUAGCGAAAUGCGA\n"
       ]
      },
      {
       "output_type": "stream",
       "stream": "stdout",
       "text": [
        ">AF169230.1/225-380 START: 000000009 WINDOW: 050\tCAACGGAUAUCUCGGCUCUCGCAUCGAUGAAGAACGUAGCGAAAUGCGAU\n",
        "frag: 1 sim: 0.71 match: >AF169230.1/225-380 START: 000000009 WINDOW: 050\tCAACGGAUAUCUCGGCUCUCGCAUCGAUGAAGAACGUAGCGAAAUGCGAU\n"
       ]
      },
      {
       "output_type": "stream",
       "stream": "stdout",
       "text": [
        ">AF169230.1/225-380 START: 000000010 WINDOW: 050\tAACGGAUAUCUCGGCUCUCGCAUCGAUGAAGAACGUAGCGAAAUGCGAUA\n",
        "frag: 1 sim: 0.71 match: >AF169230.1/225-380 START: 000000010 WINDOW: 050\tAACGGAUAUCUCGGCUCUCGCAUCGAUGAAGAACGUAGCGAAAUGCGAUA\n"
       ]
      },
      {
       "output_type": "stream",
       "stream": "stdout",
       "text": [
        ">AF169230.1/225-380 START: 000000011 WINDOW: 050\tACGGAUAUCUCGGCUCUCGCAUCGAUGAAGAACGUAGCGAAAUGCGAUAC\n",
        "frag: 1 sim: 0.71 match: >AF169230.1/225-380 START: 000000011 WINDOW: 050\tACGGAUAUCUCGGCUCUCGCAUCGAUGAAGAACGUAGCGAAAUGCGAUAC\n"
       ]
      },
      {
       "output_type": "stream",
       "stream": "stdout",
       "text": [
        ">AF169230.1/225-380 START: 000000012 WINDOW: 050\tCGGAUAUCUCGGCUCUCGCAUCGAUGAAGAACGUAGCGAAAUGCGAUACC\n",
        "frag: 1 sim: 0.72 match: >AF169230.1/225-380 START: 000000012 WINDOW: 050\tCGGAUAUCUCGGCUCUCGCAUCGAUGAAGAACGUAGCGAAAUGCGAUACC\n"
       ]
      },
      {
       "output_type": "stream",
       "stream": "stdout",
       "text": [
        ">AF169230.1/225-380 START: 000000013 WINDOW: 050\tGGAUAUCUCGGCUCUCGCAUCGAUGAAGAACGUAGCGAAAUGCGAUACCU\n",
        "frag: 1 sim: 0.72 match: >AF169230.1/225-380 START: 000000013 WINDOW: 050\tGGAUAUCUCGGCUCUCGCAUCGAUGAAGAACGUAGCGAAAUGCGAUACCU\n"
       ]
      },
      {
       "output_type": "stream",
       "stream": "stdout",
       "text": [
        ">AF169230.1/225-380 START: 000000014 WINDOW: 050\tGAUAUCUCGGCUCUCGCAUCGAUGAAGAACGUAGCGAAAUGCGAUACCUG\n",
        "frag: 1 sim: 0.68 match: >AF169230.1/225-380 START: 000000014 WINDOW: 050\tGAUAUCUCGGCUCUCGCAUCGAUGAAGAACGUAGCGAAAUGCGAUACCUG\n"
       ]
      },
      {
       "output_type": "stream",
       "stream": "stdout",
       "text": [
        ">AF169230.1/225-380 START: 000000015 WINDOW: 050\tAUAUCUCGGCUCUCGCAUCGAUGAAGAACGUAGCGAAAUGCGAUACCUGG\n",
        "frag: 1 sim: 0.67 match: >AF169230.1/225-380 START: 000000015 WINDOW: 050\tAUAUCUCGGCUCUCGCAUCGAUGAAGAACGUAGCGAAAUGCGAUACCUGG\n"
       ]
      },
      {
       "output_type": "stream",
       "stream": "stdout",
       "text": [
        ">AF169230.1/225-380 START: 000000016 WINDOW: 050\tUAUCUCGGCUCUCGCAUCGAUGAAGAACGUAGCGAAAUGCGAUACCUGGU\n",
        "frag: 1 sim: 0.68 match: >AF169230.1/225-380 START: 000000016 WINDOW: 050\tUAUCUCGGCUCUCGCAUCGAUGAAGAACGUAGCGAAAUGCGAUACCUGGU\n"
       ]
      },
      {
       "output_type": "stream",
       "stream": "stdout",
       "text": [
        ">AF169230.1/225-380 START: 000000017 WINDOW: 050\tAUCUCGGCUCUCGCAUCGAUGAAGAACGUAGCGAAAUGCGAUACCUGGUG\n",
        "frag: 1 sim: 0.68 match: >AF169230.1/225-380 START: 000000017 WINDOW: 050\tAUCUCGGCUCUCGCAUCGAUGAAGAACGUAGCGAAAUGCGAUACCUGGUG\n"
       ]
      },
      {
       "output_type": "stream",
       "stream": "stdout",
       "text": [
        ">AF169230.1/225-380 START: 000000018 WINDOW: 050\tUCUCGGCUCUCGCAUCGAUGAAGAACGUAGCGAAAUGCGAUACCUGGUGU\n",
        "frag: 1 sim: 0.67 match: >AF169230.1/225-380 START: 000000018 WINDOW: 050\tUCUCGGCUCUCGCAUCGAUGAAGAACGUAGCGAAAUGCGAUACCUGGUGU\n"
       ]
      },
      {
       "output_type": "stream",
       "stream": "stdout",
       "text": [
        ">AF169230.1/225-380 START: 000000019 WINDOW: 050\tCUCGGCUCUCGCAUCGAUGAAGAACGUAGCGAAAUGCGAUACCUGGUGUG\n",
        "frag: 1 sim: 0.66 match: >AF169230.1/225-380 START: 000000019 WINDOW: 050\tCUCGGCUCUCGCAUCGAUGAAGAACGUAGCGAAAUGCGAUACCUGGUGUG\n"
       ]
      },
      {
       "output_type": "stream",
       "stream": "stdout",
       "text": [
        ">AF169230.1/225-380 START: 000000020 WINDOW: 050\tUCGGCUCUCGCAUCGAUGAAGAACGUAGCGAAAUGCGAUACCUGGUGUGA\n",
        "frag: 1 sim: 0.67 match: >AF169230.1/225-380 START: 000000020 WINDOW: 050\tUCGGCUCUCGCAUCGAUGAAGAACGUAGCGAAAUGCGAUACCUGGUGUGA\n"
       ]
      },
      {
       "output_type": "stream",
       "stream": "stdout",
       "text": [
        ">AF169230.1/225-380 START: 000000021 WINDOW: 050\tCGGCUCUCGCAUCGAUGAAGAACGUAGCGAAAUGCGAUACCUGGUGUGAA\n",
        "frag: 1 sim: 0.64 match: >AF169230.1/225-380 START: 000000021 WINDOW: 050\tCGGCUCUCGCAUCGAUGAAGAACGUAGCGAAAUGCGAUACCUGGUGUGAA\n"
       ]
      },
      {
       "output_type": "stream",
       "stream": "stdout",
       "text": [
        ">AF169230.1/225-380 START: 000000022 WINDOW: 050\tGGCUCUCGCAUCGAUGAAGAACGUAGCGAAAUGCGAUACCUGGUGUGAAU\n",
        "frag: 1 sim: 0.61 match: >AF169230.1/225-380 START: 000000022 WINDOW: 050\tGGCUCUCGCAUCGAUGAAGAACGUAGCGAAAUGCGAUACCUGGUGUGAAU\n"
       ]
      },
      {
       "output_type": "stream",
       "stream": "stdout",
       "text": [
        ">AF169230.1/225-380 START: 000000023 WINDOW: 050\tGCUCUCGCAUCGAUGAAGAACGUAGCGAAAUGCGAUACCUGGUGUGAAUU\n",
        "frag: 1 sim: 0.59 match: >AF169230.1/225-380 START: 000000023 WINDOW: 050\tGCUCUCGCAUCGAUGAAGAACGUAGCGAAAUGCGAUACCUGGUGUGAAUU\n"
       ]
      },
      {
       "output_type": "stream",
       "stream": "stdout",
       "text": [
        ">AF169230.1/225-380 START: 000000024 WINDOW: 050\tCUCUCGCAUCGAUGAAGAACGUAGCGAAAUGCGAUACCUGGUGUGAAUUG\n",
        "frag: 1 sim: 0.56 match: >AF169230.1/225-380 START: 000000024 WINDOW: 050\tCUCUCGCAUCGAUGAAGAACGUAGCGAAAUGCGAUACCUGGUGUGAAUUG\n"
       ]
      },
      {
       "output_type": "stream",
       "stream": "stdout",
       "text": [
        ">AF169230.1/225-380 START: 000000025 WINDOW: 050\tUCUCGCAUCGAUGAAGAACGUAGCGAAAUGCGAUACCUGGUGUGAAUUGC\n",
        "frag: 1 sim: 0.55 match: >AF169230.1/225-380 START: 000000025 WINDOW: 050\tUCUCGCAUCGAUGAAGAACGUAGCGAAAUGCGAUACCUGGUGUGAAUUGC\n"
       ]
      },
      {
       "output_type": "stream",
       "stream": "stdout",
       "text": [
        ">AF169230.1/225-380 START: 000000026 WINDOW: 050\tCUCGCAUCGAUGAAGAACGUAGCGAAAUGCGAUACCUGGUGUGAAUUGCA\n",
        "frag: 1 sim: 0.55 match: >AF169230.1/225-380 START: 000000026 WINDOW: 050\tCUCGCAUCGAUGAAGAACGUAGCGAAAUGCGAUACCUGGUGUGAAUUGCA\n"
       ]
      },
      {
       "output_type": "stream",
       "stream": "stdout",
       "text": [
        ">AF169230.1/225-380 START: 000000027 WINDOW: 050\tUCGCAUCGAUGAAGAACGUAGCGAAAUGCGAUACCUGGUGUGAAUUGCAG\n",
        "frag: 1 sim: 0.57 match: >AF169230.1/225-380 START: 000000027 WINDOW: 050\tUCGCAUCGAUGAAGAACGUAGCGAAAUGCGAUACCUGGUGUGAAUUGCAG\n"
       ]
      },
      {
       "output_type": "stream",
       "stream": "stdout",
       "text": [
        ">AF169230.1/225-380 START: 000000028 WINDOW: 050\tCGCAUCGAUGAAGAACGUAGCGAAAUGCGAUACCUGGUGUGAAUUGCAGA\n",
        "frag: 1 sim: 0.53 match: >AF169230.1/225-380 START: 000000028 WINDOW: 050\tCGCAUCGAUGAAGAACGUAGCGAAAUGCGAUACCUGGUGUGAAUUGCAGA\n"
       ]
      },
      {
       "output_type": "stream",
       "stream": "stdout",
       "text": [
        ">AF169230.1/225-380 START: 000000029 WINDOW: 050\tGCAUCGAUGAAGAACGUAGCGAAAUGCGAUACCUGGUGUGAAUUGCAGAA\n",
        "frag: 1 sim: 0.53 match: >AF169230.1/225-380 START: 000000029 WINDOW: 050\tGCAUCGAUGAAGAACGUAGCGAAAUGCGAUACCUGGUGUGAAUUGCAGAA\n"
       ]
      },
      {
       "output_type": "stream",
       "stream": "stdout",
       "text": [
        ">AF169230.1/225-380 START: 000000030 WINDOW: 050\tCAUCGAUGAAGAACGUAGCGAAAUGCGAUACCUGGUGUGAAUUGCAGAAU\n",
        "frag: 1 sim: 0.50 match: >AF169230.1/225-380 START: 000000030 WINDOW: 050\tCAUCGAUGAAGAACGUAGCGAAAUGCGAUACCUGGUGUGAAUUGCAGAAU\n"
       ]
      },
      {
       "output_type": "stream",
       "stream": "stdout",
       "text": [
        ">AF169230.1/225-380 START: 000000031 WINDOW: 050\tAUCGAUGAAGAACGUAGCGAAAUGCGAUACCUGGUGUGAAUUGCAGAAUC\n",
        "frag: 1 sim: 0.52 match: >AF169230.1/225-380 START: 000000031 WINDOW: 050\tAUCGAUGAAGAACGUAGCGAAAUGCGAUACCUGGUGUGAAUUGCAGAAUC\n"
       ]
      },
      {
       "output_type": "stream",
       "stream": "stdout",
       "text": [
        ">AF169230.1/225-380 START: 000000032 WINDOW: 050\tUCGAUGAAGAACGUAGCGAAAUGCGAUACCUGGUGUGAAUUGCAGAAUCC\n",
        "frag: 1 sim: 0.51 match: >AF169230.1/225-380 START: 000000032 WINDOW: 050\tUCGAUGAAGAACGUAGCGAAAUGCGAUACCUGGUGUGAAUUGCAGAAUCC\n"
       ]
      },
      {
       "output_type": "stream",
       "stream": "stdout",
       "text": [
        ">AF169230.1/225-380 START: 000000033 WINDOW: 050\tCGAUGAAGAACGUAGCGAAAUGCGAUACCUGGUGUGAAUUGCAGAAUCCC\n",
        ">AF169230.1/225-380 START: 000000034 WINDOW: 050\tGAUGAAGAACGUAGCGAAAUGCGAUACCUGGUGUGAAUUGCAGAAUCCCG\n",
        ">AF169230.1/225-380 START: 000000035 WINDOW: 050\tAUGAAGAACGUAGCGAAAUGCGAUACCUGGUGUGAAUUGCAGAAUCCCGU\n",
        ">AF169230.1/225-380 START: 000000036 WINDOW: 050\tUGAAGAACGUAGCGAAAUGCGAUACCUGGUGUGAAUUGCAGAAUCCCGUG\n",
        ">AF169230.1/225-380 START: 000000037 WINDOW: 050\tGAAGAACGUAGCGAAAUGCGAUACCUGGUGUGAAUUGCAGAAUCCCGUGA\n",
        ">AF169230.1/225-380 START: 000000038 WINDOW: 050\tAAGAACGUAGCGAAAUGCGAUACCUGGUGUGAAUUGCAGAAUCCCGUGAA\n",
        ">AF169230.1/225-380 START: 000000039 WINDOW: 050\tAGAACGUAGCGAAAUGCGAUACCUGGUGUGAAUUGCAGAAUCCCGUGAAC\n",
        ">AF169230.1/225-380 START: 000000040 WINDOW: 050\tGAACGUAGCGAAAUGCGAUACCUGGUGUGAAUUGCAGAAUCCCGUGAACC\n",
        ">AF169230.1/225-380 START: 000000041 WINDOW: 050\tAACGUAGCGAAAUGCGAUACCUGGUGUGAAUUGCAGAAUCCCGUGAACCA\n",
        ">AF169230.1/225-380 START: 000000042 WINDOW: 050\tACGUAGCGAAAUGCGAUACCUGGUGUGAAUUGCAGAAUCCCGUGAACCAU"
       ]
      },
      {
       "output_type": "stream",
       "stream": "stdout",
       "text": [
        "\n",
        ">AF169230.1/225-380 START: 000000043 WINDOW: 050\tCGUAGCGAAAUGCGAUACCUGGUGUGAAUUGCAGAAUCCCGUGAACCAUC\n",
        ">AF169230.1/225-380 START: 000000044 WINDOW: 050\tGUAGCGAAAUGCGAUACCUGGUGUGAAUUGCAGAAUCCCGUGAACCAUCG\n",
        "frag: 1 sim: 0.51 match: >AF169230.1/225-380 START: 000000044 WINDOW: 050\tGUAGCGAAAUGCGAUACCUGGUGUGAAUUGCAGAAUCCCGUGAACCAUCG\n"
       ]
      },
      {
       "output_type": "stream",
       "stream": "stdout",
       "text": [
        ">AF169230.1/225-380 START: 000000045 WINDOW: 050\tUAGCGAAAUGCGAUACCUGGUGUGAAUUGCAGAAUCCCGUGAACCAUCGA\n",
        "frag: 1 sim: 0.50 match: >AF169230.1/225-380 START: 000000045 WINDOW: 050\tUAGCGAAAUGCGAUACCUGGUGUGAAUUGCAGAAUCCCGUGAACCAUCGA\n"
       ]
      },
      {
       "output_type": "stream",
       "stream": "stdout",
       "text": [
        ">AF169230.1/225-380 START: 000000046 WINDOW: 050\tAGCGAAAUGCGAUACCUGGUGUGAAUUGCAGAAUCCCGUGAACCAUCGAG\n",
        ">AF169230.1/225-380 START: 000000047 WINDOW: 050\tGCGAAAUGCGAUACCUGGUGUGAAUUGCAGAAUCCCGUGAACCAUCGAGU\n",
        ">AF169230.1/225-380 START: 000000048 WINDOW: 050\tCGAAAUGCGAUACCUGGUGUGAAUUGCAGAAUCCCGUGAACCAUCGAGUC\n",
        ">AF169230.1/225-380 START: 000000049 WINDOW: 050\tGAAAUGCGAUACCUGGUGUGAAUUGCAGAAUCCCGUGAACCAUCGAGUCU\n",
        ">AF169230.1/225-380 START: 000000050 WINDOW: 050\tAAAUGCGAUACCUGGUGUGAAUUGCAGAAUCCCGUGAACCAUCGAGUCUU\n",
        ">AF169230.1/225-380 START: 000000051 WINDOW: 050\tAAUGCGAUACCUGGUGUGAAUUGCAGAAUCCCGUGAACCAUCGAGUCUUU\n",
        ">AF169230.1/225-380 START: 000000052 WINDOW: 050\tAUGCGAUACCUGGUGUGAAUUGCAGAAUCCCGUGAACCAUCGAGUCUUUG\n",
        ">AF169230.1/225-380 START: 000000053 WINDOW: 050\tUGCGAUACCUGGUGUGAAUUGCAGAAUCCCGUGAACCAUCGAGUCUUUGA\n",
        ">AF169230.1/225-380 START: 000000054 WINDOW: 050\tGCGAUACCUGGUGUGAAUUGCAGAAUCCCGUGAACCAUCGAGUCUUUGAA\n",
        ">AF169230.1/225-380 START: 000000055 WINDOW: 050\tCGAUACCUGGUGUGAAUUGCAGAAUCCCGUGAACCAUCGAGUCUUUGAAC"
       ]
      },
      {
       "output_type": "stream",
       "stream": "stdout",
       "text": [
        "\n",
        ">AF169230.1/225-380 START: 000000056 WINDOW: 050\tGAUACCUGGUGUGAAUUGCAGAAUCCCGUGAACCAUCGAGUCUUUGAACG\n",
        ">AF169230.1/225-380 START: 000000057 WINDOW: 050\tAUACCUGGUGUGAAUUGCAGAAUCCCGUGAACCAUCGAGUCUUUGAACGC\n",
        ">AF169230.1/225-380 START: 000000058 WINDOW: 050\tUACCUGGUGUGAAUUGCAGAAUCCCGUGAACCAUCGAGUCUUUGAACGCA\n",
        ">AF169230.1/225-380 START: 000000059 WINDOW: 050\tACCUGGUGUGAAUUGCAGAAUCCCGUGAACCAUCGAGUCUUUGAACGCAA\n",
        ">AF169230.1/225-380 START: 000000060 WINDOW: 050\tCCUGGUGUGAAUUGCAGAAUCCCGUGAACCAUCGAGUCUUUGAACGCAAG\n",
        ">AF169230.1/225-380 START: 000000061 WINDOW: 050\tCUGGUGUGAAUUGCAGAAUCCCGUGAACCAUCGAGUCUUUGAACGCAAGU\n",
        ">AF169230.1/225-380 START: 000000062 WINDOW: 050\tUGGUGUGAAUUGCAGAAUCCCGUGAACCAUCGAGUCUUUGAACGCAAGUU\n",
        ">AF169230.1/225-380 START: 000000063 WINDOW: 050\tGGUGUGAAUUGCAGAAUCCCGUGAACCAUCGAGUCUUUGAACGCAAGUUG"
       ]
      },
      {
       "output_type": "stream",
       "stream": "stdout",
       "text": [
        "\n",
        ">AF169230.1/225-380 START: 000000064 WINDOW: 050\tGUGUGAAUUGCAGAAUCCCGUGAACCAUCGAGUCUUUGAACGCAAGUUGC\n",
        ">AF169230.1/225-380 START: 000000065 WINDOW: 050\tUGUGAAUUGCAGAAUCCCGUGAACCAUCGAGUCUUUGAACGCAAGUUGCG\n",
        ">AF169230.1/225-380 START: 000000066 WINDOW: 050\tGUGAAUUGCAGAAUCCCGUGAACCAUCGAGUCUUUGAACGCAAGUUGCGC\n",
        ">AF169230.1/225-380 START: 000000067 WINDOW: 050\tUGAAUUGCAGAAUCCCGUGAACCAUCGAGUCUUUGAACGCAAGUUGCGCC\n",
        ">AF169230.1/225-380 START: 000000068 WINDOW: 050\tGAAUUGCAGAAUCCCGUGAACCAUCGAGUCUUUGAACGCAAGUUGCGCCC\n",
        ">AF169230.1/225-380 START: 000000069 WINDOW: 050\tAAUUGCAGAAUCCCGUGAACCAUCGAGUCUUUGAACGCAAGUUGCGCCCG\n",
        ">AF169230.1/225-380 START: 000000070 WINDOW: 050\tAUUGCAGAAUCCCGUGAACCAUCGAGUCUUUGAACGCAAGUUGCGCCCGA\n",
        ">AF169230.1/225-380 START: 000000071 WINDOW: 050\tUUGCAGAAUCCCGUGAACCAUCGAGUCUUUGAACGCAAGUUGCGCCCGAG\n",
        ">AF169230.1/225-380 START: 000000072 WINDOW: 050\tUGCAGAAUCCCGUGAACCAUCGAGUCUUUGAACGCAAGUUGCGCCCGAGG"
       ]
      },
      {
       "output_type": "stream",
       "stream": "stdout",
       "text": [
        "\n",
        ">AF169230.1/225-380 START: 000000073 WINDOW: 050\tGCAGAAUCCCGUGAACCAUCGAGUCUUUGAACGCAAGUUGCGCCCGAGGC\n",
        "frag: 1 sim: 0.50 match: >AF169230.1/225-380 START: 000000073 WINDOW: 050\tGCAGAAUCCCGUGAACCAUCGAGUCUUUGAACGCAAGUUGCGCCCGAGGC\n"
       ]
      },
      {
       "output_type": "stream",
       "stream": "stdout",
       "text": [
        ">AF169230.1/225-380 START: 000000074 WINDOW: 050\tCAGAAUCCCGUGAACCAUCGAGUCUUUGAACGCAAGUUGCGCCCGAGGCC\n",
        ">AF169230.1/225-380 START: 000000075 WINDOW: 050\tAGAAUCCCGUGAACCAUCGAGUCUUUGAACGCAAGUUGCGCCCGAGGCCA\n",
        ">AF169230.1/225-380 START: 000000076 WINDOW: 050\tGAAUCCCGUGAACCAUCGAGUCUUUGAACGCAAGUUGCGCCCGAGGCCAU\n",
        ">AF169230.1/225-380 START: 000000077 WINDOW: 050\tAAUCCCGUGAACCAUCGAGUCUUUGAACGCAAGUUGCGCCCGAGGCCAUC\n",
        ">AF169230.1/225-380 START: 000000078 WINDOW: 050\tAUCCCGUGAACCAUCGAGUCUUUGAACGCAAGUUGCGCCCGAGGCCAUCC\n",
        ">AF169230.1/225-380 START: 000000079 WINDOW: 050\tUCCCGUGAACCAUCGAGUCUUUGAACGCAAGUUGCGCCCGAGGCCAUCCG\n",
        ">AF169230.1/225-380 START: 000000080 WINDOW: 050\tCCCGUGAACCAUCGAGUCUUUGAACGCAAGUUGCGCCCGAGGCCAUCCGG\n",
        ">AF169230.1/225-380 START: 000000081 WINDOW: 050\tCCGUGAACCAUCGAGUCUUUGAACGCAAGUUGCGCCCGAGGCCAUCCGGC\n",
        ">AF169230.1/225-380 START: 000000082 WINDOW: 050\tCGUGAACCAUCGAGUCUUUGAACGCAAGUUGCGCCCGAGGCCAUCCGGCC\n",
        ">AF169230.1/225-380 START: 000000083 WINDOW: 050\tGUGAACCAUCGAGUCUUUGAACGCAAGUUGCGCCCGAGGCCAUCCGGCCG"
       ]
      },
      {
       "output_type": "stream",
       "stream": "stdout",
       "text": [
        "\n",
        ">AF169230.1/225-380 START: 000000084 WINDOW: 050\tUGAACCAUCGAGUCUUUGAACGCAAGUUGCGCCCGAGGCCAUCCGGCCGA\n",
        ">AF169230.1/225-380 START: 000000085 WINDOW: 050\tGAACCAUCGAGUCUUUGAACGCAAGUUGCGCCCGAGGCCAUCCGGCCGAG\n",
        ">AF169230.1/225-380 START: 000000086 WINDOW: 050\tAACCAUCGAGUCUUUGAACGCAAGUUGCGCCCGAGGCCAUCCGGCCGAGG\n",
        "frag: 1 sim: 0.51 match: >AF169230.1/225-380 START: 000000086 WINDOW: 050\tAACCAUCGAGUCUUUGAACGCAAGUUGCGCCCGAGGCCAUCCGGCCGAGG\n"
       ]
      },
      {
       "output_type": "stream",
       "stream": "stdout",
       "text": [
        ">AF169230.1/225-380 START: 000000087 WINDOW: 050\tACCAUCGAGUCUUUGAACGCAAGUUGCGCCCGAGGCCAUCCGGCCGAGGG\n",
        "frag: 1 sim: 0.52 match: >AF169230.1/225-380 START: 000000087 WINDOW: 050\tACCAUCGAGUCUUUGAACGCAAGUUGCGCCCGAGGCCAUCCGGCCGAGGG\n"
       ]
      },
      {
       "output_type": "stream",
       "stream": "stdout",
       "text": [
        ">AF169230.1/225-380 START: 000000088 WINDOW: 050\tCCAUCGAGUCUUUGAACGCAAGUUGCGCCCGAGGCCAUCCGGCCGAGGGC\n",
        "frag: 1 sim: 0.52 match: >AF169230.1/225-380 START: 000000088 WINDOW: 050\tCCAUCGAGUCUUUGAACGCAAGUUGCGCCCGAGGCCAUCCGGCCGAGGGC\n"
       ]
      },
      {
       "output_type": "stream",
       "stream": "stdout",
       "text": [
        ">AF169230.1/225-380 START: 000000089 WINDOW: 050\tCAUCGAGUCUUUGAACGCAAGUUGCGCCCGAGGCCAUCCGGCCGAGGGCA\n",
        "frag: 1 sim: 0.52 match: >AF169230.1/225-380 START: 000000089 WINDOW: 050\tCAUCGAGUCUUUGAACGCAAGUUGCGCCCGAGGCCAUCCGGCCGAGGGCA\n"
       ]
      },
      {
       "output_type": "stream",
       "stream": "stdout",
       "text": [
        ">AF169230.1/225-380 START: 000000090 WINDOW: 050\tAUCGAGUCUUUGAACGCAAGUUGCGCCCGAGGCCAUCCGGCCGAGGGCAC\n",
        "frag: 1 sim: 0.52 match: >AF169230.1/225-380 START: 000000090 WINDOW: 050\tAUCGAGUCUUUGAACGCAAGUUGCGCCCGAGGCCAUCCGGCCGAGGGCAC\n"
       ]
      },
      {
       "output_type": "stream",
       "stream": "stdout",
       "text": [
        ">AF169230.1/225-380 START: 000000091 WINDOW: 050\tUCGAGUCUUUGAACGCAAGUUGCGCCCGAGGCCAUCCGGCCGAGGGCACG\n",
        "frag: 1 sim: 0.52 match: >AF169230.1/225-380 START: 000000091 WINDOW: 050\tUCGAGUCUUUGAACGCAAGUUGCGCCCGAGGCCAUCCGGCCGAGGGCACG\n"
       ]
      },
      {
       "output_type": "stream",
       "stream": "stdout",
       "text": [
        ">AF169230.1/225-380 START: 000000092 WINDOW: 050\tCGAGUCUUUGAACGCAAGUUGCGCCCGAGGCCAUCCGGCCGAGGGCACGC\n",
        ">AF169230.1/225-380 START: 000000093 WINDOW: 050\tGAGUCUUUGAACGCAAGUUGCGCCCGAGGCCAUCCGGCCGAGGGCACGCC\n",
        ">AF169230.1/225-380 START: 000000094 WINDOW: 050\tAGUCUUUGAACGCAAGUUGCGCCCGAGGCCAUCCGGCCGAGGGCACGCCU\n",
        ">AF169230.1/225-380 START: 000000095 WINDOW: 050\tGUCUUUGAACGCAAGUUGCGCCCGAGGCCAUCCGGCCGAGGGCACGCCUG\n",
        ">AF169230.1/225-380 START: 000000096 WINDOW: 050\tUCUUUGAACGCAAGUUGCGCCCGAGGCCAUCCGGCCGAGGGCACGCCUGC\n",
        ">AF169230.1/225-380 START: 000000097 WINDOW: 050\tCUUUGAACGCAAGUUGCGCCCGAGGCCAUCCGGCCGAGGGCACGCCUGCC\n",
        ">AF169230.1/225-380 START: 000000098 WINDOW: 050\tUUUGAACGCAAGUUGCGCCCGAGGCCAUCCGGCCGAGGGCACGCCUGCCU\n",
        ">AF169230.1/225-380 START: 000000099 WINDOW: 050\tUUGAACGCAAGUUGCGCCCGAGGCCAUCCGGCCGAGGGCACGCCUGCCUG\n",
        ">AF169230.1/225-380 START: 000000100 WINDOW: 050\tUGAACGCAAGUUGCGCCCGAGGCCAUCCGGCCGAGGGCACGCCUGCCUGG\n",
        ">AF169230.1/225-380 START: 000000101 WINDOW: 050\tGAACGCAAGUUGCGCCCGAGGCCAUCCGGCCGAGGGCACGCCUGCCUGGG"
       ]
      },
      {
       "output_type": "stream",
       "stream": "stdout",
       "text": [
        "\n",
        ">AF169230.1/225-380 START: 000000102 WINDOW: 050\tAACGCAAGUUGCGCCCGAGGCCAUCCGGCCGAGGGCACGCCUGCCUGGGC\n",
        ">AF169230.1/225-380 START: 000000103 WINDOW: 050\tACGCAAGUUGCGCCCGAGGCCAUCCGGCCGAGGGCACGCCUGCCUGGGCG\n",
        ">AF169230.1/225-380 START: 000000104 WINDOW: 050\tCGCAAGUUGCGCCCGAGGCCAUCCGGCCGAGGGCACGCCUGCCUGGGCGU\n",
        ">AF169230.1/225-380 START: 000000105 WINDOW: 050\tGCAAGUUGCGCCCGAGGCCAUCCGGCCGAGGGCACGCCUGCCUGGGCGUC\n",
        ">AF169230.1/225-380 START: 000000106 WINDOW: 050\tCAAGUUGCGCCCGAGGCCAUCCGGCCGAGGGCACGCCUGCCUGGGCGUCA\n",
        ">AF196778.1/2-154 START: 000000000 WINDOW: 050\tAACUUUAAGCAAUGGAUCACUUGGUUCUCGCAUCGAUGAAGAACGUAGCA\n",
        "frag: 1 sim: 0.65 match: >AF196778.1/2-154 START: 000000000 WINDOW: 050\tAACUUUAAGCAAUGGAUCACUUGGUUCUCGCAUCGAUGAAGAACGUAGCA\n"
       ]
      },
      {
       "output_type": "stream",
       "stream": "stdout",
       "text": [
        ">AF196778.1/2-154 START: 000000001 WINDOW: 050\tACUUUAAGCAAUGGAUCACUUGGUUCUCGCAUCGAUGAAGAACGUAGCAA\n",
        "frag: 1 sim: 0.65 match: >AF196778.1/2-154 START: 000000001 WINDOW: 050\tACUUUAAGCAAUGGAUCACUUGGUUCUCGCAUCGAUGAAGAACGUAGCAA\n"
       ]
      },
      {
       "output_type": "stream",
       "stream": "stdout",
       "text": [
        ">AF196778.1/2-154 START: 000000002 WINDOW: 050\tCUUUAAGCAAUGGAUCACUUGGUUCUCGCAUCGAUGAAGAACGUAGCAAA\n",
        "frag: 1 sim: 0.64 match: >AF196778.1/2-154 START: 000000002 WINDOW: 050\tCUUUAAGCAAUGGAUCACUUGGUUCUCGCAUCGAUGAAGAACGUAGCAAA\n"
       ]
      },
      {
       "output_type": "stream",
       "stream": "stdout",
       "text": [
        ">AF196778.1/2-154 START: 000000003 WINDOW: 050\tUUUAAGCAAUGGAUCACUUGGUUCUCGCAUCGAUGAAGAACGUAGCAAAU\n",
        "frag: 1 sim: 0.63 match: >AF196778.1/2-154 START: 000000003 WINDOW: 050\tUUUAAGCAAUGGAUCACUUGGUUCUCGCAUCGAUGAAGAACGUAGCAAAU\n"
       ]
      },
      {
       "output_type": "stream",
       "stream": "stdout",
       "text": [
        ">AF196778.1/2-154 START: 000000004 WINDOW: 050\tUUAAGCAAUGGAUCACUUGGUUCUCGCAUCGAUGAAGAACGUAGCAAAUU\n",
        "frag: 1 sim: 0.62 match: >AF196778.1/2-154 START: 000000004 WINDOW: 050\tUUAAGCAAUGGAUCACUUGGUUCUCGCAUCGAUGAAGAACGUAGCAAAUU\n"
       ]
      },
      {
       "output_type": "stream",
       "stream": "stdout",
       "text": [
        ">AF196778.1/2-154 START: 000000005 WINDOW: 050\tUAAGCAAUGGAUCACUUGGUUCUCGCAUCGAUGAAGAACGUAGCAAAUUG\n",
        "frag: 1 sim: 0.62 match: >AF196778.1/2-154 START: 000000005 WINDOW: 050\tUAAGCAAUGGAUCACUUGGUUCUCGCAUCGAUGAAGAACGUAGCAAAUUG\n"
       ]
      },
      {
       "output_type": "stream",
       "stream": "stdout",
       "text": [
        ">AF196778.1/2-154 START: 000000006 WINDOW: 050\tAAGCAAUGGAUCACUUGGUUCUCGCAUCGAUGAAGAACGUAGCAAAUUGC\n",
        "frag: 1 sim: 0.63 match: >AF196778.1/2-154 START: 000000006 WINDOW: 050\tAAGCAAUGGAUCACUUGGUUCUCGCAUCGAUGAAGAACGUAGCAAAUUGC\n"
       ]
      },
      {
       "output_type": "stream",
       "stream": "stdout",
       "text": [
        ">AF196778.1/2-154 START: 000000007 WINDOW: 050\tAGCAAUGGAUCACUUGGUUCUCGCAUCGAUGAAGAACGUAGCAAAUUGCG\n",
        "frag: 1 sim: 0.63 match: >AF196778.1/2-154 START: 000000007 WINDOW: 050\tAGCAAUGGAUCACUUGGUUCUCGCAUCGAUGAAGAACGUAGCAAAUUGCG\n"
       ]
      },
      {
       "output_type": "stream",
       "stream": "stdout",
       "text": [
        ">AF196778.1/2-154 START: 000000008 WINDOW: 050\tGCAAUGGAUCACUUGGUUCUCGCAUCGAUGAAGAACGUAGCAAAUUGCGA\n",
        "frag: 1 sim: 0.63 match: >AF196778.1/2-154 START: 000000008 WINDOW: 050\tGCAAUGGAUCACUUGGUUCUCGCAUCGAUGAAGAACGUAGCAAAUUGCGA\n"
       ]
      },
      {
       "output_type": "stream",
       "stream": "stdout",
       "text": [
        ">AF196778.1/2-154 START: 000000009 WINDOW: 050\tCAAUGGAUCACUUGGUUCUCGCAUCGAUGAAGAACGUAGCAAAUUGCGAA\n",
        "frag: 1 sim: 0.63 match: >AF196778.1/2-154 START: 000000009 WINDOW: 050\tCAAUGGAUCACUUGGUUCUCGCAUCGAUGAAGAACGUAGCAAAUUGCGAA\n"
       ]
      },
      {
       "output_type": "stream",
       "stream": "stdout",
       "text": [
        ">AF196778.1/2-154 START: 000000010 WINDOW: 050\tAAUGGAUCACUUGGUUCUCGCAUCGAUGAAGAACGUAGCAAAUUGCGAAA\n",
        "frag: 1 sim: 0.63 match: >AF196778.1/2-154 START: 000000010 WINDOW: 050\tAAUGGAUCACUUGGUUCUCGCAUCGAUGAAGAACGUAGCAAAUUGCGAAA\n"
       ]
      },
      {
       "output_type": "stream",
       "stream": "stdout",
       "text": [
        ">AF196778.1/2-154 START: 000000011 WINDOW: 050\tAUGGAUCACUUGGUUCUCGCAUCGAUGAAGAACGUAGCAAAUUGCGAAAA\n",
        "frag: 1 sim: 0.63 match: >AF196778.1/2-154 START: 000000011 WINDOW: 050\tAUGGAUCACUUGGUUCUCGCAUCGAUGAAGAACGUAGCAAAUUGCGAAAA\n"
       ]
      },
      {
       "output_type": "stream",
       "stream": "stdout",
       "text": [
        ">AF196778.1/2-154 START: 000000012 WINDOW: 050\tUGGAUCACUUGGUUCUCGCAUCGAUGAAGAACGUAGCAAAUUGCGAAAAG\n",
        "frag: 1 sim: 0.61 match: >AF196778.1/2-154 START: 000000012 WINDOW: 050\tUGGAUCACUUGGUUCUCGCAUCGAUGAAGAACGUAGCAAAUUGCGAAAAG\n"
       ]
      },
      {
       "output_type": "stream",
       "stream": "stdout",
       "text": [
        ">AF196778.1/2-154 START: 000000013 WINDOW: 050\tGGAUCACUUGGUUCUCGCAUCGAUGAAGAACGUAGCAAAUUGCGAAAAGU\n",
        "frag: 1 sim: 0.61 match: >AF196778.1/2-154 START: 000000013 WINDOW: 050\tGGAUCACUUGGUUCUCGCAUCGAUGAAGAACGUAGCAAAUUGCGAAAAGU\n"
       ]
      },
      {
       "output_type": "stream",
       "stream": "stdout",
       "text": [
        ">AF196778.1/2-154 START: 000000014 WINDOW: 050\tGAUCACUUGGUUCUCGCAUCGAUGAAGAACGUAGCAAAUUGCGAAAAGUA\n",
        "frag: 1 sim: 0.59 match: >AF196778.1/2-154 START: 000000014 WINDOW: 050\tGAUCACUUGGUUCUCGCAUCGAUGAAGAACGUAGCAAAUUGCGAAAAGUA\n"
       ]
      },
      {
       "output_type": "stream",
       "stream": "stdout",
       "text": [
        ">AF196778.1/2-154 START: 000000015 WINDOW: 050\tAUCACUUGGUUCUCGCAUCGAUGAAGAACGUAGCAAAUUGCGAAAAGUAA\n",
        "frag: 1 sim: 0.57 match: >AF196778.1/2-154 START: 000000015 WINDOW: 050\tAUCACUUGGUUCUCGCAUCGAUGAAGAACGUAGCAAAUUGCGAAAAGUAA\n"
       ]
      },
      {
       "output_type": "stream",
       "stream": "stdout",
       "text": [
        ">AF196778.1/2-154 START: 000000016 WINDOW: 050\tUCACUUGGUUCUCGCAUCGAUGAAGAACGUAGCAAAUUGCGAAAAGUAAU\n",
        "frag: 1 sim: 0.54 match: >AF196778.1/2-154 START: 000000016 WINDOW: 050\tUCACUUGGUUCUCGCAUCGAUGAAGAACGUAGCAAAUUGCGAAAAGUAAU\n"
       ]
      },
      {
       "output_type": "stream",
       "stream": "stdout",
       "text": [
        ">AF196778.1/2-154 START: 000000017 WINDOW: 050\tCACUUGGUUCUCGCAUCGAUGAAGAACGUAGCAAAUUGCGAAAAGUAAUG\n",
        "frag: 1 sim: 0.51 match: >AF196778.1/2-154 START: 000000017 WINDOW: 050\tCACUUGGUUCUCGCAUCGAUGAAGAACGUAGCAAAUUGCGAAAAGUAAUG\n"
       ]
      },
      {
       "output_type": "stream",
       "stream": "stdout",
       "text": [
        ">AF196778.1/2-154 START: 000000018 WINDOW: 050\tACUUGGUUCUCGCAUCGAUGAAGAACGUAGCAAAUUGCGAAAAGUAAUGC\n",
        ">AF196778.1/2-154 START: 000000019 WINDOW: 050\tCUUGGUUCUCGCAUCGAUGAAGAACGUAGCAAAUUGCGAAAAGUAAUGCG\n",
        ">AF196778.1/2-154 START: 000000020 WINDOW: 050\tUUGGUUCUCGCAUCGAUGAAGAACGUAGCAAAUUGCGAAAAGUAAUGCGA\n",
        ">AF196778.1/2-154 START: 000000021 WINDOW: 050\tUGGUUCUCGCAUCGAUGAAGAACGUAGCAAAUUGCGAAAAGUAAUGCGAU\n",
        "frag: 1 sim: 0.51 match: >AF196778.1/2-154 START: 000000021 WINDOW: 050\tUGGUUCUCGCAUCGAUGAAGAACGUAGCAAAUUGCGAAAAGUAAUGCGAU\n"
       ]
      },
      {
       "output_type": "stream",
       "stream": "stdout",
       "text": [
        ">AF196778.1/2-154 START: 000000022 WINDOW: 050\tGGUUCUCGCAUCGAUGAAGAACGUAGCAAAUUGCGAAAAGUAAUGCGAUC\n",
        "frag: 1 sim: 0.52 match: >AF196778.1/2-154 START: 000000022 WINDOW: 050\tGGUUCUCGCAUCGAUGAAGAACGUAGCAAAUUGCGAAAAGUAAUGCGAUC\n"
       ]
      },
      {
       "output_type": "stream",
       "stream": "stdout",
       "text": [
        ">AF196778.1/2-154 START: 000000023 WINDOW: 050\tGUUCUCGCAUCGAUGAAGAACGUAGCAAAUUGCGAAAAGUAAUGCGAUCU\n",
        "frag: 1 sim: 0.52 match: >AF196778.1/2-154 START: 000000023 WINDOW: 050\tGUUCUCGCAUCGAUGAAGAACGUAGCAAAUUGCGAAAAGUAAUGCGAUCU\n"
       ]
      },
      {
       "output_type": "stream",
       "stream": "stdout",
       "text": [
        ">AF196778.1/2-154 START: 000000024 WINDOW: 050\tUUCUCGCAUCGAUGAAGAACGUAGCAAAUUGCGAAAAGUAAUGCGAUCUG\n",
        "frag: 1 sim: 0.52 match: >AF196778.1/2-154 START: 000000024 WINDOW: 050\tUUCUCGCAUCGAUGAAGAACGUAGCAAAUUGCGAAAAGUAAUGCGAUCUG\n"
       ]
      },
      {
       "output_type": "stream",
       "stream": "stdout",
       "text": [
        ">AF196778.1/2-154 START: 000000025 WINDOW: 050\tUCUCGCAUCGAUGAAGAACGUAGCAAAUUGCGAAAAGUAAUGCGAUCUGC\n",
        "frag: 1 sim: 0.51 match: >AF196778.1/2-154 START: 000000025 WINDOW: 050\tUCUCGCAUCGAUGAAGAACGUAGCAAAUUGCGAAAAGUAAUGCGAUCUGC\n"
       ]
      },
      {
       "output_type": "stream",
       "stream": "stdout",
       "text": [
        ">AF196778.1/2-154 START: 000000026 WINDOW: 050\tCUCGCAUCGAUGAAGAACGUAGCAAAUUGCGAAAAGUAAUGCGAUCUGCA\n",
        "frag: 1 sim: 0.51 match: >AF196778.1/2-154 START: 000000026 WINDOW: 050\tCUCGCAUCGAUGAAGAACGUAGCAAAUUGCGAAAAGUAAUGCGAUCUGCA\n"
       ]
      },
      {
       "output_type": "stream",
       "stream": "stdout",
       "text": [
        ">AF196778.1/2-154 START: 000000027 WINDOW: 050\tUCGCAUCGAUGAAGAACGUAGCAAAUUGCGAAAAGUAAUGCGAUCUGCAA\n",
        "frag: 1 sim: 0.51 match: >AF196778.1/2-154 START: 000000027 WINDOW: 050\tUCGCAUCGAUGAAGAACGUAGCAAAUUGCGAAAAGUAAUGCGAUCUGCAA\n"
       ]
      },
      {
       "output_type": "stream",
       "stream": "stdout",
       "text": [
        ">AF196778.1/2-154 START: 000000028 WINDOW: 050\tCGCAUCGAUGAAGAACGUAGCAAAUUGCGAAAAGUAAUGCGAUCUGCAAC\n",
        ">AF196778.1/2-154 START: 000000029 WINDOW: 050\tGCAUCGAUGAAGAACGUAGCAAAUUGCGAAAAGUAAUGCGAUCUGCAACC\n",
        ">AF196778.1/2-154 START: 000000030 WINDOW: 050\tCAUCGAUGAAGAACGUAGCAAAUUGCGAAAAGUAAUGCGAUCUGCAACCU\n",
        ">AF196778.1/2-154 START: 000000031 WINDOW: 050\tAUCGAUGAAGAACGUAGCAAAUUGCGAAAAGUAAUGCGAUCUGCAACCUU\n",
        ">AF196778.1/2-154 START: 000000032 WINDOW: 050\tUCGAUGAAGAACGUAGCAAAUUGCGAAAAGUAAUGCGAUCUGCAACCUUU\n",
        ">AF196778.1/2-154 START: 000000033 WINDOW: 050\tCGAUGAAGAACGUAGCAAAUUGCGAAAAGUAAUGCGAUCUGCAACCUUUG\n",
        ">AF196778.1/2-154 START: 000000034 WINDOW: 050\tGAUGAAGAACGUAGCAAAUUGCGAAAAGUAAUGCGAUCUGCAACCUUUGC\n",
        ">AF196778.1/2-154 START: 000000035 WINDOW: 050\tAUGAAGAACGUAGCAAAUUGCGAAAAGUAAUGCGAUCUGCAACCUUUGCG\n",
        ">AF196778.1/2-154 START: 000000036 WINDOW: 050\tUGAAGAACGUAGCAAAUUGCGAAAAGUAAUGCGAUCUGCAACCUUUGCGA\n",
        ">AF196778.1/2-154 START: 000000037 WINDOW: 050\tGAAGAACGUAGCAAAUUGCGAAAAGUAAUGCGAUCUGCAACCUUUGCGAA"
       ]
      },
      {
       "output_type": "stream",
       "stream": "stdout",
       "text": [
        "\n",
        ">AF196778.1/2-154 START: 000000038 WINDOW: 050\tAAGAACGUAGCAAAUUGCGAAAAGUAAUGCGAUCUGCAACCUUUGCGAAU\n",
        ">AF196778.1/2-154 START: 000000039 WINDOW: 050\tAGAACGUAGCAAAUUGCGAAAAGUAAUGCGAUCUGCAACCUUUGCGAAUC\n",
        ">AF196778.1/2-154 START: 000000040 WINDOW: 050\tGAACGUAGCAAAUUGCGAAAAGUAAUGCGAUCUGCAACCUUUGCGAAUCA\n",
        ">AF196778.1/2-154 START: 000000041 WINDOW: 050\tAACGUAGCAAAUUGCGAAAAGUAAUGCGAUCUGCAACCUUUGCGAAUCAU\n",
        ">AF196778.1/2-154 START: 000000042 WINDOW: 050\tACGUAGCAAAUUGCGAAAAGUAAUGCGAUCUGCAACCUUUGCGAAUCAUC\n",
        ">AF196778.1/2-154 START: 000000043 WINDOW: 050\tCGUAGCAAAUUGCGAAAAGUAAUGCGAUCUGCAACCUUUGCGAAUCAUCG\n",
        ">AF196778.1/2-154 START: 000000044 WINDOW: 050\tGUAGCAAAUUGCGAAAAGUAAUGCGAUCUGCAACCUUUGCGAAUCAUCGA\n",
        ">AF196778.1/2-154 START: 000000045 WINDOW: 050\tUAGCAAAUUGCGAAAAGUAAUGCGAUCUGCAACCUUUGCGAAUCAUCGAA\n",
        ">AF196778.1/2-154 START: 000000046 WINDOW: 050\tAGCAAAUUGCGAAAAGUAAUGCGAUCUGCAACCUUUGCGAAUCAUCGAAU"
       ]
      },
      {
       "output_type": "stream",
       "stream": "stdout",
       "text": [
        "\n",
        ">AF196778.1/2-154 START: 000000047 WINDOW: 050\tGCAAAUUGCGAAAAGUAAUGCGAUCUGCAACCUUUGCGAAUCAUCGAAUU\n",
        ">AF196778.1/2-154 START: 000000048 WINDOW: 050\tCAAAUUGCGAAAAGUAAUGCGAUCUGCAACCUUUGCGAAUCAUCGAAUUC\n",
        ">AF196778.1/2-154 START: 000000049 WINDOW: 050\tAAAUUGCGAAAAGUAAUGCGAUCUGCAACCUUUGCGAAUCAUCGAAUUCU\n",
        ">AF196778.1/2-154 START: 000000050 WINDOW: 050\tAAUUGCGAAAAGUAAUGCGAUCUGCAACCUUUGCGAAUCAUCGAAUUCUC\n",
        ">AF196778.1/2-154 START: 000000051 WINDOW: 050\tAUUGCGAAAAGUAAUGCGAUCUGCAACCUUUGCGAAUCAUCGAAUUCUCG\n",
        ">AF196778.1/2-154 START: 000000052 WINDOW: 050\tUUGCGAAAAGUAAUGCGAUCUGCAACCUUUGCGAAUCAUCGAAUUCUCGA\n",
        ">AF196778.1/2-154 START: 000000053 WINDOW: 050\tUGCGAAAAGUAAUGCGAUCUGCAACCUUUGCGAAUCAUCGAAUUCUCGAA\n",
        ">AF196778.1/2-154 START: 000000054 WINDOW: 050\tGCGAAAAGUAAUGCGAUCUGCAACCUUUGCGAAUCAUCGAAUUCUCGAAC\n",
        ">AF196778.1/2-154 START: 000000055 WINDOW: 050\tCGAAAAGUAAUGCGAUCUGCAACCUUUGCGAAUCAUCGAAUUCUCGAACG"
       ]
      },
      {
       "output_type": "stream",
       "stream": "stdout",
       "text": [
        "\n",
        ">AF196778.1/2-154 START: 000000056 WINDOW: 050\tGAAAAGUAAUGCGAUCUGCAACCUUUGCGAAUCAUCGAAUUCUCGAACGC\n",
        ">AF196778.1/2-154 START: 000000057 WINDOW: 050\tAAAAGUAAUGCGAUCUGCAACCUUUGCGAAUCAUCGAAUUCUCGAACGCA\n",
        "frag: 1 sim: 0.50 match: >AF196778.1/2-154 START: 000000057 WINDOW: 050\tAAAAGUAAUGCGAUCUGCAACCUUUGCGAAUCAUCGAAUUCUCGAACGCA\n"
       ]
      },
      {
       "output_type": "stream",
       "stream": "stdout",
       "text": [
        ">AF196778.1/2-154 START: 000000058 WINDOW: 050\tAAAGUAAUGCGAUCUGCAACCUUUGCGAAUCAUCGAAUUCUCGAACGCAU\n",
        "frag: 1 sim: 0.51 match: >AF196778.1/2-154 START: 000000058 WINDOW: 050\tAAAGUAAUGCGAUCUGCAACCUUUGCGAAUCAUCGAAUUCUCGAACGCAU\n"
       ]
      },
      {
       "output_type": "stream",
       "stream": "stdout",
       "text": [
        ">AF196778.1/2-154 START: 000000059 WINDOW: 050\tAAGUAAUGCGAUCUGCAACCUUUGCGAAUCAUCGAAUUCUCGAACGCAUC\n",
        "frag: 1 sim: 0.52 match: >AF196778.1/2-154 START: 000000059 WINDOW: 050\tAAGUAAUGCGAUCUGCAACCUUUGCGAAUCAUCGAAUUCUCGAACGCAUC\n"
       ]
      },
      {
       "output_type": "stream",
       "stream": "stdout",
       "text": [
        ">AF196778.1/2-154 START: 000000060 WINDOW: 050\tAGUAAUGCGAUCUGCAACCUUUGCGAAUCAUCGAAUUCUCGAACGCAUCU\n",
        "frag: 1 sim: 0.51 match: >AF196778.1/2-154 START: 000000060 WINDOW: 050\tAGUAAUGCGAUCUGCAACCUUUGCGAAUCAUCGAAUUCUCGAACGCAUCU\n"
       ]
      },
      {
       "output_type": "stream",
       "stream": "stdout",
       "text": [
        ">AF196778.1/2-154 START: 000000061 WINDOW: 050\tGUAAUGCGAUCUGCAACCUUUGCGAAUCAUCGAAUUCUCGAACGCAUCUU\n",
        ">AF196778.1/2-154 START: 000000062 WINDOW: 050\tUAAUGCGAUCUGCAACCUUUGCGAAUCAUCGAAUUCUCGAACGCAUCUUG\n",
        ">AF196778.1/2-154 START: 000000063 WINDOW: 050\tAAUGCGAUCUGCAACCUUUGCGAAUCAUCGAAUUCUCGAACGCAUCUUGC\n",
        ">AF196778.1/2-154 START: 000000064 WINDOW: 050\tAUGCGAUCUGCAACCUUUGCGAAUCAUCGAAUUCUCGAACGCAUCUUGCA\n",
        ">AF196778.1/2-154 START: 000000065 WINDOW: 050\tUGCGAUCUGCAACCUUUGCGAAUCAUCGAAUUCUCGAACGCAUCUUGCAC\n",
        ">AF196778.1/2-154 START: 000000066 WINDOW: 050\tGCGAUCUGCAACCUUUGCGAAUCAUCGAAUUCUCGAACGCAUCUUGCACC\n",
        "frag: 1 sim: 0.50 match: >AF196778.1/2-154 START: 000000066 WINDOW: 050\tGCGAUCUGCAACCUUUGCGAAUCAUCGAAUUCUCGAACGCAUCUUGCACC\n"
       ]
      },
      {
       "output_type": "stream",
       "stream": "stdout",
       "text": [
        ">AF196778.1/2-154 START: 000000067 WINDOW: 050\tCGAUCUGCAACCUUUGCGAAUCAUCGAAUUCUCGAACGCAUCUUGCACCC\n",
        "frag: 1 sim: 0.51 match: >AF196778.1/2-154 START: 000000067 WINDOW: 050\tCGAUCUGCAACCUUUGCGAAUCAUCGAAUUCUCGAACGCAUCUUGCACCC\n"
       ]
      },
      {
       "output_type": "stream",
       "stream": "stdout",
       "text": [
        ">AF196778.1/2-154 START: 000000068 WINDOW: 050\tGAUCUGCAACCUUUGCGAAUCAUCGAAUUCUCGAACGCAUCUUGCACCCU\n",
        "frag: 1 sim: 0.52 match: >AF196778.1/2-154 START: 000000068 WINDOW: 050\tGAUCUGCAACCUUUGCGAAUCAUCGAAUUCUCGAACGCAUCUUGCACCCU\n"
       ]
      },
      {
       "output_type": "stream",
       "stream": "stdout",
       "text": [
        ">AF196778.1/2-154 START: 000000069 WINDOW: 050\tAUCUGCAACCUUUGCGAAUCAUCGAAUUCUCGAACGCAUCUUGCACCCUU\n",
        ">AF196778.1/2-154 START: 000000070 WINDOW: 050\tUCUGCAACCUUUGCGAAUCAUCGAAUUCUCGAACGCAUCUUGCACCCUUU\n",
        ">AF196778.1/2-154 START: 000000071 WINDOW: 050\tCUGCAACCUUUGCGAAUCAUCGAAUUCUCGAACGCAUCUUGCACCCUUUG\n",
        ">AF196778.1/2-154 START: 000000072 WINDOW: 050\tUGCAACCUUUGCGAAUCAUCGAAUUCUCGAACGCAUCUUGCACCCUUUGG\n",
        ">AF196778.1/2-154 START: 000000073 WINDOW: 050\tGCAACCUUUGCGAAUCAUCGAAUUCUCGAACGCAUCUUGCACCCUUUGGU\n",
        ">AF196778.1/2-154 START: 000000074 WINDOW: 050\tCAACCUUUGCGAAUCAUCGAAUUCUCGAACGCAUCUUGCACCCUUUGGUC\n",
        ">AF196778.1/2-154 START: 000000075 WINDOW: 050\tAACCUUUGCGAAUCAUCGAAUUCUCGAACGCAUCUUGCACCCUUUGGUCA\n",
        ">AF196778.1/2-154 START: 000000076 WINDOW: 050\tACCUUUGCGAAUCAUCGAAUUCUCGAACGCAUCUUGCACCCUUUGGUCAU\n",
        ">AF196778.1/2-154 START: 000000077 WINDOW: 050\tCCUUUGCGAAUCAUCGAAUUCUCGAACGCAUCUUGCACCCUUUGGUCAUC\n",
        ">AF196778.1/2-154 START: 000000078 WINDOW: 050\tCUUUGCGAAUCAUCGAAUUCUCGAACGCAUCUUGCACCCUUUGGUCAUCC"
       ]
      },
      {
       "output_type": "stream",
       "stream": "stdout",
       "text": [
        "\n",
        ">AF196778.1/2-154 START: 000000079 WINDOW: 050\tUUUGCGAAUCAUCGAAUUCUCGAACGCAUCUUGCACCCUUUGGUCAUCCA\n",
        "frag: 1 sim: 0.51 match: >AF196778.1/2-154 START: 000000079 WINDOW: 050\tUUUGCGAAUCAUCGAAUUCUCGAACGCAUCUUGCACCCUUUGGUCAUCCA\n"
       ]
      },
      {
       "output_type": "stream",
       "stream": "stdout",
       "text": [
        ">AF196778.1/2-154 START: 000000080 WINDOW: 050\tUUGCGAAUCAUCGAAUUCUCGAACGCAUCUUGCACCCUUUGGUCAUCCAA\n",
        "frag: 1 sim: 0.53 match: >AF196778.1/2-154 START: 000000080 WINDOW: 050\tUUGCGAAUCAUCGAAUUCUCGAACGCAUCUUGCACCCUUUGGUCAUCCAA\n"
       ]
      },
      {
       "output_type": "stream",
       "stream": "stdout",
       "text": [
        ">AF196778.1/2-154 START: 000000081 WINDOW: 050\tUGCGAAUCAUCGAAUUCUCGAACGCAUCUUGCACCCUUUGGUCAUCCAAU\n",
        "frag: 1 sim: 0.52 match: >AF196778.1/2-154 START: 000000081 WINDOW: 050\tUGCGAAUCAUCGAAUUCUCGAACGCAUCUUGCACCCUUUGGUCAUCCAAU\n"
       ]
      },
      {
       "output_type": "stream",
       "stream": "stdout",
       "text": [
        ">AF196778.1/2-154 START: 000000082 WINDOW: 050\tGCGAAUCAUCGAAUUCUCGAACGCAUCUUGCACCCUUUGGUCAUCCAAUG\n",
        "frag: 1 sim: 0.54 match: >AF196778.1/2-154 START: 000000082 WINDOW: 050\tGCGAAUCAUCGAAUUCUCGAACGCAUCUUGCACCCUUUGGUCAUCCAAUG\n"
       ]
      },
      {
       "output_type": "stream",
       "stream": "stdout",
       "text": [
        ">AF196778.1/2-154 START: 000000083 WINDOW: 050\tCGAAUCAUCGAAUUCUCGAACGCAUCUUGCACCCUUUGGUCAUCCAAUGG\n",
        "frag: 1 sim: 0.54 match: >AF196778.1/2-154 START: 000000083 WINDOW: 050\tCGAAUCAUCGAAUUCUCGAACGCAUCUUGCACCCUUUGGUCAUCCAAUGG\n"
       ]
      },
      {
       "output_type": "stream",
       "stream": "stdout",
       "text": [
        ">AF196778.1/2-154 START: 000000084 WINDOW: 050\tGAAUCAUCGAAUUCUCGAACGCAUCUUGCACCCUUUGGUCAUCCAAUGGG\n",
        "frag: 1 sim: 0.55 match: >AF196778.1/2-154 START: 000000084 WINDOW: 050\tGAAUCAUCGAAUUCUCGAACGCAUCUUGCACCCUUUGGUCAUCCAAUGGG\n"
       ]
      },
      {
       "output_type": "stream",
       "stream": "stdout",
       "text": [
        ">AF196778.1/2-154 START: 000000085 WINDOW: 050\tAAUCAUCGAAUUCUCGAACGCAUCUUGCACCCUUUGGUCAUCCAAUGGGU\n",
        "frag: 1 sim: 0.54 match: >AF196778.1/2-154 START: 000000085 WINDOW: 050\tAAUCAUCGAAUUCUCGAACGCAUCUUGCACCCUUUGGUCAUCCAAUGGGU\n"
       ]
      },
      {
       "output_type": "stream",
       "stream": "stdout",
       "text": [
        ">AF196778.1/2-154 START: 000000086 WINDOW: 050\tAUCAUCGAAUUCUCGAACGCAUCUUGCACCCUUUGGUCAUCCAAUGGGUA\n",
        "frag: 1 sim: 0.55 match: >AF196778.1/2-154 START: 000000086 WINDOW: 050\tAUCAUCGAAUUCUCGAACGCAUCUUGCACCCUUUGGUCAUCCAAUGGGUA\n"
       ]
      },
      {
       "output_type": "stream",
       "stream": "stdout",
       "text": [
        ">AF196778.1/2-154 START: 000000087 WINDOW: 050\tUCAUCGAAUUCUCGAACGCAUCUUGCACCCUUUGGUCAUCCAAUGGGUAC\n",
        "frag: 1 sim: 0.55 match: >AF196778.1/2-154 START: 000000087 WINDOW: 050\tUCAUCGAAUUCUCGAACGCAUCUUGCACCCUUUGGUCAUCCAAUGGGUAC\n"
       ]
      },
      {
       "output_type": "stream",
       "stream": "stdout",
       "text": [
        ">AF196778.1/2-154 START: 000000088 WINDOW: 050\tCAUCGAAUUCUCGAACGCAUCUUGCACCCUUUGGUCAUCCAAUGGGUACG\n",
        "frag: 1 sim: 0.52 match: >AF196778.1/2-154 START: 000000088 WINDOW: 050\tCAUCGAAUUCUCGAACGCAUCUUGCACCCUUUGGUCAUCCAAUGGGUACG\n"
       ]
      },
      {
       "output_type": "stream",
       "stream": "stdout",
       "text": [
        ">AF196778.1/2-154 START: 000000089 WINDOW: 050\tAUCGAAUUCUCGAACGCAUCUUGCACCCUUUGGUCAUCCAAUGGGUACGU\n",
        "frag: 1 sim: 0.52 match: >AF196778.1/2-154 START: 000000089 WINDOW: 050\tAUCGAAUUCUCGAACGCAUCUUGCACCCUUUGGUCAUCCAAUGGGUACGU\n"
       ]
      },
      {
       "output_type": "stream",
       "stream": "stdout",
       "text": [
        ">AF196778.1/2-154 START: 000000090 WINDOW: 050\tUCGAAUUCUCGAACGCAUCUUGCACCCUUUGGUCAUCCAAUGGGUACGUC\n",
        "frag: 1 sim: 0.51 match: >AF196778.1/2-154 START: 000000090 WINDOW: 050\tUCGAAUUCUCGAACGCAUCUUGCACCCUUUGGUCAUCCAAUGGGUACGUC\n"
       ]
      },
      {
       "output_type": "stream",
       "stream": "stdout",
       "text": [
        ">AF196778.1/2-154 START: 000000091 WINDOW: 050\tCGAAUUCUCGAACGCAUCUUGCACCCUUUGGUCAUCCAAUGGGUACGUCU\n",
        ">AF196778.1/2-154 START: 000000092 WINDOW: 050\tGAAUUCUCGAACGCAUCUUGCACCCUUUGGUCAUCCAAUGGGUACGUCUA\n",
        ">AF196778.1/2-154 START: 000000093 WINDOW: 050\tAAUUCUCGAACGCAUCUUGCACCCUUUGGUCAUCCAAUGGGUACGUCUAG\n",
        ">AF196778.1/2-154 START: 000000094 WINDOW: 050\tAUUCUCGAACGCAUCUUGCACCCUUUGGUCAUCCAAUGGGUACGUCUAGU\n",
        "frag: 1 sim: 0.50 match: >AF196778.1/2-154 START: 000000094 WINDOW: 050\tAUUCUCGAACGCAUCUUGCACCCUUUGGUCAUCCAAUGGGUACGUCUAGU\n"
       ]
      },
      {
       "output_type": "stream",
       "stream": "stdout",
       "text": [
        ">AF196778.1/2-154 START: 000000095 WINDOW: 050\tUUCUCGAACGCAUCUUGCACCCUUUGGUCAUCCAAUGGGUACGUCUAGUU\n",
        ">AF196778.1/2-154 START: 000000096 WINDOW: 050\tUCUCGAACGCAUCUUGCACCCUUUGGUCAUCCAAUGGGUACGUCUAGUUC\n",
        "frag: 1 sim: 0.50 match: >AF196778.1/2-154 START: 000000096 WINDOW: 050\tUCUCGAACGCAUCUUGCACCCUUUGGUCAUCCAAUGGGUACGUCUAGUUC\n"
       ]
      },
      {
       "output_type": "stream",
       "stream": "stdout",
       "text": [
        ">AF196778.1/2-154 START: 000000097 WINDOW: 050\tCUCGAACGCAUCUUGCACCCUUUGGUCAUCCAAUGGGUACGUCUAGUUCA\n",
        "frag: 1 sim: 0.52 match: >AF196778.1/2-154 START: 000000097 WINDOW: 050\tCUCGAACGCAUCUUGCACCCUUUGGUCAUCCAAUGGGUACGUCUAGUUCA\n"
       ]
      },
      {
       "output_type": "stream",
       "stream": "stdout",
       "text": [
        ">AF196778.1/2-154 START: 000000098 WINDOW: 050\tUCGAACGCAUCUUGCACCCUUUGGUCAUCCAAUGGGUACGUCUAGUUCAG\n",
        "frag: 1 sim: 0.54 match: >AF196778.1/2-154 START: 000000098 WINDOW: 050\tUCGAACGCAUCUUGCACCCUUUGGUCAUCCAAUGGGUACGUCUAGUUCAG\n"
       ]
      }
     ]
    },
    {
     "cell_type": "code",
     "collapsed": false,
     "input": [],
     "language": "python",
     "metadata": {},
     "outputs": []
    }
   ],
   "metadata": {}
  }
 ]
}