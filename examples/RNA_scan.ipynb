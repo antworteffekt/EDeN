{
 "metadata": {
  "name": "",
  "signature": "sha256:e53fbdfa416c31da4ca50bf955bfdda83f653c1899e13502d5329060f799a8c3"
 },
 "nbformat": 3,
 "nbformat_minor": 0,
 "worksheets": [
  {
   "cells": [
    {
     "cell_type": "markdown",
     "metadata": {},
     "source": [
      "#RNA scan\n",
      "\n",
      "Application scenario: "
     ]
    },
    {
     "cell_type": "code",
     "collapsed": false,
     "input": [
      "%pylab inline\n",
      "import pylab as pl"
     ],
     "language": "python",
     "metadata": {},
     "outputs": [
      {
       "output_type": "stream",
       "stream": "stdout",
       "text": [
        "Populating the interactive namespace from numpy and matplotlib\n"
       ]
      },
      {
       "output_type": "stream",
       "stream": "stderr",
       "text": [
        "WARNING: pylab import has clobbered these variables: ['step']\n",
        "`%matplotlib` prevents importing * from pylab and numpy\n"
       ]
      }
     ],
     "prompt_number": 2
    },
    {
     "cell_type": "markdown",
     "metadata": {},
     "source": [
      "given the RFAM id of a family we retrieve it from the RFAM online database\n",
      "composing the correspondent URL"
     ]
    },
    {
     "cell_type": "code",
     "collapsed": false,
     "input": [
      "def rfam_url(family_id):\n",
      "    return 'http://rfam.xfam.org/family/%s/alignment?acc=%s&format=fastau&download=0'%(family_id,family_id)"
     ],
     "language": "python",
     "metadata": {},
     "outputs": [],
     "prompt_number": 3
    },
    {
     "cell_type": "code",
     "collapsed": false,
     "input": [
      "rfam_id = 'RF00002'\n",
      "print rfam_url(rfam_id)"
     ],
     "language": "python",
     "metadata": {},
     "outputs": [
      {
       "output_type": "stream",
       "stream": "stdout",
       "text": [
        "http://rfam.xfam.org/family/RF00002/alignment?acc=RF00002&format=fastau&download=0\n"
       ]
      }
     ],
     "prompt_number": 4
    },
    {
     "cell_type": "code",
     "collapsed": false,
     "input": [
      "def compose(input = None, input_type = None, step = 1, window = 100):\n",
      "    from eden.modifier.fasta import fasta_to_fasta, split_modifier, one_line_modifier\n",
      "    seqs = fasta_to_fasta(input = input, input_type = input_type, modifier = split_modifier, step = step, window = window)\n",
      "    seqs = fasta_to_fasta(input = seqs, input_type = 'list', modifier = one_line_modifier, sequence_only = True)\n",
      "    return seqs"
     ],
     "language": "python",
     "metadata": {},
     "outputs": [],
     "prompt_number": 5
    },
    {
     "cell_type": "code",
     "collapsed": false,
     "input": [
      "def compose_id(input = None, input_type = None, step = 1, window = 100):\n",
      "    from eden.modifier.fasta import fasta_to_fasta, split_modifier, one_line_modifier\n",
      "    seqs = fasta_to_fasta(input = input, input_type = input_type, modifier = split_modifier, step = step, window = window)\n",
      "    seqs = fasta_to_fasta(input = seqs, input_type = 'list', modifier = one_line_modifier, one_line = True)\n",
      "    return seqs"
     ],
     "language": "python",
     "metadata": {},
     "outputs": [],
     "prompt_number": 6
    },
    {
     "cell_type": "code",
     "collapsed": false,
     "input": [
      "from eden.path import Vectorizer, OnlineSimilarity\n",
      "\n",
      "def scan(input = None, input_type = None, ref_instance = None, step = 1, window = 100, radius = 1, min_radius = 0, distance = 0, min_distance = 0,  similarity_threshold = 0.9):\n",
      "    vec = Vectorizer(r = radius, d = distance, min_r = min_radius, min_d = min_distance)\n",
      "    sim = OnlineSimilarity(ref_instance = ref_instance, vectorizer = vec)\n",
      "    scan_seqs = compose(input = input, input_type = input_type, step = step, window = window)\n",
      "    scan_ids = compose_id(input = input, input_type = input_type, step = step, window = window)\n",
      "    for s,id in it.izip(sim.predict(scan_seqs), scan_ids):\n",
      "        if s >= similarity_threshold:\n",
      "            yield (s,id)"
     ],
     "language": "python",
     "metadata": {},
     "outputs": [],
     "prompt_number": 7
    },
    {
     "cell_type": "code",
     "collapsed": false,
     "input": [
      "%%time\n",
      "import sys\n",
      "\n",
      "step = 30\n",
      "window = 60\n",
      "\n",
      "seqs = compose(rfam_url(rfam_id), input_type = 'url', step = step, window = window)\n",
      "\n",
      "id = 1\n",
      "start = id\n",
      "stop = id+1\n",
      "import itertools as it\n",
      "count = 0\n",
      "for ref_instance in it.islice(seqs,start,stop):\n",
      "    count += 1\n",
      "    for s,win_id in scan(input = rfam_url(rfam_id), input_type = 'url', \n",
      "                         ref_instance = ref_instance, step = step, window = window, \n",
      "                         radius = 2, min_radius = 2,\n",
      "                         distance = 3, min_distance = 2, \n",
      "                         similarity_threshold = 0.25):\n",
      "        res = 'frag: %d seq: %s sim: %0.2f match: %s' % (count, ref_instance, s, win_id)\n",
      "        print res\n",
      "        sys.stdout.flush()"
     ],
     "language": "python",
     "metadata": {},
     "outputs": [
      {
       "output_type": "stream",
       "stream": "stdout",
       "text": [
        "frag: 1 seq: GAUCGAUGAAGACCGCAGCUAAAUGCGCGUCAGAAUGUGAACUGCAGGACACAUGAACAC sim: 0.33 match: >L78065.1/3758-3910 START: 000000030 WINDOW: 060\tGAUCGAUGAAGACCGCAGCUAAAUGCGCGUCAGAAUGUGAACUGCAGGACACAUGAACAC\n"
       ]
      },
      {
       "output_type": "stream",
       "stream": "stdout",
       "text": [
        "frag: 1 seq: GAUCGAUGAAGACCGCAGCUAAAUGCGCGUCAGAAUGUGAACUGCAGGACACAUGAACAC sim: 0.26 match: >L78065.1/3758-3910 START: 000000060 WINDOW: 060\tCAGAAUGUGAACUGCAGGACACAUGAACACCGACACGUUGAACGAUAUUGCGCAUUGCAC\n"
       ]
      },
      {
       "output_type": "stream",
       "stream": "stdout",
       "text": [
        "frag: 1 seq: GAUCGAUGAAGACCGCAGCUAAAUGCGCGUCAGAAUGUGAACUGCAGGACACAUGAACAC sim: 0.27 match: >AB011808.1/289-442 START: 000000030 WINDOW: 060\tCAUCGAUGAAGAACGCAGCGAAAUGCGAUACGUAAUGUGAAUUGCAGAAUUCCGUGAAUC\n"
       ]
      },
      {
       "output_type": "stream",
       "stream": "stdout",
       "text": [
        "frag: 1 seq: GAUCGAUGAAGACCGCAGCUAAAUGCGCGUCAGAAUGUGAACUGCAGGACACAUGAACAC sim: 0.25 match: >AB021684.1/14108-14260 START: 000000030 WINDOW: 060\tCAACGAUGAAGAACGCAGCGAAAUGCGAUAUCUAGUGUGAAUUGCAGAAUUCCGCGAAUC\n"
       ]
      },
      {
       "output_type": "stream",
       "stream": "stdout",
       "text": [
        "frag: 1 seq: GAUCGAUGAAGACCGCAGCUAAAUGCGCGUCAGAAUGUGAACUGCAGGACACAUGAACAC sim: 0.25 match: >AF026388.1/2852-3006 START: 000000000 WINDOW: 060\tAACUUUCAGCAAUGGAUGUCUUGGCUCACGCAUCGAUGAAGGACGCAGCGAAAUGCGAUA\n"
       ]
      },
      {
       "output_type": "stream",
       "stream": "stdout",
       "text": [
        "frag: 1 seq: GAUCGAUGAAGACCGCAGCUAAAUGCGCGUCAGAAUGUGAACUGCAGGACACAUGAACAC sim: 0.26 match: >AF026388.1/2852-3006 START: 000000030 WINDOW: 060\tCAUCGAUGAAGGACGCAGCGAAAUGCGAUACGCAUUGUGAAUUGCAGAUUUCAGUGAACC\n"
       ]
      },
      {
       "output_type": "stream",
       "stream": "stdout",
       "text": [
        "frag: 1 seq: GAUCGAUGAAGACCGCAGCUAAAUGCGCGUCAGAAUGUGAACUGCAGGACACAUGAACAC sim: 0.26 match: >AF158724.1/274-427 START: 000000030 WINDOW: 060\tAGUCGAUGAAGGACGCAGCCAAGUGCGAGAAGUAAUGUGAAUUGCAGAACACAUUGAACG\n"
       ]
      },
      {
       "output_type": "stream",
       "stream": "stdout",
       "text": [
        "frag: 1 seq: GAUCGAUGAAGACCGCAGCUAAAUGCGCGUCAGAAUGUGAACUGCAGGACACAUGAACAC sim: 0.25 match: >AF169230.1/225-380 START: 000000030 WINDOW: 060\tCAUCGAUGAAGAACGUAGCGAAAUGCGAUACCUGGUGUGAAUUGCAGAAUCCCGUGAACC\n"
       ]
      },
      {
       "output_type": "stream",
       "stream": "stdout",
       "text": [
        "frag: 1 seq: GAUCGAUGAAGACCGCAGCUAAAUGCGCGUCAGAAUGUGAACUGCAGGACACAUGAACAC sim: 0.27 match: >AF223570.1/244-389 START: 000000030 WINDOW: 060\tUAUCGAUGAAGAACGCAGCUAGAAUGCGAUAUGCAGUGUGAAUUGCAGAACCACGAAUCA\n"
       ]
      },
      {
       "output_type": "stream",
       "stream": "stdout",
       "text": [
        "frag: 1 seq: GAUCGAUGAAGACCGCAGCUAAAUGCGCGUCAGAAUGUGAACUGCAGGACACAUGAACAC sim: 0.26 match: >AF223571.1/210-358 START: 000000030 WINDOW: 060\tUAUCGAUGAAGAACGCAGCAAAGUGCGAUAAGCAAUGCGAAUUGCAGACCGUGAGUCAUU\n"
       ]
      },
      {
       "output_type": "stream",
       "stream": "stdout",
       "text": [
        "frag: 1 seq: GAUCGAUGAAGACCGCAGCUAAAUGCGCGUCAGAAUGUGAACUGCAGGACACAUGAACAC sim: 0.27 match: >AF319429.1/172-325 START: 000000030 WINDOW: 060\tCAUCGAUGAAGAACGCAGCGAAAUGCGAUAAGUAAUGUGAAUUGCAGAAUUCAGUGAAUC\n"
       ]
      },
      {
       "output_type": "stream",
       "stream": "stdout",
       "text": [
        "frag: 1 seq: GAUCGAUGAAGACCGCAGCUAAAUGCGCGUCAGAAUGUGAACUGCAGGACACAUGAACAC sim: 0.26 match: >AF403508.1/235-389 START: 000000000 WINDOW: 060\tAACUUUCAGCAGUGGAUGUCUAGGCUCGCACAUCGAUGAAGAACGCUGCGAACUGCGAUA\n"
       ]
      },
      {
       "output_type": "stream",
       "stream": "stdout",
       "text": [
        "frag: 1 seq: GAUCGAUGAAGACCGCAGCUAAAUGCGCGUCAGAAUGUGAACUGCAGGACACAUGAACAC sim: 0.25 match: >AF403508.1/235-389 START: 000000030 WINDOW: 060\tCAUCGAUGAAGAACGCUGCGAACUGCGAUACGUAAUGCGAAUUGCAGGAUUCAGUGAGUC\n"
       ]
      },
      {
       "output_type": "stream",
       "stream": "stdout",
       "text": [
        "frag: 1 seq: GAUCGAUGAAGACCGCAGCUAAAUGCGCGUCAGAAUGUGAACUGCAGGACACAUGAACAC sim: 0.27 match: >AF422961.1/176-329 START: 000000030 WINDOW: 060\tCAUCGAUGAAGAACGCAGCGAAAUGCGAUAAGUAAUGUGAAUUGCAGAAUUCAGUGAAUC\n"
       ]
      },
      {
       "output_type": "stream",
       "stream": "stdout",
       "text": [
        "frag: 1 seq: GAUCGAUGAAGACCGCAGCUAAAUGCGCGUCAGAAUGUGAACUGCAGGACACAUGAACAC sim: 0.27 match: >AF444327.1/152-305 START: 000000030 WINDOW: 060\tCAUCGAUGAAGAACGCAGCGAAAUGCGAUAAGUAAUGUGAAUUGCAGAAUUCAGUGAAUC\n"
       ]
      },
      {
       "output_type": "stream",
       "stream": "stdout",
       "text": [
        "frag: 1 seq: GAUCGAUGAAGACCGCAGCUAAAUGCGCGUCAGAAUGUGAACUGCAGGACACAUGAACAC sim: 0.27 match: >AY029385.1/986-1138 START: 000000030 WINDOW: 060\tCAUCGAUGAAGAACGCAGCAAAAUGCGAUACGUAGUGUGAAUUGCAGAACAUGUGAAUCA\n"
       ]
      },
      {
       "output_type": "stream",
       "stream": "stdout",
       "text": [
        "frag: 1 seq: GAUCGAUGAAGACCGCAGCUAAAUGCGCGUCAGAAUGUGAACUGCAGGACACAUGAACAC sim: 0.27 match: >X90410.1/15-165 START: 000000030 WINDOW: 060\tCAUCGAUGAAGAACGCAGCGAAAUGCGAUACGUAAUGUGAAUUGCAGAACGCGAGUCAUC\n"
       ]
      },
      {
       "output_type": "stream",
       "stream": "stdout",
       "text": [
        "frag: 1 seq: GAUCGAUGAAGACCGCAGCUAAAUGCGCGUCAGAAUGUGAACUGCAGGACACAUGAACAC sim: 0.25 match: >L07796.1/2-156 START: 000000030 WINDOW: 060\tCAUCGAUGAAGAACGCAGCGAAAUGCCGAUACGUAAUAUGAAUUGCAGAUAUCCGUGAAU\n"
       ]
      },
      {
       "output_type": "stream",
       "stream": "stdout",
       "text": [
        "frag: 1 seq: GAUCGAUGAAGACCGCAGCUAAAUGCGCGUCAGAAUGUGAACUGCAGGACACAUGAACAC sim: 0.29 match: >X99212.1/685-824 START: 000000030 WINDOW: 060\tGGUCGAUGAAGACCGCAGCAAACUGCGCGUCGCCAUGUGAACUGCAGGACACAUGAUCAU\n"
       ]
      },
      {
       "output_type": "stream",
       "stream": "stdout",
       "text": [
        "frag: 1 seq: GAUCGAUGAAGACCGCAGCUAAAUGCGCGUCAGAAUGUGAACUGCAGGACACAUGAACAC sim: 0.28 match: >M21017.1/2722-2844 START: 000000030 WINDOW: 060\tGGUCGAUGAAGAACGCAGCAAACUGUGCGUCAUCGUGUGAACUGCAGGACACAUGAACAU\n"
       ]
      },
      {
       "output_type": "stream",
       "stream": "stdout",
       "text": [
        "frag: 1 seq: GAUCGAUGAAGACCGCAGCUAAAUGCGCGUCAGAAUGUGAACUGCAGGACACAUGAACAC sim: 0.26 match: >X80346.1/67-220 START: 000000030 WINDOW: 060\tCAACGAUGAAGAACGCAGCGAAAUGCGAUACGUAAUGCGAAUUGCAGAAUUCAGUGAAUC\n"
       ]
      },
      {
       "output_type": "stream",
       "stream": "stdout",
       "text": [
        "frag: 1 seq: GAUCGAUGAAGACCGCAGCUAAAUGCGCGUCAGAAUGUGAACUGCAGGACACAUGAACAC sim: 0.28 match: >U13369.1/6624-6776 START: 000000030 WINDOW: 060\tCGUCGAUGAAGAACGCAGCUAGCUGCGAGAAUUAAUGUGAAUUGCAGGACACAUUGAUCA\n"
       ]
      },
      {
       "output_type": "stream",
       "stream": "stdout",
       "text": [
        "frag: 1 seq: GAUCGAUGAAGACCGCAGCUAAAUGCGCGUCAGAAUGUGAACUGCAGGACACAUGAACAC sim: 0.25 match: >U21939.1/68-218 START: 000000030 WINDOW: 060\tCAGCGAUGAAGGCCGCAGCAAAAUGCGAUACGCAAUGAAAAUUGCAGUGACUGUGAAUCA\n"
       ]
      },
      {
       "output_type": "stream",
       "stream": "stdout",
       "text": [
        "frag: 1 seq: GAUCGAUGAAGACCGCAGCUAAAUGCGCGUCAGAAUGUGAACUGCAGGACACAUGAACAC sim: 0.26 match: >U21939.1/68-218 START: 000000060 WINDOW: 060\tCGCAAUGAAAAUUGCAGUGACUGUGAAUCAUCAGAAUGCUGAAUGUAAACUACACCAAUU\n"
       ]
      },
      {
       "output_type": "stream",
       "stream": "stdout",
       "text": [
        "frag: 1 seq: GAUCGAUGAAGACCGCAGCUAAAUGCGCGUCAGAAUGUGAACUGCAGGACACAUGAACAC sim: 0.26 match: >M14649.1/2015-2169 START: 000000030 WINDOW: 060\tCAACGAUGAAGGGCGCAGCGAAAUGUGAUAAGCAAUGUGAAUUGCAGAAUUCCGUGAACC\n"
       ]
      },
      {
       "output_type": "stream",
       "stream": "stdout",
       "text": [
        "frag: 1 seq: GAUCGAUGAAGACCGCAGCUAAAUGCGCGUCAGAAUGUGAACUGCAGGACACAUGAACAC sim: 0.26 match: >U58510.1/2022-2198 START: 000000030 WINDOW: 060\tAUCGAUGAAGAACGUAGCAGAAAGCGACAUGCGAUGAUACGCGCAUAGACCAGGAUUCCG\n"
       ]
      },
      {
       "output_type": "stream",
       "stream": "stdout",
       "text": [
        "frag: 1 seq: GAUCGAUGAAGACCGCAGCUAAAUGCGCGUCAGAAUGUGAACUGCAGGACACAUGAACAC sim: 0.25 match: >U10409.1/2025-2178 START: 000000030 WINDOW: 060\tCAUCGAUGAAGAACGCAGCGAAUUGCGAUAAGUAAUGUGAAUUGCAGAUUUUCGUGAAUC\n"
       ]
      },
      {
       "output_type": "stream",
       "stream": "stdout",
       "text": [
        "frag: 1 seq: GAUCGAUGAAGACCGCAGCUAAAUGCGCGUCAGAAUGUGAACUGCAGGACACAUGAACAC sim: 0.27 match: >Z32848.1/2558-2712 START: 000000030 WINDOW: 060\tCAUCGAUGAAGAACGCAGCGAAAUGCGAUACGUAAUGUGAAUUGCAGAAUUCCGUGAAUC\n"
       ]
      },
      {
       "output_type": "stream",
       "stream": "stdout",
       "text": [
        "frag: 1 seq: GAUCGAUGAAGACCGCAGCUAAAUGCGCGUCAGAAUGUGAACUGCAGGACACAUGAACAC sim: 0.25 match: >D16558.1/2710-2862 START: 000000030 WINDOW: 060\tCAACGAUGAAGAACGCAGCGAAAUGCGAUACGUCUUGCGACUUGCAGAAUCCAGUGAAUC\n"
       ]
      },
      {
       "output_type": "stream",
       "stream": "stdout",
       "text": [
        "frag: 1 seq: GAUCGAUGAAGACCGCAGCUAAAUGCGCGUCAGAAUGUGAACUGCAGGACACAUGAACAC sim: 0.26 match: >Y11511.1/115-268 START: 000000030 WINDOW: 060\tCAACGAUGAAGAACGCAGCGAAAUGCGAUACGUAAUGCGAAUUGCAGAACUUCGUGAAUC\n"
       ]
      },
      {
       "output_type": "stream",
       "stream": "stdout",
       "text": [
        "frag: 1 seq: GAUCGAUGAAGACCGCAGCUAAAUGCGCGUCAGAAUGUGAACUGCAGGACACAUGAACAC sim: 0.27 match: >AJ229062.1/241-389 START: 000000030 WINDOW: 060\tCAUCGAUGAAGAACGCAGCGAAAUGCGAUACGUAAUGUGAAUUGCAGAAUUCCGUGAAUC\n"
       ]
      },
      {
       "output_type": "stream",
       "stream": "stdout",
       "text": [
        "frag: 1 seq: GAUCGAUGAAGACCGCAGCUAAAUGCGCGUCAGAAUGUGAACUGCAGGACACAUGAACAC sim: 0.26 match: >X75430.1/2186-2339 START: 000000030 WINDOW: 060\tCAACGAUGAAGGACGCAGCGAACUGCAAACGCAAUGUGAAUUGCAGAAUUCAGUGAAUCA\n"
       ]
      },
      {
       "output_type": "stream",
       "stream": "stdout",
       "text": [
        "frag: 1 seq: GAUCGAUGAAGACCGCAGCUAAAUGCGCGUCAGAAUGUGAACUGCAGGACACAUGAACAC sim: 0.26 match: >L25635.1/211-360 START: 000000030 WINDOW: 060\tCAACGAUGAAGGACGCAGCGAACUGCGAAACGCAAUGUGGAAUUGCAGAAUUCAGUGAAU\n"
       ]
      },
      {
       "output_type": "stream",
       "stream": "stdout",
       "text": [
        "frag: 1 seq: GAUCGAUGAAGACCGCAGCUAAAUGCGCGUCAGAAUGUGAACUGCAGGACACAUGAACAC sim: 0.26 match: >X01533.1/5-152 START: 000000030 WINDOW: 060\tUGACGAUGAAGAACGCAGCGAAAUGCGAUACGUAAUGCGAAUUGCAGAACCGCGAGUCAA\n"
       ]
      },
      {
       "output_type": "stream",
       "stream": "stdout",
       "text": [
        "frag: 1 seq: GAUCGAUGAAGACCGCAGCUAAAUGCGCGUCAGAAUGUGAACUGCAGGACACAUGAACAC sim: 0.26 match: >X54512.1/4422-4569 START: 000000030 WINDOW: 060\tUGACGAUGAAGAACGCAGCGAAAUGCGAUACGCAAUGCGAAUUGCAGAACCGCGAGUCAU\n"
       ]
      },
      {
       "output_type": "stream",
       "stream": "stdout",
       "text": [
        "frag: 1 seq: GAUCGAUGAAGACCGCAGCUAAAUGCGCGUCAGAAUGUGAACUGCAGGACACAUGAACAC sim: 0.26 match: >X60705.1/112-265 START: 000000030 WINDOW: 060\tCAUCGAUGAAGAACGCAGCGAAACGCGAUAUGUAGUGUGAAUUGCAGAAUUCAGUGAAUC\n"
       ]
      },
      {
       "output_type": "stream",
       "stream": "stdout",
       "text": [
        "frag: 1 seq: GAUCGAUGAAGACCGCAGCUAAAUGCGCGUCAGAAUGUGAACUGCAGGACACAUGAACAC sim: 0.26 match: >M36008.1/959-1112 START: 000000030 WINDOW: 060\tCGUCGAUGAAGAACGCAGCUAGCUGCGAGAAUUAGUGUGAAUUGCAGGACACAUUGAUCA\n"
       ]
      },
      {
       "output_type": "stream",
       "stream": "stdout",
       "text": [
        "CPU times: user 1.1 s, sys: 20.5 ms, total: 1.12 s\n",
        "Wall time: 1.78 s\n"
       ]
      }
     ],
     "prompt_number": 20
    },
    {
     "cell_type": "code",
     "collapsed": false,
     "input": [],
     "language": "python",
     "metadata": {},
     "outputs": []
    }
   ],
   "metadata": {}
  }
 ]
}