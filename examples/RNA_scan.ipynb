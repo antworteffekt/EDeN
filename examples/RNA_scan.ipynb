{
 "metadata": {
  "name": "",
  "signature": "sha256:3b0d6ec1de46ec6da4a69090836b4efbe3f48f254bd94f365bbe22f061a7a50f"
 },
 "nbformat": 3,
 "nbformat_minor": 0,
 "worksheets": [
  {
   "cells": [
    {
     "cell_type": "markdown",
     "metadata": {},
     "source": [
      "#RNA scan\n",
      "\n",
      "Application scenario: "
     ]
    },
    {
     "cell_type": "code",
     "collapsed": false,
     "input": [
      "%pylab inline\n",
      "import pylab as pl"
     ],
     "language": "python",
     "metadata": {},
     "outputs": [
      {
       "output_type": "stream",
       "stream": "stdout",
       "text": [
        "Populating the interactive namespace from numpy and matplotlib\n"
       ]
      }
     ],
     "prompt_number": 1
    },
    {
     "cell_type": "markdown",
     "metadata": {},
     "source": [
      "given the RFAM id of a family we retrieve it from the RFAM online database\n",
      "composing the correspondent URL"
     ]
    },
    {
     "cell_type": "code",
     "collapsed": false,
     "input": [
      "def rfam_url(family_id):\n",
      "    return 'http://rfam.xfam.org/family/%s/alignment?acc=%s&format=fastau&download=0'%(family_id,family_id)"
     ],
     "language": "python",
     "metadata": {},
     "outputs": [],
     "prompt_number": 2
    },
    {
     "cell_type": "code",
     "collapsed": false,
     "input": [
      "rfam_id = 'RF00002'\n",
      "print rfam_url(rfam_id)"
     ],
     "language": "python",
     "metadata": {},
     "outputs": [
      {
       "output_type": "stream",
       "stream": "stdout",
       "text": [
        "http://rfam.xfam.org/family/RF00002/alignment?acc=RF00002&format=fastau&download=0\n"
       ]
      }
     ],
     "prompt_number": 3
    },
    {
     "cell_type": "code",
     "collapsed": false,
     "input": [
      "def compose(input, step = 1, window = 100):\n",
      "    from eden.modifier.fasta import fasta_to_fasta, split_modifier, one_line_modifier\n",
      "    seqs = fasta_to_fasta(input, modifier = split_modifier, step = step, window = window)\n",
      "    seqs = fasta_to_fasta(seqs, modifier = one_line_modifier, sequence_only = True)\n",
      "    return seqs"
     ],
     "language": "python",
     "metadata": {},
     "outputs": [],
     "prompt_number": 4
    },
    {
     "cell_type": "code",
     "collapsed": false,
     "input": [
      "def compose_id(input, step = 1, window = 100):\n",
      "    from eden.modifier.fasta import fasta_to_fasta, split_modifier, one_line_modifier\n",
      "    seqs = fasta_to_fasta(input, modifier = split_modifier, step = step, window = window)\n",
      "    seqs = fasta_to_fasta(seqs, modifier = one_line_modifier, one_line = True)\n",
      "    return seqs"
     ],
     "language": "python",
     "metadata": {},
     "outputs": [],
     "prompt_number": 5
    },
    {
     "cell_type": "code",
     "collapsed": false,
     "input": [
      "from eden.path import Vectorizer, OutOfCoreSimilarity\n",
      "\n",
      "def scan(input, ref_instance = None, step = 1, window = 100, radius = 1, min_radius = 0, distance = 0, min_distance = 0,  similarity_threshold = 0.9):\n",
      "    vec = Vectorizer(r = radius, d = distance, min_r = min_radius, min_d = min_distance)\n",
      "    sim = OutOfCoreSimilarity(ref_instance = ref_instance, vectorizer = vec)\n",
      "    scan_seqs = compose(input, step = step, window = window)\n",
      "    scan_ids = compose_id(input, step = step, window = window)\n",
      "    for similarity,fasta_header in it.izip(sim.predict(scan_seqs), scan_ids):\n",
      "        if similarity >= similarity_threshold:\n",
      "            yield (similarity,fasta_header)"
     ],
     "language": "python",
     "metadata": {},
     "outputs": [],
     "prompt_number": 6
    },
    {
     "cell_type": "code",
     "collapsed": false,
     "input": [
      "%%time\n",
      "import sys\n",
      "\n",
      "step = 30\n",
      "window = 60\n",
      "\n",
      "seqs = compose(rfam_url(rfam_id), step = step, window = window)\n",
      "\n",
      "id = 1\n",
      "start = id\n",
      "stop = id+5\n",
      "import itertools as it\n",
      "count = 0\n",
      "for ref_instance in it.islice(seqs,start,stop):\n",
      "    count += 1\n",
      "    for score, window_id in scan(rfam_url(rfam_id),\n",
      "                         ref_instance = ref_instance, step = step, window = window, \n",
      "                         radius = 2, min_radius = 2,\n",
      "                         distance = 3, min_distance = 2, \n",
      "                         similarity_threshold = 0.3):\n",
      "        res = 'frag: %d seq: %s sim: %0.2f match: %s' % (count, ref_instance, score, window_id)\n",
      "        print res\n",
      "        sys.stdout.flush()"
     ],
     "language": "python",
     "metadata": {},
     "outputs": [
      {
       "output_type": "stream",
       "stream": "stdout",
       "text": [
        "frag: 1 seq: GAUCGAUGAAGACCGCAGCUAAAUGCGCGUCAGAAUGUGAACUGCAGGACACAUGAACAC sim: 0.33 match: >L78065.1/3758-3910 START: 000000030 WINDOW: 060\tGAUCGAUGAAGACCGCAGCUAAAUGCGCGUCAGAAUGUGAACUGCAGGACACAUGAACAC\n"
       ]
      },
      {
       "output_type": "stream",
       "stream": "stdout",
       "text": [
        "frag: 2 seq: CAGAAUGUGAACUGCAGGACACAUGAACACCGACACGUUGAACGAUAUUGCGCAUUGCAC sim: 0.33 match: >L78065.1/3758-3910 START: 000000060 WINDOW: 060\tCAGAAUGUGAACUGCAGGACACAUGAACACCGACACGUUGAACGAUAUUGCGCAUUGCAC\n"
       ]
      },
      {
       "output_type": "stream",
       "stream": "stdout",
       "text": [
        "frag: 3 seq: CGACACGUUGAACGAUAUUGCGCAUUGCACGACUCAGUGCGAUGUACACAUUUUUGAGUG sim: 0.33 match: >L78065.1/3758-3910 START: 000000090 WINDOW: 060\tCGACACGUUGAACGAUAUUGCGCAUUGCACGACUCAGUGCGAUGUACACAUUUUUGAGUG\n"
       ]
      },
      {
       "output_type": "stream",
       "stream": "stdout",
       "text": [
        "frag: 4 seq: AACUUUCAACAACGGAUCUCUUGGUUCUCGCAUCGAUGAAGAACGCAGCGAAAUGCGAUA sim: 0.33 match: >AB011808.1/289-442 START: 000000000 WINDOW: 060\tAACUUUCAACAACGGAUCUCUUGGUUCUCGCAUCGAUGAAGAACGCAGCGAAAUGCGAUA\n"
       ]
      },
      {
       "output_type": "stream",
       "stream": "stdout",
       "text": [
        "frag: 4 seq: AACUUUCAACAACGGAUCUCUUGGUUCUCGCAUCGAUGAAGAACGCAGCGAAAUGCGAUA sim: 0.32 match: >AF319429.1/172-325 START: 000000000 WINDOW: 060\tAACUUUCAACAACGGAUCUCUUGGCUCUCGCAUCGAUGAAGAACGCAGCGAAAUGCGAUA\n"
       ]
      },
      {
       "output_type": "stream",
       "stream": "stdout",
       "text": [
        "frag: 4 seq: AACUUUCAACAACGGAUCUCUUGGUUCUCGCAUCGAUGAAGAACGCAGCGAAAUGCGAUA sim: 0.32 match: >AF422961.1/176-329 START: 000000000 WINDOW: 060\tAACUUUCAACAACGGAUCUCUUGGUUCUGGCAUCGAUGAAGAACGCAGCGAAAUGCGAUA\n"
       ]
      },
      {
       "output_type": "stream",
       "stream": "stdout",
       "text": [
        "frag: 4 seq: AACUUUCAACAACGGAUCUCUUGGUUCUCGCAUCGAUGAAGAACGCAGCGAAAUGCGAUA sim: 0.31 match: >AF444327.1/152-305 START: 000000000 WINDOW: 060\tAACUUUCAACAACGGAUCUCUUGGCUUCCACAUCGAUGAAGAACGCAGCGAAAUGCGAUA\n"
       ]
      },
      {
       "output_type": "stream",
       "stream": "stdout",
       "text": [
        "frag: 4 seq: AACUUUCAACAACGGAUCUCUUGGUUCUCGCAUCGAUGAAGAACGCAGCGAAAUGCGAUA sim: 0.33 match: >U09322.1/209-362 START: 000000000 WINDOW: 060\tAACUUUCAACAACGGAUCUCUUGGUUCUCGCAUCGAUGAAGAACGCAGCGAAUUGCGAUA\n"
       ]
      },
      {
       "output_type": "stream",
       "stream": "stdout",
       "text": [
        "frag: 4 seq: AACUUUCAACAACGGAUCUCUUGGUUCUCGCAUCGAUGAAGAACGCAGCGAAAUGCGAUA sim: 0.33 match: >L07796.1/2-156 START: 000000000 WINDOW: 060\tAACUUUCAACAACGGAUCUCUUGGUUCUCGCAUCGAUGAAGAACGCAGCGAAAUGCCGAU\n"
       ]
      },
      {
       "output_type": "stream",
       "stream": "stdout",
       "text": [
        "frag: 4 seq: AACUUUCAACAACGGAUCUCUUGGUUCUCGCAUCGAUGAAGAACGCAGCGAAAUGCGAUA sim: 0.30 match: >X80346.1/67-220 START: 000000000 WINDOW: 060\tAACUUUCAGCGAUGGAUAUCUUGGCUCUCGCAACGAUGAAGAACGCAGCGAAAUGCGAUA\n"
       ]
      },
      {
       "output_type": "stream",
       "stream": "stdout",
       "text": [
        "frag: 4 seq: AACUUUCAACAACGGAUCUCUUGGUUCUCGCAUCGAUGAAGAACGCAGCGAAAUGCGAUA sim: 0.32 match: >U10409.1/2025-2178 START: 000000000 WINDOW: 060\tAACUUUCAGCAACGGAUCUCUUGGUUCUCGCAUCGAUGAAGAACGCAGCGAAUUGCGAUA\n"
       ]
      },
      {
       "output_type": "stream",
       "stream": "stdout",
       "text": [
        "frag: 4 seq: AACUUUCAACAACGGAUCUCUUGGUUCUCGCAUCGAUGAAGAACGCAGCGAAAUGCGAUA sim: 0.32 match: >Z32848.1/2558-2712 START: 000000000 WINDOW: 060\tAACUUUCAGCAACGGAUCUCUUGGCUCUCGCAUCGAUGAAGAACGCAGCGAAAUGCGAUA\n"
       ]
      },
      {
       "output_type": "stream",
       "stream": "stdout",
       "text": [
        "frag: 4 seq: AACUUUCAACAACGGAUCUCUUGGUUCUCGCAUCGAUGAAGAACGCAGCGAAAUGCGAUA sim: 0.33 match: >AJ229062.1/241-389 START: 000000000 WINDOW: 060\tAACUUUCAACAACGGAUCUCUUGGUUCUCGCAUCGAUGAAGAACGCAGCGAAAUGCGAUA\n"
       ]
      },
      {
       "output_type": "stream",
       "stream": "stdout",
       "text": [
        "frag: 4 seq: AACUUUCAACAACGGAUCUCUUGGUUCUCGCAUCGAUGAAGAACGCAGCGAAAUGCGAUA sim: 0.30 match: >X60705.1/112-265 START: 000000000 WINDOW: 060\tAACUUUUAACAACGGAUCUCUUGGCUCUAGCAUCGAUGAAGAACGCAGCGAAACGCGAUA\n"
       ]
      },
      {
       "output_type": "stream",
       "stream": "stdout",
       "text": [
        "frag: 5 seq: CAUCGAUGAAGAACGCAGCGAAAUGCGAUACGUAAUGUGAAUUGCAGAAUUCCGUGAAUC sim: 0.33 match: >AB011808.1/289-442 START: 000000030 WINDOW: 060\tCAUCGAUGAAGAACGCAGCGAAAUGCGAUACGUAAUGUGAAUUGCAGAAUUCCGUGAAUC\n"
       ]
      },
      {
       "output_type": "stream",
       "stream": "stdout",
       "text": [
        "frag: 5 seq: CAUCGAUGAAGAACGCAGCGAAAUGCGAUACGUAAUGUGAAUUGCAGAAUUCCGUGAAUC sim: 0.31 match: >AB021684.1/14108-14260 START: 000000030 WINDOW: 060\tCAACGAUGAAGAACGCAGCGAAAUGCGAUAUCUAGUGUGAAUUGCAGAAUUCCGCGAAUC\n"
       ]
      },
      {
       "output_type": "stream",
       "stream": "stdout",
       "text": [
        "frag: 5 seq: CAUCGAUGAAGAACGCAGCGAAAUGCGAUACGUAAUGUGAAUUGCAGAAUUCCGUGAAUC sim: 0.31 match: >AF169230.1/225-380 START: 000000030 WINDOW: 060\tCAUCGAUGAAGAACGUAGCGAAAUGCGAUACCUGGUGUGAAUUGCAGAAUCCCGUGAACC\n"
       ]
      },
      {
       "output_type": "stream",
       "stream": "stdout",
       "text": [
        "frag: 5 seq: CAUCGAUGAAGAACGCAGCGAAAUGCGAUACGUAAUGUGAAUUGCAGAAUUCCGUGAAUC sim: 0.31 match: >AF223066.1/5881-6030 START: 000000030 WINDOW: 060\tCAUCGAUGAAGAACGUAGCGAAAUGCGAUACUUGGUGUGAAUUGCAGAAUCCCGUGAACC\n"
       ]
      },
      {
       "output_type": "stream",
       "stream": "stdout",
       "text": [
        "frag: 5 seq: CAUCGAUGAAGAACGCAGCGAAAUGCGAUACGUAAUGUGAAUUGCAGAAUUCCGUGAAUC sim: 0.31 match: >AF307619.1/287-442 START: 000000030 WINDOW: 060\tCAUCGAUGAAGAACGUAGCGAAAUGCGAUACUUGGUGUGAAUUGCAGAAUCCCGUGAACC\n"
       ]
      },
      {
       "output_type": "stream",
       "stream": "stdout",
       "text": [
        "frag: 5 seq: CAUCGAUGAAGAACGCAGCGAAAUGCGAUACGUAAUGUGAAUUGCAGAAUUCCGUGAAUC sim: 0.31 match: >AF319429.1/172-325 START: 000000030 WINDOW: 060\tCAUCGAUGAAGAACGCAGCGAAAUGCGAUAAGUAAUGUGAAUUGCAGAAUUCAGUGAAUC\n"
       ]
      },
      {
       "output_type": "stream",
       "stream": "stdout",
       "text": [
        "frag: 5 seq: CAUCGAUGAAGAACGCAGCGAAAUGCGAUACGUAAUGUGAAUUGCAGAAUUCCGUGAAUC sim: 0.31 match: >AF422961.1/176-329 START: 000000030 WINDOW: 060\tCAUCGAUGAAGAACGCAGCGAAAUGCGAUAAGUAAUGUGAAUUGCAGAAUUCAGUGAAUC\n"
       ]
      },
      {
       "output_type": "stream",
       "stream": "stdout",
       "text": [
        "frag: 5 seq: CAUCGAUGAAGAACGCAGCGAAAUGCGAUACGUAAUGUGAAUUGCAGAAUUCCGUGAAUC sim: 0.31 match: >AF444327.1/152-305 START: 000000030 WINDOW: 060\tCAUCGAUGAAGAACGCAGCGAAAUGCGAUAAGUAAUGUGAAUUGCAGAAUUCAGUGAAUC\n"
       ]
      },
      {
       "output_type": "stream",
       "stream": "stdout",
       "text": [
        "frag: 5 seq: CAUCGAUGAAGAACGCAGCGAAAUGCGAUACGUAAUGUGAAUUGCAGAAUUCCGUGAAUC sim: 0.31 match: >AY029385.1/986-1138 START: 000000030 WINDOW: 060\tCAUCGAUGAAGAACGCAGCAAAAUGCGAUACGUAGUGUGAAUUGCAGAACAUGUGAAUCA\n"
       ]
      },
      {
       "output_type": "stream",
       "stream": "stdout",
       "text": [
        "frag: 5 seq: CAUCGAUGAAGAACGCAGCGAAAUGCGAUACGUAAUGUGAAUUGCAGAAUUCCGUGAAUC sim: 0.31 match: >X90410.1/15-165 START: 000000030 WINDOW: 060\tCAUCGAUGAAGAACGCAGCGAAAUGCGAUACGUAAUGUGAAUUGCAGAACGCGAGUCAUC\n"
       ]
      },
      {
       "output_type": "stream",
       "stream": "stdout",
       "text": [
        "frag: 5 seq: CAUCGAUGAAGAACGCAGCGAAAUGCGAUACGUAAUGUGAAUUGCAGAAUUCCGUGAAUC sim: 0.31 match: >L07796.1/2-156 START: 000000030 WINDOW: 060\tCAUCGAUGAAGAACGCAGCGAAAUGCCGAUACGUAAUAUGAAUUGCAGAUAUCCGUGAAU\n"
       ]
      },
      {
       "output_type": "stream",
       "stream": "stdout",
       "text": [
        "frag: 5 seq: CAUCGAUGAAGAACGCAGCGAAAUGCGAUACGUAAUGUGAAUUGCAGAAUUCCGUGAAUC sim: 0.31 match: >D10840.1/200-355 START: 000000030 WINDOW: 060\tCAUCGAUGAAGAACGUAGCGAAAUGCGAUACUUGGUGUGAAUUGCAGAAUCCCGUGAACC\n"
       ]
      },
      {
       "output_type": "stream",
       "stream": "stdout",
       "text": [
        "frag: 5 seq: CAUCGAUGAAGAACGCAGCGAAAUGCGAUACGUAAUGUGAAUUGCAGAAUUCCGUGAAUC sim: 0.31 match: >X15589.1/256-410 START: 000000030 WINDOW: 060\tCAUCGAUGAAGAACGUAGCGAAAUGCGAUACUUGGUGUGAAUUGCAGAAUCCCGUGAACC\n"
       ]
      },
      {
       "output_type": "stream",
       "stream": "stdout",
       "text": [
        "frag: 5 seq: CAUCGAUGAAGAACGCAGCGAAAUGCGAUACGUAAUGUGAAUUGCAGAAUUCCGUGAAUC sim: 0.31 match: >X80212.2/2104-2256 START: 000000030 WINDOW: 060\tCAACGAUGAAGAACGCAGCGAAAUGCGAUACGUAGUGUGAAUUGCAGAAUUCCGCGAAUC\n"
       ]
      },
      {
       "output_type": "stream",
       "stream": "stdout",
       "text": [
        "frag: 5 seq: CAUCGAUGAAGAACGCAGCGAAAUGCGAUACGUAAUGUGAAUUGCAGAAUUCCGUGAAUC sim: 0.31 match: >X80346.1/67-220 START: 000000030 WINDOW: 060\tCAACGAUGAAGAACGCAGCGAAAUGCGAUACGUAAUGCGAAUUGCAGAAUUCAGUGAAUC\n"
       ]
      },
      {
       "output_type": "stream",
       "stream": "stdout",
       "text": [
        "frag: 5 seq: CAUCGAUGAAGAACGCAGCGAAAUGCGAUACGUAAUGUGAAUUGCAGAAUUCCGUGAAUC sim: 0.30 match: >Y07974.1/75-229 START: 000000030 WINDOW: 060\tCAACGAUGAAGAACGCAGCGAAAUGCGAUACGUAAUGCGAAUUGCAGAAUUCCGCGAGUC\n"
       ]
      },
      {
       "output_type": "stream",
       "stream": "stdout",
       "text": [
        "frag: 5 seq: CAUCGAUGAAGAACGCAGCGAAAUGCGAUACGUAAUGUGAAUUGCAGAAUUCCGUGAAUC sim: 0.30 match: >M14649.1/2015-2169 START: 000000030 WINDOW: 060\tCAACGAUGAAGGGCGCAGCGAAAUGUGAUAAGCAAUGUGAAUUGCAGAAUUCCGUGAACC\n"
       ]
      },
      {
       "output_type": "stream",
       "stream": "stdout",
       "text": [
        "frag: 5 seq: CAUCGAUGAAGAACGCAGCGAAAUGCGAUACGUAAUGUGAAUUGCAGAAUUCCGUGAAUC sim: 0.31 match: >U10409.1/2025-2178 START: 000000030 WINDOW: 060\tCAUCGAUGAAGAACGCAGCGAAUUGCGAUAAGUAAUGUGAAUUGCAGAUUUUCGUGAAUC\n"
       ]
      },
      {
       "output_type": "stream",
       "stream": "stdout",
       "text": [
        "frag: 5 seq: CAUCGAUGAAGAACGCAGCGAAAUGCGAUACGUAAUGUGAAUUGCAGAAUUCCGUGAAUC sim: 0.33 match: >Z32848.1/2558-2712 START: 000000030 WINDOW: 060\tCAUCGAUGAAGAACGCAGCGAAAUGCGAUACGUAAUGUGAAUUGCAGAAUUCCGUGAAUC\n"
       ]
      },
      {
       "output_type": "stream",
       "stream": "stdout",
       "text": [
        "frag: 5 seq: CAUCGAUGAAGAACGCAGCGAAAUGCGAUACGUAAUGUGAAUUGCAGAAUUCCGUGAAUC sim: 0.31 match: >Y11511.1/115-268 START: 000000030 WINDOW: 060\tCAACGAUGAAGAACGCAGCGAAAUGCGAUACGUAAUGCGAAUUGCAGAACUUCGUGAAUC\n"
       ]
      },
      {
       "output_type": "stream",
       "stream": "stdout",
       "text": [
        "frag: 5 seq: CAUCGAUGAAGAACGCAGCGAAAUGCGAUACGUAAUGUGAAUUGCAGAAUUCCGUGAAUC sim: 0.33 match: >AJ229062.1/241-389 START: 000000030 WINDOW: 060\tCAUCGAUGAAGAACGCAGCGAAAUGCGAUACGUAAUGUGAAUUGCAGAAUUCCGUGAAUC\n"
       ]
      },
      {
       "output_type": "stream",
       "stream": "stdout",
       "text": [
        "frag: 5 seq: CAUCGAUGAAGAACGCAGCGAAAUGCGAUACGUAAUGUGAAUUGCAGAAUUCCGUGAAUC sim: 0.30 match: >X60705.1/112-265 START: 000000030 WINDOW: 060\tCAUCGAUGAAGAACGCAGCGAAACGCGAUAUGUAGUGUGAAUUGCAGAAUUCAGUGAAUC\n"
       ]
      },
      {
       "output_type": "stream",
       "stream": "stdout",
       "text": [
        "CPU times: user 5.02 s, sys: 60.1 ms, total: 5.08 s\n",
        "Wall time: 7.79 s\n"
       ]
      }
     ],
     "prompt_number": 7
    }
   ],
   "metadata": {}
  }
 ]
}