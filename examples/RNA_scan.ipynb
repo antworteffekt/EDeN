{
 "metadata": {
  "name": "",
  "signature": "sha256:973926b5dedf357be3fe46d8dffa3e2953d8b3e785468d2ff65d896ccedc41b1"
 },
 "nbformat": 3,
 "nbformat_minor": 0,
 "worksheets": [
  {
   "cells": [
    {
     "cell_type": "markdown",
     "metadata": {},
     "source": [
      "#RNA family characterization\n",
      "\n",
      "Application scenario: we want to characterize RNA family A with respect to RNA family B, in other words, we are interested in identifying regions with their structural contexts that are characteristic of family A but not family B"
     ]
    },
    {
     "cell_type": "code",
     "collapsed": false,
     "input": [
      "%pylab inline\n",
      "import pylab as pl"
     ],
     "language": "python",
     "metadata": {},
     "outputs": [
      {
       "output_type": "stream",
       "stream": "stdout",
       "text": [
        "Populating the interactive namespace from numpy and matplotlib\n"
       ]
      }
     ],
     "prompt_number": 1
    },
    {
     "cell_type": "markdown",
     "metadata": {},
     "source": [
      "given the RFAM id of a family we retrieve it from the RFAM online database\n",
      "composing the correspondent URL"
     ]
    },
    {
     "cell_type": "code",
     "collapsed": false,
     "input": [
      "def rfam_url(family_id):\n",
      "    return 'http://rfam.xfam.org/family/%s/alignment?acc=%s&format=fastau&download=0'%(family_id,family_id)"
     ],
     "language": "python",
     "metadata": {},
     "outputs": [],
     "prompt_number": 8
    },
    {
     "cell_type": "code",
     "collapsed": false,
     "input": [
      "rfam_id = 'RF00002'"
     ],
     "language": "python",
     "metadata": {},
     "outputs": [],
     "prompt_number": 9
    },
    {
     "cell_type": "code",
     "collapsed": false,
     "input": [
      "def compose(url_string):\n",
      "    from eden.modifier import FastaModifier\n",
      "    seqs = FastaModifier.split(input = url_string, input_type = 'url').apply(step = 5, window = 30)\n",
      "    \n",
      "    from eden.converter.FASTA import FASTA\n",
      "    graphs = FASTA.FASTA_to_eden(input = seqs, input_type = 'list')\n",
      "\n",
      "    return graphs"
     ],
     "language": "python",
     "metadata": {},
     "outputs": [],
     "prompt_number": 10
    },
    {
     "cell_type": "code",
     "collapsed": false,
     "input": [
      "def compose_id(url_string):\n",
      "    from eden.modifier import FastaModifier\n",
      "    seqs = FastaModifier.split(input = url_string, input_type = 'url').apply(step = 5, window = 30)\n",
      "    \n",
      "    seqs = FastaModifier.one_line(input = seqs, input_type = 'list').apply()\n",
      "    \n",
      "    return seqs"
     ],
     "language": "python",
     "metadata": {},
     "outputs": [],
     "prompt_number": 11
    },
    {
     "cell_type": "code",
     "collapsed": false,
     "input": [
      "from eden.graph import Vectorizer, OnlineSimilarity\n",
      "def scan(url,g):\n",
      "    similarity_threshold = 0.9\n",
      "    vec = Vectorizer(r=1,d=0)\n",
      "    sim = OnlineSimilarity(g, vec)\n",
      "    scan_graphs = compose(url)\n",
      "    scan_ids = compose_id(url)\n",
      "    return [(s,id) for s,id in it.izip(sim.predict(scan_graphs), scan_ids) if s > similarity_threshold]"
     ],
     "language": "python",
     "metadata": {},
     "outputs": [],
     "prompt_number": 14
    },
    {
     "cell_type": "code",
     "collapsed": false,
     "input": [
      "%%time\n",
      "graphs = compose(rfam_url(rfam_id))\n",
      "\n",
      "id = 1\n",
      "start = id\n",
      "stop = id+2\n",
      "import itertools as it\n",
      "for graph in it.islice(graphs,start,stop):\n",
      "    predictions = scan(rfam_url(rfam_id),graph)\n",
      "    print 'Seq: ', id\n",
      "    for s,h in predictions:\n",
      "        print 'sim: %0.2f %s' % (s,h)"
     ],
     "language": "python",
     "metadata": {},
     "outputs": [
      {
       "output_type": "stream",
       "stream": "stdout",
       "text": [
        "Seq:  1\n",
        "sim: 0.95 >L78065.1/3758-3910 START: 00000 WINDOW: 00030\tAACCCUAGGCAGGGGAUCACUCGGCUCAUG\n",
        "sim: 1.00 >L78065.1/3758-3910 START: 00005 WINDOW: 00030\tUAGGCAGGGGAUCACUCGGCUCAUGGAUCG\n",
        "sim: 0.95 >L78065.1/3758-3910 START: 00010 WINDOW: 00030\tAGGGGAUCACUCGGCUCAUGGAUCGAUGAA\n",
        "sim: 0.91 >X99212.1/685-824 START: 00005 WINDOW: 00030\tUAGACAGGGGAUCACUUGGCUCAUGGGUCG\n",
        "Seq: "
       ]
      },
      {
       "output_type": "stream",
       "stream": "stdout",
       "text": [
        " 1\n",
        "sim: 0.92 >L78065.1/3758-3910 START: 00000 WINDOW: 00030\tAACCCUAGGCAGGGGAUCACUCGGCUCAUG\n",
        "sim: 0.95 >L78065.1/3758-3910 START: 00005 WINDOW: 00030\tUAGGCAGGGGAUCACUCGGCUCAUGGAUCG\n",
        "sim: 1.00 >L78065.1/3758-3910 START: 00010 WINDOW: 00030\tAGGGGAUCACUCGGCUCAUGGAUCGAUGAA\n",
        "sim: 0.92 >L78065.1/3758-3910 START: 00015 WINDOW: 00030\tAUCACUCGGCUCAUGGAUCGAUGAAGACCG\n",
        "sim: 0.94 >X99212.1/685-824 START: 00010 WINDOW: 00030\tAGGGGAUCACUUGGCUCAUGGGUCGAUGAA\n",
        "sim: 0.91 >M21017.1/2722-2844 START: 00010 WINDOW: 00030\tGGUGGAUCACUCGGCUCAUGGGUCGAUGAA\n",
        "CPU times: user 16.9 s, sys: 137 ms, total: 17 s\n",
        "Wall time: 23.8 s\n"
       ]
      }
     ],
     "prompt_number": 15
    },
    {
     "cell_type": "code",
     "collapsed": false,
     "input": [],
     "language": "python",
     "metadata": {},
     "outputs": []
    }
   ],
   "metadata": {}
  }
 ]
}