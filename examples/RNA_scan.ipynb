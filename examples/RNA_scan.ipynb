{
 "metadata": {
  "name": "",
  "signature": "sha256:2f4c678c5bfd1297c9537b74f5fdc0f32afaf00ed527882e49878490347f9852"
 },
 "nbformat": 3,
 "nbformat_minor": 0,
 "worksheets": [
  {
   "cells": [
    {
     "cell_type": "markdown",
     "metadata": {},
     "source": [
      "#RNA scan\n",
      "\n",
      "Application scenario: "
     ]
    },
    {
     "cell_type": "code",
     "collapsed": false,
     "input": [
      "%pylab inline\n",
      "import pylab as pl"
     ],
     "language": "python",
     "metadata": {},
     "outputs": [
      {
       "output_type": "stream",
       "stream": "stdout",
       "text": [
        "Populating the interactive namespace from numpy and matplotlib\n"
       ]
      }
     ],
     "prompt_number": 1
    },
    {
     "cell_type": "markdown",
     "metadata": {},
     "source": [
      "given the RFAM id of a family we retrieve it from the RFAM online database\n",
      "composing the correspondent URL"
     ]
    },
    {
     "cell_type": "code",
     "collapsed": false,
     "input": [
      "def rfam_url(family_id):\n",
      "    return 'http://rfam.xfam.org/family/%s/alignment?acc=%s&format=fastau&download=0'%(family_id,family_id)"
     ],
     "language": "python",
     "metadata": {},
     "outputs": [],
     "prompt_number": 2
    },
    {
     "cell_type": "code",
     "collapsed": false,
     "input": [
      "rfam_id = 'RF00002'\n",
      "print rfam_url(rfam_id)"
     ],
     "language": "python",
     "metadata": {},
     "outputs": [
      {
       "output_type": "stream",
       "stream": "stdout",
       "text": [
        "http://rfam.xfam.org/family/RF00002/alignment?acc=RF00002&format=fastau&download=0\n"
       ]
      }
     ],
     "prompt_number": 3
    },
    {
     "cell_type": "code",
     "collapsed": false,
     "input": [
      "def compose(input = None, input_type = None, step = 1, window = 100):\n",
      "    from eden.modifier.fasta import fasta_to_fasta, split_modifier\n",
      "    seqs = fasta_to_fasta(input = input, input_type = input_type, modifier = split_modifier, step = step, window = window)\n",
      "    \n",
      "    from eden.converter.fasta import fasta_to_eden\n",
      "    graphs = fasta_to_eden(input = seqs, input_type = 'list')\n",
      "\n",
      "    return graphs"
     ],
     "language": "python",
     "metadata": {},
     "outputs": [],
     "prompt_number": 4
    },
    {
     "cell_type": "code",
     "collapsed": false,
     "input": [
      "def compose_id(input = None, input_type = None, step = 1, window = 100):\n",
      "    from eden.modifier.fasta import fasta_to_fasta, split_modifier, one_line_modifier\n",
      "    seqs = fasta_to_fasta(input = input, input_type = input_type, modifier = split_modifier, step = step, window = window)\n",
      "    seqs = fasta_to_fasta(input = seqs, input_type = 'list', modifier = one_line_modifier)\n",
      "    \n",
      "    return seqs"
     ],
     "language": "python",
     "metadata": {},
     "outputs": [],
     "prompt_number": 5
    },
    {
     "cell_type": "code",
     "collapsed": false,
     "input": [
      "from eden.graph import Vectorizer, OnlineSimilarity\n",
      "\n",
      "def scan(input = None, input_type = None, ref_graph = None, step = 1, window = 100, radius = 1, distance = 0, similarity_threshold = 0.9):\n",
      "    vec = Vectorizer(r = radius,d = distance, min_r = radius)\n",
      "    sim = OnlineSimilarity(ref_graph = ref_graph, vectorizer = vec)\n",
      "    scan_graphs = compose(input = input, input_type = input_type, step = step, window = window)\n",
      "    scan_ids = compose_id(input = input, input_type = input_type, step = step, window = window)\n",
      "    for s,id in it.izip(sim.predict(scan_graphs), scan_ids):\n",
      "        if s >= similarity_threshold:\n",
      "            yield (s,id)"
     ],
     "language": "python",
     "metadata": {},
     "outputs": [],
     "prompt_number": 6
    },
    {
     "cell_type": "code",
     "collapsed": false,
     "input": [
      "%%time\n",
      "import sys\n",
      "\n",
      "step = 1\n",
      "window = 50\n",
      "\n",
      "graphs = compose(rfam_url(rfam_id), input_type = 'url', step = step, window = window)\n",
      "\n",
      "id = 0\n",
      "start = id\n",
      "stop = id+1\n",
      "import itertools as it\n",
      "count = 0\n",
      "for ref_graph in it.islice(graphs,start,stop):\n",
      "    count += 1\n",
      "    for s,win_id in scan(input = rfam_url(rfam_id), input_type = 'url', \n",
      "                         ref_graph = ref_graph, step = step, window = window, \n",
      "                         radius = 1, distance = 0, \n",
      "                         similarity_threshold = 0.85):\n",
      "        res = 'frag: %d sim: %0.2f match: %s' % (count, s,win_id)\n",
      "        print res\n",
      "        sys.stdout.flush()"
     ],
     "language": "python",
     "metadata": {},
     "outputs": [
      {
       "output_type": "stream",
       "stream": "stdout",
       "text": [
        "frag: 1 sim: 1.00 match: >L78065.1/3758-3910 START: 000000000 WINDOW: 050\tAACCCUAGGCAGGGGAUCACUCGGCUCAUGGAUCGAUGAAGACCGCAGCU\n"
       ]
      },
      {
       "output_type": "stream",
       "stream": "stdout",
       "text": [
        "frag: 1 sim: 0.98 match: >L78065.1/3758-3910 START: 000000001 WINDOW: 050\tACCCUAGGCAGGGGAUCACUCGGCUCAUGGAUCGAUGAAGACCGCAGCUA\n"
       ]
      },
      {
       "output_type": "stream",
       "stream": "stdout",
       "text": [
        "frag: 1 sim: 0.98 match: >L78065.1/3758-3910 START: 000000002 WINDOW: 050\tCCCUAGGCAGGGGAUCACUCGGCUCAUGGAUCGAUGAAGACCGCAGCUAA\n"
       ]
      },
      {
       "output_type": "stream",
       "stream": "stdout",
       "text": [
        "frag: 1 sim: 0.97 match: >L78065.1/3758-3910 START: 000000003 WINDOW: 050\tCCUAGGCAGGGGAUCACUCGGCUCAUGGAUCGAUGAAGACCGCAGCUAAA\n"
       ]
      },
      {
       "output_type": "stream",
       "stream": "stdout",
       "text": [
        "frag: 1 sim: 0.95 match: >L78065.1/3758-3910 START: 000000004 WINDOW: 050\tCUAGGCAGGGGAUCACUCGGCUCAUGGAUCGAUGAAGACCGCAGCUAAAU\n"
       ]
      },
      {
       "output_type": "stream",
       "stream": "stdout",
       "text": [
        "frag: 1 sim: 0.94 match: >L78065.1/3758-3910 START: 000000005 WINDOW: 050\tUAGGCAGGGGAUCACUCGGCUCAUGGAUCGAUGAAGACCGCAGCUAAAUG\n"
       ]
      },
      {
       "output_type": "stream",
       "stream": "stdout",
       "text": [
        "frag: 1 sim: 0.93 match: >L78065.1/3758-3910 START: 000000006 WINDOW: 050\tAGGCAGGGGAUCACUCGGCUCAUGGAUCGAUGAAGACCGCAGCUAAAUGC\n"
       ]
      },
      {
       "output_type": "stream",
       "stream": "stdout",
       "text": [
        "frag: 1 sim: 0.93 match: >L78065.1/3758-3910 START: 000000007 WINDOW: 050\tGGCAGGGGAUCACUCGGCUCAUGGAUCGAUGAAGACCGCAGCUAAAUGCG\n"
       ]
      },
      {
       "output_type": "stream",
       "stream": "stdout",
       "text": [
        "frag: 1 sim: 0.92 match: >L78065.1/3758-3910 START: 000000008 WINDOW: 050\tGCAGGGGAUCACUCGGCUCAUGGAUCGAUGAAGACCGCAGCUAAAUGCGC\n"
       ]
      },
      {
       "output_type": "stream",
       "stream": "stdout",
       "text": [
        "frag: 1 sim: 0.90 match: >L78065.1/3758-3910 START: 000000009 WINDOW: 050\tCAGGGGAUCACUCGGCUCAUGGAUCGAUGAAGACCGCAGCUAAAUGCGCG\n"
       ]
      },
      {
       "output_type": "stream",
       "stream": "stdout",
       "text": [
        "frag: 1 sim: 0.88 match: >L78065.1/3758-3910 START: 000000010 WINDOW: 050\tAGGGGAUCACUCGGCUCAUGGAUCGAUGAAGACCGCAGCUAAAUGCGCGU\n"
       ]
      },
      {
       "output_type": "stream",
       "stream": "stdout",
       "text": [
        "frag: 1 sim: 0.86 match: >L78065.1/3758-3910 START: 000000011 WINDOW: 050\tGGGGAUCACUCGGCUCAUGGAUCGAUGAAGACCGCAGCUAAAUGCGCGUC\n"
       ]
      },
      {
       "output_type": "stream",
       "stream": "stdout",
       "text": [
        "frag: 1 sim: 0.86 match: >L78065.1/3758-3910 START: 000000012 WINDOW: 050\tGGGAUCACUCGGCUCAUGGAUCGAUGAAGACCGCAGCUAAAUGCGCGUCA\n"
       ]
      },
      {
       "output_type": "stream",
       "stream": "stdout",
       "text": [
        "frag: 1 sim: 0.85 match: >L78065.1/3758-3910 START: 000000013 WINDOW: 050\tGGAUCACUCGGCUCAUGGAUCGAUGAAGACCGCAGCUAAAUGCGCGUCAG\n"
       ]
      },
      {
       "output_type": "stream",
       "stream": "stdout",
       "text": [
        "frag: 1 sim: 0.88 match: >X99212.1/685-824 START: 000000000 WINDOW: 050\tAACCCUAGACAGGGGAUCACUUGGCUCAUGGGUCGAUGAAGACCGCAGCA\n"
       ]
      },
      {
       "output_type": "stream",
       "stream": "stdout",
       "text": [
        "frag: 1 sim: 0.88 match: >X99212.1/685-824 START: 000000001 WINDOW: 050\tACCCUAGACAGGGGAUCACUUGGCUCAUGGGUCGAUGAAGACCGCAGCAA\n"
       ]
      },
      {
       "output_type": "stream",
       "stream": "stdout",
       "text": [
        "frag: 1 sim: 0.87 match: >X99212.1/685-824 START: 000000002 WINDOW: 050\tCCCUAGACAGGGGAUCACUUGGCUCAUGGGUCGAUGAAGACCGCAGCAAA\n"
       ]
      },
      {
       "output_type": "stream",
       "stream": "stdout",
       "text": [
        "frag: 1 sim: 0.85 match: >X99212.1/685-824 START: 000000003 WINDOW: 050\tCCUAGACAGGGGAUCACUUGGCUCAUGGGUCGAUGAAGACCGCAGCAAAC\n"
       ]
      },
      {
       "output_type": "stream",
       "stream": "stdout",
       "text": [
        "frag: 1 sim: 0.86 match: >X99212.1/685-824 START: 000000004 WINDOW: 050\tCUAGACAGGGGAUCACUUGGCUCAUGGGUCGAUGAAGACCGCAGCAAACU\n"
       ]
      },
      {
       "output_type": "stream",
       "stream": "stdout",
       "text": [
        "CPU times: user 37.5 s, sys: 287 ms, total: 37.8 s\n",
        "Wall time: 38.7 s\n"
       ]
      }
     ],
     "prompt_number": 8
    }
   ],
   "metadata": {}
  }
 ]
}