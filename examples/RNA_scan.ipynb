{
 "metadata": {
  "name": "",
  "signature": "sha256:a263d4714c68f9efca7e5b5cb0b47aa65d5c322779d4c9129edbb653944f8eb7"
 },
 "nbformat": 3,
 "nbformat_minor": 0,
 "worksheets": [
  {
   "cells": [
    {
     "cell_type": "markdown",
     "metadata": {},
     "source": [
      "#RNA scan\n",
      "\n",
      "Application scenario: "
     ]
    },
    {
     "cell_type": "code",
     "collapsed": false,
     "input": [
      "%pylab inline\n",
      "import pylab as pl"
     ],
     "language": "python",
     "metadata": {},
     "outputs": [
      {
       "output_type": "stream",
       "stream": "stdout",
       "text": [
        "Populating the interactive namespace from numpy and matplotlib\n"
       ]
      }
     ],
     "prompt_number": 1
    },
    {
     "cell_type": "markdown",
     "metadata": {},
     "source": [
      "given the RFAM id of a family we retrieve it from the RFAM online database\n",
      "composing the correspondent URL"
     ]
    },
    {
     "cell_type": "code",
     "collapsed": false,
     "input": [
      "def rfam_url(family_id):\n",
      "    return 'http://rfam.xfam.org/family/%s/alignment?acc=%s&format=fastau&download=0'%(family_id,family_id)"
     ],
     "language": "python",
     "metadata": {},
     "outputs": [],
     "prompt_number": 2
    },
    {
     "cell_type": "code",
     "collapsed": false,
     "input": [
      "rfam_id = 'RF00002'\n",
      "print rfam_url(rfam_id)"
     ],
     "language": "python",
     "metadata": {},
     "outputs": [
      {
       "output_type": "stream",
       "stream": "stdout",
       "text": [
        "http://rfam.xfam.org/family/RF00002/alignment?acc=RF00002&format=fastau&download=0\n"
       ]
      }
     ],
     "prompt_number": 3
    },
    {
     "cell_type": "code",
     "collapsed": false,
     "input": [
      "def compose(input, step = 1, window = 100):\n",
      "    from eden.modifier.fasta import fasta_to_fasta, split_modifier, one_line_modifier\n",
      "    seqs = fasta_to_fasta(input, modifier = split_modifier, step = step, window = window)\n",
      "    seqs = fasta_to_fasta(seqs, modifier = one_line_modifier, sequence_only = True)\n",
      "    return seqs"
     ],
     "language": "python",
     "metadata": {},
     "outputs": [],
     "prompt_number": 16
    },
    {
     "cell_type": "code",
     "collapsed": false,
     "input": [
      "def compose(input, step = 1, window = 100):\n",
      "    from eden.modifier.fasta import fasta_to_fasta, split_modifier, one_line_modifier\n",
      "    seqs = fasta_to_fasta(input, modifier = split_modifier, step = step, window = window)\n",
      "    from eden.converter.rna.rnashapes import rnashapes_to_eden\n",
      "    graphs = rnashapes_to_eden(seqs, shape_type=5, energy_range=35, max_num=3)\n",
      "    return seqs"
     ],
     "language": "python",
     "metadata": {},
     "outputs": [],
     "prompt_number": 21
    },
    {
     "cell_type": "code",
     "collapsed": false,
     "input": [
      "def compose_id(input, step = 1, window = 100):\n",
      "    from eden.modifier.fasta import fasta_to_fasta, split_modifier, one_line_modifier\n",
      "    seqs = fasta_to_fasta(input, modifier = split_modifier, step = step, window = window)\n",
      "    seqs = fasta_to_fasta(seqs, modifier = one_line_modifier, one_line = True)\n",
      "    return seqs"
     ],
     "language": "python",
     "metadata": {},
     "outputs": [],
     "prompt_number": 22
    },
    {
     "cell_type": "code",
     "collapsed": false,
     "input": [
      "from eden.path import Vectorizer, OnlineSimilarity\n",
      "\n",
      "def scan(input, ref_instance = None, step = 1, window = 100, radius = 1, min_radius = 0, distance = 0, min_distance = 0,  similarity_threshold = 0.9):\n",
      "    vec = Vectorizer(r = radius, d = distance, min_r = min_radius, min_d = min_distance)\n",
      "    sim = OnlineSimilarity(ref_instance = ref_instance, vectorizer = vec)\n",
      "    scan_seqs = compose(input, step = step, window = window)\n",
      "    scan_ids = compose_id(input, step = step, window = window)\n",
      "    for similarity,fasta_header in it.izip(sim.predict(scan_seqs), scan_ids):\n",
      "        if similarity >= similarity_threshold:\n",
      "            yield (similarity,fasta_header)"
     ],
     "language": "python",
     "metadata": {},
     "outputs": [],
     "prompt_number": 23
    },
    {
     "cell_type": "code",
     "collapsed": false,
     "input": [
      "%%time\n",
      "import sys\n",
      "\n",
      "step = 30\n",
      "window = 60\n",
      "\n",
      "seqs = compose(rfam_url(rfam_id), step = step, window = window)\n",
      "\n",
      "id = 1\n",
      "start = id\n",
      "stop = id+5\n",
      "import itertools as it\n",
      "count = 0\n",
      "for ref_instance in it.islice(seqs,start,stop):\n",
      "    count += 1\n",
      "    for score, window_id in scan(rfam_url(rfam_id),\n",
      "                         ref_instance = ref_instance, step = step, window = window, \n",
      "                         radius = 2, min_radius = 2,\n",
      "                         distance = 3, min_distance = 2, \n",
      "                         similarity_threshold = 0.3):\n",
      "        res = 'frag: %d seq: %s sim: %0.2f match: %s' % (count, ref_instance, score, window_id)\n",
      "        print res\n",
      "        sys.stdout.flush()"
     ],
     "language": "python",
     "metadata": {},
     "outputs": [
      {
       "output_type": "stream",
       "stream": "stdout",
       "text": [
        "frag: 1 seq: AACCCUAGGCAGGGGAUCACUCGGCUCAUGGAUCGAUGAAGACCGCAGCUAAAUGCGCGU sim: 0.33 match: >L78065.1/3758-3910 START: 000000030 WINDOW: 060\tGAUCGAUGAAGACCGCAGCUAAAUGCGCGUCAGAAUGUGAACUGCAGGACACAUGAACAC\n"
       ]
      },
      {
       "output_type": "stream",
       "stream": "stdout",
       "text": [
        "frag: 2 seq: >L78065.1/3758-3910 START: 000000030 WINDOW: 060 sim: 0.32 match: >L78065.1/3758-3910 START: 000000000 WINDOW: 060\tAACCCUAGGCAGGGGAUCACUCGGCUCAUGGAUCGAUGAAGACCGCAGCUAAAUGCGCGU\n"
       ]
      },
      {
       "output_type": "stream",
       "stream": "stdout",
       "text": [
        "frag: 2 seq: >L78065.1/3758-3910 START: 000000030 WINDOW: 060 sim: 0.33 match: >L78065.1/3758-3910 START: 000000060 WINDOW: 060\tCAGAAUGUGAACUGCAGGACACAUGAACACCGACACGUUGAACGAUAUUGCGCAUUGCAC\n"
       ]
      },
      {
       "output_type": "stream",
       "stream": "stdout",
       "text": [
        "frag: 2 seq: >L78065.1/3758-3910 START: 000000030 WINDOW: 060 sim: 0.32 match: >AB011808.1/289-442 START: 000000000 WINDOW: 060\tAACUUUCAACAACGGAUCUCUUGGUUCUCGCAUCGAUGAAGAACGCAGCGAAAUGCGAUA\n"
       ]
      },
      {
       "output_type": "stream",
       "stream": "stdout",
       "text": [
        "frag: 2 seq: >L78065.1/3758-3910 START: 000000030 WINDOW: 060 sim: 0.32 match: >AB011808.1/289-442 START: 000000060 WINDOW: 060\tCGUAAUGUGAAUUGCAGAAUUCCGUGAAUCAUCGAAUCUUUGAACGCACAUUGCGCCCCU\n"
       ]
      },
      {
       "output_type": "stream",
       "stream": "stdout",
       "text": [
        "frag: 3 seq: GAUCGAUGAAGACCGCAGCUAAAUGCGCGUCAGAAUGUGAACUGCAGGACACAUGAACAC sim: 0.33 match: >L78065.1/3758-3910 START: 000000090 WINDOW: 060\tCGACACGUUGAACGAUAUUGCGCAUUGCACGACUCAGUGCGAUGUACACAUUUUUGAGUG\n"
       ]
      },
      {
       "output_type": "stream",
       "stream": "stdout",
       "text": [
        "frag: 4 seq: >L78065.1/3758-3910 START: 000000060 WINDOW: 060 sim: 0.32 match: >L78065.1/3758-3910 START: 000000000 WINDOW: 060\tAACCCUAGGCAGGGGAUCACUCGGCUCAUGGAUCGAUGAAGACCGCAGCUAAAUGCGCGU\n"
       ]
      },
      {
       "output_type": "stream",
       "stream": "stdout",
       "text": [
        "frag: 4 seq: >L78065.1/3758-3910 START: 000000060 WINDOW: 060 sim: 0.32 match: >L78065.1/3758-3910 START: 000000060 WINDOW: 060\tCAGAAUGUGAACUGCAGGACACAUGAACACCGACACGUUGAACGAUAUUGCGCAUUGCAC\n"
       ]
      },
      {
       "output_type": "stream",
       "stream": "stdout",
       "text": [
        "frag: 4 seq: >L78065.1/3758-3910 START: 000000060 WINDOW: 060 sim: 0.33 match: >AB011808.1/289-442 START: 000000000 WINDOW: 060\tAACUUUCAACAACGGAUCUCUUGGUUCUCGCAUCGAUGAAGAACGCAGCGAAAUGCGAUA\n"
       ]
      },
      {
       "output_type": "stream",
       "stream": "stdout",
       "text": [
        "frag: 4 seq: >L78065.1/3758-3910 START: 000000060 WINDOW: 060 sim: 0.32 match: >AB011808.1/289-442 START: 000000060 WINDOW: 060\tCGUAAUGUGAAUUGCAGAAUUCCGUGAAUCAUCGAAUCUUUGAACGCACAUUGCGCCCCU\n"
       ]
      },
      {
       "output_type": "stream",
       "stream": "stdout",
       "text": [
        "frag: 5 seq: CAGAAUGUGAACUGCAGGACACAUGAACACCGACACGUUGAACGAUAUUGCGCAUUGCAC sim: 0.33 match: >AB011808.1/289-442 START: 000000030 WINDOW: 060\tCAUCGAUGAAGAACGCAGCGAAAUGCGAUACGUAAUGUGAAUUGCAGAAUUCCGUGAAUC\n"
       ]
      },
      {
       "output_type": "stream",
       "stream": "stdout",
       "text": [
        "CPU times: user 4.85 s, sys: 61.8 ms, total: 4.91 s\n",
        "Wall time: 9.43 s\n"
       ]
      }
     ],
     "prompt_number": 24
    },
    {
     "cell_type": "code",
     "collapsed": false,
     "input": [],
     "language": "python",
     "metadata": {},
     "outputs": []
    }
   ],
   "metadata": {}
  }
 ]
}