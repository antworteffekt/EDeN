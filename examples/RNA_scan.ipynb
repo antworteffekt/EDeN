{
 "metadata": {
  "name": "",
  "signature": "sha256:6c65a03a14b48616bc3d0c5f0fd49888dafc433238b8cb49925b8e0f0e79f8bf"
 },
 "nbformat": 3,
 "nbformat_minor": 0,
 "worksheets": [
  {
   "cells": [
    {
     "cell_type": "markdown",
     "metadata": {},
     "source": [
      "#RNA scan\n",
      "\n",
      "Application scenario: "
     ]
    },
    {
     "cell_type": "code",
     "collapsed": false,
     "input": [
      "%pylab inline\n",
      "import pylab as pl"
     ],
     "language": "python",
     "metadata": {},
     "outputs": [
      {
       "output_type": "stream",
       "stream": "stdout",
       "text": [
        "Populating the interactive namespace from numpy and matplotlib\n"
       ]
      }
     ],
     "prompt_number": 1
    },
    {
     "cell_type": "markdown",
     "metadata": {},
     "source": [
      "given the RFAM id of a family we retrieve it from the RFAM online database\n",
      "composing the correspondent URL"
     ]
    },
    {
     "cell_type": "code",
     "collapsed": false,
     "input": [
      "def rfam_url(family_id):\n",
      "    return 'http://rfam.xfam.org/family/%s/alignment?acc=%s&format=fastau&download=0'%(family_id,family_id)"
     ],
     "language": "python",
     "metadata": {},
     "outputs": [],
     "prompt_number": 2
    },
    {
     "cell_type": "code",
     "collapsed": false,
     "input": [
      "rfam_id = 'RF00002'\n",
      "print rfam_url(rfam_id)"
     ],
     "language": "python",
     "metadata": {},
     "outputs": [
      {
       "output_type": "stream",
       "stream": "stdout",
       "text": [
        "http://rfam.xfam.org/family/RF00002/alignment?acc=RF00002&format=fastau&download=0\n"
       ]
      }
     ],
     "prompt_number": 3
    },
    {
     "cell_type": "code",
     "collapsed": false,
     "input": [
      "def compose(input, step = 1, window = 100):\n",
      "    from eden.modifier.fasta import fasta_to_fasta, split_modifier, one_line_modifier\n",
      "    seqs = fasta_to_fasta(input, modifier = split_modifier, step = step, window = window)\n",
      "    seqs = fasta_to_fasta(input, modifier = one_line_modifier, sequence_only = True)\n",
      "    return seqs"
     ],
     "language": "python",
     "metadata": {},
     "outputs": [],
     "prompt_number": 4
    },
    {
     "cell_type": "code",
     "collapsed": false,
     "input": [
      "def compose_id(input, step = 1, window = 100):\n",
      "    from eden.modifier.fasta import fasta_to_fasta, split_modifier, one_line_modifier\n",
      "    seqs = fasta_to_fasta(input, modifier = split_modifier, step = step, window = window)\n",
      "    seqs = fasta_to_fasta(input, modifier = one_line_modifier, one_line = True)\n",
      "    return seqs"
     ],
     "language": "python",
     "metadata": {},
     "outputs": [],
     "prompt_number": 5
    },
    {
     "cell_type": "code",
     "collapsed": false,
     "input": [
      "from eden.path import Vectorizer, OnlineSimilarity\n",
      "\n",
      "def scan(input, ref_instance = None, step = 1, window = 100, radius = 1, min_radius = 0, distance = 0, min_distance = 0,  similarity_threshold = 0.9):\n",
      "    vec = Vectorizer(r = radius, d = distance, min_r = min_radius, min_d = min_distance)\n",
      "    sim = OnlineSimilarity(ref_instance = ref_instance, vectorizer = vec)\n",
      "    scan_seqs = compose(input, step = step, window = window)\n",
      "    scan_ids = compose_id(input, step = step, window = window)\n",
      "    for s,id in it.izip(sim.predict(scan_seqs), scan_ids):\n",
      "        if s >= similarity_threshold:\n",
      "            yield (s,id)"
     ],
     "language": "python",
     "metadata": {},
     "outputs": [],
     "prompt_number": 8
    },
    {
     "cell_type": "code",
     "collapsed": false,
     "input": [
      "%%time\n",
      "import sys\n",
      "\n",
      "step = 30\n",
      "window = 60\n",
      "\n",
      "seqs = compose(rfam_url(rfam_id), step = step, window = window)\n",
      "\n",
      "id = 1\n",
      "start = id\n",
      "stop = id+1\n",
      "import itertools as it\n",
      "count = 0\n",
      "for ref_instance in it.islice(seqs,start,stop):\n",
      "    count += 1\n",
      "    for s,win_id in scan(rfam_url(rfam_id),\n",
      "                         ref_instance = ref_instance, step = step, window = window, \n",
      "                         radius = 2, min_radius = 2,\n",
      "                         distance = 3, min_distance = 2, \n",
      "                         similarity_threshold = 0.3):\n",
      "        res = 'frag: %d seq: %s sim: %0.2f match: %s' % (count, ref_instance, s, win_id)\n",
      "        print res\n",
      "        sys.stdout.flush()"
     ],
     "language": "python",
     "metadata": {},
     "outputs": [
      {
       "output_type": "stream",
       "stream": "stdout",
       "text": [
        "frag: 1 seq: AACUUUCAACAACGGAUCUCUUGGUUCUCGCAUCGAUGAAGAACGCAGCGAAAUGCGAUACGUAAUGUGAAUUGCAGAAUUCCGUGAAUCAUCGAAUCUUUGAACGCACAUUGCGCCCCUUGGUAUUCCAGGGGGCAUGCCUGUUUGAGCGUCA sim: 0.33 match: >AB011808.1/289-442\tAACUUUCAACAACGGAUCUCUUGGUUCUCGCAUCGAUGAAGAACGCAGCGAAAUGCGAUACGUAAUGUGAAUUGCAGAAUUCCGUGAAUCAUCGAAUCUUUGAACGCACAUUGCGCCCCUUGGUAUUCCAGGGGGCAUGCCUGUUUGAGCGUCA\n"
       ]
      },
      {
       "output_type": "stream",
       "stream": "stdout",
       "text": [
        "frag: 1 seq: AACUUUCAACAACGGAUCUCUUGGUUCUCGCAUCGAUGAAGAACGCAGCGAAAUGCGAUACGUAAUGUGAAUUGCAGAAUUCCGUGAAUCAUCGAAUCUUUGAACGCACAUUGCGCCCCUUGGUAUUCCAGGGGGCAUGCCUGUUUGAGCGUCA sim: 0.30 match: >AF306774.1/466-634\tAACGUGUCGCGAUGGAUGACUUGGCUUCCUAUUUCGUUGAAGAACGCAGCAAAGUGCGAUAAGUGGUAUCAAUUGCAGAAUCAUUUCAUUGCCCAAUCUUUGAACGCAAACGGCGCAUGGGAGAAGCUCUCUCGAGCCAUCCCCGUGCAUGCCACAUUUCUCAGUGUCG\n"
       ]
      },
      {
       "output_type": "stream",
       "stream": "stdout",
       "text": [
        "frag: 1 seq: AACUUUCAACAACGGAUCUCUUGGUUCUCGCAUCGAUGAAGAACGCAGCGAAAUGCGAUACGUAAUGUGAAUUGCAGAAUUCCGUGAAUCAUCGAAUCUUUGAACGCACAUUGCGCCCCUUGGUAUUCCAGGGGGCAUGCCUGUUUGAGCGUCA sim: 0.31 match: >AF319429.1/172-325\tAACUUUCAACAACGGAUCUCUUGGCUCUCGCAUCGAUGAAGAACGCAGCGAAAUGCGAUAAGUAAUGUGAAUUGCAGAAUUCAGUGAAUCAUCGAAUCUUUGAACGCACCUUGCGCUCCUUGGUAUUCCGAGGAGCAUGCCUGUUUGAGUGUCA\n"
       ]
      },
      {
       "output_type": "stream",
       "stream": "stdout",
       "text": [
        "frag: 1 seq: AACUUUCAACAACGGAUCUCUUGGUUCUCGCAUCGAUGAAGAACGCAGCGAAAUGCGAUACGUAAUGUGAAUUGCAGAAUUCCGUGAAUCAUCGAAUCUUUGAACGCACAUUGCGCCCCUUGGUAUUCCAGGGGGCAUGCCUGUUUGAGCGUCA sim: 0.32 match: >AF422961.1/176-329\tAACUUUCAACAACGGAUCUCUUGGUUCUGGCAUCGAUGAAGAACGCAGCGAAAUGCGAUAAGUAAUGUGAAUUGCAGAAUUCAGUGAAUCAUCGAAUCUUUGAACGCACAUUGCGCCCGCCGGUAUUCCGGCGGGCAUGCCUGUUCGAGCGUCA\n"
       ]
      },
      {
       "output_type": "stream",
       "stream": "stdout",
       "text": [
        "frag: 1 seq: AACUUUCAACAACGGAUCUCUUGGUUCUCGCAUCGAUGAAGAACGCAGCGAAAUGCGAUACGUAAUGUGAAUUGCAGAAUUCCGUGAAUCAUCGAAUCUUUGAACGCACAUUGCGCCCCUUGGUAUUCCAGGGGGCAUGCCUGUUUGAGCGUCA sim: 0.31 match: >AF444327.1/152-305\tAACUUUCAACAACGGAUCUCUUGGCUUCCACAUCGAUGAAGAACGCAGCGAAAUGCGAUAAGUAAUGUGAAUUGCAGAAUUCAGUGAAUCAUCGAGUCUUUGAACGCAACUUGCGCCCUUUGGUAUUCCGAAGGGCAUGCCUGUUUGAGAGUCA\n"
       ]
      },
      {
       "output_type": "stream",
       "stream": "stdout",
       "text": [
        "frag: 1 seq: AACUUUCAACAACGGAUCUCUUGGUUCUCGCAUCGAUGAAGAACGCAGCGAAAUGCGAUACGUAAUGUGAAUUGCAGAAUUCCGUGAAUCAUCGAAUCUUUGAACGCACAUUGCGCCCCUUGGUAUUCCAGGGGGCAUGCCUGUUUGAGCGUCA sim: 0.32 match: >U09322.1/209-362\tAACUUUCAACAACGGAUCUCUUGGUUCUCGCAUCGAUGAAGAACGCAGCGAAUUGCGAUAAGUAUUGUGAAUUGCAGAUUUUCGUGAAUCAUCGAAUCUUUGAACGCACAUUGCGUCCUCUGGUAUUCCAGGGGGCAUGCCUGUUUGAGCGUCA\n"
       ]
      },
      {
       "output_type": "stream",
       "stream": "stdout",
       "text": [
        "frag: 1 seq: AACUUUCAACAACGGAUCUCUUGGUUCUCGCAUCGAUGAAGAACGCAGCGAAAUGCGAUACGUAAUGUGAAUUGCAGAAUUCCGUGAAUCAUCGAAUCUUUGAACGCACAUUGCGCCCCUUGGUAUUCCAGGGGGCAUGCCUGUUUGAGCGUCA sim: 0.31 match: >X90410.1/15-165\tAACUUUCAGCAAUGGAUCUCUUGGCUCUUGCAUCGAUGAAGAACGCAGCGAAAUGCGAUACGUAAUGUGAAUUGCAGAACGCGAGUCAUCGAAAUUUUGAACGCACAUUGCACUUGGUGGCAUUCCGCCAAGUAUGUUUGUUUGAGUGUCU\n"
       ]
      },
      {
       "output_type": "stream",
       "stream": "stdout",
       "text": [
        "frag: 1 seq: AACUUUCAACAACGGAUCUCUUGGUUCUCGCAUCGAUGAAGAACGCAGCGAAAUGCGAUACGUAAUGUGAAUUGCAGAAUUCCGUGAAUCAUCGAAUCUUUGAACGCACAUUGCGCCCCUUGGUAUUCCAGGGGGCAUGCCUGUUUGAGCGUCA sim: 0.32 match: >L07796.1/2-156\tAACUUUCAACAACGGAUCUCUUGGUUCUCGCAUCGAUGAAGAACGCAGCGAAAUGCCGAUACGUAAUAUGAAUUGCAGAUAUCCGUGAAUCAUCGAAUCUUUGAACGCACAUUGCGCCCUCUGGUAUUCCGGAGGGCAUGCCUGUUUGAGCGUCG\n"
       ]
      },
      {
       "output_type": "stream",
       "stream": "stdout",
       "text": [
        "frag: 1 seq: AACUUUCAACAACGGAUCUCUUGGUUCUCGCAUCGAUGAAGAACGCAGCGAAAUGCGAUACGUAAUGUGAAUUGCAGAAUUCCGUGAAUCAUCGAAUCUUUGAACGCACAUUGCGCCCCUUGGUAUUCCAGGGGGCAUGCCUGUUUGAGCGUCA sim: 0.31 match: >X80346.1/67-220\tAACUUUCAGCGAUGGAUAUCUUGGCUCUCGCAACGAUGAAGAACGCAGCGAAAUGCGAUACGUAAUGCGAAUUGCAGAAUUCAGUGAAUCAUCAAAACUUUGAACGCAAAUUGCGCUUCCGGGUAUCCCUGGGAGCAUGCCUGUAUGAGUGUCU\n"
       ]
      },
      {
       "output_type": "stream",
       "stream": "stdout",
       "text": [
        "frag: 1 seq: AACUUUCAACAACGGAUCUCUUGGUUCUCGCAUCGAUGAAGAACGCAGCGAAAUGCGAUACGUAAUGUGAAUUGCAGAAUUCCGUGAAUCAUCGAAUCUUUGAACGCACAUUGCGCCCCUUGGUAUUCCAGGGGGCAUGCCUGUUUGAGCGUCA sim: 0.31 match: >U10409.1/2025-2178\tAACUUUCAGCAACGGAUCUCUUGGUUCUCGCAUCGAUGAAGAACGCAGCGAAUUGCGAUAAGUAAUGUGAAUUGCAGAUUUUCGUGAAUCAUCGAAUCUUUGAACGCAUAUUGCGCUCUAUAGUAUUCUAUAGAGCAUGCCUGUUUGAGCGUCA\n"
       ]
      },
      {
       "output_type": "stream",
       "stream": "stdout",
       "text": [
        "frag: 1 seq: AACUUUCAACAACGGAUCUCUUGGUUCUCGCAUCGAUGAAGAACGCAGCGAAAUGCGAUACGUAAUGUGAAUUGCAGAAUUCCGUGAAUCAUCGAAUCUUUGAACGCACAUUGCGCCCCUUGGUAUUCCAGGGGGCAUGCCUGUUUGAGCGUCA sim: 0.33 match: >Z32848.1/2558-2712\tAACUUUCAGCAACGGAUCUCUUGGCUCUCGCAUCGAUGAAGAACGCAGCGAAAUGCGAUACGUAAUGUGAAUUGCAGAAUUCCGUGAAUCAUCGAAUCUUUGAACGCACAUUGCGCCUUUGGGUUAUUCCCAAAGGCAUGCCUGUUUGAGUGUCA\n"
       ]
      },
      {
       "output_type": "stream",
       "stream": "stdout",
       "text": [
        "frag: 1 seq: AACUUUCAACAACGGAUCUCUUGGUUCUCGCAUCGAUGAAGAACGCAGCGAAAUGCGAUACGUAAUGUGAAUUGCAGAAUUCCGUGAAUCAUCGAAUCUUUGAACGCACAUUGCGCCCCUUGGUAUUCCAGGGGGCAUGCCUGUUUGAGCGUCA sim: 0.33 match: >AJ229062.1/241-389\tAACUUUCAACAACGGAUCUCUUGGUUCUCGCAUCGAUGAAGAACGCAGCGAAAUGCGAUACGUAAUGUGAAUUGCAGAAUUCCGUGAAUCAUCGAAUCUUUGAACGCACAUUGCGCCCCUUGGUAUUCCAGGGGGCAUGCCUGUUUGAG\n"
       ]
      },
      {
       "output_type": "stream",
       "stream": "stdout",
       "text": [
        "frag: 1 seq: AACUUUCAACAACGGAUCUCUUGGUUCUCGCAUCGAUGAAGAACGCAGCGAAAUGCGAUACGUAAUGUGAAUUGCAGAAUUCCGUGAAUCAUCGAAUCUUUGAACGCACAUUGCGCCCCUUGGUAUUCCAGGGGGCAUGCCUGUUUGAGCGUCA sim: 0.31 match: >X60705.1/112-265\tAACUUUUAACAACGGAUCUCUUGGCUCUAGCAUCGAUGAAGAACGCAGCGAAACGCGAUAUGUAGUGUGAAUUGCAGAAUUCAGUGAAUCAUCGAAUCUUUGAACGCACAUGGCGCCUUCCAGUAUCCUGGGAGGCAUGCCUGUCCGAGCGUCG\n"
       ]
      },
      {
       "output_type": "stream",
       "stream": "stdout",
       "text": [
        "CPU times: user 481 ms, sys: 14.6 ms, total: 495 ms\n",
        "Wall time: 1.42 s\n"
       ]
      }
     ],
     "prompt_number": 10
    },
    {
     "cell_type": "code",
     "collapsed": false,
     "input": [],
     "language": "python",
     "metadata": {},
     "outputs": []
    }
   ],
   "metadata": {}
  }
 ]
}